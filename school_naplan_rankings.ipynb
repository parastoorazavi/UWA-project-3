{
 "metadata": {
  "language_info": {
   "codemirror_mode": {
    "name": "ipython",
    "version": 3
   },
   "file_extension": ".py",
   "mimetype": "text/x-python",
   "name": "python",
   "nbconvert_exporter": "python",
   "pygments_lexer": "ipython3",
   "version": "3.8.3-final"
  },
  "orig_nbformat": 2,
  "kernelspec": {
   "name": "python3",
   "display_name": "Python 3",
   "language": "python"
  }
 },
 "nbformat": 4,
 "nbformat_minor": 2,
 "cells": [
  {
   "source": [
    "## The purpose of this Jupyter Notebook is to create the NAPLAN WA High School rankings for 2019 which is the only year with NAPLAN score available we could find & create the table which will be loaded to the SQL database later on"
   ],
   "cell_type": "markdown",
   "metadata": {}
  },
  {
   "cell_type": "code",
   "execution_count": 11,
   "metadata": {},
   "outputs": [],
   "source": [
    "# import the required library\n",
    "import pandas as pd"
   ]
  },
  {
   "cell_type": "code",
   "execution_count": 12,
   "metadata": {},
   "outputs": [
    {
     "output_type": "execute_result",
     "data": {
      "text/plain": [
       "                                                School  Year  Rank   Level  \\\n",
       "0                                  Perth Modern School  2019     1  Year 9   \n",
       "1                 St Hilda's Anglican School for Girls  2019     2  Year 9   \n",
       "2                         Presbyterian Ladies' College  2019     3  Year 9   \n",
       "3                     St Mary's Anglican Girls' School  2019     4  Year 9   \n",
       "4                           Rehoboth Christian College  2019     5  Year 9   \n",
       "..                                                 ...   ...   ...     ...   \n",
       "188                            Mindarie Senior College  2019   189  Year 9   \n",
       "189                          Our Lady of Mercy College  2019   190  Year 9   \n",
       "190                           Sevenoaks Senior College  2019   191  Year 9   \n",
       "191  Western Australian College Of Agriculture - Cu...  2019   192  Year 9   \n",
       "192                                  Woodthorpe School  2019   193  Year 9   \n",
       "\n",
       "     Reading  Writing  Spelling  Grammar  Numeracy  Average  \n",
       "0        694      667       695      704       729    697.8  \n",
       "1        649      636       631      644       652    642.4  \n",
       "2        641      633       636      637       658    641.0  \n",
       "3        640      631       634      637       657    639.8  \n",
       "4        633      605       637      641       654    634.0  \n",
       "..       ...      ...       ...      ...       ...      ...  \n",
       "188        0        0         0        0         0      0.0  \n",
       "189        0        0         0        0         0      0.0  \n",
       "190        0        0         0        0         0      0.0  \n",
       "191        0        0         0        0         0      0.0  \n",
       "192        0        0         0        0         0      0.0  \n",
       "\n",
       "[193 rows x 10 columns]"
      ],
      "text/html": "<div>\n<style scoped>\n    .dataframe tbody tr th:only-of-type {\n        vertical-align: middle;\n    }\n\n    .dataframe tbody tr th {\n        vertical-align: top;\n    }\n\n    .dataframe thead th {\n        text-align: right;\n    }\n</style>\n<table border=\"1\" class=\"dataframe\">\n  <thead>\n    <tr style=\"text-align: right;\">\n      <th></th>\n      <th>School</th>\n      <th>Year</th>\n      <th>Rank</th>\n      <th>Level</th>\n      <th>Reading</th>\n      <th>Writing</th>\n      <th>Spelling</th>\n      <th>Grammar</th>\n      <th>Numeracy</th>\n      <th>Average</th>\n    </tr>\n  </thead>\n  <tbody>\n    <tr>\n      <th>0</th>\n      <td>Perth Modern School</td>\n      <td>2019</td>\n      <td>1</td>\n      <td>Year 9</td>\n      <td>694</td>\n      <td>667</td>\n      <td>695</td>\n      <td>704</td>\n      <td>729</td>\n      <td>697.8</td>\n    </tr>\n    <tr>\n      <th>1</th>\n      <td>St Hilda's Anglican School for Girls</td>\n      <td>2019</td>\n      <td>2</td>\n      <td>Year 9</td>\n      <td>649</td>\n      <td>636</td>\n      <td>631</td>\n      <td>644</td>\n      <td>652</td>\n      <td>642.4</td>\n    </tr>\n    <tr>\n      <th>2</th>\n      <td>Presbyterian Ladies' College</td>\n      <td>2019</td>\n      <td>3</td>\n      <td>Year 9</td>\n      <td>641</td>\n      <td>633</td>\n      <td>636</td>\n      <td>637</td>\n      <td>658</td>\n      <td>641.0</td>\n    </tr>\n    <tr>\n      <th>3</th>\n      <td>St Mary's Anglican Girls' School</td>\n      <td>2019</td>\n      <td>4</td>\n      <td>Year 9</td>\n      <td>640</td>\n      <td>631</td>\n      <td>634</td>\n      <td>637</td>\n      <td>657</td>\n      <td>639.8</td>\n    </tr>\n    <tr>\n      <th>4</th>\n      <td>Rehoboth Christian College</td>\n      <td>2019</td>\n      <td>5</td>\n      <td>Year 9</td>\n      <td>633</td>\n      <td>605</td>\n      <td>637</td>\n      <td>641</td>\n      <td>654</td>\n      <td>634.0</td>\n    </tr>\n    <tr>\n      <th>...</th>\n      <td>...</td>\n      <td>...</td>\n      <td>...</td>\n      <td>...</td>\n      <td>...</td>\n      <td>...</td>\n      <td>...</td>\n      <td>...</td>\n      <td>...</td>\n      <td>...</td>\n    </tr>\n    <tr>\n      <th>188</th>\n      <td>Mindarie Senior College</td>\n      <td>2019</td>\n      <td>189</td>\n      <td>Year 9</td>\n      <td>0</td>\n      <td>0</td>\n      <td>0</td>\n      <td>0</td>\n      <td>0</td>\n      <td>0.0</td>\n    </tr>\n    <tr>\n      <th>189</th>\n      <td>Our Lady of Mercy College</td>\n      <td>2019</td>\n      <td>190</td>\n      <td>Year 9</td>\n      <td>0</td>\n      <td>0</td>\n      <td>0</td>\n      <td>0</td>\n      <td>0</td>\n      <td>0.0</td>\n    </tr>\n    <tr>\n      <th>190</th>\n      <td>Sevenoaks Senior College</td>\n      <td>2019</td>\n      <td>191</td>\n      <td>Year 9</td>\n      <td>0</td>\n      <td>0</td>\n      <td>0</td>\n      <td>0</td>\n      <td>0</td>\n      <td>0.0</td>\n    </tr>\n    <tr>\n      <th>191</th>\n      <td>Western Australian College Of Agriculture - Cu...</td>\n      <td>2019</td>\n      <td>192</td>\n      <td>Year 9</td>\n      <td>0</td>\n      <td>0</td>\n      <td>0</td>\n      <td>0</td>\n      <td>0</td>\n      <td>0.0</td>\n    </tr>\n    <tr>\n      <th>192</th>\n      <td>Woodthorpe School</td>\n      <td>2019</td>\n      <td>193</td>\n      <td>Year 9</td>\n      <td>0</td>\n      <td>0</td>\n      <td>0</td>\n      <td>0</td>\n      <td>0</td>\n      <td>0.0</td>\n    </tr>\n  </tbody>\n</table>\n<p>193 rows × 10 columns</p>\n</div>"
     },
     "metadata": {},
     "execution_count": 12
    }
   ],
   "source": [
    "# read \"naplan_hs_2019\" csv file\n",
    "naplan = pd.read_csv(\"Resources/naplan_hs_2019.csv\")\n",
    "naplan"
   ]
  },
  {
   "cell_type": "code",
   "execution_count": 13,
   "metadata": {},
   "outputs": [
    {
     "output_type": "execute_result",
     "data": {
      "text/plain": [
       "                                         School         Suburb   Longitude  \\\n",
       "0                      Adam Road Primary School  South Bunbury  115.635371   \n",
       "1                     Al-Hidayah Islamic School        Bentley  115.911564   \n",
       "2                 Albany Community Kindergarten         Albany  117.880987   \n",
       "3                         Albany Primary School         Albany  117.891611   \n",
       "4     Albany Secondary Education Support Centre         Albany  117.866867   \n",
       "...                                         ...            ...         ...   \n",
       "1135                      Yuluma Primary School        Innaloo  115.789990   \n",
       "1136                        Yuna Primary School           Yuna  115.002648   \n",
       "1137                          Woodthorpe School      Willetton  115.901720   \n",
       "1138             St Stephen's School - Carramar       Carramar  115.788280   \n",
       "1139                 Bunbury John Calvin School     Carey Park  115.649560   \n",
       "\n",
       "       Latitude  \n",
       "0    -33.357951  \n",
       "1    -32.010358  \n",
       "2    -35.021460  \n",
       "3    -35.018212  \n",
       "4    -34.990749  \n",
       "...         ...  \n",
       "1135 -31.892268  \n",
       "1136 -28.326566  \n",
       "1137 -32.056540  \n",
       "1138 -31.717040  \n",
       "1139 -33.350970  \n",
       "\n",
       "[1140 rows x 4 columns]"
      ],
      "text/html": "<div>\n<style scoped>\n    .dataframe tbody tr th:only-of-type {\n        vertical-align: middle;\n    }\n\n    .dataframe tbody tr th {\n        vertical-align: top;\n    }\n\n    .dataframe thead th {\n        text-align: right;\n    }\n</style>\n<table border=\"1\" class=\"dataframe\">\n  <thead>\n    <tr style=\"text-align: right;\">\n      <th></th>\n      <th>School</th>\n      <th>Suburb</th>\n      <th>Longitude</th>\n      <th>Latitude</th>\n    </tr>\n  </thead>\n  <tbody>\n    <tr>\n      <th>0</th>\n      <td>Adam Road Primary School</td>\n      <td>South Bunbury</td>\n      <td>115.635371</td>\n      <td>-33.357951</td>\n    </tr>\n    <tr>\n      <th>1</th>\n      <td>Al-Hidayah Islamic School</td>\n      <td>Bentley</td>\n      <td>115.911564</td>\n      <td>-32.010358</td>\n    </tr>\n    <tr>\n      <th>2</th>\n      <td>Albany Community Kindergarten</td>\n      <td>Albany</td>\n      <td>117.880987</td>\n      <td>-35.021460</td>\n    </tr>\n    <tr>\n      <th>3</th>\n      <td>Albany Primary School</td>\n      <td>Albany</td>\n      <td>117.891611</td>\n      <td>-35.018212</td>\n    </tr>\n    <tr>\n      <th>4</th>\n      <td>Albany Secondary Education Support Centre</td>\n      <td>Albany</td>\n      <td>117.866867</td>\n      <td>-34.990749</td>\n    </tr>\n    <tr>\n      <th>...</th>\n      <td>...</td>\n      <td>...</td>\n      <td>...</td>\n      <td>...</td>\n    </tr>\n    <tr>\n      <th>1135</th>\n      <td>Yuluma Primary School</td>\n      <td>Innaloo</td>\n      <td>115.789990</td>\n      <td>-31.892268</td>\n    </tr>\n    <tr>\n      <th>1136</th>\n      <td>Yuna Primary School</td>\n      <td>Yuna</td>\n      <td>115.002648</td>\n      <td>-28.326566</td>\n    </tr>\n    <tr>\n      <th>1137</th>\n      <td>Woodthorpe School</td>\n      <td>Willetton</td>\n      <td>115.901720</td>\n      <td>-32.056540</td>\n    </tr>\n    <tr>\n      <th>1138</th>\n      <td>St Stephen's School - Carramar</td>\n      <td>Carramar</td>\n      <td>115.788280</td>\n      <td>-31.717040</td>\n    </tr>\n    <tr>\n      <th>1139</th>\n      <td>Bunbury John Calvin School</td>\n      <td>Carey Park</td>\n      <td>115.649560</td>\n      <td>-33.350970</td>\n    </tr>\n  </tbody>\n</table>\n<p>1140 rows × 4 columns</p>\n</div>"
     },
     "metadata": {},
     "execution_count": 13
    }
   ],
   "source": [
    "# read \"school_coordinates\" csv file\n",
    "coord = pd.read_csv(\"Resources/school_coordinates.csv\")\n",
    "coord"
   ]
  },
  {
   "cell_type": "code",
   "execution_count": 14,
   "metadata": {},
   "outputs": [],
   "source": [
    "# merge \"naplan\" Dataframe with \"coord\" Dataframe\n",
    "naplan_coord = pd.merge(naplan, coord, on='School', how='left')"
   ]
  },
  {
   "cell_type": "code",
   "execution_count": 15,
   "metadata": {},
   "outputs": [
    {
     "output_type": "execute_result",
     "data": {
      "text/plain": [
       "                                                School  Year  Rank   Level  \\\n",
       "0                                  Perth Modern School  2019     1  Year 9   \n",
       "1                 St Hilda's Anglican School for Girls  2019     2  Year 9   \n",
       "2                         Presbyterian Ladies' College  2019     3  Year 9   \n",
       "3                     St Mary's Anglican Girls' School  2019     4  Year 9   \n",
       "4                           Rehoboth Christian College  2019     5  Year 9   \n",
       "..                                                 ...   ...   ...     ...   \n",
       "188                            Mindarie Senior College  2019   189  Year 9   \n",
       "189                          Our Lady of Mercy College  2019   190  Year 9   \n",
       "190                           Sevenoaks Senior College  2019   191  Year 9   \n",
       "191  Western Australian College Of Agriculture - Cu...  2019   192  Year 9   \n",
       "192                                  Woodthorpe School  2019   193  Year 9   \n",
       "\n",
       "     Reading  Writing  Spelling  Grammar  Numeracy  Average            Suburb  \\\n",
       "0        694      667       695      704       729    697.8           Subiaco   \n",
       "1        649      636       631      644       652    642.4       Mosman Park   \n",
       "2        641      633       636      637       658    641.0  Peppermint Grove   \n",
       "3        640      631       634      637       657    639.8         Karrinyup   \n",
       "4        633      605       637      641       654    634.0           Kenwick   \n",
       "..       ...      ...       ...      ...       ...      ...               ...   \n",
       "188        0        0         0        0         0      0.0          Mindarie   \n",
       "189        0        0         0        0         0      0.0        Australind   \n",
       "190        0        0         0        0         0      0.0        Cannington   \n",
       "191        0        0         0        0         0      0.0         Cunderdin   \n",
       "192        0        0         0        0         0      0.0         Willetton   \n",
       "\n",
       "      Longitude   Latitude  \n",
       "0    115.836396 -31.945066  \n",
       "1    115.767812 -32.005047  \n",
       "2    115.764906 -31.993592  \n",
       "3    115.766244 -31.876971  \n",
       "4    115.977924 -32.031619  \n",
       "..          ...        ...  \n",
       "188  115.706050 -31.676979  \n",
       "189  115.740064 -33.270941  \n",
       "190  115.942305 -32.012479  \n",
       "191  117.230704 -31.626847  \n",
       "192  115.901720 -32.056540  \n",
       "\n",
       "[193 rows x 13 columns]"
      ],
      "text/html": "<div>\n<style scoped>\n    .dataframe tbody tr th:only-of-type {\n        vertical-align: middle;\n    }\n\n    .dataframe tbody tr th {\n        vertical-align: top;\n    }\n\n    .dataframe thead th {\n        text-align: right;\n    }\n</style>\n<table border=\"1\" class=\"dataframe\">\n  <thead>\n    <tr style=\"text-align: right;\">\n      <th></th>\n      <th>School</th>\n      <th>Year</th>\n      <th>Rank</th>\n      <th>Level</th>\n      <th>Reading</th>\n      <th>Writing</th>\n      <th>Spelling</th>\n      <th>Grammar</th>\n      <th>Numeracy</th>\n      <th>Average</th>\n      <th>Suburb</th>\n      <th>Longitude</th>\n      <th>Latitude</th>\n    </tr>\n  </thead>\n  <tbody>\n    <tr>\n      <th>0</th>\n      <td>Perth Modern School</td>\n      <td>2019</td>\n      <td>1</td>\n      <td>Year 9</td>\n      <td>694</td>\n      <td>667</td>\n      <td>695</td>\n      <td>704</td>\n      <td>729</td>\n      <td>697.8</td>\n      <td>Subiaco</td>\n      <td>115.836396</td>\n      <td>-31.945066</td>\n    </tr>\n    <tr>\n      <th>1</th>\n      <td>St Hilda's Anglican School for Girls</td>\n      <td>2019</td>\n      <td>2</td>\n      <td>Year 9</td>\n      <td>649</td>\n      <td>636</td>\n      <td>631</td>\n      <td>644</td>\n      <td>652</td>\n      <td>642.4</td>\n      <td>Mosman Park</td>\n      <td>115.767812</td>\n      <td>-32.005047</td>\n    </tr>\n    <tr>\n      <th>2</th>\n      <td>Presbyterian Ladies' College</td>\n      <td>2019</td>\n      <td>3</td>\n      <td>Year 9</td>\n      <td>641</td>\n      <td>633</td>\n      <td>636</td>\n      <td>637</td>\n      <td>658</td>\n      <td>641.0</td>\n      <td>Peppermint Grove</td>\n      <td>115.764906</td>\n      <td>-31.993592</td>\n    </tr>\n    <tr>\n      <th>3</th>\n      <td>St Mary's Anglican Girls' School</td>\n      <td>2019</td>\n      <td>4</td>\n      <td>Year 9</td>\n      <td>640</td>\n      <td>631</td>\n      <td>634</td>\n      <td>637</td>\n      <td>657</td>\n      <td>639.8</td>\n      <td>Karrinyup</td>\n      <td>115.766244</td>\n      <td>-31.876971</td>\n    </tr>\n    <tr>\n      <th>4</th>\n      <td>Rehoboth Christian College</td>\n      <td>2019</td>\n      <td>5</td>\n      <td>Year 9</td>\n      <td>633</td>\n      <td>605</td>\n      <td>637</td>\n      <td>641</td>\n      <td>654</td>\n      <td>634.0</td>\n      <td>Kenwick</td>\n      <td>115.977924</td>\n      <td>-32.031619</td>\n    </tr>\n    <tr>\n      <th>...</th>\n      <td>...</td>\n      <td>...</td>\n      <td>...</td>\n      <td>...</td>\n      <td>...</td>\n      <td>...</td>\n      <td>...</td>\n      <td>...</td>\n      <td>...</td>\n      <td>...</td>\n      <td>...</td>\n      <td>...</td>\n      <td>...</td>\n    </tr>\n    <tr>\n      <th>188</th>\n      <td>Mindarie Senior College</td>\n      <td>2019</td>\n      <td>189</td>\n      <td>Year 9</td>\n      <td>0</td>\n      <td>0</td>\n      <td>0</td>\n      <td>0</td>\n      <td>0</td>\n      <td>0.0</td>\n      <td>Mindarie</td>\n      <td>115.706050</td>\n      <td>-31.676979</td>\n    </tr>\n    <tr>\n      <th>189</th>\n      <td>Our Lady of Mercy College</td>\n      <td>2019</td>\n      <td>190</td>\n      <td>Year 9</td>\n      <td>0</td>\n      <td>0</td>\n      <td>0</td>\n      <td>0</td>\n      <td>0</td>\n      <td>0.0</td>\n      <td>Australind</td>\n      <td>115.740064</td>\n      <td>-33.270941</td>\n    </tr>\n    <tr>\n      <th>190</th>\n      <td>Sevenoaks Senior College</td>\n      <td>2019</td>\n      <td>191</td>\n      <td>Year 9</td>\n      <td>0</td>\n      <td>0</td>\n      <td>0</td>\n      <td>0</td>\n      <td>0</td>\n      <td>0.0</td>\n      <td>Cannington</td>\n      <td>115.942305</td>\n      <td>-32.012479</td>\n    </tr>\n    <tr>\n      <th>191</th>\n      <td>Western Australian College Of Agriculture - Cu...</td>\n      <td>2019</td>\n      <td>192</td>\n      <td>Year 9</td>\n      <td>0</td>\n      <td>0</td>\n      <td>0</td>\n      <td>0</td>\n      <td>0</td>\n      <td>0.0</td>\n      <td>Cunderdin</td>\n      <td>117.230704</td>\n      <td>-31.626847</td>\n    </tr>\n    <tr>\n      <th>192</th>\n      <td>Woodthorpe School</td>\n      <td>2019</td>\n      <td>193</td>\n      <td>Year 9</td>\n      <td>0</td>\n      <td>0</td>\n      <td>0</td>\n      <td>0</td>\n      <td>0</td>\n      <td>0.0</td>\n      <td>Willetton</td>\n      <td>115.901720</td>\n      <td>-32.056540</td>\n    </tr>\n  </tbody>\n</table>\n<p>193 rows × 13 columns</p>\n</div>"
     },
     "metadata": {},
     "execution_count": 15
    }
   ],
   "source": [
    "# display the merged Dataframe\n",
    "naplan_coord"
   ]
  },
  {
   "cell_type": "code",
   "execution_count": 16,
   "metadata": {},
   "outputs": [
    {
     "output_type": "execute_result",
     "data": {
      "text/plain": [
       "Empty DataFrame\n",
       "Columns: [School, Year, Rank, Level, Reading, Writing, Spelling, Grammar, Numeracy, Average, Suburb, Longitude, Latitude]\n",
       "Index: []"
      ],
      "text/html": "<div>\n<style scoped>\n    .dataframe tbody tr th:only-of-type {\n        vertical-align: middle;\n    }\n\n    .dataframe tbody tr th {\n        vertical-align: top;\n    }\n\n    .dataframe thead th {\n        text-align: right;\n    }\n</style>\n<table border=\"1\" class=\"dataframe\">\n  <thead>\n    <tr style=\"text-align: right;\">\n      <th></th>\n      <th>School</th>\n      <th>Year</th>\n      <th>Rank</th>\n      <th>Level</th>\n      <th>Reading</th>\n      <th>Writing</th>\n      <th>Spelling</th>\n      <th>Grammar</th>\n      <th>Numeracy</th>\n      <th>Average</th>\n      <th>Suburb</th>\n      <th>Longitude</th>\n      <th>Latitude</th>\n    </tr>\n  </thead>\n  <tbody>\n  </tbody>\n</table>\n</div>"
     },
     "metadata": {},
     "execution_count": 16
    }
   ],
   "source": [
    "# Check for NaN values\n",
    "# creating bool series True for NaN values  \n",
    "bool_series = pd.isnull(naplan_coord[\"Longitude\"])  \n",
    "    \n",
    "# filtering data  \n",
    "# displaying data only with \"Longitude\" = NaN\n",
    "naplan_coord[bool_series]"
   ]
  },
  {
   "cell_type": "code",
   "execution_count": 17,
   "metadata": {},
   "outputs": [
    {
     "output_type": "execute_result",
     "data": {
      "text/plain": [
       "                              School          Sector Gender   Religion\n",
       "0                   Mercedes College  Non-government  Girls   Catholic\n",
       "1                     Wesley College  Non-government   Boys  Christian\n",
       "2                    Penrhos College  Non-government  Girls    Uniting\n",
       "3                     Newman College  Non-government  Co-ed   Catholic\n",
       "4                 St Norbert College  Non-government  Co-ed   Catholic\n",
       "..                               ...             ...    ...        ...\n",
       "188  Bruce Rock District High School      Government  Co-ed    Secular\n",
       "189                 Shark Bay School      Government  Co-ed    Secular\n",
       "190   Pemberton District High School      Government  Co-ed    Secular\n",
       "191       Bunbury John Calvin School  Non-government  Co-ed  Christian\n",
       "192     Exmouth District High School      Government  Co-ed    Secular\n",
       "\n",
       "[193 rows x 4 columns]"
      ],
      "text/html": "<div>\n<style scoped>\n    .dataframe tbody tr th:only-of-type {\n        vertical-align: middle;\n    }\n\n    .dataframe tbody tr th {\n        vertical-align: top;\n    }\n\n    .dataframe thead th {\n        text-align: right;\n    }\n</style>\n<table border=\"1\" class=\"dataframe\">\n  <thead>\n    <tr style=\"text-align: right;\">\n      <th></th>\n      <th>School</th>\n      <th>Sector</th>\n      <th>Gender</th>\n      <th>Religion</th>\n    </tr>\n  </thead>\n  <tbody>\n    <tr>\n      <th>0</th>\n      <td>Mercedes College</td>\n      <td>Non-government</td>\n      <td>Girls</td>\n      <td>Catholic</td>\n    </tr>\n    <tr>\n      <th>1</th>\n      <td>Wesley College</td>\n      <td>Non-government</td>\n      <td>Boys</td>\n      <td>Christian</td>\n    </tr>\n    <tr>\n      <th>2</th>\n      <td>Penrhos College</td>\n      <td>Non-government</td>\n      <td>Girls</td>\n      <td>Uniting</td>\n    </tr>\n    <tr>\n      <th>3</th>\n      <td>Newman College</td>\n      <td>Non-government</td>\n      <td>Co-ed</td>\n      <td>Catholic</td>\n    </tr>\n    <tr>\n      <th>4</th>\n      <td>St Norbert College</td>\n      <td>Non-government</td>\n      <td>Co-ed</td>\n      <td>Catholic</td>\n    </tr>\n    <tr>\n      <th>...</th>\n      <td>...</td>\n      <td>...</td>\n      <td>...</td>\n      <td>...</td>\n    </tr>\n    <tr>\n      <th>188</th>\n      <td>Bruce Rock District High School</td>\n      <td>Government</td>\n      <td>Co-ed</td>\n      <td>Secular</td>\n    </tr>\n    <tr>\n      <th>189</th>\n      <td>Shark Bay School</td>\n      <td>Government</td>\n      <td>Co-ed</td>\n      <td>Secular</td>\n    </tr>\n    <tr>\n      <th>190</th>\n      <td>Pemberton District High School</td>\n      <td>Government</td>\n      <td>Co-ed</td>\n      <td>Secular</td>\n    </tr>\n    <tr>\n      <th>191</th>\n      <td>Bunbury John Calvin School</td>\n      <td>Non-government</td>\n      <td>Co-ed</td>\n      <td>Christian</td>\n    </tr>\n    <tr>\n      <th>192</th>\n      <td>Exmouth District High School</td>\n      <td>Government</td>\n      <td>Co-ed</td>\n      <td>Secular</td>\n    </tr>\n  </tbody>\n</table>\n<p>193 rows × 4 columns</p>\n</div>"
     },
     "metadata": {},
     "execution_count": 17
    }
   ],
   "source": [
    "# read \"sectors\" csv file\n",
    "sectors = pd.read_csv(\"Resources/sectors.csv\")\n",
    "sectors"
   ]
  },
  {
   "cell_type": "code",
   "execution_count": 18,
   "metadata": {},
   "outputs": [],
   "source": [
    "# merge \"naplan_coord\" Dataframe with \"sectors\" Dataframe\n",
    "wa_hs_naplan_ratings = pd.merge(naplan_coord, sectors, on='School', how='left')"
   ]
  },
  {
   "cell_type": "code",
   "execution_count": 19,
   "metadata": {},
   "outputs": [
    {
     "output_type": "execute_result",
     "data": {
      "text/plain": [
       "                                                School  Year  Rank   Level  \\\n",
       "0                                  Perth Modern School  2019     1  Year 9   \n",
       "1                 St Hilda's Anglican School for Girls  2019     2  Year 9   \n",
       "2                         Presbyterian Ladies' College  2019     3  Year 9   \n",
       "3                     St Mary's Anglican Girls' School  2019     4  Year 9   \n",
       "4                           Rehoboth Christian College  2019     5  Year 9   \n",
       "..                                                 ...   ...   ...     ...   \n",
       "188                            Mindarie Senior College  2019   189  Year 9   \n",
       "189                          Our Lady of Mercy College  2019   190  Year 9   \n",
       "190                           Sevenoaks Senior College  2019   191  Year 9   \n",
       "191  Western Australian College Of Agriculture - Cu...  2019   192  Year 9   \n",
       "192                                  Woodthorpe School  2019   193  Year 9   \n",
       "\n",
       "     Reading  Writing  Spelling  Grammar  Numeracy  Average            Suburb  \\\n",
       "0        694      667       695      704       729    697.8           Subiaco   \n",
       "1        649      636       631      644       652    642.4       Mosman Park   \n",
       "2        641      633       636      637       658    641.0  Peppermint Grove   \n",
       "3        640      631       634      637       657    639.8         Karrinyup   \n",
       "4        633      605       637      641       654    634.0           Kenwick   \n",
       "..       ...      ...       ...      ...       ...      ...               ...   \n",
       "188        0        0         0        0         0      0.0          Mindarie   \n",
       "189        0        0         0        0         0      0.0        Australind   \n",
       "190        0        0         0        0         0      0.0        Cannington   \n",
       "191        0        0         0        0         0      0.0         Cunderdin   \n",
       "192        0        0         0        0         0      0.0         Willetton   \n",
       "\n",
       "      Longitude   Latitude          Sector Gender            Religion  \n",
       "0    115.836396 -31.945066      Government  Co-ed             Secular  \n",
       "1    115.767812 -32.005047  Non-government  Girls            Anglican  \n",
       "2    115.764906 -31.993592  Non-government  Girls             Uniting  \n",
       "3    115.766244 -31.876971  Non-government  Girls            Anglican  \n",
       "4    115.977924 -32.031619  Non-government  Co-ed           Christian  \n",
       "..          ...        ...             ...    ...                 ...  \n",
       "188  115.706050 -31.676979  Non-government  Co-ed            Catholic  \n",
       "189  115.740064 -33.270941  Non-government  Co-ed            Catholic  \n",
       "190  115.942305 -32.012479      Government  Co-ed             Secular  \n",
       "191  117.230704 -31.626847      Government  Co-ed             Secular  \n",
       "192  115.901720 -32.056540  Non-government  Co-ed  Brethren Christian  \n",
       "\n",
       "[193 rows x 16 columns]"
      ],
      "text/html": "<div>\n<style scoped>\n    .dataframe tbody tr th:only-of-type {\n        vertical-align: middle;\n    }\n\n    .dataframe tbody tr th {\n        vertical-align: top;\n    }\n\n    .dataframe thead th {\n        text-align: right;\n    }\n</style>\n<table border=\"1\" class=\"dataframe\">\n  <thead>\n    <tr style=\"text-align: right;\">\n      <th></th>\n      <th>School</th>\n      <th>Year</th>\n      <th>Rank</th>\n      <th>Level</th>\n      <th>Reading</th>\n      <th>Writing</th>\n      <th>Spelling</th>\n      <th>Grammar</th>\n      <th>Numeracy</th>\n      <th>Average</th>\n      <th>Suburb</th>\n      <th>Longitude</th>\n      <th>Latitude</th>\n      <th>Sector</th>\n      <th>Gender</th>\n      <th>Religion</th>\n    </tr>\n  </thead>\n  <tbody>\n    <tr>\n      <th>0</th>\n      <td>Perth Modern School</td>\n      <td>2019</td>\n      <td>1</td>\n      <td>Year 9</td>\n      <td>694</td>\n      <td>667</td>\n      <td>695</td>\n      <td>704</td>\n      <td>729</td>\n      <td>697.8</td>\n      <td>Subiaco</td>\n      <td>115.836396</td>\n      <td>-31.945066</td>\n      <td>Government</td>\n      <td>Co-ed</td>\n      <td>Secular</td>\n    </tr>\n    <tr>\n      <th>1</th>\n      <td>St Hilda's Anglican School for Girls</td>\n      <td>2019</td>\n      <td>2</td>\n      <td>Year 9</td>\n      <td>649</td>\n      <td>636</td>\n      <td>631</td>\n      <td>644</td>\n      <td>652</td>\n      <td>642.4</td>\n      <td>Mosman Park</td>\n      <td>115.767812</td>\n      <td>-32.005047</td>\n      <td>Non-government</td>\n      <td>Girls</td>\n      <td>Anglican</td>\n    </tr>\n    <tr>\n      <th>2</th>\n      <td>Presbyterian Ladies' College</td>\n      <td>2019</td>\n      <td>3</td>\n      <td>Year 9</td>\n      <td>641</td>\n      <td>633</td>\n      <td>636</td>\n      <td>637</td>\n      <td>658</td>\n      <td>641.0</td>\n      <td>Peppermint Grove</td>\n      <td>115.764906</td>\n      <td>-31.993592</td>\n      <td>Non-government</td>\n      <td>Girls</td>\n      <td>Uniting</td>\n    </tr>\n    <tr>\n      <th>3</th>\n      <td>St Mary's Anglican Girls' School</td>\n      <td>2019</td>\n      <td>4</td>\n      <td>Year 9</td>\n      <td>640</td>\n      <td>631</td>\n      <td>634</td>\n      <td>637</td>\n      <td>657</td>\n      <td>639.8</td>\n      <td>Karrinyup</td>\n      <td>115.766244</td>\n      <td>-31.876971</td>\n      <td>Non-government</td>\n      <td>Girls</td>\n      <td>Anglican</td>\n    </tr>\n    <tr>\n      <th>4</th>\n      <td>Rehoboth Christian College</td>\n      <td>2019</td>\n      <td>5</td>\n      <td>Year 9</td>\n      <td>633</td>\n      <td>605</td>\n      <td>637</td>\n      <td>641</td>\n      <td>654</td>\n      <td>634.0</td>\n      <td>Kenwick</td>\n      <td>115.977924</td>\n      <td>-32.031619</td>\n      <td>Non-government</td>\n      <td>Co-ed</td>\n      <td>Christian</td>\n    </tr>\n    <tr>\n      <th>...</th>\n      <td>...</td>\n      <td>...</td>\n      <td>...</td>\n      <td>...</td>\n      <td>...</td>\n      <td>...</td>\n      <td>...</td>\n      <td>...</td>\n      <td>...</td>\n      <td>...</td>\n      <td>...</td>\n      <td>...</td>\n      <td>...</td>\n      <td>...</td>\n      <td>...</td>\n      <td>...</td>\n    </tr>\n    <tr>\n      <th>188</th>\n      <td>Mindarie Senior College</td>\n      <td>2019</td>\n      <td>189</td>\n      <td>Year 9</td>\n      <td>0</td>\n      <td>0</td>\n      <td>0</td>\n      <td>0</td>\n      <td>0</td>\n      <td>0.0</td>\n      <td>Mindarie</td>\n      <td>115.706050</td>\n      <td>-31.676979</td>\n      <td>Non-government</td>\n      <td>Co-ed</td>\n      <td>Catholic</td>\n    </tr>\n    <tr>\n      <th>189</th>\n      <td>Our Lady of Mercy College</td>\n      <td>2019</td>\n      <td>190</td>\n      <td>Year 9</td>\n      <td>0</td>\n      <td>0</td>\n      <td>0</td>\n      <td>0</td>\n      <td>0</td>\n      <td>0.0</td>\n      <td>Australind</td>\n      <td>115.740064</td>\n      <td>-33.270941</td>\n      <td>Non-government</td>\n      <td>Co-ed</td>\n      <td>Catholic</td>\n    </tr>\n    <tr>\n      <th>190</th>\n      <td>Sevenoaks Senior College</td>\n      <td>2019</td>\n      <td>191</td>\n      <td>Year 9</td>\n      <td>0</td>\n      <td>0</td>\n      <td>0</td>\n      <td>0</td>\n      <td>0</td>\n      <td>0.0</td>\n      <td>Cannington</td>\n      <td>115.942305</td>\n      <td>-32.012479</td>\n      <td>Government</td>\n      <td>Co-ed</td>\n      <td>Secular</td>\n    </tr>\n    <tr>\n      <th>191</th>\n      <td>Western Australian College Of Agriculture - Cu...</td>\n      <td>2019</td>\n      <td>192</td>\n      <td>Year 9</td>\n      <td>0</td>\n      <td>0</td>\n      <td>0</td>\n      <td>0</td>\n      <td>0</td>\n      <td>0.0</td>\n      <td>Cunderdin</td>\n      <td>117.230704</td>\n      <td>-31.626847</td>\n      <td>Government</td>\n      <td>Co-ed</td>\n      <td>Secular</td>\n    </tr>\n    <tr>\n      <th>192</th>\n      <td>Woodthorpe School</td>\n      <td>2019</td>\n      <td>193</td>\n      <td>Year 9</td>\n      <td>0</td>\n      <td>0</td>\n      <td>0</td>\n      <td>0</td>\n      <td>0</td>\n      <td>0.0</td>\n      <td>Willetton</td>\n      <td>115.901720</td>\n      <td>-32.056540</td>\n      <td>Non-government</td>\n      <td>Co-ed</td>\n      <td>Brethren Christian</td>\n    </tr>\n  </tbody>\n</table>\n<p>193 rows × 16 columns</p>\n</div>"
     },
     "metadata": {},
     "execution_count": 19
    }
   ],
   "source": [
    "# display the merged Dataframe\n",
    "wa_hs_naplan_ratings"
   ]
  },
  {
   "cell_type": "code",
   "execution_count": 20,
   "metadata": {},
   "outputs": [
    {
     "output_type": "execute_result",
     "data": {
      "text/plain": [
       "Empty DataFrame\n",
       "Columns: [School, Year, Rank, Level, Reading, Writing, Spelling, Grammar, Numeracy, Average, Suburb, Longitude, Latitude, Sector, Gender, Religion]\n",
       "Index: []"
      ],
      "text/html": "<div>\n<style scoped>\n    .dataframe tbody tr th:only-of-type {\n        vertical-align: middle;\n    }\n\n    .dataframe tbody tr th {\n        vertical-align: top;\n    }\n\n    .dataframe thead th {\n        text-align: right;\n    }\n</style>\n<table border=\"1\" class=\"dataframe\">\n  <thead>\n    <tr style=\"text-align: right;\">\n      <th></th>\n      <th>School</th>\n      <th>Year</th>\n      <th>Rank</th>\n      <th>Level</th>\n      <th>Reading</th>\n      <th>Writing</th>\n      <th>Spelling</th>\n      <th>Grammar</th>\n      <th>Numeracy</th>\n      <th>Average</th>\n      <th>Suburb</th>\n      <th>Longitude</th>\n      <th>Latitude</th>\n      <th>Sector</th>\n      <th>Gender</th>\n      <th>Religion</th>\n    </tr>\n  </thead>\n  <tbody>\n  </tbody>\n</table>\n</div>"
     },
     "metadata": {},
     "execution_count": 20
    }
   ],
   "source": [
    "# Check for NaN values\n",
    "# creating bool series True for NaN values  \n",
    "bool_series = pd.isnull(wa_hs_naplan_ratings[\"Religion\"])  \n",
    "    \n",
    "# filtering data  \n",
    "# displaying data only with \"Religion\" = NaN  \n",
    "wa_hs_naplan_ratings[bool_series]"
   ]
  },
  {
   "cell_type": "code",
   "execution_count": 21,
   "metadata": {},
   "outputs": [
    {
     "output_type": "execute_result",
     "data": {
      "text/plain": [
       "                                                School  ICSEA\n",
       "0                                  Perth Modern School   1239\n",
       "1                 St Hilda's Anglican School for Girls   1197\n",
       "2                         Christ Church Grammar School   1180\n",
       "3                         Rossmoyne Senior High School   1121\n",
       "4                     St Mary's Anglican Girls' School   1158\n",
       "..                                                 ...    ...\n",
       "188                               Manea Senior College   1022\n",
       "189                            Mindarie Senior College   1034\n",
       "190                          Our Lady of Mercy College   1035\n",
       "191                           Sevenoaks Senior College    976\n",
       "192  Western Australian College Of Agriculture - Cu...   1009\n",
       "\n",
       "[193 rows x 2 columns]"
      ],
      "text/html": "<div>\n<style scoped>\n    .dataframe tbody tr th:only-of-type {\n        vertical-align: middle;\n    }\n\n    .dataframe tbody tr th {\n        vertical-align: top;\n    }\n\n    .dataframe thead th {\n        text-align: right;\n    }\n</style>\n<table border=\"1\" class=\"dataframe\">\n  <thead>\n    <tr style=\"text-align: right;\">\n      <th></th>\n      <th>School</th>\n      <th>ICSEA</th>\n    </tr>\n  </thead>\n  <tbody>\n    <tr>\n      <th>0</th>\n      <td>Perth Modern School</td>\n      <td>1239</td>\n    </tr>\n    <tr>\n      <th>1</th>\n      <td>St Hilda's Anglican School for Girls</td>\n      <td>1197</td>\n    </tr>\n    <tr>\n      <th>2</th>\n      <td>Christ Church Grammar School</td>\n      <td>1180</td>\n    </tr>\n    <tr>\n      <th>3</th>\n      <td>Rossmoyne Senior High School</td>\n      <td>1121</td>\n    </tr>\n    <tr>\n      <th>4</th>\n      <td>St Mary's Anglican Girls' School</td>\n      <td>1158</td>\n    </tr>\n    <tr>\n      <th>...</th>\n      <td>...</td>\n      <td>...</td>\n    </tr>\n    <tr>\n      <th>188</th>\n      <td>Manea Senior College</td>\n      <td>1022</td>\n    </tr>\n    <tr>\n      <th>189</th>\n      <td>Mindarie Senior College</td>\n      <td>1034</td>\n    </tr>\n    <tr>\n      <th>190</th>\n      <td>Our Lady of Mercy College</td>\n      <td>1035</td>\n    </tr>\n    <tr>\n      <th>191</th>\n      <td>Sevenoaks Senior College</td>\n      <td>976</td>\n    </tr>\n    <tr>\n      <th>192</th>\n      <td>Western Australian College Of Agriculture - Cu...</td>\n      <td>1009</td>\n    </tr>\n  </tbody>\n</table>\n<p>193 rows × 2 columns</p>\n</div>"
     },
     "metadata": {},
     "execution_count": 21
    }
   ],
   "source": [
    "# read \"icsea_full\" csv file\n",
    "icsea = pd.read_csv(\"Resources/icsea_full.csv\")\n",
    "icsea"
   ]
  },
  {
   "cell_type": "code",
   "execution_count": 23,
   "metadata": {},
   "outputs": [],
   "source": [
    "# merge \"wa_hs_naplan_ratings\" Dataframe with \"icsea\" Dataframe\n",
    "wa_hs_naplan_ratings_2019 = pd.merge(wa_hs_naplan_ratings, icsea, on='School', how='left')"
   ]
  },
  {
   "cell_type": "code",
   "execution_count": 24,
   "metadata": {},
   "outputs": [
    {
     "output_type": "execute_result",
     "data": {
      "text/plain": [
       "                                                School  Year  Rank   Level  \\\n",
       "0                                  Perth Modern School  2019     1  Year 9   \n",
       "1                 St Hilda's Anglican School for Girls  2019     2  Year 9   \n",
       "2                         Presbyterian Ladies' College  2019     3  Year 9   \n",
       "3                     St Mary's Anglican Girls' School  2019     4  Year 9   \n",
       "4                           Rehoboth Christian College  2019     5  Year 9   \n",
       "..                                                 ...   ...   ...     ...   \n",
       "188                            Mindarie Senior College  2019   189  Year 9   \n",
       "189                          Our Lady of Mercy College  2019   190  Year 9   \n",
       "190                           Sevenoaks Senior College  2019   191  Year 9   \n",
       "191  Western Australian College Of Agriculture - Cu...  2019   192  Year 9   \n",
       "192                                  Woodthorpe School  2019   193  Year 9   \n",
       "\n",
       "     Reading  Writing  Spelling  Grammar  Numeracy  Average            Suburb  \\\n",
       "0        694      667       695      704       729    697.8           Subiaco   \n",
       "1        649      636       631      644       652    642.4       Mosman Park   \n",
       "2        641      633       636      637       658    641.0  Peppermint Grove   \n",
       "3        640      631       634      637       657    639.8         Karrinyup   \n",
       "4        633      605       637      641       654    634.0           Kenwick   \n",
       "..       ...      ...       ...      ...       ...      ...               ...   \n",
       "188        0        0         0        0         0      0.0          Mindarie   \n",
       "189        0        0         0        0         0      0.0        Australind   \n",
       "190        0        0         0        0         0      0.0        Cannington   \n",
       "191        0        0         0        0         0      0.0         Cunderdin   \n",
       "192        0        0         0        0         0      0.0         Willetton   \n",
       "\n",
       "      Longitude   Latitude          Sector Gender            Religion  ICSEA  \n",
       "0    115.836396 -31.945066      Government  Co-ed             Secular   1239  \n",
       "1    115.767812 -32.005047  Non-government  Girls            Anglican   1197  \n",
       "2    115.764906 -31.993592  Non-government  Girls             Uniting   1111  \n",
       "3    115.766244 -31.876971  Non-government  Girls            Anglican   1158  \n",
       "4    115.977924 -32.031619  Non-government  Co-ed           Christian   1114  \n",
       "..          ...        ...             ...    ...                 ...    ...  \n",
       "188  115.706050 -31.676979  Non-government  Co-ed            Catholic   1034  \n",
       "189  115.740064 -33.270941  Non-government  Co-ed            Catholic   1035  \n",
       "190  115.942305 -32.012479      Government  Co-ed             Secular    976  \n",
       "191  117.230704 -31.626847      Government  Co-ed             Secular   1009  \n",
       "192  115.901720 -32.056540  Non-government  Co-ed  Brethren Christian    983  \n",
       "\n",
       "[193 rows x 17 columns]"
      ],
      "text/html": "<div>\n<style scoped>\n    .dataframe tbody tr th:only-of-type {\n        vertical-align: middle;\n    }\n\n    .dataframe tbody tr th {\n        vertical-align: top;\n    }\n\n    .dataframe thead th {\n        text-align: right;\n    }\n</style>\n<table border=\"1\" class=\"dataframe\">\n  <thead>\n    <tr style=\"text-align: right;\">\n      <th></th>\n      <th>School</th>\n      <th>Year</th>\n      <th>Rank</th>\n      <th>Level</th>\n      <th>Reading</th>\n      <th>Writing</th>\n      <th>Spelling</th>\n      <th>Grammar</th>\n      <th>Numeracy</th>\n      <th>Average</th>\n      <th>Suburb</th>\n      <th>Longitude</th>\n      <th>Latitude</th>\n      <th>Sector</th>\n      <th>Gender</th>\n      <th>Religion</th>\n      <th>ICSEA</th>\n    </tr>\n  </thead>\n  <tbody>\n    <tr>\n      <th>0</th>\n      <td>Perth Modern School</td>\n      <td>2019</td>\n      <td>1</td>\n      <td>Year 9</td>\n      <td>694</td>\n      <td>667</td>\n      <td>695</td>\n      <td>704</td>\n      <td>729</td>\n      <td>697.8</td>\n      <td>Subiaco</td>\n      <td>115.836396</td>\n      <td>-31.945066</td>\n      <td>Government</td>\n      <td>Co-ed</td>\n      <td>Secular</td>\n      <td>1239</td>\n    </tr>\n    <tr>\n      <th>1</th>\n      <td>St Hilda's Anglican School for Girls</td>\n      <td>2019</td>\n      <td>2</td>\n      <td>Year 9</td>\n      <td>649</td>\n      <td>636</td>\n      <td>631</td>\n      <td>644</td>\n      <td>652</td>\n      <td>642.4</td>\n      <td>Mosman Park</td>\n      <td>115.767812</td>\n      <td>-32.005047</td>\n      <td>Non-government</td>\n      <td>Girls</td>\n      <td>Anglican</td>\n      <td>1197</td>\n    </tr>\n    <tr>\n      <th>2</th>\n      <td>Presbyterian Ladies' College</td>\n      <td>2019</td>\n      <td>3</td>\n      <td>Year 9</td>\n      <td>641</td>\n      <td>633</td>\n      <td>636</td>\n      <td>637</td>\n      <td>658</td>\n      <td>641.0</td>\n      <td>Peppermint Grove</td>\n      <td>115.764906</td>\n      <td>-31.993592</td>\n      <td>Non-government</td>\n      <td>Girls</td>\n      <td>Uniting</td>\n      <td>1111</td>\n    </tr>\n    <tr>\n      <th>3</th>\n      <td>St Mary's Anglican Girls' School</td>\n      <td>2019</td>\n      <td>4</td>\n      <td>Year 9</td>\n      <td>640</td>\n      <td>631</td>\n      <td>634</td>\n      <td>637</td>\n      <td>657</td>\n      <td>639.8</td>\n      <td>Karrinyup</td>\n      <td>115.766244</td>\n      <td>-31.876971</td>\n      <td>Non-government</td>\n      <td>Girls</td>\n      <td>Anglican</td>\n      <td>1158</td>\n    </tr>\n    <tr>\n      <th>4</th>\n      <td>Rehoboth Christian College</td>\n      <td>2019</td>\n      <td>5</td>\n      <td>Year 9</td>\n      <td>633</td>\n      <td>605</td>\n      <td>637</td>\n      <td>641</td>\n      <td>654</td>\n      <td>634.0</td>\n      <td>Kenwick</td>\n      <td>115.977924</td>\n      <td>-32.031619</td>\n      <td>Non-government</td>\n      <td>Co-ed</td>\n      <td>Christian</td>\n      <td>1114</td>\n    </tr>\n    <tr>\n      <th>...</th>\n      <td>...</td>\n      <td>...</td>\n      <td>...</td>\n      <td>...</td>\n      <td>...</td>\n      <td>...</td>\n      <td>...</td>\n      <td>...</td>\n      <td>...</td>\n      <td>...</td>\n      <td>...</td>\n      <td>...</td>\n      <td>...</td>\n      <td>...</td>\n      <td>...</td>\n      <td>...</td>\n      <td>...</td>\n    </tr>\n    <tr>\n      <th>188</th>\n      <td>Mindarie Senior College</td>\n      <td>2019</td>\n      <td>189</td>\n      <td>Year 9</td>\n      <td>0</td>\n      <td>0</td>\n      <td>0</td>\n      <td>0</td>\n      <td>0</td>\n      <td>0.0</td>\n      <td>Mindarie</td>\n      <td>115.706050</td>\n      <td>-31.676979</td>\n      <td>Non-government</td>\n      <td>Co-ed</td>\n      <td>Catholic</td>\n      <td>1034</td>\n    </tr>\n    <tr>\n      <th>189</th>\n      <td>Our Lady of Mercy College</td>\n      <td>2019</td>\n      <td>190</td>\n      <td>Year 9</td>\n      <td>0</td>\n      <td>0</td>\n      <td>0</td>\n      <td>0</td>\n      <td>0</td>\n      <td>0.0</td>\n      <td>Australind</td>\n      <td>115.740064</td>\n      <td>-33.270941</td>\n      <td>Non-government</td>\n      <td>Co-ed</td>\n      <td>Catholic</td>\n      <td>1035</td>\n    </tr>\n    <tr>\n      <th>190</th>\n      <td>Sevenoaks Senior College</td>\n      <td>2019</td>\n      <td>191</td>\n      <td>Year 9</td>\n      <td>0</td>\n      <td>0</td>\n      <td>0</td>\n      <td>0</td>\n      <td>0</td>\n      <td>0.0</td>\n      <td>Cannington</td>\n      <td>115.942305</td>\n      <td>-32.012479</td>\n      <td>Government</td>\n      <td>Co-ed</td>\n      <td>Secular</td>\n      <td>976</td>\n    </tr>\n    <tr>\n      <th>191</th>\n      <td>Western Australian College Of Agriculture - Cu...</td>\n      <td>2019</td>\n      <td>192</td>\n      <td>Year 9</td>\n      <td>0</td>\n      <td>0</td>\n      <td>0</td>\n      <td>0</td>\n      <td>0</td>\n      <td>0.0</td>\n      <td>Cunderdin</td>\n      <td>117.230704</td>\n      <td>-31.626847</td>\n      <td>Government</td>\n      <td>Co-ed</td>\n      <td>Secular</td>\n      <td>1009</td>\n    </tr>\n    <tr>\n      <th>192</th>\n      <td>Woodthorpe School</td>\n      <td>2019</td>\n      <td>193</td>\n      <td>Year 9</td>\n      <td>0</td>\n      <td>0</td>\n      <td>0</td>\n      <td>0</td>\n      <td>0</td>\n      <td>0.0</td>\n      <td>Willetton</td>\n      <td>115.901720</td>\n      <td>-32.056540</td>\n      <td>Non-government</td>\n      <td>Co-ed</td>\n      <td>Brethren Christian</td>\n      <td>983</td>\n    </tr>\n  </tbody>\n</table>\n<p>193 rows × 17 columns</p>\n</div>"
     },
     "metadata": {},
     "execution_count": 24
    }
   ],
   "source": [
    "# display the merged Dataframe\n",
    "wa_hs_naplan_ratings_2019"
   ]
  },
  {
   "cell_type": "code",
   "execution_count": 25,
   "metadata": {},
   "outputs": [
    {
     "output_type": "execute_result",
     "data": {
      "text/plain": [
       "Empty DataFrame\n",
       "Columns: [School, Year, Rank, Level, Reading, Writing, Spelling, Grammar, Numeracy, Average, Suburb, Longitude, Latitude, Sector, Gender, Religion, ICSEA]\n",
       "Index: []"
      ],
      "text/html": "<div>\n<style scoped>\n    .dataframe tbody tr th:only-of-type {\n        vertical-align: middle;\n    }\n\n    .dataframe tbody tr th {\n        vertical-align: top;\n    }\n\n    .dataframe thead th {\n        text-align: right;\n    }\n</style>\n<table border=\"1\" class=\"dataframe\">\n  <thead>\n    <tr style=\"text-align: right;\">\n      <th></th>\n      <th>School</th>\n      <th>Year</th>\n      <th>Rank</th>\n      <th>Level</th>\n      <th>Reading</th>\n      <th>Writing</th>\n      <th>Spelling</th>\n      <th>Grammar</th>\n      <th>Numeracy</th>\n      <th>Average</th>\n      <th>Suburb</th>\n      <th>Longitude</th>\n      <th>Latitude</th>\n      <th>Sector</th>\n      <th>Gender</th>\n      <th>Religion</th>\n      <th>ICSEA</th>\n    </tr>\n  </thead>\n  <tbody>\n  </tbody>\n</table>\n</div>"
     },
     "metadata": {},
     "execution_count": 25
    }
   ],
   "source": [
    "# Check for NaN values\n",
    "# creating bool series True for NaN values  \n",
    "bool_series = pd.isnull(wa_hs_naplan_ratings_2019[\"ICSEA\"])  \n",
    "    \n",
    "# filtering data  \n",
    "# displaying data only with \"Religion\" = NaN  \n",
    "wa_hs_naplan_ratings_2019[bool_series]"
   ]
  },
  {
   "cell_type": "code",
   "execution_count": 26,
   "metadata": {},
   "outputs": [],
   "source": [
    "# save the \"wa_hs_naplan_ratings_full\" dataframe to a CSV file\n",
    "wa_hs_naplan_ratings_2019.to_csv(\"Resources/wa_hs_naplan_ratings_2019.csv\", index = False)"
   ]
  },
  {
   "cell_type": "code",
   "execution_count": null,
   "metadata": {},
   "outputs": [],
   "source": []
  }
 ]
}