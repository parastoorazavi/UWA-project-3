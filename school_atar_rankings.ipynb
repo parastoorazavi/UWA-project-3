{
 "metadata": {
  "language_info": {
   "codemirror_mode": {
    "name": "ipython",
    "version": 3
   },
   "file_extension": ".py",
   "mimetype": "text/x-python",
   "name": "python",
   "nbconvert_exporter": "python",
   "pygments_lexer": "ipython3",
   "version": "3.8.3-final"
  },
  "orig_nbformat": 2,
  "kernelspec": {
   "name": "python3",
   "display_name": "Python 3",
   "language": "python"
  }
 },
 "nbformat": 4,
 "nbformat_minor": 2,
 "cells": [
  {
   "source": [
    "## The purpose of this Jupyter Notebook is to extract/scrape the ATAR WA High School rankings from 2016 - 2020 & create tables which are to be loaded to the SQL database later on"
   ],
   "cell_type": "markdown",
   "metadata": {}
  },
  {
   "cell_type": "code",
   "execution_count": 44,
   "metadata": {},
   "outputs": [],
   "source": [
    "# import the required library\n",
    "import pandas as pd"
   ]
  },
  {
   "cell_type": "code",
   "execution_count": 2,
   "metadata": {},
   "outputs": [
    {
     "output_type": "execute_result",
     "data": {
      "text/plain": [
       "     Year  Better Education Rank                                School  \\\n",
       "0    2020                      1                   Perth Modern School   \n",
       "1    2020                      2  St Hilda's Anglican School for Girls   \n",
       "2    2020                      3          Christ Church Grammar School   \n",
       "3    2020                      4                       Penrhos College   \n",
       "4    2020                      5             Methodist Ladies' College   \n",
       "..    ...                    ...                                   ...   \n",
       "134  2020                    135           Balcatta Senior High School   \n",
       "135  2020                    136         Safety Bay Senior High School   \n",
       "136  2020                    137          Darling Range Sports College   \n",
       "137  2020                    138                       Gilmore College   \n",
       "138  2020                    139                 Cecil Andrews College   \n",
       "\n",
       "     Median ATAR  No. eligible Yr 12 students  No. Students with an ATAR  \\\n",
       "0          97.55                          242                        242   \n",
       "1          92.70                          147                        134   \n",
       "2          92.50                          190                        175   \n",
       "3          90.65                          135                        116   \n",
       "4          90.55                          126                        112   \n",
       "..           ...                          ...                        ...   \n",
       "134        60.40                           76                         20   \n",
       "135        58.75                          115                         23   \n",
       "136        52.40                          129                         44   \n",
       "137        52.25                          141                         23   \n",
       "138        49.85                           77                         20   \n",
       "\n",
       "     % students with an ATAR  Trend / Compare  \n",
       "0                     100.00  Trend / Compare  \n",
       "1                      91.16  Trend / Compare  \n",
       "2                      92.11  Trend / Compare  \n",
       "3                      85.93  Trend / Compare  \n",
       "4                      88.89  Trend / Compare  \n",
       "..                       ...              ...  \n",
       "134                    26.32  Trend / Compare  \n",
       "135                    20.00  Trend / Compare  \n",
       "136                    34.11  Trend / Compare  \n",
       "137                    16.31  Trend / Compare  \n",
       "138                    25.97  Trend / Compare  \n",
       "\n",
       "[139 rows x 8 columns]"
      ],
      "text/html": "<div>\n<style scoped>\n    .dataframe tbody tr th:only-of-type {\n        vertical-align: middle;\n    }\n\n    .dataframe tbody tr th {\n        vertical-align: top;\n    }\n\n    .dataframe thead th {\n        text-align: right;\n    }\n</style>\n<table border=\"1\" class=\"dataframe\">\n  <thead>\n    <tr style=\"text-align: right;\">\n      <th></th>\n      <th>Year</th>\n      <th>Better Education Rank</th>\n      <th>School</th>\n      <th>Median ATAR</th>\n      <th>No. eligible Yr 12 students</th>\n      <th>No. Students with an ATAR</th>\n      <th>% students with an ATAR</th>\n      <th>Trend / Compare</th>\n    </tr>\n  </thead>\n  <tbody>\n    <tr>\n      <th>0</th>\n      <td>2020</td>\n      <td>1</td>\n      <td>Perth Modern School</td>\n      <td>97.55</td>\n      <td>242</td>\n      <td>242</td>\n      <td>100.00</td>\n      <td>Trend / Compare</td>\n    </tr>\n    <tr>\n      <th>1</th>\n      <td>2020</td>\n      <td>2</td>\n      <td>St Hilda's Anglican School for Girls</td>\n      <td>92.70</td>\n      <td>147</td>\n      <td>134</td>\n      <td>91.16</td>\n      <td>Trend / Compare</td>\n    </tr>\n    <tr>\n      <th>2</th>\n      <td>2020</td>\n      <td>3</td>\n      <td>Christ Church Grammar School</td>\n      <td>92.50</td>\n      <td>190</td>\n      <td>175</td>\n      <td>92.11</td>\n      <td>Trend / Compare</td>\n    </tr>\n    <tr>\n      <th>3</th>\n      <td>2020</td>\n      <td>4</td>\n      <td>Penrhos College</td>\n      <td>90.65</td>\n      <td>135</td>\n      <td>116</td>\n      <td>85.93</td>\n      <td>Trend / Compare</td>\n    </tr>\n    <tr>\n      <th>4</th>\n      <td>2020</td>\n      <td>5</td>\n      <td>Methodist Ladies' College</td>\n      <td>90.55</td>\n      <td>126</td>\n      <td>112</td>\n      <td>88.89</td>\n      <td>Trend / Compare</td>\n    </tr>\n    <tr>\n      <th>...</th>\n      <td>...</td>\n      <td>...</td>\n      <td>...</td>\n      <td>...</td>\n      <td>...</td>\n      <td>...</td>\n      <td>...</td>\n      <td>...</td>\n    </tr>\n    <tr>\n      <th>134</th>\n      <td>2020</td>\n      <td>135</td>\n      <td>Balcatta Senior High School</td>\n      <td>60.40</td>\n      <td>76</td>\n      <td>20</td>\n      <td>26.32</td>\n      <td>Trend / Compare</td>\n    </tr>\n    <tr>\n      <th>135</th>\n      <td>2020</td>\n      <td>136</td>\n      <td>Safety Bay Senior High School</td>\n      <td>58.75</td>\n      <td>115</td>\n      <td>23</td>\n      <td>20.00</td>\n      <td>Trend / Compare</td>\n    </tr>\n    <tr>\n      <th>136</th>\n      <td>2020</td>\n      <td>137</td>\n      <td>Darling Range Sports College</td>\n      <td>52.40</td>\n      <td>129</td>\n      <td>44</td>\n      <td>34.11</td>\n      <td>Trend / Compare</td>\n    </tr>\n    <tr>\n      <th>137</th>\n      <td>2020</td>\n      <td>138</td>\n      <td>Gilmore College</td>\n      <td>52.25</td>\n      <td>141</td>\n      <td>23</td>\n      <td>16.31</td>\n      <td>Trend / Compare</td>\n    </tr>\n    <tr>\n      <th>138</th>\n      <td>2020</td>\n      <td>139</td>\n      <td>Cecil Andrews College</td>\n      <td>49.85</td>\n      <td>77</td>\n      <td>20</td>\n      <td>25.97</td>\n      <td>Trend / Compare</td>\n    </tr>\n  </tbody>\n</table>\n<p>139 rows × 8 columns</p>\n</div>"
     },
     "metadata": {},
     "execution_count": 2
    }
   ],
   "source": [
    "# get the 2020 url WA schools\n",
    "url_secondary_wa_2020 =\"https://bettereducation.com.au/Results/WA/wace.aspx?yr=2020\"\n",
    "\n",
    "# Use panda's `read_html` to parse the 2020 ATAR url\n",
    "secondary_wa_2020 = pd.read_html(url_secondary_wa_2020, header=0)[0]\n",
    "\n",
    "# rename the \"Unnamed: 0\" column name\n",
    "secondary_wa_2020 = secondary_wa_2020.rename(columns = {\"Unnamed: 0\" : \"Year\"})\n",
    "\n",
    "# replace the values of the \"Year\" column\n",
    "secondary_wa_2020['Year'] = 2020\n",
    "secondary_wa_2020"
   ]
  },
  {
   "cell_type": "code",
   "execution_count": 3,
   "metadata": {},
   "outputs": [
    {
     "output_type": "execute_result",
     "data": {
      "text/plain": [
       "                                   School  Year  Rank  Median ATAR  \\\n",
       "0                     Perth Modern School  2020     1        97.55   \n",
       "1    St Hilda's Anglican School for Girls  2020     2        92.70   \n",
       "2            Christ Church Grammar School  2020     3        92.50   \n",
       "3                         Penrhos College  2020     4        90.65   \n",
       "4               Methodist Ladies' College  2020     5        90.55   \n",
       "..                                    ...   ...   ...          ...   \n",
       "134           Balcatta Senior High School  2020   135        60.40   \n",
       "135         Safety Bay Senior High School  2020   136        58.75   \n",
       "136          Darling Range Sports College  2020   137        52.40   \n",
       "137                       Gilmore College  2020   138        52.25   \n",
       "138                 Cecil Andrews College  2020   139        49.85   \n",
       "\n",
       "     No. eligible Yr 12 students  No. Students with an ATAR  \\\n",
       "0                            242                        242   \n",
       "1                            147                        134   \n",
       "2                            190                        175   \n",
       "3                            135                        116   \n",
       "4                            126                        112   \n",
       "..                           ...                        ...   \n",
       "134                           76                         20   \n",
       "135                          115                         23   \n",
       "136                          129                         44   \n",
       "137                          141                         23   \n",
       "138                           77                         20   \n",
       "\n",
       "     Percentage of students with an ATAR  \n",
       "0                                 100.00  \n",
       "1                                  91.16  \n",
       "2                                  92.11  \n",
       "3                                  85.93  \n",
       "4                                  88.89  \n",
       "..                                   ...  \n",
       "134                                26.32  \n",
       "135                                20.00  \n",
       "136                                34.11  \n",
       "137                                16.31  \n",
       "138                                25.97  \n",
       "\n",
       "[139 rows x 7 columns]"
      ],
      "text/html": "<div>\n<style scoped>\n    .dataframe tbody tr th:only-of-type {\n        vertical-align: middle;\n    }\n\n    .dataframe tbody tr th {\n        vertical-align: top;\n    }\n\n    .dataframe thead th {\n        text-align: right;\n    }\n</style>\n<table border=\"1\" class=\"dataframe\">\n  <thead>\n    <tr style=\"text-align: right;\">\n      <th></th>\n      <th>School</th>\n      <th>Year</th>\n      <th>Rank</th>\n      <th>Median ATAR</th>\n      <th>No. eligible Yr 12 students</th>\n      <th>No. Students with an ATAR</th>\n      <th>Percentage of students with an ATAR</th>\n    </tr>\n  </thead>\n  <tbody>\n    <tr>\n      <th>0</th>\n      <td>Perth Modern School</td>\n      <td>2020</td>\n      <td>1</td>\n      <td>97.55</td>\n      <td>242</td>\n      <td>242</td>\n      <td>100.00</td>\n    </tr>\n    <tr>\n      <th>1</th>\n      <td>St Hilda's Anglican School for Girls</td>\n      <td>2020</td>\n      <td>2</td>\n      <td>92.70</td>\n      <td>147</td>\n      <td>134</td>\n      <td>91.16</td>\n    </tr>\n    <tr>\n      <th>2</th>\n      <td>Christ Church Grammar School</td>\n      <td>2020</td>\n      <td>3</td>\n      <td>92.50</td>\n      <td>190</td>\n      <td>175</td>\n      <td>92.11</td>\n    </tr>\n    <tr>\n      <th>3</th>\n      <td>Penrhos College</td>\n      <td>2020</td>\n      <td>4</td>\n      <td>90.65</td>\n      <td>135</td>\n      <td>116</td>\n      <td>85.93</td>\n    </tr>\n    <tr>\n      <th>4</th>\n      <td>Methodist Ladies' College</td>\n      <td>2020</td>\n      <td>5</td>\n      <td>90.55</td>\n      <td>126</td>\n      <td>112</td>\n      <td>88.89</td>\n    </tr>\n    <tr>\n      <th>...</th>\n      <td>...</td>\n      <td>...</td>\n      <td>...</td>\n      <td>...</td>\n      <td>...</td>\n      <td>...</td>\n      <td>...</td>\n    </tr>\n    <tr>\n      <th>134</th>\n      <td>Balcatta Senior High School</td>\n      <td>2020</td>\n      <td>135</td>\n      <td>60.40</td>\n      <td>76</td>\n      <td>20</td>\n      <td>26.32</td>\n    </tr>\n    <tr>\n      <th>135</th>\n      <td>Safety Bay Senior High School</td>\n      <td>2020</td>\n      <td>136</td>\n      <td>58.75</td>\n      <td>115</td>\n      <td>23</td>\n      <td>20.00</td>\n    </tr>\n    <tr>\n      <th>136</th>\n      <td>Darling Range Sports College</td>\n      <td>2020</td>\n      <td>137</td>\n      <td>52.40</td>\n      <td>129</td>\n      <td>44</td>\n      <td>34.11</td>\n    </tr>\n    <tr>\n      <th>137</th>\n      <td>Gilmore College</td>\n      <td>2020</td>\n      <td>138</td>\n      <td>52.25</td>\n      <td>141</td>\n      <td>23</td>\n      <td>16.31</td>\n    </tr>\n    <tr>\n      <th>138</th>\n      <td>Cecil Andrews College</td>\n      <td>2020</td>\n      <td>139</td>\n      <td>49.85</td>\n      <td>77</td>\n      <td>20</td>\n      <td>25.97</td>\n    </tr>\n  </tbody>\n</table>\n<p>139 rows × 7 columns</p>\n</div>"
     },
     "metadata": {},
     "execution_count": 3
    }
   ],
   "source": [
    "# rename some column names to prevent issues when uploading the data to PostgreSQL later on (eg. % will cause an error)\n",
    "secondary_wa_2020 = secondary_wa_2020.rename(columns = {\"Better Education Rank\" : \"Rank\",\n",
    "                                                          \"% students with an ATAR\" : \"Percentage of students with an ATAR\"})\n",
    "\n",
    "# re-arrange the columns & delete the column \"Trend / Compare\" since it's not required\n",
    "secondary_wa_2020 = secondary_wa_2020[['School', 'Year', 'Rank', 'Median ATAR','No. eligible Yr 12 students', 'No. Students with an ATAR', 'Percentage of students with an ATAR']]\n",
    "secondary_wa_2020"
   ]
  },
  {
   "cell_type": "code",
   "execution_count": 4,
   "metadata": {},
   "outputs": [],
   "source": [
    "# replace some values to correct the spelling to prevent Null values when performing the merge with other Dataframes later on\n",
    "secondary_wa_2020[\"School\"].replace({\"Australian Islamic College\": \"Australian Islamic College - Dianella\", \n",
    "                       \"Christian Brothers College,Fremantle,WA,6160\": \"Christian Brothers' College\",\n",
    "                       \"Australian Islamic College (Kewdale)\": \"Australian Islamic College - Kewdale\",\n",
    "                       \"Serpentine-Jarrahdale Grammar School\": \"Court Grammar School\",\n",
    "                       \"Western Australian College of Agriculture (Cunderdin)\": \"Western Australian College Of Agriculture - Cunderdin\",\n",
    "                       \"Carey Baptist College,Harrisdale,WA,6112\": \"Carey Baptist College\",\n",
    "                       \"St Mary MacKillop College\": \"St Mary Mackillop College\",\n",
    "                       \"John Curtin College Of The Arts\": \"John Curtin College of The Arts\",\n",
    "                       \"St Stephen's School (Carramar)\": \"St Stephen's School - Carramar\",\n",
    "                       \"St Stephen's School (Duncraig)\": \"St Stephen's School - Duncraig\",\n",
    "                       \"St Stephen's School\": \"St Stephen's School - Carramar\",\n",
    "                       \"Irene McCormack Catholic Colle\": \"Irene McCormack Catholic College\",\n",
    "                       \"Swan Valley Anglican Community\": \"Swan Valley Anglican Community School\",\n",
    "                       \"John Curtin College Of The Arts\": \"John Curtin College of the Arts\",\n",
    "                       \"Peter Moyes Anglican Community\": \"Peter Moyes Anglican Community School\",\n",
    "                       \"Great Southern Grammar School\": \"Great Southern Grammar\"\n",
    "                        }, inplace=True)"
   ]
  },
  {
   "cell_type": "code",
   "execution_count": 5,
   "metadata": {},
   "outputs": [
    {
     "output_type": "execute_result",
     "data": {
      "text/plain": [
       "                                         School         Suburb   Longitude  \\\n",
       "0                      Adam Road Primary School  South Bunbury  115.635371   \n",
       "1                     Al-Hidayah Islamic School        Bentley  115.911564   \n",
       "2                 Albany Community Kindergarten         Albany  117.880987   \n",
       "3                         Albany Primary School         Albany  117.891611   \n",
       "4     Albany Secondary Education Support Centre         Albany  117.866867   \n",
       "...                                         ...            ...         ...   \n",
       "1135                      Yuluma Primary School        Innaloo  115.789990   \n",
       "1136                        Yuna Primary School           Yuna  115.002648   \n",
       "1137                          Woodthorpe School      Willetton  115.901720   \n",
       "1138             St Stephen's School - Carramar       Carramar  115.788280   \n",
       "1139                 Bunbury John Calvin School     Carey Park  115.649560   \n",
       "\n",
       "       Latitude  \n",
       "0    -33.357951  \n",
       "1    -32.010358  \n",
       "2    -35.021460  \n",
       "3    -35.018212  \n",
       "4    -34.990749  \n",
       "...         ...  \n",
       "1135 -31.892268  \n",
       "1136 -28.326566  \n",
       "1137 -32.056540  \n",
       "1138 -31.717040  \n",
       "1139 -33.350970  \n",
       "\n",
       "[1140 rows x 4 columns]"
      ],
      "text/html": "<div>\n<style scoped>\n    .dataframe tbody tr th:only-of-type {\n        vertical-align: middle;\n    }\n\n    .dataframe tbody tr th {\n        vertical-align: top;\n    }\n\n    .dataframe thead th {\n        text-align: right;\n    }\n</style>\n<table border=\"1\" class=\"dataframe\">\n  <thead>\n    <tr style=\"text-align: right;\">\n      <th></th>\n      <th>School</th>\n      <th>Suburb</th>\n      <th>Longitude</th>\n      <th>Latitude</th>\n    </tr>\n  </thead>\n  <tbody>\n    <tr>\n      <th>0</th>\n      <td>Adam Road Primary School</td>\n      <td>South Bunbury</td>\n      <td>115.635371</td>\n      <td>-33.357951</td>\n    </tr>\n    <tr>\n      <th>1</th>\n      <td>Al-Hidayah Islamic School</td>\n      <td>Bentley</td>\n      <td>115.911564</td>\n      <td>-32.010358</td>\n    </tr>\n    <tr>\n      <th>2</th>\n      <td>Albany Community Kindergarten</td>\n      <td>Albany</td>\n      <td>117.880987</td>\n      <td>-35.021460</td>\n    </tr>\n    <tr>\n      <th>3</th>\n      <td>Albany Primary School</td>\n      <td>Albany</td>\n      <td>117.891611</td>\n      <td>-35.018212</td>\n    </tr>\n    <tr>\n      <th>4</th>\n      <td>Albany Secondary Education Support Centre</td>\n      <td>Albany</td>\n      <td>117.866867</td>\n      <td>-34.990749</td>\n    </tr>\n    <tr>\n      <th>...</th>\n      <td>...</td>\n      <td>...</td>\n      <td>...</td>\n      <td>...</td>\n    </tr>\n    <tr>\n      <th>1135</th>\n      <td>Yuluma Primary School</td>\n      <td>Innaloo</td>\n      <td>115.789990</td>\n      <td>-31.892268</td>\n    </tr>\n    <tr>\n      <th>1136</th>\n      <td>Yuna Primary School</td>\n      <td>Yuna</td>\n      <td>115.002648</td>\n      <td>-28.326566</td>\n    </tr>\n    <tr>\n      <th>1137</th>\n      <td>Woodthorpe School</td>\n      <td>Willetton</td>\n      <td>115.901720</td>\n      <td>-32.056540</td>\n    </tr>\n    <tr>\n      <th>1138</th>\n      <td>St Stephen's School - Carramar</td>\n      <td>Carramar</td>\n      <td>115.788280</td>\n      <td>-31.717040</td>\n    </tr>\n    <tr>\n      <th>1139</th>\n      <td>Bunbury John Calvin School</td>\n      <td>Carey Park</td>\n      <td>115.649560</td>\n      <td>-33.350970</td>\n    </tr>\n  </tbody>\n</table>\n<p>1140 rows × 4 columns</p>\n</div>"
     },
     "metadata": {},
     "execution_count": 5
    }
   ],
   "source": [
    "# read \"school_coordinates\" csv file\n",
    "school_coordinates = pd.read_csv(\"Resources/school_coordinates.csv\")\n",
    "school_coordinates"
   ]
  },
  {
   "cell_type": "code",
   "execution_count": 6,
   "metadata": {},
   "outputs": [
    {
     "output_type": "execute_result",
     "data": {
      "text/plain": [
       "                                   School  Year  Rank  Median ATAR  \\\n",
       "0                     Perth Modern School  2020     1        97.55   \n",
       "1    St Hilda's Anglican School for Girls  2020     2        92.70   \n",
       "2            Christ Church Grammar School  2020     3        92.50   \n",
       "3                         Penrhos College  2020     4        90.65   \n",
       "4               Methodist Ladies' College  2020     5        90.55   \n",
       "..                                    ...   ...   ...          ...   \n",
       "134           Balcatta Senior High School  2020   135        60.40   \n",
       "135         Safety Bay Senior High School  2020   136        58.75   \n",
       "136          Darling Range Sports College  2020   137        52.40   \n",
       "137                       Gilmore College  2020   138        52.25   \n",
       "138                 Cecil Andrews College  2020   139        49.85   \n",
       "\n",
       "     No. eligible Yr 12 students  No. Students with an ATAR  \\\n",
       "0                            242                        242   \n",
       "1                            147                        134   \n",
       "2                            190                        175   \n",
       "3                            135                        116   \n",
       "4                            126                        112   \n",
       "..                           ...                        ...   \n",
       "134                           76                         20   \n",
       "135                          115                         23   \n",
       "136                          129                         44   \n",
       "137                          141                         23   \n",
       "138                           77                         20   \n",
       "\n",
       "     Percentage of students with an ATAR        Suburb   Longitude   Latitude  \n",
       "0                                 100.00       Subiaco  115.836396 -31.945066  \n",
       "1                                  91.16   Mosman Park  115.767812 -32.005047  \n",
       "2                                  92.11     Claremont  115.776987 -31.985461  \n",
       "3                                  85.93          Como  115.872539 -31.997431  \n",
       "4                                  88.89     Claremont  115.775540 -31.987012  \n",
       "..                                   ...           ...         ...        ...  \n",
       "134                                26.32      Balcatta  115.812243 -31.875517  \n",
       "135                                20.00    Safety Bay  115.740964 -32.303286  \n",
       "136                                34.11  Forrestfield  116.010860 -31.975661  \n",
       "137                                16.31        Orelia  115.814803 -32.238266  \n",
       "138                                25.97      Armadale  115.991883 -32.141187  \n",
       "\n",
       "[139 rows x 10 columns]"
      ],
      "text/html": "<div>\n<style scoped>\n    .dataframe tbody tr th:only-of-type {\n        vertical-align: middle;\n    }\n\n    .dataframe tbody tr th {\n        vertical-align: top;\n    }\n\n    .dataframe thead th {\n        text-align: right;\n    }\n</style>\n<table border=\"1\" class=\"dataframe\">\n  <thead>\n    <tr style=\"text-align: right;\">\n      <th></th>\n      <th>School</th>\n      <th>Year</th>\n      <th>Rank</th>\n      <th>Median ATAR</th>\n      <th>No. eligible Yr 12 students</th>\n      <th>No. Students with an ATAR</th>\n      <th>Percentage of students with an ATAR</th>\n      <th>Suburb</th>\n      <th>Longitude</th>\n      <th>Latitude</th>\n    </tr>\n  </thead>\n  <tbody>\n    <tr>\n      <th>0</th>\n      <td>Perth Modern School</td>\n      <td>2020</td>\n      <td>1</td>\n      <td>97.55</td>\n      <td>242</td>\n      <td>242</td>\n      <td>100.00</td>\n      <td>Subiaco</td>\n      <td>115.836396</td>\n      <td>-31.945066</td>\n    </tr>\n    <tr>\n      <th>1</th>\n      <td>St Hilda's Anglican School for Girls</td>\n      <td>2020</td>\n      <td>2</td>\n      <td>92.70</td>\n      <td>147</td>\n      <td>134</td>\n      <td>91.16</td>\n      <td>Mosman Park</td>\n      <td>115.767812</td>\n      <td>-32.005047</td>\n    </tr>\n    <tr>\n      <th>2</th>\n      <td>Christ Church Grammar School</td>\n      <td>2020</td>\n      <td>3</td>\n      <td>92.50</td>\n      <td>190</td>\n      <td>175</td>\n      <td>92.11</td>\n      <td>Claremont</td>\n      <td>115.776987</td>\n      <td>-31.985461</td>\n    </tr>\n    <tr>\n      <th>3</th>\n      <td>Penrhos College</td>\n      <td>2020</td>\n      <td>4</td>\n      <td>90.65</td>\n      <td>135</td>\n      <td>116</td>\n      <td>85.93</td>\n      <td>Como</td>\n      <td>115.872539</td>\n      <td>-31.997431</td>\n    </tr>\n    <tr>\n      <th>4</th>\n      <td>Methodist Ladies' College</td>\n      <td>2020</td>\n      <td>5</td>\n      <td>90.55</td>\n      <td>126</td>\n      <td>112</td>\n      <td>88.89</td>\n      <td>Claremont</td>\n      <td>115.775540</td>\n      <td>-31.987012</td>\n    </tr>\n    <tr>\n      <th>...</th>\n      <td>...</td>\n      <td>...</td>\n      <td>...</td>\n      <td>...</td>\n      <td>...</td>\n      <td>...</td>\n      <td>...</td>\n      <td>...</td>\n      <td>...</td>\n      <td>...</td>\n    </tr>\n    <tr>\n      <th>134</th>\n      <td>Balcatta Senior High School</td>\n      <td>2020</td>\n      <td>135</td>\n      <td>60.40</td>\n      <td>76</td>\n      <td>20</td>\n      <td>26.32</td>\n      <td>Balcatta</td>\n      <td>115.812243</td>\n      <td>-31.875517</td>\n    </tr>\n    <tr>\n      <th>135</th>\n      <td>Safety Bay Senior High School</td>\n      <td>2020</td>\n      <td>136</td>\n      <td>58.75</td>\n      <td>115</td>\n      <td>23</td>\n      <td>20.00</td>\n      <td>Safety Bay</td>\n      <td>115.740964</td>\n      <td>-32.303286</td>\n    </tr>\n    <tr>\n      <th>136</th>\n      <td>Darling Range Sports College</td>\n      <td>2020</td>\n      <td>137</td>\n      <td>52.40</td>\n      <td>129</td>\n      <td>44</td>\n      <td>34.11</td>\n      <td>Forrestfield</td>\n      <td>116.010860</td>\n      <td>-31.975661</td>\n    </tr>\n    <tr>\n      <th>137</th>\n      <td>Gilmore College</td>\n      <td>2020</td>\n      <td>138</td>\n      <td>52.25</td>\n      <td>141</td>\n      <td>23</td>\n      <td>16.31</td>\n      <td>Orelia</td>\n      <td>115.814803</td>\n      <td>-32.238266</td>\n    </tr>\n    <tr>\n      <th>138</th>\n      <td>Cecil Andrews College</td>\n      <td>2020</td>\n      <td>139</td>\n      <td>49.85</td>\n      <td>77</td>\n      <td>20</td>\n      <td>25.97</td>\n      <td>Armadale</td>\n      <td>115.991883</td>\n      <td>-32.141187</td>\n    </tr>\n  </tbody>\n</table>\n<p>139 rows × 10 columns</p>\n</div>"
     },
     "metadata": {},
     "execution_count": 6
    }
   ],
   "source": [
    "# Merge \"secondary_wa_2020\" & \"school_coordinates\" Dataframes\n",
    "wa_hs_atar_2020_coord = pd.merge(secondary_wa_2020, school_coordinates, on='School', how='left')\n",
    "wa_hs_atar_2020_coord"
   ]
  },
  {
   "cell_type": "code",
   "execution_count": 7,
   "metadata": {},
   "outputs": [
    {
     "output_type": "execute_result",
     "data": {
      "text/plain": [
       "Empty DataFrame\n",
       "Columns: [School, Year, Rank, Median ATAR, No. eligible Yr 12 students, No. Students with an ATAR, Percentage of students with an ATAR, Suburb, Longitude, Latitude]\n",
       "Index: []"
      ],
      "text/html": "<div>\n<style scoped>\n    .dataframe tbody tr th:only-of-type {\n        vertical-align: middle;\n    }\n\n    .dataframe tbody tr th {\n        vertical-align: top;\n    }\n\n    .dataframe thead th {\n        text-align: right;\n    }\n</style>\n<table border=\"1\" class=\"dataframe\">\n  <thead>\n    <tr style=\"text-align: right;\">\n      <th></th>\n      <th>School</th>\n      <th>Year</th>\n      <th>Rank</th>\n      <th>Median ATAR</th>\n      <th>No. eligible Yr 12 students</th>\n      <th>No. Students with an ATAR</th>\n      <th>Percentage of students with an ATAR</th>\n      <th>Suburb</th>\n      <th>Longitude</th>\n      <th>Latitude</th>\n    </tr>\n  </thead>\n  <tbody>\n  </tbody>\n</table>\n</div>"
     },
     "metadata": {},
     "execution_count": 7
    }
   ],
   "source": [
    "# Check for NaN values\n",
    "# creating bool series True for NaN values  \n",
    "bool_series = pd.isnull(wa_hs_atar_2020_coord[\"Longitude\"])  \n",
    "    \n",
    "# filtering data  \n",
    "# displaying data only with Gender = NaN  \n",
    "wa_hs_atar_2020_coord[bool_series]"
   ]
  },
  {
   "cell_type": "code",
   "execution_count": 8,
   "metadata": {},
   "outputs": [
    {
     "output_type": "execute_result",
     "data": {
      "text/plain": [
       "                              School          Sector Gender   Religion\n",
       "0                   Mercedes College  Non-government  Girls   Catholic\n",
       "1                     Wesley College  Non-government   Boys  Christian\n",
       "2                    Penrhos College  Non-government  Girls    Uniting\n",
       "3                     Newman College  Non-government  Co-ed   Catholic\n",
       "4                 St Norbert College  Non-government  Co-ed   Catholic\n",
       "..                               ...             ...    ...        ...\n",
       "188  Bruce Rock District High School      Government  Co-ed    Secular\n",
       "189                 Shark Bay School      Government  Co-ed    Secular\n",
       "190   Pemberton District High School      Government  Co-ed    Secular\n",
       "191       Bunbury John Calvin School  Non-government  Co-ed  Christian\n",
       "192     Exmouth District High School      Government  Co-ed    Secular\n",
       "\n",
       "[193 rows x 4 columns]"
      ],
      "text/html": "<div>\n<style scoped>\n    .dataframe tbody tr th:only-of-type {\n        vertical-align: middle;\n    }\n\n    .dataframe tbody tr th {\n        vertical-align: top;\n    }\n\n    .dataframe thead th {\n        text-align: right;\n    }\n</style>\n<table border=\"1\" class=\"dataframe\">\n  <thead>\n    <tr style=\"text-align: right;\">\n      <th></th>\n      <th>School</th>\n      <th>Sector</th>\n      <th>Gender</th>\n      <th>Religion</th>\n    </tr>\n  </thead>\n  <tbody>\n    <tr>\n      <th>0</th>\n      <td>Mercedes College</td>\n      <td>Non-government</td>\n      <td>Girls</td>\n      <td>Catholic</td>\n    </tr>\n    <tr>\n      <th>1</th>\n      <td>Wesley College</td>\n      <td>Non-government</td>\n      <td>Boys</td>\n      <td>Christian</td>\n    </tr>\n    <tr>\n      <th>2</th>\n      <td>Penrhos College</td>\n      <td>Non-government</td>\n      <td>Girls</td>\n      <td>Uniting</td>\n    </tr>\n    <tr>\n      <th>3</th>\n      <td>Newman College</td>\n      <td>Non-government</td>\n      <td>Co-ed</td>\n      <td>Catholic</td>\n    </tr>\n    <tr>\n      <th>4</th>\n      <td>St Norbert College</td>\n      <td>Non-government</td>\n      <td>Co-ed</td>\n      <td>Catholic</td>\n    </tr>\n    <tr>\n      <th>...</th>\n      <td>...</td>\n      <td>...</td>\n      <td>...</td>\n      <td>...</td>\n    </tr>\n    <tr>\n      <th>188</th>\n      <td>Bruce Rock District High School</td>\n      <td>Government</td>\n      <td>Co-ed</td>\n      <td>Secular</td>\n    </tr>\n    <tr>\n      <th>189</th>\n      <td>Shark Bay School</td>\n      <td>Government</td>\n      <td>Co-ed</td>\n      <td>Secular</td>\n    </tr>\n    <tr>\n      <th>190</th>\n      <td>Pemberton District High School</td>\n      <td>Government</td>\n      <td>Co-ed</td>\n      <td>Secular</td>\n    </tr>\n    <tr>\n      <th>191</th>\n      <td>Bunbury John Calvin School</td>\n      <td>Non-government</td>\n      <td>Co-ed</td>\n      <td>Christian</td>\n    </tr>\n    <tr>\n      <th>192</th>\n      <td>Exmouth District High School</td>\n      <td>Government</td>\n      <td>Co-ed</td>\n      <td>Secular</td>\n    </tr>\n  </tbody>\n</table>\n<p>193 rows × 4 columns</p>\n</div>"
     },
     "metadata": {},
     "execution_count": 8
    }
   ],
   "source": [
    "# read \"sectors\" csv file\n",
    "sectors = pd.read_csv(\"Resources/sectors.csv\")\n",
    "sectors"
   ]
  },
  {
   "cell_type": "code",
   "execution_count": 9,
   "metadata": {},
   "outputs": [
    {
     "output_type": "execute_result",
     "data": {
      "text/plain": [
       "                                   School  Year  Rank  Median ATAR  \\\n",
       "0                     Perth Modern School  2020     1        97.55   \n",
       "1    St Hilda's Anglican School for Girls  2020     2        92.70   \n",
       "2            Christ Church Grammar School  2020     3        92.50   \n",
       "3                         Penrhos College  2020     4        90.65   \n",
       "4               Methodist Ladies' College  2020     5        90.55   \n",
       "..                                    ...   ...   ...          ...   \n",
       "134           Balcatta Senior High School  2020   135        60.40   \n",
       "135         Safety Bay Senior High School  2020   136        58.75   \n",
       "136          Darling Range Sports College  2020   137        52.40   \n",
       "137                       Gilmore College  2020   138        52.25   \n",
       "138                 Cecil Andrews College  2020   139        49.85   \n",
       "\n",
       "     No. eligible Yr 12 students  No. Students with an ATAR  \\\n",
       "0                            242                        242   \n",
       "1                            147                        134   \n",
       "2                            190                        175   \n",
       "3                            135                        116   \n",
       "4                            126                        112   \n",
       "..                           ...                        ...   \n",
       "134                           76                         20   \n",
       "135                          115                         23   \n",
       "136                          129                         44   \n",
       "137                          141                         23   \n",
       "138                           77                         20   \n",
       "\n",
       "     Percentage of students with an ATAR        Suburb   Longitude   Latitude  \\\n",
       "0                                 100.00       Subiaco  115.836396 -31.945066   \n",
       "1                                  91.16   Mosman Park  115.767812 -32.005047   \n",
       "2                                  92.11     Claremont  115.776987 -31.985461   \n",
       "3                                  85.93          Como  115.872539 -31.997431   \n",
       "4                                  88.89     Claremont  115.775540 -31.987012   \n",
       "..                                   ...           ...         ...        ...   \n",
       "134                                26.32      Balcatta  115.812243 -31.875517   \n",
       "135                                20.00    Safety Bay  115.740964 -32.303286   \n",
       "136                                34.11  Forrestfield  116.010860 -31.975661   \n",
       "137                                16.31        Orelia  115.814803 -32.238266   \n",
       "138                                25.97      Armadale  115.991883 -32.141187   \n",
       "\n",
       "             Sector Gender   Religion  \n",
       "0        Government  Co-ed    Secular  \n",
       "1    Non-government  Girls   Anglican  \n",
       "2    Non-government   Boys   Anglican  \n",
       "3    Non-government  Girls    Uniting  \n",
       "4    Non-government  Girls  Methodist  \n",
       "..              ...    ...        ...  \n",
       "134      Government  Co-ed    Secular  \n",
       "135      Government  Co-ed    Secular  \n",
       "136      Government  Co-ed    Secular  \n",
       "137      Government  Co-ed    Secular  \n",
       "138      Government  Co-ed    Secular  \n",
       "\n",
       "[139 rows x 13 columns]"
      ],
      "text/html": "<div>\n<style scoped>\n    .dataframe tbody tr th:only-of-type {\n        vertical-align: middle;\n    }\n\n    .dataframe tbody tr th {\n        vertical-align: top;\n    }\n\n    .dataframe thead th {\n        text-align: right;\n    }\n</style>\n<table border=\"1\" class=\"dataframe\">\n  <thead>\n    <tr style=\"text-align: right;\">\n      <th></th>\n      <th>School</th>\n      <th>Year</th>\n      <th>Rank</th>\n      <th>Median ATAR</th>\n      <th>No. eligible Yr 12 students</th>\n      <th>No. Students with an ATAR</th>\n      <th>Percentage of students with an ATAR</th>\n      <th>Suburb</th>\n      <th>Longitude</th>\n      <th>Latitude</th>\n      <th>Sector</th>\n      <th>Gender</th>\n      <th>Religion</th>\n    </tr>\n  </thead>\n  <tbody>\n    <tr>\n      <th>0</th>\n      <td>Perth Modern School</td>\n      <td>2020</td>\n      <td>1</td>\n      <td>97.55</td>\n      <td>242</td>\n      <td>242</td>\n      <td>100.00</td>\n      <td>Subiaco</td>\n      <td>115.836396</td>\n      <td>-31.945066</td>\n      <td>Government</td>\n      <td>Co-ed</td>\n      <td>Secular</td>\n    </tr>\n    <tr>\n      <th>1</th>\n      <td>St Hilda's Anglican School for Girls</td>\n      <td>2020</td>\n      <td>2</td>\n      <td>92.70</td>\n      <td>147</td>\n      <td>134</td>\n      <td>91.16</td>\n      <td>Mosman Park</td>\n      <td>115.767812</td>\n      <td>-32.005047</td>\n      <td>Non-government</td>\n      <td>Girls</td>\n      <td>Anglican</td>\n    </tr>\n    <tr>\n      <th>2</th>\n      <td>Christ Church Grammar School</td>\n      <td>2020</td>\n      <td>3</td>\n      <td>92.50</td>\n      <td>190</td>\n      <td>175</td>\n      <td>92.11</td>\n      <td>Claremont</td>\n      <td>115.776987</td>\n      <td>-31.985461</td>\n      <td>Non-government</td>\n      <td>Boys</td>\n      <td>Anglican</td>\n    </tr>\n    <tr>\n      <th>3</th>\n      <td>Penrhos College</td>\n      <td>2020</td>\n      <td>4</td>\n      <td>90.65</td>\n      <td>135</td>\n      <td>116</td>\n      <td>85.93</td>\n      <td>Como</td>\n      <td>115.872539</td>\n      <td>-31.997431</td>\n      <td>Non-government</td>\n      <td>Girls</td>\n      <td>Uniting</td>\n    </tr>\n    <tr>\n      <th>4</th>\n      <td>Methodist Ladies' College</td>\n      <td>2020</td>\n      <td>5</td>\n      <td>90.55</td>\n      <td>126</td>\n      <td>112</td>\n      <td>88.89</td>\n      <td>Claremont</td>\n      <td>115.775540</td>\n      <td>-31.987012</td>\n      <td>Non-government</td>\n      <td>Girls</td>\n      <td>Methodist</td>\n    </tr>\n    <tr>\n      <th>...</th>\n      <td>...</td>\n      <td>...</td>\n      <td>...</td>\n      <td>...</td>\n      <td>...</td>\n      <td>...</td>\n      <td>...</td>\n      <td>...</td>\n      <td>...</td>\n      <td>...</td>\n      <td>...</td>\n      <td>...</td>\n      <td>...</td>\n    </tr>\n    <tr>\n      <th>134</th>\n      <td>Balcatta Senior High School</td>\n      <td>2020</td>\n      <td>135</td>\n      <td>60.40</td>\n      <td>76</td>\n      <td>20</td>\n      <td>26.32</td>\n      <td>Balcatta</td>\n      <td>115.812243</td>\n      <td>-31.875517</td>\n      <td>Government</td>\n      <td>Co-ed</td>\n      <td>Secular</td>\n    </tr>\n    <tr>\n      <th>135</th>\n      <td>Safety Bay Senior High School</td>\n      <td>2020</td>\n      <td>136</td>\n      <td>58.75</td>\n      <td>115</td>\n      <td>23</td>\n      <td>20.00</td>\n      <td>Safety Bay</td>\n      <td>115.740964</td>\n      <td>-32.303286</td>\n      <td>Government</td>\n      <td>Co-ed</td>\n      <td>Secular</td>\n    </tr>\n    <tr>\n      <th>136</th>\n      <td>Darling Range Sports College</td>\n      <td>2020</td>\n      <td>137</td>\n      <td>52.40</td>\n      <td>129</td>\n      <td>44</td>\n      <td>34.11</td>\n      <td>Forrestfield</td>\n      <td>116.010860</td>\n      <td>-31.975661</td>\n      <td>Government</td>\n      <td>Co-ed</td>\n      <td>Secular</td>\n    </tr>\n    <tr>\n      <th>137</th>\n      <td>Gilmore College</td>\n      <td>2020</td>\n      <td>138</td>\n      <td>52.25</td>\n      <td>141</td>\n      <td>23</td>\n      <td>16.31</td>\n      <td>Orelia</td>\n      <td>115.814803</td>\n      <td>-32.238266</td>\n      <td>Government</td>\n      <td>Co-ed</td>\n      <td>Secular</td>\n    </tr>\n    <tr>\n      <th>138</th>\n      <td>Cecil Andrews College</td>\n      <td>2020</td>\n      <td>139</td>\n      <td>49.85</td>\n      <td>77</td>\n      <td>20</td>\n      <td>25.97</td>\n      <td>Armadale</td>\n      <td>115.991883</td>\n      <td>-32.141187</td>\n      <td>Government</td>\n      <td>Co-ed</td>\n      <td>Secular</td>\n    </tr>\n  </tbody>\n</table>\n<p>139 rows × 13 columns</p>\n</div>"
     },
     "metadata": {},
     "execution_count": 9
    }
   ],
   "source": [
    "# Merge both \"wa_hs_atar_2020_coord\" & \"sectors\" Dataframes\n",
    "wa_hs_atar_2020 = pd.merge(wa_hs_atar_2020_coord, sectors, on='School', how='left')\n",
    "wa_hs_atar_2020"
   ]
  },
  {
   "cell_type": "code",
   "execution_count": 10,
   "metadata": {},
   "outputs": [
    {
     "output_type": "execute_result",
     "data": {
      "text/plain": [
       "Empty DataFrame\n",
       "Columns: [School, Year, Rank, Median ATAR, No. eligible Yr 12 students, No. Students with an ATAR, Percentage of students with an ATAR, Suburb, Longitude, Latitude, Sector, Gender, Religion]\n",
       "Index: []"
      ],
      "text/html": "<div>\n<style scoped>\n    .dataframe tbody tr th:only-of-type {\n        vertical-align: middle;\n    }\n\n    .dataframe tbody tr th {\n        vertical-align: top;\n    }\n\n    .dataframe thead th {\n        text-align: right;\n    }\n</style>\n<table border=\"1\" class=\"dataframe\">\n  <thead>\n    <tr style=\"text-align: right;\">\n      <th></th>\n      <th>School</th>\n      <th>Year</th>\n      <th>Rank</th>\n      <th>Median ATAR</th>\n      <th>No. eligible Yr 12 students</th>\n      <th>No. Students with an ATAR</th>\n      <th>Percentage of students with an ATAR</th>\n      <th>Suburb</th>\n      <th>Longitude</th>\n      <th>Latitude</th>\n      <th>Sector</th>\n      <th>Gender</th>\n      <th>Religion</th>\n    </tr>\n  </thead>\n  <tbody>\n  </tbody>\n</table>\n</div>"
     },
     "metadata": {},
     "execution_count": 10
    }
   ],
   "source": [
    "# Check for NaN values\n",
    "# creating bool series True for NaN values  \n",
    "bool_series = pd.isnull(wa_hs_atar_2020[\"Sector\"])  \n",
    "    \n",
    "# filtering data  \n",
    "# displaying data only with Gender = NaN  \n",
    "wa_hs_atar_2020[bool_series]"
   ]
  },
  {
   "cell_type": "code",
   "execution_count": 11,
   "metadata": {},
   "outputs": [],
   "source": [
    "# save the \"wa_hs_atar_2020\" Dataframe to a CSV file\n",
    "wa_hs_atar_2020.to_csv(\"Resources/wa_hs_atar_2020.csv\", index = False)"
   ]
  },
  {
   "cell_type": "code",
   "execution_count": 12,
   "metadata": {},
   "outputs": [
    {
     "output_type": "execute_result",
     "data": {
      "text/plain": [
       "     Year  Better Education Rank                            School  \\\n",
       "0    2019                      1               Perth Modern School   \n",
       "1    2019                      2                       Hale School   \n",
       "2    2019                      3      Christ Church Grammar School   \n",
       "3    2019                      4  St Mary's Anglican Girls' School   \n",
       "4    2019                      5      Presbyterian Ladies' College   \n",
       "..    ...                    ...                               ...   \n",
       "137  2019                    138        Warwick Senior High School   \n",
       "138  2019                    139          Byford Secondary College   \n",
       "139  2019                    140        Hedland Senior High School   \n",
       "140  2019                    141                  Merredin College   \n",
       "141  2019                    142    Joseph Banks Secondary College   \n",
       "\n",
       "     Median ATAR  No. eligible Yr 12 students  No. Students with an ATAR  \\\n",
       "0          96.75                          241                        238   \n",
       "1          92.85                          201                        177   \n",
       "2          92.50                          199                        178   \n",
       "3          91.15                          161                        137   \n",
       "4          90.75                          123                        116   \n",
       "..           ...                          ...                        ...   \n",
       "137        60.80                           77                         24   \n",
       "138        60.00                          134                         45   \n",
       "139        55.95                           80                         21   \n",
       "140        55.20                           54                         23   \n",
       "141        41.85                          171                         68   \n",
       "\n",
       "     % students with an ATAR  Trend / Compare  \n",
       "0                      98.76  Trend / Compare  \n",
       "1                      88.06  Trend / Compare  \n",
       "2                      89.45  Trend / Compare  \n",
       "3                      85.09  Trend / Compare  \n",
       "4                      94.31  Trend / Compare  \n",
       "..                       ...              ...  \n",
       "137                    31.17  Trend / Compare  \n",
       "138                    33.58  Trend / Compare  \n",
       "139                    26.25  Trend / Compare  \n",
       "140                    42.59  Trend / Compare  \n",
       "141                    39.77  Trend / Compare  \n",
       "\n",
       "[142 rows x 8 columns]"
      ],
      "text/html": "<div>\n<style scoped>\n    .dataframe tbody tr th:only-of-type {\n        vertical-align: middle;\n    }\n\n    .dataframe tbody tr th {\n        vertical-align: top;\n    }\n\n    .dataframe thead th {\n        text-align: right;\n    }\n</style>\n<table border=\"1\" class=\"dataframe\">\n  <thead>\n    <tr style=\"text-align: right;\">\n      <th></th>\n      <th>Year</th>\n      <th>Better Education Rank</th>\n      <th>School</th>\n      <th>Median ATAR</th>\n      <th>No. eligible Yr 12 students</th>\n      <th>No. Students with an ATAR</th>\n      <th>% students with an ATAR</th>\n      <th>Trend / Compare</th>\n    </tr>\n  </thead>\n  <tbody>\n    <tr>\n      <th>0</th>\n      <td>2019</td>\n      <td>1</td>\n      <td>Perth Modern School</td>\n      <td>96.75</td>\n      <td>241</td>\n      <td>238</td>\n      <td>98.76</td>\n      <td>Trend / Compare</td>\n    </tr>\n    <tr>\n      <th>1</th>\n      <td>2019</td>\n      <td>2</td>\n      <td>Hale School</td>\n      <td>92.85</td>\n      <td>201</td>\n      <td>177</td>\n      <td>88.06</td>\n      <td>Trend / Compare</td>\n    </tr>\n    <tr>\n      <th>2</th>\n      <td>2019</td>\n      <td>3</td>\n      <td>Christ Church Grammar School</td>\n      <td>92.50</td>\n      <td>199</td>\n      <td>178</td>\n      <td>89.45</td>\n      <td>Trend / Compare</td>\n    </tr>\n    <tr>\n      <th>3</th>\n      <td>2019</td>\n      <td>4</td>\n      <td>St Mary's Anglican Girls' School</td>\n      <td>91.15</td>\n      <td>161</td>\n      <td>137</td>\n      <td>85.09</td>\n      <td>Trend / Compare</td>\n    </tr>\n    <tr>\n      <th>4</th>\n      <td>2019</td>\n      <td>5</td>\n      <td>Presbyterian Ladies' College</td>\n      <td>90.75</td>\n      <td>123</td>\n      <td>116</td>\n      <td>94.31</td>\n      <td>Trend / Compare</td>\n    </tr>\n    <tr>\n      <th>...</th>\n      <td>...</td>\n      <td>...</td>\n      <td>...</td>\n      <td>...</td>\n      <td>...</td>\n      <td>...</td>\n      <td>...</td>\n      <td>...</td>\n    </tr>\n    <tr>\n      <th>137</th>\n      <td>2019</td>\n      <td>138</td>\n      <td>Warwick Senior High School</td>\n      <td>60.80</td>\n      <td>77</td>\n      <td>24</td>\n      <td>31.17</td>\n      <td>Trend / Compare</td>\n    </tr>\n    <tr>\n      <th>138</th>\n      <td>2019</td>\n      <td>139</td>\n      <td>Byford Secondary College</td>\n      <td>60.00</td>\n      <td>134</td>\n      <td>45</td>\n      <td>33.58</td>\n      <td>Trend / Compare</td>\n    </tr>\n    <tr>\n      <th>139</th>\n      <td>2019</td>\n      <td>140</td>\n      <td>Hedland Senior High School</td>\n      <td>55.95</td>\n      <td>80</td>\n      <td>21</td>\n      <td>26.25</td>\n      <td>Trend / Compare</td>\n    </tr>\n    <tr>\n      <th>140</th>\n      <td>2019</td>\n      <td>141</td>\n      <td>Merredin College</td>\n      <td>55.20</td>\n      <td>54</td>\n      <td>23</td>\n      <td>42.59</td>\n      <td>Trend / Compare</td>\n    </tr>\n    <tr>\n      <th>141</th>\n      <td>2019</td>\n      <td>142</td>\n      <td>Joseph Banks Secondary College</td>\n      <td>41.85</td>\n      <td>171</td>\n      <td>68</td>\n      <td>39.77</td>\n      <td>Trend / Compare</td>\n    </tr>\n  </tbody>\n</table>\n<p>142 rows × 8 columns</p>\n</div>"
     },
     "metadata": {},
     "execution_count": 12
    }
   ],
   "source": [
    "# get the 2019 url WA schools\n",
    "url_secondary_wa_2019 =\"https://bettereducation.com.au/Results/WA/wace.aspx?yr=2019\"\n",
    "\n",
    "# Use panda's `read_html` to parse the 2019 ATAR url\n",
    "secondary_wa_2019 = pd.read_html(url_secondary_wa_2019, header=0)[0]\n",
    "\n",
    "# rename the \"Unnamed: 0\" column name\n",
    "secondary_wa_2019 = secondary_wa_2019.rename(columns = {\"Unnamed: 0\" : \"Year\"})\n",
    "\n",
    "# replace the values of the \"Year\" column\n",
    "secondary_wa_2019['Year'] = 2019\n",
    "secondary_wa_2019"
   ]
  },
  {
   "cell_type": "code",
   "execution_count": 13,
   "metadata": {},
   "outputs": [
    {
     "output_type": "execute_result",
     "data": {
      "text/plain": [
       "                               School  Year  Rank  Median ATAR  \\\n",
       "0                 Perth Modern School  2019     1        96.75   \n",
       "1                         Hale School  2019     2        92.85   \n",
       "2        Christ Church Grammar School  2019     3        92.50   \n",
       "3    St Mary's Anglican Girls' School  2019     4        91.15   \n",
       "4        Presbyterian Ladies' College  2019     5        90.75   \n",
       "..                                ...   ...   ...          ...   \n",
       "137        Warwick Senior High School  2019   138        60.80   \n",
       "138          Byford Secondary College  2019   139        60.00   \n",
       "139        Hedland Senior High School  2019   140        55.95   \n",
       "140                  Merredin College  2019   141        55.20   \n",
       "141    Joseph Banks Secondary College  2019   142        41.85   \n",
       "\n",
       "     No. eligible Yr 12 students  No. Students with an ATAR  \\\n",
       "0                            241                        238   \n",
       "1                            201                        177   \n",
       "2                            199                        178   \n",
       "3                            161                        137   \n",
       "4                            123                        116   \n",
       "..                           ...                        ...   \n",
       "137                           77                         24   \n",
       "138                          134                         45   \n",
       "139                           80                         21   \n",
       "140                           54                         23   \n",
       "141                          171                         68   \n",
       "\n",
       "     Percentage of students with an ATAR  \n",
       "0                                  98.76  \n",
       "1                                  88.06  \n",
       "2                                  89.45  \n",
       "3                                  85.09  \n",
       "4                                  94.31  \n",
       "..                                   ...  \n",
       "137                                31.17  \n",
       "138                                33.58  \n",
       "139                                26.25  \n",
       "140                                42.59  \n",
       "141                                39.77  \n",
       "\n",
       "[142 rows x 7 columns]"
      ],
      "text/html": "<div>\n<style scoped>\n    .dataframe tbody tr th:only-of-type {\n        vertical-align: middle;\n    }\n\n    .dataframe tbody tr th {\n        vertical-align: top;\n    }\n\n    .dataframe thead th {\n        text-align: right;\n    }\n</style>\n<table border=\"1\" class=\"dataframe\">\n  <thead>\n    <tr style=\"text-align: right;\">\n      <th></th>\n      <th>School</th>\n      <th>Year</th>\n      <th>Rank</th>\n      <th>Median ATAR</th>\n      <th>No. eligible Yr 12 students</th>\n      <th>No. Students with an ATAR</th>\n      <th>Percentage of students with an ATAR</th>\n    </tr>\n  </thead>\n  <tbody>\n    <tr>\n      <th>0</th>\n      <td>Perth Modern School</td>\n      <td>2019</td>\n      <td>1</td>\n      <td>96.75</td>\n      <td>241</td>\n      <td>238</td>\n      <td>98.76</td>\n    </tr>\n    <tr>\n      <th>1</th>\n      <td>Hale School</td>\n      <td>2019</td>\n      <td>2</td>\n      <td>92.85</td>\n      <td>201</td>\n      <td>177</td>\n      <td>88.06</td>\n    </tr>\n    <tr>\n      <th>2</th>\n      <td>Christ Church Grammar School</td>\n      <td>2019</td>\n      <td>3</td>\n      <td>92.50</td>\n      <td>199</td>\n      <td>178</td>\n      <td>89.45</td>\n    </tr>\n    <tr>\n      <th>3</th>\n      <td>St Mary's Anglican Girls' School</td>\n      <td>2019</td>\n      <td>4</td>\n      <td>91.15</td>\n      <td>161</td>\n      <td>137</td>\n      <td>85.09</td>\n    </tr>\n    <tr>\n      <th>4</th>\n      <td>Presbyterian Ladies' College</td>\n      <td>2019</td>\n      <td>5</td>\n      <td>90.75</td>\n      <td>123</td>\n      <td>116</td>\n      <td>94.31</td>\n    </tr>\n    <tr>\n      <th>...</th>\n      <td>...</td>\n      <td>...</td>\n      <td>...</td>\n      <td>...</td>\n      <td>...</td>\n      <td>...</td>\n      <td>...</td>\n    </tr>\n    <tr>\n      <th>137</th>\n      <td>Warwick Senior High School</td>\n      <td>2019</td>\n      <td>138</td>\n      <td>60.80</td>\n      <td>77</td>\n      <td>24</td>\n      <td>31.17</td>\n    </tr>\n    <tr>\n      <th>138</th>\n      <td>Byford Secondary College</td>\n      <td>2019</td>\n      <td>139</td>\n      <td>60.00</td>\n      <td>134</td>\n      <td>45</td>\n      <td>33.58</td>\n    </tr>\n    <tr>\n      <th>139</th>\n      <td>Hedland Senior High School</td>\n      <td>2019</td>\n      <td>140</td>\n      <td>55.95</td>\n      <td>80</td>\n      <td>21</td>\n      <td>26.25</td>\n    </tr>\n    <tr>\n      <th>140</th>\n      <td>Merredin College</td>\n      <td>2019</td>\n      <td>141</td>\n      <td>55.20</td>\n      <td>54</td>\n      <td>23</td>\n      <td>42.59</td>\n    </tr>\n    <tr>\n      <th>141</th>\n      <td>Joseph Banks Secondary College</td>\n      <td>2019</td>\n      <td>142</td>\n      <td>41.85</td>\n      <td>171</td>\n      <td>68</td>\n      <td>39.77</td>\n    </tr>\n  </tbody>\n</table>\n<p>142 rows × 7 columns</p>\n</div>"
     },
     "metadata": {},
     "execution_count": 13
    }
   ],
   "source": [
    "# rename some column names to prevent issues when uploading the data to PostgreSQL later on (eg. % will cause an error)\n",
    "secondary_wa_2019 = secondary_wa_2019.rename(columns = {\"Better Education Rank\" : \"Rank\",\n",
    "                                                          \"% students with an ATAR\" : \"Percentage of students with an ATAR\"})\n",
    "\n",
    "# re-arrange the columns & delete the column \"Trend / Compare\" since it's not required\n",
    "secondary_wa_2019 = secondary_wa_2019[['School', 'Year', 'Rank', 'Median ATAR','No. eligible Yr 12 students', 'No. Students with an ATAR', 'Percentage of students with an ATAR']]\n",
    "\n",
    "secondary_wa_2019"
   ]
  },
  {
   "cell_type": "code",
   "execution_count": 14,
   "metadata": {},
   "outputs": [],
   "source": [
    "# replace some values to correct the spelling to prevent Null values when performing the merge with other Dataframes later on\n",
    "secondary_wa_2019[\"School\"].replace({\"Australian Islamic College\": \"Australian Islamic College - Dianella\", \n",
    "                       \"Christian Brothers College,Fremantle,WA,6160\": \"Christian Brothers' College\",\n",
    "                       \"Australian Islamic College (Kewdale)\": \"Australian Islamic College - Kewdale\",\n",
    "                       \"Serpentine-Jarrahdale Grammar School\": \"Court Grammar School\",\n",
    "                       \"Western Australian College of Agriculture (Cunderdin)\": \"Western Australian College Of Agriculture - Cunderdin\",\n",
    "                       \"Carey Baptist College,Harrisdale,WA,6112\": \"Carey Baptist College\",\n",
    "                       \"St Mary MacKillop College\": \"St Mary Mackillop College\",\n",
    "                       \"John Curtin College Of The Arts\": \"John Curtin College of The Arts\",\n",
    "                       \"St Stephen's School (Carramar)\": \"St Stephen's School - Carramar\",\n",
    "                       \"St Stephen's School (Duncraig)\": \"St Stephen's School - Duncraig\",\n",
    "                       \"St Stephen's School\": \"St Stephen's School - Carramar\",\n",
    "                       \"Irene McCormack Catholic Colle\": \"Irene McCormack Catholic College\",\n",
    "                       \"Swan Valley Anglican Community\": \"Swan Valley Anglican Community School\",\n",
    "                       \"John Curtin College Of The Arts\": \"John Curtin College of the Arts\",\n",
    "                       \"Peter Moyes Anglican Community\": \"Peter Moyes Anglican Community School\",\n",
    "                       \"Great Southern Grammar School\": \"Great Southern Grammar\"\n",
    "                        }, inplace=True)"
   ]
  },
  {
   "cell_type": "code",
   "execution_count": 15,
   "metadata": {},
   "outputs": [
    {
     "output_type": "execute_result",
     "data": {
      "text/plain": [
       "                               School  Year  Rank  Median ATAR  \\\n",
       "0                 Perth Modern School  2019     1        96.75   \n",
       "1                         Hale School  2019     2        92.85   \n",
       "2        Christ Church Grammar School  2019     3        92.50   \n",
       "3    St Mary's Anglican Girls' School  2019     4        91.15   \n",
       "4        Presbyterian Ladies' College  2019     5        90.75   \n",
       "..                                ...   ...   ...          ...   \n",
       "137        Warwick Senior High School  2019   138        60.80   \n",
       "138          Byford Secondary College  2019   139        60.00   \n",
       "139        Hedland Senior High School  2019   140        55.95   \n",
       "140                  Merredin College  2019   141        55.20   \n",
       "141    Joseph Banks Secondary College  2019   142        41.85   \n",
       "\n",
       "     No. eligible Yr 12 students  No. Students with an ATAR  \\\n",
       "0                            241                        238   \n",
       "1                            201                        177   \n",
       "2                            199                        178   \n",
       "3                            161                        137   \n",
       "4                            123                        116   \n",
       "..                           ...                        ...   \n",
       "137                           77                         24   \n",
       "138                          134                         45   \n",
       "139                           80                         21   \n",
       "140                           54                         23   \n",
       "141                          171                         68   \n",
       "\n",
       "     Percentage of students with an ATAR            Suburb   Longitude  \\\n",
       "0                                  98.76           Subiaco  115.836396   \n",
       "1                                  88.06     Wembley Downs  115.783783   \n",
       "2                                  89.45         Claremont  115.776987   \n",
       "3                                  85.09         Karrinyup  115.766244   \n",
       "4                                  94.31  Peppermint Grove  115.764906   \n",
       "..                                   ...               ...         ...   \n",
       "137                                31.17           Warwick  115.815429   \n",
       "138                                33.58            Byford  116.001879   \n",
       "139                                26.25     South Hedland  118.598616   \n",
       "140                                42.59          Merredin  118.284982   \n",
       "141                                39.77     Banksia Grove  115.796591   \n",
       "\n",
       "      Latitude  \n",
       "0   -31.945066  \n",
       "1   -31.912322  \n",
       "2   -31.985461  \n",
       "3   -31.876971  \n",
       "4   -31.993592  \n",
       "..         ...  \n",
       "137 -31.838675  \n",
       "138 -32.223432  \n",
       "139 -20.398789  \n",
       "140 -31.488090  \n",
       "141 -31.698674  \n",
       "\n",
       "[142 rows x 10 columns]"
      ],
      "text/html": "<div>\n<style scoped>\n    .dataframe tbody tr th:only-of-type {\n        vertical-align: middle;\n    }\n\n    .dataframe tbody tr th {\n        vertical-align: top;\n    }\n\n    .dataframe thead th {\n        text-align: right;\n    }\n</style>\n<table border=\"1\" class=\"dataframe\">\n  <thead>\n    <tr style=\"text-align: right;\">\n      <th></th>\n      <th>School</th>\n      <th>Year</th>\n      <th>Rank</th>\n      <th>Median ATAR</th>\n      <th>No. eligible Yr 12 students</th>\n      <th>No. Students with an ATAR</th>\n      <th>Percentage of students with an ATAR</th>\n      <th>Suburb</th>\n      <th>Longitude</th>\n      <th>Latitude</th>\n    </tr>\n  </thead>\n  <tbody>\n    <tr>\n      <th>0</th>\n      <td>Perth Modern School</td>\n      <td>2019</td>\n      <td>1</td>\n      <td>96.75</td>\n      <td>241</td>\n      <td>238</td>\n      <td>98.76</td>\n      <td>Subiaco</td>\n      <td>115.836396</td>\n      <td>-31.945066</td>\n    </tr>\n    <tr>\n      <th>1</th>\n      <td>Hale School</td>\n      <td>2019</td>\n      <td>2</td>\n      <td>92.85</td>\n      <td>201</td>\n      <td>177</td>\n      <td>88.06</td>\n      <td>Wembley Downs</td>\n      <td>115.783783</td>\n      <td>-31.912322</td>\n    </tr>\n    <tr>\n      <th>2</th>\n      <td>Christ Church Grammar School</td>\n      <td>2019</td>\n      <td>3</td>\n      <td>92.50</td>\n      <td>199</td>\n      <td>178</td>\n      <td>89.45</td>\n      <td>Claremont</td>\n      <td>115.776987</td>\n      <td>-31.985461</td>\n    </tr>\n    <tr>\n      <th>3</th>\n      <td>St Mary's Anglican Girls' School</td>\n      <td>2019</td>\n      <td>4</td>\n      <td>91.15</td>\n      <td>161</td>\n      <td>137</td>\n      <td>85.09</td>\n      <td>Karrinyup</td>\n      <td>115.766244</td>\n      <td>-31.876971</td>\n    </tr>\n    <tr>\n      <th>4</th>\n      <td>Presbyterian Ladies' College</td>\n      <td>2019</td>\n      <td>5</td>\n      <td>90.75</td>\n      <td>123</td>\n      <td>116</td>\n      <td>94.31</td>\n      <td>Peppermint Grove</td>\n      <td>115.764906</td>\n      <td>-31.993592</td>\n    </tr>\n    <tr>\n      <th>...</th>\n      <td>...</td>\n      <td>...</td>\n      <td>...</td>\n      <td>...</td>\n      <td>...</td>\n      <td>...</td>\n      <td>...</td>\n      <td>...</td>\n      <td>...</td>\n      <td>...</td>\n    </tr>\n    <tr>\n      <th>137</th>\n      <td>Warwick Senior High School</td>\n      <td>2019</td>\n      <td>138</td>\n      <td>60.80</td>\n      <td>77</td>\n      <td>24</td>\n      <td>31.17</td>\n      <td>Warwick</td>\n      <td>115.815429</td>\n      <td>-31.838675</td>\n    </tr>\n    <tr>\n      <th>138</th>\n      <td>Byford Secondary College</td>\n      <td>2019</td>\n      <td>139</td>\n      <td>60.00</td>\n      <td>134</td>\n      <td>45</td>\n      <td>33.58</td>\n      <td>Byford</td>\n      <td>116.001879</td>\n      <td>-32.223432</td>\n    </tr>\n    <tr>\n      <th>139</th>\n      <td>Hedland Senior High School</td>\n      <td>2019</td>\n      <td>140</td>\n      <td>55.95</td>\n      <td>80</td>\n      <td>21</td>\n      <td>26.25</td>\n      <td>South Hedland</td>\n      <td>118.598616</td>\n      <td>-20.398789</td>\n    </tr>\n    <tr>\n      <th>140</th>\n      <td>Merredin College</td>\n      <td>2019</td>\n      <td>141</td>\n      <td>55.20</td>\n      <td>54</td>\n      <td>23</td>\n      <td>42.59</td>\n      <td>Merredin</td>\n      <td>118.284982</td>\n      <td>-31.488090</td>\n    </tr>\n    <tr>\n      <th>141</th>\n      <td>Joseph Banks Secondary College</td>\n      <td>2019</td>\n      <td>142</td>\n      <td>41.85</td>\n      <td>171</td>\n      <td>68</td>\n      <td>39.77</td>\n      <td>Banksia Grove</td>\n      <td>115.796591</td>\n      <td>-31.698674</td>\n    </tr>\n  </tbody>\n</table>\n<p>142 rows × 10 columns</p>\n</div>"
     },
     "metadata": {},
     "execution_count": 15
    }
   ],
   "source": [
    "# Merge \"secondary_wa_2019\" & \"school_coordinates\" Dataframes\n",
    "wa_hs_atar_2019_coord = pd.merge(secondary_wa_2019, school_coordinates, on='School', how='left')\n",
    "wa_hs_atar_2019_coord"
   ]
  },
  {
   "cell_type": "code",
   "execution_count": 16,
   "metadata": {},
   "outputs": [
    {
     "output_type": "execute_result",
     "data": {
      "text/plain": [
       "Empty DataFrame\n",
       "Columns: [School, Year, Rank, Median ATAR, No. eligible Yr 12 students, No. Students with an ATAR, Percentage of students with an ATAR, Suburb, Longitude, Latitude]\n",
       "Index: []"
      ],
      "text/html": "<div>\n<style scoped>\n    .dataframe tbody tr th:only-of-type {\n        vertical-align: middle;\n    }\n\n    .dataframe tbody tr th {\n        vertical-align: top;\n    }\n\n    .dataframe thead th {\n        text-align: right;\n    }\n</style>\n<table border=\"1\" class=\"dataframe\">\n  <thead>\n    <tr style=\"text-align: right;\">\n      <th></th>\n      <th>School</th>\n      <th>Year</th>\n      <th>Rank</th>\n      <th>Median ATAR</th>\n      <th>No. eligible Yr 12 students</th>\n      <th>No. Students with an ATAR</th>\n      <th>Percentage of students with an ATAR</th>\n      <th>Suburb</th>\n      <th>Longitude</th>\n      <th>Latitude</th>\n    </tr>\n  </thead>\n  <tbody>\n  </tbody>\n</table>\n</div>"
     },
     "metadata": {},
     "execution_count": 16
    }
   ],
   "source": [
    "# Check for NaN values\n",
    "# creating bool series True for NaN values  \n",
    "bool_series = pd.isnull(wa_hs_atar_2019_coord[\"Longitude\"])  \n",
    "    \n",
    "# filtering data  \n",
    "# displaying data only with \"Longitude\" = NaN  \n",
    "wa_hs_atar_2019_coord[bool_series]"
   ]
  },
  {
   "cell_type": "code",
   "execution_count": 17,
   "metadata": {},
   "outputs": [
    {
     "output_type": "execute_result",
     "data": {
      "text/plain": [
       "                               School  Year  Rank  Median ATAR  \\\n",
       "0                 Perth Modern School  2019     1        96.75   \n",
       "1                         Hale School  2019     2        92.85   \n",
       "2        Christ Church Grammar School  2019     3        92.50   \n",
       "3    St Mary's Anglican Girls' School  2019     4        91.15   \n",
       "4        Presbyterian Ladies' College  2019     5        90.75   \n",
       "..                                ...   ...   ...          ...   \n",
       "137        Warwick Senior High School  2019   138        60.80   \n",
       "138          Byford Secondary College  2019   139        60.00   \n",
       "139        Hedland Senior High School  2019   140        55.95   \n",
       "140                  Merredin College  2019   141        55.20   \n",
       "141    Joseph Banks Secondary College  2019   142        41.85   \n",
       "\n",
       "     No. eligible Yr 12 students  No. Students with an ATAR  \\\n",
       "0                            241                        238   \n",
       "1                            201                        177   \n",
       "2                            199                        178   \n",
       "3                            161                        137   \n",
       "4                            123                        116   \n",
       "..                           ...                        ...   \n",
       "137                           77                         24   \n",
       "138                          134                         45   \n",
       "139                           80                         21   \n",
       "140                           54                         23   \n",
       "141                          171                         68   \n",
       "\n",
       "     Percentage of students with an ATAR            Suburb   Longitude  \\\n",
       "0                                  98.76           Subiaco  115.836396   \n",
       "1                                  88.06     Wembley Downs  115.783783   \n",
       "2                                  89.45         Claremont  115.776987   \n",
       "3                                  85.09         Karrinyup  115.766244   \n",
       "4                                  94.31  Peppermint Grove  115.764906   \n",
       "..                                   ...               ...         ...   \n",
       "137                                31.17           Warwick  115.815429   \n",
       "138                                33.58            Byford  116.001879   \n",
       "139                                26.25     South Hedland  118.598616   \n",
       "140                                42.59          Merredin  118.284982   \n",
       "141                                39.77     Banksia Grove  115.796591   \n",
       "\n",
       "      Latitude          Sector Gender  Religion  \n",
       "0   -31.945066      Government  Co-ed   Secular  \n",
       "1   -31.912322  Non-government   Boys  Anglican  \n",
       "2   -31.985461  Non-government   Boys  Anglican  \n",
       "3   -31.876971  Non-government  Girls  Anglican  \n",
       "4   -31.993592  Non-government  Girls   Uniting  \n",
       "..         ...             ...    ...       ...  \n",
       "137 -31.838675      Government  Co-ed   Secular  \n",
       "138 -32.223432      Government  Co-ed   Secular  \n",
       "139 -20.398789      Government  Co-ed   Secular  \n",
       "140 -31.488090      Government  Co-ed   Secular  \n",
       "141 -31.698674      Government  Co-ed   Secular  \n",
       "\n",
       "[142 rows x 13 columns]"
      ],
      "text/html": "<div>\n<style scoped>\n    .dataframe tbody tr th:only-of-type {\n        vertical-align: middle;\n    }\n\n    .dataframe tbody tr th {\n        vertical-align: top;\n    }\n\n    .dataframe thead th {\n        text-align: right;\n    }\n</style>\n<table border=\"1\" class=\"dataframe\">\n  <thead>\n    <tr style=\"text-align: right;\">\n      <th></th>\n      <th>School</th>\n      <th>Year</th>\n      <th>Rank</th>\n      <th>Median ATAR</th>\n      <th>No. eligible Yr 12 students</th>\n      <th>No. Students with an ATAR</th>\n      <th>Percentage of students with an ATAR</th>\n      <th>Suburb</th>\n      <th>Longitude</th>\n      <th>Latitude</th>\n      <th>Sector</th>\n      <th>Gender</th>\n      <th>Religion</th>\n    </tr>\n  </thead>\n  <tbody>\n    <tr>\n      <th>0</th>\n      <td>Perth Modern School</td>\n      <td>2019</td>\n      <td>1</td>\n      <td>96.75</td>\n      <td>241</td>\n      <td>238</td>\n      <td>98.76</td>\n      <td>Subiaco</td>\n      <td>115.836396</td>\n      <td>-31.945066</td>\n      <td>Government</td>\n      <td>Co-ed</td>\n      <td>Secular</td>\n    </tr>\n    <tr>\n      <th>1</th>\n      <td>Hale School</td>\n      <td>2019</td>\n      <td>2</td>\n      <td>92.85</td>\n      <td>201</td>\n      <td>177</td>\n      <td>88.06</td>\n      <td>Wembley Downs</td>\n      <td>115.783783</td>\n      <td>-31.912322</td>\n      <td>Non-government</td>\n      <td>Boys</td>\n      <td>Anglican</td>\n    </tr>\n    <tr>\n      <th>2</th>\n      <td>Christ Church Grammar School</td>\n      <td>2019</td>\n      <td>3</td>\n      <td>92.50</td>\n      <td>199</td>\n      <td>178</td>\n      <td>89.45</td>\n      <td>Claremont</td>\n      <td>115.776987</td>\n      <td>-31.985461</td>\n      <td>Non-government</td>\n      <td>Boys</td>\n      <td>Anglican</td>\n    </tr>\n    <tr>\n      <th>3</th>\n      <td>St Mary's Anglican Girls' School</td>\n      <td>2019</td>\n      <td>4</td>\n      <td>91.15</td>\n      <td>161</td>\n      <td>137</td>\n      <td>85.09</td>\n      <td>Karrinyup</td>\n      <td>115.766244</td>\n      <td>-31.876971</td>\n      <td>Non-government</td>\n      <td>Girls</td>\n      <td>Anglican</td>\n    </tr>\n    <tr>\n      <th>4</th>\n      <td>Presbyterian Ladies' College</td>\n      <td>2019</td>\n      <td>5</td>\n      <td>90.75</td>\n      <td>123</td>\n      <td>116</td>\n      <td>94.31</td>\n      <td>Peppermint Grove</td>\n      <td>115.764906</td>\n      <td>-31.993592</td>\n      <td>Non-government</td>\n      <td>Girls</td>\n      <td>Uniting</td>\n    </tr>\n    <tr>\n      <th>...</th>\n      <td>...</td>\n      <td>...</td>\n      <td>...</td>\n      <td>...</td>\n      <td>...</td>\n      <td>...</td>\n      <td>...</td>\n      <td>...</td>\n      <td>...</td>\n      <td>...</td>\n      <td>...</td>\n      <td>...</td>\n      <td>...</td>\n    </tr>\n    <tr>\n      <th>137</th>\n      <td>Warwick Senior High School</td>\n      <td>2019</td>\n      <td>138</td>\n      <td>60.80</td>\n      <td>77</td>\n      <td>24</td>\n      <td>31.17</td>\n      <td>Warwick</td>\n      <td>115.815429</td>\n      <td>-31.838675</td>\n      <td>Government</td>\n      <td>Co-ed</td>\n      <td>Secular</td>\n    </tr>\n    <tr>\n      <th>138</th>\n      <td>Byford Secondary College</td>\n      <td>2019</td>\n      <td>139</td>\n      <td>60.00</td>\n      <td>134</td>\n      <td>45</td>\n      <td>33.58</td>\n      <td>Byford</td>\n      <td>116.001879</td>\n      <td>-32.223432</td>\n      <td>Government</td>\n      <td>Co-ed</td>\n      <td>Secular</td>\n    </tr>\n    <tr>\n      <th>139</th>\n      <td>Hedland Senior High School</td>\n      <td>2019</td>\n      <td>140</td>\n      <td>55.95</td>\n      <td>80</td>\n      <td>21</td>\n      <td>26.25</td>\n      <td>South Hedland</td>\n      <td>118.598616</td>\n      <td>-20.398789</td>\n      <td>Government</td>\n      <td>Co-ed</td>\n      <td>Secular</td>\n    </tr>\n    <tr>\n      <th>140</th>\n      <td>Merredin College</td>\n      <td>2019</td>\n      <td>141</td>\n      <td>55.20</td>\n      <td>54</td>\n      <td>23</td>\n      <td>42.59</td>\n      <td>Merredin</td>\n      <td>118.284982</td>\n      <td>-31.488090</td>\n      <td>Government</td>\n      <td>Co-ed</td>\n      <td>Secular</td>\n    </tr>\n    <tr>\n      <th>141</th>\n      <td>Joseph Banks Secondary College</td>\n      <td>2019</td>\n      <td>142</td>\n      <td>41.85</td>\n      <td>171</td>\n      <td>68</td>\n      <td>39.77</td>\n      <td>Banksia Grove</td>\n      <td>115.796591</td>\n      <td>-31.698674</td>\n      <td>Government</td>\n      <td>Co-ed</td>\n      <td>Secular</td>\n    </tr>\n  </tbody>\n</table>\n<p>142 rows × 13 columns</p>\n</div>"
     },
     "metadata": {},
     "execution_count": 17
    }
   ],
   "source": [
    "# Merge both \"wa_hs_atar_2019_coord\" & \"sectors\" Dataframes\n",
    "wa_hs_atar_2019 = pd.merge(wa_hs_atar_2019_coord, sectors, on='School', how='left')\n",
    "wa_hs_atar_2019"
   ]
  },
  {
   "cell_type": "code",
   "execution_count": 18,
   "metadata": {},
   "outputs": [
    {
     "output_type": "execute_result",
     "data": {
      "text/plain": [
       "Empty DataFrame\n",
       "Columns: [School, Year, Rank, Median ATAR, No. eligible Yr 12 students, No. Students with an ATAR, Percentage of students with an ATAR, Suburb, Longitude, Latitude, Sector, Gender, Religion]\n",
       "Index: []"
      ],
      "text/html": "<div>\n<style scoped>\n    .dataframe tbody tr th:only-of-type {\n        vertical-align: middle;\n    }\n\n    .dataframe tbody tr th {\n        vertical-align: top;\n    }\n\n    .dataframe thead th {\n        text-align: right;\n    }\n</style>\n<table border=\"1\" class=\"dataframe\">\n  <thead>\n    <tr style=\"text-align: right;\">\n      <th></th>\n      <th>School</th>\n      <th>Year</th>\n      <th>Rank</th>\n      <th>Median ATAR</th>\n      <th>No. eligible Yr 12 students</th>\n      <th>No. Students with an ATAR</th>\n      <th>Percentage of students with an ATAR</th>\n      <th>Suburb</th>\n      <th>Longitude</th>\n      <th>Latitude</th>\n      <th>Sector</th>\n      <th>Gender</th>\n      <th>Religion</th>\n    </tr>\n  </thead>\n  <tbody>\n  </tbody>\n</table>\n</div>"
     },
     "metadata": {},
     "execution_count": 18
    }
   ],
   "source": [
    "# Check for NaN values\n",
    "# creating bool series True for NaN values  \n",
    "bool_series = pd.isnull(wa_hs_atar_2019[\"Sector\"])  \n",
    "    \n",
    "# filtering data  \n",
    "# displaying data only with \"Sector\" = NaN  \n",
    "wa_hs_atar_2019[bool_series]"
   ]
  },
  {
   "cell_type": "code",
   "execution_count": 19,
   "metadata": {},
   "outputs": [],
   "source": [
    "# save the \"wa_hs_atar_2019\" Dataframe to a CSV file\n",
    "wa_hs_atar_2019.to_csv(\"Resources/wa_hs_atar_2019.csv\", index = False)"
   ]
  },
  {
   "cell_type": "code",
   "execution_count": 20,
   "metadata": {},
   "outputs": [
    {
     "output_type": "execute_result",
     "data": {
      "text/plain": [
       "     Year  Better Education Rank  \\\n",
       "0    2018                      1   \n",
       "1    2018                      2   \n",
       "2    2018                      3   \n",
       "3    2018                      4   \n",
       "4    2018                      5   \n",
       "..    ...                    ...   \n",
       "143  2018                    144   \n",
       "144  2018                    145   \n",
       "145  2018                    146   \n",
       "146  2018                    147   \n",
       "147  2018                    148   \n",
       "\n",
       "                                                School  Median ATAR  \\\n",
       "0                                  Perth Modern School        97.00   \n",
       "1                                        Carmel School        92.60   \n",
       "2                     St Mary's Anglican Girls' School        92.10   \n",
       "3                            Methodist Ladies' College        92.00   \n",
       "4                 St Hilda's Anglican School for Girls        91.65   \n",
       "..                                                 ...          ...   \n",
       "143                    Newton Moore Senior High School        55.55   \n",
       "144                         Northam Senior High School        53.70   \n",
       "145                                  Dalyellup College        51.90   \n",
       "146                      Rockingham Senior High School        47.90   \n",
       "147  Western Australian College of Agriculture (Cun...        32.50   \n",
       "\n",
       "     No. eligible Yr 12 students  No. Students with an ATAR  \\\n",
       "0                            240                        236   \n",
       "1                             33                         31   \n",
       "2                            175                        150   \n",
       "3                            139                        133   \n",
       "4                            141                        135   \n",
       "..                           ...                        ...   \n",
       "143                           81                         29   \n",
       "144                           88                         27   \n",
       "145                           70                         29   \n",
       "146                           98                         22   \n",
       "147                           61                         22   \n",
       "\n",
       "     % students with an ATAR  Trend / Compare  \n",
       "0                      98.33  Trend / Compare  \n",
       "1                      93.94  Trend / Compare  \n",
       "2                      85.71  Trend / Compare  \n",
       "3                      95.68  Trend / Compare  \n",
       "4                      95.74  Trend / Compare  \n",
       "..                       ...              ...  \n",
       "143                    35.80  Trend / Compare  \n",
       "144                    30.68  Trend / Compare  \n",
       "145                    41.43  Trend / Compare  \n",
       "146                    22.45  Trend / Compare  \n",
       "147                    36.07  Trend / Compare  \n",
       "\n",
       "[148 rows x 8 columns]"
      ],
      "text/html": "<div>\n<style scoped>\n    .dataframe tbody tr th:only-of-type {\n        vertical-align: middle;\n    }\n\n    .dataframe tbody tr th {\n        vertical-align: top;\n    }\n\n    .dataframe thead th {\n        text-align: right;\n    }\n</style>\n<table border=\"1\" class=\"dataframe\">\n  <thead>\n    <tr style=\"text-align: right;\">\n      <th></th>\n      <th>Year</th>\n      <th>Better Education Rank</th>\n      <th>School</th>\n      <th>Median ATAR</th>\n      <th>No. eligible Yr 12 students</th>\n      <th>No. Students with an ATAR</th>\n      <th>% students with an ATAR</th>\n      <th>Trend / Compare</th>\n    </tr>\n  </thead>\n  <tbody>\n    <tr>\n      <th>0</th>\n      <td>2018</td>\n      <td>1</td>\n      <td>Perth Modern School</td>\n      <td>97.00</td>\n      <td>240</td>\n      <td>236</td>\n      <td>98.33</td>\n      <td>Trend / Compare</td>\n    </tr>\n    <tr>\n      <th>1</th>\n      <td>2018</td>\n      <td>2</td>\n      <td>Carmel School</td>\n      <td>92.60</td>\n      <td>33</td>\n      <td>31</td>\n      <td>93.94</td>\n      <td>Trend / Compare</td>\n    </tr>\n    <tr>\n      <th>2</th>\n      <td>2018</td>\n      <td>3</td>\n      <td>St Mary's Anglican Girls' School</td>\n      <td>92.10</td>\n      <td>175</td>\n      <td>150</td>\n      <td>85.71</td>\n      <td>Trend / Compare</td>\n    </tr>\n    <tr>\n      <th>3</th>\n      <td>2018</td>\n      <td>4</td>\n      <td>Methodist Ladies' College</td>\n      <td>92.00</td>\n      <td>139</td>\n      <td>133</td>\n      <td>95.68</td>\n      <td>Trend / Compare</td>\n    </tr>\n    <tr>\n      <th>4</th>\n      <td>2018</td>\n      <td>5</td>\n      <td>St Hilda's Anglican School for Girls</td>\n      <td>91.65</td>\n      <td>141</td>\n      <td>135</td>\n      <td>95.74</td>\n      <td>Trend / Compare</td>\n    </tr>\n    <tr>\n      <th>...</th>\n      <td>...</td>\n      <td>...</td>\n      <td>...</td>\n      <td>...</td>\n      <td>...</td>\n      <td>...</td>\n      <td>...</td>\n      <td>...</td>\n    </tr>\n    <tr>\n      <th>143</th>\n      <td>2018</td>\n      <td>144</td>\n      <td>Newton Moore Senior High School</td>\n      <td>55.55</td>\n      <td>81</td>\n      <td>29</td>\n      <td>35.80</td>\n      <td>Trend / Compare</td>\n    </tr>\n    <tr>\n      <th>144</th>\n      <td>2018</td>\n      <td>145</td>\n      <td>Northam Senior High School</td>\n      <td>53.70</td>\n      <td>88</td>\n      <td>27</td>\n      <td>30.68</td>\n      <td>Trend / Compare</td>\n    </tr>\n    <tr>\n      <th>145</th>\n      <td>2018</td>\n      <td>146</td>\n      <td>Dalyellup College</td>\n      <td>51.90</td>\n      <td>70</td>\n      <td>29</td>\n      <td>41.43</td>\n      <td>Trend / Compare</td>\n    </tr>\n    <tr>\n      <th>146</th>\n      <td>2018</td>\n      <td>147</td>\n      <td>Rockingham Senior High School</td>\n      <td>47.90</td>\n      <td>98</td>\n      <td>22</td>\n      <td>22.45</td>\n      <td>Trend / Compare</td>\n    </tr>\n    <tr>\n      <th>147</th>\n      <td>2018</td>\n      <td>148</td>\n      <td>Western Australian College of Agriculture (Cun...</td>\n      <td>32.50</td>\n      <td>61</td>\n      <td>22</td>\n      <td>36.07</td>\n      <td>Trend / Compare</td>\n    </tr>\n  </tbody>\n</table>\n<p>148 rows × 8 columns</p>\n</div>"
     },
     "metadata": {},
     "execution_count": 20
    }
   ],
   "source": [
    "# get the 2018 url WA schools\n",
    "url_secondary_wa_2018 =\"https://bettereducation.com.au/Results/WA/wace.aspx?yr=2018\"\n",
    "\n",
    "# Use panda's `read_html` to parse the 2018 ATAR url\n",
    "secondary_wa_2018 = pd.read_html(url_secondary_wa_2018, header=0)[0]\n",
    "\n",
    "# rename the \"Unnamed: 0\" column name\n",
    "secondary_wa_2018 = secondary_wa_2018.rename(columns = {\"Unnamed: 0\" : \"Year\"})\n",
    "\n",
    "# replace the values of the \"Year\" column\n",
    "secondary_wa_2018['Year'] = 2018\n",
    "secondary_wa_2018"
   ]
  },
  {
   "cell_type": "code",
   "execution_count": 21,
   "metadata": {},
   "outputs": [
    {
     "output_type": "execute_result",
     "data": {
      "text/plain": [
       "                                                School  Year  Rank  \\\n",
       "0                                  Perth Modern School  2018     1   \n",
       "1                                        Carmel School  2018     2   \n",
       "2                     St Mary's Anglican Girls' School  2018     3   \n",
       "3                            Methodist Ladies' College  2018     4   \n",
       "4                 St Hilda's Anglican School for Girls  2018     5   \n",
       "..                                                 ...   ...   ...   \n",
       "143                    Newton Moore Senior High School  2018   144   \n",
       "144                         Northam Senior High School  2018   145   \n",
       "145                                  Dalyellup College  2018   146   \n",
       "146                      Rockingham Senior High School  2018   147   \n",
       "147  Western Australian College of Agriculture (Cun...  2018   148   \n",
       "\n",
       "     Median ATAR  No. eligible Yr 12 students  No. Students with an ATAR  \\\n",
       "0          97.00                          240                        236   \n",
       "1          92.60                           33                         31   \n",
       "2          92.10                          175                        150   \n",
       "3          92.00                          139                        133   \n",
       "4          91.65                          141                        135   \n",
       "..           ...                          ...                        ...   \n",
       "143        55.55                           81                         29   \n",
       "144        53.70                           88                         27   \n",
       "145        51.90                           70                         29   \n",
       "146        47.90                           98                         22   \n",
       "147        32.50                           61                         22   \n",
       "\n",
       "     Percentage of students with an ATAR  \n",
       "0                                  98.33  \n",
       "1                                  93.94  \n",
       "2                                  85.71  \n",
       "3                                  95.68  \n",
       "4                                  95.74  \n",
       "..                                   ...  \n",
       "143                                35.80  \n",
       "144                                30.68  \n",
       "145                                41.43  \n",
       "146                                22.45  \n",
       "147                                36.07  \n",
       "\n",
       "[148 rows x 7 columns]"
      ],
      "text/html": "<div>\n<style scoped>\n    .dataframe tbody tr th:only-of-type {\n        vertical-align: middle;\n    }\n\n    .dataframe tbody tr th {\n        vertical-align: top;\n    }\n\n    .dataframe thead th {\n        text-align: right;\n    }\n</style>\n<table border=\"1\" class=\"dataframe\">\n  <thead>\n    <tr style=\"text-align: right;\">\n      <th></th>\n      <th>School</th>\n      <th>Year</th>\n      <th>Rank</th>\n      <th>Median ATAR</th>\n      <th>No. eligible Yr 12 students</th>\n      <th>No. Students with an ATAR</th>\n      <th>Percentage of students with an ATAR</th>\n    </tr>\n  </thead>\n  <tbody>\n    <tr>\n      <th>0</th>\n      <td>Perth Modern School</td>\n      <td>2018</td>\n      <td>1</td>\n      <td>97.00</td>\n      <td>240</td>\n      <td>236</td>\n      <td>98.33</td>\n    </tr>\n    <tr>\n      <th>1</th>\n      <td>Carmel School</td>\n      <td>2018</td>\n      <td>2</td>\n      <td>92.60</td>\n      <td>33</td>\n      <td>31</td>\n      <td>93.94</td>\n    </tr>\n    <tr>\n      <th>2</th>\n      <td>St Mary's Anglican Girls' School</td>\n      <td>2018</td>\n      <td>3</td>\n      <td>92.10</td>\n      <td>175</td>\n      <td>150</td>\n      <td>85.71</td>\n    </tr>\n    <tr>\n      <th>3</th>\n      <td>Methodist Ladies' College</td>\n      <td>2018</td>\n      <td>4</td>\n      <td>92.00</td>\n      <td>139</td>\n      <td>133</td>\n      <td>95.68</td>\n    </tr>\n    <tr>\n      <th>4</th>\n      <td>St Hilda's Anglican School for Girls</td>\n      <td>2018</td>\n      <td>5</td>\n      <td>91.65</td>\n      <td>141</td>\n      <td>135</td>\n      <td>95.74</td>\n    </tr>\n    <tr>\n      <th>...</th>\n      <td>...</td>\n      <td>...</td>\n      <td>...</td>\n      <td>...</td>\n      <td>...</td>\n      <td>...</td>\n      <td>...</td>\n    </tr>\n    <tr>\n      <th>143</th>\n      <td>Newton Moore Senior High School</td>\n      <td>2018</td>\n      <td>144</td>\n      <td>55.55</td>\n      <td>81</td>\n      <td>29</td>\n      <td>35.80</td>\n    </tr>\n    <tr>\n      <th>144</th>\n      <td>Northam Senior High School</td>\n      <td>2018</td>\n      <td>145</td>\n      <td>53.70</td>\n      <td>88</td>\n      <td>27</td>\n      <td>30.68</td>\n    </tr>\n    <tr>\n      <th>145</th>\n      <td>Dalyellup College</td>\n      <td>2018</td>\n      <td>146</td>\n      <td>51.90</td>\n      <td>70</td>\n      <td>29</td>\n      <td>41.43</td>\n    </tr>\n    <tr>\n      <th>146</th>\n      <td>Rockingham Senior High School</td>\n      <td>2018</td>\n      <td>147</td>\n      <td>47.90</td>\n      <td>98</td>\n      <td>22</td>\n      <td>22.45</td>\n    </tr>\n    <tr>\n      <th>147</th>\n      <td>Western Australian College of Agriculture (Cun...</td>\n      <td>2018</td>\n      <td>148</td>\n      <td>32.50</td>\n      <td>61</td>\n      <td>22</td>\n      <td>36.07</td>\n    </tr>\n  </tbody>\n</table>\n<p>148 rows × 7 columns</p>\n</div>"
     },
     "metadata": {},
     "execution_count": 21
    }
   ],
   "source": [
    "# rename some column names to prevent issues when uploading the data to PostgreSQL later on (eg. % will cause an error)\n",
    "secondary_wa_2018 = secondary_wa_2018.rename(columns = {\"Better Education Rank\" : \"Rank\",\n",
    "                                                          \"% students with an ATAR\" : \"Percentage of students with an ATAR\"})\n",
    "\n",
    "# re-arrange the columns & delete the column \"Trend / Compare\" since it's not required\n",
    "secondary_wa_2018 = secondary_wa_2018[['School', 'Year', 'Rank', 'Median ATAR','No. eligible Yr 12 students', 'No. Students with an ATAR', 'Percentage of students with an ATAR']]\n",
    "\n",
    "secondary_wa_2018"
   ]
  },
  {
   "cell_type": "code",
   "execution_count": 22,
   "metadata": {},
   "outputs": [],
   "source": [
    "# replace some values to correct the spelling to prevent Null values when performing the merge with other Dataframes later on\n",
    "secondary_wa_2018[\"School\"].replace({\"Australian Islamic College\": \"Australian Islamic College - Dianella\", \n",
    "                       \"Christian Brothers College,Fremantle,WA,6160\": \"Christian Brothers' College\",\n",
    "                       \"Australian Islamic College (Kewdale)\": \"Australian Islamic College - Kewdale\",\n",
    "                       \"Serpentine-Jarrahdale Grammar School\": \"Court Grammar School\",\n",
    "                       \"Western Australian College of Agriculture (Cunderdin)\": \"Western Australian College Of Agriculture - Cunderdin\",\n",
    "                       \"Carey Baptist College,Harrisdale,WA,6112\": \"Carey Baptist College\",\n",
    "                       \"St Mary MacKillop College\": \"St Mary Mackillop College\",\n",
    "                       \"John Curtin College Of The Arts\": \"John Curtin College of The Arts\",\n",
    "                       \"St Stephen's School (Carramar)\": \"St Stephen's School - Carramar\",\n",
    "                       \"St Stephen's School (Duncraig)\": \"St Stephen's School - Duncraig\",\n",
    "                       \"St Stephen's School\": \"St Stephen's School - Carramar\",\n",
    "                       \"Irene McCormack Catholic Colle\": \"Irene McCormack Catholic College\",\n",
    "                       \"Swan Valley Anglican Community\": \"Swan Valley Anglican Community School\",\n",
    "                       \"John Curtin College Of The Arts\": \"John Curtin College of the Arts\",\n",
    "                       \"Peter Moyes Anglican Community\": \"Peter Moyes Anglican Community School\",\n",
    "                       \"Great Southern Grammar School\": \"Great Southern Grammar\"\n",
    "                        }, inplace=True)"
   ]
  },
  {
   "cell_type": "code",
   "execution_count": 23,
   "metadata": {},
   "outputs": [
    {
     "output_type": "execute_result",
     "data": {
      "text/plain": [
       "                                                School  Year  Rank  \\\n",
       "0                                  Perth Modern School  2018     1   \n",
       "1                                        Carmel School  2018     2   \n",
       "2                     St Mary's Anglican Girls' School  2018     3   \n",
       "3                            Methodist Ladies' College  2018     4   \n",
       "4                 St Hilda's Anglican School for Girls  2018     5   \n",
       "..                                                 ...   ...   ...   \n",
       "143                    Newton Moore Senior High School  2018   144   \n",
       "144                         Northam Senior High School  2018   145   \n",
       "145                                  Dalyellup College  2018   146   \n",
       "146                      Rockingham Senior High School  2018   147   \n",
       "147  Western Australian College Of Agriculture - Cu...  2018   148   \n",
       "\n",
       "     Median ATAR  No. eligible Yr 12 students  No. Students with an ATAR  \\\n",
       "0          97.00                          240                        236   \n",
       "1          92.60                           33                         31   \n",
       "2          92.10                          175                        150   \n",
       "3          92.00                          139                        133   \n",
       "4          91.65                          141                        135   \n",
       "..           ...                          ...                        ...   \n",
       "143        55.55                           81                         29   \n",
       "144        53.70                           88                         27   \n",
       "145        51.90                           70                         29   \n",
       "146        47.90                           98                         22   \n",
       "147        32.50                           61                         22   \n",
       "\n",
       "     Percentage of students with an ATAR         Suburb   Longitude   Latitude  \n",
       "0                                  98.33        Subiaco  115.836396 -31.945066  \n",
       "1                                  93.94       Dianella  115.862075 -31.899107  \n",
       "2                                  85.71      Karrinyup  115.766244 -31.876971  \n",
       "3                                  95.68      Claremont  115.775540 -31.987012  \n",
       "4                                  95.74    Mosman Park  115.767812 -32.005047  \n",
       "..                                   ...            ...         ...        ...  \n",
       "143                                35.80  South Bunbury  115.635421 -33.359211  \n",
       "144                                30.68        Northam  116.667649 -31.647256  \n",
       "145                                41.43      Dalyellup  115.625767 -33.403855  \n",
       "146                                22.45     Rockingham  115.735520 -32.284952  \n",
       "147                                36.07      Cunderdin  117.230704 -31.626847  \n",
       "\n",
       "[148 rows x 10 columns]"
      ],
      "text/html": "<div>\n<style scoped>\n    .dataframe tbody tr th:only-of-type {\n        vertical-align: middle;\n    }\n\n    .dataframe tbody tr th {\n        vertical-align: top;\n    }\n\n    .dataframe thead th {\n        text-align: right;\n    }\n</style>\n<table border=\"1\" class=\"dataframe\">\n  <thead>\n    <tr style=\"text-align: right;\">\n      <th></th>\n      <th>School</th>\n      <th>Year</th>\n      <th>Rank</th>\n      <th>Median ATAR</th>\n      <th>No. eligible Yr 12 students</th>\n      <th>No. Students with an ATAR</th>\n      <th>Percentage of students with an ATAR</th>\n      <th>Suburb</th>\n      <th>Longitude</th>\n      <th>Latitude</th>\n    </tr>\n  </thead>\n  <tbody>\n    <tr>\n      <th>0</th>\n      <td>Perth Modern School</td>\n      <td>2018</td>\n      <td>1</td>\n      <td>97.00</td>\n      <td>240</td>\n      <td>236</td>\n      <td>98.33</td>\n      <td>Subiaco</td>\n      <td>115.836396</td>\n      <td>-31.945066</td>\n    </tr>\n    <tr>\n      <th>1</th>\n      <td>Carmel School</td>\n      <td>2018</td>\n      <td>2</td>\n      <td>92.60</td>\n      <td>33</td>\n      <td>31</td>\n      <td>93.94</td>\n      <td>Dianella</td>\n      <td>115.862075</td>\n      <td>-31.899107</td>\n    </tr>\n    <tr>\n      <th>2</th>\n      <td>St Mary's Anglican Girls' School</td>\n      <td>2018</td>\n      <td>3</td>\n      <td>92.10</td>\n      <td>175</td>\n      <td>150</td>\n      <td>85.71</td>\n      <td>Karrinyup</td>\n      <td>115.766244</td>\n      <td>-31.876971</td>\n    </tr>\n    <tr>\n      <th>3</th>\n      <td>Methodist Ladies' College</td>\n      <td>2018</td>\n      <td>4</td>\n      <td>92.00</td>\n      <td>139</td>\n      <td>133</td>\n      <td>95.68</td>\n      <td>Claremont</td>\n      <td>115.775540</td>\n      <td>-31.987012</td>\n    </tr>\n    <tr>\n      <th>4</th>\n      <td>St Hilda's Anglican School for Girls</td>\n      <td>2018</td>\n      <td>5</td>\n      <td>91.65</td>\n      <td>141</td>\n      <td>135</td>\n      <td>95.74</td>\n      <td>Mosman Park</td>\n      <td>115.767812</td>\n      <td>-32.005047</td>\n    </tr>\n    <tr>\n      <th>...</th>\n      <td>...</td>\n      <td>...</td>\n      <td>...</td>\n      <td>...</td>\n      <td>...</td>\n      <td>...</td>\n      <td>...</td>\n      <td>...</td>\n      <td>...</td>\n      <td>...</td>\n    </tr>\n    <tr>\n      <th>143</th>\n      <td>Newton Moore Senior High School</td>\n      <td>2018</td>\n      <td>144</td>\n      <td>55.55</td>\n      <td>81</td>\n      <td>29</td>\n      <td>35.80</td>\n      <td>South Bunbury</td>\n      <td>115.635421</td>\n      <td>-33.359211</td>\n    </tr>\n    <tr>\n      <th>144</th>\n      <td>Northam Senior High School</td>\n      <td>2018</td>\n      <td>145</td>\n      <td>53.70</td>\n      <td>88</td>\n      <td>27</td>\n      <td>30.68</td>\n      <td>Northam</td>\n      <td>116.667649</td>\n      <td>-31.647256</td>\n    </tr>\n    <tr>\n      <th>145</th>\n      <td>Dalyellup College</td>\n      <td>2018</td>\n      <td>146</td>\n      <td>51.90</td>\n      <td>70</td>\n      <td>29</td>\n      <td>41.43</td>\n      <td>Dalyellup</td>\n      <td>115.625767</td>\n      <td>-33.403855</td>\n    </tr>\n    <tr>\n      <th>146</th>\n      <td>Rockingham Senior High School</td>\n      <td>2018</td>\n      <td>147</td>\n      <td>47.90</td>\n      <td>98</td>\n      <td>22</td>\n      <td>22.45</td>\n      <td>Rockingham</td>\n      <td>115.735520</td>\n      <td>-32.284952</td>\n    </tr>\n    <tr>\n      <th>147</th>\n      <td>Western Australian College Of Agriculture - Cu...</td>\n      <td>2018</td>\n      <td>148</td>\n      <td>32.50</td>\n      <td>61</td>\n      <td>22</td>\n      <td>36.07</td>\n      <td>Cunderdin</td>\n      <td>117.230704</td>\n      <td>-31.626847</td>\n    </tr>\n  </tbody>\n</table>\n<p>148 rows × 10 columns</p>\n</div>"
     },
     "metadata": {},
     "execution_count": 23
    }
   ],
   "source": [
    "# Merge \"secondary_wa_2018\" & \"school_coordinates\" Dataframes\n",
    "wa_hs_atar_2018_coord = pd.merge(secondary_wa_2018, school_coordinates, on='School', how='left')\n",
    "wa_hs_atar_2018_coord"
   ]
  },
  {
   "cell_type": "code",
   "execution_count": 24,
   "metadata": {},
   "outputs": [
    {
     "output_type": "execute_result",
     "data": {
      "text/plain": [
       "Empty DataFrame\n",
       "Columns: [School, Year, Rank, Median ATAR, No. eligible Yr 12 students, No. Students with an ATAR, Percentage of students with an ATAR, Suburb, Longitude, Latitude]\n",
       "Index: []"
      ],
      "text/html": "<div>\n<style scoped>\n    .dataframe tbody tr th:only-of-type {\n        vertical-align: middle;\n    }\n\n    .dataframe tbody tr th {\n        vertical-align: top;\n    }\n\n    .dataframe thead th {\n        text-align: right;\n    }\n</style>\n<table border=\"1\" class=\"dataframe\">\n  <thead>\n    <tr style=\"text-align: right;\">\n      <th></th>\n      <th>School</th>\n      <th>Year</th>\n      <th>Rank</th>\n      <th>Median ATAR</th>\n      <th>No. eligible Yr 12 students</th>\n      <th>No. Students with an ATAR</th>\n      <th>Percentage of students with an ATAR</th>\n      <th>Suburb</th>\n      <th>Longitude</th>\n      <th>Latitude</th>\n    </tr>\n  </thead>\n  <tbody>\n  </tbody>\n</table>\n</div>"
     },
     "metadata": {},
     "execution_count": 24
    }
   ],
   "source": [
    "# Check for NaN values\n",
    "# creating bool series True for NaN values  \n",
    "bool_series = pd.isnull(wa_hs_atar_2018_coord[\"Longitude\"])  \n",
    "    \n",
    "# filtering data  \n",
    "# displaying data only with \"Longitude\" = NaN\n",
    "wa_hs_atar_2018_coord[bool_series]"
   ]
  },
  {
   "cell_type": "code",
   "execution_count": 25,
   "metadata": {},
   "outputs": [
    {
     "output_type": "execute_result",
     "data": {
      "text/plain": [
       "                                                School  Year  Rank  \\\n",
       "0                                  Perth Modern School  2018     1   \n",
       "1                                        Carmel School  2018     2   \n",
       "2                     St Mary's Anglican Girls' School  2018     3   \n",
       "3                            Methodist Ladies' College  2018     4   \n",
       "4                 St Hilda's Anglican School for Girls  2018     5   \n",
       "..                                                 ...   ...   ...   \n",
       "143                    Newton Moore Senior High School  2018   144   \n",
       "144                         Northam Senior High School  2018   145   \n",
       "145                                  Dalyellup College  2018   146   \n",
       "146                      Rockingham Senior High School  2018   147   \n",
       "147  Western Australian College Of Agriculture - Cu...  2018   148   \n",
       "\n",
       "     Median ATAR  No. eligible Yr 12 students  No. Students with an ATAR  \\\n",
       "0          97.00                          240                        236   \n",
       "1          92.60                           33                         31   \n",
       "2          92.10                          175                        150   \n",
       "3          92.00                          139                        133   \n",
       "4          91.65                          141                        135   \n",
       "..           ...                          ...                        ...   \n",
       "143        55.55                           81                         29   \n",
       "144        53.70                           88                         27   \n",
       "145        51.90                           70                         29   \n",
       "146        47.90                           98                         22   \n",
       "147        32.50                           61                         22   \n",
       "\n",
       "     Percentage of students with an ATAR         Suburb   Longitude  \\\n",
       "0                                  98.33        Subiaco  115.836396   \n",
       "1                                  93.94       Dianella  115.862075   \n",
       "2                                  85.71      Karrinyup  115.766244   \n",
       "3                                  95.68      Claremont  115.775540   \n",
       "4                                  95.74    Mosman Park  115.767812   \n",
       "..                                   ...            ...         ...   \n",
       "143                                35.80  South Bunbury  115.635421   \n",
       "144                                30.68        Northam  116.667649   \n",
       "145                                41.43      Dalyellup  115.625767   \n",
       "146                                22.45     Rockingham  115.735520   \n",
       "147                                36.07      Cunderdin  117.230704   \n",
       "\n",
       "      Latitude          Sector Gender   Religion  \n",
       "0   -31.945066      Government  Co-ed    Secular  \n",
       "1   -31.899107  Non-government  Co-ed     Jewish  \n",
       "2   -31.876971  Non-government  Girls   Anglican  \n",
       "3   -31.987012  Non-government  Girls  Methodist  \n",
       "4   -32.005047  Non-government  Girls   Anglican  \n",
       "..         ...             ...    ...        ...  \n",
       "143 -33.359211      Government  Co-ed    Secular  \n",
       "144 -31.647256      Government  Co-ed    Secular  \n",
       "145 -33.403855      Government  Co-ed    Secular  \n",
       "146 -32.284952      Government  Co-ed    Secular  \n",
       "147 -31.626847      Government  Co-ed    Secular  \n",
       "\n",
       "[148 rows x 13 columns]"
      ],
      "text/html": "<div>\n<style scoped>\n    .dataframe tbody tr th:only-of-type {\n        vertical-align: middle;\n    }\n\n    .dataframe tbody tr th {\n        vertical-align: top;\n    }\n\n    .dataframe thead th {\n        text-align: right;\n    }\n</style>\n<table border=\"1\" class=\"dataframe\">\n  <thead>\n    <tr style=\"text-align: right;\">\n      <th></th>\n      <th>School</th>\n      <th>Year</th>\n      <th>Rank</th>\n      <th>Median ATAR</th>\n      <th>No. eligible Yr 12 students</th>\n      <th>No. Students with an ATAR</th>\n      <th>Percentage of students with an ATAR</th>\n      <th>Suburb</th>\n      <th>Longitude</th>\n      <th>Latitude</th>\n      <th>Sector</th>\n      <th>Gender</th>\n      <th>Religion</th>\n    </tr>\n  </thead>\n  <tbody>\n    <tr>\n      <th>0</th>\n      <td>Perth Modern School</td>\n      <td>2018</td>\n      <td>1</td>\n      <td>97.00</td>\n      <td>240</td>\n      <td>236</td>\n      <td>98.33</td>\n      <td>Subiaco</td>\n      <td>115.836396</td>\n      <td>-31.945066</td>\n      <td>Government</td>\n      <td>Co-ed</td>\n      <td>Secular</td>\n    </tr>\n    <tr>\n      <th>1</th>\n      <td>Carmel School</td>\n      <td>2018</td>\n      <td>2</td>\n      <td>92.60</td>\n      <td>33</td>\n      <td>31</td>\n      <td>93.94</td>\n      <td>Dianella</td>\n      <td>115.862075</td>\n      <td>-31.899107</td>\n      <td>Non-government</td>\n      <td>Co-ed</td>\n      <td>Jewish</td>\n    </tr>\n    <tr>\n      <th>2</th>\n      <td>St Mary's Anglican Girls' School</td>\n      <td>2018</td>\n      <td>3</td>\n      <td>92.10</td>\n      <td>175</td>\n      <td>150</td>\n      <td>85.71</td>\n      <td>Karrinyup</td>\n      <td>115.766244</td>\n      <td>-31.876971</td>\n      <td>Non-government</td>\n      <td>Girls</td>\n      <td>Anglican</td>\n    </tr>\n    <tr>\n      <th>3</th>\n      <td>Methodist Ladies' College</td>\n      <td>2018</td>\n      <td>4</td>\n      <td>92.00</td>\n      <td>139</td>\n      <td>133</td>\n      <td>95.68</td>\n      <td>Claremont</td>\n      <td>115.775540</td>\n      <td>-31.987012</td>\n      <td>Non-government</td>\n      <td>Girls</td>\n      <td>Methodist</td>\n    </tr>\n    <tr>\n      <th>4</th>\n      <td>St Hilda's Anglican School for Girls</td>\n      <td>2018</td>\n      <td>5</td>\n      <td>91.65</td>\n      <td>141</td>\n      <td>135</td>\n      <td>95.74</td>\n      <td>Mosman Park</td>\n      <td>115.767812</td>\n      <td>-32.005047</td>\n      <td>Non-government</td>\n      <td>Girls</td>\n      <td>Anglican</td>\n    </tr>\n    <tr>\n      <th>...</th>\n      <td>...</td>\n      <td>...</td>\n      <td>...</td>\n      <td>...</td>\n      <td>...</td>\n      <td>...</td>\n      <td>...</td>\n      <td>...</td>\n      <td>...</td>\n      <td>...</td>\n      <td>...</td>\n      <td>...</td>\n      <td>...</td>\n    </tr>\n    <tr>\n      <th>143</th>\n      <td>Newton Moore Senior High School</td>\n      <td>2018</td>\n      <td>144</td>\n      <td>55.55</td>\n      <td>81</td>\n      <td>29</td>\n      <td>35.80</td>\n      <td>South Bunbury</td>\n      <td>115.635421</td>\n      <td>-33.359211</td>\n      <td>Government</td>\n      <td>Co-ed</td>\n      <td>Secular</td>\n    </tr>\n    <tr>\n      <th>144</th>\n      <td>Northam Senior High School</td>\n      <td>2018</td>\n      <td>145</td>\n      <td>53.70</td>\n      <td>88</td>\n      <td>27</td>\n      <td>30.68</td>\n      <td>Northam</td>\n      <td>116.667649</td>\n      <td>-31.647256</td>\n      <td>Government</td>\n      <td>Co-ed</td>\n      <td>Secular</td>\n    </tr>\n    <tr>\n      <th>145</th>\n      <td>Dalyellup College</td>\n      <td>2018</td>\n      <td>146</td>\n      <td>51.90</td>\n      <td>70</td>\n      <td>29</td>\n      <td>41.43</td>\n      <td>Dalyellup</td>\n      <td>115.625767</td>\n      <td>-33.403855</td>\n      <td>Government</td>\n      <td>Co-ed</td>\n      <td>Secular</td>\n    </tr>\n    <tr>\n      <th>146</th>\n      <td>Rockingham Senior High School</td>\n      <td>2018</td>\n      <td>147</td>\n      <td>47.90</td>\n      <td>98</td>\n      <td>22</td>\n      <td>22.45</td>\n      <td>Rockingham</td>\n      <td>115.735520</td>\n      <td>-32.284952</td>\n      <td>Government</td>\n      <td>Co-ed</td>\n      <td>Secular</td>\n    </tr>\n    <tr>\n      <th>147</th>\n      <td>Western Australian College Of Agriculture - Cu...</td>\n      <td>2018</td>\n      <td>148</td>\n      <td>32.50</td>\n      <td>61</td>\n      <td>22</td>\n      <td>36.07</td>\n      <td>Cunderdin</td>\n      <td>117.230704</td>\n      <td>-31.626847</td>\n      <td>Government</td>\n      <td>Co-ed</td>\n      <td>Secular</td>\n    </tr>\n  </tbody>\n</table>\n<p>148 rows × 13 columns</p>\n</div>"
     },
     "metadata": {},
     "execution_count": 25
    }
   ],
   "source": [
    "# Merge both \"wa_hs_atar_2018_coord\" & \"sectors\" Dataframes\n",
    "wa_hs_atar_2018 = pd.merge(wa_hs_atar_2018_coord, sectors, on='School', how='left')\n",
    "wa_hs_atar_2018"
   ]
  },
  {
   "cell_type": "code",
   "execution_count": 26,
   "metadata": {},
   "outputs": [
    {
     "output_type": "execute_result",
     "data": {
      "text/plain": [
       "Empty DataFrame\n",
       "Columns: [School, Year, Rank, Median ATAR, No. eligible Yr 12 students, No. Students with an ATAR, Percentage of students with an ATAR, Suburb, Longitude, Latitude, Sector, Gender, Religion]\n",
       "Index: []"
      ],
      "text/html": "<div>\n<style scoped>\n    .dataframe tbody tr th:only-of-type {\n        vertical-align: middle;\n    }\n\n    .dataframe tbody tr th {\n        vertical-align: top;\n    }\n\n    .dataframe thead th {\n        text-align: right;\n    }\n</style>\n<table border=\"1\" class=\"dataframe\">\n  <thead>\n    <tr style=\"text-align: right;\">\n      <th></th>\n      <th>School</th>\n      <th>Year</th>\n      <th>Rank</th>\n      <th>Median ATAR</th>\n      <th>No. eligible Yr 12 students</th>\n      <th>No. Students with an ATAR</th>\n      <th>Percentage of students with an ATAR</th>\n      <th>Suburb</th>\n      <th>Longitude</th>\n      <th>Latitude</th>\n      <th>Sector</th>\n      <th>Gender</th>\n      <th>Religion</th>\n    </tr>\n  </thead>\n  <tbody>\n  </tbody>\n</table>\n</div>"
     },
     "metadata": {},
     "execution_count": 26
    }
   ],
   "source": [
    "# Check for NaN values\n",
    "# creating bool series True for NaN values  \n",
    "bool_series = pd.isnull(wa_hs_atar_2018[\"Sector\"])  \n",
    "    \n",
    "# filtering data  \n",
    "# displaying data only with \"Sector\" = NaN  \n",
    "wa_hs_atar_2018[bool_series]"
   ]
  },
  {
   "cell_type": "code",
   "execution_count": 27,
   "metadata": {},
   "outputs": [],
   "source": [
    "# save the \"wa_hs_atar_2018\" Dataframe to a CSV file\n",
    "wa_hs_atar_2018.to_csv(\"Resources/wa_hs_atar_2018.csv\", index = False)"
   ]
  },
  {
   "cell_type": "code",
   "execution_count": 28,
   "metadata": {},
   "outputs": [
    {
     "output_type": "execute_result",
     "data": {
      "text/plain": [
       "     Year  Better Education Rank                                School  \\\n",
       "0    2017                      1                   Perth Modern School   \n",
       "1    2017                      2  St Hilda's Anglican School for Girls   \n",
       "2    2017                      3          Christ Church Grammar School   \n",
       "3    2017                      4                       Penrhos College   \n",
       "4    2017                      5      St Mary's Anglican Girls' School   \n",
       "..    ...                    ...                                   ...   \n",
       "141  2017                    142                        Butler College   \n",
       "142  2017                    143         Warnbro Community High School   \n",
       "143  2017                    144         Safety Bay Senior High School   \n",
       "144  2017                    145                Southern River College   \n",
       "145  2017                    146            Hedland Senior High School   \n",
       "\n",
       "     Median ATAR  No. eligible Yr 12 students  No. Students with an ATAR  \\\n",
       "0          95.90                          223                        222   \n",
       "1          93.60                          142                        133   \n",
       "2          92.45                          182                        159   \n",
       "3          91.20                          139                        119   \n",
       "4          90.95                          174                        157   \n",
       "..           ...                          ...                        ...   \n",
       "141        57.25                          214                         71   \n",
       "142        56.35                           99                         21   \n",
       "143        56.05                          130                         31   \n",
       "144        55.40                           96                         24   \n",
       "145        52.45                           90                         29   \n",
       "\n",
       "     % students with an ATAR  Trend / Compare  \n",
       "0                      99.55  Trend / Compare  \n",
       "1                      93.66  Trend / Compare  \n",
       "2                      87.36  Trend / Compare  \n",
       "3                      85.61  Trend / Compare  \n",
       "4                      90.23  Trend / Compare  \n",
       "..                       ...              ...  \n",
       "141                    33.18  Trend / Compare  \n",
       "142                    21.21  Trend / Compare  \n",
       "143                    23.85  Trend / Compare  \n",
       "144                    25.00  Trend / Compare  \n",
       "145                    32.22  Trend / Compare  \n",
       "\n",
       "[146 rows x 8 columns]"
      ],
      "text/html": "<div>\n<style scoped>\n    .dataframe tbody tr th:only-of-type {\n        vertical-align: middle;\n    }\n\n    .dataframe tbody tr th {\n        vertical-align: top;\n    }\n\n    .dataframe thead th {\n        text-align: right;\n    }\n</style>\n<table border=\"1\" class=\"dataframe\">\n  <thead>\n    <tr style=\"text-align: right;\">\n      <th></th>\n      <th>Year</th>\n      <th>Better Education Rank</th>\n      <th>School</th>\n      <th>Median ATAR</th>\n      <th>No. eligible Yr 12 students</th>\n      <th>No. Students with an ATAR</th>\n      <th>% students with an ATAR</th>\n      <th>Trend / Compare</th>\n    </tr>\n  </thead>\n  <tbody>\n    <tr>\n      <th>0</th>\n      <td>2017</td>\n      <td>1</td>\n      <td>Perth Modern School</td>\n      <td>95.90</td>\n      <td>223</td>\n      <td>222</td>\n      <td>99.55</td>\n      <td>Trend / Compare</td>\n    </tr>\n    <tr>\n      <th>1</th>\n      <td>2017</td>\n      <td>2</td>\n      <td>St Hilda's Anglican School for Girls</td>\n      <td>93.60</td>\n      <td>142</td>\n      <td>133</td>\n      <td>93.66</td>\n      <td>Trend / Compare</td>\n    </tr>\n    <tr>\n      <th>2</th>\n      <td>2017</td>\n      <td>3</td>\n      <td>Christ Church Grammar School</td>\n      <td>92.45</td>\n      <td>182</td>\n      <td>159</td>\n      <td>87.36</td>\n      <td>Trend / Compare</td>\n    </tr>\n    <tr>\n      <th>3</th>\n      <td>2017</td>\n      <td>4</td>\n      <td>Penrhos College</td>\n      <td>91.20</td>\n      <td>139</td>\n      <td>119</td>\n      <td>85.61</td>\n      <td>Trend / Compare</td>\n    </tr>\n    <tr>\n      <th>4</th>\n      <td>2017</td>\n      <td>5</td>\n      <td>St Mary's Anglican Girls' School</td>\n      <td>90.95</td>\n      <td>174</td>\n      <td>157</td>\n      <td>90.23</td>\n      <td>Trend / Compare</td>\n    </tr>\n    <tr>\n      <th>...</th>\n      <td>...</td>\n      <td>...</td>\n      <td>...</td>\n      <td>...</td>\n      <td>...</td>\n      <td>...</td>\n      <td>...</td>\n      <td>...</td>\n    </tr>\n    <tr>\n      <th>141</th>\n      <td>2017</td>\n      <td>142</td>\n      <td>Butler College</td>\n      <td>57.25</td>\n      <td>214</td>\n      <td>71</td>\n      <td>33.18</td>\n      <td>Trend / Compare</td>\n    </tr>\n    <tr>\n      <th>142</th>\n      <td>2017</td>\n      <td>143</td>\n      <td>Warnbro Community High School</td>\n      <td>56.35</td>\n      <td>99</td>\n      <td>21</td>\n      <td>21.21</td>\n      <td>Trend / Compare</td>\n    </tr>\n    <tr>\n      <th>143</th>\n      <td>2017</td>\n      <td>144</td>\n      <td>Safety Bay Senior High School</td>\n      <td>56.05</td>\n      <td>130</td>\n      <td>31</td>\n      <td>23.85</td>\n      <td>Trend / Compare</td>\n    </tr>\n    <tr>\n      <th>144</th>\n      <td>2017</td>\n      <td>145</td>\n      <td>Southern River College</td>\n      <td>55.40</td>\n      <td>96</td>\n      <td>24</td>\n      <td>25.00</td>\n      <td>Trend / Compare</td>\n    </tr>\n    <tr>\n      <th>145</th>\n      <td>2017</td>\n      <td>146</td>\n      <td>Hedland Senior High School</td>\n      <td>52.45</td>\n      <td>90</td>\n      <td>29</td>\n      <td>32.22</td>\n      <td>Trend / Compare</td>\n    </tr>\n  </tbody>\n</table>\n<p>146 rows × 8 columns</p>\n</div>"
     },
     "metadata": {},
     "execution_count": 28
    }
   ],
   "source": [
    "# get the 2017 url WA schools\n",
    "url_secondary_wa_2017 =\"https://bettereducation.com.au/Results/WA/wace.aspx?yr=2017\"\n",
    "\n",
    "# Use panda's `read_html` to parse the 2017 ATAR url\n",
    "secondary_wa_2017 = pd.read_html(url_secondary_wa_2017, header=0)[0]\n",
    "\n",
    "# rename the \"Unnamed: 0\" column name\n",
    "secondary_wa_2017 = secondary_wa_2017.rename(columns = {\"Unnamed: 0\" : \"Year\"})\n",
    "\n",
    "# replace the values of the \"Year\" column\n",
    "secondary_wa_2017['Year'] = 2017\n",
    "secondary_wa_2017"
   ]
  },
  {
   "cell_type": "code",
   "execution_count": 29,
   "metadata": {},
   "outputs": [
    {
     "output_type": "execute_result",
     "data": {
      "text/plain": [
       "                                   School  Year  Rank  Median ATAR  \\\n",
       "0                     Perth Modern School  2017     1        95.90   \n",
       "1    St Hilda's Anglican School for Girls  2017     2        93.60   \n",
       "2            Christ Church Grammar School  2017     3        92.45   \n",
       "3                         Penrhos College  2017     4        91.20   \n",
       "4        St Mary's Anglican Girls' School  2017     5        90.95   \n",
       "..                                    ...   ...   ...          ...   \n",
       "141                        Butler College  2017   142        57.25   \n",
       "142         Warnbro Community High School  2017   143        56.35   \n",
       "143         Safety Bay Senior High School  2017   144        56.05   \n",
       "144                Southern River College  2017   145        55.40   \n",
       "145            Hedland Senior High School  2017   146        52.45   \n",
       "\n",
       "     No. eligible Yr 12 students  No. Students with an ATAR  \\\n",
       "0                            223                        222   \n",
       "1                            142                        133   \n",
       "2                            182                        159   \n",
       "3                            139                        119   \n",
       "4                            174                        157   \n",
       "..                           ...                        ...   \n",
       "141                          214                         71   \n",
       "142                           99                         21   \n",
       "143                          130                         31   \n",
       "144                           96                         24   \n",
       "145                           90                         29   \n",
       "\n",
       "     Percentage of students with an ATAR  \n",
       "0                                  99.55  \n",
       "1                                  93.66  \n",
       "2                                  87.36  \n",
       "3                                  85.61  \n",
       "4                                  90.23  \n",
       "..                                   ...  \n",
       "141                                33.18  \n",
       "142                                21.21  \n",
       "143                                23.85  \n",
       "144                                25.00  \n",
       "145                                32.22  \n",
       "\n",
       "[146 rows x 7 columns]"
      ],
      "text/html": "<div>\n<style scoped>\n    .dataframe tbody tr th:only-of-type {\n        vertical-align: middle;\n    }\n\n    .dataframe tbody tr th {\n        vertical-align: top;\n    }\n\n    .dataframe thead th {\n        text-align: right;\n    }\n</style>\n<table border=\"1\" class=\"dataframe\">\n  <thead>\n    <tr style=\"text-align: right;\">\n      <th></th>\n      <th>School</th>\n      <th>Year</th>\n      <th>Rank</th>\n      <th>Median ATAR</th>\n      <th>No. eligible Yr 12 students</th>\n      <th>No. Students with an ATAR</th>\n      <th>Percentage of students with an ATAR</th>\n    </tr>\n  </thead>\n  <tbody>\n    <tr>\n      <th>0</th>\n      <td>Perth Modern School</td>\n      <td>2017</td>\n      <td>1</td>\n      <td>95.90</td>\n      <td>223</td>\n      <td>222</td>\n      <td>99.55</td>\n    </tr>\n    <tr>\n      <th>1</th>\n      <td>St Hilda's Anglican School for Girls</td>\n      <td>2017</td>\n      <td>2</td>\n      <td>93.60</td>\n      <td>142</td>\n      <td>133</td>\n      <td>93.66</td>\n    </tr>\n    <tr>\n      <th>2</th>\n      <td>Christ Church Grammar School</td>\n      <td>2017</td>\n      <td>3</td>\n      <td>92.45</td>\n      <td>182</td>\n      <td>159</td>\n      <td>87.36</td>\n    </tr>\n    <tr>\n      <th>3</th>\n      <td>Penrhos College</td>\n      <td>2017</td>\n      <td>4</td>\n      <td>91.20</td>\n      <td>139</td>\n      <td>119</td>\n      <td>85.61</td>\n    </tr>\n    <tr>\n      <th>4</th>\n      <td>St Mary's Anglican Girls' School</td>\n      <td>2017</td>\n      <td>5</td>\n      <td>90.95</td>\n      <td>174</td>\n      <td>157</td>\n      <td>90.23</td>\n    </tr>\n    <tr>\n      <th>...</th>\n      <td>...</td>\n      <td>...</td>\n      <td>...</td>\n      <td>...</td>\n      <td>...</td>\n      <td>...</td>\n      <td>...</td>\n    </tr>\n    <tr>\n      <th>141</th>\n      <td>Butler College</td>\n      <td>2017</td>\n      <td>142</td>\n      <td>57.25</td>\n      <td>214</td>\n      <td>71</td>\n      <td>33.18</td>\n    </tr>\n    <tr>\n      <th>142</th>\n      <td>Warnbro Community High School</td>\n      <td>2017</td>\n      <td>143</td>\n      <td>56.35</td>\n      <td>99</td>\n      <td>21</td>\n      <td>21.21</td>\n    </tr>\n    <tr>\n      <th>143</th>\n      <td>Safety Bay Senior High School</td>\n      <td>2017</td>\n      <td>144</td>\n      <td>56.05</td>\n      <td>130</td>\n      <td>31</td>\n      <td>23.85</td>\n    </tr>\n    <tr>\n      <th>144</th>\n      <td>Southern River College</td>\n      <td>2017</td>\n      <td>145</td>\n      <td>55.40</td>\n      <td>96</td>\n      <td>24</td>\n      <td>25.00</td>\n    </tr>\n    <tr>\n      <th>145</th>\n      <td>Hedland Senior High School</td>\n      <td>2017</td>\n      <td>146</td>\n      <td>52.45</td>\n      <td>90</td>\n      <td>29</td>\n      <td>32.22</td>\n    </tr>\n  </tbody>\n</table>\n<p>146 rows × 7 columns</p>\n</div>"
     },
     "metadata": {},
     "execution_count": 29
    }
   ],
   "source": [
    "# rename some column names to prevent issues when uploading the data to PostgreSQL later on (eg. % will cause an error)\n",
    "secondary_wa_2017 = secondary_wa_2017.rename(columns = {\"Better Education Rank\" : \"Rank\",\n",
    "                                                          \"% students with an ATAR\" : \"Percentage of students with an ATAR\"})\n",
    "\n",
    "# re-arrange the columns & delete the column \"Trend / Compare\" since it's not required\n",
    "secondary_wa_2017 = secondary_wa_2017[['School', 'Year', 'Rank', 'Median ATAR','No. eligible Yr 12 students', 'No. Students with an ATAR', 'Percentage of students with an ATAR']]\n",
    "\n",
    "secondary_wa_2017"
   ]
  },
  {
   "cell_type": "code",
   "execution_count": 30,
   "metadata": {},
   "outputs": [],
   "source": [
    "# replace some values to correct the spelling to prevent Null values when performing the merge with other Dataframes later on\n",
    "secondary_wa_2017[\"School\"].replace({\"Australian Islamic College\": \"Australian Islamic College - Dianella\", \n",
    "                       \"Christian Brothers College,Fremantle,WA,6160\": \"Christian Brothers' College\",\n",
    "                       \"Australian Islamic College (Kewdale)\": \"Australian Islamic College - Kewdale\",\n",
    "                       \"Serpentine-Jarrahdale Grammar School\": \"Court Grammar School\",\n",
    "                       \"Western Australian College of Agriculture (Cunderdin)\": \"Western Australian College Of Agriculture - Cunderdin\",\n",
    "                       \"Carey Baptist College,Harrisdale,WA,6112\": \"Carey Baptist College\",\n",
    "                       \"St Mary MacKillop College\": \"St Mary Mackillop College\",\n",
    "                       \"John Curtin College Of The Arts\": \"John Curtin College of The Arts\",\n",
    "                       \"St Stephen's School (Carramar)\": \"St Stephen's School - Carramar\",\n",
    "                       \"St Stephen's School (Duncraig)\": \"St Stephen's School - Duncraig\",\n",
    "                       \"St Stephen's School\": \"St Stephen's School - Carramar\",\n",
    "                       \"Irene McCormack Catholic Colle\": \"Irene McCormack Catholic College\",\n",
    "                       \"Swan Valley Anglican Community\": \"Swan Valley Anglican Community School\",\n",
    "                       \"John Curtin College Of The Arts\": \"John Curtin College of the Arts\",\n",
    "                       \"Peter Moyes Anglican Community\": \"Peter Moyes Anglican Community School\",\n",
    "                       \"Great Southern Grammar School\": \"Great Southern Grammar\"\n",
    "                        }, inplace=True)"
   ]
  },
  {
   "cell_type": "code",
   "execution_count": 31,
   "metadata": {},
   "outputs": [
    {
     "output_type": "execute_result",
     "data": {
      "text/plain": [
       "                                   School  Year  Rank  Median ATAR  \\\n",
       "0                     Perth Modern School  2017     1        95.90   \n",
       "1    St Hilda's Anglican School for Girls  2017     2        93.60   \n",
       "2            Christ Church Grammar School  2017     3        92.45   \n",
       "3                         Penrhos College  2017     4        91.20   \n",
       "4        St Mary's Anglican Girls' School  2017     5        90.95   \n",
       "..                                    ...   ...   ...          ...   \n",
       "141                        Butler College  2017   142        57.25   \n",
       "142         Warnbro Community High School  2017   143        56.35   \n",
       "143         Safety Bay Senior High School  2017   144        56.05   \n",
       "144                Southern River College  2017   145        55.40   \n",
       "145            Hedland Senior High School  2017   146        52.45   \n",
       "\n",
       "     No. eligible Yr 12 students  No. Students with an ATAR  \\\n",
       "0                            223                        222   \n",
       "1                            142                        133   \n",
       "2                            182                        159   \n",
       "3                            139                        119   \n",
       "4                            174                        157   \n",
       "..                           ...                        ...   \n",
       "141                          214                         71   \n",
       "142                           99                         21   \n",
       "143                          130                         31   \n",
       "144                           96                         24   \n",
       "145                           90                         29   \n",
       "\n",
       "     Percentage of students with an ATAR         Suburb   Longitude   Latitude  \n",
       "0                                  99.55        Subiaco  115.836396 -31.945066  \n",
       "1                                  93.66    Mosman Park  115.767812 -32.005047  \n",
       "2                                  87.36      Claremont  115.776987 -31.985461  \n",
       "3                                  85.61           Como  115.872539 -31.997431  \n",
       "4                                  90.23      Karrinyup  115.766244 -31.876971  \n",
       "..                                   ...            ...         ...        ...  \n",
       "141                                33.18         Butler  115.708701 -31.651664  \n",
       "142                                21.21        Warnbro  115.759096 -32.345569  \n",
       "143                                23.85     Safety Bay  115.740964 -32.303286  \n",
       "144                                25.00       Gosnells  115.979918 -32.085598  \n",
       "145                                32.22  South Hedland  118.598616 -20.398789  \n",
       "\n",
       "[146 rows x 10 columns]"
      ],
      "text/html": "<div>\n<style scoped>\n    .dataframe tbody tr th:only-of-type {\n        vertical-align: middle;\n    }\n\n    .dataframe tbody tr th {\n        vertical-align: top;\n    }\n\n    .dataframe thead th {\n        text-align: right;\n    }\n</style>\n<table border=\"1\" class=\"dataframe\">\n  <thead>\n    <tr style=\"text-align: right;\">\n      <th></th>\n      <th>School</th>\n      <th>Year</th>\n      <th>Rank</th>\n      <th>Median ATAR</th>\n      <th>No. eligible Yr 12 students</th>\n      <th>No. Students with an ATAR</th>\n      <th>Percentage of students with an ATAR</th>\n      <th>Suburb</th>\n      <th>Longitude</th>\n      <th>Latitude</th>\n    </tr>\n  </thead>\n  <tbody>\n    <tr>\n      <th>0</th>\n      <td>Perth Modern School</td>\n      <td>2017</td>\n      <td>1</td>\n      <td>95.90</td>\n      <td>223</td>\n      <td>222</td>\n      <td>99.55</td>\n      <td>Subiaco</td>\n      <td>115.836396</td>\n      <td>-31.945066</td>\n    </tr>\n    <tr>\n      <th>1</th>\n      <td>St Hilda's Anglican School for Girls</td>\n      <td>2017</td>\n      <td>2</td>\n      <td>93.60</td>\n      <td>142</td>\n      <td>133</td>\n      <td>93.66</td>\n      <td>Mosman Park</td>\n      <td>115.767812</td>\n      <td>-32.005047</td>\n    </tr>\n    <tr>\n      <th>2</th>\n      <td>Christ Church Grammar School</td>\n      <td>2017</td>\n      <td>3</td>\n      <td>92.45</td>\n      <td>182</td>\n      <td>159</td>\n      <td>87.36</td>\n      <td>Claremont</td>\n      <td>115.776987</td>\n      <td>-31.985461</td>\n    </tr>\n    <tr>\n      <th>3</th>\n      <td>Penrhos College</td>\n      <td>2017</td>\n      <td>4</td>\n      <td>91.20</td>\n      <td>139</td>\n      <td>119</td>\n      <td>85.61</td>\n      <td>Como</td>\n      <td>115.872539</td>\n      <td>-31.997431</td>\n    </tr>\n    <tr>\n      <th>4</th>\n      <td>St Mary's Anglican Girls' School</td>\n      <td>2017</td>\n      <td>5</td>\n      <td>90.95</td>\n      <td>174</td>\n      <td>157</td>\n      <td>90.23</td>\n      <td>Karrinyup</td>\n      <td>115.766244</td>\n      <td>-31.876971</td>\n    </tr>\n    <tr>\n      <th>...</th>\n      <td>...</td>\n      <td>...</td>\n      <td>...</td>\n      <td>...</td>\n      <td>...</td>\n      <td>...</td>\n      <td>...</td>\n      <td>...</td>\n      <td>...</td>\n      <td>...</td>\n    </tr>\n    <tr>\n      <th>141</th>\n      <td>Butler College</td>\n      <td>2017</td>\n      <td>142</td>\n      <td>57.25</td>\n      <td>214</td>\n      <td>71</td>\n      <td>33.18</td>\n      <td>Butler</td>\n      <td>115.708701</td>\n      <td>-31.651664</td>\n    </tr>\n    <tr>\n      <th>142</th>\n      <td>Warnbro Community High School</td>\n      <td>2017</td>\n      <td>143</td>\n      <td>56.35</td>\n      <td>99</td>\n      <td>21</td>\n      <td>21.21</td>\n      <td>Warnbro</td>\n      <td>115.759096</td>\n      <td>-32.345569</td>\n    </tr>\n    <tr>\n      <th>143</th>\n      <td>Safety Bay Senior High School</td>\n      <td>2017</td>\n      <td>144</td>\n      <td>56.05</td>\n      <td>130</td>\n      <td>31</td>\n      <td>23.85</td>\n      <td>Safety Bay</td>\n      <td>115.740964</td>\n      <td>-32.303286</td>\n    </tr>\n    <tr>\n      <th>144</th>\n      <td>Southern River College</td>\n      <td>2017</td>\n      <td>145</td>\n      <td>55.40</td>\n      <td>96</td>\n      <td>24</td>\n      <td>25.00</td>\n      <td>Gosnells</td>\n      <td>115.979918</td>\n      <td>-32.085598</td>\n    </tr>\n    <tr>\n      <th>145</th>\n      <td>Hedland Senior High School</td>\n      <td>2017</td>\n      <td>146</td>\n      <td>52.45</td>\n      <td>90</td>\n      <td>29</td>\n      <td>32.22</td>\n      <td>South Hedland</td>\n      <td>118.598616</td>\n      <td>-20.398789</td>\n    </tr>\n  </tbody>\n</table>\n<p>146 rows × 10 columns</p>\n</div>"
     },
     "metadata": {},
     "execution_count": 31
    }
   ],
   "source": [
    "# Merge \"secondary_wa_2017\" & \"school_coordinates\" Dataframes\n",
    "wa_hs_atar_2017_coord = pd.merge(secondary_wa_2017, school_coordinates, on='School', how='left')\n",
    "wa_hs_atar_2017_coord"
   ]
  },
  {
   "cell_type": "code",
   "execution_count": 32,
   "metadata": {},
   "outputs": [
    {
     "output_type": "execute_result",
     "data": {
      "text/plain": [
       "Empty DataFrame\n",
       "Columns: [School, Year, Rank, Median ATAR, No. eligible Yr 12 students, No. Students with an ATAR, Percentage of students with an ATAR, Suburb, Longitude, Latitude]\n",
       "Index: []"
      ],
      "text/html": "<div>\n<style scoped>\n    .dataframe tbody tr th:only-of-type {\n        vertical-align: middle;\n    }\n\n    .dataframe tbody tr th {\n        vertical-align: top;\n    }\n\n    .dataframe thead th {\n        text-align: right;\n    }\n</style>\n<table border=\"1\" class=\"dataframe\">\n  <thead>\n    <tr style=\"text-align: right;\">\n      <th></th>\n      <th>School</th>\n      <th>Year</th>\n      <th>Rank</th>\n      <th>Median ATAR</th>\n      <th>No. eligible Yr 12 students</th>\n      <th>No. Students with an ATAR</th>\n      <th>Percentage of students with an ATAR</th>\n      <th>Suburb</th>\n      <th>Longitude</th>\n      <th>Latitude</th>\n    </tr>\n  </thead>\n  <tbody>\n  </tbody>\n</table>\n</div>"
     },
     "metadata": {},
     "execution_count": 32
    }
   ],
   "source": [
    "# Check for NaN values\n",
    "# creating bool series True for NaN values  \n",
    "bool_series = pd.isnull(wa_hs_atar_2017_coord[\"Longitude\"])  \n",
    "    \n",
    "# filtering data  \n",
    "# displaying data only with \"Longitude\" = NaN\n",
    "wa_hs_atar_2017_coord[bool_series]"
   ]
  },
  {
   "cell_type": "code",
   "execution_count": 33,
   "metadata": {},
   "outputs": [
    {
     "output_type": "execute_result",
     "data": {
      "text/plain": [
       "                                   School  Year  Rank  Median ATAR  \\\n",
       "0                     Perth Modern School  2017     1        95.90   \n",
       "1    St Hilda's Anglican School for Girls  2017     2        93.60   \n",
       "2            Christ Church Grammar School  2017     3        92.45   \n",
       "3                         Penrhos College  2017     4        91.20   \n",
       "4        St Mary's Anglican Girls' School  2017     5        90.95   \n",
       "..                                    ...   ...   ...          ...   \n",
       "141                        Butler College  2017   142        57.25   \n",
       "142         Warnbro Community High School  2017   143        56.35   \n",
       "143         Safety Bay Senior High School  2017   144        56.05   \n",
       "144                Southern River College  2017   145        55.40   \n",
       "145            Hedland Senior High School  2017   146        52.45   \n",
       "\n",
       "     No. eligible Yr 12 students  No. Students with an ATAR  \\\n",
       "0                            223                        222   \n",
       "1                            142                        133   \n",
       "2                            182                        159   \n",
       "3                            139                        119   \n",
       "4                            174                        157   \n",
       "..                           ...                        ...   \n",
       "141                          214                         71   \n",
       "142                           99                         21   \n",
       "143                          130                         31   \n",
       "144                           96                         24   \n",
       "145                           90                         29   \n",
       "\n",
       "     Percentage of students with an ATAR         Suburb   Longitude  \\\n",
       "0                                  99.55        Subiaco  115.836396   \n",
       "1                                  93.66    Mosman Park  115.767812   \n",
       "2                                  87.36      Claremont  115.776987   \n",
       "3                                  85.61           Como  115.872539   \n",
       "4                                  90.23      Karrinyup  115.766244   \n",
       "..                                   ...            ...         ...   \n",
       "141                                33.18         Butler  115.708701   \n",
       "142                                21.21        Warnbro  115.759096   \n",
       "143                                23.85     Safety Bay  115.740964   \n",
       "144                                25.00       Gosnells  115.979918   \n",
       "145                                32.22  South Hedland  118.598616   \n",
       "\n",
       "      Latitude          Sector Gender  Religion  \n",
       "0   -31.945066      Government  Co-ed   Secular  \n",
       "1   -32.005047  Non-government  Girls  Anglican  \n",
       "2   -31.985461  Non-government   Boys  Anglican  \n",
       "3   -31.997431  Non-government  Girls   Uniting  \n",
       "4   -31.876971  Non-government  Girls  Anglican  \n",
       "..         ...             ...    ...       ...  \n",
       "141 -31.651664      Government  Co-ed   Secular  \n",
       "142 -32.345569      Government  Co-ed   Secular  \n",
       "143 -32.303286      Government  Co-ed   Secular  \n",
       "144 -32.085598      Government  Co-ed   Secular  \n",
       "145 -20.398789      Government  Co-ed   Secular  \n",
       "\n",
       "[146 rows x 13 columns]"
      ],
      "text/html": "<div>\n<style scoped>\n    .dataframe tbody tr th:only-of-type {\n        vertical-align: middle;\n    }\n\n    .dataframe tbody tr th {\n        vertical-align: top;\n    }\n\n    .dataframe thead th {\n        text-align: right;\n    }\n</style>\n<table border=\"1\" class=\"dataframe\">\n  <thead>\n    <tr style=\"text-align: right;\">\n      <th></th>\n      <th>School</th>\n      <th>Year</th>\n      <th>Rank</th>\n      <th>Median ATAR</th>\n      <th>No. eligible Yr 12 students</th>\n      <th>No. Students with an ATAR</th>\n      <th>Percentage of students with an ATAR</th>\n      <th>Suburb</th>\n      <th>Longitude</th>\n      <th>Latitude</th>\n      <th>Sector</th>\n      <th>Gender</th>\n      <th>Religion</th>\n    </tr>\n  </thead>\n  <tbody>\n    <tr>\n      <th>0</th>\n      <td>Perth Modern School</td>\n      <td>2017</td>\n      <td>1</td>\n      <td>95.90</td>\n      <td>223</td>\n      <td>222</td>\n      <td>99.55</td>\n      <td>Subiaco</td>\n      <td>115.836396</td>\n      <td>-31.945066</td>\n      <td>Government</td>\n      <td>Co-ed</td>\n      <td>Secular</td>\n    </tr>\n    <tr>\n      <th>1</th>\n      <td>St Hilda's Anglican School for Girls</td>\n      <td>2017</td>\n      <td>2</td>\n      <td>93.60</td>\n      <td>142</td>\n      <td>133</td>\n      <td>93.66</td>\n      <td>Mosman Park</td>\n      <td>115.767812</td>\n      <td>-32.005047</td>\n      <td>Non-government</td>\n      <td>Girls</td>\n      <td>Anglican</td>\n    </tr>\n    <tr>\n      <th>2</th>\n      <td>Christ Church Grammar School</td>\n      <td>2017</td>\n      <td>3</td>\n      <td>92.45</td>\n      <td>182</td>\n      <td>159</td>\n      <td>87.36</td>\n      <td>Claremont</td>\n      <td>115.776987</td>\n      <td>-31.985461</td>\n      <td>Non-government</td>\n      <td>Boys</td>\n      <td>Anglican</td>\n    </tr>\n    <tr>\n      <th>3</th>\n      <td>Penrhos College</td>\n      <td>2017</td>\n      <td>4</td>\n      <td>91.20</td>\n      <td>139</td>\n      <td>119</td>\n      <td>85.61</td>\n      <td>Como</td>\n      <td>115.872539</td>\n      <td>-31.997431</td>\n      <td>Non-government</td>\n      <td>Girls</td>\n      <td>Uniting</td>\n    </tr>\n    <tr>\n      <th>4</th>\n      <td>St Mary's Anglican Girls' School</td>\n      <td>2017</td>\n      <td>5</td>\n      <td>90.95</td>\n      <td>174</td>\n      <td>157</td>\n      <td>90.23</td>\n      <td>Karrinyup</td>\n      <td>115.766244</td>\n      <td>-31.876971</td>\n      <td>Non-government</td>\n      <td>Girls</td>\n      <td>Anglican</td>\n    </tr>\n    <tr>\n      <th>...</th>\n      <td>...</td>\n      <td>...</td>\n      <td>...</td>\n      <td>...</td>\n      <td>...</td>\n      <td>...</td>\n      <td>...</td>\n      <td>...</td>\n      <td>...</td>\n      <td>...</td>\n      <td>...</td>\n      <td>...</td>\n      <td>...</td>\n    </tr>\n    <tr>\n      <th>141</th>\n      <td>Butler College</td>\n      <td>2017</td>\n      <td>142</td>\n      <td>57.25</td>\n      <td>214</td>\n      <td>71</td>\n      <td>33.18</td>\n      <td>Butler</td>\n      <td>115.708701</td>\n      <td>-31.651664</td>\n      <td>Government</td>\n      <td>Co-ed</td>\n      <td>Secular</td>\n    </tr>\n    <tr>\n      <th>142</th>\n      <td>Warnbro Community High School</td>\n      <td>2017</td>\n      <td>143</td>\n      <td>56.35</td>\n      <td>99</td>\n      <td>21</td>\n      <td>21.21</td>\n      <td>Warnbro</td>\n      <td>115.759096</td>\n      <td>-32.345569</td>\n      <td>Government</td>\n      <td>Co-ed</td>\n      <td>Secular</td>\n    </tr>\n    <tr>\n      <th>143</th>\n      <td>Safety Bay Senior High School</td>\n      <td>2017</td>\n      <td>144</td>\n      <td>56.05</td>\n      <td>130</td>\n      <td>31</td>\n      <td>23.85</td>\n      <td>Safety Bay</td>\n      <td>115.740964</td>\n      <td>-32.303286</td>\n      <td>Government</td>\n      <td>Co-ed</td>\n      <td>Secular</td>\n    </tr>\n    <tr>\n      <th>144</th>\n      <td>Southern River College</td>\n      <td>2017</td>\n      <td>145</td>\n      <td>55.40</td>\n      <td>96</td>\n      <td>24</td>\n      <td>25.00</td>\n      <td>Gosnells</td>\n      <td>115.979918</td>\n      <td>-32.085598</td>\n      <td>Government</td>\n      <td>Co-ed</td>\n      <td>Secular</td>\n    </tr>\n    <tr>\n      <th>145</th>\n      <td>Hedland Senior High School</td>\n      <td>2017</td>\n      <td>146</td>\n      <td>52.45</td>\n      <td>90</td>\n      <td>29</td>\n      <td>32.22</td>\n      <td>South Hedland</td>\n      <td>118.598616</td>\n      <td>-20.398789</td>\n      <td>Government</td>\n      <td>Co-ed</td>\n      <td>Secular</td>\n    </tr>\n  </tbody>\n</table>\n<p>146 rows × 13 columns</p>\n</div>"
     },
     "metadata": {},
     "execution_count": 33
    }
   ],
   "source": [
    "# Merge both \"wa_hs_atar_2017_coord\" & \"sectors\" Dataframes\n",
    "wa_hs_atar_2017 = pd.merge(wa_hs_atar_2017_coord, sectors, on='School', how='left')\n",
    "wa_hs_atar_2017"
   ]
  },
  {
   "cell_type": "code",
   "execution_count": 34,
   "metadata": {},
   "outputs": [
    {
     "output_type": "execute_result",
     "data": {
      "text/plain": [
       "Empty DataFrame\n",
       "Columns: [School, Year, Rank, Median ATAR, No. eligible Yr 12 students, No. Students with an ATAR, Percentage of students with an ATAR, Suburb, Longitude, Latitude, Sector, Gender, Religion]\n",
       "Index: []"
      ],
      "text/html": "<div>\n<style scoped>\n    .dataframe tbody tr th:only-of-type {\n        vertical-align: middle;\n    }\n\n    .dataframe tbody tr th {\n        vertical-align: top;\n    }\n\n    .dataframe thead th {\n        text-align: right;\n    }\n</style>\n<table border=\"1\" class=\"dataframe\">\n  <thead>\n    <tr style=\"text-align: right;\">\n      <th></th>\n      <th>School</th>\n      <th>Year</th>\n      <th>Rank</th>\n      <th>Median ATAR</th>\n      <th>No. eligible Yr 12 students</th>\n      <th>No. Students with an ATAR</th>\n      <th>Percentage of students with an ATAR</th>\n      <th>Suburb</th>\n      <th>Longitude</th>\n      <th>Latitude</th>\n      <th>Sector</th>\n      <th>Gender</th>\n      <th>Religion</th>\n    </tr>\n  </thead>\n  <tbody>\n  </tbody>\n</table>\n</div>"
     },
     "metadata": {},
     "execution_count": 34
    }
   ],
   "source": [
    "# Check for NaN values\n",
    "# creating bool series True for NaN values  \n",
    "bool_series = pd.isnull(wa_hs_atar_2017[\"Sector\"])  \n",
    "    \n",
    "# filtering data  \n",
    "# displaying data only with \"Sector\" = NaN\n",
    "wa_hs_atar_2017[bool_series]"
   ]
  },
  {
   "cell_type": "code",
   "execution_count": 35,
   "metadata": {},
   "outputs": [],
   "source": [
    "# save the \"wa_hs_atar_2017\" Dataframe to a CSV file\n",
    "wa_hs_atar_2017.to_csv(\"Resources/wa_hs_atar_2017.csv\", index = False)"
   ]
  },
  {
   "cell_type": "code",
   "execution_count": 36,
   "metadata": {},
   "outputs": [
    {
     "output_type": "execute_result",
     "data": {
      "text/plain": [
       "     Year  Better Education Rank                           School  \\\n",
       "0    2016                      1              Perth Modern School   \n",
       "1    2016                      2     Presbyterian Ladies' College   \n",
       "2    2016                      3                  Penrhos College   \n",
       "3    2016                      4     Christ Church Grammar School   \n",
       "4    2016                      5              Santa Maria College   \n",
       "..    ...                    ...                              ...   \n",
       "138  2016                    139      Thornlie Senior High School   \n",
       "139  2016                    140      Lakeland Senior High School   \n",
       "140  2016                    141  Newton Moore Senior High School   \n",
       "141  2016                    142     Foundation Christian College   \n",
       "142  2016                    143    Warnbro Community High School   \n",
       "\n",
       "     Median ATAR  No. eligible Yr 12 students  No. Students with an ATAR  \\\n",
       "0          95.55                          222                        220   \n",
       "1          92.90                          122                        110   \n",
       "2          92.65                          145                        123   \n",
       "3          92.50                          188                        171   \n",
       "4          91.85                          189                        151   \n",
       "..           ...                          ...                        ...   \n",
       "138        58.45                          125                         35   \n",
       "139        57.70                           89                         27   \n",
       "140        56.95                           90                         35   \n",
       "141        50.65                           35                         26   \n",
       "142        45.30                          171                         48   \n",
       "\n",
       "     % students with an ATAR  Trend / Compare  \n",
       "0                      99.10  Trend / Compare  \n",
       "1                      90.16  Trend / Compare  \n",
       "2                      84.83  Trend / Compare  \n",
       "3                      90.96  Trend / Compare  \n",
       "4                      79.89  Trend / Compare  \n",
       "..                       ...              ...  \n",
       "138                    28.00  Trend / Compare  \n",
       "139                    30.34  Trend / Compare  \n",
       "140                    38.89  Trend / Compare  \n",
       "141                    74.29  Trend / Compare  \n",
       "142                    28.07  Trend / Compare  \n",
       "\n",
       "[143 rows x 8 columns]"
      ],
      "text/html": "<div>\n<style scoped>\n    .dataframe tbody tr th:only-of-type {\n        vertical-align: middle;\n    }\n\n    .dataframe tbody tr th {\n        vertical-align: top;\n    }\n\n    .dataframe thead th {\n        text-align: right;\n    }\n</style>\n<table border=\"1\" class=\"dataframe\">\n  <thead>\n    <tr style=\"text-align: right;\">\n      <th></th>\n      <th>Year</th>\n      <th>Better Education Rank</th>\n      <th>School</th>\n      <th>Median ATAR</th>\n      <th>No. eligible Yr 12 students</th>\n      <th>No. Students with an ATAR</th>\n      <th>% students with an ATAR</th>\n      <th>Trend / Compare</th>\n    </tr>\n  </thead>\n  <tbody>\n    <tr>\n      <th>0</th>\n      <td>2016</td>\n      <td>1</td>\n      <td>Perth Modern School</td>\n      <td>95.55</td>\n      <td>222</td>\n      <td>220</td>\n      <td>99.10</td>\n      <td>Trend / Compare</td>\n    </tr>\n    <tr>\n      <th>1</th>\n      <td>2016</td>\n      <td>2</td>\n      <td>Presbyterian Ladies' College</td>\n      <td>92.90</td>\n      <td>122</td>\n      <td>110</td>\n      <td>90.16</td>\n      <td>Trend / Compare</td>\n    </tr>\n    <tr>\n      <th>2</th>\n      <td>2016</td>\n      <td>3</td>\n      <td>Penrhos College</td>\n      <td>92.65</td>\n      <td>145</td>\n      <td>123</td>\n      <td>84.83</td>\n      <td>Trend / Compare</td>\n    </tr>\n    <tr>\n      <th>3</th>\n      <td>2016</td>\n      <td>4</td>\n      <td>Christ Church Grammar School</td>\n      <td>92.50</td>\n      <td>188</td>\n      <td>171</td>\n      <td>90.96</td>\n      <td>Trend / Compare</td>\n    </tr>\n    <tr>\n      <th>4</th>\n      <td>2016</td>\n      <td>5</td>\n      <td>Santa Maria College</td>\n      <td>91.85</td>\n      <td>189</td>\n      <td>151</td>\n      <td>79.89</td>\n      <td>Trend / Compare</td>\n    </tr>\n    <tr>\n      <th>...</th>\n      <td>...</td>\n      <td>...</td>\n      <td>...</td>\n      <td>...</td>\n      <td>...</td>\n      <td>...</td>\n      <td>...</td>\n      <td>...</td>\n    </tr>\n    <tr>\n      <th>138</th>\n      <td>2016</td>\n      <td>139</td>\n      <td>Thornlie Senior High School</td>\n      <td>58.45</td>\n      <td>125</td>\n      <td>35</td>\n      <td>28.00</td>\n      <td>Trend / Compare</td>\n    </tr>\n    <tr>\n      <th>139</th>\n      <td>2016</td>\n      <td>140</td>\n      <td>Lakeland Senior High School</td>\n      <td>57.70</td>\n      <td>89</td>\n      <td>27</td>\n      <td>30.34</td>\n      <td>Trend / Compare</td>\n    </tr>\n    <tr>\n      <th>140</th>\n      <td>2016</td>\n      <td>141</td>\n      <td>Newton Moore Senior High School</td>\n      <td>56.95</td>\n      <td>90</td>\n      <td>35</td>\n      <td>38.89</td>\n      <td>Trend / Compare</td>\n    </tr>\n    <tr>\n      <th>141</th>\n      <td>2016</td>\n      <td>142</td>\n      <td>Foundation Christian College</td>\n      <td>50.65</td>\n      <td>35</td>\n      <td>26</td>\n      <td>74.29</td>\n      <td>Trend / Compare</td>\n    </tr>\n    <tr>\n      <th>142</th>\n      <td>2016</td>\n      <td>143</td>\n      <td>Warnbro Community High School</td>\n      <td>45.30</td>\n      <td>171</td>\n      <td>48</td>\n      <td>28.07</td>\n      <td>Trend / Compare</td>\n    </tr>\n  </tbody>\n</table>\n<p>143 rows × 8 columns</p>\n</div>"
     },
     "metadata": {},
     "execution_count": 36
    }
   ],
   "source": [
    "# get the 2016 url WA schools\n",
    "url_secondary_wa_2016 =\"https://bettereducation.com.au/Results/WA/wace.aspx?yr=2016\"\n",
    "\n",
    "# Use panda's `read_html` to parse the 2016 ATAR url\n",
    "secondary_wa_2016 = pd.read_html(url_secondary_wa_2016, header=0)[0]\n",
    "\n",
    "# rename the \"Unnamed: 0\" column name\n",
    "secondary_wa_2016 = secondary_wa_2016.rename(columns = {\"Unnamed: 0\" : \"Year\"})\n",
    "\n",
    "# replace the values of the \"Year\" column\n",
    "secondary_wa_2016['Year'] = 2016\n",
    "secondary_wa_2016"
   ]
  },
  {
   "cell_type": "code",
   "execution_count": 37,
   "metadata": {},
   "outputs": [
    {
     "output_type": "execute_result",
     "data": {
      "text/plain": [
       "                              School  Year  Rank  Median ATAR  \\\n",
       "0                Perth Modern School  2016     1        95.55   \n",
       "1       Presbyterian Ladies' College  2016     2        92.90   \n",
       "2                    Penrhos College  2016     3        92.65   \n",
       "3       Christ Church Grammar School  2016     4        92.50   \n",
       "4                Santa Maria College  2016     5        91.85   \n",
       "..                               ...   ...   ...          ...   \n",
       "138      Thornlie Senior High School  2016   139        58.45   \n",
       "139      Lakeland Senior High School  2016   140        57.70   \n",
       "140  Newton Moore Senior High School  2016   141        56.95   \n",
       "141     Foundation Christian College  2016   142        50.65   \n",
       "142    Warnbro Community High School  2016   143        45.30   \n",
       "\n",
       "     No. eligible Yr 12 students  No. Students with an ATAR  \\\n",
       "0                            222                        220   \n",
       "1                            122                        110   \n",
       "2                            145                        123   \n",
       "3                            188                        171   \n",
       "4                            189                        151   \n",
       "..                           ...                        ...   \n",
       "138                          125                         35   \n",
       "139                           89                         27   \n",
       "140                           90                         35   \n",
       "141                           35                         26   \n",
       "142                          171                         48   \n",
       "\n",
       "     Percentage of students with an ATAR  \n",
       "0                                  99.10  \n",
       "1                                  90.16  \n",
       "2                                  84.83  \n",
       "3                                  90.96  \n",
       "4                                  79.89  \n",
       "..                                   ...  \n",
       "138                                28.00  \n",
       "139                                30.34  \n",
       "140                                38.89  \n",
       "141                                74.29  \n",
       "142                                28.07  \n",
       "\n",
       "[143 rows x 7 columns]"
      ],
      "text/html": "<div>\n<style scoped>\n    .dataframe tbody tr th:only-of-type {\n        vertical-align: middle;\n    }\n\n    .dataframe tbody tr th {\n        vertical-align: top;\n    }\n\n    .dataframe thead th {\n        text-align: right;\n    }\n</style>\n<table border=\"1\" class=\"dataframe\">\n  <thead>\n    <tr style=\"text-align: right;\">\n      <th></th>\n      <th>School</th>\n      <th>Year</th>\n      <th>Rank</th>\n      <th>Median ATAR</th>\n      <th>No. eligible Yr 12 students</th>\n      <th>No. Students with an ATAR</th>\n      <th>Percentage of students with an ATAR</th>\n    </tr>\n  </thead>\n  <tbody>\n    <tr>\n      <th>0</th>\n      <td>Perth Modern School</td>\n      <td>2016</td>\n      <td>1</td>\n      <td>95.55</td>\n      <td>222</td>\n      <td>220</td>\n      <td>99.10</td>\n    </tr>\n    <tr>\n      <th>1</th>\n      <td>Presbyterian Ladies' College</td>\n      <td>2016</td>\n      <td>2</td>\n      <td>92.90</td>\n      <td>122</td>\n      <td>110</td>\n      <td>90.16</td>\n    </tr>\n    <tr>\n      <th>2</th>\n      <td>Penrhos College</td>\n      <td>2016</td>\n      <td>3</td>\n      <td>92.65</td>\n      <td>145</td>\n      <td>123</td>\n      <td>84.83</td>\n    </tr>\n    <tr>\n      <th>3</th>\n      <td>Christ Church Grammar School</td>\n      <td>2016</td>\n      <td>4</td>\n      <td>92.50</td>\n      <td>188</td>\n      <td>171</td>\n      <td>90.96</td>\n    </tr>\n    <tr>\n      <th>4</th>\n      <td>Santa Maria College</td>\n      <td>2016</td>\n      <td>5</td>\n      <td>91.85</td>\n      <td>189</td>\n      <td>151</td>\n      <td>79.89</td>\n    </tr>\n    <tr>\n      <th>...</th>\n      <td>...</td>\n      <td>...</td>\n      <td>...</td>\n      <td>...</td>\n      <td>...</td>\n      <td>...</td>\n      <td>...</td>\n    </tr>\n    <tr>\n      <th>138</th>\n      <td>Thornlie Senior High School</td>\n      <td>2016</td>\n      <td>139</td>\n      <td>58.45</td>\n      <td>125</td>\n      <td>35</td>\n      <td>28.00</td>\n    </tr>\n    <tr>\n      <th>139</th>\n      <td>Lakeland Senior High School</td>\n      <td>2016</td>\n      <td>140</td>\n      <td>57.70</td>\n      <td>89</td>\n      <td>27</td>\n      <td>30.34</td>\n    </tr>\n    <tr>\n      <th>140</th>\n      <td>Newton Moore Senior High School</td>\n      <td>2016</td>\n      <td>141</td>\n      <td>56.95</td>\n      <td>90</td>\n      <td>35</td>\n      <td>38.89</td>\n    </tr>\n    <tr>\n      <th>141</th>\n      <td>Foundation Christian College</td>\n      <td>2016</td>\n      <td>142</td>\n      <td>50.65</td>\n      <td>35</td>\n      <td>26</td>\n      <td>74.29</td>\n    </tr>\n    <tr>\n      <th>142</th>\n      <td>Warnbro Community High School</td>\n      <td>2016</td>\n      <td>143</td>\n      <td>45.30</td>\n      <td>171</td>\n      <td>48</td>\n      <td>28.07</td>\n    </tr>\n  </tbody>\n</table>\n<p>143 rows × 7 columns</p>\n</div>"
     },
     "metadata": {},
     "execution_count": 37
    }
   ],
   "source": [
    "# rename some column names to prevent issues when uploading the data to PostgreSQL later on (eg. % will cause an error)\n",
    "secondary_wa_2016 = secondary_wa_2016.rename(columns = {\"Better Education Rank\" : \"Rank\",\n",
    "                                                          \"% students with an ATAR\" : \"Percentage of students with an ATAR\"})\n",
    "\n",
    "# re-arrange the columns & delete the column \"Trend / Compare\" since it's not required\n",
    "secondary_wa_2016 = secondary_wa_2016[['School', 'Year', 'Rank', 'Median ATAR','No. eligible Yr 12 students', 'No. Students with an ATAR', 'Percentage of students with an ATAR']]\n",
    "\n",
    "secondary_wa_2016"
   ]
  },
  {
   "cell_type": "code",
   "execution_count": 38,
   "metadata": {},
   "outputs": [],
   "source": [
    "# replace some values to correct the spelling to prevent Null values when performing the merge with other Dataframes later on\n",
    "secondary_wa_2016[\"School\"].replace({\"Australian Islamic College\": \"Australian Islamic College - Dianella\", \n",
    "                       \"Christian Brothers College,Fremantle,WA,6160\": \"Christian Brothers' College\",\n",
    "                       \"Australian Islamic College (Kewdale)\": \"Australian Islamic College - Kewdale\",\n",
    "                       \"Serpentine-Jarrahdale Grammar School\": \"Court Grammar School\",\n",
    "                       \"Western Australian College of Agriculture (Cunderdin)\": \"Western Australian College Of Agriculture - Cunderdin\",\n",
    "                       \"Carey Baptist College,Harrisdale,WA,6112\": \"Carey Baptist College\",\n",
    "                       \"St Mary MacKillop College\": \"St Mary Mackillop College\",\n",
    "                       \"John Curtin College Of The Arts\": \"John Curtin College of The Arts\",\n",
    "                       \"St Stephen's School (Carramar)\": \"St Stephen's School - Carramar\",\n",
    "                       \"St Stephen's School (Duncraig)\": \"St Stephen's School - Duncraig\",\n",
    "                       \"St Stephen's School\": \"St Stephen's School - Carramar\",\n",
    "                       \"Irene McCormack Catholic Colle\": \"Irene McCormack Catholic College\",\n",
    "                       \"Swan Valley Anglican Community\": \"Swan Valley Anglican Community School\",\n",
    "                       \"John Curtin College Of The Arts\": \"John Curtin College of the Arts\",\n",
    "                       \"Peter Moyes Anglican Community\": \"Peter Moyes Anglican Community School\",\n",
    "                       \"Great Southern Grammar School\": \"Great Southern Grammar\"\n",
    "                        }, inplace=True)"
   ]
  },
  {
   "cell_type": "code",
   "execution_count": 39,
   "metadata": {},
   "outputs": [
    {
     "output_type": "execute_result",
     "data": {
      "text/plain": [
       "                              School  Year  Rank  Median ATAR  \\\n",
       "0                Perth Modern School  2016     1        95.55   \n",
       "1       Presbyterian Ladies' College  2016     2        92.90   \n",
       "2                    Penrhos College  2016     3        92.65   \n",
       "3       Christ Church Grammar School  2016     4        92.50   \n",
       "4                Santa Maria College  2016     5        91.85   \n",
       "..                               ...   ...   ...          ...   \n",
       "138      Thornlie Senior High School  2016   139        58.45   \n",
       "139      Lakeland Senior High School  2016   140        57.70   \n",
       "140  Newton Moore Senior High School  2016   141        56.95   \n",
       "141     Foundation Christian College  2016   142        50.65   \n",
       "142    Warnbro Community High School  2016   143        45.30   \n",
       "\n",
       "     No. eligible Yr 12 students  No. Students with an ATAR  \\\n",
       "0                            222                        220   \n",
       "1                            122                        110   \n",
       "2                            145                        123   \n",
       "3                            188                        171   \n",
       "4                            189                        151   \n",
       "..                           ...                        ...   \n",
       "138                          125                         35   \n",
       "139                           89                         27   \n",
       "140                           90                         35   \n",
       "141                           35                         26   \n",
       "142                          171                         48   \n",
       "\n",
       "     Percentage of students with an ATAR            Suburb   Longitude  \\\n",
       "0                                  99.10           Subiaco  115.836396   \n",
       "1                                  90.16  Peppermint Grove  115.764906   \n",
       "2                                  84.83              Como  115.872539   \n",
       "3                                  90.96         Claremont  115.776987   \n",
       "4                                  79.89          Attadale  115.795823   \n",
       "..                                   ...               ...         ...   \n",
       "138                                28.00          Thornlie  115.959641   \n",
       "139                                30.34        South Lake  115.845914   \n",
       "140                                38.89     South Bunbury  115.635421   \n",
       "141                                74.29       Greenfields  115.762289   \n",
       "142                                28.07           Warnbro  115.759096   \n",
       "\n",
       "      Latitude  \n",
       "0   -31.945066  \n",
       "1   -31.993592  \n",
       "2   -31.997431  \n",
       "3   -31.985461  \n",
       "4   -32.018614  \n",
       "..         ...  \n",
       "138 -32.066276  \n",
       "139 -32.109055  \n",
       "140 -33.359211  \n",
       "141 -32.529316  \n",
       "142 -32.345569  \n",
       "\n",
       "[143 rows x 10 columns]"
      ],
      "text/html": "<div>\n<style scoped>\n    .dataframe tbody tr th:only-of-type {\n        vertical-align: middle;\n    }\n\n    .dataframe tbody tr th {\n        vertical-align: top;\n    }\n\n    .dataframe thead th {\n        text-align: right;\n    }\n</style>\n<table border=\"1\" class=\"dataframe\">\n  <thead>\n    <tr style=\"text-align: right;\">\n      <th></th>\n      <th>School</th>\n      <th>Year</th>\n      <th>Rank</th>\n      <th>Median ATAR</th>\n      <th>No. eligible Yr 12 students</th>\n      <th>No. Students with an ATAR</th>\n      <th>Percentage of students with an ATAR</th>\n      <th>Suburb</th>\n      <th>Longitude</th>\n      <th>Latitude</th>\n    </tr>\n  </thead>\n  <tbody>\n    <tr>\n      <th>0</th>\n      <td>Perth Modern School</td>\n      <td>2016</td>\n      <td>1</td>\n      <td>95.55</td>\n      <td>222</td>\n      <td>220</td>\n      <td>99.10</td>\n      <td>Subiaco</td>\n      <td>115.836396</td>\n      <td>-31.945066</td>\n    </tr>\n    <tr>\n      <th>1</th>\n      <td>Presbyterian Ladies' College</td>\n      <td>2016</td>\n      <td>2</td>\n      <td>92.90</td>\n      <td>122</td>\n      <td>110</td>\n      <td>90.16</td>\n      <td>Peppermint Grove</td>\n      <td>115.764906</td>\n      <td>-31.993592</td>\n    </tr>\n    <tr>\n      <th>2</th>\n      <td>Penrhos College</td>\n      <td>2016</td>\n      <td>3</td>\n      <td>92.65</td>\n      <td>145</td>\n      <td>123</td>\n      <td>84.83</td>\n      <td>Como</td>\n      <td>115.872539</td>\n      <td>-31.997431</td>\n    </tr>\n    <tr>\n      <th>3</th>\n      <td>Christ Church Grammar School</td>\n      <td>2016</td>\n      <td>4</td>\n      <td>92.50</td>\n      <td>188</td>\n      <td>171</td>\n      <td>90.96</td>\n      <td>Claremont</td>\n      <td>115.776987</td>\n      <td>-31.985461</td>\n    </tr>\n    <tr>\n      <th>4</th>\n      <td>Santa Maria College</td>\n      <td>2016</td>\n      <td>5</td>\n      <td>91.85</td>\n      <td>189</td>\n      <td>151</td>\n      <td>79.89</td>\n      <td>Attadale</td>\n      <td>115.795823</td>\n      <td>-32.018614</td>\n    </tr>\n    <tr>\n      <th>...</th>\n      <td>...</td>\n      <td>...</td>\n      <td>...</td>\n      <td>...</td>\n      <td>...</td>\n      <td>...</td>\n      <td>...</td>\n      <td>...</td>\n      <td>...</td>\n      <td>...</td>\n    </tr>\n    <tr>\n      <th>138</th>\n      <td>Thornlie Senior High School</td>\n      <td>2016</td>\n      <td>139</td>\n      <td>58.45</td>\n      <td>125</td>\n      <td>35</td>\n      <td>28.00</td>\n      <td>Thornlie</td>\n      <td>115.959641</td>\n      <td>-32.066276</td>\n    </tr>\n    <tr>\n      <th>139</th>\n      <td>Lakeland Senior High School</td>\n      <td>2016</td>\n      <td>140</td>\n      <td>57.70</td>\n      <td>89</td>\n      <td>27</td>\n      <td>30.34</td>\n      <td>South Lake</td>\n      <td>115.845914</td>\n      <td>-32.109055</td>\n    </tr>\n    <tr>\n      <th>140</th>\n      <td>Newton Moore Senior High School</td>\n      <td>2016</td>\n      <td>141</td>\n      <td>56.95</td>\n      <td>90</td>\n      <td>35</td>\n      <td>38.89</td>\n      <td>South Bunbury</td>\n      <td>115.635421</td>\n      <td>-33.359211</td>\n    </tr>\n    <tr>\n      <th>141</th>\n      <td>Foundation Christian College</td>\n      <td>2016</td>\n      <td>142</td>\n      <td>50.65</td>\n      <td>35</td>\n      <td>26</td>\n      <td>74.29</td>\n      <td>Greenfields</td>\n      <td>115.762289</td>\n      <td>-32.529316</td>\n    </tr>\n    <tr>\n      <th>142</th>\n      <td>Warnbro Community High School</td>\n      <td>2016</td>\n      <td>143</td>\n      <td>45.30</td>\n      <td>171</td>\n      <td>48</td>\n      <td>28.07</td>\n      <td>Warnbro</td>\n      <td>115.759096</td>\n      <td>-32.345569</td>\n    </tr>\n  </tbody>\n</table>\n<p>143 rows × 10 columns</p>\n</div>"
     },
     "metadata": {},
     "execution_count": 39
    }
   ],
   "source": [
    "# Merge \"secondary_wa_2016\" & \"school_coordinates\" Dataframes\n",
    "wa_hs_atar_2016_coord = pd.merge(secondary_wa_2016, school_coordinates, on='School', how='left')\n",
    "wa_hs_atar_2016_coord"
   ]
  },
  {
   "cell_type": "code",
   "execution_count": 40,
   "metadata": {},
   "outputs": [
    {
     "output_type": "execute_result",
     "data": {
      "text/plain": [
       "Empty DataFrame\n",
       "Columns: [School, Year, Rank, Median ATAR, No. eligible Yr 12 students, No. Students with an ATAR, Percentage of students with an ATAR, Suburb, Longitude, Latitude]\n",
       "Index: []"
      ],
      "text/html": "<div>\n<style scoped>\n    .dataframe tbody tr th:only-of-type {\n        vertical-align: middle;\n    }\n\n    .dataframe tbody tr th {\n        vertical-align: top;\n    }\n\n    .dataframe thead th {\n        text-align: right;\n    }\n</style>\n<table border=\"1\" class=\"dataframe\">\n  <thead>\n    <tr style=\"text-align: right;\">\n      <th></th>\n      <th>School</th>\n      <th>Year</th>\n      <th>Rank</th>\n      <th>Median ATAR</th>\n      <th>No. eligible Yr 12 students</th>\n      <th>No. Students with an ATAR</th>\n      <th>Percentage of students with an ATAR</th>\n      <th>Suburb</th>\n      <th>Longitude</th>\n      <th>Latitude</th>\n    </tr>\n  </thead>\n  <tbody>\n  </tbody>\n</table>\n</div>"
     },
     "metadata": {},
     "execution_count": 40
    }
   ],
   "source": [
    "# Check for NaN values\n",
    "# creating bool series True for NaN values  \n",
    "bool_series = pd.isnull(wa_hs_atar_2016_coord[\"Longitude\"])  \n",
    "    \n",
    "# filtering data  \n",
    "# displaying data only with \"Longitude\" = NaN\n",
    "wa_hs_atar_2016_coord[bool_series]"
   ]
  },
  {
   "cell_type": "code",
   "execution_count": 41,
   "metadata": {},
   "outputs": [
    {
     "output_type": "execute_result",
     "data": {
      "text/plain": [
       "                              School  Year  Rank  Median ATAR  \\\n",
       "0                Perth Modern School  2016     1        95.55   \n",
       "1       Presbyterian Ladies' College  2016     2        92.90   \n",
       "2                    Penrhos College  2016     3        92.65   \n",
       "3       Christ Church Grammar School  2016     4        92.50   \n",
       "4                Santa Maria College  2016     5        91.85   \n",
       "..                               ...   ...   ...          ...   \n",
       "138      Thornlie Senior High School  2016   139        58.45   \n",
       "139      Lakeland Senior High School  2016   140        57.70   \n",
       "140  Newton Moore Senior High School  2016   141        56.95   \n",
       "141     Foundation Christian College  2016   142        50.65   \n",
       "142    Warnbro Community High School  2016   143        45.30   \n",
       "\n",
       "     No. eligible Yr 12 students  No. Students with an ATAR  \\\n",
       "0                            222                        220   \n",
       "1                            122                        110   \n",
       "2                            145                        123   \n",
       "3                            188                        171   \n",
       "4                            189                        151   \n",
       "..                           ...                        ...   \n",
       "138                          125                         35   \n",
       "139                           89                         27   \n",
       "140                           90                         35   \n",
       "141                           35                         26   \n",
       "142                          171                         48   \n",
       "\n",
       "     Percentage of students with an ATAR            Suburb   Longitude  \\\n",
       "0                                  99.10           Subiaco  115.836396   \n",
       "1                                  90.16  Peppermint Grove  115.764906   \n",
       "2                                  84.83              Como  115.872539   \n",
       "3                                  90.96         Claremont  115.776987   \n",
       "4                                  79.89          Attadale  115.795823   \n",
       "..                                   ...               ...         ...   \n",
       "138                                28.00          Thornlie  115.959641   \n",
       "139                                30.34        South Lake  115.845914   \n",
       "140                                38.89     South Bunbury  115.635421   \n",
       "141                                74.29       Greenfields  115.762289   \n",
       "142                                28.07           Warnbro  115.759096   \n",
       "\n",
       "      Latitude          Sector Gender   Religion  \n",
       "0   -31.945066      Government  Co-ed    Secular  \n",
       "1   -31.993592  Non-government  Girls    Uniting  \n",
       "2   -31.997431  Non-government  Girls    Uniting  \n",
       "3   -31.985461  Non-government   Boys   Anglican  \n",
       "4   -32.018614  Non-government  Girls   Catholic  \n",
       "..         ...             ...    ...        ...  \n",
       "138 -32.066276      Government  Co-ed    Secular  \n",
       "139 -32.109055      Government  Co-ed    Secular  \n",
       "140 -33.359211      Government  Co-ed    Secular  \n",
       "141 -32.529316  Non-government  Co-ed  Christian  \n",
       "142 -32.345569      Government  Co-ed    Secular  \n",
       "\n",
       "[143 rows x 13 columns]"
      ],
      "text/html": "<div>\n<style scoped>\n    .dataframe tbody tr th:only-of-type {\n        vertical-align: middle;\n    }\n\n    .dataframe tbody tr th {\n        vertical-align: top;\n    }\n\n    .dataframe thead th {\n        text-align: right;\n    }\n</style>\n<table border=\"1\" class=\"dataframe\">\n  <thead>\n    <tr style=\"text-align: right;\">\n      <th></th>\n      <th>School</th>\n      <th>Year</th>\n      <th>Rank</th>\n      <th>Median ATAR</th>\n      <th>No. eligible Yr 12 students</th>\n      <th>No. Students with an ATAR</th>\n      <th>Percentage of students with an ATAR</th>\n      <th>Suburb</th>\n      <th>Longitude</th>\n      <th>Latitude</th>\n      <th>Sector</th>\n      <th>Gender</th>\n      <th>Religion</th>\n    </tr>\n  </thead>\n  <tbody>\n    <tr>\n      <th>0</th>\n      <td>Perth Modern School</td>\n      <td>2016</td>\n      <td>1</td>\n      <td>95.55</td>\n      <td>222</td>\n      <td>220</td>\n      <td>99.10</td>\n      <td>Subiaco</td>\n      <td>115.836396</td>\n      <td>-31.945066</td>\n      <td>Government</td>\n      <td>Co-ed</td>\n      <td>Secular</td>\n    </tr>\n    <tr>\n      <th>1</th>\n      <td>Presbyterian Ladies' College</td>\n      <td>2016</td>\n      <td>2</td>\n      <td>92.90</td>\n      <td>122</td>\n      <td>110</td>\n      <td>90.16</td>\n      <td>Peppermint Grove</td>\n      <td>115.764906</td>\n      <td>-31.993592</td>\n      <td>Non-government</td>\n      <td>Girls</td>\n      <td>Uniting</td>\n    </tr>\n    <tr>\n      <th>2</th>\n      <td>Penrhos College</td>\n      <td>2016</td>\n      <td>3</td>\n      <td>92.65</td>\n      <td>145</td>\n      <td>123</td>\n      <td>84.83</td>\n      <td>Como</td>\n      <td>115.872539</td>\n      <td>-31.997431</td>\n      <td>Non-government</td>\n      <td>Girls</td>\n      <td>Uniting</td>\n    </tr>\n    <tr>\n      <th>3</th>\n      <td>Christ Church Grammar School</td>\n      <td>2016</td>\n      <td>4</td>\n      <td>92.50</td>\n      <td>188</td>\n      <td>171</td>\n      <td>90.96</td>\n      <td>Claremont</td>\n      <td>115.776987</td>\n      <td>-31.985461</td>\n      <td>Non-government</td>\n      <td>Boys</td>\n      <td>Anglican</td>\n    </tr>\n    <tr>\n      <th>4</th>\n      <td>Santa Maria College</td>\n      <td>2016</td>\n      <td>5</td>\n      <td>91.85</td>\n      <td>189</td>\n      <td>151</td>\n      <td>79.89</td>\n      <td>Attadale</td>\n      <td>115.795823</td>\n      <td>-32.018614</td>\n      <td>Non-government</td>\n      <td>Girls</td>\n      <td>Catholic</td>\n    </tr>\n    <tr>\n      <th>...</th>\n      <td>...</td>\n      <td>...</td>\n      <td>...</td>\n      <td>...</td>\n      <td>...</td>\n      <td>...</td>\n      <td>...</td>\n      <td>...</td>\n      <td>...</td>\n      <td>...</td>\n      <td>...</td>\n      <td>...</td>\n      <td>...</td>\n    </tr>\n    <tr>\n      <th>138</th>\n      <td>Thornlie Senior High School</td>\n      <td>2016</td>\n      <td>139</td>\n      <td>58.45</td>\n      <td>125</td>\n      <td>35</td>\n      <td>28.00</td>\n      <td>Thornlie</td>\n      <td>115.959641</td>\n      <td>-32.066276</td>\n      <td>Government</td>\n      <td>Co-ed</td>\n      <td>Secular</td>\n    </tr>\n    <tr>\n      <th>139</th>\n      <td>Lakeland Senior High School</td>\n      <td>2016</td>\n      <td>140</td>\n      <td>57.70</td>\n      <td>89</td>\n      <td>27</td>\n      <td>30.34</td>\n      <td>South Lake</td>\n      <td>115.845914</td>\n      <td>-32.109055</td>\n      <td>Government</td>\n      <td>Co-ed</td>\n      <td>Secular</td>\n    </tr>\n    <tr>\n      <th>140</th>\n      <td>Newton Moore Senior High School</td>\n      <td>2016</td>\n      <td>141</td>\n      <td>56.95</td>\n      <td>90</td>\n      <td>35</td>\n      <td>38.89</td>\n      <td>South Bunbury</td>\n      <td>115.635421</td>\n      <td>-33.359211</td>\n      <td>Government</td>\n      <td>Co-ed</td>\n      <td>Secular</td>\n    </tr>\n    <tr>\n      <th>141</th>\n      <td>Foundation Christian College</td>\n      <td>2016</td>\n      <td>142</td>\n      <td>50.65</td>\n      <td>35</td>\n      <td>26</td>\n      <td>74.29</td>\n      <td>Greenfields</td>\n      <td>115.762289</td>\n      <td>-32.529316</td>\n      <td>Non-government</td>\n      <td>Co-ed</td>\n      <td>Christian</td>\n    </tr>\n    <tr>\n      <th>142</th>\n      <td>Warnbro Community High School</td>\n      <td>2016</td>\n      <td>143</td>\n      <td>45.30</td>\n      <td>171</td>\n      <td>48</td>\n      <td>28.07</td>\n      <td>Warnbro</td>\n      <td>115.759096</td>\n      <td>-32.345569</td>\n      <td>Government</td>\n      <td>Co-ed</td>\n      <td>Secular</td>\n    </tr>\n  </tbody>\n</table>\n<p>143 rows × 13 columns</p>\n</div>"
     },
     "metadata": {},
     "execution_count": 41
    }
   ],
   "source": [
    "# Merge both \"wa_hs_atar_2016_coord\" & \"sectors\" Dataframes\n",
    "wa_hs_atar_2016 = pd.merge(wa_hs_atar_2016_coord, sectors, on='School', how='left')\n",
    "wa_hs_atar_2016"
   ]
  },
  {
   "cell_type": "code",
   "execution_count": 42,
   "metadata": {},
   "outputs": [
    {
     "output_type": "execute_result",
     "data": {
      "text/plain": [
       "Empty DataFrame\n",
       "Columns: [School, Year, Rank, Median ATAR, No. eligible Yr 12 students, No. Students with an ATAR, Percentage of students with an ATAR, Suburb, Longitude, Latitude, Sector, Gender, Religion]\n",
       "Index: []"
      ],
      "text/html": "<div>\n<style scoped>\n    .dataframe tbody tr th:only-of-type {\n        vertical-align: middle;\n    }\n\n    .dataframe tbody tr th {\n        vertical-align: top;\n    }\n\n    .dataframe thead th {\n        text-align: right;\n    }\n</style>\n<table border=\"1\" class=\"dataframe\">\n  <thead>\n    <tr style=\"text-align: right;\">\n      <th></th>\n      <th>School</th>\n      <th>Year</th>\n      <th>Rank</th>\n      <th>Median ATAR</th>\n      <th>No. eligible Yr 12 students</th>\n      <th>No. Students with an ATAR</th>\n      <th>Percentage of students with an ATAR</th>\n      <th>Suburb</th>\n      <th>Longitude</th>\n      <th>Latitude</th>\n      <th>Sector</th>\n      <th>Gender</th>\n      <th>Religion</th>\n    </tr>\n  </thead>\n  <tbody>\n  </tbody>\n</table>\n</div>"
     },
     "metadata": {},
     "execution_count": 42
    }
   ],
   "source": [
    "# Check for NaN values\n",
    "# creating bool series True for NaN values  \n",
    "bool_series = pd.isnull(wa_hs_atar_2016[\"Sector\"])  \n",
    "    \n",
    "# filtering data  \n",
    "# displaying data only with \"Sector\" = NaN\n",
    "wa_hs_atar_2016[bool_series]"
   ]
  },
  {
   "cell_type": "code",
   "execution_count": 43,
   "metadata": {},
   "outputs": [],
   "source": [
    "# save the \"wa_hs_atar_2016\" Dataframe to a CSV file\n",
    "wa_hs_atar_2016.to_csv(\"Resources/wa_hs_atar_2016.csv\", index = False)"
   ]
  },
  {
   "cell_type": "code",
   "execution_count": null,
   "metadata": {},
   "outputs": [],
   "source": []
  }
 ]
}