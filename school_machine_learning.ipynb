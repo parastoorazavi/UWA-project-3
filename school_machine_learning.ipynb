{
 "metadata": {
  "language_info": {
   "codemirror_mode": {
    "name": "ipython",
    "version": 3
   },
   "file_extension": ".py",
   "mimetype": "text/x-python",
   "name": "python",
   "nbconvert_exporter": "python",
   "pygments_lexer": "ipython3",
   "version": "3.8.3-final"
  },
  "orig_nbformat": 2,
  "kernelspec": {
   "name": "python3",
   "display_name": "Python 3",
   "language": "python"
  }
 },
 "nbformat": 4,
 "nbformat_minor": 2,
 "cells": [
  {
   "cell_type": "code",
   "execution_count": 60,
   "metadata": {},
   "outputs": [],
   "source": [
    "# import the required libraries\n",
    "import pandas as pd\n",
    "import numpy as np\n",
    "import matplotlib.pyplot as plt\n",
    "import scipy.stats as st \n",
    "%matplotlib inline"
   ]
  },
  {
   "cell_type": "code",
   "execution_count": 61,
   "metadata": {},
   "outputs": [],
   "source": [
    "df1 = pd.read_csv('../UWA-Project_3/Resources/wa_hs_atar_2016.csv')\n",
    "df1 = df1[['School','Year','Median ATAR']]\n",
    "df2 = pd.read_csv('../UWA-Project_3/Resources/wa_hs_atar_2017.csv')\n",
    "df2 = df2[['School','Year','Median ATAR']]\n",
    "df3 = pd.read_csv('../UWA-Project_3/Resources/wa_hs_atar_2018.csv')\n",
    "df3 = df3[['School','Year','Median ATAR']]\n",
    "df4 = pd.read_csv('../UWA-Project_3/Resources/wa_hs_atar_2019.csv')\n",
    "df4 = df4[['School','Year','Median ATAR']]\n",
    "df5 = pd.read_csv('../UWA-Project_3/Resources/wa_hs_atar_2020.csv')\n",
    "df5 = df5[['School','Year','Median ATAR']]"
   ]
  },
  {
   "cell_type": "code",
   "execution_count": 62,
   "metadata": {},
   "outputs": [],
   "source": [
    "mergedDf = df1.merge(df2, on='School')\n",
    "mergedDf=mergedDf.rename(columns={\"Year_x\": \"Year_16\", \"Median ATAR_x\":\"ATAR_16\",\n",
    "\"Year_y\": \"Year_17\", \"Median ATAR_y\":\"ATAR_17\"})"
   ]
  },
  {
   "cell_type": "code",
   "execution_count": 63,
   "metadata": {},
   "outputs": [],
   "source": [
    "mergedDf1 = df3.merge(df4, on='School')\n",
    "mergedDf1=mergedDf1.rename(columns={\"Year_x\": \"Year_18\", \"Median ATAR_x\":\"ATAR_18\",\n",
    "\"Year_y\": \"Year_19\", \"Median ATAR_y\":\"ATAR_19\"})"
   ]
  },
  {
   "cell_type": "code",
   "execution_count": 64,
   "metadata": {},
   "outputs": [],
   "source": [
    "mergedDf2 = mergedDf.merge(mergedDf1, on='School')"
   ]
  },
  {
   "cell_type": "code",
   "execution_count": 65,
   "metadata": {},
   "outputs": [],
   "source": [
    "mergedDf3 = mergedDf2.merge(df5, on='School')\n",
    "df = mergedDf3.rename(columns={\"Year_x_x\": \"Year_16\", \"Median ATAR_x_x\":\"ATAR_16\",\n",
    "\"Year_y_x\": \"Year_17\", \"Median ATAR_y_x\":\"ATAR_17\",\"Year_x_y\": \"Year_18\", \"Median ATAR_x_y\":\"ATAR_18\",\"Year_y_y\": \"Year_19\", \"Median ATAR_y_y\":\"ATAR_19\",\"Year\": \"Year_20\", \"Median ATAR\":\"ATAR_20\"})"
   ]
  },
  {
   "source": [
    "## First model"
   ],
   "cell_type": "markdown",
   "metadata": {}
  },
  {
   "cell_type": "code",
   "execution_count": 66,
   "metadata": {},
   "outputs": [],
   "source": [
    "# for each school \n",
    "school_name_array = [] \n",
    "y_test_array = [] \n",
    "y_pred_array = [] \n",
    "mae_array = [] \n",
    "mse_array = [] \n",
    "rmse_array = [] \n",
    "from sklearn import metrics\n",
    "for i in df.index : \n",
    "    X_train = df['Year_16'][i], df['Year_17'][i], df['Year_18'][i], df['Year_19'][i]\n",
    "    X_train = list(X_train)\n",
    "    X_train=[[j] for j in X_train]\n",
    "    X_train = np.array(X_train) \n",
    "    X_test = [df['Year_20'][i]]\n",
    "    y_train = (df['ATAR_16'][i], df['ATAR_17'][i], df['ATAR_18'][i], df['ATAR_19'][i])\n",
    "    y_train = list(y_train)\n",
    "    y_train=[[j] for j in y_train]\n",
    "    y_train = np.array(y_train) \n",
    "    y_test = (df['ATAR_20'][i])\n",
    "    from sklearn.linear_model import LinearRegression\n",
    "    regressor = LinearRegression()\n",
    "    reg = regressor.fit(X_train, y_train) # train schoool using 16-19. \n",
    "    # print(regressor.intercept_)\n",
    "    # print(regressor.coef_)\n",
    "    X_2020 = np.array(X_test)\n",
    "    X_2020 = X_2020.reshape(-1, 1)\n",
    "    y_pred = reg.predict(X_2020) # predict 2020 \n",
    "    # print(y_pred)\n",
    "    y_pred = y_pred[0] \n",
    "    predict = pd.DataFrame({'Actual': y_test, 'Predicted': y_pred}) # compare 2020 pred vs actual \n",
    "    school_name_array.append(df.iloc[i][\"School\"])\n",
    "    y_test_array.append(y_test)\n",
    "    y_pred_array.append(y_pred[0])\n",
    "    mae_array.append(metrics.mean_absolute_error([y_test], y_pred))\n",
    "    mse_array.append(metrics.mean_squared_error([y_test], y_pred)) \n",
    "    rmse_array.append(np.sqrt(metrics.mean_squared_error([y_test], y_pred))) \n",
    "predicted_df = pd.DataFrame({'School': school_name_array, 'Actual': y_test_array, 'Predicted': y_pred_array, 'MAE': mae_array, 'MSE': mse_array, 'RMSE': rmse_array})"
   ]
  },
  {
   "cell_type": "code",
   "execution_count": 67,
   "metadata": {},
   "outputs": [
    {
     "output_type": "execute_result",
     "data": {
      "text/plain": [
       "                                  School  Actual  Predicted    MAE        MSE  \\\n",
       "0                    Perth Modern School   97.55     97.475  0.075   0.005625   \n",
       "1           Presbyterian Ladies' College   89.20     87.750  1.450   2.102500   \n",
       "2                        Penrhos College   90.65     86.050  4.600  21.160000   \n",
       "3           Christ Church Grammar School   92.50     92.050  0.450   0.202500   \n",
       "4                    Santa Maria College   89.35     86.575  2.775   7.700625   \n",
       "5   St Hilda's Anglican School for Girls   92.70     89.825  2.875   8.265625   \n",
       "6                          Perth College   89.40     88.625  0.775   0.600625   \n",
       "7       St Mary's Anglican Girls' School   90.30     92.000  1.700   2.890000   \n",
       "8              Methodist Ladies' College   90.55     90.800  0.250   0.062500   \n",
       "9                        Shenton College   88.60     87.600  1.000   1.000000   \n",
       "10                           Hale School   90.35     92.650  2.300   5.290000   \n",
       "11                         Carmel School   88.85     83.975  4.875  23.765625   \n",
       "12                    John XXIII College   89.50     85.975  3.525  12.425625   \n",
       "14          Rossmoyne Senior High School   88.40     89.100  0.700   0.490000   \n",
       "31        Ursula Frayne Catholic College   83.15     90.575  7.425  55.130625   \n",
       "46                        Wesley College   83.90     90.925  7.025  49.350625   \n",
       "58           Manjimup Senior High School   80.05     76.850  3.200  10.240000   \n",
       "\n",
       "     RMSE  \n",
       "0   0.075  \n",
       "1   1.450  \n",
       "2   4.600  \n",
       "3   0.450  \n",
       "4   2.775  \n",
       "5   2.875  \n",
       "6   0.775  \n",
       "7   1.700  \n",
       "8   0.250  \n",
       "9   1.000  \n",
       "10  2.300  \n",
       "11  4.875  \n",
       "12  3.525  \n",
       "14  0.700  \n",
       "31  7.425  \n",
       "46  7.025  \n",
       "58  3.200  "
      ],
      "text/html": "<div>\n<style scoped>\n    .dataframe tbody tr th:only-of-type {\n        vertical-align: middle;\n    }\n\n    .dataframe tbody tr th {\n        vertical-align: top;\n    }\n\n    .dataframe thead th {\n        text-align: right;\n    }\n</style>\n<table border=\"1\" class=\"dataframe\">\n  <thead>\n    <tr style=\"text-align: right;\">\n      <th></th>\n      <th>School</th>\n      <th>Actual</th>\n      <th>Predicted</th>\n      <th>MAE</th>\n      <th>MSE</th>\n      <th>RMSE</th>\n    </tr>\n  </thead>\n  <tbody>\n    <tr>\n      <th>0</th>\n      <td>Perth Modern School</td>\n      <td>97.55</td>\n      <td>97.475</td>\n      <td>0.075</td>\n      <td>0.005625</td>\n      <td>0.075</td>\n    </tr>\n    <tr>\n      <th>1</th>\n      <td>Presbyterian Ladies' College</td>\n      <td>89.20</td>\n      <td>87.750</td>\n      <td>1.450</td>\n      <td>2.102500</td>\n      <td>1.450</td>\n    </tr>\n    <tr>\n      <th>2</th>\n      <td>Penrhos College</td>\n      <td>90.65</td>\n      <td>86.050</td>\n      <td>4.600</td>\n      <td>21.160000</td>\n      <td>4.600</td>\n    </tr>\n    <tr>\n      <th>3</th>\n      <td>Christ Church Grammar School</td>\n      <td>92.50</td>\n      <td>92.050</td>\n      <td>0.450</td>\n      <td>0.202500</td>\n      <td>0.450</td>\n    </tr>\n    <tr>\n      <th>4</th>\n      <td>Santa Maria College</td>\n      <td>89.35</td>\n      <td>86.575</td>\n      <td>2.775</td>\n      <td>7.700625</td>\n      <td>2.775</td>\n    </tr>\n    <tr>\n      <th>5</th>\n      <td>St Hilda's Anglican School for Girls</td>\n      <td>92.70</td>\n      <td>89.825</td>\n      <td>2.875</td>\n      <td>8.265625</td>\n      <td>2.875</td>\n    </tr>\n    <tr>\n      <th>6</th>\n      <td>Perth College</td>\n      <td>89.40</td>\n      <td>88.625</td>\n      <td>0.775</td>\n      <td>0.600625</td>\n      <td>0.775</td>\n    </tr>\n    <tr>\n      <th>7</th>\n      <td>St Mary's Anglican Girls' School</td>\n      <td>90.30</td>\n      <td>92.000</td>\n      <td>1.700</td>\n      <td>2.890000</td>\n      <td>1.700</td>\n    </tr>\n    <tr>\n      <th>8</th>\n      <td>Methodist Ladies' College</td>\n      <td>90.55</td>\n      <td>90.800</td>\n      <td>0.250</td>\n      <td>0.062500</td>\n      <td>0.250</td>\n    </tr>\n    <tr>\n      <th>9</th>\n      <td>Shenton College</td>\n      <td>88.60</td>\n      <td>87.600</td>\n      <td>1.000</td>\n      <td>1.000000</td>\n      <td>1.000</td>\n    </tr>\n    <tr>\n      <th>10</th>\n      <td>Hale School</td>\n      <td>90.35</td>\n      <td>92.650</td>\n      <td>2.300</td>\n      <td>5.290000</td>\n      <td>2.300</td>\n    </tr>\n    <tr>\n      <th>11</th>\n      <td>Carmel School</td>\n      <td>88.85</td>\n      <td>83.975</td>\n      <td>4.875</td>\n      <td>23.765625</td>\n      <td>4.875</td>\n    </tr>\n    <tr>\n      <th>12</th>\n      <td>John XXIII College</td>\n      <td>89.50</td>\n      <td>85.975</td>\n      <td>3.525</td>\n      <td>12.425625</td>\n      <td>3.525</td>\n    </tr>\n    <tr>\n      <th>14</th>\n      <td>Rossmoyne Senior High School</td>\n      <td>88.40</td>\n      <td>89.100</td>\n      <td>0.700</td>\n      <td>0.490000</td>\n      <td>0.700</td>\n    </tr>\n    <tr>\n      <th>31</th>\n      <td>Ursula Frayne Catholic College</td>\n      <td>83.15</td>\n      <td>90.575</td>\n      <td>7.425</td>\n      <td>55.130625</td>\n      <td>7.425</td>\n    </tr>\n    <tr>\n      <th>46</th>\n      <td>Wesley College</td>\n      <td>83.90</td>\n      <td>90.925</td>\n      <td>7.025</td>\n      <td>49.350625</td>\n      <td>7.025</td>\n    </tr>\n    <tr>\n      <th>58</th>\n      <td>Manjimup Senior High School</td>\n      <td>80.05</td>\n      <td>76.850</td>\n      <td>3.200</td>\n      <td>10.240000</td>\n      <td>3.200</td>\n    </tr>\n  </tbody>\n</table>\n</div>"
     },
     "metadata": {},
     "execution_count": 67
    }
   ],
   "source": [
    "# Filter the top 17 schools from 2016-2019\n",
    "predicted_17 = predicted_df.loc[(predicted_df['School'] == 'Perth Modern School') | (predicted_df['School'] == \"Presbyterian Ladies' College\") |\n",
    "                                (predicted_df['School'] == 'Penrhos College') | (predicted_df['School'] == 'Christ Church Grammar School') |\n",
    "                                (predicted_df['School'] == 'Santa Maria College') | (predicted_df['School'] == \"St Hilda's Anglican School for Girls\") |\n",
    "                                (predicted_df['School'] == 'Perth College') | (predicted_df['School'] == \"St Mary's Anglican Girls' School\") |\n",
    "                                (predicted_df['School'] == \"Methodist Ladies' College\") | (predicted_df['School'] == 'Shenton College') |\n",
    "                                (predicted_df['School'] == \"Hale School\") | (predicted_df['School'] == \"Carmel School\") |\n",
    "                                (predicted_df['School'] == \"John XXIII College\") | (predicted_df['School'] == \"Rossmoyne Senior High School\") |\n",
    "                                (predicted_df['School'] == \"Ursula Frayne Catholic College\") | (predicted_df['School'] == \"Wesley College\") |\n",
    "                                (predicted_df['School'] == \"Manjimup Senior High School\"), :]\n",
    "predicted_17"
   ]
  },
  {
   "source": [
    "## Second Model"
   ],
   "cell_type": "markdown",
   "metadata": {}
  },
  {
   "cell_type": "code",
   "execution_count": 68,
   "metadata": {},
   "outputs": [],
   "source": [
    "df_second = df.copy()"
   ]
  },
  {
   "cell_type": "code",
   "execution_count": 69,
   "metadata": {},
   "outputs": [],
   "source": [
    "df_second['Year_21'] = 2021"
   ]
  },
  {
   "cell_type": "code",
   "execution_count": 74,
   "metadata": {},
   "outputs": [
    {
     "output_type": "execute_result",
     "data": {
      "text/plain": [
       "                           School  Predicted\n",
       "0             Perth Modern School     97.945\n",
       "1    Presbyterian Ladies' College     86.835\n",
       "2                 Penrhos College     84.440\n",
       "3    Christ Church Grammar School     91.965\n",
       "4             Santa Maria College     85.275\n",
       "..                            ...        ...\n",
       "116        Quinns Baptist College     83.385\n",
       "117                Atwell College     73.450\n",
       "118            Halls Head College     60.325\n",
       "119  Ellenbrook Christian College     76.680\n",
       "120   Thornlie Senior High School     74.120\n",
       "\n",
       "[121 rows x 2 columns]"
      ],
      "text/html": "<div>\n<style scoped>\n    .dataframe tbody tr th:only-of-type {\n        vertical-align: middle;\n    }\n\n    .dataframe tbody tr th {\n        vertical-align: top;\n    }\n\n    .dataframe thead th {\n        text-align: right;\n    }\n</style>\n<table border=\"1\" class=\"dataframe\">\n  <thead>\n    <tr style=\"text-align: right;\">\n      <th></th>\n      <th>School</th>\n      <th>Predicted</th>\n    </tr>\n  </thead>\n  <tbody>\n    <tr>\n      <th>0</th>\n      <td>Perth Modern School</td>\n      <td>97.945</td>\n    </tr>\n    <tr>\n      <th>1</th>\n      <td>Presbyterian Ladies' College</td>\n      <td>86.835</td>\n    </tr>\n    <tr>\n      <th>2</th>\n      <td>Penrhos College</td>\n      <td>84.440</td>\n    </tr>\n    <tr>\n      <th>3</th>\n      <td>Christ Church Grammar School</td>\n      <td>91.965</td>\n    </tr>\n    <tr>\n      <th>4</th>\n      <td>Santa Maria College</td>\n      <td>85.275</td>\n    </tr>\n    <tr>\n      <th>...</th>\n      <td>...</td>\n      <td>...</td>\n    </tr>\n    <tr>\n      <th>116</th>\n      <td>Quinns Baptist College</td>\n      <td>83.385</td>\n    </tr>\n    <tr>\n      <th>117</th>\n      <td>Atwell College</td>\n      <td>73.450</td>\n    </tr>\n    <tr>\n      <th>118</th>\n      <td>Halls Head College</td>\n      <td>60.325</td>\n    </tr>\n    <tr>\n      <th>119</th>\n      <td>Ellenbrook Christian College</td>\n      <td>76.680</td>\n    </tr>\n    <tr>\n      <th>120</th>\n      <td>Thornlie Senior High School</td>\n      <td>74.120</td>\n    </tr>\n  </tbody>\n</table>\n<p>121 rows × 2 columns</p>\n</div>"
     },
     "metadata": {},
     "execution_count": 74
    }
   ],
   "source": [
    "school_name_array = [] \n",
    "y_pred_array = [] \n",
    "\n",
    "for i in df.index : \n",
    "    X_train = df_second['Year_16'][i], df_second['Year_17'][i], df_second['Year_18'][i], df_second['Year_19'][i]\n",
    "    X_train = list(X_train)\n",
    "    X_train=[[j] for j in X_train]\n",
    "    X_train = np.array(X_train) \n",
    "    X_test = df_second['Year_21'][i]\n",
    "    y_train = (df_second['ATAR_16'][i], df_second['ATAR_17'][i], df_second['ATAR_18'][i], df_second['ATAR_19'][i])\n",
    "    y_train = list(y_train)\n",
    "    y_train=[[j] for j in y_train]\n",
    "    y_train = np.array(y_train) \n",
    "    from sklearn.linear_model import LinearRegression\n",
    "    regressor = LinearRegression()\n",
    "    reg = regressor.fit(X_train, y_train) # train schoool using 16-19. \n",
    "    X_test = X_test.reshape(-1, 1)\n",
    "    y_pred = reg.predict(X_test) # predict 2021 \n",
    "    y_pred = y_pred[0] \n",
    "    school_name_array.append(df.iloc[i][\"School\"])\n",
    "    y_pred_array.append(y_pred[0])\n",
    "predicted_df = pd.DataFrame({'School': school_name_array, 'Predicted': y_pred_array})\n",
    "predicted_df"
   ]
  },
  {
   "cell_type": "code",
   "execution_count": 75,
   "metadata": {},
   "outputs": [
    {
     "output_type": "execute_result",
     "data": {
      "text/plain": [
       "                                  School  Predicted\n",
       "0                    Perth Modern School     97.945\n",
       "1           Presbyterian Ladies' College     86.835\n",
       "2                        Penrhos College     84.440\n",
       "3           Christ Church Grammar School     91.965\n",
       "4                    Santa Maria College     85.275\n",
       "5   St Hilda's Anglican School for Girls     89.120\n",
       "6                          Perth College     88.280\n",
       "7       St Mary's Anglican Girls' School     92.340\n",
       "8              Methodist Ladies' College     91.145\n",
       "9                        Shenton College     87.095\n",
       "10                           Hale School     93.575\n",
       "11                         Carmel School     82.180\n",
       "12                    John XXIII College     85.125\n",
       "14          Rossmoyne Senior High School     89.360\n",
       "31        Ursula Frayne Catholic College     91.990\n",
       "46                        Wesley College     93.150\n",
       "58           Manjimup Senior High School     75.020"
      ],
      "text/html": "<div>\n<style scoped>\n    .dataframe tbody tr th:only-of-type {\n        vertical-align: middle;\n    }\n\n    .dataframe tbody tr th {\n        vertical-align: top;\n    }\n\n    .dataframe thead th {\n        text-align: right;\n    }\n</style>\n<table border=\"1\" class=\"dataframe\">\n  <thead>\n    <tr style=\"text-align: right;\">\n      <th></th>\n      <th>School</th>\n      <th>Predicted</th>\n    </tr>\n  </thead>\n  <tbody>\n    <tr>\n      <th>0</th>\n      <td>Perth Modern School</td>\n      <td>97.945</td>\n    </tr>\n    <tr>\n      <th>1</th>\n      <td>Presbyterian Ladies' College</td>\n      <td>86.835</td>\n    </tr>\n    <tr>\n      <th>2</th>\n      <td>Penrhos College</td>\n      <td>84.440</td>\n    </tr>\n    <tr>\n      <th>3</th>\n      <td>Christ Church Grammar School</td>\n      <td>91.965</td>\n    </tr>\n    <tr>\n      <th>4</th>\n      <td>Santa Maria College</td>\n      <td>85.275</td>\n    </tr>\n    <tr>\n      <th>5</th>\n      <td>St Hilda's Anglican School for Girls</td>\n      <td>89.120</td>\n    </tr>\n    <tr>\n      <th>6</th>\n      <td>Perth College</td>\n      <td>88.280</td>\n    </tr>\n    <tr>\n      <th>7</th>\n      <td>St Mary's Anglican Girls' School</td>\n      <td>92.340</td>\n    </tr>\n    <tr>\n      <th>8</th>\n      <td>Methodist Ladies' College</td>\n      <td>91.145</td>\n    </tr>\n    <tr>\n      <th>9</th>\n      <td>Shenton College</td>\n      <td>87.095</td>\n    </tr>\n    <tr>\n      <th>10</th>\n      <td>Hale School</td>\n      <td>93.575</td>\n    </tr>\n    <tr>\n      <th>11</th>\n      <td>Carmel School</td>\n      <td>82.180</td>\n    </tr>\n    <tr>\n      <th>12</th>\n      <td>John XXIII College</td>\n      <td>85.125</td>\n    </tr>\n    <tr>\n      <th>14</th>\n      <td>Rossmoyne Senior High School</td>\n      <td>89.360</td>\n    </tr>\n    <tr>\n      <th>31</th>\n      <td>Ursula Frayne Catholic College</td>\n      <td>91.990</td>\n    </tr>\n    <tr>\n      <th>46</th>\n      <td>Wesley College</td>\n      <td>93.150</td>\n    </tr>\n    <tr>\n      <th>58</th>\n      <td>Manjimup Senior High School</td>\n      <td>75.020</td>\n    </tr>\n  </tbody>\n</table>\n</div>"
     },
     "metadata": {},
     "execution_count": 75
    }
   ],
   "source": [
    "# Filter the top 17 schools from 2016-2019\n",
    "predicted_20 = predicted_df.loc[(predicted_df['School'] == 'Perth Modern School') | (predicted_df['School'] == \"Presbyterian Ladies' College\") |\n",
    "                                (predicted_df['School'] == 'Penrhos College') | (predicted_df['School'] == 'Christ Church Grammar School') |\n",
    "                                (predicted_df['School'] == 'Santa Maria College') | (predicted_df['School'] == \"St Hilda's Anglican School for Girls\") |\n",
    "                                (predicted_df['School'] == 'Perth College') | (predicted_df['School'] == \"St Mary's Anglican Girls' School\") |\n",
    "                                (predicted_df['School'] == \"Methodist Ladies' College\") | (predicted_df['School'] == 'Shenton College') |\n",
    "                                (predicted_df['School'] == \"Hale School\") | (predicted_df['School'] == \"Carmel School\") |\n",
    "                                (predicted_df['School'] == \"John XXIII College\") | (predicted_df['School'] == \"Rossmoyne Senior High School\") |\n",
    "                                (predicted_df['School'] == \"Ursula Frayne Catholic College\") | (predicted_df['School'] == \"Wesley College\") |\n",
    "                                (predicted_df['School'] == \"Manjimup Senior High School\"), :]\n",
    "predicted_20"
   ]
  },
  {
   "source": [
    "## Third Model"
   ],
   "cell_type": "markdown",
   "metadata": {}
  },
  {
   "cell_type": "code",
   "execution_count": 71,
   "metadata": {},
   "outputs": [],
   "source": [
    "df_copy = df.copy()"
   ]
  },
  {
   "cell_type": "code",
   "execution_count": 72,
   "metadata": {},
   "outputs": [],
   "source": [
    "df_copy['Year_21'] = 2021"
   ]
  },
  {
   "cell_type": "code",
   "execution_count": 73,
   "metadata": {},
   "outputs": [
    {
     "output_type": "execute_result",
     "data": {
      "text/plain": [
       "                           School  Predicted\n",
       "0             Perth Modern School     98.005\n",
       "1    Presbyterian Ladies' College     87.995\n",
       "2                 Penrhos College     88.120\n",
       "3    Christ Church Grammar School     92.325\n",
       "4             Santa Maria College     87.495\n",
       "..                            ...        ...\n",
       "116        Quinns Baptist College     73.265\n",
       "117                Atwell College     67.210\n",
       "118            Halls Head College     67.765\n",
       "119  Ellenbrook Christian College     78.000\n",
       "120   Thornlie Senior High School     69.700\n",
       "\n",
       "[121 rows x 2 columns]"
      ],
      "text/html": "<div>\n<style scoped>\n    .dataframe tbody tr th:only-of-type {\n        vertical-align: middle;\n    }\n\n    .dataframe tbody tr th {\n        vertical-align: top;\n    }\n\n    .dataframe thead th {\n        text-align: right;\n    }\n</style>\n<table border=\"1\" class=\"dataframe\">\n  <thead>\n    <tr style=\"text-align: right;\">\n      <th></th>\n      <th>School</th>\n      <th>Predicted</th>\n    </tr>\n  </thead>\n  <tbody>\n    <tr>\n      <th>0</th>\n      <td>Perth Modern School</td>\n      <td>98.005</td>\n    </tr>\n    <tr>\n      <th>1</th>\n      <td>Presbyterian Ladies' College</td>\n      <td>87.995</td>\n    </tr>\n    <tr>\n      <th>2</th>\n      <td>Penrhos College</td>\n      <td>88.120</td>\n    </tr>\n    <tr>\n      <th>3</th>\n      <td>Christ Church Grammar School</td>\n      <td>92.325</td>\n    </tr>\n    <tr>\n      <th>4</th>\n      <td>Santa Maria College</td>\n      <td>87.495</td>\n    </tr>\n    <tr>\n      <th>...</th>\n      <td>...</td>\n      <td>...</td>\n    </tr>\n    <tr>\n      <th>116</th>\n      <td>Quinns Baptist College</td>\n      <td>73.265</td>\n    </tr>\n    <tr>\n      <th>117</th>\n      <td>Atwell College</td>\n      <td>67.210</td>\n    </tr>\n    <tr>\n      <th>118</th>\n      <td>Halls Head College</td>\n      <td>67.765</td>\n    </tr>\n    <tr>\n      <th>119</th>\n      <td>Ellenbrook Christian College</td>\n      <td>78.000</td>\n    </tr>\n    <tr>\n      <th>120</th>\n      <td>Thornlie Senior High School</td>\n      <td>69.700</td>\n    </tr>\n  </tbody>\n</table>\n<p>121 rows × 2 columns</p>\n</div>"
     },
     "metadata": {},
     "execution_count": 73
    }
   ],
   "source": [
    "# for each school \n",
    "school_name_array = [] \n",
    "y_pred_array = [] \n",
    "\n",
    "for i in df.index : \n",
    "    X_train = df_copy['Year_16'][i], df_copy['Year_17'][i], df_copy['Year_18'][i], df_copy['Year_19'][i], df_copy['Year_20'][i]\n",
    "    X_train = list(X_train)\n",
    "    X_train=[[j] for j in X_train]\n",
    "    X_train = np.array(X_train) \n",
    "    X_test = df_copy['Year_21'][i]\n",
    "    y_train = (df_copy['ATAR_16'][i], df_copy['ATAR_17'][i], df_copy['ATAR_18'][i], df_copy['ATAR_19'][i], df_copy['ATAR_20'][i])\n",
    "    y_train = list(y_train)\n",
    "    y_train=[[j] for j in y_train]\n",
    "    y_train = np.array(y_train) \n",
    "    from sklearn.linear_model import LinearRegression\n",
    "    regressor = LinearRegression()\n",
    "    reg = regressor.fit(X_train, y_train) # train schoool using 16-19. \n",
    "    X_test = X_test.reshape(-1, 1)\n",
    "    y_pred = reg.predict(X_test) # predict 2021 \n",
    "    y_pred = y_pred[0] \n",
    "    school_name_array.append(df.iloc[i][\"School\"])\n",
    "    y_pred_array.append(y_pred[0])\n",
    "predicted_df = pd.DataFrame({'School': school_name_array, 'Predicted': y_pred_array})\n",
    "predicted_df"
   ]
  },
  {
   "cell_type": "code",
   "execution_count": 76,
   "metadata": {},
   "outputs": [
    {
     "output_type": "execute_result",
     "data": {
      "text/plain": [
       "                                  School  Predicted\n",
       "0                    Perth Modern School     97.945\n",
       "1           Presbyterian Ladies' College     86.835\n",
       "2                        Penrhos College     84.440\n",
       "3           Christ Church Grammar School     91.965\n",
       "4                    Santa Maria College     85.275\n",
       "5   St Hilda's Anglican School for Girls     89.120\n",
       "6                          Perth College     88.280\n",
       "7       St Mary's Anglican Girls' School     92.340\n",
       "8              Methodist Ladies' College     91.145\n",
       "9                        Shenton College     87.095\n",
       "10                           Hale School     93.575\n",
       "11                         Carmel School     82.180\n",
       "12                    John XXIII College     85.125\n",
       "14          Rossmoyne Senior High School     89.360\n",
       "31        Ursula Frayne Catholic College     91.990\n",
       "46                        Wesley College     93.150\n",
       "58           Manjimup Senior High School     75.020"
      ],
      "text/html": "<div>\n<style scoped>\n    .dataframe tbody tr th:only-of-type {\n        vertical-align: middle;\n    }\n\n    .dataframe tbody tr th {\n        vertical-align: top;\n    }\n\n    .dataframe thead th {\n        text-align: right;\n    }\n</style>\n<table border=\"1\" class=\"dataframe\">\n  <thead>\n    <tr style=\"text-align: right;\">\n      <th></th>\n      <th>School</th>\n      <th>Predicted</th>\n    </tr>\n  </thead>\n  <tbody>\n    <tr>\n      <th>0</th>\n      <td>Perth Modern School</td>\n      <td>97.945</td>\n    </tr>\n    <tr>\n      <th>1</th>\n      <td>Presbyterian Ladies' College</td>\n      <td>86.835</td>\n    </tr>\n    <tr>\n      <th>2</th>\n      <td>Penrhos College</td>\n      <td>84.440</td>\n    </tr>\n    <tr>\n      <th>3</th>\n      <td>Christ Church Grammar School</td>\n      <td>91.965</td>\n    </tr>\n    <tr>\n      <th>4</th>\n      <td>Santa Maria College</td>\n      <td>85.275</td>\n    </tr>\n    <tr>\n      <th>5</th>\n      <td>St Hilda's Anglican School for Girls</td>\n      <td>89.120</td>\n    </tr>\n    <tr>\n      <th>6</th>\n      <td>Perth College</td>\n      <td>88.280</td>\n    </tr>\n    <tr>\n      <th>7</th>\n      <td>St Mary's Anglican Girls' School</td>\n      <td>92.340</td>\n    </tr>\n    <tr>\n      <th>8</th>\n      <td>Methodist Ladies' College</td>\n      <td>91.145</td>\n    </tr>\n    <tr>\n      <th>9</th>\n      <td>Shenton College</td>\n      <td>87.095</td>\n    </tr>\n    <tr>\n      <th>10</th>\n      <td>Hale School</td>\n      <td>93.575</td>\n    </tr>\n    <tr>\n      <th>11</th>\n      <td>Carmel School</td>\n      <td>82.180</td>\n    </tr>\n    <tr>\n      <th>12</th>\n      <td>John XXIII College</td>\n      <td>85.125</td>\n    </tr>\n    <tr>\n      <th>14</th>\n      <td>Rossmoyne Senior High School</td>\n      <td>89.360</td>\n    </tr>\n    <tr>\n      <th>31</th>\n      <td>Ursula Frayne Catholic College</td>\n      <td>91.990</td>\n    </tr>\n    <tr>\n      <th>46</th>\n      <td>Wesley College</td>\n      <td>93.150</td>\n    </tr>\n    <tr>\n      <th>58</th>\n      <td>Manjimup Senior High School</td>\n      <td>75.020</td>\n    </tr>\n  </tbody>\n</table>\n</div>"
     },
     "metadata": {},
     "execution_count": 76
    }
   ],
   "source": [
    "# Filter the top 17 schools from 2016-2019\n",
    "predicted_21 = predicted_df.loc[(predicted_df['School'] == 'Perth Modern School') | (predicted_df['School'] == \"Presbyterian Ladies' College\") |\n",
    "                                (predicted_df['School'] == 'Penrhos College') | (predicted_df['School'] == 'Christ Church Grammar School') |\n",
    "                                (predicted_df['School'] == 'Santa Maria College') | (predicted_df['School'] == \"St Hilda's Anglican School for Girls\") |\n",
    "                                (predicted_df['School'] == 'Perth College') | (predicted_df['School'] == \"St Mary's Anglican Girls' School\") |\n",
    "                                (predicted_df['School'] == \"Methodist Ladies' College\") | (predicted_df['School'] == 'Shenton College') |\n",
    "                                (predicted_df['School'] == \"Hale School\") | (predicted_df['School'] == \"Carmel School\") |\n",
    "                                (predicted_df['School'] == \"John XXIII College\") | (predicted_df['School'] == \"Rossmoyne Senior High School\") |\n",
    "                                (predicted_df['School'] == \"Ursula Frayne Catholic College\") | (predicted_df['School'] == \"Wesley College\") |\n",
    "                                (predicted_df['School'] == \"Manjimup Senior High School\"), :]\n",
    "predicted_21"
   ]
  },
  {
   "cell_type": "code",
   "execution_count": null,
   "metadata": {},
   "outputs": [],
   "source": []
  }
 ]
}