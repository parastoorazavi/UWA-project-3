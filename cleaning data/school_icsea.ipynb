{
 "metadata": {
  "language_info": {
   "codemirror_mode": {
    "name": "ipython",
    "version": 3
   },
   "file_extension": ".py",
   "mimetype": "text/x-python",
   "name": "python",
   "nbconvert_exporter": "python",
   "pygments_lexer": "ipython3",
   "version": "3.8.3-final"
  },
  "orig_nbformat": 2,
  "kernelspec": {
   "name": "python3",
   "display_name": "Python 3",
   "language": "python"
  }
 },
 "nbformat": 4,
 "nbformat_minor": 2,
 "cells": [
  {
   "source": [
    "## The purpose of this Jupyter Notebook is to create a complete list of ICSEA scores which will be used for all the schools in our datasets from 2016-2019"
   ],
   "cell_type": "markdown",
   "metadata": {}
  },
  {
   "cell_type": "code",
   "execution_count": 24,
   "metadata": {},
   "outputs": [],
   "source": [
    "# import the required library\n",
    "import pandas as pd"
   ]
  },
  {
   "cell_type": "code",
   "execution_count": 25,
   "metadata": {},
   "outputs": [
    {
     "output_type": "execute_result",
     "data": {
      "text/plain": [
       "                                               School  Postcode  \\\n",
       "0                                 Perth Modern School      6008   \n",
       "1   St Hilda's Anglican School for Girls (Inc),Mos...      6012   \n",
       "2                        Christ Church Grammar School      6010   \n",
       "3                        Rossmoyne Senior High School      6148   \n",
       "4   St Mary's Anglican Girls' School (Inc),Karriny...      6018   \n",
       "..                                                ...       ...   \n",
       "89  Swan Valley Anglican Community School,Aveley,W...      6069   \n",
       "90                   Boyup Brook District High School      6244   \n",
       "91                Mater Dei College,Edgewater,WA,6027      6027   \n",
       "92          Emmanuel Catholic College,Beeliar,WA,6164      6164   \n",
       "93                Emmanuel Christian Community School      6064   \n",
       "\n",
       "    State Overall Score  English  Maths  Total Enrolments  Trend / Compare  \\\n",
       "0                   100      NaN    NaN              1418  Trend / Compare   \n",
       "1                   100      NaN    NaN              1087  Trend / Compare   \n",
       "2                   100      NaN    NaN              1646  Trend / Compare   \n",
       "3                   100      NaN    NaN              2188  Trend / Compare   \n",
       "4                   100      NaN    NaN              1414  Trend / Compare   \n",
       "..                  ...      ...    ...               ...              ...   \n",
       "89                   90      NaN    NaN              1031  Trend / Compare   \n",
       "90                   90      NaN    NaN               162  Trend / Compare   \n",
       "91                   90      NaN    NaN               804  Trend / Compare   \n",
       "92                   90      NaN    NaN              1061  Trend / Compare   \n",
       "93                   90      NaN    NaN               552  Trend / Compare   \n",
       "\n",
       "            Sector   ICSEA  \n",
       "0       Government  1239.0  \n",
       "1   Non-government  1197.0  \n",
       "2   Non-government  1180.0  \n",
       "3       Government  1121.0  \n",
       "4   Non-government  1158.0  \n",
       "..             ...     ...  \n",
       "89  Non-government  1045.0  \n",
       "90      Government  1002.0  \n",
       "91  Non-government  1055.0  \n",
       "92  Non-government  1036.0  \n",
       "93  Non-government   980.0  \n",
       "\n",
       "[94 rows x 9 columns]"
      ],
      "text/html": "<div>\n<style scoped>\n    .dataframe tbody tr th:only-of-type {\n        vertical-align: middle;\n    }\n\n    .dataframe tbody tr th {\n        vertical-align: top;\n    }\n\n    .dataframe thead th {\n        text-align: right;\n    }\n</style>\n<table border=\"1\" class=\"dataframe\">\n  <thead>\n    <tr style=\"text-align: right;\">\n      <th></th>\n      <th>School</th>\n      <th>Postcode</th>\n      <th>State Overall Score</th>\n      <th>English</th>\n      <th>Maths</th>\n      <th>Total Enrolments</th>\n      <th>Trend / Compare</th>\n      <th>Sector</th>\n      <th>ICSEA</th>\n    </tr>\n  </thead>\n  <tbody>\n    <tr>\n      <th>0</th>\n      <td>Perth Modern School</td>\n      <td>6008</td>\n      <td>100</td>\n      <td>NaN</td>\n      <td>NaN</td>\n      <td>1418</td>\n      <td>Trend / Compare</td>\n      <td>Government</td>\n      <td>1239.0</td>\n    </tr>\n    <tr>\n      <th>1</th>\n      <td>St Hilda's Anglican School for Girls (Inc),Mos...</td>\n      <td>6012</td>\n      <td>100</td>\n      <td>NaN</td>\n      <td>NaN</td>\n      <td>1087</td>\n      <td>Trend / Compare</td>\n      <td>Non-government</td>\n      <td>1197.0</td>\n    </tr>\n    <tr>\n      <th>2</th>\n      <td>Christ Church Grammar School</td>\n      <td>6010</td>\n      <td>100</td>\n      <td>NaN</td>\n      <td>NaN</td>\n      <td>1646</td>\n      <td>Trend / Compare</td>\n      <td>Non-government</td>\n      <td>1180.0</td>\n    </tr>\n    <tr>\n      <th>3</th>\n      <td>Rossmoyne Senior High School</td>\n      <td>6148</td>\n      <td>100</td>\n      <td>NaN</td>\n      <td>NaN</td>\n      <td>2188</td>\n      <td>Trend / Compare</td>\n      <td>Government</td>\n      <td>1121.0</td>\n    </tr>\n    <tr>\n      <th>4</th>\n      <td>St Mary's Anglican Girls' School (Inc),Karriny...</td>\n      <td>6018</td>\n      <td>100</td>\n      <td>NaN</td>\n      <td>NaN</td>\n      <td>1414</td>\n      <td>Trend / Compare</td>\n      <td>Non-government</td>\n      <td>1158.0</td>\n    </tr>\n    <tr>\n      <th>...</th>\n      <td>...</td>\n      <td>...</td>\n      <td>...</td>\n      <td>...</td>\n      <td>...</td>\n      <td>...</td>\n      <td>...</td>\n      <td>...</td>\n      <td>...</td>\n    </tr>\n    <tr>\n      <th>89</th>\n      <td>Swan Valley Anglican Community School,Aveley,W...</td>\n      <td>6069</td>\n      <td>90</td>\n      <td>NaN</td>\n      <td>NaN</td>\n      <td>1031</td>\n      <td>Trend / Compare</td>\n      <td>Non-government</td>\n      <td>1045.0</td>\n    </tr>\n    <tr>\n      <th>90</th>\n      <td>Boyup Brook District High School</td>\n      <td>6244</td>\n      <td>90</td>\n      <td>NaN</td>\n      <td>NaN</td>\n      <td>162</td>\n      <td>Trend / Compare</td>\n      <td>Government</td>\n      <td>1002.0</td>\n    </tr>\n    <tr>\n      <th>91</th>\n      <td>Mater Dei College,Edgewater,WA,6027</td>\n      <td>6027</td>\n      <td>90</td>\n      <td>NaN</td>\n      <td>NaN</td>\n      <td>804</td>\n      <td>Trend / Compare</td>\n      <td>Non-government</td>\n      <td>1055.0</td>\n    </tr>\n    <tr>\n      <th>92</th>\n      <td>Emmanuel Catholic College,Beeliar,WA,6164</td>\n      <td>6164</td>\n      <td>90</td>\n      <td>NaN</td>\n      <td>NaN</td>\n      <td>1061</td>\n      <td>Trend / Compare</td>\n      <td>Non-government</td>\n      <td>1036.0</td>\n    </tr>\n    <tr>\n      <th>93</th>\n      <td>Emmanuel Christian Community School</td>\n      <td>6064</td>\n      <td>90</td>\n      <td>NaN</td>\n      <td>NaN</td>\n      <td>552</td>\n      <td>Trend / Compare</td>\n      <td>Non-government</td>\n      <td>980.0</td>\n    </tr>\n  </tbody>\n</table>\n<p>94 rows × 9 columns</p>\n</div>"
     },
     "metadata": {},
     "execution_count": 25
    }
   ],
   "source": [
    "# get the 2019 url WA school ranking\n",
    "rank_2019 = \"https://bettereducation.com.au/school/secondary/wa/wa_top_secondary_schools.aspx?yr=2019\"\n",
    "\n",
    "# Use panda's `read_html` to parse the 2019 ranking url where the ICSEA scores are listed (years 2016 to 2018 have no ICSEA scores)\n",
    "hs_wa_2019 = pd.read_html(rank_2019, header=0)[0]\n",
    "hs_wa_2019"
   ]
  },
  {
   "cell_type": "code",
   "execution_count": 26,
   "metadata": {},
   "outputs": [],
   "source": [
    "# replace the values of \"Australian Islamic College\" to correct the spelling to prevent Null values when performing the merge with other Dataframes later on\n",
    "hs_wa_2019[\"School\"].replace({\"Australian Islamic College (Kewdale),Kewdale,WA,6105\": \"Australian Islamic College - Kewdale\",\n",
    "                              \"Australian Islamic College (Thornlie),Thornlie,WA,6108\": \"Australian Islamic College - Thornlie\"\n",
    "                                    }, inplace=True)"
   ]
  },
  {
   "cell_type": "code",
   "execution_count": 27,
   "metadata": {},
   "outputs": [
    {
     "output_type": "execute_result",
     "data": {
      "text/plain": [
       "                                               School  Postcode  \\\n",
       "0                                 Perth Modern School      6008   \n",
       "1   St Hilda's Anglican School for Girls (Inc),Mos...      6012   \n",
       "2                        Christ Church Grammar School      6010   \n",
       "3                        Rossmoyne Senior High School      6148   \n",
       "4   St Mary's Anglican Girls' School (Inc),Karriny...      6018   \n",
       "..                                                ...       ...   \n",
       "89  Swan Valley Anglican Community School,Aveley,W...      6069   \n",
       "90                   Boyup Brook District High School      6244   \n",
       "91                Mater Dei College,Edgewater,WA,6027      6027   \n",
       "92          Emmanuel Catholic College,Beeliar,WA,6164      6164   \n",
       "93                Emmanuel Christian Community School      6064   \n",
       "\n",
       "    State Overall Score  English  Maths  Total Enrolments  Trend / Compare  \\\n",
       "0                   100      NaN    NaN              1418  Trend / Compare   \n",
       "1                   100      NaN    NaN              1087  Trend / Compare   \n",
       "2                   100      NaN    NaN              1646  Trend / Compare   \n",
       "3                   100      NaN    NaN              2188  Trend / Compare   \n",
       "4                   100      NaN    NaN              1414  Trend / Compare   \n",
       "..                  ...      ...    ...               ...              ...   \n",
       "89                   90      NaN    NaN              1031  Trend / Compare   \n",
       "90                   90      NaN    NaN               162  Trend / Compare   \n",
       "91                   90      NaN    NaN               804  Trend / Compare   \n",
       "92                   90      NaN    NaN              1061  Trend / Compare   \n",
       "93                   90      NaN    NaN               552  Trend / Compare   \n",
       "\n",
       "            Sector ICSEA  \n",
       "0       Government  1239  \n",
       "1   Non-government  1197  \n",
       "2   Non-government  1180  \n",
       "3       Government  1121  \n",
       "4   Non-government  1158  \n",
       "..             ...   ...  \n",
       "89  Non-government  1045  \n",
       "90      Government  1002  \n",
       "91  Non-government  1055  \n",
       "92  Non-government  1036  \n",
       "93  Non-government   980  \n",
       "\n",
       "[94 rows x 9 columns]"
      ],
      "text/html": "<div>\n<style scoped>\n    .dataframe tbody tr th:only-of-type {\n        vertical-align: middle;\n    }\n\n    .dataframe tbody tr th {\n        vertical-align: top;\n    }\n\n    .dataframe thead th {\n        text-align: right;\n    }\n</style>\n<table border=\"1\" class=\"dataframe\">\n  <thead>\n    <tr style=\"text-align: right;\">\n      <th></th>\n      <th>School</th>\n      <th>Postcode</th>\n      <th>State Overall Score</th>\n      <th>English</th>\n      <th>Maths</th>\n      <th>Total Enrolments</th>\n      <th>Trend / Compare</th>\n      <th>Sector</th>\n      <th>ICSEA</th>\n    </tr>\n  </thead>\n  <tbody>\n    <tr>\n      <th>0</th>\n      <td>Perth Modern School</td>\n      <td>6008</td>\n      <td>100</td>\n      <td>NaN</td>\n      <td>NaN</td>\n      <td>1418</td>\n      <td>Trend / Compare</td>\n      <td>Government</td>\n      <td>1239</td>\n    </tr>\n    <tr>\n      <th>1</th>\n      <td>St Hilda's Anglican School for Girls (Inc),Mos...</td>\n      <td>6012</td>\n      <td>100</td>\n      <td>NaN</td>\n      <td>NaN</td>\n      <td>1087</td>\n      <td>Trend / Compare</td>\n      <td>Non-government</td>\n      <td>1197</td>\n    </tr>\n    <tr>\n      <th>2</th>\n      <td>Christ Church Grammar School</td>\n      <td>6010</td>\n      <td>100</td>\n      <td>NaN</td>\n      <td>NaN</td>\n      <td>1646</td>\n      <td>Trend / Compare</td>\n      <td>Non-government</td>\n      <td>1180</td>\n    </tr>\n    <tr>\n      <th>3</th>\n      <td>Rossmoyne Senior High School</td>\n      <td>6148</td>\n      <td>100</td>\n      <td>NaN</td>\n      <td>NaN</td>\n      <td>2188</td>\n      <td>Trend / Compare</td>\n      <td>Government</td>\n      <td>1121</td>\n    </tr>\n    <tr>\n      <th>4</th>\n      <td>St Mary's Anglican Girls' School (Inc),Karriny...</td>\n      <td>6018</td>\n      <td>100</td>\n      <td>NaN</td>\n      <td>NaN</td>\n      <td>1414</td>\n      <td>Trend / Compare</td>\n      <td>Non-government</td>\n      <td>1158</td>\n    </tr>\n    <tr>\n      <th>...</th>\n      <td>...</td>\n      <td>...</td>\n      <td>...</td>\n      <td>...</td>\n      <td>...</td>\n      <td>...</td>\n      <td>...</td>\n      <td>...</td>\n      <td>...</td>\n    </tr>\n    <tr>\n      <th>89</th>\n      <td>Swan Valley Anglican Community School,Aveley,W...</td>\n      <td>6069</td>\n      <td>90</td>\n      <td>NaN</td>\n      <td>NaN</td>\n      <td>1031</td>\n      <td>Trend / Compare</td>\n      <td>Non-government</td>\n      <td>1045</td>\n    </tr>\n    <tr>\n      <th>90</th>\n      <td>Boyup Brook District High School</td>\n      <td>6244</td>\n      <td>90</td>\n      <td>NaN</td>\n      <td>NaN</td>\n      <td>162</td>\n      <td>Trend / Compare</td>\n      <td>Government</td>\n      <td>1002</td>\n    </tr>\n    <tr>\n      <th>91</th>\n      <td>Mater Dei College,Edgewater,WA,6027</td>\n      <td>6027</td>\n      <td>90</td>\n      <td>NaN</td>\n      <td>NaN</td>\n      <td>804</td>\n      <td>Trend / Compare</td>\n      <td>Non-government</td>\n      <td>1055</td>\n    </tr>\n    <tr>\n      <th>92</th>\n      <td>Emmanuel Catholic College,Beeliar,WA,6164</td>\n      <td>6164</td>\n      <td>90</td>\n      <td>NaN</td>\n      <td>NaN</td>\n      <td>1061</td>\n      <td>Trend / Compare</td>\n      <td>Non-government</td>\n      <td>1036</td>\n    </tr>\n    <tr>\n      <th>93</th>\n      <td>Emmanuel Christian Community School</td>\n      <td>6064</td>\n      <td>90</td>\n      <td>NaN</td>\n      <td>NaN</td>\n      <td>552</td>\n      <td>Trend / Compare</td>\n      <td>Non-government</td>\n      <td>980</td>\n    </tr>\n  </tbody>\n</table>\n<p>94 rows × 9 columns</p>\n</div>"
     },
     "metadata": {},
     "execution_count": 27
    }
   ],
   "source": [
    "# Convert the values in the \"ICSEA\" column to a String\n",
    "hs_wa_2019[\"ICSEA\"] = hs_wa_2019[\"ICSEA\"].astype(str)\n",
    "\n",
    "# Remove other strings before \".\" to show only the ICSEA values\n",
    "hs_wa_2019[\"ICSEA\"] = hs_wa_2019[\"ICSEA\"].str.split('.', 1).str.get(0)\n",
    "hs_wa_2019"
   ]
  },
  {
   "cell_type": "code",
   "execution_count": 28,
   "metadata": {},
   "outputs": [
    {
     "output_type": "execute_result",
     "data": {
      "text/plain": [
       "                                        School  Postcode  State Overall Score  \\\n",
       "0                          Perth Modern School      6008                  100   \n",
       "1   St Hilda's Anglican School for Girls (Inc)      6012                  100   \n",
       "2                 Christ Church Grammar School      6010                  100   \n",
       "3                 Rossmoyne Senior High School      6148                  100   \n",
       "4       St Mary's Anglican Girls' School (Inc)      6018                  100   \n",
       "..                                         ...       ...                  ...   \n",
       "89       Swan Valley Anglican Community School      6069                   90   \n",
       "90            Boyup Brook District High School      6244                   90   \n",
       "91                           Mater Dei College      6027                   90   \n",
       "92                   Emmanuel Catholic College      6164                   90   \n",
       "93         Emmanuel Christian Community School      6064                   90   \n",
       "\n",
       "    English  Maths  Total Enrolments  Trend / Compare          Sector ICSEA  \n",
       "0       NaN    NaN              1418  Trend / Compare      Government  1239  \n",
       "1       NaN    NaN              1087  Trend / Compare  Non-government  1197  \n",
       "2       NaN    NaN              1646  Trend / Compare  Non-government  1180  \n",
       "3       NaN    NaN              2188  Trend / Compare      Government  1121  \n",
       "4       NaN    NaN              1414  Trend / Compare  Non-government  1158  \n",
       "..      ...    ...               ...              ...             ...   ...  \n",
       "89      NaN    NaN              1031  Trend / Compare  Non-government  1045  \n",
       "90      NaN    NaN               162  Trend / Compare      Government  1002  \n",
       "91      NaN    NaN               804  Trend / Compare  Non-government  1055  \n",
       "92      NaN    NaN              1061  Trend / Compare  Non-government  1036  \n",
       "93      NaN    NaN               552  Trend / Compare  Non-government   980  \n",
       "\n",
       "[94 rows x 9 columns]"
      ],
      "text/html": "<div>\n<style scoped>\n    .dataframe tbody tr th:only-of-type {\n        vertical-align: middle;\n    }\n\n    .dataframe tbody tr th {\n        vertical-align: top;\n    }\n\n    .dataframe thead th {\n        text-align: right;\n    }\n</style>\n<table border=\"1\" class=\"dataframe\">\n  <thead>\n    <tr style=\"text-align: right;\">\n      <th></th>\n      <th>School</th>\n      <th>Postcode</th>\n      <th>State Overall Score</th>\n      <th>English</th>\n      <th>Maths</th>\n      <th>Total Enrolments</th>\n      <th>Trend / Compare</th>\n      <th>Sector</th>\n      <th>ICSEA</th>\n    </tr>\n  </thead>\n  <tbody>\n    <tr>\n      <th>0</th>\n      <td>Perth Modern School</td>\n      <td>6008</td>\n      <td>100</td>\n      <td>NaN</td>\n      <td>NaN</td>\n      <td>1418</td>\n      <td>Trend / Compare</td>\n      <td>Government</td>\n      <td>1239</td>\n    </tr>\n    <tr>\n      <th>1</th>\n      <td>St Hilda's Anglican School for Girls (Inc)</td>\n      <td>6012</td>\n      <td>100</td>\n      <td>NaN</td>\n      <td>NaN</td>\n      <td>1087</td>\n      <td>Trend / Compare</td>\n      <td>Non-government</td>\n      <td>1197</td>\n    </tr>\n    <tr>\n      <th>2</th>\n      <td>Christ Church Grammar School</td>\n      <td>6010</td>\n      <td>100</td>\n      <td>NaN</td>\n      <td>NaN</td>\n      <td>1646</td>\n      <td>Trend / Compare</td>\n      <td>Non-government</td>\n      <td>1180</td>\n    </tr>\n    <tr>\n      <th>3</th>\n      <td>Rossmoyne Senior High School</td>\n      <td>6148</td>\n      <td>100</td>\n      <td>NaN</td>\n      <td>NaN</td>\n      <td>2188</td>\n      <td>Trend / Compare</td>\n      <td>Government</td>\n      <td>1121</td>\n    </tr>\n    <tr>\n      <th>4</th>\n      <td>St Mary's Anglican Girls' School (Inc)</td>\n      <td>6018</td>\n      <td>100</td>\n      <td>NaN</td>\n      <td>NaN</td>\n      <td>1414</td>\n      <td>Trend / Compare</td>\n      <td>Non-government</td>\n      <td>1158</td>\n    </tr>\n    <tr>\n      <th>...</th>\n      <td>...</td>\n      <td>...</td>\n      <td>...</td>\n      <td>...</td>\n      <td>...</td>\n      <td>...</td>\n      <td>...</td>\n      <td>...</td>\n      <td>...</td>\n    </tr>\n    <tr>\n      <th>89</th>\n      <td>Swan Valley Anglican Community School</td>\n      <td>6069</td>\n      <td>90</td>\n      <td>NaN</td>\n      <td>NaN</td>\n      <td>1031</td>\n      <td>Trend / Compare</td>\n      <td>Non-government</td>\n      <td>1045</td>\n    </tr>\n    <tr>\n      <th>90</th>\n      <td>Boyup Brook District High School</td>\n      <td>6244</td>\n      <td>90</td>\n      <td>NaN</td>\n      <td>NaN</td>\n      <td>162</td>\n      <td>Trend / Compare</td>\n      <td>Government</td>\n      <td>1002</td>\n    </tr>\n    <tr>\n      <th>91</th>\n      <td>Mater Dei College</td>\n      <td>6027</td>\n      <td>90</td>\n      <td>NaN</td>\n      <td>NaN</td>\n      <td>804</td>\n      <td>Trend / Compare</td>\n      <td>Non-government</td>\n      <td>1055</td>\n    </tr>\n    <tr>\n      <th>92</th>\n      <td>Emmanuel Catholic College</td>\n      <td>6164</td>\n      <td>90</td>\n      <td>NaN</td>\n      <td>NaN</td>\n      <td>1061</td>\n      <td>Trend / Compare</td>\n      <td>Non-government</td>\n      <td>1036</td>\n    </tr>\n    <tr>\n      <th>93</th>\n      <td>Emmanuel Christian Community School</td>\n      <td>6064</td>\n      <td>90</td>\n      <td>NaN</td>\n      <td>NaN</td>\n      <td>552</td>\n      <td>Trend / Compare</td>\n      <td>Non-government</td>\n      <td>980</td>\n    </tr>\n  </tbody>\n</table>\n<p>94 rows × 9 columns</p>\n</div>"
     },
     "metadata": {},
     "execution_count": 28
    }
   ],
   "source": [
    "# Remove the strings after the \",\" to show only the school name\n",
    "hs_wa_2019[\"School\"] = hs_wa_2019[\"School\"].str.split(',', 1).str.get(0)\n",
    "hs_wa_2019"
   ]
  },
  {
   "cell_type": "code",
   "execution_count": 29,
   "metadata": {},
   "outputs": [
    {
     "output_type": "execute_result",
     "data": {
      "text/plain": [
       "                                   School  Postcode  State Overall Score  \\\n",
       "0                     Perth Modern School      6008                  100   \n",
       "1    St Hilda's Anglican School for Girls      6012                  100   \n",
       "2            Christ Church Grammar School      6010                  100   \n",
       "3            Rossmoyne Senior High School      6148                  100   \n",
       "4        St Mary's Anglican Girls' School      6018                  100   \n",
       "..                                    ...       ...                  ...   \n",
       "89  Swan Valley Anglican Community School      6069                   90   \n",
       "90       Boyup Brook District High School      6244                   90   \n",
       "91                      Mater Dei College      6027                   90   \n",
       "92              Emmanuel Catholic College      6164                   90   \n",
       "93    Emmanuel Christian Community School      6064                   90   \n",
       "\n",
       "    English  Maths  Total Enrolments  Trend / Compare          Sector ICSEA  \n",
       "0       NaN    NaN              1418  Trend / Compare      Government  1239  \n",
       "1       NaN    NaN              1087  Trend / Compare  Non-government  1197  \n",
       "2       NaN    NaN              1646  Trend / Compare  Non-government  1180  \n",
       "3       NaN    NaN              2188  Trend / Compare      Government  1121  \n",
       "4       NaN    NaN              1414  Trend / Compare  Non-government  1158  \n",
       "..      ...    ...               ...              ...             ...   ...  \n",
       "89      NaN    NaN              1031  Trend / Compare  Non-government  1045  \n",
       "90      NaN    NaN               162  Trend / Compare      Government  1002  \n",
       "91      NaN    NaN               804  Trend / Compare  Non-government  1055  \n",
       "92      NaN    NaN              1061  Trend / Compare  Non-government  1036  \n",
       "93      NaN    NaN               552  Trend / Compare  Non-government   980  \n",
       "\n",
       "[94 rows x 9 columns]"
      ],
      "text/html": "<div>\n<style scoped>\n    .dataframe tbody tr th:only-of-type {\n        vertical-align: middle;\n    }\n\n    .dataframe tbody tr th {\n        vertical-align: top;\n    }\n\n    .dataframe thead th {\n        text-align: right;\n    }\n</style>\n<table border=\"1\" class=\"dataframe\">\n  <thead>\n    <tr style=\"text-align: right;\">\n      <th></th>\n      <th>School</th>\n      <th>Postcode</th>\n      <th>State Overall Score</th>\n      <th>English</th>\n      <th>Maths</th>\n      <th>Total Enrolments</th>\n      <th>Trend / Compare</th>\n      <th>Sector</th>\n      <th>ICSEA</th>\n    </tr>\n  </thead>\n  <tbody>\n    <tr>\n      <th>0</th>\n      <td>Perth Modern School</td>\n      <td>6008</td>\n      <td>100</td>\n      <td>NaN</td>\n      <td>NaN</td>\n      <td>1418</td>\n      <td>Trend / Compare</td>\n      <td>Government</td>\n      <td>1239</td>\n    </tr>\n    <tr>\n      <th>1</th>\n      <td>St Hilda's Anglican School for Girls</td>\n      <td>6012</td>\n      <td>100</td>\n      <td>NaN</td>\n      <td>NaN</td>\n      <td>1087</td>\n      <td>Trend / Compare</td>\n      <td>Non-government</td>\n      <td>1197</td>\n    </tr>\n    <tr>\n      <th>2</th>\n      <td>Christ Church Grammar School</td>\n      <td>6010</td>\n      <td>100</td>\n      <td>NaN</td>\n      <td>NaN</td>\n      <td>1646</td>\n      <td>Trend / Compare</td>\n      <td>Non-government</td>\n      <td>1180</td>\n    </tr>\n    <tr>\n      <th>3</th>\n      <td>Rossmoyne Senior High School</td>\n      <td>6148</td>\n      <td>100</td>\n      <td>NaN</td>\n      <td>NaN</td>\n      <td>2188</td>\n      <td>Trend / Compare</td>\n      <td>Government</td>\n      <td>1121</td>\n    </tr>\n    <tr>\n      <th>4</th>\n      <td>St Mary's Anglican Girls' School</td>\n      <td>6018</td>\n      <td>100</td>\n      <td>NaN</td>\n      <td>NaN</td>\n      <td>1414</td>\n      <td>Trend / Compare</td>\n      <td>Non-government</td>\n      <td>1158</td>\n    </tr>\n    <tr>\n      <th>...</th>\n      <td>...</td>\n      <td>...</td>\n      <td>...</td>\n      <td>...</td>\n      <td>...</td>\n      <td>...</td>\n      <td>...</td>\n      <td>...</td>\n      <td>...</td>\n    </tr>\n    <tr>\n      <th>89</th>\n      <td>Swan Valley Anglican Community School</td>\n      <td>6069</td>\n      <td>90</td>\n      <td>NaN</td>\n      <td>NaN</td>\n      <td>1031</td>\n      <td>Trend / Compare</td>\n      <td>Non-government</td>\n      <td>1045</td>\n    </tr>\n    <tr>\n      <th>90</th>\n      <td>Boyup Brook District High School</td>\n      <td>6244</td>\n      <td>90</td>\n      <td>NaN</td>\n      <td>NaN</td>\n      <td>162</td>\n      <td>Trend / Compare</td>\n      <td>Government</td>\n      <td>1002</td>\n    </tr>\n    <tr>\n      <th>91</th>\n      <td>Mater Dei College</td>\n      <td>6027</td>\n      <td>90</td>\n      <td>NaN</td>\n      <td>NaN</td>\n      <td>804</td>\n      <td>Trend / Compare</td>\n      <td>Non-government</td>\n      <td>1055</td>\n    </tr>\n    <tr>\n      <th>92</th>\n      <td>Emmanuel Catholic College</td>\n      <td>6164</td>\n      <td>90</td>\n      <td>NaN</td>\n      <td>NaN</td>\n      <td>1061</td>\n      <td>Trend / Compare</td>\n      <td>Non-government</td>\n      <td>1036</td>\n    </tr>\n    <tr>\n      <th>93</th>\n      <td>Emmanuel Christian Community School</td>\n      <td>6064</td>\n      <td>90</td>\n      <td>NaN</td>\n      <td>NaN</td>\n      <td>552</td>\n      <td>Trend / Compare</td>\n      <td>Non-government</td>\n      <td>980</td>\n    </tr>\n  </tbody>\n</table>\n<p>94 rows × 9 columns</p>\n</div>"
     },
     "metadata": {},
     "execution_count": 29
    }
   ],
   "source": [
    "# Remove the \"space\" and \"string inside parenthesis\" to show only the school name\n",
    "hs_wa_2019[\"School\"] = hs_wa_2019[\"School\"].str.split('\\s+\\(', 1).str.get(0)\n",
    "hs_wa_2019"
   ]
  },
  {
   "cell_type": "code",
   "execution_count": 30,
   "metadata": {},
   "outputs": [
    {
     "output_type": "execute_result",
     "data": {
      "text/plain": [
       "                                   School ICSEA\n",
       "0                     Perth Modern School  1239\n",
       "1    St Hilda's Anglican School for Girls  1197\n",
       "2            Christ Church Grammar School  1180\n",
       "3            Rossmoyne Senior High School  1121\n",
       "4        St Mary's Anglican Girls' School  1158\n",
       "..                                    ...   ...\n",
       "89  Swan Valley Anglican Community School  1045\n",
       "90       Boyup Brook District High School  1002\n",
       "91                      Mater Dei College  1055\n",
       "92              Emmanuel Catholic College  1036\n",
       "93    Emmanuel Christian Community School   980\n",
       "\n",
       "[94 rows x 2 columns]"
      ],
      "text/html": "<div>\n<style scoped>\n    .dataframe tbody tr th:only-of-type {\n        vertical-align: middle;\n    }\n\n    .dataframe tbody tr th {\n        vertical-align: top;\n    }\n\n    .dataframe thead th {\n        text-align: right;\n    }\n</style>\n<table border=\"1\" class=\"dataframe\">\n  <thead>\n    <tr style=\"text-align: right;\">\n      <th></th>\n      <th>School</th>\n      <th>ICSEA</th>\n    </tr>\n  </thead>\n  <tbody>\n    <tr>\n      <th>0</th>\n      <td>Perth Modern School</td>\n      <td>1239</td>\n    </tr>\n    <tr>\n      <th>1</th>\n      <td>St Hilda's Anglican School for Girls</td>\n      <td>1197</td>\n    </tr>\n    <tr>\n      <th>2</th>\n      <td>Christ Church Grammar School</td>\n      <td>1180</td>\n    </tr>\n    <tr>\n      <th>3</th>\n      <td>Rossmoyne Senior High School</td>\n      <td>1121</td>\n    </tr>\n    <tr>\n      <th>4</th>\n      <td>St Mary's Anglican Girls' School</td>\n      <td>1158</td>\n    </tr>\n    <tr>\n      <th>...</th>\n      <td>...</td>\n      <td>...</td>\n    </tr>\n    <tr>\n      <th>89</th>\n      <td>Swan Valley Anglican Community School</td>\n      <td>1045</td>\n    </tr>\n    <tr>\n      <th>90</th>\n      <td>Boyup Brook District High School</td>\n      <td>1002</td>\n    </tr>\n    <tr>\n      <th>91</th>\n      <td>Mater Dei College</td>\n      <td>1055</td>\n    </tr>\n    <tr>\n      <th>92</th>\n      <td>Emmanuel Catholic College</td>\n      <td>1036</td>\n    </tr>\n    <tr>\n      <th>93</th>\n      <td>Emmanuel Christian Community School</td>\n      <td>980</td>\n    </tr>\n  </tbody>\n</table>\n<p>94 rows × 2 columns</p>\n</div>"
     },
     "metadata": {},
     "execution_count": 30
    }
   ],
   "source": [
    "# re-arrange the columns & remove other columns\n",
    "icsea = hs_wa_2019[['School', 'ICSEA']]\n",
    "icsea"
   ]
  },
  {
   "cell_type": "code",
   "execution_count": 31,
   "metadata": {},
   "outputs": [
    {
     "output_type": "execute_result",
     "data": {
      "text/plain": [
       "                                               School  ICSEA\n",
       "0                              Heritage College Perth   1028\n",
       "1                             Alkimos Baptist College   1035\n",
       "2                   Margaret River Senior High School   1037\n",
       "3                            Bunbury Catholic College   1035\n",
       "4                       Kalbarri District High School    988\n",
       "..                                                ...    ...\n",
       "94                               Manea Senior College   1022\n",
       "95                            Mindarie Senior College   1034\n",
       "96                          Our Lady of Mercy College   1035\n",
       "97                           Sevenoaks Senior College    976\n",
       "98  Western Australian College Of Agriculture - Cu...   1009\n",
       "\n",
       "[99 rows x 2 columns]"
      ],
      "text/html": "<div>\n<style scoped>\n    .dataframe tbody tr th:only-of-type {\n        vertical-align: middle;\n    }\n\n    .dataframe tbody tr th {\n        vertical-align: top;\n    }\n\n    .dataframe thead th {\n        text-align: right;\n    }\n</style>\n<table border=\"1\" class=\"dataframe\">\n  <thead>\n    <tr style=\"text-align: right;\">\n      <th></th>\n      <th>School</th>\n      <th>ICSEA</th>\n    </tr>\n  </thead>\n  <tbody>\n    <tr>\n      <th>0</th>\n      <td>Heritage College Perth</td>\n      <td>1028</td>\n    </tr>\n    <tr>\n      <th>1</th>\n      <td>Alkimos Baptist College</td>\n      <td>1035</td>\n    </tr>\n    <tr>\n      <th>2</th>\n      <td>Margaret River Senior High School</td>\n      <td>1037</td>\n    </tr>\n    <tr>\n      <th>3</th>\n      <td>Bunbury Catholic College</td>\n      <td>1035</td>\n    </tr>\n    <tr>\n      <th>4</th>\n      <td>Kalbarri District High School</td>\n      <td>988</td>\n    </tr>\n    <tr>\n      <th>...</th>\n      <td>...</td>\n      <td>...</td>\n    </tr>\n    <tr>\n      <th>94</th>\n      <td>Manea Senior College</td>\n      <td>1022</td>\n    </tr>\n    <tr>\n      <th>95</th>\n      <td>Mindarie Senior College</td>\n      <td>1034</td>\n    </tr>\n    <tr>\n      <th>96</th>\n      <td>Our Lady of Mercy College</td>\n      <td>1035</td>\n    </tr>\n    <tr>\n      <th>97</th>\n      <td>Sevenoaks Senior College</td>\n      <td>976</td>\n    </tr>\n    <tr>\n      <th>98</th>\n      <td>Western Australian College Of Agriculture - Cu...</td>\n      <td>1009</td>\n    </tr>\n  </tbody>\n</table>\n<p>99 rows × 2 columns</p>\n</div>"
     },
     "metadata": {},
     "execution_count": 31
    }
   ],
   "source": [
    "# read \"school_coordinates\" csv file\n",
    "icsea_additional = pd.read_csv(\"Resources/icsea_additional.csv\")\n",
    "icsea_additional"
   ]
  },
  {
   "cell_type": "code",
   "execution_count": 32,
   "metadata": {},
   "outputs": [],
   "source": [
    "# Merge by concat the \"icsea\" Dataframe with \"icsea_update\" Dataframe\n",
    "icsea_full = pd.concat([icsea, icsea_additional])"
   ]
  },
  {
   "cell_type": "code",
   "execution_count": 33,
   "metadata": {},
   "outputs": [
    {
     "output_type": "execute_result",
     "data": {
      "text/plain": [
       "                                               School ICSEA\n",
       "0                                 Perth Modern School  1239\n",
       "1                St Hilda's Anglican School for Girls  1197\n",
       "2                        Christ Church Grammar School  1180\n",
       "3                        Rossmoyne Senior High School  1121\n",
       "4                    St Mary's Anglican Girls' School  1158\n",
       "..                                                ...   ...\n",
       "94                               Manea Senior College  1022\n",
       "95                            Mindarie Senior College  1034\n",
       "96                          Our Lady of Mercy College  1035\n",
       "97                           Sevenoaks Senior College   976\n",
       "98  Western Australian College Of Agriculture - Cu...  1009\n",
       "\n",
       "[193 rows x 2 columns]"
      ],
      "text/html": "<div>\n<style scoped>\n    .dataframe tbody tr th:only-of-type {\n        vertical-align: middle;\n    }\n\n    .dataframe tbody tr th {\n        vertical-align: top;\n    }\n\n    .dataframe thead th {\n        text-align: right;\n    }\n</style>\n<table border=\"1\" class=\"dataframe\">\n  <thead>\n    <tr style=\"text-align: right;\">\n      <th></th>\n      <th>School</th>\n      <th>ICSEA</th>\n    </tr>\n  </thead>\n  <tbody>\n    <tr>\n      <th>0</th>\n      <td>Perth Modern School</td>\n      <td>1239</td>\n    </tr>\n    <tr>\n      <th>1</th>\n      <td>St Hilda's Anglican School for Girls</td>\n      <td>1197</td>\n    </tr>\n    <tr>\n      <th>2</th>\n      <td>Christ Church Grammar School</td>\n      <td>1180</td>\n    </tr>\n    <tr>\n      <th>3</th>\n      <td>Rossmoyne Senior High School</td>\n      <td>1121</td>\n    </tr>\n    <tr>\n      <th>4</th>\n      <td>St Mary's Anglican Girls' School</td>\n      <td>1158</td>\n    </tr>\n    <tr>\n      <th>...</th>\n      <td>...</td>\n      <td>...</td>\n    </tr>\n    <tr>\n      <th>94</th>\n      <td>Manea Senior College</td>\n      <td>1022</td>\n    </tr>\n    <tr>\n      <th>95</th>\n      <td>Mindarie Senior College</td>\n      <td>1034</td>\n    </tr>\n    <tr>\n      <th>96</th>\n      <td>Our Lady of Mercy College</td>\n      <td>1035</td>\n    </tr>\n    <tr>\n      <th>97</th>\n      <td>Sevenoaks Senior College</td>\n      <td>976</td>\n    </tr>\n    <tr>\n      <th>98</th>\n      <td>Western Australian College Of Agriculture - Cu...</td>\n      <td>1009</td>\n    </tr>\n  </tbody>\n</table>\n<p>193 rows × 2 columns</p>\n</div>"
     },
     "metadata": {},
     "execution_count": 33
    }
   ],
   "source": [
    "# Display the merged Dataframe\n",
    "icsea_full"
   ]
  },
  {
   "cell_type": "code",
   "execution_count": 34,
   "metadata": {},
   "outputs": [
    {
     "output_type": "execute_result",
     "data": {
      "text/plain": [
       "Empty DataFrame\n",
       "Columns: [School, ICSEA]\n",
       "Index: []"
      ],
      "text/html": "<div>\n<style scoped>\n    .dataframe tbody tr th:only-of-type {\n        vertical-align: middle;\n    }\n\n    .dataframe tbody tr th {\n        vertical-align: top;\n    }\n\n    .dataframe thead th {\n        text-align: right;\n    }\n</style>\n<table border=\"1\" class=\"dataframe\">\n  <thead>\n    <tr style=\"text-align: right;\">\n      <th></th>\n      <th>School</th>\n      <th>ICSEA</th>\n    </tr>\n  </thead>\n  <tbody>\n  </tbody>\n</table>\n</div>"
     },
     "metadata": {},
     "execution_count": 34
    }
   ],
   "source": [
    "# Check for duplicates\n",
    "icsea_full[icsea_full.duplicated(keep=False)]"
   ]
  },
  {
   "cell_type": "code",
   "execution_count": 35,
   "metadata": {},
   "outputs": [
    {
     "output_type": "execute_result",
     "data": {
      "text/plain": [
       "               School ICSEA\n",
       "34  Woodthorpe School   nan"
      ],
      "text/html": "<div>\n<style scoped>\n    .dataframe tbody tr th:only-of-type {\n        vertical-align: middle;\n    }\n\n    .dataframe tbody tr th {\n        vertical-align: top;\n    }\n\n    .dataframe thead th {\n        text-align: right;\n    }\n</style>\n<table border=\"1\" class=\"dataframe\">\n  <thead>\n    <tr style=\"text-align: right;\">\n      <th></th>\n      <th>School</th>\n      <th>ICSEA</th>\n    </tr>\n  </thead>\n  <tbody>\n    <tr>\n      <th>34</th>\n      <td>Woodthorpe School</td>\n      <td>nan</td>\n    </tr>\n  </tbody>\n</table>\n</div>"
     },
     "metadata": {},
     "execution_count": 35
    }
   ],
   "source": [
    "# check for \"nan\" values which is a known value in the 2019 rankings dataset for Woodthorpe School\n",
    "# \"nan\" values are not considered Null (as opposed to \"Nan\") so it has to be searched manually\n",
    "icsea_full.loc[icsea_full[\"ICSEA\"] == \"nan\", :]"
   ]
  },
  {
   "cell_type": "code",
   "execution_count": 36,
   "metadata": {},
   "outputs": [],
   "source": [
    "# replaced \"nan\" with 983 which is the ICSEA score for Woodthorpe School\n",
    "icsea_full = icsea_full.replace('nan', 983)"
   ]
  },
  {
   "cell_type": "code",
   "execution_count": 37,
   "metadata": {},
   "outputs": [
    {
     "output_type": "execute_result",
     "data": {
      "text/plain": [
       "Empty DataFrame\n",
       "Columns: [School, ICSEA]\n",
       "Index: []"
      ],
      "text/html": "<div>\n<style scoped>\n    .dataframe tbody tr th:only-of-type {\n        vertical-align: middle;\n    }\n\n    .dataframe tbody tr th {\n        vertical-align: top;\n    }\n\n    .dataframe thead th {\n        text-align: right;\n    }\n</style>\n<table border=\"1\" class=\"dataframe\">\n  <thead>\n    <tr style=\"text-align: right;\">\n      <th></th>\n      <th>School</th>\n      <th>ICSEA</th>\n    </tr>\n  </thead>\n  <tbody>\n  </tbody>\n</table>\n</div>"
     },
     "metadata": {},
     "execution_count": 37
    }
   ],
   "source": [
    "# check for \"nan\" values after replacing the value to double check\n",
    "icsea_full.loc[icsea_full[\"ICSEA\"] == \"nan\", :]"
   ]
  },
  {
   "cell_type": "code",
   "execution_count": 38,
   "metadata": {},
   "outputs": [],
   "source": [
    "# replace some values to correct the spelling# replace some values to correct the spelling to prevent Null values when performing the merge with other Dataframes later on\n",
    "icsea_full[\"School\"].replace({\"John Curtin College Of The Arts\": \"John Curtin College of the Arts\", \n",
    "                       \"Australian Christian College\": \"Australian Christian College - Southlands\",\n",
    "                       \"St Stephen's School\": \"St Stephen's School - Duncraig\",\n",
    "                       \"Schools Of Isolated & Distance Education\": \"School of Isolated and Distance Education\",\n",
    "                       \"St Mary MacKillop College\": \"St Mary Mackillop College\"\n",
    "                        }, inplace=True)"
   ]
  },
  {
   "cell_type": "code",
   "execution_count": 39,
   "metadata": {},
   "outputs": [],
   "source": [
    "# # save the \"icsea_full\" Dataframe to a CSV file\n",
    "icsea_full.to_csv(\"Resources/icsea_full.csv\", index = False)"
   ]
  },
  {
   "cell_type": "code",
   "execution_count": null,
   "metadata": {},
   "outputs": [],
   "source": []
  }
 ]
}