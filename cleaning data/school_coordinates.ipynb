{
 "metadata": {
  "language_info": {
   "codemirror_mode": {
    "name": "ipython",
    "version": 3
   },
   "file_extension": ".py",
   "mimetype": "text/x-python",
   "name": "python",
   "nbconvert_exporter": "python",
   "pygments_lexer": "ipython3",
   "version": "3.8.3-final"
  },
  "orig_nbformat": 2,
  "kernelspec": {
   "name": "python3",
   "display_name": "Python 3",
   "language": "python"
  }
 },
 "nbformat": 4,
 "nbformat_minor": 2,
 "cells": [
  {
   "source": [
    "## The purpose of this Jupyter Notebook is to create a complete list of school coordinates which will be used for all the schools in our datasets from 2016-2020"
   ],
   "cell_type": "markdown",
   "metadata": {}
  },
  {
   "cell_type": "code",
   "execution_count": 1,
   "metadata": {},
   "outputs": [],
   "source": [
    "# import the required library\n",
    "import pandas as pd"
   ]
  },
  {
   "cell_type": "code",
   "execution_count": 2,
   "metadata": {},
   "outputs": [
    {
     "output_type": "execute_result",
     "data": {
      "text/plain": [
       "      Code                                School Name  \\\n",
       "0     5001                   ADAM ROAD PRIMARY SCHOOL   \n",
       "1     1397                  AL-HIDAYAH ISLAMIC SCHOOL   \n",
       "2     8001              ALBANY COMMUNITY KINDERGARTEN   \n",
       "3     5002                      ALBANY PRIMARY SCHOOL   \n",
       "4     6151  ALBANY SECONDARY EDUCATION SUPPORT CENTRE   \n",
       "...    ...                                        ...   \n",
       "1132  1497             YOUTH FUTURES COMMUNITY SCHOOL   \n",
       "1133  4127                         YULE BROOK COLLEGE   \n",
       "1134  5787        YULGA JINNA REMOTE COMMUNITY SCHOOL   \n",
       "1135  5217                      YULUMA PRIMARY SCHOOL   \n",
       "1136  5497                        YUNA PRIMARY SCHOOL   \n",
       "\n",
       "                            Street                        Suburb State  \\\n",
       "0                   HOTCHIN STREET                 SOUTH BUNBURY    WA   \n",
       "1         CNR HEDLEY ST/NYAMUP WAY                       BENTLEY    WA   \n",
       "2              136 SERPENTINE ROAD                        ALBANY    WA   \n",
       "3                   SUFFOLK STREET                        ALBANY    WA   \n",
       "4                    65 ANSON ROAD                        ALBANY    WA   \n",
       "...                            ...                           ...   ...   \n",
       "1132            59 KEY LARGO DRIVE                      CLARKSON    WA   \n",
       "1133                61 DELLAR ROAD                    MADDINGTON    WA   \n",
       "1134  YULGA JINNA REMOTE COMMUNITY  YULGA JINNA REMOTE COMMUNITY    WA   \n",
       "1135             21 AMBROSE STREET                       INNALOO    WA   \n",
       "1136           YUNA-TENINDEWA ROAD                          YUNA    WA   \n",
       "\n",
       "      Postcode             Postal Street  Postal Suburb Postal State  \\\n",
       "0         6230            HOTCHIN STREET  SOUTH BUNBURY           WA   \n",
       "1         6102  CNR HEDLEY ST/NYAMUP WAY        BENTLEY           WA   \n",
       "2         6330               PO BOX 5670         ALBANY           WA   \n",
       "3         6330            SUFFOLK STREET         ALBANY           WA   \n",
       "4         6330             65 ANSON ROAD         ALBANY           WA   \n",
       "...        ...                       ...            ...          ...   \n",
       "1132      6030        59 KEY LARGO DRIVE       CLARKSON           WA   \n",
       "1133      6109            61 DELLAR ROAD     MADDINGTON           WA   \n",
       "1134      6642           VIA MEEKATHARRA    MEEKATHARRA           WA   \n",
       "1135      6018         21 AMBROSE STREET        INNALOO           WA   \n",
       "1136      6532                   PMB 610   GERALDTON PO           WA   \n",
       "\n",
       "      Postal Postcode   Latitude   Longitude         Phone  \\\n",
       "0                6230 -33.357951  115.635371  08 9796 3000   \n",
       "1                6102 -32.010358  115.911564  08 9351 8593   \n",
       "2                6332 -35.021460  117.880987  08 9841 1864   \n",
       "3                6330 -35.018212  117.891611  08 9844 2860   \n",
       "4                6330 -34.990749  117.866867  08 9841 4900   \n",
       "...               ...        ...         ...           ...   \n",
       "1132             6030 -31.691100  115.719850  08 9407 9099   \n",
       "1133             6109 -32.047327  116.006462  08 9251 8333   \n",
       "1134             6642 -25.617306  118.557728  08 9981 2200   \n",
       "1135             6018 -31.892268  115.789990  08 9244 5422   \n",
       "1136             6531 -28.326566  115.002648  08 9985 4100   \n",
       "\n",
       "        Education Region       Broad Classification     Classification Group  \\\n",
       "0             SOUTH WEST            Primary Schools          PRIMARY SCHOOLS   \n",
       "1     SOUTH METROPOLITAN           NON-GOVT SCHOOLS           NON-GOVERNMENT   \n",
       "2             SOUTH WEST    Community Kindergartens  COMMUNITY KINDERGARTENS   \n",
       "3             SOUTH WEST            Primary Schools          PRIMARY SCHOOLS   \n",
       "4             SOUTH WEST  Education Support Centres        EDUCATION SUPPORT   \n",
       "...                  ...                        ...                      ...   \n",
       "1132  NORTH METROPOLITAN           NON-GOVT SCHOOLS           NON-GOVERNMENT   \n",
       "1133  SOUTH METROPOLITAN               High Schools        SECONDARY SCHOOLS   \n",
       "1134             MIDWEST   Remote Community Schools          PRIMARY SCHOOLS   \n",
       "1135  NORTH METROPOLITAN            Primary Schools          PRIMARY SCHOOLS   \n",
       "1136             MIDWEST            Primary Schools          PRIMARY SCHOOLS   \n",
       "\n",
       "     Low Year High Year  \n",
       "0         KIN       Y06  \n",
       "1         PPR       Y06  \n",
       "2         KIN       KIN  \n",
       "3         KIN       Y06  \n",
       "4         Y07       Y12  \n",
       "...       ...       ...  \n",
       "1132      Y09       Y12  \n",
       "1133      Y07       Y10  \n",
       "1134      KIN       Y07  \n",
       "1135      KIN       Y06  \n",
       "1136      Y01       Y06  \n",
       "\n",
       "[1137 rows x 18 columns]"
      ],
      "text/html": "<div>\n<style scoped>\n    .dataframe tbody tr th:only-of-type {\n        vertical-align: middle;\n    }\n\n    .dataframe tbody tr th {\n        vertical-align: top;\n    }\n\n    .dataframe thead th {\n        text-align: right;\n    }\n</style>\n<table border=\"1\" class=\"dataframe\">\n  <thead>\n    <tr style=\"text-align: right;\">\n      <th></th>\n      <th>Code</th>\n      <th>School Name</th>\n      <th>Street</th>\n      <th>Suburb</th>\n      <th>State</th>\n      <th>Postcode</th>\n      <th>Postal Street</th>\n      <th>Postal Suburb</th>\n      <th>Postal State</th>\n      <th>Postal Postcode</th>\n      <th>Latitude</th>\n      <th>Longitude</th>\n      <th>Phone</th>\n      <th>Education Region</th>\n      <th>Broad Classification</th>\n      <th>Classification Group</th>\n      <th>Low Year</th>\n      <th>High Year</th>\n    </tr>\n  </thead>\n  <tbody>\n    <tr>\n      <th>0</th>\n      <td>5001</td>\n      <td>ADAM ROAD PRIMARY SCHOOL</td>\n      <td>HOTCHIN STREET</td>\n      <td>SOUTH BUNBURY</td>\n      <td>WA</td>\n      <td>6230</td>\n      <td>HOTCHIN STREET</td>\n      <td>SOUTH BUNBURY</td>\n      <td>WA</td>\n      <td>6230</td>\n      <td>-33.357951</td>\n      <td>115.635371</td>\n      <td>08 9796 3000</td>\n      <td>SOUTH WEST</td>\n      <td>Primary Schools</td>\n      <td>PRIMARY SCHOOLS</td>\n      <td>KIN</td>\n      <td>Y06</td>\n    </tr>\n    <tr>\n      <th>1</th>\n      <td>1397</td>\n      <td>AL-HIDAYAH ISLAMIC SCHOOL</td>\n      <td>CNR HEDLEY ST/NYAMUP WAY</td>\n      <td>BENTLEY</td>\n      <td>WA</td>\n      <td>6102</td>\n      <td>CNR HEDLEY ST/NYAMUP WAY</td>\n      <td>BENTLEY</td>\n      <td>WA</td>\n      <td>6102</td>\n      <td>-32.010358</td>\n      <td>115.911564</td>\n      <td>08 9351 8593</td>\n      <td>SOUTH METROPOLITAN</td>\n      <td>NON-GOVT SCHOOLS</td>\n      <td>NON-GOVERNMENT</td>\n      <td>PPR</td>\n      <td>Y06</td>\n    </tr>\n    <tr>\n      <th>2</th>\n      <td>8001</td>\n      <td>ALBANY COMMUNITY KINDERGARTEN</td>\n      <td>136 SERPENTINE ROAD</td>\n      <td>ALBANY</td>\n      <td>WA</td>\n      <td>6330</td>\n      <td>PO BOX 5670</td>\n      <td>ALBANY</td>\n      <td>WA</td>\n      <td>6332</td>\n      <td>-35.021460</td>\n      <td>117.880987</td>\n      <td>08 9841 1864</td>\n      <td>SOUTH WEST</td>\n      <td>Community Kindergartens</td>\n      <td>COMMUNITY KINDERGARTENS</td>\n      <td>KIN</td>\n      <td>KIN</td>\n    </tr>\n    <tr>\n      <th>3</th>\n      <td>5002</td>\n      <td>ALBANY PRIMARY SCHOOL</td>\n      <td>SUFFOLK STREET</td>\n      <td>ALBANY</td>\n      <td>WA</td>\n      <td>6330</td>\n      <td>SUFFOLK STREET</td>\n      <td>ALBANY</td>\n      <td>WA</td>\n      <td>6330</td>\n      <td>-35.018212</td>\n      <td>117.891611</td>\n      <td>08 9844 2860</td>\n      <td>SOUTH WEST</td>\n      <td>Primary Schools</td>\n      <td>PRIMARY SCHOOLS</td>\n      <td>KIN</td>\n      <td>Y06</td>\n    </tr>\n    <tr>\n      <th>4</th>\n      <td>6151</td>\n      <td>ALBANY SECONDARY EDUCATION SUPPORT CENTRE</td>\n      <td>65 ANSON ROAD</td>\n      <td>ALBANY</td>\n      <td>WA</td>\n      <td>6330</td>\n      <td>65 ANSON ROAD</td>\n      <td>ALBANY</td>\n      <td>WA</td>\n      <td>6330</td>\n      <td>-34.990749</td>\n      <td>117.866867</td>\n      <td>08 9841 4900</td>\n      <td>SOUTH WEST</td>\n      <td>Education Support Centres</td>\n      <td>EDUCATION SUPPORT</td>\n      <td>Y07</td>\n      <td>Y12</td>\n    </tr>\n    <tr>\n      <th>...</th>\n      <td>...</td>\n      <td>...</td>\n      <td>...</td>\n      <td>...</td>\n      <td>...</td>\n      <td>...</td>\n      <td>...</td>\n      <td>...</td>\n      <td>...</td>\n      <td>...</td>\n      <td>...</td>\n      <td>...</td>\n      <td>...</td>\n      <td>...</td>\n      <td>...</td>\n      <td>...</td>\n      <td>...</td>\n      <td>...</td>\n    </tr>\n    <tr>\n      <th>1132</th>\n      <td>1497</td>\n      <td>YOUTH FUTURES COMMUNITY SCHOOL</td>\n      <td>59 KEY LARGO DRIVE</td>\n      <td>CLARKSON</td>\n      <td>WA</td>\n      <td>6030</td>\n      <td>59 KEY LARGO DRIVE</td>\n      <td>CLARKSON</td>\n      <td>WA</td>\n      <td>6030</td>\n      <td>-31.691100</td>\n      <td>115.719850</td>\n      <td>08 9407 9099</td>\n      <td>NORTH METROPOLITAN</td>\n      <td>NON-GOVT SCHOOLS</td>\n      <td>NON-GOVERNMENT</td>\n      <td>Y09</td>\n      <td>Y12</td>\n    </tr>\n    <tr>\n      <th>1133</th>\n      <td>4127</td>\n      <td>YULE BROOK COLLEGE</td>\n      <td>61 DELLAR ROAD</td>\n      <td>MADDINGTON</td>\n      <td>WA</td>\n      <td>6109</td>\n      <td>61 DELLAR ROAD</td>\n      <td>MADDINGTON</td>\n      <td>WA</td>\n      <td>6109</td>\n      <td>-32.047327</td>\n      <td>116.006462</td>\n      <td>08 9251 8333</td>\n      <td>SOUTH METROPOLITAN</td>\n      <td>High Schools</td>\n      <td>SECONDARY SCHOOLS</td>\n      <td>Y07</td>\n      <td>Y10</td>\n    </tr>\n    <tr>\n      <th>1134</th>\n      <td>5787</td>\n      <td>YULGA JINNA REMOTE COMMUNITY SCHOOL</td>\n      <td>YULGA JINNA REMOTE COMMUNITY</td>\n      <td>YULGA JINNA REMOTE COMMUNITY</td>\n      <td>WA</td>\n      <td>6642</td>\n      <td>VIA MEEKATHARRA</td>\n      <td>MEEKATHARRA</td>\n      <td>WA</td>\n      <td>6642</td>\n      <td>-25.617306</td>\n      <td>118.557728</td>\n      <td>08 9981 2200</td>\n      <td>MIDWEST</td>\n      <td>Remote Community Schools</td>\n      <td>PRIMARY SCHOOLS</td>\n      <td>KIN</td>\n      <td>Y07</td>\n    </tr>\n    <tr>\n      <th>1135</th>\n      <td>5217</td>\n      <td>YULUMA PRIMARY SCHOOL</td>\n      <td>21 AMBROSE STREET</td>\n      <td>INNALOO</td>\n      <td>WA</td>\n      <td>6018</td>\n      <td>21 AMBROSE STREET</td>\n      <td>INNALOO</td>\n      <td>WA</td>\n      <td>6018</td>\n      <td>-31.892268</td>\n      <td>115.789990</td>\n      <td>08 9244 5422</td>\n      <td>NORTH METROPOLITAN</td>\n      <td>Primary Schools</td>\n      <td>PRIMARY SCHOOLS</td>\n      <td>KIN</td>\n      <td>Y06</td>\n    </tr>\n    <tr>\n      <th>1136</th>\n      <td>5497</td>\n      <td>YUNA PRIMARY SCHOOL</td>\n      <td>YUNA-TENINDEWA ROAD</td>\n      <td>YUNA</td>\n      <td>WA</td>\n      <td>6532</td>\n      <td>PMB 610</td>\n      <td>GERALDTON PO</td>\n      <td>WA</td>\n      <td>6531</td>\n      <td>-28.326566</td>\n      <td>115.002648</td>\n      <td>08 9985 4100</td>\n      <td>MIDWEST</td>\n      <td>Primary Schools</td>\n      <td>PRIMARY SCHOOLS</td>\n      <td>Y01</td>\n      <td>Y06</td>\n    </tr>\n  </tbody>\n</table>\n<p>1137 rows × 18 columns</p>\n</div>"
     },
     "metadata": {},
     "execution_count": 2
    }
   ],
   "source": [
    "# read \"doe_2020\" csv file\n",
    "doe = pd.read_csv(\"Resources/doe_2020.csv\")\n",
    "doe"
   ]
  },
  {
   "cell_type": "code",
   "execution_count": 3,
   "metadata": {},
   "outputs": [
    {
     "output_type": "execute_result",
     "data": {
      "text/plain": [
       "                                    School Name                        Suburb  \\\n",
       "0                      ADAM ROAD PRIMARY SCHOOL                 SOUTH BUNBURY   \n",
       "1                     AL-HIDAYAH ISLAMIC SCHOOL                       BENTLEY   \n",
       "2                 ALBANY COMMUNITY KINDERGARTEN                        ALBANY   \n",
       "3                         ALBANY PRIMARY SCHOOL                        ALBANY   \n",
       "4     ALBANY SECONDARY EDUCATION SUPPORT CENTRE                        ALBANY   \n",
       "...                                         ...                           ...   \n",
       "1132             YOUTH FUTURES COMMUNITY SCHOOL                      CLARKSON   \n",
       "1133                         YULE BROOK COLLEGE                    MADDINGTON   \n",
       "1134        YULGA JINNA REMOTE COMMUNITY SCHOOL  YULGA JINNA REMOTE COMMUNITY   \n",
       "1135                      YULUMA PRIMARY SCHOOL                       INNALOO   \n",
       "1136                        YUNA PRIMARY SCHOOL                          YUNA   \n",
       "\n",
       "       Longitude   Latitude  \n",
       "0     115.635371 -33.357951  \n",
       "1     115.911564 -32.010358  \n",
       "2     117.880987 -35.021460  \n",
       "3     117.891611 -35.018212  \n",
       "4     117.866867 -34.990749  \n",
       "...          ...        ...  \n",
       "1132  115.719850 -31.691100  \n",
       "1133  116.006462 -32.047327  \n",
       "1134  118.557728 -25.617306  \n",
       "1135  115.789990 -31.892268  \n",
       "1136  115.002648 -28.326566  \n",
       "\n",
       "[1137 rows x 4 columns]"
      ],
      "text/html": "<div>\n<style scoped>\n    .dataframe tbody tr th:only-of-type {\n        vertical-align: middle;\n    }\n\n    .dataframe tbody tr th {\n        vertical-align: top;\n    }\n\n    .dataframe thead th {\n        text-align: right;\n    }\n</style>\n<table border=\"1\" class=\"dataframe\">\n  <thead>\n    <tr style=\"text-align: right;\">\n      <th></th>\n      <th>School Name</th>\n      <th>Suburb</th>\n      <th>Longitude</th>\n      <th>Latitude</th>\n    </tr>\n  </thead>\n  <tbody>\n    <tr>\n      <th>0</th>\n      <td>ADAM ROAD PRIMARY SCHOOL</td>\n      <td>SOUTH BUNBURY</td>\n      <td>115.635371</td>\n      <td>-33.357951</td>\n    </tr>\n    <tr>\n      <th>1</th>\n      <td>AL-HIDAYAH ISLAMIC SCHOOL</td>\n      <td>BENTLEY</td>\n      <td>115.911564</td>\n      <td>-32.010358</td>\n    </tr>\n    <tr>\n      <th>2</th>\n      <td>ALBANY COMMUNITY KINDERGARTEN</td>\n      <td>ALBANY</td>\n      <td>117.880987</td>\n      <td>-35.021460</td>\n    </tr>\n    <tr>\n      <th>3</th>\n      <td>ALBANY PRIMARY SCHOOL</td>\n      <td>ALBANY</td>\n      <td>117.891611</td>\n      <td>-35.018212</td>\n    </tr>\n    <tr>\n      <th>4</th>\n      <td>ALBANY SECONDARY EDUCATION SUPPORT CENTRE</td>\n      <td>ALBANY</td>\n      <td>117.866867</td>\n      <td>-34.990749</td>\n    </tr>\n    <tr>\n      <th>...</th>\n      <td>...</td>\n      <td>...</td>\n      <td>...</td>\n      <td>...</td>\n    </tr>\n    <tr>\n      <th>1132</th>\n      <td>YOUTH FUTURES COMMUNITY SCHOOL</td>\n      <td>CLARKSON</td>\n      <td>115.719850</td>\n      <td>-31.691100</td>\n    </tr>\n    <tr>\n      <th>1133</th>\n      <td>YULE BROOK COLLEGE</td>\n      <td>MADDINGTON</td>\n      <td>116.006462</td>\n      <td>-32.047327</td>\n    </tr>\n    <tr>\n      <th>1134</th>\n      <td>YULGA JINNA REMOTE COMMUNITY SCHOOL</td>\n      <td>YULGA JINNA REMOTE COMMUNITY</td>\n      <td>118.557728</td>\n      <td>-25.617306</td>\n    </tr>\n    <tr>\n      <th>1135</th>\n      <td>YULUMA PRIMARY SCHOOL</td>\n      <td>INNALOO</td>\n      <td>115.789990</td>\n      <td>-31.892268</td>\n    </tr>\n    <tr>\n      <th>1136</th>\n      <td>YUNA PRIMARY SCHOOL</td>\n      <td>YUNA</td>\n      <td>115.002648</td>\n      <td>-28.326566</td>\n    </tr>\n  </tbody>\n</table>\n<p>1137 rows × 4 columns</p>\n</div>"
     },
     "metadata": {},
     "execution_count": 3
    }
   ],
   "source": [
    "# remove other columns\n",
    "doe = doe[[\"School Name\", \"Suburb\", \"Longitude\", \"Latitude\"]]\n",
    "doe"
   ]
  },
  {
   "cell_type": "code",
   "execution_count": 4,
   "metadata": {},
   "outputs": [
    {
     "output_type": "execute_result",
     "data": {
      "text/plain": [
       "                                         School                        Suburb  \\\n",
       "0                      ADAM ROAD PRIMARY SCHOOL                 SOUTH BUNBURY   \n",
       "1                     AL-HIDAYAH ISLAMIC SCHOOL                       BENTLEY   \n",
       "2                 ALBANY COMMUNITY KINDERGARTEN                        ALBANY   \n",
       "3                         ALBANY PRIMARY SCHOOL                        ALBANY   \n",
       "4     ALBANY SECONDARY EDUCATION SUPPORT CENTRE                        ALBANY   \n",
       "...                                         ...                           ...   \n",
       "1132             YOUTH FUTURES COMMUNITY SCHOOL                      CLARKSON   \n",
       "1133                         YULE BROOK COLLEGE                    MADDINGTON   \n",
       "1134        YULGA JINNA REMOTE COMMUNITY SCHOOL  YULGA JINNA REMOTE COMMUNITY   \n",
       "1135                      YULUMA PRIMARY SCHOOL                       INNALOO   \n",
       "1136                        YUNA PRIMARY SCHOOL                          YUNA   \n",
       "\n",
       "       Longitude   Latitude  \n",
       "0     115.635371 -33.357951  \n",
       "1     115.911564 -32.010358  \n",
       "2     117.880987 -35.021460  \n",
       "3     117.891611 -35.018212  \n",
       "4     117.866867 -34.990749  \n",
       "...          ...        ...  \n",
       "1132  115.719850 -31.691100  \n",
       "1133  116.006462 -32.047327  \n",
       "1134  118.557728 -25.617306  \n",
       "1135  115.789990 -31.892268  \n",
       "1136  115.002648 -28.326566  \n",
       "\n",
       "[1137 rows x 4 columns]"
      ],
      "text/html": "<div>\n<style scoped>\n    .dataframe tbody tr th:only-of-type {\n        vertical-align: middle;\n    }\n\n    .dataframe tbody tr th {\n        vertical-align: top;\n    }\n\n    .dataframe thead th {\n        text-align: right;\n    }\n</style>\n<table border=\"1\" class=\"dataframe\">\n  <thead>\n    <tr style=\"text-align: right;\">\n      <th></th>\n      <th>School</th>\n      <th>Suburb</th>\n      <th>Longitude</th>\n      <th>Latitude</th>\n    </tr>\n  </thead>\n  <tbody>\n    <tr>\n      <th>0</th>\n      <td>ADAM ROAD PRIMARY SCHOOL</td>\n      <td>SOUTH BUNBURY</td>\n      <td>115.635371</td>\n      <td>-33.357951</td>\n    </tr>\n    <tr>\n      <th>1</th>\n      <td>AL-HIDAYAH ISLAMIC SCHOOL</td>\n      <td>BENTLEY</td>\n      <td>115.911564</td>\n      <td>-32.010358</td>\n    </tr>\n    <tr>\n      <th>2</th>\n      <td>ALBANY COMMUNITY KINDERGARTEN</td>\n      <td>ALBANY</td>\n      <td>117.880987</td>\n      <td>-35.021460</td>\n    </tr>\n    <tr>\n      <th>3</th>\n      <td>ALBANY PRIMARY SCHOOL</td>\n      <td>ALBANY</td>\n      <td>117.891611</td>\n      <td>-35.018212</td>\n    </tr>\n    <tr>\n      <th>4</th>\n      <td>ALBANY SECONDARY EDUCATION SUPPORT CENTRE</td>\n      <td>ALBANY</td>\n      <td>117.866867</td>\n      <td>-34.990749</td>\n    </tr>\n    <tr>\n      <th>...</th>\n      <td>...</td>\n      <td>...</td>\n      <td>...</td>\n      <td>...</td>\n    </tr>\n    <tr>\n      <th>1132</th>\n      <td>YOUTH FUTURES COMMUNITY SCHOOL</td>\n      <td>CLARKSON</td>\n      <td>115.719850</td>\n      <td>-31.691100</td>\n    </tr>\n    <tr>\n      <th>1133</th>\n      <td>YULE BROOK COLLEGE</td>\n      <td>MADDINGTON</td>\n      <td>116.006462</td>\n      <td>-32.047327</td>\n    </tr>\n    <tr>\n      <th>1134</th>\n      <td>YULGA JINNA REMOTE COMMUNITY SCHOOL</td>\n      <td>YULGA JINNA REMOTE COMMUNITY</td>\n      <td>118.557728</td>\n      <td>-25.617306</td>\n    </tr>\n    <tr>\n      <th>1135</th>\n      <td>YULUMA PRIMARY SCHOOL</td>\n      <td>INNALOO</td>\n      <td>115.789990</td>\n      <td>-31.892268</td>\n    </tr>\n    <tr>\n      <th>1136</th>\n      <td>YUNA PRIMARY SCHOOL</td>\n      <td>YUNA</td>\n      <td>115.002648</td>\n      <td>-28.326566</td>\n    </tr>\n  </tbody>\n</table>\n<p>1137 rows × 4 columns</p>\n</div>"
     },
     "metadata": {},
     "execution_count": 4
    }
   ],
   "source": [
    "# rename the \"School Name\" column name\n",
    "doe = doe.rename(columns = {\"School Name\" : \"School\"})\n",
    "doe"
   ]
  },
  {
   "cell_type": "code",
   "execution_count": 5,
   "metadata": {},
   "outputs": [
    {
     "output_type": "execute_result",
     "data": {
      "text/plain": [
       "                                         School                        Suburb  \\\n",
       "0                      Adam Road Primary School                 South Bunbury   \n",
       "1                     Al-Hidayah Islamic School                       Bentley   \n",
       "2                 Albany Community Kindergarten                        Albany   \n",
       "3                         Albany Primary School                        Albany   \n",
       "4     Albany Secondary Education Support Centre                        Albany   \n",
       "...                                         ...                           ...   \n",
       "1132             Youth Futures Community School                      Clarkson   \n",
       "1133                         Yule Brook College                    Maddington   \n",
       "1134        Yulga Jinna Remote Community School  Yulga Jinna Remote Community   \n",
       "1135                      Yuluma Primary School                       Innaloo   \n",
       "1136                        Yuna Primary School                          Yuna   \n",
       "\n",
       "       Longitude   Latitude  \n",
       "0     115.635371 -33.357951  \n",
       "1     115.911564 -32.010358  \n",
       "2     117.880987 -35.021460  \n",
       "3     117.891611 -35.018212  \n",
       "4     117.866867 -34.990749  \n",
       "...          ...        ...  \n",
       "1132  115.719850 -31.691100  \n",
       "1133  116.006462 -32.047327  \n",
       "1134  118.557728 -25.617306  \n",
       "1135  115.789990 -31.892268  \n",
       "1136  115.002648 -28.326566  \n",
       "\n",
       "[1137 rows x 4 columns]"
      ],
      "text/html": "<div>\n<style scoped>\n    .dataframe tbody tr th:only-of-type {\n        vertical-align: middle;\n    }\n\n    .dataframe tbody tr th {\n        vertical-align: top;\n    }\n\n    .dataframe thead th {\n        text-align: right;\n    }\n</style>\n<table border=\"1\" class=\"dataframe\">\n  <thead>\n    <tr style=\"text-align: right;\">\n      <th></th>\n      <th>School</th>\n      <th>Suburb</th>\n      <th>Longitude</th>\n      <th>Latitude</th>\n    </tr>\n  </thead>\n  <tbody>\n    <tr>\n      <th>0</th>\n      <td>Adam Road Primary School</td>\n      <td>South Bunbury</td>\n      <td>115.635371</td>\n      <td>-33.357951</td>\n    </tr>\n    <tr>\n      <th>1</th>\n      <td>Al-Hidayah Islamic School</td>\n      <td>Bentley</td>\n      <td>115.911564</td>\n      <td>-32.010358</td>\n    </tr>\n    <tr>\n      <th>2</th>\n      <td>Albany Community Kindergarten</td>\n      <td>Albany</td>\n      <td>117.880987</td>\n      <td>-35.021460</td>\n    </tr>\n    <tr>\n      <th>3</th>\n      <td>Albany Primary School</td>\n      <td>Albany</td>\n      <td>117.891611</td>\n      <td>-35.018212</td>\n    </tr>\n    <tr>\n      <th>4</th>\n      <td>Albany Secondary Education Support Centre</td>\n      <td>Albany</td>\n      <td>117.866867</td>\n      <td>-34.990749</td>\n    </tr>\n    <tr>\n      <th>...</th>\n      <td>...</td>\n      <td>...</td>\n      <td>...</td>\n      <td>...</td>\n    </tr>\n    <tr>\n      <th>1132</th>\n      <td>Youth Futures Community School</td>\n      <td>Clarkson</td>\n      <td>115.719850</td>\n      <td>-31.691100</td>\n    </tr>\n    <tr>\n      <th>1133</th>\n      <td>Yule Brook College</td>\n      <td>Maddington</td>\n      <td>116.006462</td>\n      <td>-32.047327</td>\n    </tr>\n    <tr>\n      <th>1134</th>\n      <td>Yulga Jinna Remote Community School</td>\n      <td>Yulga Jinna Remote Community</td>\n      <td>118.557728</td>\n      <td>-25.617306</td>\n    </tr>\n    <tr>\n      <th>1135</th>\n      <td>Yuluma Primary School</td>\n      <td>Innaloo</td>\n      <td>115.789990</td>\n      <td>-31.892268</td>\n    </tr>\n    <tr>\n      <th>1136</th>\n      <td>Yuna Primary School</td>\n      <td>Yuna</td>\n      <td>115.002648</td>\n      <td>-28.326566</td>\n    </tr>\n  </tbody>\n</table>\n<p>1137 rows × 4 columns</p>\n</div>"
     },
     "metadata": {},
     "execution_count": 5
    }
   ],
   "source": [
    "# change the \"School\" & \"Suburb\" columns values format to a title format\n",
    "doe['School'] = doe['School'].str.title()\n",
    "doe['Suburb'] = doe['Suburb'].str.title()\n",
    "doe"
   ]
  },
  {
   "cell_type": "code",
   "execution_count": 6,
   "metadata": {},
   "outputs": [],
   "source": [
    "# replace some values to correct the spelling to prevent Null values when performing the merge with other Dataframes later on\n",
    "doe[\"School\"].replace({\"Irene Mccormack Catholic College\": \"Irene McCormack Catholic College\",\n",
    "                       \"John Xxiii College\": \"John XXIII College\",\n",
    "                       \"Oneschool Global Wa\": \"OneSchool Global WA\",\n",
    "                       \"Our Lady Of Mercy College\": \"Our Lady of Mercy College\",\n",
    "                       \"Peter Moyes Anglican Community\": \"Peter Moyes Anglican Community School\",\n",
    "                       \"Presbyterian Ladies College\": \"Presbyterian Ladies' College\",\n",
    "                       \"St Andrew'S Grammar\": \"St Andrew's Grammar\",\n",
    "                       \"St Brigid'S College\": \"St Brigid's College\",\n",
    "                       \"St Hilda'S Anglican School For Girls\": \"St Hilda's Anglican School for Girls\",\n",
    "                       \"St Joseph'S College\": \"St Joseph's College\",\n",
    "                       \"St Luke'S College\": \"St Luke's College\",\n",
    "                       \"St Mark'S Anglican Community School\": \"St Mark's Anglican Community School\",\n",
    "                       \"St Mary'S Anglican Girls' School\": \"St Mary's Anglican Girls' School\",\n",
    "                       \"St Stephen'S School\": \"St Stephen's School - Duncraig\",\n",
    "                       \"Swan Valley Anglican Community\": \"Swan Valley Anglican Community School\",\n",
    "                       \"John Curtin College Of The Arts\": \"John Curtin College of the Arts\",\n",
    "                       \"Australian Islamic College - North Of The River\": \"Australian Islamic College - Dianella\",\n",
    "                       \"Australian Islamic College - Perth\": \"Australian Islamic College - Thornlie\",\n",
    "                       \"St George'S Anglican Grammar School\": \"St George's Anglican Grammar School\",\n",
    "                       \"International School Of Western Australia\": \"International School of Western Australia\",\n",
    "                       \"School Of Isolated And Distance Education\": \"School of Isolated and Distance Education\",\n",
    "                       \"Cornerstone Christian College Ltd\": \"Cornerstone Christian College\"                    \n",
    "                       }, inplace=True)"
   ]
  },
  {
   "cell_type": "code",
   "execution_count": 7,
   "metadata": {},
   "outputs": [
    {
     "output_type": "execute_result",
     "data": {
      "text/plain": [
       "                           School      Suburb  Longitude  Latitude\n",
       "0               Woodthorpe School   Willetton  115.90172 -32.05654\n",
       "1  St Stephen's School - Carramar    Carramar  115.78828 -31.71704\n",
       "2      Bunbury John Calvin School  Carey Park  115.64956 -33.35097"
      ],
      "text/html": "<div>\n<style scoped>\n    .dataframe tbody tr th:only-of-type {\n        vertical-align: middle;\n    }\n\n    .dataframe tbody tr th {\n        vertical-align: top;\n    }\n\n    .dataframe thead th {\n        text-align: right;\n    }\n</style>\n<table border=\"1\" class=\"dataframe\">\n  <thead>\n    <tr style=\"text-align: right;\">\n      <th></th>\n      <th>School</th>\n      <th>Suburb</th>\n      <th>Longitude</th>\n      <th>Latitude</th>\n    </tr>\n  </thead>\n  <tbody>\n    <tr>\n      <th>0</th>\n      <td>Woodthorpe School</td>\n      <td>Willetton</td>\n      <td>115.90172</td>\n      <td>-32.05654</td>\n    </tr>\n    <tr>\n      <th>1</th>\n      <td>St Stephen's School - Carramar</td>\n      <td>Carramar</td>\n      <td>115.78828</td>\n      <td>-31.71704</td>\n    </tr>\n    <tr>\n      <th>2</th>\n      <td>Bunbury John Calvin School</td>\n      <td>Carey Park</td>\n      <td>115.64956</td>\n      <td>-33.35097</td>\n    </tr>\n  </tbody>\n</table>\n</div>"
     },
     "metadata": {},
     "execution_count": 7
    }
   ],
   "source": [
    "# create a new Dataframe with new entries to be added to the \"doe\" Dataframe\n",
    "doe_update = pd.DataFrame({\"School\": [\"Woodthorpe School\", \"St Stephen's School - Carramar\", \"Bunbury John Calvin School\"],\n",
    "                           \"Suburb\": [\"Willetton\", \"Carramar\", \"Carey Park\"],\n",
    "                           \"Longitude\": [115.90172, 115.78828, 115.64956],\n",
    "                           \"Latitude\": [-32.05654, -31.71704, -33.35097]\n",
    "                            })\n",
    "doe_update"
   ]
  },
  {
   "cell_type": "code",
   "execution_count": 8,
   "metadata": {},
   "outputs": [
    {
     "output_type": "execute_result",
     "data": {
      "text/plain": [
       "                                         School         Suburb   Longitude  \\\n",
       "0                      Adam Road Primary School  South Bunbury  115.635371   \n",
       "1                     Al-Hidayah Islamic School        Bentley  115.911564   \n",
       "2                 Albany Community Kindergarten         Albany  117.880987   \n",
       "3                         Albany Primary School         Albany  117.891611   \n",
       "4     Albany Secondary Education Support Centre         Albany  117.866867   \n",
       "...                                         ...            ...         ...   \n",
       "1135                      Yuluma Primary School        Innaloo  115.789990   \n",
       "1136                        Yuna Primary School           Yuna  115.002648   \n",
       "0                             Woodthorpe School      Willetton  115.901720   \n",
       "1                St Stephen's School - Carramar       Carramar  115.788280   \n",
       "2                    Bunbury John Calvin School     Carey Park  115.649560   \n",
       "\n",
       "       Latitude  \n",
       "0    -33.357951  \n",
       "1    -32.010358  \n",
       "2    -35.021460  \n",
       "3    -35.018212  \n",
       "4    -34.990749  \n",
       "...         ...  \n",
       "1135 -31.892268  \n",
       "1136 -28.326566  \n",
       "0    -32.056540  \n",
       "1    -31.717040  \n",
       "2    -33.350970  \n",
       "\n",
       "[1140 rows x 4 columns]"
      ],
      "text/html": "<div>\n<style scoped>\n    .dataframe tbody tr th:only-of-type {\n        vertical-align: middle;\n    }\n\n    .dataframe tbody tr th {\n        vertical-align: top;\n    }\n\n    .dataframe thead th {\n        text-align: right;\n    }\n</style>\n<table border=\"1\" class=\"dataframe\">\n  <thead>\n    <tr style=\"text-align: right;\">\n      <th></th>\n      <th>School</th>\n      <th>Suburb</th>\n      <th>Longitude</th>\n      <th>Latitude</th>\n    </tr>\n  </thead>\n  <tbody>\n    <tr>\n      <th>0</th>\n      <td>Adam Road Primary School</td>\n      <td>South Bunbury</td>\n      <td>115.635371</td>\n      <td>-33.357951</td>\n    </tr>\n    <tr>\n      <th>1</th>\n      <td>Al-Hidayah Islamic School</td>\n      <td>Bentley</td>\n      <td>115.911564</td>\n      <td>-32.010358</td>\n    </tr>\n    <tr>\n      <th>2</th>\n      <td>Albany Community Kindergarten</td>\n      <td>Albany</td>\n      <td>117.880987</td>\n      <td>-35.021460</td>\n    </tr>\n    <tr>\n      <th>3</th>\n      <td>Albany Primary School</td>\n      <td>Albany</td>\n      <td>117.891611</td>\n      <td>-35.018212</td>\n    </tr>\n    <tr>\n      <th>4</th>\n      <td>Albany Secondary Education Support Centre</td>\n      <td>Albany</td>\n      <td>117.866867</td>\n      <td>-34.990749</td>\n    </tr>\n    <tr>\n      <th>...</th>\n      <td>...</td>\n      <td>...</td>\n      <td>...</td>\n      <td>...</td>\n    </tr>\n    <tr>\n      <th>1135</th>\n      <td>Yuluma Primary School</td>\n      <td>Innaloo</td>\n      <td>115.789990</td>\n      <td>-31.892268</td>\n    </tr>\n    <tr>\n      <th>1136</th>\n      <td>Yuna Primary School</td>\n      <td>Yuna</td>\n      <td>115.002648</td>\n      <td>-28.326566</td>\n    </tr>\n    <tr>\n      <th>0</th>\n      <td>Woodthorpe School</td>\n      <td>Willetton</td>\n      <td>115.901720</td>\n      <td>-32.056540</td>\n    </tr>\n    <tr>\n      <th>1</th>\n      <td>St Stephen's School - Carramar</td>\n      <td>Carramar</td>\n      <td>115.788280</td>\n      <td>-31.717040</td>\n    </tr>\n    <tr>\n      <th>2</th>\n      <td>Bunbury John Calvin School</td>\n      <td>Carey Park</td>\n      <td>115.649560</td>\n      <td>-33.350970</td>\n    </tr>\n  </tbody>\n</table>\n<p>1140 rows × 4 columns</p>\n</div>"
     },
     "metadata": {},
     "execution_count": 8
    }
   ],
   "source": [
    "# append \"doe_update\" Dataframe to \"doe\" Dataframe\n",
    "doe = doe.append(doe_update)\n",
    "doe"
   ]
  },
  {
   "cell_type": "code",
   "execution_count": 9,
   "metadata": {},
   "outputs": [],
   "source": [
    "# save the \"doe\" dataframe to a CSV file\n",
    "doe.to_csv(\"Resources/school_coordinates.csv\", index = False)"
   ]
  },
  {
   "cell_type": "code",
   "execution_count": null,
   "metadata": {},
   "outputs": [],
   "source": []
  }
 ]
}