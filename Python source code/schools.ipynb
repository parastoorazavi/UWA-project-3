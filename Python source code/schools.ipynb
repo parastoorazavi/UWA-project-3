{
 "metadata": {
  "language_info": {
   "codemirror_mode": {
    "name": "ipython",
    "version": 3
   },
   "file_extension": ".py",
   "mimetype": "text/x-python",
   "name": "python",
   "nbconvert_exporter": "python",
   "pygments_lexer": "ipython3",
   "version": "3.8.3-final"
  },
  "orig_nbformat": 2,
  "kernelspec": {
   "name": "python3",
   "display_name": "Python 3",
   "language": "python"
  }
 },
 "nbformat": 4,
 "nbformat_minor": 2,
 "cells": [
  {
   "source": [
    "## Create a complete list of ICSEA scores which will be used for all the schools in our datasets from 2016-2020"
   ],
   "cell_type": "markdown",
   "metadata": {}
  },
  {
   "cell_type": "code",
   "execution_count": 147,
   "metadata": {},
   "outputs": [],
   "source": [
    "# import the required libraries\n",
    "import pandas as pd\n",
    "from sqlalchemy import create_engine, inspect\n",
    "from config import username, password"
   ]
  },
  {
   "cell_type": "code",
   "execution_count": 148,
   "metadata": {},
   "outputs": [
    {
     "output_type": "execute_result",
     "data": {
      "text/plain": [
       "                                               School  Postcode  \\\n",
       "0                                 Perth Modern School      6008   \n",
       "1   St Hilda's Anglican School for Girls (Inc),Mos...      6012   \n",
       "2                        Christ Church Grammar School      6010   \n",
       "3                        Rossmoyne Senior High School      6148   \n",
       "4   St Mary's Anglican Girls' School (Inc),Karriny...      6018   \n",
       "..                                                ...       ...   \n",
       "89  Swan Valley Anglican Community School,Aveley,W...      6069   \n",
       "90                   Boyup Brook District High School      6244   \n",
       "91                Mater Dei College,Edgewater,WA,6027      6027   \n",
       "92          Emmanuel Catholic College,Beeliar,WA,6164      6164   \n",
       "93                Emmanuel Christian Community School      6064   \n",
       "\n",
       "    State Overall Score  English  Maths  Total Enrolments  Trend / Compare  \\\n",
       "0                   100      NaN    NaN              1418  Trend / Compare   \n",
       "1                   100      NaN    NaN              1087  Trend / Compare   \n",
       "2                   100      NaN    NaN              1646  Trend / Compare   \n",
       "3                   100      NaN    NaN              2188  Trend / Compare   \n",
       "4                   100      NaN    NaN              1414  Trend / Compare   \n",
       "..                  ...      ...    ...               ...              ...   \n",
       "89                   90      NaN    NaN              1031  Trend / Compare   \n",
       "90                   90      NaN    NaN               162  Trend / Compare   \n",
       "91                   90      NaN    NaN               804  Trend / Compare   \n",
       "92                   90      NaN    NaN              1061  Trend / Compare   \n",
       "93                   90      NaN    NaN               552  Trend / Compare   \n",
       "\n",
       "            Sector   ICSEA  \n",
       "0       Government  1239.0  \n",
       "1   Non-government  1197.0  \n",
       "2   Non-government  1180.0  \n",
       "3       Government  1121.0  \n",
       "4   Non-government  1158.0  \n",
       "..             ...     ...  \n",
       "89  Non-government  1045.0  \n",
       "90      Government  1002.0  \n",
       "91  Non-government  1055.0  \n",
       "92  Non-government  1036.0  \n",
       "93  Non-government   980.0  \n",
       "\n",
       "[94 rows x 9 columns]"
      ],
      "text/html": "<div>\n<style scoped>\n    .dataframe tbody tr th:only-of-type {\n        vertical-align: middle;\n    }\n\n    .dataframe tbody tr th {\n        vertical-align: top;\n    }\n\n    .dataframe thead th {\n        text-align: right;\n    }\n</style>\n<table border=\"1\" class=\"dataframe\">\n  <thead>\n    <tr style=\"text-align: right;\">\n      <th></th>\n      <th>School</th>\n      <th>Postcode</th>\n      <th>State Overall Score</th>\n      <th>English</th>\n      <th>Maths</th>\n      <th>Total Enrolments</th>\n      <th>Trend / Compare</th>\n      <th>Sector</th>\n      <th>ICSEA</th>\n    </tr>\n  </thead>\n  <tbody>\n    <tr>\n      <th>0</th>\n      <td>Perth Modern School</td>\n      <td>6008</td>\n      <td>100</td>\n      <td>NaN</td>\n      <td>NaN</td>\n      <td>1418</td>\n      <td>Trend / Compare</td>\n      <td>Government</td>\n      <td>1239.0</td>\n    </tr>\n    <tr>\n      <th>1</th>\n      <td>St Hilda's Anglican School for Girls (Inc),Mos...</td>\n      <td>6012</td>\n      <td>100</td>\n      <td>NaN</td>\n      <td>NaN</td>\n      <td>1087</td>\n      <td>Trend / Compare</td>\n      <td>Non-government</td>\n      <td>1197.0</td>\n    </tr>\n    <tr>\n      <th>2</th>\n      <td>Christ Church Grammar School</td>\n      <td>6010</td>\n      <td>100</td>\n      <td>NaN</td>\n      <td>NaN</td>\n      <td>1646</td>\n      <td>Trend / Compare</td>\n      <td>Non-government</td>\n      <td>1180.0</td>\n    </tr>\n    <tr>\n      <th>3</th>\n      <td>Rossmoyne Senior High School</td>\n      <td>6148</td>\n      <td>100</td>\n      <td>NaN</td>\n      <td>NaN</td>\n      <td>2188</td>\n      <td>Trend / Compare</td>\n      <td>Government</td>\n      <td>1121.0</td>\n    </tr>\n    <tr>\n      <th>4</th>\n      <td>St Mary's Anglican Girls' School (Inc),Karriny...</td>\n      <td>6018</td>\n      <td>100</td>\n      <td>NaN</td>\n      <td>NaN</td>\n      <td>1414</td>\n      <td>Trend / Compare</td>\n      <td>Non-government</td>\n      <td>1158.0</td>\n    </tr>\n    <tr>\n      <th>...</th>\n      <td>...</td>\n      <td>...</td>\n      <td>...</td>\n      <td>...</td>\n      <td>...</td>\n      <td>...</td>\n      <td>...</td>\n      <td>...</td>\n      <td>...</td>\n    </tr>\n    <tr>\n      <th>89</th>\n      <td>Swan Valley Anglican Community School,Aveley,W...</td>\n      <td>6069</td>\n      <td>90</td>\n      <td>NaN</td>\n      <td>NaN</td>\n      <td>1031</td>\n      <td>Trend / Compare</td>\n      <td>Non-government</td>\n      <td>1045.0</td>\n    </tr>\n    <tr>\n      <th>90</th>\n      <td>Boyup Brook District High School</td>\n      <td>6244</td>\n      <td>90</td>\n      <td>NaN</td>\n      <td>NaN</td>\n      <td>162</td>\n      <td>Trend / Compare</td>\n      <td>Government</td>\n      <td>1002.0</td>\n    </tr>\n    <tr>\n      <th>91</th>\n      <td>Mater Dei College,Edgewater,WA,6027</td>\n      <td>6027</td>\n      <td>90</td>\n      <td>NaN</td>\n      <td>NaN</td>\n      <td>804</td>\n      <td>Trend / Compare</td>\n      <td>Non-government</td>\n      <td>1055.0</td>\n    </tr>\n    <tr>\n      <th>92</th>\n      <td>Emmanuel Catholic College,Beeliar,WA,6164</td>\n      <td>6164</td>\n      <td>90</td>\n      <td>NaN</td>\n      <td>NaN</td>\n      <td>1061</td>\n      <td>Trend / Compare</td>\n      <td>Non-government</td>\n      <td>1036.0</td>\n    </tr>\n    <tr>\n      <th>93</th>\n      <td>Emmanuel Christian Community School</td>\n      <td>6064</td>\n      <td>90</td>\n      <td>NaN</td>\n      <td>NaN</td>\n      <td>552</td>\n      <td>Trend / Compare</td>\n      <td>Non-government</td>\n      <td>980.0</td>\n    </tr>\n  </tbody>\n</table>\n<p>94 rows × 9 columns</p>\n</div>"
     },
     "metadata": {},
     "execution_count": 148
    }
   ],
   "source": [
    "# get the 2019 url WA school ranking\n",
    "rank_2019 = \"https://bettereducation.com.au/school/secondary/wa/wa_top_secondary_schools.aspx?yr=2019\"\n",
    "\n",
    "# Use panda's `read_html` to parse the 2019 ranking url where the ICSEA scores are listed (years 2016 to 2018 have no ICSEA scores)\n",
    "icsea_2019 = pd.read_html(rank_2019, header=0)[0]\n",
    "icsea_2019"
   ]
  },
  {
   "cell_type": "code",
   "execution_count": 149,
   "metadata": {},
   "outputs": [],
   "source": [
    "# replace the values of \"Australian Islamic College\" to correct the spelling to prevent Null values when performing the merge with other Dataframes later on\n",
    "icsea_2019[\"School\"].replace({\"Australian Islamic College (Kewdale),Kewdale,WA,6105\": \"Australian Islamic College - Kewdale\",\n",
    "                              \"Australian Islamic College (Thornlie),Thornlie,WA,6108\": \"Australian Islamic College - Thornlie\"\n",
    "                                    }, inplace=True)"
   ]
  },
  {
   "cell_type": "code",
   "execution_count": 150,
   "metadata": {},
   "outputs": [
    {
     "output_type": "execute_result",
     "data": {
      "text/plain": [
       "                                               School  Postcode  \\\n",
       "0                                 Perth Modern School      6008   \n",
       "1   St Hilda's Anglican School for Girls (Inc),Mos...      6012   \n",
       "2                        Christ Church Grammar School      6010   \n",
       "3                        Rossmoyne Senior High School      6148   \n",
       "4   St Mary's Anglican Girls' School (Inc),Karriny...      6018   \n",
       "..                                                ...       ...   \n",
       "89  Swan Valley Anglican Community School,Aveley,W...      6069   \n",
       "90                   Boyup Brook District High School      6244   \n",
       "91                Mater Dei College,Edgewater,WA,6027      6027   \n",
       "92          Emmanuel Catholic College,Beeliar,WA,6164      6164   \n",
       "93                Emmanuel Christian Community School      6064   \n",
       "\n",
       "    State Overall Score  English  Maths  Total Enrolments  Trend / Compare  \\\n",
       "0                   100      NaN    NaN              1418  Trend / Compare   \n",
       "1                   100      NaN    NaN              1087  Trend / Compare   \n",
       "2                   100      NaN    NaN              1646  Trend / Compare   \n",
       "3                   100      NaN    NaN              2188  Trend / Compare   \n",
       "4                   100      NaN    NaN              1414  Trend / Compare   \n",
       "..                  ...      ...    ...               ...              ...   \n",
       "89                   90      NaN    NaN              1031  Trend / Compare   \n",
       "90                   90      NaN    NaN               162  Trend / Compare   \n",
       "91                   90      NaN    NaN               804  Trend / Compare   \n",
       "92                   90      NaN    NaN              1061  Trend / Compare   \n",
       "93                   90      NaN    NaN               552  Trend / Compare   \n",
       "\n",
       "            Sector ICSEA  \n",
       "0       Government  1239  \n",
       "1   Non-government  1197  \n",
       "2   Non-government  1180  \n",
       "3       Government  1121  \n",
       "4   Non-government  1158  \n",
       "..             ...   ...  \n",
       "89  Non-government  1045  \n",
       "90      Government  1002  \n",
       "91  Non-government  1055  \n",
       "92  Non-government  1036  \n",
       "93  Non-government   980  \n",
       "\n",
       "[94 rows x 9 columns]"
      ],
      "text/html": "<div>\n<style scoped>\n    .dataframe tbody tr th:only-of-type {\n        vertical-align: middle;\n    }\n\n    .dataframe tbody tr th {\n        vertical-align: top;\n    }\n\n    .dataframe thead th {\n        text-align: right;\n    }\n</style>\n<table border=\"1\" class=\"dataframe\">\n  <thead>\n    <tr style=\"text-align: right;\">\n      <th></th>\n      <th>School</th>\n      <th>Postcode</th>\n      <th>State Overall Score</th>\n      <th>English</th>\n      <th>Maths</th>\n      <th>Total Enrolments</th>\n      <th>Trend / Compare</th>\n      <th>Sector</th>\n      <th>ICSEA</th>\n    </tr>\n  </thead>\n  <tbody>\n    <tr>\n      <th>0</th>\n      <td>Perth Modern School</td>\n      <td>6008</td>\n      <td>100</td>\n      <td>NaN</td>\n      <td>NaN</td>\n      <td>1418</td>\n      <td>Trend / Compare</td>\n      <td>Government</td>\n      <td>1239</td>\n    </tr>\n    <tr>\n      <th>1</th>\n      <td>St Hilda's Anglican School for Girls (Inc),Mos...</td>\n      <td>6012</td>\n      <td>100</td>\n      <td>NaN</td>\n      <td>NaN</td>\n      <td>1087</td>\n      <td>Trend / Compare</td>\n      <td>Non-government</td>\n      <td>1197</td>\n    </tr>\n    <tr>\n      <th>2</th>\n      <td>Christ Church Grammar School</td>\n      <td>6010</td>\n      <td>100</td>\n      <td>NaN</td>\n      <td>NaN</td>\n      <td>1646</td>\n      <td>Trend / Compare</td>\n      <td>Non-government</td>\n      <td>1180</td>\n    </tr>\n    <tr>\n      <th>3</th>\n      <td>Rossmoyne Senior High School</td>\n      <td>6148</td>\n      <td>100</td>\n      <td>NaN</td>\n      <td>NaN</td>\n      <td>2188</td>\n      <td>Trend / Compare</td>\n      <td>Government</td>\n      <td>1121</td>\n    </tr>\n    <tr>\n      <th>4</th>\n      <td>St Mary's Anglican Girls' School (Inc),Karriny...</td>\n      <td>6018</td>\n      <td>100</td>\n      <td>NaN</td>\n      <td>NaN</td>\n      <td>1414</td>\n      <td>Trend / Compare</td>\n      <td>Non-government</td>\n      <td>1158</td>\n    </tr>\n    <tr>\n      <th>...</th>\n      <td>...</td>\n      <td>...</td>\n      <td>...</td>\n      <td>...</td>\n      <td>...</td>\n      <td>...</td>\n      <td>...</td>\n      <td>...</td>\n      <td>...</td>\n    </tr>\n    <tr>\n      <th>89</th>\n      <td>Swan Valley Anglican Community School,Aveley,W...</td>\n      <td>6069</td>\n      <td>90</td>\n      <td>NaN</td>\n      <td>NaN</td>\n      <td>1031</td>\n      <td>Trend / Compare</td>\n      <td>Non-government</td>\n      <td>1045</td>\n    </tr>\n    <tr>\n      <th>90</th>\n      <td>Boyup Brook District High School</td>\n      <td>6244</td>\n      <td>90</td>\n      <td>NaN</td>\n      <td>NaN</td>\n      <td>162</td>\n      <td>Trend / Compare</td>\n      <td>Government</td>\n      <td>1002</td>\n    </tr>\n    <tr>\n      <th>91</th>\n      <td>Mater Dei College,Edgewater,WA,6027</td>\n      <td>6027</td>\n      <td>90</td>\n      <td>NaN</td>\n      <td>NaN</td>\n      <td>804</td>\n      <td>Trend / Compare</td>\n      <td>Non-government</td>\n      <td>1055</td>\n    </tr>\n    <tr>\n      <th>92</th>\n      <td>Emmanuel Catholic College,Beeliar,WA,6164</td>\n      <td>6164</td>\n      <td>90</td>\n      <td>NaN</td>\n      <td>NaN</td>\n      <td>1061</td>\n      <td>Trend / Compare</td>\n      <td>Non-government</td>\n      <td>1036</td>\n    </tr>\n    <tr>\n      <th>93</th>\n      <td>Emmanuel Christian Community School</td>\n      <td>6064</td>\n      <td>90</td>\n      <td>NaN</td>\n      <td>NaN</td>\n      <td>552</td>\n      <td>Trend / Compare</td>\n      <td>Non-government</td>\n      <td>980</td>\n    </tr>\n  </tbody>\n</table>\n<p>94 rows × 9 columns</p>\n</div>"
     },
     "metadata": {},
     "execution_count": 150
    }
   ],
   "source": [
    "# Convert the values in the \"ICSEA\" column to a String\n",
    "icsea_2019[\"ICSEA\"] = icsea_2019[\"ICSEA\"].astype(str)\n",
    "\n",
    "# Remove other strings before \".\" to show only the ICSEA values\n",
    "icsea_2019[\"ICSEA\"] = icsea_2019[\"ICSEA\"].str.split('.', 1).str.get(0)\n",
    "icsea_2019"
   ]
  },
  {
   "cell_type": "code",
   "execution_count": 151,
   "metadata": {},
   "outputs": [
    {
     "output_type": "execute_result",
     "data": {
      "text/plain": [
       "                                        School  Postcode  State Overall Score  \\\n",
       "0                          Perth Modern School      6008                  100   \n",
       "1   St Hilda's Anglican School for Girls (Inc)      6012                  100   \n",
       "2                 Christ Church Grammar School      6010                  100   \n",
       "3                 Rossmoyne Senior High School      6148                  100   \n",
       "4       St Mary's Anglican Girls' School (Inc)      6018                  100   \n",
       "..                                         ...       ...                  ...   \n",
       "89       Swan Valley Anglican Community School      6069                   90   \n",
       "90            Boyup Brook District High School      6244                   90   \n",
       "91                           Mater Dei College      6027                   90   \n",
       "92                   Emmanuel Catholic College      6164                   90   \n",
       "93         Emmanuel Christian Community School      6064                   90   \n",
       "\n",
       "    English  Maths  Total Enrolments  Trend / Compare          Sector ICSEA  \n",
       "0       NaN    NaN              1418  Trend / Compare      Government  1239  \n",
       "1       NaN    NaN              1087  Trend / Compare  Non-government  1197  \n",
       "2       NaN    NaN              1646  Trend / Compare  Non-government  1180  \n",
       "3       NaN    NaN              2188  Trend / Compare      Government  1121  \n",
       "4       NaN    NaN              1414  Trend / Compare  Non-government  1158  \n",
       "..      ...    ...               ...              ...             ...   ...  \n",
       "89      NaN    NaN              1031  Trend / Compare  Non-government  1045  \n",
       "90      NaN    NaN               162  Trend / Compare      Government  1002  \n",
       "91      NaN    NaN               804  Trend / Compare  Non-government  1055  \n",
       "92      NaN    NaN              1061  Trend / Compare  Non-government  1036  \n",
       "93      NaN    NaN               552  Trend / Compare  Non-government   980  \n",
       "\n",
       "[94 rows x 9 columns]"
      ],
      "text/html": "<div>\n<style scoped>\n    .dataframe tbody tr th:only-of-type {\n        vertical-align: middle;\n    }\n\n    .dataframe tbody tr th {\n        vertical-align: top;\n    }\n\n    .dataframe thead th {\n        text-align: right;\n    }\n</style>\n<table border=\"1\" class=\"dataframe\">\n  <thead>\n    <tr style=\"text-align: right;\">\n      <th></th>\n      <th>School</th>\n      <th>Postcode</th>\n      <th>State Overall Score</th>\n      <th>English</th>\n      <th>Maths</th>\n      <th>Total Enrolments</th>\n      <th>Trend / Compare</th>\n      <th>Sector</th>\n      <th>ICSEA</th>\n    </tr>\n  </thead>\n  <tbody>\n    <tr>\n      <th>0</th>\n      <td>Perth Modern School</td>\n      <td>6008</td>\n      <td>100</td>\n      <td>NaN</td>\n      <td>NaN</td>\n      <td>1418</td>\n      <td>Trend / Compare</td>\n      <td>Government</td>\n      <td>1239</td>\n    </tr>\n    <tr>\n      <th>1</th>\n      <td>St Hilda's Anglican School for Girls (Inc)</td>\n      <td>6012</td>\n      <td>100</td>\n      <td>NaN</td>\n      <td>NaN</td>\n      <td>1087</td>\n      <td>Trend / Compare</td>\n      <td>Non-government</td>\n      <td>1197</td>\n    </tr>\n    <tr>\n      <th>2</th>\n      <td>Christ Church Grammar School</td>\n      <td>6010</td>\n      <td>100</td>\n      <td>NaN</td>\n      <td>NaN</td>\n      <td>1646</td>\n      <td>Trend / Compare</td>\n      <td>Non-government</td>\n      <td>1180</td>\n    </tr>\n    <tr>\n      <th>3</th>\n      <td>Rossmoyne Senior High School</td>\n      <td>6148</td>\n      <td>100</td>\n      <td>NaN</td>\n      <td>NaN</td>\n      <td>2188</td>\n      <td>Trend / Compare</td>\n      <td>Government</td>\n      <td>1121</td>\n    </tr>\n    <tr>\n      <th>4</th>\n      <td>St Mary's Anglican Girls' School (Inc)</td>\n      <td>6018</td>\n      <td>100</td>\n      <td>NaN</td>\n      <td>NaN</td>\n      <td>1414</td>\n      <td>Trend / Compare</td>\n      <td>Non-government</td>\n      <td>1158</td>\n    </tr>\n    <tr>\n      <th>...</th>\n      <td>...</td>\n      <td>...</td>\n      <td>...</td>\n      <td>...</td>\n      <td>...</td>\n      <td>...</td>\n      <td>...</td>\n      <td>...</td>\n      <td>...</td>\n    </tr>\n    <tr>\n      <th>89</th>\n      <td>Swan Valley Anglican Community School</td>\n      <td>6069</td>\n      <td>90</td>\n      <td>NaN</td>\n      <td>NaN</td>\n      <td>1031</td>\n      <td>Trend / Compare</td>\n      <td>Non-government</td>\n      <td>1045</td>\n    </tr>\n    <tr>\n      <th>90</th>\n      <td>Boyup Brook District High School</td>\n      <td>6244</td>\n      <td>90</td>\n      <td>NaN</td>\n      <td>NaN</td>\n      <td>162</td>\n      <td>Trend / Compare</td>\n      <td>Government</td>\n      <td>1002</td>\n    </tr>\n    <tr>\n      <th>91</th>\n      <td>Mater Dei College</td>\n      <td>6027</td>\n      <td>90</td>\n      <td>NaN</td>\n      <td>NaN</td>\n      <td>804</td>\n      <td>Trend / Compare</td>\n      <td>Non-government</td>\n      <td>1055</td>\n    </tr>\n    <tr>\n      <th>92</th>\n      <td>Emmanuel Catholic College</td>\n      <td>6164</td>\n      <td>90</td>\n      <td>NaN</td>\n      <td>NaN</td>\n      <td>1061</td>\n      <td>Trend / Compare</td>\n      <td>Non-government</td>\n      <td>1036</td>\n    </tr>\n    <tr>\n      <th>93</th>\n      <td>Emmanuel Christian Community School</td>\n      <td>6064</td>\n      <td>90</td>\n      <td>NaN</td>\n      <td>NaN</td>\n      <td>552</td>\n      <td>Trend / Compare</td>\n      <td>Non-government</td>\n      <td>980</td>\n    </tr>\n  </tbody>\n</table>\n<p>94 rows × 9 columns</p>\n</div>"
     },
     "metadata": {},
     "execution_count": 151
    }
   ],
   "source": [
    "# Remove the strings after the \",\" to show only the school name\n",
    "icsea_2019[\"School\"] = icsea_2019[\"School\"].str.split(',', 1).str.get(0)\n",
    "icsea_2019"
   ]
  },
  {
   "cell_type": "code",
   "execution_count": 152,
   "metadata": {},
   "outputs": [
    {
     "output_type": "execute_result",
     "data": {
      "text/plain": [
       "                                   School  Postcode  State Overall Score  \\\n",
       "0                     Perth Modern School      6008                  100   \n",
       "1    St Hilda's Anglican School for Girls      6012                  100   \n",
       "2            Christ Church Grammar School      6010                  100   \n",
       "3            Rossmoyne Senior High School      6148                  100   \n",
       "4        St Mary's Anglican Girls' School      6018                  100   \n",
       "..                                    ...       ...                  ...   \n",
       "89  Swan Valley Anglican Community School      6069                   90   \n",
       "90       Boyup Brook District High School      6244                   90   \n",
       "91                      Mater Dei College      6027                   90   \n",
       "92              Emmanuel Catholic College      6164                   90   \n",
       "93    Emmanuel Christian Community School      6064                   90   \n",
       "\n",
       "    English  Maths  Total Enrolments  Trend / Compare          Sector ICSEA  \n",
       "0       NaN    NaN              1418  Trend / Compare      Government  1239  \n",
       "1       NaN    NaN              1087  Trend / Compare  Non-government  1197  \n",
       "2       NaN    NaN              1646  Trend / Compare  Non-government  1180  \n",
       "3       NaN    NaN              2188  Trend / Compare      Government  1121  \n",
       "4       NaN    NaN              1414  Trend / Compare  Non-government  1158  \n",
       "..      ...    ...               ...              ...             ...   ...  \n",
       "89      NaN    NaN              1031  Trend / Compare  Non-government  1045  \n",
       "90      NaN    NaN               162  Trend / Compare      Government  1002  \n",
       "91      NaN    NaN               804  Trend / Compare  Non-government  1055  \n",
       "92      NaN    NaN              1061  Trend / Compare  Non-government  1036  \n",
       "93      NaN    NaN               552  Trend / Compare  Non-government   980  \n",
       "\n",
       "[94 rows x 9 columns]"
      ],
      "text/html": "<div>\n<style scoped>\n    .dataframe tbody tr th:only-of-type {\n        vertical-align: middle;\n    }\n\n    .dataframe tbody tr th {\n        vertical-align: top;\n    }\n\n    .dataframe thead th {\n        text-align: right;\n    }\n</style>\n<table border=\"1\" class=\"dataframe\">\n  <thead>\n    <tr style=\"text-align: right;\">\n      <th></th>\n      <th>School</th>\n      <th>Postcode</th>\n      <th>State Overall Score</th>\n      <th>English</th>\n      <th>Maths</th>\n      <th>Total Enrolments</th>\n      <th>Trend / Compare</th>\n      <th>Sector</th>\n      <th>ICSEA</th>\n    </tr>\n  </thead>\n  <tbody>\n    <tr>\n      <th>0</th>\n      <td>Perth Modern School</td>\n      <td>6008</td>\n      <td>100</td>\n      <td>NaN</td>\n      <td>NaN</td>\n      <td>1418</td>\n      <td>Trend / Compare</td>\n      <td>Government</td>\n      <td>1239</td>\n    </tr>\n    <tr>\n      <th>1</th>\n      <td>St Hilda's Anglican School for Girls</td>\n      <td>6012</td>\n      <td>100</td>\n      <td>NaN</td>\n      <td>NaN</td>\n      <td>1087</td>\n      <td>Trend / Compare</td>\n      <td>Non-government</td>\n      <td>1197</td>\n    </tr>\n    <tr>\n      <th>2</th>\n      <td>Christ Church Grammar School</td>\n      <td>6010</td>\n      <td>100</td>\n      <td>NaN</td>\n      <td>NaN</td>\n      <td>1646</td>\n      <td>Trend / Compare</td>\n      <td>Non-government</td>\n      <td>1180</td>\n    </tr>\n    <tr>\n      <th>3</th>\n      <td>Rossmoyne Senior High School</td>\n      <td>6148</td>\n      <td>100</td>\n      <td>NaN</td>\n      <td>NaN</td>\n      <td>2188</td>\n      <td>Trend / Compare</td>\n      <td>Government</td>\n      <td>1121</td>\n    </tr>\n    <tr>\n      <th>4</th>\n      <td>St Mary's Anglican Girls' School</td>\n      <td>6018</td>\n      <td>100</td>\n      <td>NaN</td>\n      <td>NaN</td>\n      <td>1414</td>\n      <td>Trend / Compare</td>\n      <td>Non-government</td>\n      <td>1158</td>\n    </tr>\n    <tr>\n      <th>...</th>\n      <td>...</td>\n      <td>...</td>\n      <td>...</td>\n      <td>...</td>\n      <td>...</td>\n      <td>...</td>\n      <td>...</td>\n      <td>...</td>\n      <td>...</td>\n    </tr>\n    <tr>\n      <th>89</th>\n      <td>Swan Valley Anglican Community School</td>\n      <td>6069</td>\n      <td>90</td>\n      <td>NaN</td>\n      <td>NaN</td>\n      <td>1031</td>\n      <td>Trend / Compare</td>\n      <td>Non-government</td>\n      <td>1045</td>\n    </tr>\n    <tr>\n      <th>90</th>\n      <td>Boyup Brook District High School</td>\n      <td>6244</td>\n      <td>90</td>\n      <td>NaN</td>\n      <td>NaN</td>\n      <td>162</td>\n      <td>Trend / Compare</td>\n      <td>Government</td>\n      <td>1002</td>\n    </tr>\n    <tr>\n      <th>91</th>\n      <td>Mater Dei College</td>\n      <td>6027</td>\n      <td>90</td>\n      <td>NaN</td>\n      <td>NaN</td>\n      <td>804</td>\n      <td>Trend / Compare</td>\n      <td>Non-government</td>\n      <td>1055</td>\n    </tr>\n    <tr>\n      <th>92</th>\n      <td>Emmanuel Catholic College</td>\n      <td>6164</td>\n      <td>90</td>\n      <td>NaN</td>\n      <td>NaN</td>\n      <td>1061</td>\n      <td>Trend / Compare</td>\n      <td>Non-government</td>\n      <td>1036</td>\n    </tr>\n    <tr>\n      <th>93</th>\n      <td>Emmanuel Christian Community School</td>\n      <td>6064</td>\n      <td>90</td>\n      <td>NaN</td>\n      <td>NaN</td>\n      <td>552</td>\n      <td>Trend / Compare</td>\n      <td>Non-government</td>\n      <td>980</td>\n    </tr>\n  </tbody>\n</table>\n<p>94 rows × 9 columns</p>\n</div>"
     },
     "metadata": {},
     "execution_count": 152
    }
   ],
   "source": [
    "# Remove the \"space\" and \"string inside parenthesis\" to show only the school name\n",
    "icsea_2019[\"School\"] = icsea_2019[\"School\"].str.split('\\s+\\(', 1).str.get(0)\n",
    "icsea_2019"
   ]
  },
  {
   "cell_type": "code",
   "execution_count": 153,
   "metadata": {},
   "outputs": [
    {
     "output_type": "execute_result",
     "data": {
      "text/plain": [
       "                                   School ICSEA\n",
       "0                     Perth Modern School  1239\n",
       "1    St Hilda's Anglican School for Girls  1197\n",
       "2            Christ Church Grammar School  1180\n",
       "3            Rossmoyne Senior High School  1121\n",
       "4        St Mary's Anglican Girls' School  1158\n",
       "..                                    ...   ...\n",
       "89  Swan Valley Anglican Community School  1045\n",
       "90       Boyup Brook District High School  1002\n",
       "91                      Mater Dei College  1055\n",
       "92              Emmanuel Catholic College  1036\n",
       "93    Emmanuel Christian Community School   980\n",
       "\n",
       "[94 rows x 2 columns]"
      ],
      "text/html": "<div>\n<style scoped>\n    .dataframe tbody tr th:only-of-type {\n        vertical-align: middle;\n    }\n\n    .dataframe tbody tr th {\n        vertical-align: top;\n    }\n\n    .dataframe thead th {\n        text-align: right;\n    }\n</style>\n<table border=\"1\" class=\"dataframe\">\n  <thead>\n    <tr style=\"text-align: right;\">\n      <th></th>\n      <th>School</th>\n      <th>ICSEA</th>\n    </tr>\n  </thead>\n  <tbody>\n    <tr>\n      <th>0</th>\n      <td>Perth Modern School</td>\n      <td>1239</td>\n    </tr>\n    <tr>\n      <th>1</th>\n      <td>St Hilda's Anglican School for Girls</td>\n      <td>1197</td>\n    </tr>\n    <tr>\n      <th>2</th>\n      <td>Christ Church Grammar School</td>\n      <td>1180</td>\n    </tr>\n    <tr>\n      <th>3</th>\n      <td>Rossmoyne Senior High School</td>\n      <td>1121</td>\n    </tr>\n    <tr>\n      <th>4</th>\n      <td>St Mary's Anglican Girls' School</td>\n      <td>1158</td>\n    </tr>\n    <tr>\n      <th>...</th>\n      <td>...</td>\n      <td>...</td>\n    </tr>\n    <tr>\n      <th>89</th>\n      <td>Swan Valley Anglican Community School</td>\n      <td>1045</td>\n    </tr>\n    <tr>\n      <th>90</th>\n      <td>Boyup Brook District High School</td>\n      <td>1002</td>\n    </tr>\n    <tr>\n      <th>91</th>\n      <td>Mater Dei College</td>\n      <td>1055</td>\n    </tr>\n    <tr>\n      <th>92</th>\n      <td>Emmanuel Catholic College</td>\n      <td>1036</td>\n    </tr>\n    <tr>\n      <th>93</th>\n      <td>Emmanuel Christian Community School</td>\n      <td>980</td>\n    </tr>\n  </tbody>\n</table>\n<p>94 rows × 2 columns</p>\n</div>"
     },
     "metadata": {},
     "execution_count": 153
    }
   ],
   "source": [
    "# re-arrange the columns & remove other columns\n",
    "icsea = icsea_2019[['School', 'ICSEA']]\n",
    "icsea"
   ]
  },
  {
   "cell_type": "code",
   "execution_count": 154,
   "metadata": {},
   "outputs": [
    {
     "output_type": "execute_result",
     "data": {
      "text/plain": [
       "                                               School  ICSEA\n",
       "0                              Heritage College Perth   1028\n",
       "1                             Alkimos Baptist College   1035\n",
       "2                   Margaret River Senior High School   1037\n",
       "3                            Bunbury Catholic College   1035\n",
       "4                       Kalbarri District High School    988\n",
       "..                                                ...    ...\n",
       "94                               Manea Senior College   1022\n",
       "95                            Mindarie Senior College   1034\n",
       "96                          Our Lady of Mercy College   1035\n",
       "97                           Sevenoaks Senior College    976\n",
       "98  Western Australian College Of Agriculture - Cu...   1009\n",
       "\n",
       "[99 rows x 2 columns]"
      ],
      "text/html": "<div>\n<style scoped>\n    .dataframe tbody tr th:only-of-type {\n        vertical-align: middle;\n    }\n\n    .dataframe tbody tr th {\n        vertical-align: top;\n    }\n\n    .dataframe thead th {\n        text-align: right;\n    }\n</style>\n<table border=\"1\" class=\"dataframe\">\n  <thead>\n    <tr style=\"text-align: right;\">\n      <th></th>\n      <th>School</th>\n      <th>ICSEA</th>\n    </tr>\n  </thead>\n  <tbody>\n    <tr>\n      <th>0</th>\n      <td>Heritage College Perth</td>\n      <td>1028</td>\n    </tr>\n    <tr>\n      <th>1</th>\n      <td>Alkimos Baptist College</td>\n      <td>1035</td>\n    </tr>\n    <tr>\n      <th>2</th>\n      <td>Margaret River Senior High School</td>\n      <td>1037</td>\n    </tr>\n    <tr>\n      <th>3</th>\n      <td>Bunbury Catholic College</td>\n      <td>1035</td>\n    </tr>\n    <tr>\n      <th>4</th>\n      <td>Kalbarri District High School</td>\n      <td>988</td>\n    </tr>\n    <tr>\n      <th>...</th>\n      <td>...</td>\n      <td>...</td>\n    </tr>\n    <tr>\n      <th>94</th>\n      <td>Manea Senior College</td>\n      <td>1022</td>\n    </tr>\n    <tr>\n      <th>95</th>\n      <td>Mindarie Senior College</td>\n      <td>1034</td>\n    </tr>\n    <tr>\n      <th>96</th>\n      <td>Our Lady of Mercy College</td>\n      <td>1035</td>\n    </tr>\n    <tr>\n      <th>97</th>\n      <td>Sevenoaks Senior College</td>\n      <td>976</td>\n    </tr>\n    <tr>\n      <th>98</th>\n      <td>Western Australian College Of Agriculture - Cu...</td>\n      <td>1009</td>\n    </tr>\n  </tbody>\n</table>\n<p>99 rows × 2 columns</p>\n</div>"
     },
     "metadata": {},
     "execution_count": 154
    }
   ],
   "source": [
    "# read \"school_coordinates\" csv file\n",
    "icsea_additional = pd.read_csv(\"../Resources/icsea_additional.csv\")\n",
    "icsea_additional"
   ]
  },
  {
   "cell_type": "code",
   "execution_count": 155,
   "metadata": {},
   "outputs": [],
   "source": [
    "# Merge by concat the \"icsea\" Dataframe with \"icsea_update\" Dataframe\n",
    "icsea_full = pd.concat([icsea, icsea_additional])"
   ]
  },
  {
   "cell_type": "code",
   "execution_count": 156,
   "metadata": {},
   "outputs": [
    {
     "output_type": "execute_result",
     "data": {
      "text/plain": [
       "                                               School ICSEA\n",
       "0                                 Perth Modern School  1239\n",
       "1                St Hilda's Anglican School for Girls  1197\n",
       "2                        Christ Church Grammar School  1180\n",
       "3                        Rossmoyne Senior High School  1121\n",
       "4                    St Mary's Anglican Girls' School  1158\n",
       "..                                                ...   ...\n",
       "94                               Manea Senior College  1022\n",
       "95                            Mindarie Senior College  1034\n",
       "96                          Our Lady of Mercy College  1035\n",
       "97                           Sevenoaks Senior College   976\n",
       "98  Western Australian College Of Agriculture - Cu...  1009\n",
       "\n",
       "[193 rows x 2 columns]"
      ],
      "text/html": "<div>\n<style scoped>\n    .dataframe tbody tr th:only-of-type {\n        vertical-align: middle;\n    }\n\n    .dataframe tbody tr th {\n        vertical-align: top;\n    }\n\n    .dataframe thead th {\n        text-align: right;\n    }\n</style>\n<table border=\"1\" class=\"dataframe\">\n  <thead>\n    <tr style=\"text-align: right;\">\n      <th></th>\n      <th>School</th>\n      <th>ICSEA</th>\n    </tr>\n  </thead>\n  <tbody>\n    <tr>\n      <th>0</th>\n      <td>Perth Modern School</td>\n      <td>1239</td>\n    </tr>\n    <tr>\n      <th>1</th>\n      <td>St Hilda's Anglican School for Girls</td>\n      <td>1197</td>\n    </tr>\n    <tr>\n      <th>2</th>\n      <td>Christ Church Grammar School</td>\n      <td>1180</td>\n    </tr>\n    <tr>\n      <th>3</th>\n      <td>Rossmoyne Senior High School</td>\n      <td>1121</td>\n    </tr>\n    <tr>\n      <th>4</th>\n      <td>St Mary's Anglican Girls' School</td>\n      <td>1158</td>\n    </tr>\n    <tr>\n      <th>...</th>\n      <td>...</td>\n      <td>...</td>\n    </tr>\n    <tr>\n      <th>94</th>\n      <td>Manea Senior College</td>\n      <td>1022</td>\n    </tr>\n    <tr>\n      <th>95</th>\n      <td>Mindarie Senior College</td>\n      <td>1034</td>\n    </tr>\n    <tr>\n      <th>96</th>\n      <td>Our Lady of Mercy College</td>\n      <td>1035</td>\n    </tr>\n    <tr>\n      <th>97</th>\n      <td>Sevenoaks Senior College</td>\n      <td>976</td>\n    </tr>\n    <tr>\n      <th>98</th>\n      <td>Western Australian College Of Agriculture - Cu...</td>\n      <td>1009</td>\n    </tr>\n  </tbody>\n</table>\n<p>193 rows × 2 columns</p>\n</div>"
     },
     "metadata": {},
     "execution_count": 156
    }
   ],
   "source": [
    "# Display the merged Dataframe\n",
    "icsea_full"
   ]
  },
  {
   "cell_type": "code",
   "execution_count": 157,
   "metadata": {},
   "outputs": [
    {
     "output_type": "execute_result",
     "data": {
      "text/plain": [
       "Empty DataFrame\n",
       "Columns: [School, ICSEA]\n",
       "Index: []"
      ],
      "text/html": "<div>\n<style scoped>\n    .dataframe tbody tr th:only-of-type {\n        vertical-align: middle;\n    }\n\n    .dataframe tbody tr th {\n        vertical-align: top;\n    }\n\n    .dataframe thead th {\n        text-align: right;\n    }\n</style>\n<table border=\"1\" class=\"dataframe\">\n  <thead>\n    <tr style=\"text-align: right;\">\n      <th></th>\n      <th>School</th>\n      <th>ICSEA</th>\n    </tr>\n  </thead>\n  <tbody>\n  </tbody>\n</table>\n</div>"
     },
     "metadata": {},
     "execution_count": 157
    }
   ],
   "source": [
    "# Check for duplicates\n",
    "icsea_full[icsea_full.duplicated(keep=False)]"
   ]
  },
  {
   "cell_type": "code",
   "execution_count": 158,
   "metadata": {},
   "outputs": [
    {
     "output_type": "execute_result",
     "data": {
      "text/plain": [
       "               School ICSEA\n",
       "34  Woodthorpe School   nan"
      ],
      "text/html": "<div>\n<style scoped>\n    .dataframe tbody tr th:only-of-type {\n        vertical-align: middle;\n    }\n\n    .dataframe tbody tr th {\n        vertical-align: top;\n    }\n\n    .dataframe thead th {\n        text-align: right;\n    }\n</style>\n<table border=\"1\" class=\"dataframe\">\n  <thead>\n    <tr style=\"text-align: right;\">\n      <th></th>\n      <th>School</th>\n      <th>ICSEA</th>\n    </tr>\n  </thead>\n  <tbody>\n    <tr>\n      <th>34</th>\n      <td>Woodthorpe School</td>\n      <td>nan</td>\n    </tr>\n  </tbody>\n</table>\n</div>"
     },
     "metadata": {},
     "execution_count": 158
    }
   ],
   "source": [
    "# check for \"nan\" values which is a known value in the 2019 rankings dataset for Woodthorpe School\n",
    "# \"nan\" values are not considered Null (as opposed to \"Nan\") so it has to be searched manually\n",
    "icsea_full.loc[icsea_full[\"ICSEA\"] == \"nan\", :]"
   ]
  },
  {
   "cell_type": "code",
   "execution_count": 159,
   "metadata": {},
   "outputs": [],
   "source": [
    "# replaced \"nan\" with 983 which is the ICSEA score for Woodthorpe School\n",
    "icsea_full = icsea_full.replace('nan', 983)"
   ]
  },
  {
   "cell_type": "code",
   "execution_count": 160,
   "metadata": {},
   "outputs": [
    {
     "output_type": "execute_result",
     "data": {
      "text/plain": [
       "Empty DataFrame\n",
       "Columns: [School, ICSEA]\n",
       "Index: []"
      ],
      "text/html": "<div>\n<style scoped>\n    .dataframe tbody tr th:only-of-type {\n        vertical-align: middle;\n    }\n\n    .dataframe tbody tr th {\n        vertical-align: top;\n    }\n\n    .dataframe thead th {\n        text-align: right;\n    }\n</style>\n<table border=\"1\" class=\"dataframe\">\n  <thead>\n    <tr style=\"text-align: right;\">\n      <th></th>\n      <th>School</th>\n      <th>ICSEA</th>\n    </tr>\n  </thead>\n  <tbody>\n  </tbody>\n</table>\n</div>"
     },
     "metadata": {},
     "execution_count": 160
    }
   ],
   "source": [
    "# check for \"nan\" values after replacing the value to double check\n",
    "icsea_full.loc[icsea_full[\"ICSEA\"] == \"nan\", :]"
   ]
  },
  {
   "cell_type": "code",
   "execution_count": 161,
   "metadata": {},
   "outputs": [],
   "source": [
    "# replace some values to correct the spelling# replace some values to correct the spelling to prevent Null values when performing the merge with other Dataframes later on\n",
    "icsea_full[\"School\"].replace({\"John Curtin College Of The Arts\": \"John Curtin College of the Arts\", \n",
    "                       \"Australian Christian College\": \"Australian Christian College - Southlands\",\n",
    "                       \"St Stephen's School\": \"St Stephen's School - Duncraig\",\n",
    "                       \"Schools Of Isolated & Distance Education\": \"School of Isolated and Distance Education\",\n",
    "                       \"St Mary MacKillop College\": \"St Mary Mackillop College\"\n",
    "                        }, inplace=True)"
   ]
  },
  {
   "cell_type": "code",
   "execution_count": 162,
   "metadata": {},
   "outputs": [
    {
     "output_type": "execute_result",
     "data": {
      "text/plain": [
       "                                               School ICSEA\n",
       "0                                 Perth Modern School  1239\n",
       "1                St Hilda's Anglican School for Girls  1197\n",
       "2                        Christ Church Grammar School  1180\n",
       "3                        Rossmoyne Senior High School  1121\n",
       "4                    St Mary's Anglican Girls' School  1158\n",
       "..                                                ...   ...\n",
       "94                               Manea Senior College  1022\n",
       "95                            Mindarie Senior College  1034\n",
       "96                          Our Lady of Mercy College  1035\n",
       "97                           Sevenoaks Senior College   976\n",
       "98  Western Australian College Of Agriculture - Cu...  1009\n",
       "\n",
       "[193 rows x 2 columns]"
      ],
      "text/html": "<div>\n<style scoped>\n    .dataframe tbody tr th:only-of-type {\n        vertical-align: middle;\n    }\n\n    .dataframe tbody tr th {\n        vertical-align: top;\n    }\n\n    .dataframe thead th {\n        text-align: right;\n    }\n</style>\n<table border=\"1\" class=\"dataframe\">\n  <thead>\n    <tr style=\"text-align: right;\">\n      <th></th>\n      <th>School</th>\n      <th>ICSEA</th>\n    </tr>\n  </thead>\n  <tbody>\n    <tr>\n      <th>0</th>\n      <td>Perth Modern School</td>\n      <td>1239</td>\n    </tr>\n    <tr>\n      <th>1</th>\n      <td>St Hilda's Anglican School for Girls</td>\n      <td>1197</td>\n    </tr>\n    <tr>\n      <th>2</th>\n      <td>Christ Church Grammar School</td>\n      <td>1180</td>\n    </tr>\n    <tr>\n      <th>3</th>\n      <td>Rossmoyne Senior High School</td>\n      <td>1121</td>\n    </tr>\n    <tr>\n      <th>4</th>\n      <td>St Mary's Anglican Girls' School</td>\n      <td>1158</td>\n    </tr>\n    <tr>\n      <th>...</th>\n      <td>...</td>\n      <td>...</td>\n    </tr>\n    <tr>\n      <th>94</th>\n      <td>Manea Senior College</td>\n      <td>1022</td>\n    </tr>\n    <tr>\n      <th>95</th>\n      <td>Mindarie Senior College</td>\n      <td>1034</td>\n    </tr>\n    <tr>\n      <th>96</th>\n      <td>Our Lady of Mercy College</td>\n      <td>1035</td>\n    </tr>\n    <tr>\n      <th>97</th>\n      <td>Sevenoaks Senior College</td>\n      <td>976</td>\n    </tr>\n    <tr>\n      <th>98</th>\n      <td>Western Australian College Of Agriculture - Cu...</td>\n      <td>1009</td>\n    </tr>\n  </tbody>\n</table>\n<p>193 rows × 2 columns</p>\n</div>"
     },
     "metadata": {},
     "execution_count": 162
    }
   ],
   "source": [
    "# Display the \"icsea_full\" Dataframe\n",
    "icsea_full"
   ]
  },
  {
   "source": [
    "## Create a complete list of school coordinates from the Department of Education which will be used for all the schools in our datasets from 2016-2020"
   ],
   "cell_type": "markdown",
   "metadata": {}
  },
  {
   "cell_type": "code",
   "execution_count": 163,
   "metadata": {},
   "outputs": [
    {
     "output_type": "execute_result",
     "data": {
      "text/plain": [
       "      Code                                School Name  \\\n",
       "0     5001                   ADAM ROAD PRIMARY SCHOOL   \n",
       "1     1397                  AL-HIDAYAH ISLAMIC SCHOOL   \n",
       "2     8001              ALBANY COMMUNITY KINDERGARTEN   \n",
       "3     5002                      ALBANY PRIMARY SCHOOL   \n",
       "4     6151  ALBANY SECONDARY EDUCATION SUPPORT CENTRE   \n",
       "...    ...                                        ...   \n",
       "1132  1497             YOUTH FUTURES COMMUNITY SCHOOL   \n",
       "1133  4127                         YULE BROOK COLLEGE   \n",
       "1134  5787        YULGA JINNA REMOTE COMMUNITY SCHOOL   \n",
       "1135  5217                      YULUMA PRIMARY SCHOOL   \n",
       "1136  5497                        YUNA PRIMARY SCHOOL   \n",
       "\n",
       "                            Street                        Suburb State  \\\n",
       "0                   HOTCHIN STREET                 SOUTH BUNBURY    WA   \n",
       "1         CNR HEDLEY ST/NYAMUP WAY                       BENTLEY    WA   \n",
       "2              136 SERPENTINE ROAD                        ALBANY    WA   \n",
       "3                   SUFFOLK STREET                        ALBANY    WA   \n",
       "4                    65 ANSON ROAD                        ALBANY    WA   \n",
       "...                            ...                           ...   ...   \n",
       "1132            59 KEY LARGO DRIVE                      CLARKSON    WA   \n",
       "1133                61 DELLAR ROAD                    MADDINGTON    WA   \n",
       "1134  YULGA JINNA REMOTE COMMUNITY  YULGA JINNA REMOTE COMMUNITY    WA   \n",
       "1135             21 AMBROSE STREET                       INNALOO    WA   \n",
       "1136           YUNA-TENINDEWA ROAD                          YUNA    WA   \n",
       "\n",
       "      Postcode             Postal Street  Postal Suburb Postal State  \\\n",
       "0         6230            HOTCHIN STREET  SOUTH BUNBURY           WA   \n",
       "1         6102  CNR HEDLEY ST/NYAMUP WAY        BENTLEY           WA   \n",
       "2         6330               PO BOX 5670         ALBANY           WA   \n",
       "3         6330            SUFFOLK STREET         ALBANY           WA   \n",
       "4         6330             65 ANSON ROAD         ALBANY           WA   \n",
       "...        ...                       ...            ...          ...   \n",
       "1132      6030        59 KEY LARGO DRIVE       CLARKSON           WA   \n",
       "1133      6109            61 DELLAR ROAD     MADDINGTON           WA   \n",
       "1134      6642           VIA MEEKATHARRA    MEEKATHARRA           WA   \n",
       "1135      6018         21 AMBROSE STREET        INNALOO           WA   \n",
       "1136      6532                   PMB 610   GERALDTON PO           WA   \n",
       "\n",
       "      Postal Postcode   Latitude   Longitude         Phone  \\\n",
       "0                6230 -33.357951  115.635371  08 9796 3000   \n",
       "1                6102 -32.010358  115.911564  08 9351 8593   \n",
       "2                6332 -35.021460  117.880987  08 9841 1864   \n",
       "3                6330 -35.018212  117.891611  08 9844 2860   \n",
       "4                6330 -34.990749  117.866867  08 9841 4900   \n",
       "...               ...        ...         ...           ...   \n",
       "1132             6030 -31.691100  115.719850  08 9407 9099   \n",
       "1133             6109 -32.047327  116.006462  08 9251 8333   \n",
       "1134             6642 -25.617306  118.557728  08 9981 2200   \n",
       "1135             6018 -31.892268  115.789990  08 9244 5422   \n",
       "1136             6531 -28.326566  115.002648  08 9985 4100   \n",
       "\n",
       "        Education Region       Broad Classification     Classification Group  \\\n",
       "0             SOUTH WEST            Primary Schools          PRIMARY SCHOOLS   \n",
       "1     SOUTH METROPOLITAN           NON-GOVT SCHOOLS           NON-GOVERNMENT   \n",
       "2             SOUTH WEST    Community Kindergartens  COMMUNITY KINDERGARTENS   \n",
       "3             SOUTH WEST            Primary Schools          PRIMARY SCHOOLS   \n",
       "4             SOUTH WEST  Education Support Centres        EDUCATION SUPPORT   \n",
       "...                  ...                        ...                      ...   \n",
       "1132  NORTH METROPOLITAN           NON-GOVT SCHOOLS           NON-GOVERNMENT   \n",
       "1133  SOUTH METROPOLITAN               High Schools        SECONDARY SCHOOLS   \n",
       "1134             MIDWEST   Remote Community Schools          PRIMARY SCHOOLS   \n",
       "1135  NORTH METROPOLITAN            Primary Schools          PRIMARY SCHOOLS   \n",
       "1136             MIDWEST            Primary Schools          PRIMARY SCHOOLS   \n",
       "\n",
       "     Low Year High Year  \n",
       "0         KIN       Y06  \n",
       "1         PPR       Y06  \n",
       "2         KIN       KIN  \n",
       "3         KIN       Y06  \n",
       "4         Y07       Y12  \n",
       "...       ...       ...  \n",
       "1132      Y09       Y12  \n",
       "1133      Y07       Y10  \n",
       "1134      KIN       Y07  \n",
       "1135      KIN       Y06  \n",
       "1136      Y01       Y06  \n",
       "\n",
       "[1137 rows x 18 columns]"
      ],
      "text/html": "<div>\n<style scoped>\n    .dataframe tbody tr th:only-of-type {\n        vertical-align: middle;\n    }\n\n    .dataframe tbody tr th {\n        vertical-align: top;\n    }\n\n    .dataframe thead th {\n        text-align: right;\n    }\n</style>\n<table border=\"1\" class=\"dataframe\">\n  <thead>\n    <tr style=\"text-align: right;\">\n      <th></th>\n      <th>Code</th>\n      <th>School Name</th>\n      <th>Street</th>\n      <th>Suburb</th>\n      <th>State</th>\n      <th>Postcode</th>\n      <th>Postal Street</th>\n      <th>Postal Suburb</th>\n      <th>Postal State</th>\n      <th>Postal Postcode</th>\n      <th>Latitude</th>\n      <th>Longitude</th>\n      <th>Phone</th>\n      <th>Education Region</th>\n      <th>Broad Classification</th>\n      <th>Classification Group</th>\n      <th>Low Year</th>\n      <th>High Year</th>\n    </tr>\n  </thead>\n  <tbody>\n    <tr>\n      <th>0</th>\n      <td>5001</td>\n      <td>ADAM ROAD PRIMARY SCHOOL</td>\n      <td>HOTCHIN STREET</td>\n      <td>SOUTH BUNBURY</td>\n      <td>WA</td>\n      <td>6230</td>\n      <td>HOTCHIN STREET</td>\n      <td>SOUTH BUNBURY</td>\n      <td>WA</td>\n      <td>6230</td>\n      <td>-33.357951</td>\n      <td>115.635371</td>\n      <td>08 9796 3000</td>\n      <td>SOUTH WEST</td>\n      <td>Primary Schools</td>\n      <td>PRIMARY SCHOOLS</td>\n      <td>KIN</td>\n      <td>Y06</td>\n    </tr>\n    <tr>\n      <th>1</th>\n      <td>1397</td>\n      <td>AL-HIDAYAH ISLAMIC SCHOOL</td>\n      <td>CNR HEDLEY ST/NYAMUP WAY</td>\n      <td>BENTLEY</td>\n      <td>WA</td>\n      <td>6102</td>\n      <td>CNR HEDLEY ST/NYAMUP WAY</td>\n      <td>BENTLEY</td>\n      <td>WA</td>\n      <td>6102</td>\n      <td>-32.010358</td>\n      <td>115.911564</td>\n      <td>08 9351 8593</td>\n      <td>SOUTH METROPOLITAN</td>\n      <td>NON-GOVT SCHOOLS</td>\n      <td>NON-GOVERNMENT</td>\n      <td>PPR</td>\n      <td>Y06</td>\n    </tr>\n    <tr>\n      <th>2</th>\n      <td>8001</td>\n      <td>ALBANY COMMUNITY KINDERGARTEN</td>\n      <td>136 SERPENTINE ROAD</td>\n      <td>ALBANY</td>\n      <td>WA</td>\n      <td>6330</td>\n      <td>PO BOX 5670</td>\n      <td>ALBANY</td>\n      <td>WA</td>\n      <td>6332</td>\n      <td>-35.021460</td>\n      <td>117.880987</td>\n      <td>08 9841 1864</td>\n      <td>SOUTH WEST</td>\n      <td>Community Kindergartens</td>\n      <td>COMMUNITY KINDERGARTENS</td>\n      <td>KIN</td>\n      <td>KIN</td>\n    </tr>\n    <tr>\n      <th>3</th>\n      <td>5002</td>\n      <td>ALBANY PRIMARY SCHOOL</td>\n      <td>SUFFOLK STREET</td>\n      <td>ALBANY</td>\n      <td>WA</td>\n      <td>6330</td>\n      <td>SUFFOLK STREET</td>\n      <td>ALBANY</td>\n      <td>WA</td>\n      <td>6330</td>\n      <td>-35.018212</td>\n      <td>117.891611</td>\n      <td>08 9844 2860</td>\n      <td>SOUTH WEST</td>\n      <td>Primary Schools</td>\n      <td>PRIMARY SCHOOLS</td>\n      <td>KIN</td>\n      <td>Y06</td>\n    </tr>\n    <tr>\n      <th>4</th>\n      <td>6151</td>\n      <td>ALBANY SECONDARY EDUCATION SUPPORT CENTRE</td>\n      <td>65 ANSON ROAD</td>\n      <td>ALBANY</td>\n      <td>WA</td>\n      <td>6330</td>\n      <td>65 ANSON ROAD</td>\n      <td>ALBANY</td>\n      <td>WA</td>\n      <td>6330</td>\n      <td>-34.990749</td>\n      <td>117.866867</td>\n      <td>08 9841 4900</td>\n      <td>SOUTH WEST</td>\n      <td>Education Support Centres</td>\n      <td>EDUCATION SUPPORT</td>\n      <td>Y07</td>\n      <td>Y12</td>\n    </tr>\n    <tr>\n      <th>...</th>\n      <td>...</td>\n      <td>...</td>\n      <td>...</td>\n      <td>...</td>\n      <td>...</td>\n      <td>...</td>\n      <td>...</td>\n      <td>...</td>\n      <td>...</td>\n      <td>...</td>\n      <td>...</td>\n      <td>...</td>\n      <td>...</td>\n      <td>...</td>\n      <td>...</td>\n      <td>...</td>\n      <td>...</td>\n      <td>...</td>\n    </tr>\n    <tr>\n      <th>1132</th>\n      <td>1497</td>\n      <td>YOUTH FUTURES COMMUNITY SCHOOL</td>\n      <td>59 KEY LARGO DRIVE</td>\n      <td>CLARKSON</td>\n      <td>WA</td>\n      <td>6030</td>\n      <td>59 KEY LARGO DRIVE</td>\n      <td>CLARKSON</td>\n      <td>WA</td>\n      <td>6030</td>\n      <td>-31.691100</td>\n      <td>115.719850</td>\n      <td>08 9407 9099</td>\n      <td>NORTH METROPOLITAN</td>\n      <td>NON-GOVT SCHOOLS</td>\n      <td>NON-GOVERNMENT</td>\n      <td>Y09</td>\n      <td>Y12</td>\n    </tr>\n    <tr>\n      <th>1133</th>\n      <td>4127</td>\n      <td>YULE BROOK COLLEGE</td>\n      <td>61 DELLAR ROAD</td>\n      <td>MADDINGTON</td>\n      <td>WA</td>\n      <td>6109</td>\n      <td>61 DELLAR ROAD</td>\n      <td>MADDINGTON</td>\n      <td>WA</td>\n      <td>6109</td>\n      <td>-32.047327</td>\n      <td>116.006462</td>\n      <td>08 9251 8333</td>\n      <td>SOUTH METROPOLITAN</td>\n      <td>High Schools</td>\n      <td>SECONDARY SCHOOLS</td>\n      <td>Y07</td>\n      <td>Y10</td>\n    </tr>\n    <tr>\n      <th>1134</th>\n      <td>5787</td>\n      <td>YULGA JINNA REMOTE COMMUNITY SCHOOL</td>\n      <td>YULGA JINNA REMOTE COMMUNITY</td>\n      <td>YULGA JINNA REMOTE COMMUNITY</td>\n      <td>WA</td>\n      <td>6642</td>\n      <td>VIA MEEKATHARRA</td>\n      <td>MEEKATHARRA</td>\n      <td>WA</td>\n      <td>6642</td>\n      <td>-25.617306</td>\n      <td>118.557728</td>\n      <td>08 9981 2200</td>\n      <td>MIDWEST</td>\n      <td>Remote Community Schools</td>\n      <td>PRIMARY SCHOOLS</td>\n      <td>KIN</td>\n      <td>Y07</td>\n    </tr>\n    <tr>\n      <th>1135</th>\n      <td>5217</td>\n      <td>YULUMA PRIMARY SCHOOL</td>\n      <td>21 AMBROSE STREET</td>\n      <td>INNALOO</td>\n      <td>WA</td>\n      <td>6018</td>\n      <td>21 AMBROSE STREET</td>\n      <td>INNALOO</td>\n      <td>WA</td>\n      <td>6018</td>\n      <td>-31.892268</td>\n      <td>115.789990</td>\n      <td>08 9244 5422</td>\n      <td>NORTH METROPOLITAN</td>\n      <td>Primary Schools</td>\n      <td>PRIMARY SCHOOLS</td>\n      <td>KIN</td>\n      <td>Y06</td>\n    </tr>\n    <tr>\n      <th>1136</th>\n      <td>5497</td>\n      <td>YUNA PRIMARY SCHOOL</td>\n      <td>YUNA-TENINDEWA ROAD</td>\n      <td>YUNA</td>\n      <td>WA</td>\n      <td>6532</td>\n      <td>PMB 610</td>\n      <td>GERALDTON PO</td>\n      <td>WA</td>\n      <td>6531</td>\n      <td>-28.326566</td>\n      <td>115.002648</td>\n      <td>08 9985 4100</td>\n      <td>MIDWEST</td>\n      <td>Primary Schools</td>\n      <td>PRIMARY SCHOOLS</td>\n      <td>Y01</td>\n      <td>Y06</td>\n    </tr>\n  </tbody>\n</table>\n<p>1137 rows × 18 columns</p>\n</div>"
     },
     "metadata": {},
     "execution_count": 163
    }
   ],
   "source": [
    "# read \"doe_2020\" csv file\n",
    "doe = pd.read_csv(\"../Resources/doe_2020.csv\")\n",
    "doe"
   ]
  },
  {
   "cell_type": "code",
   "execution_count": 164,
   "metadata": {},
   "outputs": [
    {
     "output_type": "execute_result",
     "data": {
      "text/plain": [
       "                                    School Name                        Suburb  \\\n",
       "0                      ADAM ROAD PRIMARY SCHOOL                 SOUTH BUNBURY   \n",
       "1                     AL-HIDAYAH ISLAMIC SCHOOL                       BENTLEY   \n",
       "2                 ALBANY COMMUNITY KINDERGARTEN                        ALBANY   \n",
       "3                         ALBANY PRIMARY SCHOOL                        ALBANY   \n",
       "4     ALBANY SECONDARY EDUCATION SUPPORT CENTRE                        ALBANY   \n",
       "...                                         ...                           ...   \n",
       "1132             YOUTH FUTURES COMMUNITY SCHOOL                      CLARKSON   \n",
       "1133                         YULE BROOK COLLEGE                    MADDINGTON   \n",
       "1134        YULGA JINNA REMOTE COMMUNITY SCHOOL  YULGA JINNA REMOTE COMMUNITY   \n",
       "1135                      YULUMA PRIMARY SCHOOL                       INNALOO   \n",
       "1136                        YUNA PRIMARY SCHOOL                          YUNA   \n",
       "\n",
       "       Longitude   Latitude  \n",
       "0     115.635371 -33.357951  \n",
       "1     115.911564 -32.010358  \n",
       "2     117.880987 -35.021460  \n",
       "3     117.891611 -35.018212  \n",
       "4     117.866867 -34.990749  \n",
       "...          ...        ...  \n",
       "1132  115.719850 -31.691100  \n",
       "1133  116.006462 -32.047327  \n",
       "1134  118.557728 -25.617306  \n",
       "1135  115.789990 -31.892268  \n",
       "1136  115.002648 -28.326566  \n",
       "\n",
       "[1137 rows x 4 columns]"
      ],
      "text/html": "<div>\n<style scoped>\n    .dataframe tbody tr th:only-of-type {\n        vertical-align: middle;\n    }\n\n    .dataframe tbody tr th {\n        vertical-align: top;\n    }\n\n    .dataframe thead th {\n        text-align: right;\n    }\n</style>\n<table border=\"1\" class=\"dataframe\">\n  <thead>\n    <tr style=\"text-align: right;\">\n      <th></th>\n      <th>School Name</th>\n      <th>Suburb</th>\n      <th>Longitude</th>\n      <th>Latitude</th>\n    </tr>\n  </thead>\n  <tbody>\n    <tr>\n      <th>0</th>\n      <td>ADAM ROAD PRIMARY SCHOOL</td>\n      <td>SOUTH BUNBURY</td>\n      <td>115.635371</td>\n      <td>-33.357951</td>\n    </tr>\n    <tr>\n      <th>1</th>\n      <td>AL-HIDAYAH ISLAMIC SCHOOL</td>\n      <td>BENTLEY</td>\n      <td>115.911564</td>\n      <td>-32.010358</td>\n    </tr>\n    <tr>\n      <th>2</th>\n      <td>ALBANY COMMUNITY KINDERGARTEN</td>\n      <td>ALBANY</td>\n      <td>117.880987</td>\n      <td>-35.021460</td>\n    </tr>\n    <tr>\n      <th>3</th>\n      <td>ALBANY PRIMARY SCHOOL</td>\n      <td>ALBANY</td>\n      <td>117.891611</td>\n      <td>-35.018212</td>\n    </tr>\n    <tr>\n      <th>4</th>\n      <td>ALBANY SECONDARY EDUCATION SUPPORT CENTRE</td>\n      <td>ALBANY</td>\n      <td>117.866867</td>\n      <td>-34.990749</td>\n    </tr>\n    <tr>\n      <th>...</th>\n      <td>...</td>\n      <td>...</td>\n      <td>...</td>\n      <td>...</td>\n    </tr>\n    <tr>\n      <th>1132</th>\n      <td>YOUTH FUTURES COMMUNITY SCHOOL</td>\n      <td>CLARKSON</td>\n      <td>115.719850</td>\n      <td>-31.691100</td>\n    </tr>\n    <tr>\n      <th>1133</th>\n      <td>YULE BROOK COLLEGE</td>\n      <td>MADDINGTON</td>\n      <td>116.006462</td>\n      <td>-32.047327</td>\n    </tr>\n    <tr>\n      <th>1134</th>\n      <td>YULGA JINNA REMOTE COMMUNITY SCHOOL</td>\n      <td>YULGA JINNA REMOTE COMMUNITY</td>\n      <td>118.557728</td>\n      <td>-25.617306</td>\n    </tr>\n    <tr>\n      <th>1135</th>\n      <td>YULUMA PRIMARY SCHOOL</td>\n      <td>INNALOO</td>\n      <td>115.789990</td>\n      <td>-31.892268</td>\n    </tr>\n    <tr>\n      <th>1136</th>\n      <td>YUNA PRIMARY SCHOOL</td>\n      <td>YUNA</td>\n      <td>115.002648</td>\n      <td>-28.326566</td>\n    </tr>\n  </tbody>\n</table>\n<p>1137 rows × 4 columns</p>\n</div>"
     },
     "metadata": {},
     "execution_count": 164
    }
   ],
   "source": [
    "# remove other columns\n",
    "doe = doe[[\"School Name\", \"Suburb\", \"Longitude\", \"Latitude\"]]\n",
    "doe"
   ]
  },
  {
   "cell_type": "code",
   "execution_count": 165,
   "metadata": {},
   "outputs": [
    {
     "output_type": "execute_result",
     "data": {
      "text/plain": [
       "                                         School                        Suburb  \\\n",
       "0                      ADAM ROAD PRIMARY SCHOOL                 SOUTH BUNBURY   \n",
       "1                     AL-HIDAYAH ISLAMIC SCHOOL                       BENTLEY   \n",
       "2                 ALBANY COMMUNITY KINDERGARTEN                        ALBANY   \n",
       "3                         ALBANY PRIMARY SCHOOL                        ALBANY   \n",
       "4     ALBANY SECONDARY EDUCATION SUPPORT CENTRE                        ALBANY   \n",
       "...                                         ...                           ...   \n",
       "1132             YOUTH FUTURES COMMUNITY SCHOOL                      CLARKSON   \n",
       "1133                         YULE BROOK COLLEGE                    MADDINGTON   \n",
       "1134        YULGA JINNA REMOTE COMMUNITY SCHOOL  YULGA JINNA REMOTE COMMUNITY   \n",
       "1135                      YULUMA PRIMARY SCHOOL                       INNALOO   \n",
       "1136                        YUNA PRIMARY SCHOOL                          YUNA   \n",
       "\n",
       "       Longitude   Latitude  \n",
       "0     115.635371 -33.357951  \n",
       "1     115.911564 -32.010358  \n",
       "2     117.880987 -35.021460  \n",
       "3     117.891611 -35.018212  \n",
       "4     117.866867 -34.990749  \n",
       "...          ...        ...  \n",
       "1132  115.719850 -31.691100  \n",
       "1133  116.006462 -32.047327  \n",
       "1134  118.557728 -25.617306  \n",
       "1135  115.789990 -31.892268  \n",
       "1136  115.002648 -28.326566  \n",
       "\n",
       "[1137 rows x 4 columns]"
      ],
      "text/html": "<div>\n<style scoped>\n    .dataframe tbody tr th:only-of-type {\n        vertical-align: middle;\n    }\n\n    .dataframe tbody tr th {\n        vertical-align: top;\n    }\n\n    .dataframe thead th {\n        text-align: right;\n    }\n</style>\n<table border=\"1\" class=\"dataframe\">\n  <thead>\n    <tr style=\"text-align: right;\">\n      <th></th>\n      <th>School</th>\n      <th>Suburb</th>\n      <th>Longitude</th>\n      <th>Latitude</th>\n    </tr>\n  </thead>\n  <tbody>\n    <tr>\n      <th>0</th>\n      <td>ADAM ROAD PRIMARY SCHOOL</td>\n      <td>SOUTH BUNBURY</td>\n      <td>115.635371</td>\n      <td>-33.357951</td>\n    </tr>\n    <tr>\n      <th>1</th>\n      <td>AL-HIDAYAH ISLAMIC SCHOOL</td>\n      <td>BENTLEY</td>\n      <td>115.911564</td>\n      <td>-32.010358</td>\n    </tr>\n    <tr>\n      <th>2</th>\n      <td>ALBANY COMMUNITY KINDERGARTEN</td>\n      <td>ALBANY</td>\n      <td>117.880987</td>\n      <td>-35.021460</td>\n    </tr>\n    <tr>\n      <th>3</th>\n      <td>ALBANY PRIMARY SCHOOL</td>\n      <td>ALBANY</td>\n      <td>117.891611</td>\n      <td>-35.018212</td>\n    </tr>\n    <tr>\n      <th>4</th>\n      <td>ALBANY SECONDARY EDUCATION SUPPORT CENTRE</td>\n      <td>ALBANY</td>\n      <td>117.866867</td>\n      <td>-34.990749</td>\n    </tr>\n    <tr>\n      <th>...</th>\n      <td>...</td>\n      <td>...</td>\n      <td>...</td>\n      <td>...</td>\n    </tr>\n    <tr>\n      <th>1132</th>\n      <td>YOUTH FUTURES COMMUNITY SCHOOL</td>\n      <td>CLARKSON</td>\n      <td>115.719850</td>\n      <td>-31.691100</td>\n    </tr>\n    <tr>\n      <th>1133</th>\n      <td>YULE BROOK COLLEGE</td>\n      <td>MADDINGTON</td>\n      <td>116.006462</td>\n      <td>-32.047327</td>\n    </tr>\n    <tr>\n      <th>1134</th>\n      <td>YULGA JINNA REMOTE COMMUNITY SCHOOL</td>\n      <td>YULGA JINNA REMOTE COMMUNITY</td>\n      <td>118.557728</td>\n      <td>-25.617306</td>\n    </tr>\n    <tr>\n      <th>1135</th>\n      <td>YULUMA PRIMARY SCHOOL</td>\n      <td>INNALOO</td>\n      <td>115.789990</td>\n      <td>-31.892268</td>\n    </tr>\n    <tr>\n      <th>1136</th>\n      <td>YUNA PRIMARY SCHOOL</td>\n      <td>YUNA</td>\n      <td>115.002648</td>\n      <td>-28.326566</td>\n    </tr>\n  </tbody>\n</table>\n<p>1137 rows × 4 columns</p>\n</div>"
     },
     "metadata": {},
     "execution_count": 165
    }
   ],
   "source": [
    "# rename the \"School Name\" column name\n",
    "doe = doe.rename(columns = {\"School Name\" : \"School\"})\n",
    "doe"
   ]
  },
  {
   "cell_type": "code",
   "execution_count": 166,
   "metadata": {},
   "outputs": [
    {
     "output_type": "execute_result",
     "data": {
      "text/plain": [
       "                                         School                        Suburb  \\\n",
       "0                      Adam Road Primary School                 South Bunbury   \n",
       "1                     Al-Hidayah Islamic School                       Bentley   \n",
       "2                 Albany Community Kindergarten                        Albany   \n",
       "3                         Albany Primary School                        Albany   \n",
       "4     Albany Secondary Education Support Centre                        Albany   \n",
       "...                                         ...                           ...   \n",
       "1132             Youth Futures Community School                      Clarkson   \n",
       "1133                         Yule Brook College                    Maddington   \n",
       "1134        Yulga Jinna Remote Community School  Yulga Jinna Remote Community   \n",
       "1135                      Yuluma Primary School                       Innaloo   \n",
       "1136                        Yuna Primary School                          Yuna   \n",
       "\n",
       "       Longitude   Latitude  \n",
       "0     115.635371 -33.357951  \n",
       "1     115.911564 -32.010358  \n",
       "2     117.880987 -35.021460  \n",
       "3     117.891611 -35.018212  \n",
       "4     117.866867 -34.990749  \n",
       "...          ...        ...  \n",
       "1132  115.719850 -31.691100  \n",
       "1133  116.006462 -32.047327  \n",
       "1134  118.557728 -25.617306  \n",
       "1135  115.789990 -31.892268  \n",
       "1136  115.002648 -28.326566  \n",
       "\n",
       "[1137 rows x 4 columns]"
      ],
      "text/html": "<div>\n<style scoped>\n    .dataframe tbody tr th:only-of-type {\n        vertical-align: middle;\n    }\n\n    .dataframe tbody tr th {\n        vertical-align: top;\n    }\n\n    .dataframe thead th {\n        text-align: right;\n    }\n</style>\n<table border=\"1\" class=\"dataframe\">\n  <thead>\n    <tr style=\"text-align: right;\">\n      <th></th>\n      <th>School</th>\n      <th>Suburb</th>\n      <th>Longitude</th>\n      <th>Latitude</th>\n    </tr>\n  </thead>\n  <tbody>\n    <tr>\n      <th>0</th>\n      <td>Adam Road Primary School</td>\n      <td>South Bunbury</td>\n      <td>115.635371</td>\n      <td>-33.357951</td>\n    </tr>\n    <tr>\n      <th>1</th>\n      <td>Al-Hidayah Islamic School</td>\n      <td>Bentley</td>\n      <td>115.911564</td>\n      <td>-32.010358</td>\n    </tr>\n    <tr>\n      <th>2</th>\n      <td>Albany Community Kindergarten</td>\n      <td>Albany</td>\n      <td>117.880987</td>\n      <td>-35.021460</td>\n    </tr>\n    <tr>\n      <th>3</th>\n      <td>Albany Primary School</td>\n      <td>Albany</td>\n      <td>117.891611</td>\n      <td>-35.018212</td>\n    </tr>\n    <tr>\n      <th>4</th>\n      <td>Albany Secondary Education Support Centre</td>\n      <td>Albany</td>\n      <td>117.866867</td>\n      <td>-34.990749</td>\n    </tr>\n    <tr>\n      <th>...</th>\n      <td>...</td>\n      <td>...</td>\n      <td>...</td>\n      <td>...</td>\n    </tr>\n    <tr>\n      <th>1132</th>\n      <td>Youth Futures Community School</td>\n      <td>Clarkson</td>\n      <td>115.719850</td>\n      <td>-31.691100</td>\n    </tr>\n    <tr>\n      <th>1133</th>\n      <td>Yule Brook College</td>\n      <td>Maddington</td>\n      <td>116.006462</td>\n      <td>-32.047327</td>\n    </tr>\n    <tr>\n      <th>1134</th>\n      <td>Yulga Jinna Remote Community School</td>\n      <td>Yulga Jinna Remote Community</td>\n      <td>118.557728</td>\n      <td>-25.617306</td>\n    </tr>\n    <tr>\n      <th>1135</th>\n      <td>Yuluma Primary School</td>\n      <td>Innaloo</td>\n      <td>115.789990</td>\n      <td>-31.892268</td>\n    </tr>\n    <tr>\n      <th>1136</th>\n      <td>Yuna Primary School</td>\n      <td>Yuna</td>\n      <td>115.002648</td>\n      <td>-28.326566</td>\n    </tr>\n  </tbody>\n</table>\n<p>1137 rows × 4 columns</p>\n</div>"
     },
     "metadata": {},
     "execution_count": 166
    }
   ],
   "source": [
    "# change the \"School\" & \"Suburb\" columns values format to a title format\n",
    "doe['School'] = doe['School'].str.title()\n",
    "doe['Suburb'] = doe['Suburb'].str.title()\n",
    "doe"
   ]
  },
  {
   "cell_type": "code",
   "execution_count": 167,
   "metadata": {},
   "outputs": [],
   "source": [
    "# replace some values to correct the spelling to prevent Null values when performing the merge with other Dataframes later on\n",
    "doe[\"School\"].replace({\"Irene Mccormack Catholic College\": \"Irene McCormack Catholic College\",\n",
    "                       \"John Xxiii College\": \"John XXIII College\",\n",
    "                       \"Oneschool Global Wa\": \"OneSchool Global WA\",\n",
    "                       \"Our Lady Of Mercy College\": \"Our Lady of Mercy College\",\n",
    "                       \"Peter Moyes Anglican Community\": \"Peter Moyes Anglican Community School\",\n",
    "                       \"Presbyterian Ladies College\": \"Presbyterian Ladies' College\",\n",
    "                       \"St Andrew'S Grammar\": \"St Andrew's Grammar\",\n",
    "                       \"St Brigid'S College\": \"St Brigid's College\",\n",
    "                       \"St Hilda'S Anglican School For Girls\": \"St Hilda's Anglican School for Girls\",\n",
    "                       \"St Joseph'S College\": \"St Joseph's College\",\n",
    "                       \"St Luke'S College\": \"St Luke's College\",\n",
    "                       \"St Mark'S Anglican Community School\": \"St Mark's Anglican Community School\",\n",
    "                       \"St Mary'S Anglican Girls' School\": \"St Mary's Anglican Girls' School\",\n",
    "                       \"St Stephen'S School\": \"St Stephen's School - Duncraig\",\n",
    "                       \"Swan Valley Anglican Community\": \"Swan Valley Anglican Community School\",\n",
    "                       \"John Curtin College Of The Arts\": \"John Curtin College of the Arts\",\n",
    "                       \"Australian Islamic College - North Of The River\": \"Australian Islamic College - Dianella\",\n",
    "                       \"Australian Islamic College - Perth\": \"Australian Islamic College - Thornlie\",\n",
    "                       \"St George'S Anglican Grammar School\": \"St George's Anglican Grammar School\",\n",
    "                       \"International School Of Western Australia\": \"International School of Western Australia\",\n",
    "                       \"School Of Isolated And Distance Education\": \"School of Isolated and Distance Education\",\n",
    "                       \"Cornerstone Christian College Ltd\": \"Cornerstone Christian College\"                    \n",
    "                       }, inplace=True)"
   ]
  },
  {
   "cell_type": "code",
   "execution_count": 168,
   "metadata": {},
   "outputs": [
    {
     "output_type": "execute_result",
     "data": {
      "text/plain": [
       "                           School      Suburb  Longitude  Latitude\n",
       "0               Woodthorpe School   Willetton  115.90172 -32.05654\n",
       "1  St Stephen's School - Carramar    Carramar  115.78828 -31.71704\n",
       "2      Bunbury John Calvin School  Carey Park  115.64956 -33.35097"
      ],
      "text/html": "<div>\n<style scoped>\n    .dataframe tbody tr th:only-of-type {\n        vertical-align: middle;\n    }\n\n    .dataframe tbody tr th {\n        vertical-align: top;\n    }\n\n    .dataframe thead th {\n        text-align: right;\n    }\n</style>\n<table border=\"1\" class=\"dataframe\">\n  <thead>\n    <tr style=\"text-align: right;\">\n      <th></th>\n      <th>School</th>\n      <th>Suburb</th>\n      <th>Longitude</th>\n      <th>Latitude</th>\n    </tr>\n  </thead>\n  <tbody>\n    <tr>\n      <th>0</th>\n      <td>Woodthorpe School</td>\n      <td>Willetton</td>\n      <td>115.90172</td>\n      <td>-32.05654</td>\n    </tr>\n    <tr>\n      <th>1</th>\n      <td>St Stephen's School - Carramar</td>\n      <td>Carramar</td>\n      <td>115.78828</td>\n      <td>-31.71704</td>\n    </tr>\n    <tr>\n      <th>2</th>\n      <td>Bunbury John Calvin School</td>\n      <td>Carey Park</td>\n      <td>115.64956</td>\n      <td>-33.35097</td>\n    </tr>\n  </tbody>\n</table>\n</div>"
     },
     "metadata": {},
     "execution_count": 168
    }
   ],
   "source": [
    "# create a new Dataframe with new entries to be added to the \"doe\" Dataframe\n",
    "doe_update = pd.DataFrame({\"School\": [\"Woodthorpe School\", \"St Stephen's School - Carramar\", \"Bunbury John Calvin School\"],\n",
    "                           \"Suburb\": [\"Willetton\", \"Carramar\", \"Carey Park\"],\n",
    "                           \"Longitude\": [115.90172, 115.78828, 115.64956],\n",
    "                           \"Latitude\": [-32.05654, -31.71704, -33.35097]\n",
    "                            })\n",
    "doe_update"
   ]
  },
  {
   "cell_type": "code",
   "execution_count": 169,
   "metadata": {},
   "outputs": [
    {
     "output_type": "execute_result",
     "data": {
      "text/plain": [
       "                                         School         Suburb   Longitude  \\\n",
       "0                      Adam Road Primary School  South Bunbury  115.635371   \n",
       "1                     Al-Hidayah Islamic School        Bentley  115.911564   \n",
       "2                 Albany Community Kindergarten         Albany  117.880987   \n",
       "3                         Albany Primary School         Albany  117.891611   \n",
       "4     Albany Secondary Education Support Centre         Albany  117.866867   \n",
       "...                                         ...            ...         ...   \n",
       "1135                      Yuluma Primary School        Innaloo  115.789990   \n",
       "1136                        Yuna Primary School           Yuna  115.002648   \n",
       "0                             Woodthorpe School      Willetton  115.901720   \n",
       "1                St Stephen's School - Carramar       Carramar  115.788280   \n",
       "2                    Bunbury John Calvin School     Carey Park  115.649560   \n",
       "\n",
       "       Latitude  \n",
       "0    -33.357951  \n",
       "1    -32.010358  \n",
       "2    -35.021460  \n",
       "3    -35.018212  \n",
       "4    -34.990749  \n",
       "...         ...  \n",
       "1135 -31.892268  \n",
       "1136 -28.326566  \n",
       "0    -32.056540  \n",
       "1    -31.717040  \n",
       "2    -33.350970  \n",
       "\n",
       "[1140 rows x 4 columns]"
      ],
      "text/html": "<div>\n<style scoped>\n    .dataframe tbody tr th:only-of-type {\n        vertical-align: middle;\n    }\n\n    .dataframe tbody tr th {\n        vertical-align: top;\n    }\n\n    .dataframe thead th {\n        text-align: right;\n    }\n</style>\n<table border=\"1\" class=\"dataframe\">\n  <thead>\n    <tr style=\"text-align: right;\">\n      <th></th>\n      <th>School</th>\n      <th>Suburb</th>\n      <th>Longitude</th>\n      <th>Latitude</th>\n    </tr>\n  </thead>\n  <tbody>\n    <tr>\n      <th>0</th>\n      <td>Adam Road Primary School</td>\n      <td>South Bunbury</td>\n      <td>115.635371</td>\n      <td>-33.357951</td>\n    </tr>\n    <tr>\n      <th>1</th>\n      <td>Al-Hidayah Islamic School</td>\n      <td>Bentley</td>\n      <td>115.911564</td>\n      <td>-32.010358</td>\n    </tr>\n    <tr>\n      <th>2</th>\n      <td>Albany Community Kindergarten</td>\n      <td>Albany</td>\n      <td>117.880987</td>\n      <td>-35.021460</td>\n    </tr>\n    <tr>\n      <th>3</th>\n      <td>Albany Primary School</td>\n      <td>Albany</td>\n      <td>117.891611</td>\n      <td>-35.018212</td>\n    </tr>\n    <tr>\n      <th>4</th>\n      <td>Albany Secondary Education Support Centre</td>\n      <td>Albany</td>\n      <td>117.866867</td>\n      <td>-34.990749</td>\n    </tr>\n    <tr>\n      <th>...</th>\n      <td>...</td>\n      <td>...</td>\n      <td>...</td>\n      <td>...</td>\n    </tr>\n    <tr>\n      <th>1135</th>\n      <td>Yuluma Primary School</td>\n      <td>Innaloo</td>\n      <td>115.789990</td>\n      <td>-31.892268</td>\n    </tr>\n    <tr>\n      <th>1136</th>\n      <td>Yuna Primary School</td>\n      <td>Yuna</td>\n      <td>115.002648</td>\n      <td>-28.326566</td>\n    </tr>\n    <tr>\n      <th>0</th>\n      <td>Woodthorpe School</td>\n      <td>Willetton</td>\n      <td>115.901720</td>\n      <td>-32.056540</td>\n    </tr>\n    <tr>\n      <th>1</th>\n      <td>St Stephen's School - Carramar</td>\n      <td>Carramar</td>\n      <td>115.788280</td>\n      <td>-31.717040</td>\n    </tr>\n    <tr>\n      <th>2</th>\n      <td>Bunbury John Calvin School</td>\n      <td>Carey Park</td>\n      <td>115.649560</td>\n      <td>-33.350970</td>\n    </tr>\n  </tbody>\n</table>\n<p>1140 rows × 4 columns</p>\n</div>"
     },
     "metadata": {},
     "execution_count": 169
    }
   ],
   "source": [
    "# append \"doe_update\" Dataframe to \"doe\" Dataframe\n",
    "school_coordinates = doe.append(doe_update)\n",
    "school_coordinates"
   ]
  },
  {
   "source": [
    "## Open the manually created \"sectors.csv\" file which will be merged to all our datasets from 2016-2020"
   ],
   "cell_type": "markdown",
   "metadata": {}
  },
  {
   "cell_type": "code",
   "execution_count": 170,
   "metadata": {},
   "outputs": [
    {
     "output_type": "execute_result",
     "data": {
      "text/plain": [
       "                              School          Sector Gender   Religion\n",
       "0                   Mercedes College  Non-government  Girls   Catholic\n",
       "1                     Wesley College  Non-government   Boys  Christian\n",
       "2                    Penrhos College  Non-government  Girls    Uniting\n",
       "3                     Newman College  Non-government  Co-ed   Catholic\n",
       "4                 St Norbert College  Non-government  Co-ed   Catholic\n",
       "..                               ...             ...    ...        ...\n",
       "188  Bruce Rock District High School      Government  Co-ed    Secular\n",
       "189                 Shark Bay School      Government  Co-ed    Secular\n",
       "190   Pemberton District High School      Government  Co-ed    Secular\n",
       "191       Bunbury John Calvin School  Non-government  Co-ed  Christian\n",
       "192     Exmouth District High School      Government  Co-ed    Secular\n",
       "\n",
       "[193 rows x 4 columns]"
      ],
      "text/html": "<div>\n<style scoped>\n    .dataframe tbody tr th:only-of-type {\n        vertical-align: middle;\n    }\n\n    .dataframe tbody tr th {\n        vertical-align: top;\n    }\n\n    .dataframe thead th {\n        text-align: right;\n    }\n</style>\n<table border=\"1\" class=\"dataframe\">\n  <thead>\n    <tr style=\"text-align: right;\">\n      <th></th>\n      <th>School</th>\n      <th>Sector</th>\n      <th>Gender</th>\n      <th>Religion</th>\n    </tr>\n  </thead>\n  <tbody>\n    <tr>\n      <th>0</th>\n      <td>Mercedes College</td>\n      <td>Non-government</td>\n      <td>Girls</td>\n      <td>Catholic</td>\n    </tr>\n    <tr>\n      <th>1</th>\n      <td>Wesley College</td>\n      <td>Non-government</td>\n      <td>Boys</td>\n      <td>Christian</td>\n    </tr>\n    <tr>\n      <th>2</th>\n      <td>Penrhos College</td>\n      <td>Non-government</td>\n      <td>Girls</td>\n      <td>Uniting</td>\n    </tr>\n    <tr>\n      <th>3</th>\n      <td>Newman College</td>\n      <td>Non-government</td>\n      <td>Co-ed</td>\n      <td>Catholic</td>\n    </tr>\n    <tr>\n      <th>4</th>\n      <td>St Norbert College</td>\n      <td>Non-government</td>\n      <td>Co-ed</td>\n      <td>Catholic</td>\n    </tr>\n    <tr>\n      <th>...</th>\n      <td>...</td>\n      <td>...</td>\n      <td>...</td>\n      <td>...</td>\n    </tr>\n    <tr>\n      <th>188</th>\n      <td>Bruce Rock District High School</td>\n      <td>Government</td>\n      <td>Co-ed</td>\n      <td>Secular</td>\n    </tr>\n    <tr>\n      <th>189</th>\n      <td>Shark Bay School</td>\n      <td>Government</td>\n      <td>Co-ed</td>\n      <td>Secular</td>\n    </tr>\n    <tr>\n      <th>190</th>\n      <td>Pemberton District High School</td>\n      <td>Government</td>\n      <td>Co-ed</td>\n      <td>Secular</td>\n    </tr>\n    <tr>\n      <th>191</th>\n      <td>Bunbury John Calvin School</td>\n      <td>Non-government</td>\n      <td>Co-ed</td>\n      <td>Christian</td>\n    </tr>\n    <tr>\n      <th>192</th>\n      <td>Exmouth District High School</td>\n      <td>Government</td>\n      <td>Co-ed</td>\n      <td>Secular</td>\n    </tr>\n  </tbody>\n</table>\n<p>193 rows × 4 columns</p>\n</div>"
     },
     "metadata": {},
     "execution_count": 170
    }
   ],
   "source": [
    "# read \"sectors\" csv file\n",
    "sectors = pd.read_csv(\"../Resources/sectors.csv\")\n",
    "sectors"
   ]
  },
  {
   "source": [
    "## Extract/scrape the ATAR WA High School rankings from 2016 - 2020 & create tables which are to be loaded to the SQL database later on"
   ],
   "cell_type": "markdown",
   "metadata": {}
  },
  {
   "cell_type": "code",
   "execution_count": 171,
   "metadata": {},
   "outputs": [
    {
     "output_type": "execute_result",
     "data": {
      "text/plain": [
       "     Year  Better Education Rank                                School  \\\n",
       "0    2020                      1                   Perth Modern School   \n",
       "1    2020                      2  St Hilda's Anglican School for Girls   \n",
       "2    2020                      3          Christ Church Grammar School   \n",
       "3    2020                      4                       Penrhos College   \n",
       "4    2020                      5             Methodist Ladies' College   \n",
       "..    ...                    ...                                   ...   \n",
       "134  2020                    135           Balcatta Senior High School   \n",
       "135  2020                    136         Safety Bay Senior High School   \n",
       "136  2020                    137          Darling Range Sports College   \n",
       "137  2020                    138                       Gilmore College   \n",
       "138  2020                    139                 Cecil Andrews College   \n",
       "\n",
       "     Median ATAR  No. eligible Yr 12 students  No. Students with an ATAR  \\\n",
       "0          97.55                          242                        242   \n",
       "1          92.70                          147                        134   \n",
       "2          92.50                          190                        175   \n",
       "3          90.65                          135                        116   \n",
       "4          90.55                          126                        112   \n",
       "..           ...                          ...                        ...   \n",
       "134        60.40                           76                         20   \n",
       "135        58.75                          115                         23   \n",
       "136        52.40                          129                         44   \n",
       "137        52.25                          141                         23   \n",
       "138        49.85                           77                         20   \n",
       "\n",
       "     % students with an ATAR  Trend / Compare  \n",
       "0                     100.00  Trend / Compare  \n",
       "1                      91.16  Trend / Compare  \n",
       "2                      92.11  Trend / Compare  \n",
       "3                      85.93  Trend / Compare  \n",
       "4                      88.89  Trend / Compare  \n",
       "..                       ...              ...  \n",
       "134                    26.32  Trend / Compare  \n",
       "135                    20.00  Trend / Compare  \n",
       "136                    34.11  Trend / Compare  \n",
       "137                    16.31  Trend / Compare  \n",
       "138                    25.97  Trend / Compare  \n",
       "\n",
       "[139 rows x 8 columns]"
      ],
      "text/html": "<div>\n<style scoped>\n    .dataframe tbody tr th:only-of-type {\n        vertical-align: middle;\n    }\n\n    .dataframe tbody tr th {\n        vertical-align: top;\n    }\n\n    .dataframe thead th {\n        text-align: right;\n    }\n</style>\n<table border=\"1\" class=\"dataframe\">\n  <thead>\n    <tr style=\"text-align: right;\">\n      <th></th>\n      <th>Year</th>\n      <th>Better Education Rank</th>\n      <th>School</th>\n      <th>Median ATAR</th>\n      <th>No. eligible Yr 12 students</th>\n      <th>No. Students with an ATAR</th>\n      <th>% students with an ATAR</th>\n      <th>Trend / Compare</th>\n    </tr>\n  </thead>\n  <tbody>\n    <tr>\n      <th>0</th>\n      <td>2020</td>\n      <td>1</td>\n      <td>Perth Modern School</td>\n      <td>97.55</td>\n      <td>242</td>\n      <td>242</td>\n      <td>100.00</td>\n      <td>Trend / Compare</td>\n    </tr>\n    <tr>\n      <th>1</th>\n      <td>2020</td>\n      <td>2</td>\n      <td>St Hilda's Anglican School for Girls</td>\n      <td>92.70</td>\n      <td>147</td>\n      <td>134</td>\n      <td>91.16</td>\n      <td>Trend / Compare</td>\n    </tr>\n    <tr>\n      <th>2</th>\n      <td>2020</td>\n      <td>3</td>\n      <td>Christ Church Grammar School</td>\n      <td>92.50</td>\n      <td>190</td>\n      <td>175</td>\n      <td>92.11</td>\n      <td>Trend / Compare</td>\n    </tr>\n    <tr>\n      <th>3</th>\n      <td>2020</td>\n      <td>4</td>\n      <td>Penrhos College</td>\n      <td>90.65</td>\n      <td>135</td>\n      <td>116</td>\n      <td>85.93</td>\n      <td>Trend / Compare</td>\n    </tr>\n    <tr>\n      <th>4</th>\n      <td>2020</td>\n      <td>5</td>\n      <td>Methodist Ladies' College</td>\n      <td>90.55</td>\n      <td>126</td>\n      <td>112</td>\n      <td>88.89</td>\n      <td>Trend / Compare</td>\n    </tr>\n    <tr>\n      <th>...</th>\n      <td>...</td>\n      <td>...</td>\n      <td>...</td>\n      <td>...</td>\n      <td>...</td>\n      <td>...</td>\n      <td>...</td>\n      <td>...</td>\n    </tr>\n    <tr>\n      <th>134</th>\n      <td>2020</td>\n      <td>135</td>\n      <td>Balcatta Senior High School</td>\n      <td>60.40</td>\n      <td>76</td>\n      <td>20</td>\n      <td>26.32</td>\n      <td>Trend / Compare</td>\n    </tr>\n    <tr>\n      <th>135</th>\n      <td>2020</td>\n      <td>136</td>\n      <td>Safety Bay Senior High School</td>\n      <td>58.75</td>\n      <td>115</td>\n      <td>23</td>\n      <td>20.00</td>\n      <td>Trend / Compare</td>\n    </tr>\n    <tr>\n      <th>136</th>\n      <td>2020</td>\n      <td>137</td>\n      <td>Darling Range Sports College</td>\n      <td>52.40</td>\n      <td>129</td>\n      <td>44</td>\n      <td>34.11</td>\n      <td>Trend / Compare</td>\n    </tr>\n    <tr>\n      <th>137</th>\n      <td>2020</td>\n      <td>138</td>\n      <td>Gilmore College</td>\n      <td>52.25</td>\n      <td>141</td>\n      <td>23</td>\n      <td>16.31</td>\n      <td>Trend / Compare</td>\n    </tr>\n    <tr>\n      <th>138</th>\n      <td>2020</td>\n      <td>139</td>\n      <td>Cecil Andrews College</td>\n      <td>49.85</td>\n      <td>77</td>\n      <td>20</td>\n      <td>25.97</td>\n      <td>Trend / Compare</td>\n    </tr>\n  </tbody>\n</table>\n<p>139 rows × 8 columns</p>\n</div>"
     },
     "metadata": {},
     "execution_count": 171
    }
   ],
   "source": [
    "# get the 2020 url WA schools\n",
    "url_secondary_wa_2020 =\"https://bettereducation.com.au/Results/WA/wace.aspx?yr=2020\"\n",
    "\n",
    "# Use panda's `read_html` to parse the 2020 ATAR url\n",
    "secondary_wa_2020 = pd.read_html(url_secondary_wa_2020, header=0)[0]\n",
    "\n",
    "# rename the \"Unnamed: 0\" column name\n",
    "secondary_wa_2020 = secondary_wa_2020.rename(columns = {\"Unnamed: 0\" : \"Year\"})\n",
    "\n",
    "# replace the values of the \"Year\" column\n",
    "secondary_wa_2020['Year'] = 2020\n",
    "secondary_wa_2020"
   ]
  },
  {
   "cell_type": "code",
   "execution_count": 172,
   "metadata": {},
   "outputs": [
    {
     "output_type": "execute_result",
     "data": {
      "text/plain": [
       "                                   School  Year  Rank  Median ATAR  \\\n",
       "0                     Perth Modern School  2020     1        97.55   \n",
       "1    St Hilda's Anglican School for Girls  2020     2        92.70   \n",
       "2            Christ Church Grammar School  2020     3        92.50   \n",
       "3                         Penrhos College  2020     4        90.65   \n",
       "4               Methodist Ladies' College  2020     5        90.55   \n",
       "..                                    ...   ...   ...          ...   \n",
       "134           Balcatta Senior High School  2020   135        60.40   \n",
       "135         Safety Bay Senior High School  2020   136        58.75   \n",
       "136          Darling Range Sports College  2020   137        52.40   \n",
       "137                       Gilmore College  2020   138        52.25   \n",
       "138                 Cecil Andrews College  2020   139        49.85   \n",
       "\n",
       "     No. eligible Yr 12 students  No. Students with an ATAR  \\\n",
       "0                            242                        242   \n",
       "1                            147                        134   \n",
       "2                            190                        175   \n",
       "3                            135                        116   \n",
       "4                            126                        112   \n",
       "..                           ...                        ...   \n",
       "134                           76                         20   \n",
       "135                          115                         23   \n",
       "136                          129                         44   \n",
       "137                          141                         23   \n",
       "138                           77                         20   \n",
       "\n",
       "     Percentage of students with an ATAR  \n",
       "0                                 100.00  \n",
       "1                                  91.16  \n",
       "2                                  92.11  \n",
       "3                                  85.93  \n",
       "4                                  88.89  \n",
       "..                                   ...  \n",
       "134                                26.32  \n",
       "135                                20.00  \n",
       "136                                34.11  \n",
       "137                                16.31  \n",
       "138                                25.97  \n",
       "\n",
       "[139 rows x 7 columns]"
      ],
      "text/html": "<div>\n<style scoped>\n    .dataframe tbody tr th:only-of-type {\n        vertical-align: middle;\n    }\n\n    .dataframe tbody tr th {\n        vertical-align: top;\n    }\n\n    .dataframe thead th {\n        text-align: right;\n    }\n</style>\n<table border=\"1\" class=\"dataframe\">\n  <thead>\n    <tr style=\"text-align: right;\">\n      <th></th>\n      <th>School</th>\n      <th>Year</th>\n      <th>Rank</th>\n      <th>Median ATAR</th>\n      <th>No. eligible Yr 12 students</th>\n      <th>No. Students with an ATAR</th>\n      <th>Percentage of students with an ATAR</th>\n    </tr>\n  </thead>\n  <tbody>\n    <tr>\n      <th>0</th>\n      <td>Perth Modern School</td>\n      <td>2020</td>\n      <td>1</td>\n      <td>97.55</td>\n      <td>242</td>\n      <td>242</td>\n      <td>100.00</td>\n    </tr>\n    <tr>\n      <th>1</th>\n      <td>St Hilda's Anglican School for Girls</td>\n      <td>2020</td>\n      <td>2</td>\n      <td>92.70</td>\n      <td>147</td>\n      <td>134</td>\n      <td>91.16</td>\n    </tr>\n    <tr>\n      <th>2</th>\n      <td>Christ Church Grammar School</td>\n      <td>2020</td>\n      <td>3</td>\n      <td>92.50</td>\n      <td>190</td>\n      <td>175</td>\n      <td>92.11</td>\n    </tr>\n    <tr>\n      <th>3</th>\n      <td>Penrhos College</td>\n      <td>2020</td>\n      <td>4</td>\n      <td>90.65</td>\n      <td>135</td>\n      <td>116</td>\n      <td>85.93</td>\n    </tr>\n    <tr>\n      <th>4</th>\n      <td>Methodist Ladies' College</td>\n      <td>2020</td>\n      <td>5</td>\n      <td>90.55</td>\n      <td>126</td>\n      <td>112</td>\n      <td>88.89</td>\n    </tr>\n    <tr>\n      <th>...</th>\n      <td>...</td>\n      <td>...</td>\n      <td>...</td>\n      <td>...</td>\n      <td>...</td>\n      <td>...</td>\n      <td>...</td>\n    </tr>\n    <tr>\n      <th>134</th>\n      <td>Balcatta Senior High School</td>\n      <td>2020</td>\n      <td>135</td>\n      <td>60.40</td>\n      <td>76</td>\n      <td>20</td>\n      <td>26.32</td>\n    </tr>\n    <tr>\n      <th>135</th>\n      <td>Safety Bay Senior High School</td>\n      <td>2020</td>\n      <td>136</td>\n      <td>58.75</td>\n      <td>115</td>\n      <td>23</td>\n      <td>20.00</td>\n    </tr>\n    <tr>\n      <th>136</th>\n      <td>Darling Range Sports College</td>\n      <td>2020</td>\n      <td>137</td>\n      <td>52.40</td>\n      <td>129</td>\n      <td>44</td>\n      <td>34.11</td>\n    </tr>\n    <tr>\n      <th>137</th>\n      <td>Gilmore College</td>\n      <td>2020</td>\n      <td>138</td>\n      <td>52.25</td>\n      <td>141</td>\n      <td>23</td>\n      <td>16.31</td>\n    </tr>\n    <tr>\n      <th>138</th>\n      <td>Cecil Andrews College</td>\n      <td>2020</td>\n      <td>139</td>\n      <td>49.85</td>\n      <td>77</td>\n      <td>20</td>\n      <td>25.97</td>\n    </tr>\n  </tbody>\n</table>\n<p>139 rows × 7 columns</p>\n</div>"
     },
     "metadata": {},
     "execution_count": 172
    }
   ],
   "source": [
    "# rename some column names to prevent issues when uploading the data to PostgreSQL later on (eg. % will cause an error)\n",
    "secondary_wa_2020 = secondary_wa_2020.rename(columns = {\"Better Education Rank\" : \"Rank\",\n",
    "                                                          \"% students with an ATAR\" : \"Percentage of students with an ATAR\"})\n",
    "\n",
    "# re-arrange the columns & delete the column \"Trend / Compare\" since it's not required\n",
    "secondary_wa_2020 = secondary_wa_2020[['School', 'Year', 'Rank', 'Median ATAR','No. eligible Yr 12 students', 'No. Students with an ATAR', 'Percentage of students with an ATAR']]\n",
    "secondary_wa_2020"
   ]
  },
  {
   "cell_type": "code",
   "execution_count": 173,
   "metadata": {},
   "outputs": [],
   "source": [
    "# replace some values to correct the spelling to prevent Null values when performing the merge with other Dataframes later on\n",
    "secondary_wa_2020[\"School\"].replace({\"Australian Islamic College\": \"Australian Islamic College - Dianella\", \n",
    "                       \"Christian Brothers College,Fremantle,WA,6160\": \"Christian Brothers' College\",\n",
    "                       \"Australian Islamic College (Kewdale)\": \"Australian Islamic College - Kewdale\",\n",
    "                       \"Serpentine-Jarrahdale Grammar School\": \"Court Grammar School\",\n",
    "                       \"Western Australian College of Agriculture (Cunderdin)\": \"Western Australian College Of Agriculture - Cunderdin\",\n",
    "                       \"Carey Baptist College,Harrisdale,WA,6112\": \"Carey Baptist College\",\n",
    "                       \"St Mary MacKillop College\": \"St Mary Mackillop College\",\n",
    "                       \"John Curtin College Of The Arts\": \"John Curtin College of The Arts\",\n",
    "                       \"St Stephen's School (Carramar)\": \"St Stephen's School - Carramar\",\n",
    "                       \"St Stephen's School (Duncraig)\": \"St Stephen's School - Duncraig\",\n",
    "                       \"St Stephen's School\": \"St Stephen's School - Carramar\",\n",
    "                       \"Irene McCormack Catholic Colle\": \"Irene McCormack Catholic College\",\n",
    "                       \"Swan Valley Anglican Community\": \"Swan Valley Anglican Community School\",\n",
    "                       \"John Curtin College Of The Arts\": \"John Curtin College of the Arts\",\n",
    "                       \"Peter Moyes Anglican Community\": \"Peter Moyes Anglican Community School\",\n",
    "                       \"Great Southern Grammar School\": \"Great Southern Grammar\"\n",
    "                        }, inplace=True)"
   ]
  },
  {
   "cell_type": "code",
   "execution_count": 174,
   "metadata": {},
   "outputs": [
    {
     "output_type": "execute_result",
     "data": {
      "text/plain": [
       "                                   School  Year  Rank  Median ATAR  \\\n",
       "0                     Perth Modern School  2020     1        97.55   \n",
       "1    St Hilda's Anglican School for Girls  2020     2        92.70   \n",
       "2            Christ Church Grammar School  2020     3        92.50   \n",
       "3                         Penrhos College  2020     4        90.65   \n",
       "4               Methodist Ladies' College  2020     5        90.55   \n",
       "..                                    ...   ...   ...          ...   \n",
       "134           Balcatta Senior High School  2020   135        60.40   \n",
       "135         Safety Bay Senior High School  2020   136        58.75   \n",
       "136          Darling Range Sports College  2020   137        52.40   \n",
       "137                       Gilmore College  2020   138        52.25   \n",
       "138                 Cecil Andrews College  2020   139        49.85   \n",
       "\n",
       "     No. eligible Yr 12 students  No. Students with an ATAR  \\\n",
       "0                            242                        242   \n",
       "1                            147                        134   \n",
       "2                            190                        175   \n",
       "3                            135                        116   \n",
       "4                            126                        112   \n",
       "..                           ...                        ...   \n",
       "134                           76                         20   \n",
       "135                          115                         23   \n",
       "136                          129                         44   \n",
       "137                          141                         23   \n",
       "138                           77                         20   \n",
       "\n",
       "     Percentage of students with an ATAR        Suburb   Longitude   Latitude  \n",
       "0                                 100.00       Subiaco  115.836396 -31.945066  \n",
       "1                                  91.16   Mosman Park  115.767812 -32.005047  \n",
       "2                                  92.11     Claremont  115.776987 -31.985461  \n",
       "3                                  85.93          Como  115.872539 -31.997431  \n",
       "4                                  88.89     Claremont  115.775540 -31.987012  \n",
       "..                                   ...           ...         ...        ...  \n",
       "134                                26.32      Balcatta  115.812243 -31.875517  \n",
       "135                                20.00    Safety Bay  115.740964 -32.303286  \n",
       "136                                34.11  Forrestfield  116.010860 -31.975661  \n",
       "137                                16.31        Orelia  115.814803 -32.238266  \n",
       "138                                25.97      Armadale  115.991883 -32.141187  \n",
       "\n",
       "[139 rows x 10 columns]"
      ],
      "text/html": "<div>\n<style scoped>\n    .dataframe tbody tr th:only-of-type {\n        vertical-align: middle;\n    }\n\n    .dataframe tbody tr th {\n        vertical-align: top;\n    }\n\n    .dataframe thead th {\n        text-align: right;\n    }\n</style>\n<table border=\"1\" class=\"dataframe\">\n  <thead>\n    <tr style=\"text-align: right;\">\n      <th></th>\n      <th>School</th>\n      <th>Year</th>\n      <th>Rank</th>\n      <th>Median ATAR</th>\n      <th>No. eligible Yr 12 students</th>\n      <th>No. Students with an ATAR</th>\n      <th>Percentage of students with an ATAR</th>\n      <th>Suburb</th>\n      <th>Longitude</th>\n      <th>Latitude</th>\n    </tr>\n  </thead>\n  <tbody>\n    <tr>\n      <th>0</th>\n      <td>Perth Modern School</td>\n      <td>2020</td>\n      <td>1</td>\n      <td>97.55</td>\n      <td>242</td>\n      <td>242</td>\n      <td>100.00</td>\n      <td>Subiaco</td>\n      <td>115.836396</td>\n      <td>-31.945066</td>\n    </tr>\n    <tr>\n      <th>1</th>\n      <td>St Hilda's Anglican School for Girls</td>\n      <td>2020</td>\n      <td>2</td>\n      <td>92.70</td>\n      <td>147</td>\n      <td>134</td>\n      <td>91.16</td>\n      <td>Mosman Park</td>\n      <td>115.767812</td>\n      <td>-32.005047</td>\n    </tr>\n    <tr>\n      <th>2</th>\n      <td>Christ Church Grammar School</td>\n      <td>2020</td>\n      <td>3</td>\n      <td>92.50</td>\n      <td>190</td>\n      <td>175</td>\n      <td>92.11</td>\n      <td>Claremont</td>\n      <td>115.776987</td>\n      <td>-31.985461</td>\n    </tr>\n    <tr>\n      <th>3</th>\n      <td>Penrhos College</td>\n      <td>2020</td>\n      <td>4</td>\n      <td>90.65</td>\n      <td>135</td>\n      <td>116</td>\n      <td>85.93</td>\n      <td>Como</td>\n      <td>115.872539</td>\n      <td>-31.997431</td>\n    </tr>\n    <tr>\n      <th>4</th>\n      <td>Methodist Ladies' College</td>\n      <td>2020</td>\n      <td>5</td>\n      <td>90.55</td>\n      <td>126</td>\n      <td>112</td>\n      <td>88.89</td>\n      <td>Claremont</td>\n      <td>115.775540</td>\n      <td>-31.987012</td>\n    </tr>\n    <tr>\n      <th>...</th>\n      <td>...</td>\n      <td>...</td>\n      <td>...</td>\n      <td>...</td>\n      <td>...</td>\n      <td>...</td>\n      <td>...</td>\n      <td>...</td>\n      <td>...</td>\n      <td>...</td>\n    </tr>\n    <tr>\n      <th>134</th>\n      <td>Balcatta Senior High School</td>\n      <td>2020</td>\n      <td>135</td>\n      <td>60.40</td>\n      <td>76</td>\n      <td>20</td>\n      <td>26.32</td>\n      <td>Balcatta</td>\n      <td>115.812243</td>\n      <td>-31.875517</td>\n    </tr>\n    <tr>\n      <th>135</th>\n      <td>Safety Bay Senior High School</td>\n      <td>2020</td>\n      <td>136</td>\n      <td>58.75</td>\n      <td>115</td>\n      <td>23</td>\n      <td>20.00</td>\n      <td>Safety Bay</td>\n      <td>115.740964</td>\n      <td>-32.303286</td>\n    </tr>\n    <tr>\n      <th>136</th>\n      <td>Darling Range Sports College</td>\n      <td>2020</td>\n      <td>137</td>\n      <td>52.40</td>\n      <td>129</td>\n      <td>44</td>\n      <td>34.11</td>\n      <td>Forrestfield</td>\n      <td>116.010860</td>\n      <td>-31.975661</td>\n    </tr>\n    <tr>\n      <th>137</th>\n      <td>Gilmore College</td>\n      <td>2020</td>\n      <td>138</td>\n      <td>52.25</td>\n      <td>141</td>\n      <td>23</td>\n      <td>16.31</td>\n      <td>Orelia</td>\n      <td>115.814803</td>\n      <td>-32.238266</td>\n    </tr>\n    <tr>\n      <th>138</th>\n      <td>Cecil Andrews College</td>\n      <td>2020</td>\n      <td>139</td>\n      <td>49.85</td>\n      <td>77</td>\n      <td>20</td>\n      <td>25.97</td>\n      <td>Armadale</td>\n      <td>115.991883</td>\n      <td>-32.141187</td>\n    </tr>\n  </tbody>\n</table>\n<p>139 rows × 10 columns</p>\n</div>"
     },
     "metadata": {},
     "execution_count": 174
    }
   ],
   "source": [
    "# Merge \"secondary_wa_2020\" & \"school_coordinates\" Dataframes\n",
    "wa_hs_atar_2020_coord = pd.merge(secondary_wa_2020, school_coordinates, on='School', how='left')\n",
    "wa_hs_atar_2020_coord"
   ]
  },
  {
   "cell_type": "code",
   "execution_count": 175,
   "metadata": {},
   "outputs": [
    {
     "output_type": "execute_result",
     "data": {
      "text/plain": [
       "Empty DataFrame\n",
       "Columns: [School, Year, Rank, Median ATAR, No. eligible Yr 12 students, No. Students with an ATAR, Percentage of students with an ATAR, Suburb, Longitude, Latitude]\n",
       "Index: []"
      ],
      "text/html": "<div>\n<style scoped>\n    .dataframe tbody tr th:only-of-type {\n        vertical-align: middle;\n    }\n\n    .dataframe tbody tr th {\n        vertical-align: top;\n    }\n\n    .dataframe thead th {\n        text-align: right;\n    }\n</style>\n<table border=\"1\" class=\"dataframe\">\n  <thead>\n    <tr style=\"text-align: right;\">\n      <th></th>\n      <th>School</th>\n      <th>Year</th>\n      <th>Rank</th>\n      <th>Median ATAR</th>\n      <th>No. eligible Yr 12 students</th>\n      <th>No. Students with an ATAR</th>\n      <th>Percentage of students with an ATAR</th>\n      <th>Suburb</th>\n      <th>Longitude</th>\n      <th>Latitude</th>\n    </tr>\n  </thead>\n  <tbody>\n  </tbody>\n</table>\n</div>"
     },
     "metadata": {},
     "execution_count": 175
    }
   ],
   "source": [
    "# Check for NaN values\n",
    "# creating bool series True for NaN values  \n",
    "bool_series = pd.isnull(wa_hs_atar_2020_coord[\"Longitude\"])  \n",
    "    \n",
    "# filtering data  \n",
    "# displaying data only with Gender = NaN  \n",
    "wa_hs_atar_2020_coord[bool_series]"
   ]
  },
  {
   "cell_type": "code",
   "execution_count": 176,
   "metadata": {},
   "outputs": [
    {
     "output_type": "execute_result",
     "data": {
      "text/plain": [
       "                                   School  Year  Rank  Median ATAR  \\\n",
       "0                     Perth Modern School  2020     1        97.55   \n",
       "1    St Hilda's Anglican School for Girls  2020     2        92.70   \n",
       "2            Christ Church Grammar School  2020     3        92.50   \n",
       "3                         Penrhos College  2020     4        90.65   \n",
       "4               Methodist Ladies' College  2020     5        90.55   \n",
       "..                                    ...   ...   ...          ...   \n",
       "134           Balcatta Senior High School  2020   135        60.40   \n",
       "135         Safety Bay Senior High School  2020   136        58.75   \n",
       "136          Darling Range Sports College  2020   137        52.40   \n",
       "137                       Gilmore College  2020   138        52.25   \n",
       "138                 Cecil Andrews College  2020   139        49.85   \n",
       "\n",
       "     No. eligible Yr 12 students  No. Students with an ATAR  \\\n",
       "0                            242                        242   \n",
       "1                            147                        134   \n",
       "2                            190                        175   \n",
       "3                            135                        116   \n",
       "4                            126                        112   \n",
       "..                           ...                        ...   \n",
       "134                           76                         20   \n",
       "135                          115                         23   \n",
       "136                          129                         44   \n",
       "137                          141                         23   \n",
       "138                           77                         20   \n",
       "\n",
       "     Percentage of students with an ATAR        Suburb   Longitude   Latitude  \\\n",
       "0                                 100.00       Subiaco  115.836396 -31.945066   \n",
       "1                                  91.16   Mosman Park  115.767812 -32.005047   \n",
       "2                                  92.11     Claremont  115.776987 -31.985461   \n",
       "3                                  85.93          Como  115.872539 -31.997431   \n",
       "4                                  88.89     Claremont  115.775540 -31.987012   \n",
       "..                                   ...           ...         ...        ...   \n",
       "134                                26.32      Balcatta  115.812243 -31.875517   \n",
       "135                                20.00    Safety Bay  115.740964 -32.303286   \n",
       "136                                34.11  Forrestfield  116.010860 -31.975661   \n",
       "137                                16.31        Orelia  115.814803 -32.238266   \n",
       "138                                25.97      Armadale  115.991883 -32.141187   \n",
       "\n",
       "             Sector Gender   Religion  \n",
       "0        Government  Co-ed    Secular  \n",
       "1    Non-government  Girls   Anglican  \n",
       "2    Non-government   Boys   Anglican  \n",
       "3    Non-government  Girls    Uniting  \n",
       "4    Non-government  Girls  Methodist  \n",
       "..              ...    ...        ...  \n",
       "134      Government  Co-ed    Secular  \n",
       "135      Government  Co-ed    Secular  \n",
       "136      Government  Co-ed    Secular  \n",
       "137      Government  Co-ed    Secular  \n",
       "138      Government  Co-ed    Secular  \n",
       "\n",
       "[139 rows x 13 columns]"
      ],
      "text/html": "<div>\n<style scoped>\n    .dataframe tbody tr th:only-of-type {\n        vertical-align: middle;\n    }\n\n    .dataframe tbody tr th {\n        vertical-align: top;\n    }\n\n    .dataframe thead th {\n        text-align: right;\n    }\n</style>\n<table border=\"1\" class=\"dataframe\">\n  <thead>\n    <tr style=\"text-align: right;\">\n      <th></th>\n      <th>School</th>\n      <th>Year</th>\n      <th>Rank</th>\n      <th>Median ATAR</th>\n      <th>No. eligible Yr 12 students</th>\n      <th>No. Students with an ATAR</th>\n      <th>Percentage of students with an ATAR</th>\n      <th>Suburb</th>\n      <th>Longitude</th>\n      <th>Latitude</th>\n      <th>Sector</th>\n      <th>Gender</th>\n      <th>Religion</th>\n    </tr>\n  </thead>\n  <tbody>\n    <tr>\n      <th>0</th>\n      <td>Perth Modern School</td>\n      <td>2020</td>\n      <td>1</td>\n      <td>97.55</td>\n      <td>242</td>\n      <td>242</td>\n      <td>100.00</td>\n      <td>Subiaco</td>\n      <td>115.836396</td>\n      <td>-31.945066</td>\n      <td>Government</td>\n      <td>Co-ed</td>\n      <td>Secular</td>\n    </tr>\n    <tr>\n      <th>1</th>\n      <td>St Hilda's Anglican School for Girls</td>\n      <td>2020</td>\n      <td>2</td>\n      <td>92.70</td>\n      <td>147</td>\n      <td>134</td>\n      <td>91.16</td>\n      <td>Mosman Park</td>\n      <td>115.767812</td>\n      <td>-32.005047</td>\n      <td>Non-government</td>\n      <td>Girls</td>\n      <td>Anglican</td>\n    </tr>\n    <tr>\n      <th>2</th>\n      <td>Christ Church Grammar School</td>\n      <td>2020</td>\n      <td>3</td>\n      <td>92.50</td>\n      <td>190</td>\n      <td>175</td>\n      <td>92.11</td>\n      <td>Claremont</td>\n      <td>115.776987</td>\n      <td>-31.985461</td>\n      <td>Non-government</td>\n      <td>Boys</td>\n      <td>Anglican</td>\n    </tr>\n    <tr>\n      <th>3</th>\n      <td>Penrhos College</td>\n      <td>2020</td>\n      <td>4</td>\n      <td>90.65</td>\n      <td>135</td>\n      <td>116</td>\n      <td>85.93</td>\n      <td>Como</td>\n      <td>115.872539</td>\n      <td>-31.997431</td>\n      <td>Non-government</td>\n      <td>Girls</td>\n      <td>Uniting</td>\n    </tr>\n    <tr>\n      <th>4</th>\n      <td>Methodist Ladies' College</td>\n      <td>2020</td>\n      <td>5</td>\n      <td>90.55</td>\n      <td>126</td>\n      <td>112</td>\n      <td>88.89</td>\n      <td>Claremont</td>\n      <td>115.775540</td>\n      <td>-31.987012</td>\n      <td>Non-government</td>\n      <td>Girls</td>\n      <td>Methodist</td>\n    </tr>\n    <tr>\n      <th>...</th>\n      <td>...</td>\n      <td>...</td>\n      <td>...</td>\n      <td>...</td>\n      <td>...</td>\n      <td>...</td>\n      <td>...</td>\n      <td>...</td>\n      <td>...</td>\n      <td>...</td>\n      <td>...</td>\n      <td>...</td>\n      <td>...</td>\n    </tr>\n    <tr>\n      <th>134</th>\n      <td>Balcatta Senior High School</td>\n      <td>2020</td>\n      <td>135</td>\n      <td>60.40</td>\n      <td>76</td>\n      <td>20</td>\n      <td>26.32</td>\n      <td>Balcatta</td>\n      <td>115.812243</td>\n      <td>-31.875517</td>\n      <td>Government</td>\n      <td>Co-ed</td>\n      <td>Secular</td>\n    </tr>\n    <tr>\n      <th>135</th>\n      <td>Safety Bay Senior High School</td>\n      <td>2020</td>\n      <td>136</td>\n      <td>58.75</td>\n      <td>115</td>\n      <td>23</td>\n      <td>20.00</td>\n      <td>Safety Bay</td>\n      <td>115.740964</td>\n      <td>-32.303286</td>\n      <td>Government</td>\n      <td>Co-ed</td>\n      <td>Secular</td>\n    </tr>\n    <tr>\n      <th>136</th>\n      <td>Darling Range Sports College</td>\n      <td>2020</td>\n      <td>137</td>\n      <td>52.40</td>\n      <td>129</td>\n      <td>44</td>\n      <td>34.11</td>\n      <td>Forrestfield</td>\n      <td>116.010860</td>\n      <td>-31.975661</td>\n      <td>Government</td>\n      <td>Co-ed</td>\n      <td>Secular</td>\n    </tr>\n    <tr>\n      <th>137</th>\n      <td>Gilmore College</td>\n      <td>2020</td>\n      <td>138</td>\n      <td>52.25</td>\n      <td>141</td>\n      <td>23</td>\n      <td>16.31</td>\n      <td>Orelia</td>\n      <td>115.814803</td>\n      <td>-32.238266</td>\n      <td>Government</td>\n      <td>Co-ed</td>\n      <td>Secular</td>\n    </tr>\n    <tr>\n      <th>138</th>\n      <td>Cecil Andrews College</td>\n      <td>2020</td>\n      <td>139</td>\n      <td>49.85</td>\n      <td>77</td>\n      <td>20</td>\n      <td>25.97</td>\n      <td>Armadale</td>\n      <td>115.991883</td>\n      <td>-32.141187</td>\n      <td>Government</td>\n      <td>Co-ed</td>\n      <td>Secular</td>\n    </tr>\n  </tbody>\n</table>\n<p>139 rows × 13 columns</p>\n</div>"
     },
     "metadata": {},
     "execution_count": 176
    }
   ],
   "source": [
    "# Merge both \"wa_hs_atar_2020_coord\" & \"sectors\" Dataframes\n",
    "wa_hs_atar_2020 = pd.merge(wa_hs_atar_2020_coord, sectors, on='School', how='left')\n",
    "wa_hs_atar_2020"
   ]
  },
  {
   "cell_type": "code",
   "execution_count": 177,
   "metadata": {},
   "outputs": [
    {
     "output_type": "execute_result",
     "data": {
      "text/plain": [
       "Empty DataFrame\n",
       "Columns: [School, Year, Rank, Median ATAR, No. eligible Yr 12 students, No. Students with an ATAR, Percentage of students with an ATAR, Suburb, Longitude, Latitude, Sector, Gender, Religion]\n",
       "Index: []"
      ],
      "text/html": "<div>\n<style scoped>\n    .dataframe tbody tr th:only-of-type {\n        vertical-align: middle;\n    }\n\n    .dataframe tbody tr th {\n        vertical-align: top;\n    }\n\n    .dataframe thead th {\n        text-align: right;\n    }\n</style>\n<table border=\"1\" class=\"dataframe\">\n  <thead>\n    <tr style=\"text-align: right;\">\n      <th></th>\n      <th>School</th>\n      <th>Year</th>\n      <th>Rank</th>\n      <th>Median ATAR</th>\n      <th>No. eligible Yr 12 students</th>\n      <th>No. Students with an ATAR</th>\n      <th>Percentage of students with an ATAR</th>\n      <th>Suburb</th>\n      <th>Longitude</th>\n      <th>Latitude</th>\n      <th>Sector</th>\n      <th>Gender</th>\n      <th>Religion</th>\n    </tr>\n  </thead>\n  <tbody>\n  </tbody>\n</table>\n</div>"
     },
     "metadata": {},
     "execution_count": 177
    }
   ],
   "source": [
    "# Check for NaN values\n",
    "# creating bool series True for NaN values  \n",
    "bool_series = pd.isnull(wa_hs_atar_2020[\"Sector\"])  \n",
    "    \n",
    "# filtering data  \n",
    "# displaying data only with Gender = NaN  \n",
    "wa_hs_atar_2020[bool_series]"
   ]
  },
  {
   "cell_type": "code",
   "execution_count": 178,
   "metadata": {},
   "outputs": [
    {
     "output_type": "execute_result",
     "data": {
      "text/plain": [
       "     Year  Better Education Rank                            School  \\\n",
       "0    2019                      1               Perth Modern School   \n",
       "1    2019                      2                       Hale School   \n",
       "2    2019                      3      Christ Church Grammar School   \n",
       "3    2019                      4  St Mary's Anglican Girls' School   \n",
       "4    2019                      5      Presbyterian Ladies' College   \n",
       "..    ...                    ...                               ...   \n",
       "137  2019                    138        Warwick Senior High School   \n",
       "138  2019                    139          Byford Secondary College   \n",
       "139  2019                    140        Hedland Senior High School   \n",
       "140  2019                    141                  Merredin College   \n",
       "141  2019                    142    Joseph Banks Secondary College   \n",
       "\n",
       "     Median ATAR  No. eligible Yr 12 students  No. Students with an ATAR  \\\n",
       "0          96.75                          241                        238   \n",
       "1          92.85                          201                        177   \n",
       "2          92.50                          199                        178   \n",
       "3          91.15                          161                        137   \n",
       "4          90.75                          123                        116   \n",
       "..           ...                          ...                        ...   \n",
       "137        60.80                           77                         24   \n",
       "138        60.00                          134                         45   \n",
       "139        55.95                           80                         21   \n",
       "140        55.20                           54                         23   \n",
       "141        41.85                          171                         68   \n",
       "\n",
       "     % students with an ATAR  Trend / Compare  \n",
       "0                      98.76  Trend / Compare  \n",
       "1                      88.06  Trend / Compare  \n",
       "2                      89.45  Trend / Compare  \n",
       "3                      85.09  Trend / Compare  \n",
       "4                      94.31  Trend / Compare  \n",
       "..                       ...              ...  \n",
       "137                    31.17  Trend / Compare  \n",
       "138                    33.58  Trend / Compare  \n",
       "139                    26.25  Trend / Compare  \n",
       "140                    42.59  Trend / Compare  \n",
       "141                    39.77  Trend / Compare  \n",
       "\n",
       "[142 rows x 8 columns]"
      ],
      "text/html": "<div>\n<style scoped>\n    .dataframe tbody tr th:only-of-type {\n        vertical-align: middle;\n    }\n\n    .dataframe tbody tr th {\n        vertical-align: top;\n    }\n\n    .dataframe thead th {\n        text-align: right;\n    }\n</style>\n<table border=\"1\" class=\"dataframe\">\n  <thead>\n    <tr style=\"text-align: right;\">\n      <th></th>\n      <th>Year</th>\n      <th>Better Education Rank</th>\n      <th>School</th>\n      <th>Median ATAR</th>\n      <th>No. eligible Yr 12 students</th>\n      <th>No. Students with an ATAR</th>\n      <th>% students with an ATAR</th>\n      <th>Trend / Compare</th>\n    </tr>\n  </thead>\n  <tbody>\n    <tr>\n      <th>0</th>\n      <td>2019</td>\n      <td>1</td>\n      <td>Perth Modern School</td>\n      <td>96.75</td>\n      <td>241</td>\n      <td>238</td>\n      <td>98.76</td>\n      <td>Trend / Compare</td>\n    </tr>\n    <tr>\n      <th>1</th>\n      <td>2019</td>\n      <td>2</td>\n      <td>Hale School</td>\n      <td>92.85</td>\n      <td>201</td>\n      <td>177</td>\n      <td>88.06</td>\n      <td>Trend / Compare</td>\n    </tr>\n    <tr>\n      <th>2</th>\n      <td>2019</td>\n      <td>3</td>\n      <td>Christ Church Grammar School</td>\n      <td>92.50</td>\n      <td>199</td>\n      <td>178</td>\n      <td>89.45</td>\n      <td>Trend / Compare</td>\n    </tr>\n    <tr>\n      <th>3</th>\n      <td>2019</td>\n      <td>4</td>\n      <td>St Mary's Anglican Girls' School</td>\n      <td>91.15</td>\n      <td>161</td>\n      <td>137</td>\n      <td>85.09</td>\n      <td>Trend / Compare</td>\n    </tr>\n    <tr>\n      <th>4</th>\n      <td>2019</td>\n      <td>5</td>\n      <td>Presbyterian Ladies' College</td>\n      <td>90.75</td>\n      <td>123</td>\n      <td>116</td>\n      <td>94.31</td>\n      <td>Trend / Compare</td>\n    </tr>\n    <tr>\n      <th>...</th>\n      <td>...</td>\n      <td>...</td>\n      <td>...</td>\n      <td>...</td>\n      <td>...</td>\n      <td>...</td>\n      <td>...</td>\n      <td>...</td>\n    </tr>\n    <tr>\n      <th>137</th>\n      <td>2019</td>\n      <td>138</td>\n      <td>Warwick Senior High School</td>\n      <td>60.80</td>\n      <td>77</td>\n      <td>24</td>\n      <td>31.17</td>\n      <td>Trend / Compare</td>\n    </tr>\n    <tr>\n      <th>138</th>\n      <td>2019</td>\n      <td>139</td>\n      <td>Byford Secondary College</td>\n      <td>60.00</td>\n      <td>134</td>\n      <td>45</td>\n      <td>33.58</td>\n      <td>Trend / Compare</td>\n    </tr>\n    <tr>\n      <th>139</th>\n      <td>2019</td>\n      <td>140</td>\n      <td>Hedland Senior High School</td>\n      <td>55.95</td>\n      <td>80</td>\n      <td>21</td>\n      <td>26.25</td>\n      <td>Trend / Compare</td>\n    </tr>\n    <tr>\n      <th>140</th>\n      <td>2019</td>\n      <td>141</td>\n      <td>Merredin College</td>\n      <td>55.20</td>\n      <td>54</td>\n      <td>23</td>\n      <td>42.59</td>\n      <td>Trend / Compare</td>\n    </tr>\n    <tr>\n      <th>141</th>\n      <td>2019</td>\n      <td>142</td>\n      <td>Joseph Banks Secondary College</td>\n      <td>41.85</td>\n      <td>171</td>\n      <td>68</td>\n      <td>39.77</td>\n      <td>Trend / Compare</td>\n    </tr>\n  </tbody>\n</table>\n<p>142 rows × 8 columns</p>\n</div>"
     },
     "metadata": {},
     "execution_count": 178
    }
   ],
   "source": [
    "# get the 2019 url WA schools\n",
    "url_secondary_wa_2019 =\"https://bettereducation.com.au/Results/WA/wace.aspx?yr=2019\"\n",
    "\n",
    "# Use panda's `read_html` to parse the 2019 ATAR url\n",
    "secondary_wa_2019 = pd.read_html(url_secondary_wa_2019, header=0)[0]\n",
    "\n",
    "# rename the \"Unnamed: 0\" column name\n",
    "secondary_wa_2019 = secondary_wa_2019.rename(columns = {\"Unnamed: 0\" : \"Year\"})\n",
    "\n",
    "# replace the values of the \"Year\" column\n",
    "secondary_wa_2019['Year'] = 2019\n",
    "secondary_wa_2019"
   ]
  },
  {
   "cell_type": "code",
   "execution_count": 179,
   "metadata": {},
   "outputs": [
    {
     "output_type": "execute_result",
     "data": {
      "text/plain": [
       "                               School  Year  Rank  Median ATAR  \\\n",
       "0                 Perth Modern School  2019     1        96.75   \n",
       "1                         Hale School  2019     2        92.85   \n",
       "2        Christ Church Grammar School  2019     3        92.50   \n",
       "3    St Mary's Anglican Girls' School  2019     4        91.15   \n",
       "4        Presbyterian Ladies' College  2019     5        90.75   \n",
       "..                                ...   ...   ...          ...   \n",
       "137        Warwick Senior High School  2019   138        60.80   \n",
       "138          Byford Secondary College  2019   139        60.00   \n",
       "139        Hedland Senior High School  2019   140        55.95   \n",
       "140                  Merredin College  2019   141        55.20   \n",
       "141    Joseph Banks Secondary College  2019   142        41.85   \n",
       "\n",
       "     No. eligible Yr 12 students  No. Students with an ATAR  \\\n",
       "0                            241                        238   \n",
       "1                            201                        177   \n",
       "2                            199                        178   \n",
       "3                            161                        137   \n",
       "4                            123                        116   \n",
       "..                           ...                        ...   \n",
       "137                           77                         24   \n",
       "138                          134                         45   \n",
       "139                           80                         21   \n",
       "140                           54                         23   \n",
       "141                          171                         68   \n",
       "\n",
       "     Percentage of students with an ATAR  \n",
       "0                                  98.76  \n",
       "1                                  88.06  \n",
       "2                                  89.45  \n",
       "3                                  85.09  \n",
       "4                                  94.31  \n",
       "..                                   ...  \n",
       "137                                31.17  \n",
       "138                                33.58  \n",
       "139                                26.25  \n",
       "140                                42.59  \n",
       "141                                39.77  \n",
       "\n",
       "[142 rows x 7 columns]"
      ],
      "text/html": "<div>\n<style scoped>\n    .dataframe tbody tr th:only-of-type {\n        vertical-align: middle;\n    }\n\n    .dataframe tbody tr th {\n        vertical-align: top;\n    }\n\n    .dataframe thead th {\n        text-align: right;\n    }\n</style>\n<table border=\"1\" class=\"dataframe\">\n  <thead>\n    <tr style=\"text-align: right;\">\n      <th></th>\n      <th>School</th>\n      <th>Year</th>\n      <th>Rank</th>\n      <th>Median ATAR</th>\n      <th>No. eligible Yr 12 students</th>\n      <th>No. Students with an ATAR</th>\n      <th>Percentage of students with an ATAR</th>\n    </tr>\n  </thead>\n  <tbody>\n    <tr>\n      <th>0</th>\n      <td>Perth Modern School</td>\n      <td>2019</td>\n      <td>1</td>\n      <td>96.75</td>\n      <td>241</td>\n      <td>238</td>\n      <td>98.76</td>\n    </tr>\n    <tr>\n      <th>1</th>\n      <td>Hale School</td>\n      <td>2019</td>\n      <td>2</td>\n      <td>92.85</td>\n      <td>201</td>\n      <td>177</td>\n      <td>88.06</td>\n    </tr>\n    <tr>\n      <th>2</th>\n      <td>Christ Church Grammar School</td>\n      <td>2019</td>\n      <td>3</td>\n      <td>92.50</td>\n      <td>199</td>\n      <td>178</td>\n      <td>89.45</td>\n    </tr>\n    <tr>\n      <th>3</th>\n      <td>St Mary's Anglican Girls' School</td>\n      <td>2019</td>\n      <td>4</td>\n      <td>91.15</td>\n      <td>161</td>\n      <td>137</td>\n      <td>85.09</td>\n    </tr>\n    <tr>\n      <th>4</th>\n      <td>Presbyterian Ladies' College</td>\n      <td>2019</td>\n      <td>5</td>\n      <td>90.75</td>\n      <td>123</td>\n      <td>116</td>\n      <td>94.31</td>\n    </tr>\n    <tr>\n      <th>...</th>\n      <td>...</td>\n      <td>...</td>\n      <td>...</td>\n      <td>...</td>\n      <td>...</td>\n      <td>...</td>\n      <td>...</td>\n    </tr>\n    <tr>\n      <th>137</th>\n      <td>Warwick Senior High School</td>\n      <td>2019</td>\n      <td>138</td>\n      <td>60.80</td>\n      <td>77</td>\n      <td>24</td>\n      <td>31.17</td>\n    </tr>\n    <tr>\n      <th>138</th>\n      <td>Byford Secondary College</td>\n      <td>2019</td>\n      <td>139</td>\n      <td>60.00</td>\n      <td>134</td>\n      <td>45</td>\n      <td>33.58</td>\n    </tr>\n    <tr>\n      <th>139</th>\n      <td>Hedland Senior High School</td>\n      <td>2019</td>\n      <td>140</td>\n      <td>55.95</td>\n      <td>80</td>\n      <td>21</td>\n      <td>26.25</td>\n    </tr>\n    <tr>\n      <th>140</th>\n      <td>Merredin College</td>\n      <td>2019</td>\n      <td>141</td>\n      <td>55.20</td>\n      <td>54</td>\n      <td>23</td>\n      <td>42.59</td>\n    </tr>\n    <tr>\n      <th>141</th>\n      <td>Joseph Banks Secondary College</td>\n      <td>2019</td>\n      <td>142</td>\n      <td>41.85</td>\n      <td>171</td>\n      <td>68</td>\n      <td>39.77</td>\n    </tr>\n  </tbody>\n</table>\n<p>142 rows × 7 columns</p>\n</div>"
     },
     "metadata": {},
     "execution_count": 179
    }
   ],
   "source": [
    "# rename some column names to prevent issues when uploading the data to PostgreSQL later on (eg. % will cause an error)\n",
    "secondary_wa_2019 = secondary_wa_2019.rename(columns = {\"Better Education Rank\" : \"Rank\",\n",
    "                                                          \"% students with an ATAR\" : \"Percentage of students with an ATAR\"})\n",
    "\n",
    "# re-arrange the columns & delete the column \"Trend / Compare\" since it's not required\n",
    "secondary_wa_2019 = secondary_wa_2019[['School', 'Year', 'Rank', 'Median ATAR','No. eligible Yr 12 students', 'No. Students with an ATAR', 'Percentage of students with an ATAR']]\n",
    "\n",
    "secondary_wa_2019"
   ]
  },
  {
   "cell_type": "code",
   "execution_count": 180,
   "metadata": {},
   "outputs": [],
   "source": [
    "# replace some values to correct the spelling to prevent Null values when performing the merge with other Dataframes later on\n",
    "secondary_wa_2019[\"School\"].replace({\"Australian Islamic College\": \"Australian Islamic College - Dianella\", \n",
    "                       \"Christian Brothers College,Fremantle,WA,6160\": \"Christian Brothers' College\",\n",
    "                       \"Australian Islamic College (Kewdale)\": \"Australian Islamic College - Kewdale\",\n",
    "                       \"Serpentine-Jarrahdale Grammar School\": \"Court Grammar School\",\n",
    "                       \"Western Australian College of Agriculture (Cunderdin)\": \"Western Australian College Of Agriculture - Cunderdin\",\n",
    "                       \"Carey Baptist College,Harrisdale,WA,6112\": \"Carey Baptist College\",\n",
    "                       \"St Mary MacKillop College\": \"St Mary Mackillop College\",\n",
    "                       \"John Curtin College Of The Arts\": \"John Curtin College of The Arts\",\n",
    "                       \"St Stephen's School (Carramar)\": \"St Stephen's School - Carramar\",\n",
    "                       \"St Stephen's School (Duncraig)\": \"St Stephen's School - Duncraig\",\n",
    "                       \"St Stephen's School\": \"St Stephen's School - Carramar\",\n",
    "                       \"Irene McCormack Catholic Colle\": \"Irene McCormack Catholic College\",\n",
    "                       \"Swan Valley Anglican Community\": \"Swan Valley Anglican Community School\",\n",
    "                       \"John Curtin College Of The Arts\": \"John Curtin College of the Arts\",\n",
    "                       \"Peter Moyes Anglican Community\": \"Peter Moyes Anglican Community School\",\n",
    "                       \"Great Southern Grammar School\": \"Great Southern Grammar\"\n",
    "                        }, inplace=True)"
   ]
  },
  {
   "cell_type": "code",
   "execution_count": 181,
   "metadata": {},
   "outputs": [
    {
     "output_type": "execute_result",
     "data": {
      "text/plain": [
       "                               School  Year  Rank  Median ATAR  \\\n",
       "0                 Perth Modern School  2019     1        96.75   \n",
       "1                         Hale School  2019     2        92.85   \n",
       "2        Christ Church Grammar School  2019     3        92.50   \n",
       "3    St Mary's Anglican Girls' School  2019     4        91.15   \n",
       "4        Presbyterian Ladies' College  2019     5        90.75   \n",
       "..                                ...   ...   ...          ...   \n",
       "137        Warwick Senior High School  2019   138        60.80   \n",
       "138          Byford Secondary College  2019   139        60.00   \n",
       "139        Hedland Senior High School  2019   140        55.95   \n",
       "140                  Merredin College  2019   141        55.20   \n",
       "141    Joseph Banks Secondary College  2019   142        41.85   \n",
       "\n",
       "     No. eligible Yr 12 students  No. Students with an ATAR  \\\n",
       "0                            241                        238   \n",
       "1                            201                        177   \n",
       "2                            199                        178   \n",
       "3                            161                        137   \n",
       "4                            123                        116   \n",
       "..                           ...                        ...   \n",
       "137                           77                         24   \n",
       "138                          134                         45   \n",
       "139                           80                         21   \n",
       "140                           54                         23   \n",
       "141                          171                         68   \n",
       "\n",
       "     Percentage of students with an ATAR            Suburb   Longitude  \\\n",
       "0                                  98.76           Subiaco  115.836396   \n",
       "1                                  88.06     Wembley Downs  115.783783   \n",
       "2                                  89.45         Claremont  115.776987   \n",
       "3                                  85.09         Karrinyup  115.766244   \n",
       "4                                  94.31  Peppermint Grove  115.764906   \n",
       "..                                   ...               ...         ...   \n",
       "137                                31.17           Warwick  115.815429   \n",
       "138                                33.58            Byford  116.001879   \n",
       "139                                26.25     South Hedland  118.598616   \n",
       "140                                42.59          Merredin  118.284982   \n",
       "141                                39.77     Banksia Grove  115.796591   \n",
       "\n",
       "      Latitude  \n",
       "0   -31.945066  \n",
       "1   -31.912322  \n",
       "2   -31.985461  \n",
       "3   -31.876971  \n",
       "4   -31.993592  \n",
       "..         ...  \n",
       "137 -31.838675  \n",
       "138 -32.223432  \n",
       "139 -20.398789  \n",
       "140 -31.488090  \n",
       "141 -31.698674  \n",
       "\n",
       "[142 rows x 10 columns]"
      ],
      "text/html": "<div>\n<style scoped>\n    .dataframe tbody tr th:only-of-type {\n        vertical-align: middle;\n    }\n\n    .dataframe tbody tr th {\n        vertical-align: top;\n    }\n\n    .dataframe thead th {\n        text-align: right;\n    }\n</style>\n<table border=\"1\" class=\"dataframe\">\n  <thead>\n    <tr style=\"text-align: right;\">\n      <th></th>\n      <th>School</th>\n      <th>Year</th>\n      <th>Rank</th>\n      <th>Median ATAR</th>\n      <th>No. eligible Yr 12 students</th>\n      <th>No. Students with an ATAR</th>\n      <th>Percentage of students with an ATAR</th>\n      <th>Suburb</th>\n      <th>Longitude</th>\n      <th>Latitude</th>\n    </tr>\n  </thead>\n  <tbody>\n    <tr>\n      <th>0</th>\n      <td>Perth Modern School</td>\n      <td>2019</td>\n      <td>1</td>\n      <td>96.75</td>\n      <td>241</td>\n      <td>238</td>\n      <td>98.76</td>\n      <td>Subiaco</td>\n      <td>115.836396</td>\n      <td>-31.945066</td>\n    </tr>\n    <tr>\n      <th>1</th>\n      <td>Hale School</td>\n      <td>2019</td>\n      <td>2</td>\n      <td>92.85</td>\n      <td>201</td>\n      <td>177</td>\n      <td>88.06</td>\n      <td>Wembley Downs</td>\n      <td>115.783783</td>\n      <td>-31.912322</td>\n    </tr>\n    <tr>\n      <th>2</th>\n      <td>Christ Church Grammar School</td>\n      <td>2019</td>\n      <td>3</td>\n      <td>92.50</td>\n      <td>199</td>\n      <td>178</td>\n      <td>89.45</td>\n      <td>Claremont</td>\n      <td>115.776987</td>\n      <td>-31.985461</td>\n    </tr>\n    <tr>\n      <th>3</th>\n      <td>St Mary's Anglican Girls' School</td>\n      <td>2019</td>\n      <td>4</td>\n      <td>91.15</td>\n      <td>161</td>\n      <td>137</td>\n      <td>85.09</td>\n      <td>Karrinyup</td>\n      <td>115.766244</td>\n      <td>-31.876971</td>\n    </tr>\n    <tr>\n      <th>4</th>\n      <td>Presbyterian Ladies' College</td>\n      <td>2019</td>\n      <td>5</td>\n      <td>90.75</td>\n      <td>123</td>\n      <td>116</td>\n      <td>94.31</td>\n      <td>Peppermint Grove</td>\n      <td>115.764906</td>\n      <td>-31.993592</td>\n    </tr>\n    <tr>\n      <th>...</th>\n      <td>...</td>\n      <td>...</td>\n      <td>...</td>\n      <td>...</td>\n      <td>...</td>\n      <td>...</td>\n      <td>...</td>\n      <td>...</td>\n      <td>...</td>\n      <td>...</td>\n    </tr>\n    <tr>\n      <th>137</th>\n      <td>Warwick Senior High School</td>\n      <td>2019</td>\n      <td>138</td>\n      <td>60.80</td>\n      <td>77</td>\n      <td>24</td>\n      <td>31.17</td>\n      <td>Warwick</td>\n      <td>115.815429</td>\n      <td>-31.838675</td>\n    </tr>\n    <tr>\n      <th>138</th>\n      <td>Byford Secondary College</td>\n      <td>2019</td>\n      <td>139</td>\n      <td>60.00</td>\n      <td>134</td>\n      <td>45</td>\n      <td>33.58</td>\n      <td>Byford</td>\n      <td>116.001879</td>\n      <td>-32.223432</td>\n    </tr>\n    <tr>\n      <th>139</th>\n      <td>Hedland Senior High School</td>\n      <td>2019</td>\n      <td>140</td>\n      <td>55.95</td>\n      <td>80</td>\n      <td>21</td>\n      <td>26.25</td>\n      <td>South Hedland</td>\n      <td>118.598616</td>\n      <td>-20.398789</td>\n    </tr>\n    <tr>\n      <th>140</th>\n      <td>Merredin College</td>\n      <td>2019</td>\n      <td>141</td>\n      <td>55.20</td>\n      <td>54</td>\n      <td>23</td>\n      <td>42.59</td>\n      <td>Merredin</td>\n      <td>118.284982</td>\n      <td>-31.488090</td>\n    </tr>\n    <tr>\n      <th>141</th>\n      <td>Joseph Banks Secondary College</td>\n      <td>2019</td>\n      <td>142</td>\n      <td>41.85</td>\n      <td>171</td>\n      <td>68</td>\n      <td>39.77</td>\n      <td>Banksia Grove</td>\n      <td>115.796591</td>\n      <td>-31.698674</td>\n    </tr>\n  </tbody>\n</table>\n<p>142 rows × 10 columns</p>\n</div>"
     },
     "metadata": {},
     "execution_count": 181
    }
   ],
   "source": [
    "# Merge \"secondary_wa_2019\" & \"school_coordinates\" Dataframes\n",
    "wa_hs_atar_2019_coord = pd.merge(secondary_wa_2019, school_coordinates, on='School', how='left')\n",
    "wa_hs_atar_2019_coord"
   ]
  },
  {
   "cell_type": "code",
   "execution_count": 182,
   "metadata": {},
   "outputs": [
    {
     "output_type": "execute_result",
     "data": {
      "text/plain": [
       "Empty DataFrame\n",
       "Columns: [School, Year, Rank, Median ATAR, No. eligible Yr 12 students, No. Students with an ATAR, Percentage of students with an ATAR, Suburb, Longitude, Latitude]\n",
       "Index: []"
      ],
      "text/html": "<div>\n<style scoped>\n    .dataframe tbody tr th:only-of-type {\n        vertical-align: middle;\n    }\n\n    .dataframe tbody tr th {\n        vertical-align: top;\n    }\n\n    .dataframe thead th {\n        text-align: right;\n    }\n</style>\n<table border=\"1\" class=\"dataframe\">\n  <thead>\n    <tr style=\"text-align: right;\">\n      <th></th>\n      <th>School</th>\n      <th>Year</th>\n      <th>Rank</th>\n      <th>Median ATAR</th>\n      <th>No. eligible Yr 12 students</th>\n      <th>No. Students with an ATAR</th>\n      <th>Percentage of students with an ATAR</th>\n      <th>Suburb</th>\n      <th>Longitude</th>\n      <th>Latitude</th>\n    </tr>\n  </thead>\n  <tbody>\n  </tbody>\n</table>\n</div>"
     },
     "metadata": {},
     "execution_count": 182
    }
   ],
   "source": [
    "# Check for NaN values\n",
    "# creating bool series True for NaN values  \n",
    "bool_series = pd.isnull(wa_hs_atar_2019_coord[\"Longitude\"])  \n",
    "    \n",
    "# filtering data  \n",
    "# displaying data only with \"Longitude\" = NaN  \n",
    "wa_hs_atar_2019_coord[bool_series]"
   ]
  },
  {
   "cell_type": "code",
   "execution_count": 183,
   "metadata": {},
   "outputs": [
    {
     "output_type": "execute_result",
     "data": {
      "text/plain": [
       "                               School  Year  Rank  Median ATAR  \\\n",
       "0                 Perth Modern School  2019     1        96.75   \n",
       "1                         Hale School  2019     2        92.85   \n",
       "2        Christ Church Grammar School  2019     3        92.50   \n",
       "3    St Mary's Anglican Girls' School  2019     4        91.15   \n",
       "4        Presbyterian Ladies' College  2019     5        90.75   \n",
       "..                                ...   ...   ...          ...   \n",
       "137        Warwick Senior High School  2019   138        60.80   \n",
       "138          Byford Secondary College  2019   139        60.00   \n",
       "139        Hedland Senior High School  2019   140        55.95   \n",
       "140                  Merredin College  2019   141        55.20   \n",
       "141    Joseph Banks Secondary College  2019   142        41.85   \n",
       "\n",
       "     No. eligible Yr 12 students  No. Students with an ATAR  \\\n",
       "0                            241                        238   \n",
       "1                            201                        177   \n",
       "2                            199                        178   \n",
       "3                            161                        137   \n",
       "4                            123                        116   \n",
       "..                           ...                        ...   \n",
       "137                           77                         24   \n",
       "138                          134                         45   \n",
       "139                           80                         21   \n",
       "140                           54                         23   \n",
       "141                          171                         68   \n",
       "\n",
       "     Percentage of students with an ATAR            Suburb   Longitude  \\\n",
       "0                                  98.76           Subiaco  115.836396   \n",
       "1                                  88.06     Wembley Downs  115.783783   \n",
       "2                                  89.45         Claremont  115.776987   \n",
       "3                                  85.09         Karrinyup  115.766244   \n",
       "4                                  94.31  Peppermint Grove  115.764906   \n",
       "..                                   ...               ...         ...   \n",
       "137                                31.17           Warwick  115.815429   \n",
       "138                                33.58            Byford  116.001879   \n",
       "139                                26.25     South Hedland  118.598616   \n",
       "140                                42.59          Merredin  118.284982   \n",
       "141                                39.77     Banksia Grove  115.796591   \n",
       "\n",
       "      Latitude          Sector Gender  Religion  \n",
       "0   -31.945066      Government  Co-ed   Secular  \n",
       "1   -31.912322  Non-government   Boys  Anglican  \n",
       "2   -31.985461  Non-government   Boys  Anglican  \n",
       "3   -31.876971  Non-government  Girls  Anglican  \n",
       "4   -31.993592  Non-government  Girls   Uniting  \n",
       "..         ...             ...    ...       ...  \n",
       "137 -31.838675      Government  Co-ed   Secular  \n",
       "138 -32.223432      Government  Co-ed   Secular  \n",
       "139 -20.398789      Government  Co-ed   Secular  \n",
       "140 -31.488090      Government  Co-ed   Secular  \n",
       "141 -31.698674      Government  Co-ed   Secular  \n",
       "\n",
       "[142 rows x 13 columns]"
      ],
      "text/html": "<div>\n<style scoped>\n    .dataframe tbody tr th:only-of-type {\n        vertical-align: middle;\n    }\n\n    .dataframe tbody tr th {\n        vertical-align: top;\n    }\n\n    .dataframe thead th {\n        text-align: right;\n    }\n</style>\n<table border=\"1\" class=\"dataframe\">\n  <thead>\n    <tr style=\"text-align: right;\">\n      <th></th>\n      <th>School</th>\n      <th>Year</th>\n      <th>Rank</th>\n      <th>Median ATAR</th>\n      <th>No. eligible Yr 12 students</th>\n      <th>No. Students with an ATAR</th>\n      <th>Percentage of students with an ATAR</th>\n      <th>Suburb</th>\n      <th>Longitude</th>\n      <th>Latitude</th>\n      <th>Sector</th>\n      <th>Gender</th>\n      <th>Religion</th>\n    </tr>\n  </thead>\n  <tbody>\n    <tr>\n      <th>0</th>\n      <td>Perth Modern School</td>\n      <td>2019</td>\n      <td>1</td>\n      <td>96.75</td>\n      <td>241</td>\n      <td>238</td>\n      <td>98.76</td>\n      <td>Subiaco</td>\n      <td>115.836396</td>\n      <td>-31.945066</td>\n      <td>Government</td>\n      <td>Co-ed</td>\n      <td>Secular</td>\n    </tr>\n    <tr>\n      <th>1</th>\n      <td>Hale School</td>\n      <td>2019</td>\n      <td>2</td>\n      <td>92.85</td>\n      <td>201</td>\n      <td>177</td>\n      <td>88.06</td>\n      <td>Wembley Downs</td>\n      <td>115.783783</td>\n      <td>-31.912322</td>\n      <td>Non-government</td>\n      <td>Boys</td>\n      <td>Anglican</td>\n    </tr>\n    <tr>\n      <th>2</th>\n      <td>Christ Church Grammar School</td>\n      <td>2019</td>\n      <td>3</td>\n      <td>92.50</td>\n      <td>199</td>\n      <td>178</td>\n      <td>89.45</td>\n      <td>Claremont</td>\n      <td>115.776987</td>\n      <td>-31.985461</td>\n      <td>Non-government</td>\n      <td>Boys</td>\n      <td>Anglican</td>\n    </tr>\n    <tr>\n      <th>3</th>\n      <td>St Mary's Anglican Girls' School</td>\n      <td>2019</td>\n      <td>4</td>\n      <td>91.15</td>\n      <td>161</td>\n      <td>137</td>\n      <td>85.09</td>\n      <td>Karrinyup</td>\n      <td>115.766244</td>\n      <td>-31.876971</td>\n      <td>Non-government</td>\n      <td>Girls</td>\n      <td>Anglican</td>\n    </tr>\n    <tr>\n      <th>4</th>\n      <td>Presbyterian Ladies' College</td>\n      <td>2019</td>\n      <td>5</td>\n      <td>90.75</td>\n      <td>123</td>\n      <td>116</td>\n      <td>94.31</td>\n      <td>Peppermint Grove</td>\n      <td>115.764906</td>\n      <td>-31.993592</td>\n      <td>Non-government</td>\n      <td>Girls</td>\n      <td>Uniting</td>\n    </tr>\n    <tr>\n      <th>...</th>\n      <td>...</td>\n      <td>...</td>\n      <td>...</td>\n      <td>...</td>\n      <td>...</td>\n      <td>...</td>\n      <td>...</td>\n      <td>...</td>\n      <td>...</td>\n      <td>...</td>\n      <td>...</td>\n      <td>...</td>\n      <td>...</td>\n    </tr>\n    <tr>\n      <th>137</th>\n      <td>Warwick Senior High School</td>\n      <td>2019</td>\n      <td>138</td>\n      <td>60.80</td>\n      <td>77</td>\n      <td>24</td>\n      <td>31.17</td>\n      <td>Warwick</td>\n      <td>115.815429</td>\n      <td>-31.838675</td>\n      <td>Government</td>\n      <td>Co-ed</td>\n      <td>Secular</td>\n    </tr>\n    <tr>\n      <th>138</th>\n      <td>Byford Secondary College</td>\n      <td>2019</td>\n      <td>139</td>\n      <td>60.00</td>\n      <td>134</td>\n      <td>45</td>\n      <td>33.58</td>\n      <td>Byford</td>\n      <td>116.001879</td>\n      <td>-32.223432</td>\n      <td>Government</td>\n      <td>Co-ed</td>\n      <td>Secular</td>\n    </tr>\n    <tr>\n      <th>139</th>\n      <td>Hedland Senior High School</td>\n      <td>2019</td>\n      <td>140</td>\n      <td>55.95</td>\n      <td>80</td>\n      <td>21</td>\n      <td>26.25</td>\n      <td>South Hedland</td>\n      <td>118.598616</td>\n      <td>-20.398789</td>\n      <td>Government</td>\n      <td>Co-ed</td>\n      <td>Secular</td>\n    </tr>\n    <tr>\n      <th>140</th>\n      <td>Merredin College</td>\n      <td>2019</td>\n      <td>141</td>\n      <td>55.20</td>\n      <td>54</td>\n      <td>23</td>\n      <td>42.59</td>\n      <td>Merredin</td>\n      <td>118.284982</td>\n      <td>-31.488090</td>\n      <td>Government</td>\n      <td>Co-ed</td>\n      <td>Secular</td>\n    </tr>\n    <tr>\n      <th>141</th>\n      <td>Joseph Banks Secondary College</td>\n      <td>2019</td>\n      <td>142</td>\n      <td>41.85</td>\n      <td>171</td>\n      <td>68</td>\n      <td>39.77</td>\n      <td>Banksia Grove</td>\n      <td>115.796591</td>\n      <td>-31.698674</td>\n      <td>Government</td>\n      <td>Co-ed</td>\n      <td>Secular</td>\n    </tr>\n  </tbody>\n</table>\n<p>142 rows × 13 columns</p>\n</div>"
     },
     "metadata": {},
     "execution_count": 183
    }
   ],
   "source": [
    "# Merge both \"wa_hs_atar_2019_coord\" & \"sectors\" Dataframes\n",
    "wa_hs_atar_2019 = pd.merge(wa_hs_atar_2019_coord, sectors, on='School', how='left')\n",
    "wa_hs_atar_2019"
   ]
  },
  {
   "cell_type": "code",
   "execution_count": 184,
   "metadata": {},
   "outputs": [
    {
     "output_type": "execute_result",
     "data": {
      "text/plain": [
       "Empty DataFrame\n",
       "Columns: [School, Year, Rank, Median ATAR, No. eligible Yr 12 students, No. Students with an ATAR, Percentage of students with an ATAR, Suburb, Longitude, Latitude, Sector, Gender, Religion]\n",
       "Index: []"
      ],
      "text/html": "<div>\n<style scoped>\n    .dataframe tbody tr th:only-of-type {\n        vertical-align: middle;\n    }\n\n    .dataframe tbody tr th {\n        vertical-align: top;\n    }\n\n    .dataframe thead th {\n        text-align: right;\n    }\n</style>\n<table border=\"1\" class=\"dataframe\">\n  <thead>\n    <tr style=\"text-align: right;\">\n      <th></th>\n      <th>School</th>\n      <th>Year</th>\n      <th>Rank</th>\n      <th>Median ATAR</th>\n      <th>No. eligible Yr 12 students</th>\n      <th>No. Students with an ATAR</th>\n      <th>Percentage of students with an ATAR</th>\n      <th>Suburb</th>\n      <th>Longitude</th>\n      <th>Latitude</th>\n      <th>Sector</th>\n      <th>Gender</th>\n      <th>Religion</th>\n    </tr>\n  </thead>\n  <tbody>\n  </tbody>\n</table>\n</div>"
     },
     "metadata": {},
     "execution_count": 184
    }
   ],
   "source": [
    "# Check for NaN values\n",
    "# creating bool series True for NaN values  \n",
    "bool_series = pd.isnull(wa_hs_atar_2019[\"Sector\"])  \n",
    "    \n",
    "# filtering data  \n",
    "# displaying data only with \"Sector\" = NaN  \n",
    "wa_hs_atar_2019[bool_series]"
   ]
  },
  {
   "cell_type": "code",
   "execution_count": 185,
   "metadata": {},
   "outputs": [
    {
     "output_type": "execute_result",
     "data": {
      "text/plain": [
       "     Year  Better Education Rank  \\\n",
       "0    2018                      1   \n",
       "1    2018                      2   \n",
       "2    2018                      3   \n",
       "3    2018                      4   \n",
       "4    2018                      5   \n",
       "..    ...                    ...   \n",
       "143  2018                    144   \n",
       "144  2018                    145   \n",
       "145  2018                    146   \n",
       "146  2018                    147   \n",
       "147  2018                    148   \n",
       "\n",
       "                                                School  Median ATAR  \\\n",
       "0                                  Perth Modern School        97.00   \n",
       "1                                        Carmel School        92.60   \n",
       "2                     St Mary's Anglican Girls' School        92.10   \n",
       "3                            Methodist Ladies' College        92.00   \n",
       "4                 St Hilda's Anglican School for Girls        91.65   \n",
       "..                                                 ...          ...   \n",
       "143                    Newton Moore Senior High School        55.55   \n",
       "144                         Northam Senior High School        53.70   \n",
       "145                                  Dalyellup College        51.90   \n",
       "146                      Rockingham Senior High School        47.90   \n",
       "147  Western Australian College of Agriculture (Cun...        32.50   \n",
       "\n",
       "     No. eligible Yr 12 students  No. Students with an ATAR  \\\n",
       "0                            240                        236   \n",
       "1                             33                         31   \n",
       "2                            175                        150   \n",
       "3                            139                        133   \n",
       "4                            141                        135   \n",
       "..                           ...                        ...   \n",
       "143                           81                         29   \n",
       "144                           88                         27   \n",
       "145                           70                         29   \n",
       "146                           98                         22   \n",
       "147                           61                         22   \n",
       "\n",
       "     % students with an ATAR  Trend / Compare  \n",
       "0                      98.33  Trend / Compare  \n",
       "1                      93.94  Trend / Compare  \n",
       "2                      85.71  Trend / Compare  \n",
       "3                      95.68  Trend / Compare  \n",
       "4                      95.74  Trend / Compare  \n",
       "..                       ...              ...  \n",
       "143                    35.80  Trend / Compare  \n",
       "144                    30.68  Trend / Compare  \n",
       "145                    41.43  Trend / Compare  \n",
       "146                    22.45  Trend / Compare  \n",
       "147                    36.07  Trend / Compare  \n",
       "\n",
       "[148 rows x 8 columns]"
      ],
      "text/html": "<div>\n<style scoped>\n    .dataframe tbody tr th:only-of-type {\n        vertical-align: middle;\n    }\n\n    .dataframe tbody tr th {\n        vertical-align: top;\n    }\n\n    .dataframe thead th {\n        text-align: right;\n    }\n</style>\n<table border=\"1\" class=\"dataframe\">\n  <thead>\n    <tr style=\"text-align: right;\">\n      <th></th>\n      <th>Year</th>\n      <th>Better Education Rank</th>\n      <th>School</th>\n      <th>Median ATAR</th>\n      <th>No. eligible Yr 12 students</th>\n      <th>No. Students with an ATAR</th>\n      <th>% students with an ATAR</th>\n      <th>Trend / Compare</th>\n    </tr>\n  </thead>\n  <tbody>\n    <tr>\n      <th>0</th>\n      <td>2018</td>\n      <td>1</td>\n      <td>Perth Modern School</td>\n      <td>97.00</td>\n      <td>240</td>\n      <td>236</td>\n      <td>98.33</td>\n      <td>Trend / Compare</td>\n    </tr>\n    <tr>\n      <th>1</th>\n      <td>2018</td>\n      <td>2</td>\n      <td>Carmel School</td>\n      <td>92.60</td>\n      <td>33</td>\n      <td>31</td>\n      <td>93.94</td>\n      <td>Trend / Compare</td>\n    </tr>\n    <tr>\n      <th>2</th>\n      <td>2018</td>\n      <td>3</td>\n      <td>St Mary's Anglican Girls' School</td>\n      <td>92.10</td>\n      <td>175</td>\n      <td>150</td>\n      <td>85.71</td>\n      <td>Trend / Compare</td>\n    </tr>\n    <tr>\n      <th>3</th>\n      <td>2018</td>\n      <td>4</td>\n      <td>Methodist Ladies' College</td>\n      <td>92.00</td>\n      <td>139</td>\n      <td>133</td>\n      <td>95.68</td>\n      <td>Trend / Compare</td>\n    </tr>\n    <tr>\n      <th>4</th>\n      <td>2018</td>\n      <td>5</td>\n      <td>St Hilda's Anglican School for Girls</td>\n      <td>91.65</td>\n      <td>141</td>\n      <td>135</td>\n      <td>95.74</td>\n      <td>Trend / Compare</td>\n    </tr>\n    <tr>\n      <th>...</th>\n      <td>...</td>\n      <td>...</td>\n      <td>...</td>\n      <td>...</td>\n      <td>...</td>\n      <td>...</td>\n      <td>...</td>\n      <td>...</td>\n    </tr>\n    <tr>\n      <th>143</th>\n      <td>2018</td>\n      <td>144</td>\n      <td>Newton Moore Senior High School</td>\n      <td>55.55</td>\n      <td>81</td>\n      <td>29</td>\n      <td>35.80</td>\n      <td>Trend / Compare</td>\n    </tr>\n    <tr>\n      <th>144</th>\n      <td>2018</td>\n      <td>145</td>\n      <td>Northam Senior High School</td>\n      <td>53.70</td>\n      <td>88</td>\n      <td>27</td>\n      <td>30.68</td>\n      <td>Trend / Compare</td>\n    </tr>\n    <tr>\n      <th>145</th>\n      <td>2018</td>\n      <td>146</td>\n      <td>Dalyellup College</td>\n      <td>51.90</td>\n      <td>70</td>\n      <td>29</td>\n      <td>41.43</td>\n      <td>Trend / Compare</td>\n    </tr>\n    <tr>\n      <th>146</th>\n      <td>2018</td>\n      <td>147</td>\n      <td>Rockingham Senior High School</td>\n      <td>47.90</td>\n      <td>98</td>\n      <td>22</td>\n      <td>22.45</td>\n      <td>Trend / Compare</td>\n    </tr>\n    <tr>\n      <th>147</th>\n      <td>2018</td>\n      <td>148</td>\n      <td>Western Australian College of Agriculture (Cun...</td>\n      <td>32.50</td>\n      <td>61</td>\n      <td>22</td>\n      <td>36.07</td>\n      <td>Trend / Compare</td>\n    </tr>\n  </tbody>\n</table>\n<p>148 rows × 8 columns</p>\n</div>"
     },
     "metadata": {},
     "execution_count": 185
    }
   ],
   "source": [
    "# get the 2018 url WA schools\n",
    "url_secondary_wa_2018 =\"https://bettereducation.com.au/Results/WA/wace.aspx?yr=2018\"\n",
    "\n",
    "# Use panda's `read_html` to parse the 2018 ATAR url\n",
    "secondary_wa_2018 = pd.read_html(url_secondary_wa_2018, header=0)[0]\n",
    "\n",
    "# rename the \"Unnamed: 0\" column name\n",
    "secondary_wa_2018 = secondary_wa_2018.rename(columns = {\"Unnamed: 0\" : \"Year\"})\n",
    "\n",
    "# replace the values of the \"Year\" column\n",
    "secondary_wa_2018['Year'] = 2018\n",
    "secondary_wa_2018"
   ]
  },
  {
   "cell_type": "code",
   "execution_count": 186,
   "metadata": {},
   "outputs": [
    {
     "output_type": "execute_result",
     "data": {
      "text/plain": [
       "                                                School  Year  Rank  \\\n",
       "0                                  Perth Modern School  2018     1   \n",
       "1                                        Carmel School  2018     2   \n",
       "2                     St Mary's Anglican Girls' School  2018     3   \n",
       "3                            Methodist Ladies' College  2018     4   \n",
       "4                 St Hilda's Anglican School for Girls  2018     5   \n",
       "..                                                 ...   ...   ...   \n",
       "143                    Newton Moore Senior High School  2018   144   \n",
       "144                         Northam Senior High School  2018   145   \n",
       "145                                  Dalyellup College  2018   146   \n",
       "146                      Rockingham Senior High School  2018   147   \n",
       "147  Western Australian College of Agriculture (Cun...  2018   148   \n",
       "\n",
       "     Median ATAR  No. eligible Yr 12 students  No. Students with an ATAR  \\\n",
       "0          97.00                          240                        236   \n",
       "1          92.60                           33                         31   \n",
       "2          92.10                          175                        150   \n",
       "3          92.00                          139                        133   \n",
       "4          91.65                          141                        135   \n",
       "..           ...                          ...                        ...   \n",
       "143        55.55                           81                         29   \n",
       "144        53.70                           88                         27   \n",
       "145        51.90                           70                         29   \n",
       "146        47.90                           98                         22   \n",
       "147        32.50                           61                         22   \n",
       "\n",
       "     Percentage of students with an ATAR  \n",
       "0                                  98.33  \n",
       "1                                  93.94  \n",
       "2                                  85.71  \n",
       "3                                  95.68  \n",
       "4                                  95.74  \n",
       "..                                   ...  \n",
       "143                                35.80  \n",
       "144                                30.68  \n",
       "145                                41.43  \n",
       "146                                22.45  \n",
       "147                                36.07  \n",
       "\n",
       "[148 rows x 7 columns]"
      ],
      "text/html": "<div>\n<style scoped>\n    .dataframe tbody tr th:only-of-type {\n        vertical-align: middle;\n    }\n\n    .dataframe tbody tr th {\n        vertical-align: top;\n    }\n\n    .dataframe thead th {\n        text-align: right;\n    }\n</style>\n<table border=\"1\" class=\"dataframe\">\n  <thead>\n    <tr style=\"text-align: right;\">\n      <th></th>\n      <th>School</th>\n      <th>Year</th>\n      <th>Rank</th>\n      <th>Median ATAR</th>\n      <th>No. eligible Yr 12 students</th>\n      <th>No. Students with an ATAR</th>\n      <th>Percentage of students with an ATAR</th>\n    </tr>\n  </thead>\n  <tbody>\n    <tr>\n      <th>0</th>\n      <td>Perth Modern School</td>\n      <td>2018</td>\n      <td>1</td>\n      <td>97.00</td>\n      <td>240</td>\n      <td>236</td>\n      <td>98.33</td>\n    </tr>\n    <tr>\n      <th>1</th>\n      <td>Carmel School</td>\n      <td>2018</td>\n      <td>2</td>\n      <td>92.60</td>\n      <td>33</td>\n      <td>31</td>\n      <td>93.94</td>\n    </tr>\n    <tr>\n      <th>2</th>\n      <td>St Mary's Anglican Girls' School</td>\n      <td>2018</td>\n      <td>3</td>\n      <td>92.10</td>\n      <td>175</td>\n      <td>150</td>\n      <td>85.71</td>\n    </tr>\n    <tr>\n      <th>3</th>\n      <td>Methodist Ladies' College</td>\n      <td>2018</td>\n      <td>4</td>\n      <td>92.00</td>\n      <td>139</td>\n      <td>133</td>\n      <td>95.68</td>\n    </tr>\n    <tr>\n      <th>4</th>\n      <td>St Hilda's Anglican School for Girls</td>\n      <td>2018</td>\n      <td>5</td>\n      <td>91.65</td>\n      <td>141</td>\n      <td>135</td>\n      <td>95.74</td>\n    </tr>\n    <tr>\n      <th>...</th>\n      <td>...</td>\n      <td>...</td>\n      <td>...</td>\n      <td>...</td>\n      <td>...</td>\n      <td>...</td>\n      <td>...</td>\n    </tr>\n    <tr>\n      <th>143</th>\n      <td>Newton Moore Senior High School</td>\n      <td>2018</td>\n      <td>144</td>\n      <td>55.55</td>\n      <td>81</td>\n      <td>29</td>\n      <td>35.80</td>\n    </tr>\n    <tr>\n      <th>144</th>\n      <td>Northam Senior High School</td>\n      <td>2018</td>\n      <td>145</td>\n      <td>53.70</td>\n      <td>88</td>\n      <td>27</td>\n      <td>30.68</td>\n    </tr>\n    <tr>\n      <th>145</th>\n      <td>Dalyellup College</td>\n      <td>2018</td>\n      <td>146</td>\n      <td>51.90</td>\n      <td>70</td>\n      <td>29</td>\n      <td>41.43</td>\n    </tr>\n    <tr>\n      <th>146</th>\n      <td>Rockingham Senior High School</td>\n      <td>2018</td>\n      <td>147</td>\n      <td>47.90</td>\n      <td>98</td>\n      <td>22</td>\n      <td>22.45</td>\n    </tr>\n    <tr>\n      <th>147</th>\n      <td>Western Australian College of Agriculture (Cun...</td>\n      <td>2018</td>\n      <td>148</td>\n      <td>32.50</td>\n      <td>61</td>\n      <td>22</td>\n      <td>36.07</td>\n    </tr>\n  </tbody>\n</table>\n<p>148 rows × 7 columns</p>\n</div>"
     },
     "metadata": {},
     "execution_count": 186
    }
   ],
   "source": [
    "# rename some column names to prevent issues when uploading the data to PostgreSQL later on (eg. % will cause an error)\n",
    "secondary_wa_2018 = secondary_wa_2018.rename(columns = {\"Better Education Rank\" : \"Rank\",\n",
    "                                                          \"% students with an ATAR\" : \"Percentage of students with an ATAR\"})\n",
    "\n",
    "# re-arrange the columns & delete the column \"Trend / Compare\" since it's not required\n",
    "secondary_wa_2018 = secondary_wa_2018[['School', 'Year', 'Rank', 'Median ATAR','No. eligible Yr 12 students', 'No. Students with an ATAR', 'Percentage of students with an ATAR']]\n",
    "\n",
    "secondary_wa_2018"
   ]
  },
  {
   "cell_type": "code",
   "execution_count": 187,
   "metadata": {},
   "outputs": [],
   "source": [
    "# replace some values to correct the spelling to prevent Null values when performing the merge with other Dataframes later on\n",
    "secondary_wa_2018[\"School\"].replace({\"Australian Islamic College\": \"Australian Islamic College - Dianella\", \n",
    "                       \"Christian Brothers College,Fremantle,WA,6160\": \"Christian Brothers' College\",\n",
    "                       \"Australian Islamic College (Kewdale)\": \"Australian Islamic College - Kewdale\",\n",
    "                       \"Serpentine-Jarrahdale Grammar School\": \"Court Grammar School\",\n",
    "                       \"Western Australian College of Agriculture (Cunderdin)\": \"Western Australian College Of Agriculture - Cunderdin\",\n",
    "                       \"Carey Baptist College,Harrisdale,WA,6112\": \"Carey Baptist College\",\n",
    "                       \"St Mary MacKillop College\": \"St Mary Mackillop College\",\n",
    "                       \"John Curtin College Of The Arts\": \"John Curtin College of The Arts\",\n",
    "                       \"St Stephen's School (Carramar)\": \"St Stephen's School - Carramar\",\n",
    "                       \"St Stephen's School (Duncraig)\": \"St Stephen's School - Duncraig\",\n",
    "                       \"St Stephen's School\": \"St Stephen's School - Carramar\",\n",
    "                       \"Irene McCormack Catholic Colle\": \"Irene McCormack Catholic College\",\n",
    "                       \"Swan Valley Anglican Community\": \"Swan Valley Anglican Community School\",\n",
    "                       \"John Curtin College Of The Arts\": \"John Curtin College of the Arts\",\n",
    "                       \"Peter Moyes Anglican Community\": \"Peter Moyes Anglican Community School\",\n",
    "                       \"Great Southern Grammar School\": \"Great Southern Grammar\"\n",
    "                        }, inplace=True)"
   ]
  },
  {
   "cell_type": "code",
   "execution_count": 188,
   "metadata": {},
   "outputs": [
    {
     "output_type": "execute_result",
     "data": {
      "text/plain": [
       "                                                School  Year  Rank  \\\n",
       "0                                  Perth Modern School  2018     1   \n",
       "1                                        Carmel School  2018     2   \n",
       "2                     St Mary's Anglican Girls' School  2018     3   \n",
       "3                            Methodist Ladies' College  2018     4   \n",
       "4                 St Hilda's Anglican School for Girls  2018     5   \n",
       "..                                                 ...   ...   ...   \n",
       "143                    Newton Moore Senior High School  2018   144   \n",
       "144                         Northam Senior High School  2018   145   \n",
       "145                                  Dalyellup College  2018   146   \n",
       "146                      Rockingham Senior High School  2018   147   \n",
       "147  Western Australian College Of Agriculture - Cu...  2018   148   \n",
       "\n",
       "     Median ATAR  No. eligible Yr 12 students  No. Students with an ATAR  \\\n",
       "0          97.00                          240                        236   \n",
       "1          92.60                           33                         31   \n",
       "2          92.10                          175                        150   \n",
       "3          92.00                          139                        133   \n",
       "4          91.65                          141                        135   \n",
       "..           ...                          ...                        ...   \n",
       "143        55.55                           81                         29   \n",
       "144        53.70                           88                         27   \n",
       "145        51.90                           70                         29   \n",
       "146        47.90                           98                         22   \n",
       "147        32.50                           61                         22   \n",
       "\n",
       "     Percentage of students with an ATAR         Suburb   Longitude   Latitude  \n",
       "0                                  98.33        Subiaco  115.836396 -31.945066  \n",
       "1                                  93.94       Dianella  115.862075 -31.899107  \n",
       "2                                  85.71      Karrinyup  115.766244 -31.876971  \n",
       "3                                  95.68      Claremont  115.775540 -31.987012  \n",
       "4                                  95.74    Mosman Park  115.767812 -32.005047  \n",
       "..                                   ...            ...         ...        ...  \n",
       "143                                35.80  South Bunbury  115.635421 -33.359211  \n",
       "144                                30.68        Northam  116.667649 -31.647256  \n",
       "145                                41.43      Dalyellup  115.625767 -33.403855  \n",
       "146                                22.45     Rockingham  115.735520 -32.284952  \n",
       "147                                36.07      Cunderdin  117.230704 -31.626847  \n",
       "\n",
       "[148 rows x 10 columns]"
      ],
      "text/html": "<div>\n<style scoped>\n    .dataframe tbody tr th:only-of-type {\n        vertical-align: middle;\n    }\n\n    .dataframe tbody tr th {\n        vertical-align: top;\n    }\n\n    .dataframe thead th {\n        text-align: right;\n    }\n</style>\n<table border=\"1\" class=\"dataframe\">\n  <thead>\n    <tr style=\"text-align: right;\">\n      <th></th>\n      <th>School</th>\n      <th>Year</th>\n      <th>Rank</th>\n      <th>Median ATAR</th>\n      <th>No. eligible Yr 12 students</th>\n      <th>No. Students with an ATAR</th>\n      <th>Percentage of students with an ATAR</th>\n      <th>Suburb</th>\n      <th>Longitude</th>\n      <th>Latitude</th>\n    </tr>\n  </thead>\n  <tbody>\n    <tr>\n      <th>0</th>\n      <td>Perth Modern School</td>\n      <td>2018</td>\n      <td>1</td>\n      <td>97.00</td>\n      <td>240</td>\n      <td>236</td>\n      <td>98.33</td>\n      <td>Subiaco</td>\n      <td>115.836396</td>\n      <td>-31.945066</td>\n    </tr>\n    <tr>\n      <th>1</th>\n      <td>Carmel School</td>\n      <td>2018</td>\n      <td>2</td>\n      <td>92.60</td>\n      <td>33</td>\n      <td>31</td>\n      <td>93.94</td>\n      <td>Dianella</td>\n      <td>115.862075</td>\n      <td>-31.899107</td>\n    </tr>\n    <tr>\n      <th>2</th>\n      <td>St Mary's Anglican Girls' School</td>\n      <td>2018</td>\n      <td>3</td>\n      <td>92.10</td>\n      <td>175</td>\n      <td>150</td>\n      <td>85.71</td>\n      <td>Karrinyup</td>\n      <td>115.766244</td>\n      <td>-31.876971</td>\n    </tr>\n    <tr>\n      <th>3</th>\n      <td>Methodist Ladies' College</td>\n      <td>2018</td>\n      <td>4</td>\n      <td>92.00</td>\n      <td>139</td>\n      <td>133</td>\n      <td>95.68</td>\n      <td>Claremont</td>\n      <td>115.775540</td>\n      <td>-31.987012</td>\n    </tr>\n    <tr>\n      <th>4</th>\n      <td>St Hilda's Anglican School for Girls</td>\n      <td>2018</td>\n      <td>5</td>\n      <td>91.65</td>\n      <td>141</td>\n      <td>135</td>\n      <td>95.74</td>\n      <td>Mosman Park</td>\n      <td>115.767812</td>\n      <td>-32.005047</td>\n    </tr>\n    <tr>\n      <th>...</th>\n      <td>...</td>\n      <td>...</td>\n      <td>...</td>\n      <td>...</td>\n      <td>...</td>\n      <td>...</td>\n      <td>...</td>\n      <td>...</td>\n      <td>...</td>\n      <td>...</td>\n    </tr>\n    <tr>\n      <th>143</th>\n      <td>Newton Moore Senior High School</td>\n      <td>2018</td>\n      <td>144</td>\n      <td>55.55</td>\n      <td>81</td>\n      <td>29</td>\n      <td>35.80</td>\n      <td>South Bunbury</td>\n      <td>115.635421</td>\n      <td>-33.359211</td>\n    </tr>\n    <tr>\n      <th>144</th>\n      <td>Northam Senior High School</td>\n      <td>2018</td>\n      <td>145</td>\n      <td>53.70</td>\n      <td>88</td>\n      <td>27</td>\n      <td>30.68</td>\n      <td>Northam</td>\n      <td>116.667649</td>\n      <td>-31.647256</td>\n    </tr>\n    <tr>\n      <th>145</th>\n      <td>Dalyellup College</td>\n      <td>2018</td>\n      <td>146</td>\n      <td>51.90</td>\n      <td>70</td>\n      <td>29</td>\n      <td>41.43</td>\n      <td>Dalyellup</td>\n      <td>115.625767</td>\n      <td>-33.403855</td>\n    </tr>\n    <tr>\n      <th>146</th>\n      <td>Rockingham Senior High School</td>\n      <td>2018</td>\n      <td>147</td>\n      <td>47.90</td>\n      <td>98</td>\n      <td>22</td>\n      <td>22.45</td>\n      <td>Rockingham</td>\n      <td>115.735520</td>\n      <td>-32.284952</td>\n    </tr>\n    <tr>\n      <th>147</th>\n      <td>Western Australian College Of Agriculture - Cu...</td>\n      <td>2018</td>\n      <td>148</td>\n      <td>32.50</td>\n      <td>61</td>\n      <td>22</td>\n      <td>36.07</td>\n      <td>Cunderdin</td>\n      <td>117.230704</td>\n      <td>-31.626847</td>\n    </tr>\n  </tbody>\n</table>\n<p>148 rows × 10 columns</p>\n</div>"
     },
     "metadata": {},
     "execution_count": 188
    }
   ],
   "source": [
    "# Merge \"secondary_wa_2018\" & \"school_coordinates\" Dataframes\n",
    "wa_hs_atar_2018_coord = pd.merge(secondary_wa_2018, school_coordinates, on='School', how='left')\n",
    "wa_hs_atar_2018_coord"
   ]
  },
  {
   "cell_type": "code",
   "execution_count": 189,
   "metadata": {},
   "outputs": [
    {
     "output_type": "execute_result",
     "data": {
      "text/plain": [
       "Empty DataFrame\n",
       "Columns: [School, Year, Rank, Median ATAR, No. eligible Yr 12 students, No. Students with an ATAR, Percentage of students with an ATAR, Suburb, Longitude, Latitude]\n",
       "Index: []"
      ],
      "text/html": "<div>\n<style scoped>\n    .dataframe tbody tr th:only-of-type {\n        vertical-align: middle;\n    }\n\n    .dataframe tbody tr th {\n        vertical-align: top;\n    }\n\n    .dataframe thead th {\n        text-align: right;\n    }\n</style>\n<table border=\"1\" class=\"dataframe\">\n  <thead>\n    <tr style=\"text-align: right;\">\n      <th></th>\n      <th>School</th>\n      <th>Year</th>\n      <th>Rank</th>\n      <th>Median ATAR</th>\n      <th>No. eligible Yr 12 students</th>\n      <th>No. Students with an ATAR</th>\n      <th>Percentage of students with an ATAR</th>\n      <th>Suburb</th>\n      <th>Longitude</th>\n      <th>Latitude</th>\n    </tr>\n  </thead>\n  <tbody>\n  </tbody>\n</table>\n</div>"
     },
     "metadata": {},
     "execution_count": 189
    }
   ],
   "source": [
    "# Check for NaN values\n",
    "# creating bool series True for NaN values  \n",
    "bool_series = pd.isnull(wa_hs_atar_2018_coord[\"Longitude\"])  \n",
    "    \n",
    "# filtering data  \n",
    "# displaying data only with \"Longitude\" = NaN\n",
    "wa_hs_atar_2018_coord[bool_series]"
   ]
  },
  {
   "cell_type": "code",
   "execution_count": 190,
   "metadata": {},
   "outputs": [
    {
     "output_type": "execute_result",
     "data": {
      "text/plain": [
       "                                                School  Year  Rank  \\\n",
       "0                                  Perth Modern School  2018     1   \n",
       "1                                        Carmel School  2018     2   \n",
       "2                     St Mary's Anglican Girls' School  2018     3   \n",
       "3                            Methodist Ladies' College  2018     4   \n",
       "4                 St Hilda's Anglican School for Girls  2018     5   \n",
       "..                                                 ...   ...   ...   \n",
       "143                    Newton Moore Senior High School  2018   144   \n",
       "144                         Northam Senior High School  2018   145   \n",
       "145                                  Dalyellup College  2018   146   \n",
       "146                      Rockingham Senior High School  2018   147   \n",
       "147  Western Australian College Of Agriculture - Cu...  2018   148   \n",
       "\n",
       "     Median ATAR  No. eligible Yr 12 students  No. Students with an ATAR  \\\n",
       "0          97.00                          240                        236   \n",
       "1          92.60                           33                         31   \n",
       "2          92.10                          175                        150   \n",
       "3          92.00                          139                        133   \n",
       "4          91.65                          141                        135   \n",
       "..           ...                          ...                        ...   \n",
       "143        55.55                           81                         29   \n",
       "144        53.70                           88                         27   \n",
       "145        51.90                           70                         29   \n",
       "146        47.90                           98                         22   \n",
       "147        32.50                           61                         22   \n",
       "\n",
       "     Percentage of students with an ATAR         Suburb   Longitude  \\\n",
       "0                                  98.33        Subiaco  115.836396   \n",
       "1                                  93.94       Dianella  115.862075   \n",
       "2                                  85.71      Karrinyup  115.766244   \n",
       "3                                  95.68      Claremont  115.775540   \n",
       "4                                  95.74    Mosman Park  115.767812   \n",
       "..                                   ...            ...         ...   \n",
       "143                                35.80  South Bunbury  115.635421   \n",
       "144                                30.68        Northam  116.667649   \n",
       "145                                41.43      Dalyellup  115.625767   \n",
       "146                                22.45     Rockingham  115.735520   \n",
       "147                                36.07      Cunderdin  117.230704   \n",
       "\n",
       "      Latitude          Sector Gender   Religion  \n",
       "0   -31.945066      Government  Co-ed    Secular  \n",
       "1   -31.899107  Non-government  Co-ed     Jewish  \n",
       "2   -31.876971  Non-government  Girls   Anglican  \n",
       "3   -31.987012  Non-government  Girls  Methodist  \n",
       "4   -32.005047  Non-government  Girls   Anglican  \n",
       "..         ...             ...    ...        ...  \n",
       "143 -33.359211      Government  Co-ed    Secular  \n",
       "144 -31.647256      Government  Co-ed    Secular  \n",
       "145 -33.403855      Government  Co-ed    Secular  \n",
       "146 -32.284952      Government  Co-ed    Secular  \n",
       "147 -31.626847      Government  Co-ed    Secular  \n",
       "\n",
       "[148 rows x 13 columns]"
      ],
      "text/html": "<div>\n<style scoped>\n    .dataframe tbody tr th:only-of-type {\n        vertical-align: middle;\n    }\n\n    .dataframe tbody tr th {\n        vertical-align: top;\n    }\n\n    .dataframe thead th {\n        text-align: right;\n    }\n</style>\n<table border=\"1\" class=\"dataframe\">\n  <thead>\n    <tr style=\"text-align: right;\">\n      <th></th>\n      <th>School</th>\n      <th>Year</th>\n      <th>Rank</th>\n      <th>Median ATAR</th>\n      <th>No. eligible Yr 12 students</th>\n      <th>No. Students with an ATAR</th>\n      <th>Percentage of students with an ATAR</th>\n      <th>Suburb</th>\n      <th>Longitude</th>\n      <th>Latitude</th>\n      <th>Sector</th>\n      <th>Gender</th>\n      <th>Religion</th>\n    </tr>\n  </thead>\n  <tbody>\n    <tr>\n      <th>0</th>\n      <td>Perth Modern School</td>\n      <td>2018</td>\n      <td>1</td>\n      <td>97.00</td>\n      <td>240</td>\n      <td>236</td>\n      <td>98.33</td>\n      <td>Subiaco</td>\n      <td>115.836396</td>\n      <td>-31.945066</td>\n      <td>Government</td>\n      <td>Co-ed</td>\n      <td>Secular</td>\n    </tr>\n    <tr>\n      <th>1</th>\n      <td>Carmel School</td>\n      <td>2018</td>\n      <td>2</td>\n      <td>92.60</td>\n      <td>33</td>\n      <td>31</td>\n      <td>93.94</td>\n      <td>Dianella</td>\n      <td>115.862075</td>\n      <td>-31.899107</td>\n      <td>Non-government</td>\n      <td>Co-ed</td>\n      <td>Jewish</td>\n    </tr>\n    <tr>\n      <th>2</th>\n      <td>St Mary's Anglican Girls' School</td>\n      <td>2018</td>\n      <td>3</td>\n      <td>92.10</td>\n      <td>175</td>\n      <td>150</td>\n      <td>85.71</td>\n      <td>Karrinyup</td>\n      <td>115.766244</td>\n      <td>-31.876971</td>\n      <td>Non-government</td>\n      <td>Girls</td>\n      <td>Anglican</td>\n    </tr>\n    <tr>\n      <th>3</th>\n      <td>Methodist Ladies' College</td>\n      <td>2018</td>\n      <td>4</td>\n      <td>92.00</td>\n      <td>139</td>\n      <td>133</td>\n      <td>95.68</td>\n      <td>Claremont</td>\n      <td>115.775540</td>\n      <td>-31.987012</td>\n      <td>Non-government</td>\n      <td>Girls</td>\n      <td>Methodist</td>\n    </tr>\n    <tr>\n      <th>4</th>\n      <td>St Hilda's Anglican School for Girls</td>\n      <td>2018</td>\n      <td>5</td>\n      <td>91.65</td>\n      <td>141</td>\n      <td>135</td>\n      <td>95.74</td>\n      <td>Mosman Park</td>\n      <td>115.767812</td>\n      <td>-32.005047</td>\n      <td>Non-government</td>\n      <td>Girls</td>\n      <td>Anglican</td>\n    </tr>\n    <tr>\n      <th>...</th>\n      <td>...</td>\n      <td>...</td>\n      <td>...</td>\n      <td>...</td>\n      <td>...</td>\n      <td>...</td>\n      <td>...</td>\n      <td>...</td>\n      <td>...</td>\n      <td>...</td>\n      <td>...</td>\n      <td>...</td>\n      <td>...</td>\n    </tr>\n    <tr>\n      <th>143</th>\n      <td>Newton Moore Senior High School</td>\n      <td>2018</td>\n      <td>144</td>\n      <td>55.55</td>\n      <td>81</td>\n      <td>29</td>\n      <td>35.80</td>\n      <td>South Bunbury</td>\n      <td>115.635421</td>\n      <td>-33.359211</td>\n      <td>Government</td>\n      <td>Co-ed</td>\n      <td>Secular</td>\n    </tr>\n    <tr>\n      <th>144</th>\n      <td>Northam Senior High School</td>\n      <td>2018</td>\n      <td>145</td>\n      <td>53.70</td>\n      <td>88</td>\n      <td>27</td>\n      <td>30.68</td>\n      <td>Northam</td>\n      <td>116.667649</td>\n      <td>-31.647256</td>\n      <td>Government</td>\n      <td>Co-ed</td>\n      <td>Secular</td>\n    </tr>\n    <tr>\n      <th>145</th>\n      <td>Dalyellup College</td>\n      <td>2018</td>\n      <td>146</td>\n      <td>51.90</td>\n      <td>70</td>\n      <td>29</td>\n      <td>41.43</td>\n      <td>Dalyellup</td>\n      <td>115.625767</td>\n      <td>-33.403855</td>\n      <td>Government</td>\n      <td>Co-ed</td>\n      <td>Secular</td>\n    </tr>\n    <tr>\n      <th>146</th>\n      <td>Rockingham Senior High School</td>\n      <td>2018</td>\n      <td>147</td>\n      <td>47.90</td>\n      <td>98</td>\n      <td>22</td>\n      <td>22.45</td>\n      <td>Rockingham</td>\n      <td>115.735520</td>\n      <td>-32.284952</td>\n      <td>Government</td>\n      <td>Co-ed</td>\n      <td>Secular</td>\n    </tr>\n    <tr>\n      <th>147</th>\n      <td>Western Australian College Of Agriculture - Cu...</td>\n      <td>2018</td>\n      <td>148</td>\n      <td>32.50</td>\n      <td>61</td>\n      <td>22</td>\n      <td>36.07</td>\n      <td>Cunderdin</td>\n      <td>117.230704</td>\n      <td>-31.626847</td>\n      <td>Government</td>\n      <td>Co-ed</td>\n      <td>Secular</td>\n    </tr>\n  </tbody>\n</table>\n<p>148 rows × 13 columns</p>\n</div>"
     },
     "metadata": {},
     "execution_count": 190
    }
   ],
   "source": [
    "# Merge both \"wa_hs_atar_2018_coord\" & \"sectors\" Dataframes\n",
    "wa_hs_atar_2018 = pd.merge(wa_hs_atar_2018_coord, sectors, on='School', how='left')\n",
    "wa_hs_atar_2018"
   ]
  },
  {
   "cell_type": "code",
   "execution_count": 191,
   "metadata": {},
   "outputs": [
    {
     "output_type": "execute_result",
     "data": {
      "text/plain": [
       "Empty DataFrame\n",
       "Columns: [School, Year, Rank, Median ATAR, No. eligible Yr 12 students, No. Students with an ATAR, Percentage of students with an ATAR, Suburb, Longitude, Latitude, Sector, Gender, Religion]\n",
       "Index: []"
      ],
      "text/html": "<div>\n<style scoped>\n    .dataframe tbody tr th:only-of-type {\n        vertical-align: middle;\n    }\n\n    .dataframe tbody tr th {\n        vertical-align: top;\n    }\n\n    .dataframe thead th {\n        text-align: right;\n    }\n</style>\n<table border=\"1\" class=\"dataframe\">\n  <thead>\n    <tr style=\"text-align: right;\">\n      <th></th>\n      <th>School</th>\n      <th>Year</th>\n      <th>Rank</th>\n      <th>Median ATAR</th>\n      <th>No. eligible Yr 12 students</th>\n      <th>No. Students with an ATAR</th>\n      <th>Percentage of students with an ATAR</th>\n      <th>Suburb</th>\n      <th>Longitude</th>\n      <th>Latitude</th>\n      <th>Sector</th>\n      <th>Gender</th>\n      <th>Religion</th>\n    </tr>\n  </thead>\n  <tbody>\n  </tbody>\n</table>\n</div>"
     },
     "metadata": {},
     "execution_count": 191
    }
   ],
   "source": [
    "# Check for NaN values\n",
    "# creating bool series True for NaN values  \n",
    "bool_series = pd.isnull(wa_hs_atar_2018[\"Sector\"])  \n",
    "    \n",
    "# filtering data  \n",
    "# displaying data only with \"Sector\" = NaN  \n",
    "wa_hs_atar_2018[bool_series]"
   ]
  },
  {
   "cell_type": "code",
   "execution_count": 192,
   "metadata": {},
   "outputs": [
    {
     "output_type": "execute_result",
     "data": {
      "text/plain": [
       "     Year  Better Education Rank                                School  \\\n",
       "0    2017                      1                   Perth Modern School   \n",
       "1    2017                      2  St Hilda's Anglican School for Girls   \n",
       "2    2017                      3          Christ Church Grammar School   \n",
       "3    2017                      4                       Penrhos College   \n",
       "4    2017                      5      St Mary's Anglican Girls' School   \n",
       "..    ...                    ...                                   ...   \n",
       "141  2017                    142                        Butler College   \n",
       "142  2017                    143         Warnbro Community High School   \n",
       "143  2017                    144         Safety Bay Senior High School   \n",
       "144  2017                    145                Southern River College   \n",
       "145  2017                    146            Hedland Senior High School   \n",
       "\n",
       "     Median ATAR  No. eligible Yr 12 students  No. Students with an ATAR  \\\n",
       "0          95.90                          223                        222   \n",
       "1          93.60                          142                        133   \n",
       "2          92.45                          182                        159   \n",
       "3          91.20                          139                        119   \n",
       "4          90.95                          174                        157   \n",
       "..           ...                          ...                        ...   \n",
       "141        57.25                          214                         71   \n",
       "142        56.35                           99                         21   \n",
       "143        56.05                          130                         31   \n",
       "144        55.40                           96                         24   \n",
       "145        52.45                           90                         29   \n",
       "\n",
       "     % students with an ATAR  Trend / Compare  \n",
       "0                      99.55  Trend / Compare  \n",
       "1                      93.66  Trend / Compare  \n",
       "2                      87.36  Trend / Compare  \n",
       "3                      85.61  Trend / Compare  \n",
       "4                      90.23  Trend / Compare  \n",
       "..                       ...              ...  \n",
       "141                    33.18  Trend / Compare  \n",
       "142                    21.21  Trend / Compare  \n",
       "143                    23.85  Trend / Compare  \n",
       "144                    25.00  Trend / Compare  \n",
       "145                    32.22  Trend / Compare  \n",
       "\n",
       "[146 rows x 8 columns]"
      ],
      "text/html": "<div>\n<style scoped>\n    .dataframe tbody tr th:only-of-type {\n        vertical-align: middle;\n    }\n\n    .dataframe tbody tr th {\n        vertical-align: top;\n    }\n\n    .dataframe thead th {\n        text-align: right;\n    }\n</style>\n<table border=\"1\" class=\"dataframe\">\n  <thead>\n    <tr style=\"text-align: right;\">\n      <th></th>\n      <th>Year</th>\n      <th>Better Education Rank</th>\n      <th>School</th>\n      <th>Median ATAR</th>\n      <th>No. eligible Yr 12 students</th>\n      <th>No. Students with an ATAR</th>\n      <th>% students with an ATAR</th>\n      <th>Trend / Compare</th>\n    </tr>\n  </thead>\n  <tbody>\n    <tr>\n      <th>0</th>\n      <td>2017</td>\n      <td>1</td>\n      <td>Perth Modern School</td>\n      <td>95.90</td>\n      <td>223</td>\n      <td>222</td>\n      <td>99.55</td>\n      <td>Trend / Compare</td>\n    </tr>\n    <tr>\n      <th>1</th>\n      <td>2017</td>\n      <td>2</td>\n      <td>St Hilda's Anglican School for Girls</td>\n      <td>93.60</td>\n      <td>142</td>\n      <td>133</td>\n      <td>93.66</td>\n      <td>Trend / Compare</td>\n    </tr>\n    <tr>\n      <th>2</th>\n      <td>2017</td>\n      <td>3</td>\n      <td>Christ Church Grammar School</td>\n      <td>92.45</td>\n      <td>182</td>\n      <td>159</td>\n      <td>87.36</td>\n      <td>Trend / Compare</td>\n    </tr>\n    <tr>\n      <th>3</th>\n      <td>2017</td>\n      <td>4</td>\n      <td>Penrhos College</td>\n      <td>91.20</td>\n      <td>139</td>\n      <td>119</td>\n      <td>85.61</td>\n      <td>Trend / Compare</td>\n    </tr>\n    <tr>\n      <th>4</th>\n      <td>2017</td>\n      <td>5</td>\n      <td>St Mary's Anglican Girls' School</td>\n      <td>90.95</td>\n      <td>174</td>\n      <td>157</td>\n      <td>90.23</td>\n      <td>Trend / Compare</td>\n    </tr>\n    <tr>\n      <th>...</th>\n      <td>...</td>\n      <td>...</td>\n      <td>...</td>\n      <td>...</td>\n      <td>...</td>\n      <td>...</td>\n      <td>...</td>\n      <td>...</td>\n    </tr>\n    <tr>\n      <th>141</th>\n      <td>2017</td>\n      <td>142</td>\n      <td>Butler College</td>\n      <td>57.25</td>\n      <td>214</td>\n      <td>71</td>\n      <td>33.18</td>\n      <td>Trend / Compare</td>\n    </tr>\n    <tr>\n      <th>142</th>\n      <td>2017</td>\n      <td>143</td>\n      <td>Warnbro Community High School</td>\n      <td>56.35</td>\n      <td>99</td>\n      <td>21</td>\n      <td>21.21</td>\n      <td>Trend / Compare</td>\n    </tr>\n    <tr>\n      <th>143</th>\n      <td>2017</td>\n      <td>144</td>\n      <td>Safety Bay Senior High School</td>\n      <td>56.05</td>\n      <td>130</td>\n      <td>31</td>\n      <td>23.85</td>\n      <td>Trend / Compare</td>\n    </tr>\n    <tr>\n      <th>144</th>\n      <td>2017</td>\n      <td>145</td>\n      <td>Southern River College</td>\n      <td>55.40</td>\n      <td>96</td>\n      <td>24</td>\n      <td>25.00</td>\n      <td>Trend / Compare</td>\n    </tr>\n    <tr>\n      <th>145</th>\n      <td>2017</td>\n      <td>146</td>\n      <td>Hedland Senior High School</td>\n      <td>52.45</td>\n      <td>90</td>\n      <td>29</td>\n      <td>32.22</td>\n      <td>Trend / Compare</td>\n    </tr>\n  </tbody>\n</table>\n<p>146 rows × 8 columns</p>\n</div>"
     },
     "metadata": {},
     "execution_count": 192
    }
   ],
   "source": [
    "# get the 2017 url WA schools\n",
    "url_secondary_wa_2017 =\"https://bettereducation.com.au/Results/WA/wace.aspx?yr=2017\"\n",
    "\n",
    "# Use panda's `read_html` to parse the 2017 ATAR url\n",
    "secondary_wa_2017 = pd.read_html(url_secondary_wa_2017, header=0)[0]\n",
    "\n",
    "# rename the \"Unnamed: 0\" column name\n",
    "secondary_wa_2017 = secondary_wa_2017.rename(columns = {\"Unnamed: 0\" : \"Year\"})\n",
    "\n",
    "# replace the values of the \"Year\" column\n",
    "secondary_wa_2017['Year'] = 2017\n",
    "secondary_wa_2017"
   ]
  },
  {
   "cell_type": "code",
   "execution_count": 193,
   "metadata": {},
   "outputs": [
    {
     "output_type": "execute_result",
     "data": {
      "text/plain": [
       "                                   School  Year  Rank  Median ATAR  \\\n",
       "0                     Perth Modern School  2017     1        95.90   \n",
       "1    St Hilda's Anglican School for Girls  2017     2        93.60   \n",
       "2            Christ Church Grammar School  2017     3        92.45   \n",
       "3                         Penrhos College  2017     4        91.20   \n",
       "4        St Mary's Anglican Girls' School  2017     5        90.95   \n",
       "..                                    ...   ...   ...          ...   \n",
       "141                        Butler College  2017   142        57.25   \n",
       "142         Warnbro Community High School  2017   143        56.35   \n",
       "143         Safety Bay Senior High School  2017   144        56.05   \n",
       "144                Southern River College  2017   145        55.40   \n",
       "145            Hedland Senior High School  2017   146        52.45   \n",
       "\n",
       "     No. eligible Yr 12 students  No. Students with an ATAR  \\\n",
       "0                            223                        222   \n",
       "1                            142                        133   \n",
       "2                            182                        159   \n",
       "3                            139                        119   \n",
       "4                            174                        157   \n",
       "..                           ...                        ...   \n",
       "141                          214                         71   \n",
       "142                           99                         21   \n",
       "143                          130                         31   \n",
       "144                           96                         24   \n",
       "145                           90                         29   \n",
       "\n",
       "     Percentage of students with an ATAR  \n",
       "0                                  99.55  \n",
       "1                                  93.66  \n",
       "2                                  87.36  \n",
       "3                                  85.61  \n",
       "4                                  90.23  \n",
       "..                                   ...  \n",
       "141                                33.18  \n",
       "142                                21.21  \n",
       "143                                23.85  \n",
       "144                                25.00  \n",
       "145                                32.22  \n",
       "\n",
       "[146 rows x 7 columns]"
      ],
      "text/html": "<div>\n<style scoped>\n    .dataframe tbody tr th:only-of-type {\n        vertical-align: middle;\n    }\n\n    .dataframe tbody tr th {\n        vertical-align: top;\n    }\n\n    .dataframe thead th {\n        text-align: right;\n    }\n</style>\n<table border=\"1\" class=\"dataframe\">\n  <thead>\n    <tr style=\"text-align: right;\">\n      <th></th>\n      <th>School</th>\n      <th>Year</th>\n      <th>Rank</th>\n      <th>Median ATAR</th>\n      <th>No. eligible Yr 12 students</th>\n      <th>No. Students with an ATAR</th>\n      <th>Percentage of students with an ATAR</th>\n    </tr>\n  </thead>\n  <tbody>\n    <tr>\n      <th>0</th>\n      <td>Perth Modern School</td>\n      <td>2017</td>\n      <td>1</td>\n      <td>95.90</td>\n      <td>223</td>\n      <td>222</td>\n      <td>99.55</td>\n    </tr>\n    <tr>\n      <th>1</th>\n      <td>St Hilda's Anglican School for Girls</td>\n      <td>2017</td>\n      <td>2</td>\n      <td>93.60</td>\n      <td>142</td>\n      <td>133</td>\n      <td>93.66</td>\n    </tr>\n    <tr>\n      <th>2</th>\n      <td>Christ Church Grammar School</td>\n      <td>2017</td>\n      <td>3</td>\n      <td>92.45</td>\n      <td>182</td>\n      <td>159</td>\n      <td>87.36</td>\n    </tr>\n    <tr>\n      <th>3</th>\n      <td>Penrhos College</td>\n      <td>2017</td>\n      <td>4</td>\n      <td>91.20</td>\n      <td>139</td>\n      <td>119</td>\n      <td>85.61</td>\n    </tr>\n    <tr>\n      <th>4</th>\n      <td>St Mary's Anglican Girls' School</td>\n      <td>2017</td>\n      <td>5</td>\n      <td>90.95</td>\n      <td>174</td>\n      <td>157</td>\n      <td>90.23</td>\n    </tr>\n    <tr>\n      <th>...</th>\n      <td>...</td>\n      <td>...</td>\n      <td>...</td>\n      <td>...</td>\n      <td>...</td>\n      <td>...</td>\n      <td>...</td>\n    </tr>\n    <tr>\n      <th>141</th>\n      <td>Butler College</td>\n      <td>2017</td>\n      <td>142</td>\n      <td>57.25</td>\n      <td>214</td>\n      <td>71</td>\n      <td>33.18</td>\n    </tr>\n    <tr>\n      <th>142</th>\n      <td>Warnbro Community High School</td>\n      <td>2017</td>\n      <td>143</td>\n      <td>56.35</td>\n      <td>99</td>\n      <td>21</td>\n      <td>21.21</td>\n    </tr>\n    <tr>\n      <th>143</th>\n      <td>Safety Bay Senior High School</td>\n      <td>2017</td>\n      <td>144</td>\n      <td>56.05</td>\n      <td>130</td>\n      <td>31</td>\n      <td>23.85</td>\n    </tr>\n    <tr>\n      <th>144</th>\n      <td>Southern River College</td>\n      <td>2017</td>\n      <td>145</td>\n      <td>55.40</td>\n      <td>96</td>\n      <td>24</td>\n      <td>25.00</td>\n    </tr>\n    <tr>\n      <th>145</th>\n      <td>Hedland Senior High School</td>\n      <td>2017</td>\n      <td>146</td>\n      <td>52.45</td>\n      <td>90</td>\n      <td>29</td>\n      <td>32.22</td>\n    </tr>\n  </tbody>\n</table>\n<p>146 rows × 7 columns</p>\n</div>"
     },
     "metadata": {},
     "execution_count": 193
    }
   ],
   "source": [
    "# rename some column names to prevent issues when uploading the data to PostgreSQL later on (eg. % will cause an error)\n",
    "secondary_wa_2017 = secondary_wa_2017.rename(columns = {\"Better Education Rank\" : \"Rank\",\n",
    "                                                          \"% students with an ATAR\" : \"Percentage of students with an ATAR\"})\n",
    "\n",
    "# re-arrange the columns & delete the column \"Trend / Compare\" since it's not required\n",
    "secondary_wa_2017 = secondary_wa_2017[['School', 'Year', 'Rank', 'Median ATAR','No. eligible Yr 12 students', 'No. Students with an ATAR', 'Percentage of students with an ATAR']]\n",
    "\n",
    "secondary_wa_2017"
   ]
  },
  {
   "cell_type": "code",
   "execution_count": 194,
   "metadata": {},
   "outputs": [],
   "source": [
    "# replace some values to correct the spelling to prevent Null values when performing the merge with other Dataframes later on\n",
    "secondary_wa_2017[\"School\"].replace({\"Australian Islamic College\": \"Australian Islamic College - Dianella\", \n",
    "                       \"Christian Brothers College,Fremantle,WA,6160\": \"Christian Brothers' College\",\n",
    "                       \"Australian Islamic College (Kewdale)\": \"Australian Islamic College - Kewdale\",\n",
    "                       \"Serpentine-Jarrahdale Grammar School\": \"Court Grammar School\",\n",
    "                       \"Western Australian College of Agriculture (Cunderdin)\": \"Western Australian College Of Agriculture - Cunderdin\",\n",
    "                       \"Carey Baptist College,Harrisdale,WA,6112\": \"Carey Baptist College\",\n",
    "                       \"St Mary MacKillop College\": \"St Mary Mackillop College\",\n",
    "                       \"John Curtin College Of The Arts\": \"John Curtin College of The Arts\",\n",
    "                       \"St Stephen's School (Carramar)\": \"St Stephen's School - Carramar\",\n",
    "                       \"St Stephen's School (Duncraig)\": \"St Stephen's School - Duncraig\",\n",
    "                       \"St Stephen's School\": \"St Stephen's School - Carramar\",\n",
    "                       \"Irene McCormack Catholic Colle\": \"Irene McCormack Catholic College\",\n",
    "                       \"Swan Valley Anglican Community\": \"Swan Valley Anglican Community School\",\n",
    "                       \"John Curtin College Of The Arts\": \"John Curtin College of the Arts\",\n",
    "                       \"Peter Moyes Anglican Community\": \"Peter Moyes Anglican Community School\",\n",
    "                       \"Great Southern Grammar School\": \"Great Southern Grammar\"\n",
    "                        }, inplace=True)"
   ]
  },
  {
   "cell_type": "code",
   "execution_count": 195,
   "metadata": {},
   "outputs": [
    {
     "output_type": "execute_result",
     "data": {
      "text/plain": [
       "                                   School  Year  Rank  Median ATAR  \\\n",
       "0                     Perth Modern School  2017     1        95.90   \n",
       "1    St Hilda's Anglican School for Girls  2017     2        93.60   \n",
       "2            Christ Church Grammar School  2017     3        92.45   \n",
       "3                         Penrhos College  2017     4        91.20   \n",
       "4        St Mary's Anglican Girls' School  2017     5        90.95   \n",
       "..                                    ...   ...   ...          ...   \n",
       "141                        Butler College  2017   142        57.25   \n",
       "142         Warnbro Community High School  2017   143        56.35   \n",
       "143         Safety Bay Senior High School  2017   144        56.05   \n",
       "144                Southern River College  2017   145        55.40   \n",
       "145            Hedland Senior High School  2017   146        52.45   \n",
       "\n",
       "     No. eligible Yr 12 students  No. Students with an ATAR  \\\n",
       "0                            223                        222   \n",
       "1                            142                        133   \n",
       "2                            182                        159   \n",
       "3                            139                        119   \n",
       "4                            174                        157   \n",
       "..                           ...                        ...   \n",
       "141                          214                         71   \n",
       "142                           99                         21   \n",
       "143                          130                         31   \n",
       "144                           96                         24   \n",
       "145                           90                         29   \n",
       "\n",
       "     Percentage of students with an ATAR         Suburb   Longitude   Latitude  \n",
       "0                                  99.55        Subiaco  115.836396 -31.945066  \n",
       "1                                  93.66    Mosman Park  115.767812 -32.005047  \n",
       "2                                  87.36      Claremont  115.776987 -31.985461  \n",
       "3                                  85.61           Como  115.872539 -31.997431  \n",
       "4                                  90.23      Karrinyup  115.766244 -31.876971  \n",
       "..                                   ...            ...         ...        ...  \n",
       "141                                33.18         Butler  115.708701 -31.651664  \n",
       "142                                21.21        Warnbro  115.759096 -32.345569  \n",
       "143                                23.85     Safety Bay  115.740964 -32.303286  \n",
       "144                                25.00       Gosnells  115.979918 -32.085598  \n",
       "145                                32.22  South Hedland  118.598616 -20.398789  \n",
       "\n",
       "[146 rows x 10 columns]"
      ],
      "text/html": "<div>\n<style scoped>\n    .dataframe tbody tr th:only-of-type {\n        vertical-align: middle;\n    }\n\n    .dataframe tbody tr th {\n        vertical-align: top;\n    }\n\n    .dataframe thead th {\n        text-align: right;\n    }\n</style>\n<table border=\"1\" class=\"dataframe\">\n  <thead>\n    <tr style=\"text-align: right;\">\n      <th></th>\n      <th>School</th>\n      <th>Year</th>\n      <th>Rank</th>\n      <th>Median ATAR</th>\n      <th>No. eligible Yr 12 students</th>\n      <th>No. Students with an ATAR</th>\n      <th>Percentage of students with an ATAR</th>\n      <th>Suburb</th>\n      <th>Longitude</th>\n      <th>Latitude</th>\n    </tr>\n  </thead>\n  <tbody>\n    <tr>\n      <th>0</th>\n      <td>Perth Modern School</td>\n      <td>2017</td>\n      <td>1</td>\n      <td>95.90</td>\n      <td>223</td>\n      <td>222</td>\n      <td>99.55</td>\n      <td>Subiaco</td>\n      <td>115.836396</td>\n      <td>-31.945066</td>\n    </tr>\n    <tr>\n      <th>1</th>\n      <td>St Hilda's Anglican School for Girls</td>\n      <td>2017</td>\n      <td>2</td>\n      <td>93.60</td>\n      <td>142</td>\n      <td>133</td>\n      <td>93.66</td>\n      <td>Mosman Park</td>\n      <td>115.767812</td>\n      <td>-32.005047</td>\n    </tr>\n    <tr>\n      <th>2</th>\n      <td>Christ Church Grammar School</td>\n      <td>2017</td>\n      <td>3</td>\n      <td>92.45</td>\n      <td>182</td>\n      <td>159</td>\n      <td>87.36</td>\n      <td>Claremont</td>\n      <td>115.776987</td>\n      <td>-31.985461</td>\n    </tr>\n    <tr>\n      <th>3</th>\n      <td>Penrhos College</td>\n      <td>2017</td>\n      <td>4</td>\n      <td>91.20</td>\n      <td>139</td>\n      <td>119</td>\n      <td>85.61</td>\n      <td>Como</td>\n      <td>115.872539</td>\n      <td>-31.997431</td>\n    </tr>\n    <tr>\n      <th>4</th>\n      <td>St Mary's Anglican Girls' School</td>\n      <td>2017</td>\n      <td>5</td>\n      <td>90.95</td>\n      <td>174</td>\n      <td>157</td>\n      <td>90.23</td>\n      <td>Karrinyup</td>\n      <td>115.766244</td>\n      <td>-31.876971</td>\n    </tr>\n    <tr>\n      <th>...</th>\n      <td>...</td>\n      <td>...</td>\n      <td>...</td>\n      <td>...</td>\n      <td>...</td>\n      <td>...</td>\n      <td>...</td>\n      <td>...</td>\n      <td>...</td>\n      <td>...</td>\n    </tr>\n    <tr>\n      <th>141</th>\n      <td>Butler College</td>\n      <td>2017</td>\n      <td>142</td>\n      <td>57.25</td>\n      <td>214</td>\n      <td>71</td>\n      <td>33.18</td>\n      <td>Butler</td>\n      <td>115.708701</td>\n      <td>-31.651664</td>\n    </tr>\n    <tr>\n      <th>142</th>\n      <td>Warnbro Community High School</td>\n      <td>2017</td>\n      <td>143</td>\n      <td>56.35</td>\n      <td>99</td>\n      <td>21</td>\n      <td>21.21</td>\n      <td>Warnbro</td>\n      <td>115.759096</td>\n      <td>-32.345569</td>\n    </tr>\n    <tr>\n      <th>143</th>\n      <td>Safety Bay Senior High School</td>\n      <td>2017</td>\n      <td>144</td>\n      <td>56.05</td>\n      <td>130</td>\n      <td>31</td>\n      <td>23.85</td>\n      <td>Safety Bay</td>\n      <td>115.740964</td>\n      <td>-32.303286</td>\n    </tr>\n    <tr>\n      <th>144</th>\n      <td>Southern River College</td>\n      <td>2017</td>\n      <td>145</td>\n      <td>55.40</td>\n      <td>96</td>\n      <td>24</td>\n      <td>25.00</td>\n      <td>Gosnells</td>\n      <td>115.979918</td>\n      <td>-32.085598</td>\n    </tr>\n    <tr>\n      <th>145</th>\n      <td>Hedland Senior High School</td>\n      <td>2017</td>\n      <td>146</td>\n      <td>52.45</td>\n      <td>90</td>\n      <td>29</td>\n      <td>32.22</td>\n      <td>South Hedland</td>\n      <td>118.598616</td>\n      <td>-20.398789</td>\n    </tr>\n  </tbody>\n</table>\n<p>146 rows × 10 columns</p>\n</div>"
     },
     "metadata": {},
     "execution_count": 195
    }
   ],
   "source": [
    "# Merge \"secondary_wa_2017\" & \"school_coordinates\" Dataframes\n",
    "wa_hs_atar_2017_coord = pd.merge(secondary_wa_2017, school_coordinates, on='School', how='left')\n",
    "wa_hs_atar_2017_coord"
   ]
  },
  {
   "cell_type": "code",
   "execution_count": 196,
   "metadata": {},
   "outputs": [
    {
     "output_type": "execute_result",
     "data": {
      "text/plain": [
       "Empty DataFrame\n",
       "Columns: [School, Year, Rank, Median ATAR, No. eligible Yr 12 students, No. Students with an ATAR, Percentage of students with an ATAR, Suburb, Longitude, Latitude]\n",
       "Index: []"
      ],
      "text/html": "<div>\n<style scoped>\n    .dataframe tbody tr th:only-of-type {\n        vertical-align: middle;\n    }\n\n    .dataframe tbody tr th {\n        vertical-align: top;\n    }\n\n    .dataframe thead th {\n        text-align: right;\n    }\n</style>\n<table border=\"1\" class=\"dataframe\">\n  <thead>\n    <tr style=\"text-align: right;\">\n      <th></th>\n      <th>School</th>\n      <th>Year</th>\n      <th>Rank</th>\n      <th>Median ATAR</th>\n      <th>No. eligible Yr 12 students</th>\n      <th>No. Students with an ATAR</th>\n      <th>Percentage of students with an ATAR</th>\n      <th>Suburb</th>\n      <th>Longitude</th>\n      <th>Latitude</th>\n    </tr>\n  </thead>\n  <tbody>\n  </tbody>\n</table>\n</div>"
     },
     "metadata": {},
     "execution_count": 196
    }
   ],
   "source": [
    "# Check for NaN values\n",
    "# creating bool series True for NaN values  \n",
    "bool_series = pd.isnull(wa_hs_atar_2017_coord[\"Longitude\"])  \n",
    "    \n",
    "# filtering data  \n",
    "# displaying data only with \"Longitude\" = NaN\n",
    "wa_hs_atar_2017_coord[bool_series]"
   ]
  },
  {
   "cell_type": "code",
   "execution_count": 197,
   "metadata": {},
   "outputs": [
    {
     "output_type": "execute_result",
     "data": {
      "text/plain": [
       "                                   School  Year  Rank  Median ATAR  \\\n",
       "0                     Perth Modern School  2017     1        95.90   \n",
       "1    St Hilda's Anglican School for Girls  2017     2        93.60   \n",
       "2            Christ Church Grammar School  2017     3        92.45   \n",
       "3                         Penrhos College  2017     4        91.20   \n",
       "4        St Mary's Anglican Girls' School  2017     5        90.95   \n",
       "..                                    ...   ...   ...          ...   \n",
       "141                        Butler College  2017   142        57.25   \n",
       "142         Warnbro Community High School  2017   143        56.35   \n",
       "143         Safety Bay Senior High School  2017   144        56.05   \n",
       "144                Southern River College  2017   145        55.40   \n",
       "145            Hedland Senior High School  2017   146        52.45   \n",
       "\n",
       "     No. eligible Yr 12 students  No. Students with an ATAR  \\\n",
       "0                            223                        222   \n",
       "1                            142                        133   \n",
       "2                            182                        159   \n",
       "3                            139                        119   \n",
       "4                            174                        157   \n",
       "..                           ...                        ...   \n",
       "141                          214                         71   \n",
       "142                           99                         21   \n",
       "143                          130                         31   \n",
       "144                           96                         24   \n",
       "145                           90                         29   \n",
       "\n",
       "     Percentage of students with an ATAR         Suburb   Longitude  \\\n",
       "0                                  99.55        Subiaco  115.836396   \n",
       "1                                  93.66    Mosman Park  115.767812   \n",
       "2                                  87.36      Claremont  115.776987   \n",
       "3                                  85.61           Como  115.872539   \n",
       "4                                  90.23      Karrinyup  115.766244   \n",
       "..                                   ...            ...         ...   \n",
       "141                                33.18         Butler  115.708701   \n",
       "142                                21.21        Warnbro  115.759096   \n",
       "143                                23.85     Safety Bay  115.740964   \n",
       "144                                25.00       Gosnells  115.979918   \n",
       "145                                32.22  South Hedland  118.598616   \n",
       "\n",
       "      Latitude          Sector Gender  Religion  \n",
       "0   -31.945066      Government  Co-ed   Secular  \n",
       "1   -32.005047  Non-government  Girls  Anglican  \n",
       "2   -31.985461  Non-government   Boys  Anglican  \n",
       "3   -31.997431  Non-government  Girls   Uniting  \n",
       "4   -31.876971  Non-government  Girls  Anglican  \n",
       "..         ...             ...    ...       ...  \n",
       "141 -31.651664      Government  Co-ed   Secular  \n",
       "142 -32.345569      Government  Co-ed   Secular  \n",
       "143 -32.303286      Government  Co-ed   Secular  \n",
       "144 -32.085598      Government  Co-ed   Secular  \n",
       "145 -20.398789      Government  Co-ed   Secular  \n",
       "\n",
       "[146 rows x 13 columns]"
      ],
      "text/html": "<div>\n<style scoped>\n    .dataframe tbody tr th:only-of-type {\n        vertical-align: middle;\n    }\n\n    .dataframe tbody tr th {\n        vertical-align: top;\n    }\n\n    .dataframe thead th {\n        text-align: right;\n    }\n</style>\n<table border=\"1\" class=\"dataframe\">\n  <thead>\n    <tr style=\"text-align: right;\">\n      <th></th>\n      <th>School</th>\n      <th>Year</th>\n      <th>Rank</th>\n      <th>Median ATAR</th>\n      <th>No. eligible Yr 12 students</th>\n      <th>No. Students with an ATAR</th>\n      <th>Percentage of students with an ATAR</th>\n      <th>Suburb</th>\n      <th>Longitude</th>\n      <th>Latitude</th>\n      <th>Sector</th>\n      <th>Gender</th>\n      <th>Religion</th>\n    </tr>\n  </thead>\n  <tbody>\n    <tr>\n      <th>0</th>\n      <td>Perth Modern School</td>\n      <td>2017</td>\n      <td>1</td>\n      <td>95.90</td>\n      <td>223</td>\n      <td>222</td>\n      <td>99.55</td>\n      <td>Subiaco</td>\n      <td>115.836396</td>\n      <td>-31.945066</td>\n      <td>Government</td>\n      <td>Co-ed</td>\n      <td>Secular</td>\n    </tr>\n    <tr>\n      <th>1</th>\n      <td>St Hilda's Anglican School for Girls</td>\n      <td>2017</td>\n      <td>2</td>\n      <td>93.60</td>\n      <td>142</td>\n      <td>133</td>\n      <td>93.66</td>\n      <td>Mosman Park</td>\n      <td>115.767812</td>\n      <td>-32.005047</td>\n      <td>Non-government</td>\n      <td>Girls</td>\n      <td>Anglican</td>\n    </tr>\n    <tr>\n      <th>2</th>\n      <td>Christ Church Grammar School</td>\n      <td>2017</td>\n      <td>3</td>\n      <td>92.45</td>\n      <td>182</td>\n      <td>159</td>\n      <td>87.36</td>\n      <td>Claremont</td>\n      <td>115.776987</td>\n      <td>-31.985461</td>\n      <td>Non-government</td>\n      <td>Boys</td>\n      <td>Anglican</td>\n    </tr>\n    <tr>\n      <th>3</th>\n      <td>Penrhos College</td>\n      <td>2017</td>\n      <td>4</td>\n      <td>91.20</td>\n      <td>139</td>\n      <td>119</td>\n      <td>85.61</td>\n      <td>Como</td>\n      <td>115.872539</td>\n      <td>-31.997431</td>\n      <td>Non-government</td>\n      <td>Girls</td>\n      <td>Uniting</td>\n    </tr>\n    <tr>\n      <th>4</th>\n      <td>St Mary's Anglican Girls' School</td>\n      <td>2017</td>\n      <td>5</td>\n      <td>90.95</td>\n      <td>174</td>\n      <td>157</td>\n      <td>90.23</td>\n      <td>Karrinyup</td>\n      <td>115.766244</td>\n      <td>-31.876971</td>\n      <td>Non-government</td>\n      <td>Girls</td>\n      <td>Anglican</td>\n    </tr>\n    <tr>\n      <th>...</th>\n      <td>...</td>\n      <td>...</td>\n      <td>...</td>\n      <td>...</td>\n      <td>...</td>\n      <td>...</td>\n      <td>...</td>\n      <td>...</td>\n      <td>...</td>\n      <td>...</td>\n      <td>...</td>\n      <td>...</td>\n      <td>...</td>\n    </tr>\n    <tr>\n      <th>141</th>\n      <td>Butler College</td>\n      <td>2017</td>\n      <td>142</td>\n      <td>57.25</td>\n      <td>214</td>\n      <td>71</td>\n      <td>33.18</td>\n      <td>Butler</td>\n      <td>115.708701</td>\n      <td>-31.651664</td>\n      <td>Government</td>\n      <td>Co-ed</td>\n      <td>Secular</td>\n    </tr>\n    <tr>\n      <th>142</th>\n      <td>Warnbro Community High School</td>\n      <td>2017</td>\n      <td>143</td>\n      <td>56.35</td>\n      <td>99</td>\n      <td>21</td>\n      <td>21.21</td>\n      <td>Warnbro</td>\n      <td>115.759096</td>\n      <td>-32.345569</td>\n      <td>Government</td>\n      <td>Co-ed</td>\n      <td>Secular</td>\n    </tr>\n    <tr>\n      <th>143</th>\n      <td>Safety Bay Senior High School</td>\n      <td>2017</td>\n      <td>144</td>\n      <td>56.05</td>\n      <td>130</td>\n      <td>31</td>\n      <td>23.85</td>\n      <td>Safety Bay</td>\n      <td>115.740964</td>\n      <td>-32.303286</td>\n      <td>Government</td>\n      <td>Co-ed</td>\n      <td>Secular</td>\n    </tr>\n    <tr>\n      <th>144</th>\n      <td>Southern River College</td>\n      <td>2017</td>\n      <td>145</td>\n      <td>55.40</td>\n      <td>96</td>\n      <td>24</td>\n      <td>25.00</td>\n      <td>Gosnells</td>\n      <td>115.979918</td>\n      <td>-32.085598</td>\n      <td>Government</td>\n      <td>Co-ed</td>\n      <td>Secular</td>\n    </tr>\n    <tr>\n      <th>145</th>\n      <td>Hedland Senior High School</td>\n      <td>2017</td>\n      <td>146</td>\n      <td>52.45</td>\n      <td>90</td>\n      <td>29</td>\n      <td>32.22</td>\n      <td>South Hedland</td>\n      <td>118.598616</td>\n      <td>-20.398789</td>\n      <td>Government</td>\n      <td>Co-ed</td>\n      <td>Secular</td>\n    </tr>\n  </tbody>\n</table>\n<p>146 rows × 13 columns</p>\n</div>"
     },
     "metadata": {},
     "execution_count": 197
    }
   ],
   "source": [
    "# Merge both \"wa_hs_atar_2017_coord\" & \"sectors\" Dataframes\n",
    "wa_hs_atar_2017 = pd.merge(wa_hs_atar_2017_coord, sectors, on='School', how='left')\n",
    "wa_hs_atar_2017"
   ]
  },
  {
   "cell_type": "code",
   "execution_count": 198,
   "metadata": {},
   "outputs": [
    {
     "output_type": "execute_result",
     "data": {
      "text/plain": [
       "Empty DataFrame\n",
       "Columns: [School, Year, Rank, Median ATAR, No. eligible Yr 12 students, No. Students with an ATAR, Percentage of students with an ATAR, Suburb, Longitude, Latitude, Sector, Gender, Religion]\n",
       "Index: []"
      ],
      "text/html": "<div>\n<style scoped>\n    .dataframe tbody tr th:only-of-type {\n        vertical-align: middle;\n    }\n\n    .dataframe tbody tr th {\n        vertical-align: top;\n    }\n\n    .dataframe thead th {\n        text-align: right;\n    }\n</style>\n<table border=\"1\" class=\"dataframe\">\n  <thead>\n    <tr style=\"text-align: right;\">\n      <th></th>\n      <th>School</th>\n      <th>Year</th>\n      <th>Rank</th>\n      <th>Median ATAR</th>\n      <th>No. eligible Yr 12 students</th>\n      <th>No. Students with an ATAR</th>\n      <th>Percentage of students with an ATAR</th>\n      <th>Suburb</th>\n      <th>Longitude</th>\n      <th>Latitude</th>\n      <th>Sector</th>\n      <th>Gender</th>\n      <th>Religion</th>\n    </tr>\n  </thead>\n  <tbody>\n  </tbody>\n</table>\n</div>"
     },
     "metadata": {},
     "execution_count": 198
    }
   ],
   "source": [
    "# Check for NaN values\n",
    "# creating bool series True for NaN values  \n",
    "bool_series = pd.isnull(wa_hs_atar_2017[\"Sector\"])  \n",
    "    \n",
    "# filtering data  \n",
    "# displaying data only with \"Sector\" = NaN\n",
    "wa_hs_atar_2017[bool_series]"
   ]
  },
  {
   "cell_type": "code",
   "execution_count": 199,
   "metadata": {},
   "outputs": [
    {
     "output_type": "execute_result",
     "data": {
      "text/plain": [
       "     Year  Better Education Rank                           School  \\\n",
       "0    2016                      1              Perth Modern School   \n",
       "1    2016                      2     Presbyterian Ladies' College   \n",
       "2    2016                      3                  Penrhos College   \n",
       "3    2016                      4     Christ Church Grammar School   \n",
       "4    2016                      5              Santa Maria College   \n",
       "..    ...                    ...                              ...   \n",
       "138  2016                    139      Thornlie Senior High School   \n",
       "139  2016                    140      Lakeland Senior High School   \n",
       "140  2016                    141  Newton Moore Senior High School   \n",
       "141  2016                    142     Foundation Christian College   \n",
       "142  2016                    143    Warnbro Community High School   \n",
       "\n",
       "     Median ATAR  No. eligible Yr 12 students  No. Students with an ATAR  \\\n",
       "0          95.55                          222                        220   \n",
       "1          92.90                          122                        110   \n",
       "2          92.65                          145                        123   \n",
       "3          92.50                          188                        171   \n",
       "4          91.85                          189                        151   \n",
       "..           ...                          ...                        ...   \n",
       "138        58.45                          125                         35   \n",
       "139        57.70                           89                         27   \n",
       "140        56.95                           90                         35   \n",
       "141        50.65                           35                         26   \n",
       "142        45.30                          171                         48   \n",
       "\n",
       "     % students with an ATAR  Trend / Compare  \n",
       "0                      99.10  Trend / Compare  \n",
       "1                      90.16  Trend / Compare  \n",
       "2                      84.83  Trend / Compare  \n",
       "3                      90.96  Trend / Compare  \n",
       "4                      79.89  Trend / Compare  \n",
       "..                       ...              ...  \n",
       "138                    28.00  Trend / Compare  \n",
       "139                    30.34  Trend / Compare  \n",
       "140                    38.89  Trend / Compare  \n",
       "141                    74.29  Trend / Compare  \n",
       "142                    28.07  Trend / Compare  \n",
       "\n",
       "[143 rows x 8 columns]"
      ],
      "text/html": "<div>\n<style scoped>\n    .dataframe tbody tr th:only-of-type {\n        vertical-align: middle;\n    }\n\n    .dataframe tbody tr th {\n        vertical-align: top;\n    }\n\n    .dataframe thead th {\n        text-align: right;\n    }\n</style>\n<table border=\"1\" class=\"dataframe\">\n  <thead>\n    <tr style=\"text-align: right;\">\n      <th></th>\n      <th>Year</th>\n      <th>Better Education Rank</th>\n      <th>School</th>\n      <th>Median ATAR</th>\n      <th>No. eligible Yr 12 students</th>\n      <th>No. Students with an ATAR</th>\n      <th>% students with an ATAR</th>\n      <th>Trend / Compare</th>\n    </tr>\n  </thead>\n  <tbody>\n    <tr>\n      <th>0</th>\n      <td>2016</td>\n      <td>1</td>\n      <td>Perth Modern School</td>\n      <td>95.55</td>\n      <td>222</td>\n      <td>220</td>\n      <td>99.10</td>\n      <td>Trend / Compare</td>\n    </tr>\n    <tr>\n      <th>1</th>\n      <td>2016</td>\n      <td>2</td>\n      <td>Presbyterian Ladies' College</td>\n      <td>92.90</td>\n      <td>122</td>\n      <td>110</td>\n      <td>90.16</td>\n      <td>Trend / Compare</td>\n    </tr>\n    <tr>\n      <th>2</th>\n      <td>2016</td>\n      <td>3</td>\n      <td>Penrhos College</td>\n      <td>92.65</td>\n      <td>145</td>\n      <td>123</td>\n      <td>84.83</td>\n      <td>Trend / Compare</td>\n    </tr>\n    <tr>\n      <th>3</th>\n      <td>2016</td>\n      <td>4</td>\n      <td>Christ Church Grammar School</td>\n      <td>92.50</td>\n      <td>188</td>\n      <td>171</td>\n      <td>90.96</td>\n      <td>Trend / Compare</td>\n    </tr>\n    <tr>\n      <th>4</th>\n      <td>2016</td>\n      <td>5</td>\n      <td>Santa Maria College</td>\n      <td>91.85</td>\n      <td>189</td>\n      <td>151</td>\n      <td>79.89</td>\n      <td>Trend / Compare</td>\n    </tr>\n    <tr>\n      <th>...</th>\n      <td>...</td>\n      <td>...</td>\n      <td>...</td>\n      <td>...</td>\n      <td>...</td>\n      <td>...</td>\n      <td>...</td>\n      <td>...</td>\n    </tr>\n    <tr>\n      <th>138</th>\n      <td>2016</td>\n      <td>139</td>\n      <td>Thornlie Senior High School</td>\n      <td>58.45</td>\n      <td>125</td>\n      <td>35</td>\n      <td>28.00</td>\n      <td>Trend / Compare</td>\n    </tr>\n    <tr>\n      <th>139</th>\n      <td>2016</td>\n      <td>140</td>\n      <td>Lakeland Senior High School</td>\n      <td>57.70</td>\n      <td>89</td>\n      <td>27</td>\n      <td>30.34</td>\n      <td>Trend / Compare</td>\n    </tr>\n    <tr>\n      <th>140</th>\n      <td>2016</td>\n      <td>141</td>\n      <td>Newton Moore Senior High School</td>\n      <td>56.95</td>\n      <td>90</td>\n      <td>35</td>\n      <td>38.89</td>\n      <td>Trend / Compare</td>\n    </tr>\n    <tr>\n      <th>141</th>\n      <td>2016</td>\n      <td>142</td>\n      <td>Foundation Christian College</td>\n      <td>50.65</td>\n      <td>35</td>\n      <td>26</td>\n      <td>74.29</td>\n      <td>Trend / Compare</td>\n    </tr>\n    <tr>\n      <th>142</th>\n      <td>2016</td>\n      <td>143</td>\n      <td>Warnbro Community High School</td>\n      <td>45.30</td>\n      <td>171</td>\n      <td>48</td>\n      <td>28.07</td>\n      <td>Trend / Compare</td>\n    </tr>\n  </tbody>\n</table>\n<p>143 rows × 8 columns</p>\n</div>"
     },
     "metadata": {},
     "execution_count": 199
    }
   ],
   "source": [
    "# get the 2016 url WA schools\n",
    "url_secondary_wa_2016 =\"https://bettereducation.com.au/Results/WA/wace.aspx?yr=2016\"\n",
    "\n",
    "# Use panda's `read_html` to parse the 2016 ATAR url\n",
    "secondary_wa_2016 = pd.read_html(url_secondary_wa_2016, header=0)[0]\n",
    "\n",
    "# rename the \"Unnamed: 0\" column name\n",
    "secondary_wa_2016 = secondary_wa_2016.rename(columns = {\"Unnamed: 0\" : \"Year\"})\n",
    "\n",
    "# replace the values of the \"Year\" column\n",
    "secondary_wa_2016['Year'] = 2016\n",
    "secondary_wa_2016"
   ]
  },
  {
   "cell_type": "code",
   "execution_count": 200,
   "metadata": {},
   "outputs": [
    {
     "output_type": "execute_result",
     "data": {
      "text/plain": [
       "                              School  Year  Rank  Median ATAR  \\\n",
       "0                Perth Modern School  2016     1        95.55   \n",
       "1       Presbyterian Ladies' College  2016     2        92.90   \n",
       "2                    Penrhos College  2016     3        92.65   \n",
       "3       Christ Church Grammar School  2016     4        92.50   \n",
       "4                Santa Maria College  2016     5        91.85   \n",
       "..                               ...   ...   ...          ...   \n",
       "138      Thornlie Senior High School  2016   139        58.45   \n",
       "139      Lakeland Senior High School  2016   140        57.70   \n",
       "140  Newton Moore Senior High School  2016   141        56.95   \n",
       "141     Foundation Christian College  2016   142        50.65   \n",
       "142    Warnbro Community High School  2016   143        45.30   \n",
       "\n",
       "     No. eligible Yr 12 students  No. Students with an ATAR  \\\n",
       "0                            222                        220   \n",
       "1                            122                        110   \n",
       "2                            145                        123   \n",
       "3                            188                        171   \n",
       "4                            189                        151   \n",
       "..                           ...                        ...   \n",
       "138                          125                         35   \n",
       "139                           89                         27   \n",
       "140                           90                         35   \n",
       "141                           35                         26   \n",
       "142                          171                         48   \n",
       "\n",
       "     Percentage of students with an ATAR  \n",
       "0                                  99.10  \n",
       "1                                  90.16  \n",
       "2                                  84.83  \n",
       "3                                  90.96  \n",
       "4                                  79.89  \n",
       "..                                   ...  \n",
       "138                                28.00  \n",
       "139                                30.34  \n",
       "140                                38.89  \n",
       "141                                74.29  \n",
       "142                                28.07  \n",
       "\n",
       "[143 rows x 7 columns]"
      ],
      "text/html": "<div>\n<style scoped>\n    .dataframe tbody tr th:only-of-type {\n        vertical-align: middle;\n    }\n\n    .dataframe tbody tr th {\n        vertical-align: top;\n    }\n\n    .dataframe thead th {\n        text-align: right;\n    }\n</style>\n<table border=\"1\" class=\"dataframe\">\n  <thead>\n    <tr style=\"text-align: right;\">\n      <th></th>\n      <th>School</th>\n      <th>Year</th>\n      <th>Rank</th>\n      <th>Median ATAR</th>\n      <th>No. eligible Yr 12 students</th>\n      <th>No. Students with an ATAR</th>\n      <th>Percentage of students with an ATAR</th>\n    </tr>\n  </thead>\n  <tbody>\n    <tr>\n      <th>0</th>\n      <td>Perth Modern School</td>\n      <td>2016</td>\n      <td>1</td>\n      <td>95.55</td>\n      <td>222</td>\n      <td>220</td>\n      <td>99.10</td>\n    </tr>\n    <tr>\n      <th>1</th>\n      <td>Presbyterian Ladies' College</td>\n      <td>2016</td>\n      <td>2</td>\n      <td>92.90</td>\n      <td>122</td>\n      <td>110</td>\n      <td>90.16</td>\n    </tr>\n    <tr>\n      <th>2</th>\n      <td>Penrhos College</td>\n      <td>2016</td>\n      <td>3</td>\n      <td>92.65</td>\n      <td>145</td>\n      <td>123</td>\n      <td>84.83</td>\n    </tr>\n    <tr>\n      <th>3</th>\n      <td>Christ Church Grammar School</td>\n      <td>2016</td>\n      <td>4</td>\n      <td>92.50</td>\n      <td>188</td>\n      <td>171</td>\n      <td>90.96</td>\n    </tr>\n    <tr>\n      <th>4</th>\n      <td>Santa Maria College</td>\n      <td>2016</td>\n      <td>5</td>\n      <td>91.85</td>\n      <td>189</td>\n      <td>151</td>\n      <td>79.89</td>\n    </tr>\n    <tr>\n      <th>...</th>\n      <td>...</td>\n      <td>...</td>\n      <td>...</td>\n      <td>...</td>\n      <td>...</td>\n      <td>...</td>\n      <td>...</td>\n    </tr>\n    <tr>\n      <th>138</th>\n      <td>Thornlie Senior High School</td>\n      <td>2016</td>\n      <td>139</td>\n      <td>58.45</td>\n      <td>125</td>\n      <td>35</td>\n      <td>28.00</td>\n    </tr>\n    <tr>\n      <th>139</th>\n      <td>Lakeland Senior High School</td>\n      <td>2016</td>\n      <td>140</td>\n      <td>57.70</td>\n      <td>89</td>\n      <td>27</td>\n      <td>30.34</td>\n    </tr>\n    <tr>\n      <th>140</th>\n      <td>Newton Moore Senior High School</td>\n      <td>2016</td>\n      <td>141</td>\n      <td>56.95</td>\n      <td>90</td>\n      <td>35</td>\n      <td>38.89</td>\n    </tr>\n    <tr>\n      <th>141</th>\n      <td>Foundation Christian College</td>\n      <td>2016</td>\n      <td>142</td>\n      <td>50.65</td>\n      <td>35</td>\n      <td>26</td>\n      <td>74.29</td>\n    </tr>\n    <tr>\n      <th>142</th>\n      <td>Warnbro Community High School</td>\n      <td>2016</td>\n      <td>143</td>\n      <td>45.30</td>\n      <td>171</td>\n      <td>48</td>\n      <td>28.07</td>\n    </tr>\n  </tbody>\n</table>\n<p>143 rows × 7 columns</p>\n</div>"
     },
     "metadata": {},
     "execution_count": 200
    }
   ],
   "source": [
    "# rename some column names to prevent issues when uploading the data to PostgreSQL later on (eg. % will cause an error)\n",
    "secondary_wa_2016 = secondary_wa_2016.rename(columns = {\"Better Education Rank\" : \"Rank\",\n",
    "                                                          \"% students with an ATAR\" : \"Percentage of students with an ATAR\"})\n",
    "\n",
    "# re-arrange the columns & delete the column \"Trend / Compare\" since it's not required\n",
    "secondary_wa_2016 = secondary_wa_2016[['School', 'Year', 'Rank', 'Median ATAR','No. eligible Yr 12 students', 'No. Students with an ATAR', 'Percentage of students with an ATAR']]\n",
    "\n",
    "secondary_wa_2016"
   ]
  },
  {
   "cell_type": "code",
   "execution_count": 201,
   "metadata": {},
   "outputs": [],
   "source": [
    "# replace some values to correct the spelling to prevent Null values when performing the merge with other Dataframes later on\n",
    "secondary_wa_2016[\"School\"].replace({\"Australian Islamic College\": \"Australian Islamic College - Dianella\", \n",
    "                       \"Christian Brothers College,Fremantle,WA,6160\": \"Christian Brothers' College\",\n",
    "                       \"Australian Islamic College (Kewdale)\": \"Australian Islamic College - Kewdale\",\n",
    "                       \"Serpentine-Jarrahdale Grammar School\": \"Court Grammar School\",\n",
    "                       \"Western Australian College of Agriculture (Cunderdin)\": \"Western Australian College Of Agriculture - Cunderdin\",\n",
    "                       \"Carey Baptist College,Harrisdale,WA,6112\": \"Carey Baptist College\",\n",
    "                       \"St Mary MacKillop College\": \"St Mary Mackillop College\",\n",
    "                       \"John Curtin College Of The Arts\": \"John Curtin College of The Arts\",\n",
    "                       \"St Stephen's School (Carramar)\": \"St Stephen's School - Carramar\",\n",
    "                       \"St Stephen's School (Duncraig)\": \"St Stephen's School - Duncraig\",\n",
    "                       \"St Stephen's School\": \"St Stephen's School - Carramar\",\n",
    "                       \"Irene McCormack Catholic Colle\": \"Irene McCormack Catholic College\",\n",
    "                       \"Swan Valley Anglican Community\": \"Swan Valley Anglican Community School\",\n",
    "                       \"John Curtin College Of The Arts\": \"John Curtin College of the Arts\",\n",
    "                       \"Peter Moyes Anglican Community\": \"Peter Moyes Anglican Community School\",\n",
    "                       \"Great Southern Grammar School\": \"Great Southern Grammar\"\n",
    "                        }, inplace=True)"
   ]
  },
  {
   "cell_type": "code",
   "execution_count": 202,
   "metadata": {},
   "outputs": [
    {
     "output_type": "execute_result",
     "data": {
      "text/plain": [
       "                              School  Year  Rank  Median ATAR  \\\n",
       "0                Perth Modern School  2016     1        95.55   \n",
       "1       Presbyterian Ladies' College  2016     2        92.90   \n",
       "2                    Penrhos College  2016     3        92.65   \n",
       "3       Christ Church Grammar School  2016     4        92.50   \n",
       "4                Santa Maria College  2016     5        91.85   \n",
       "..                               ...   ...   ...          ...   \n",
       "138      Thornlie Senior High School  2016   139        58.45   \n",
       "139      Lakeland Senior High School  2016   140        57.70   \n",
       "140  Newton Moore Senior High School  2016   141        56.95   \n",
       "141     Foundation Christian College  2016   142        50.65   \n",
       "142    Warnbro Community High School  2016   143        45.30   \n",
       "\n",
       "     No. eligible Yr 12 students  No. Students with an ATAR  \\\n",
       "0                            222                        220   \n",
       "1                            122                        110   \n",
       "2                            145                        123   \n",
       "3                            188                        171   \n",
       "4                            189                        151   \n",
       "..                           ...                        ...   \n",
       "138                          125                         35   \n",
       "139                           89                         27   \n",
       "140                           90                         35   \n",
       "141                           35                         26   \n",
       "142                          171                         48   \n",
       "\n",
       "     Percentage of students with an ATAR            Suburb   Longitude  \\\n",
       "0                                  99.10           Subiaco  115.836396   \n",
       "1                                  90.16  Peppermint Grove  115.764906   \n",
       "2                                  84.83              Como  115.872539   \n",
       "3                                  90.96         Claremont  115.776987   \n",
       "4                                  79.89          Attadale  115.795823   \n",
       "..                                   ...               ...         ...   \n",
       "138                                28.00          Thornlie  115.959641   \n",
       "139                                30.34        South Lake  115.845914   \n",
       "140                                38.89     South Bunbury  115.635421   \n",
       "141                                74.29       Greenfields  115.762289   \n",
       "142                                28.07           Warnbro  115.759096   \n",
       "\n",
       "      Latitude  \n",
       "0   -31.945066  \n",
       "1   -31.993592  \n",
       "2   -31.997431  \n",
       "3   -31.985461  \n",
       "4   -32.018614  \n",
       "..         ...  \n",
       "138 -32.066276  \n",
       "139 -32.109055  \n",
       "140 -33.359211  \n",
       "141 -32.529316  \n",
       "142 -32.345569  \n",
       "\n",
       "[143 rows x 10 columns]"
      ],
      "text/html": "<div>\n<style scoped>\n    .dataframe tbody tr th:only-of-type {\n        vertical-align: middle;\n    }\n\n    .dataframe tbody tr th {\n        vertical-align: top;\n    }\n\n    .dataframe thead th {\n        text-align: right;\n    }\n</style>\n<table border=\"1\" class=\"dataframe\">\n  <thead>\n    <tr style=\"text-align: right;\">\n      <th></th>\n      <th>School</th>\n      <th>Year</th>\n      <th>Rank</th>\n      <th>Median ATAR</th>\n      <th>No. eligible Yr 12 students</th>\n      <th>No. Students with an ATAR</th>\n      <th>Percentage of students with an ATAR</th>\n      <th>Suburb</th>\n      <th>Longitude</th>\n      <th>Latitude</th>\n    </tr>\n  </thead>\n  <tbody>\n    <tr>\n      <th>0</th>\n      <td>Perth Modern School</td>\n      <td>2016</td>\n      <td>1</td>\n      <td>95.55</td>\n      <td>222</td>\n      <td>220</td>\n      <td>99.10</td>\n      <td>Subiaco</td>\n      <td>115.836396</td>\n      <td>-31.945066</td>\n    </tr>\n    <tr>\n      <th>1</th>\n      <td>Presbyterian Ladies' College</td>\n      <td>2016</td>\n      <td>2</td>\n      <td>92.90</td>\n      <td>122</td>\n      <td>110</td>\n      <td>90.16</td>\n      <td>Peppermint Grove</td>\n      <td>115.764906</td>\n      <td>-31.993592</td>\n    </tr>\n    <tr>\n      <th>2</th>\n      <td>Penrhos College</td>\n      <td>2016</td>\n      <td>3</td>\n      <td>92.65</td>\n      <td>145</td>\n      <td>123</td>\n      <td>84.83</td>\n      <td>Como</td>\n      <td>115.872539</td>\n      <td>-31.997431</td>\n    </tr>\n    <tr>\n      <th>3</th>\n      <td>Christ Church Grammar School</td>\n      <td>2016</td>\n      <td>4</td>\n      <td>92.50</td>\n      <td>188</td>\n      <td>171</td>\n      <td>90.96</td>\n      <td>Claremont</td>\n      <td>115.776987</td>\n      <td>-31.985461</td>\n    </tr>\n    <tr>\n      <th>4</th>\n      <td>Santa Maria College</td>\n      <td>2016</td>\n      <td>5</td>\n      <td>91.85</td>\n      <td>189</td>\n      <td>151</td>\n      <td>79.89</td>\n      <td>Attadale</td>\n      <td>115.795823</td>\n      <td>-32.018614</td>\n    </tr>\n    <tr>\n      <th>...</th>\n      <td>...</td>\n      <td>...</td>\n      <td>...</td>\n      <td>...</td>\n      <td>...</td>\n      <td>...</td>\n      <td>...</td>\n      <td>...</td>\n      <td>...</td>\n      <td>...</td>\n    </tr>\n    <tr>\n      <th>138</th>\n      <td>Thornlie Senior High School</td>\n      <td>2016</td>\n      <td>139</td>\n      <td>58.45</td>\n      <td>125</td>\n      <td>35</td>\n      <td>28.00</td>\n      <td>Thornlie</td>\n      <td>115.959641</td>\n      <td>-32.066276</td>\n    </tr>\n    <tr>\n      <th>139</th>\n      <td>Lakeland Senior High School</td>\n      <td>2016</td>\n      <td>140</td>\n      <td>57.70</td>\n      <td>89</td>\n      <td>27</td>\n      <td>30.34</td>\n      <td>South Lake</td>\n      <td>115.845914</td>\n      <td>-32.109055</td>\n    </tr>\n    <tr>\n      <th>140</th>\n      <td>Newton Moore Senior High School</td>\n      <td>2016</td>\n      <td>141</td>\n      <td>56.95</td>\n      <td>90</td>\n      <td>35</td>\n      <td>38.89</td>\n      <td>South Bunbury</td>\n      <td>115.635421</td>\n      <td>-33.359211</td>\n    </tr>\n    <tr>\n      <th>141</th>\n      <td>Foundation Christian College</td>\n      <td>2016</td>\n      <td>142</td>\n      <td>50.65</td>\n      <td>35</td>\n      <td>26</td>\n      <td>74.29</td>\n      <td>Greenfields</td>\n      <td>115.762289</td>\n      <td>-32.529316</td>\n    </tr>\n    <tr>\n      <th>142</th>\n      <td>Warnbro Community High School</td>\n      <td>2016</td>\n      <td>143</td>\n      <td>45.30</td>\n      <td>171</td>\n      <td>48</td>\n      <td>28.07</td>\n      <td>Warnbro</td>\n      <td>115.759096</td>\n      <td>-32.345569</td>\n    </tr>\n  </tbody>\n</table>\n<p>143 rows × 10 columns</p>\n</div>"
     },
     "metadata": {},
     "execution_count": 202
    }
   ],
   "source": [
    "# Merge \"secondary_wa_2016\" & \"school_coordinates\" Dataframes\n",
    "wa_hs_atar_2016_coord = pd.merge(secondary_wa_2016, school_coordinates, on='School', how='left')\n",
    "wa_hs_atar_2016_coord"
   ]
  },
  {
   "cell_type": "code",
   "execution_count": 203,
   "metadata": {},
   "outputs": [
    {
     "output_type": "execute_result",
     "data": {
      "text/plain": [
       "Empty DataFrame\n",
       "Columns: [School, Year, Rank, Median ATAR, No. eligible Yr 12 students, No. Students with an ATAR, Percentage of students with an ATAR, Suburb, Longitude, Latitude]\n",
       "Index: []"
      ],
      "text/html": "<div>\n<style scoped>\n    .dataframe tbody tr th:only-of-type {\n        vertical-align: middle;\n    }\n\n    .dataframe tbody tr th {\n        vertical-align: top;\n    }\n\n    .dataframe thead th {\n        text-align: right;\n    }\n</style>\n<table border=\"1\" class=\"dataframe\">\n  <thead>\n    <tr style=\"text-align: right;\">\n      <th></th>\n      <th>School</th>\n      <th>Year</th>\n      <th>Rank</th>\n      <th>Median ATAR</th>\n      <th>No. eligible Yr 12 students</th>\n      <th>No. Students with an ATAR</th>\n      <th>Percentage of students with an ATAR</th>\n      <th>Suburb</th>\n      <th>Longitude</th>\n      <th>Latitude</th>\n    </tr>\n  </thead>\n  <tbody>\n  </tbody>\n</table>\n</div>"
     },
     "metadata": {},
     "execution_count": 203
    }
   ],
   "source": [
    "# Check for NaN values\n",
    "# creating bool series True for NaN values  \n",
    "bool_series = pd.isnull(wa_hs_atar_2016_coord[\"Longitude\"])  \n",
    "    \n",
    "# filtering data  \n",
    "# displaying data only with \"Longitude\" = NaN\n",
    "wa_hs_atar_2016_coord[bool_series]"
   ]
  },
  {
   "cell_type": "code",
   "execution_count": 204,
   "metadata": {},
   "outputs": [
    {
     "output_type": "execute_result",
     "data": {
      "text/plain": [
       "                              School  Year  Rank  Median ATAR  \\\n",
       "0                Perth Modern School  2016     1        95.55   \n",
       "1       Presbyterian Ladies' College  2016     2        92.90   \n",
       "2                    Penrhos College  2016     3        92.65   \n",
       "3       Christ Church Grammar School  2016     4        92.50   \n",
       "4                Santa Maria College  2016     5        91.85   \n",
       "..                               ...   ...   ...          ...   \n",
       "138      Thornlie Senior High School  2016   139        58.45   \n",
       "139      Lakeland Senior High School  2016   140        57.70   \n",
       "140  Newton Moore Senior High School  2016   141        56.95   \n",
       "141     Foundation Christian College  2016   142        50.65   \n",
       "142    Warnbro Community High School  2016   143        45.30   \n",
       "\n",
       "     No. eligible Yr 12 students  No. Students with an ATAR  \\\n",
       "0                            222                        220   \n",
       "1                            122                        110   \n",
       "2                            145                        123   \n",
       "3                            188                        171   \n",
       "4                            189                        151   \n",
       "..                           ...                        ...   \n",
       "138                          125                         35   \n",
       "139                           89                         27   \n",
       "140                           90                         35   \n",
       "141                           35                         26   \n",
       "142                          171                         48   \n",
       "\n",
       "     Percentage of students with an ATAR            Suburb   Longitude  \\\n",
       "0                                  99.10           Subiaco  115.836396   \n",
       "1                                  90.16  Peppermint Grove  115.764906   \n",
       "2                                  84.83              Como  115.872539   \n",
       "3                                  90.96         Claremont  115.776987   \n",
       "4                                  79.89          Attadale  115.795823   \n",
       "..                                   ...               ...         ...   \n",
       "138                                28.00          Thornlie  115.959641   \n",
       "139                                30.34        South Lake  115.845914   \n",
       "140                                38.89     South Bunbury  115.635421   \n",
       "141                                74.29       Greenfields  115.762289   \n",
       "142                                28.07           Warnbro  115.759096   \n",
       "\n",
       "      Latitude          Sector Gender   Religion  \n",
       "0   -31.945066      Government  Co-ed    Secular  \n",
       "1   -31.993592  Non-government  Girls    Uniting  \n",
       "2   -31.997431  Non-government  Girls    Uniting  \n",
       "3   -31.985461  Non-government   Boys   Anglican  \n",
       "4   -32.018614  Non-government  Girls   Catholic  \n",
       "..         ...             ...    ...        ...  \n",
       "138 -32.066276      Government  Co-ed    Secular  \n",
       "139 -32.109055      Government  Co-ed    Secular  \n",
       "140 -33.359211      Government  Co-ed    Secular  \n",
       "141 -32.529316  Non-government  Co-ed  Christian  \n",
       "142 -32.345569      Government  Co-ed    Secular  \n",
       "\n",
       "[143 rows x 13 columns]"
      ],
      "text/html": "<div>\n<style scoped>\n    .dataframe tbody tr th:only-of-type {\n        vertical-align: middle;\n    }\n\n    .dataframe tbody tr th {\n        vertical-align: top;\n    }\n\n    .dataframe thead th {\n        text-align: right;\n    }\n</style>\n<table border=\"1\" class=\"dataframe\">\n  <thead>\n    <tr style=\"text-align: right;\">\n      <th></th>\n      <th>School</th>\n      <th>Year</th>\n      <th>Rank</th>\n      <th>Median ATAR</th>\n      <th>No. eligible Yr 12 students</th>\n      <th>No. Students with an ATAR</th>\n      <th>Percentage of students with an ATAR</th>\n      <th>Suburb</th>\n      <th>Longitude</th>\n      <th>Latitude</th>\n      <th>Sector</th>\n      <th>Gender</th>\n      <th>Religion</th>\n    </tr>\n  </thead>\n  <tbody>\n    <tr>\n      <th>0</th>\n      <td>Perth Modern School</td>\n      <td>2016</td>\n      <td>1</td>\n      <td>95.55</td>\n      <td>222</td>\n      <td>220</td>\n      <td>99.10</td>\n      <td>Subiaco</td>\n      <td>115.836396</td>\n      <td>-31.945066</td>\n      <td>Government</td>\n      <td>Co-ed</td>\n      <td>Secular</td>\n    </tr>\n    <tr>\n      <th>1</th>\n      <td>Presbyterian Ladies' College</td>\n      <td>2016</td>\n      <td>2</td>\n      <td>92.90</td>\n      <td>122</td>\n      <td>110</td>\n      <td>90.16</td>\n      <td>Peppermint Grove</td>\n      <td>115.764906</td>\n      <td>-31.993592</td>\n      <td>Non-government</td>\n      <td>Girls</td>\n      <td>Uniting</td>\n    </tr>\n    <tr>\n      <th>2</th>\n      <td>Penrhos College</td>\n      <td>2016</td>\n      <td>3</td>\n      <td>92.65</td>\n      <td>145</td>\n      <td>123</td>\n      <td>84.83</td>\n      <td>Como</td>\n      <td>115.872539</td>\n      <td>-31.997431</td>\n      <td>Non-government</td>\n      <td>Girls</td>\n      <td>Uniting</td>\n    </tr>\n    <tr>\n      <th>3</th>\n      <td>Christ Church Grammar School</td>\n      <td>2016</td>\n      <td>4</td>\n      <td>92.50</td>\n      <td>188</td>\n      <td>171</td>\n      <td>90.96</td>\n      <td>Claremont</td>\n      <td>115.776987</td>\n      <td>-31.985461</td>\n      <td>Non-government</td>\n      <td>Boys</td>\n      <td>Anglican</td>\n    </tr>\n    <tr>\n      <th>4</th>\n      <td>Santa Maria College</td>\n      <td>2016</td>\n      <td>5</td>\n      <td>91.85</td>\n      <td>189</td>\n      <td>151</td>\n      <td>79.89</td>\n      <td>Attadale</td>\n      <td>115.795823</td>\n      <td>-32.018614</td>\n      <td>Non-government</td>\n      <td>Girls</td>\n      <td>Catholic</td>\n    </tr>\n    <tr>\n      <th>...</th>\n      <td>...</td>\n      <td>...</td>\n      <td>...</td>\n      <td>...</td>\n      <td>...</td>\n      <td>...</td>\n      <td>...</td>\n      <td>...</td>\n      <td>...</td>\n      <td>...</td>\n      <td>...</td>\n      <td>...</td>\n      <td>...</td>\n    </tr>\n    <tr>\n      <th>138</th>\n      <td>Thornlie Senior High School</td>\n      <td>2016</td>\n      <td>139</td>\n      <td>58.45</td>\n      <td>125</td>\n      <td>35</td>\n      <td>28.00</td>\n      <td>Thornlie</td>\n      <td>115.959641</td>\n      <td>-32.066276</td>\n      <td>Government</td>\n      <td>Co-ed</td>\n      <td>Secular</td>\n    </tr>\n    <tr>\n      <th>139</th>\n      <td>Lakeland Senior High School</td>\n      <td>2016</td>\n      <td>140</td>\n      <td>57.70</td>\n      <td>89</td>\n      <td>27</td>\n      <td>30.34</td>\n      <td>South Lake</td>\n      <td>115.845914</td>\n      <td>-32.109055</td>\n      <td>Government</td>\n      <td>Co-ed</td>\n      <td>Secular</td>\n    </tr>\n    <tr>\n      <th>140</th>\n      <td>Newton Moore Senior High School</td>\n      <td>2016</td>\n      <td>141</td>\n      <td>56.95</td>\n      <td>90</td>\n      <td>35</td>\n      <td>38.89</td>\n      <td>South Bunbury</td>\n      <td>115.635421</td>\n      <td>-33.359211</td>\n      <td>Government</td>\n      <td>Co-ed</td>\n      <td>Secular</td>\n    </tr>\n    <tr>\n      <th>141</th>\n      <td>Foundation Christian College</td>\n      <td>2016</td>\n      <td>142</td>\n      <td>50.65</td>\n      <td>35</td>\n      <td>26</td>\n      <td>74.29</td>\n      <td>Greenfields</td>\n      <td>115.762289</td>\n      <td>-32.529316</td>\n      <td>Non-government</td>\n      <td>Co-ed</td>\n      <td>Christian</td>\n    </tr>\n    <tr>\n      <th>142</th>\n      <td>Warnbro Community High School</td>\n      <td>2016</td>\n      <td>143</td>\n      <td>45.30</td>\n      <td>171</td>\n      <td>48</td>\n      <td>28.07</td>\n      <td>Warnbro</td>\n      <td>115.759096</td>\n      <td>-32.345569</td>\n      <td>Government</td>\n      <td>Co-ed</td>\n      <td>Secular</td>\n    </tr>\n  </tbody>\n</table>\n<p>143 rows × 13 columns</p>\n</div>"
     },
     "metadata": {},
     "execution_count": 204
    }
   ],
   "source": [
    "# Merge both \"wa_hs_atar_2016_coord\" & \"sectors\" Dataframes\n",
    "wa_hs_atar_2016 = pd.merge(wa_hs_atar_2016_coord, sectors, on='School', how='left')\n",
    "wa_hs_atar_2016"
   ]
  },
  {
   "cell_type": "code",
   "execution_count": 205,
   "metadata": {},
   "outputs": [
    {
     "output_type": "execute_result",
     "data": {
      "text/plain": [
       "Empty DataFrame\n",
       "Columns: [School, Year, Rank, Median ATAR, No. eligible Yr 12 students, No. Students with an ATAR, Percentage of students with an ATAR, Suburb, Longitude, Latitude, Sector, Gender, Religion]\n",
       "Index: []"
      ],
      "text/html": "<div>\n<style scoped>\n    .dataframe tbody tr th:only-of-type {\n        vertical-align: middle;\n    }\n\n    .dataframe tbody tr th {\n        vertical-align: top;\n    }\n\n    .dataframe thead th {\n        text-align: right;\n    }\n</style>\n<table border=\"1\" class=\"dataframe\">\n  <thead>\n    <tr style=\"text-align: right;\">\n      <th></th>\n      <th>School</th>\n      <th>Year</th>\n      <th>Rank</th>\n      <th>Median ATAR</th>\n      <th>No. eligible Yr 12 students</th>\n      <th>No. Students with an ATAR</th>\n      <th>Percentage of students with an ATAR</th>\n      <th>Suburb</th>\n      <th>Longitude</th>\n      <th>Latitude</th>\n      <th>Sector</th>\n      <th>Gender</th>\n      <th>Religion</th>\n    </tr>\n  </thead>\n  <tbody>\n  </tbody>\n</table>\n</div>"
     },
     "metadata": {},
     "execution_count": 205
    }
   ],
   "source": [
    "# Check for NaN values\n",
    "# creating bool series True for NaN values  \n",
    "bool_series = pd.isnull(wa_hs_atar_2016[\"Sector\"])  \n",
    "    \n",
    "# filtering data  \n",
    "# displaying data only with \"Sector\" = NaN\n",
    "wa_hs_atar_2016[bool_series]"
   ]
  },
  {
   "source": [
    "## Extract/scrape the ICSEA WA High School rankings from 2016 - 2019 & create tables which are to be loaded to the SQL database later on"
   ],
   "cell_type": "markdown",
   "metadata": {}
  },
  {
   "cell_type": "code",
   "execution_count": 206,
   "metadata": {},
   "outputs": [
    {
     "output_type": "execute_result",
     "data": {
      "text/plain": [
       "                                               School  Year  Rank  Postcode  \\\n",
       "0                                 Perth Modern School  2019     1      6008   \n",
       "1   St Hilda's Anglican School for Girls (Inc),Mos...  2019     2      6012   \n",
       "2                        Christ Church Grammar School  2019     3      6010   \n",
       "3                        Rossmoyne Senior High School  2019     4      6148   \n",
       "4   St Mary's Anglican Girls' School (Inc),Karriny...  2019     5      6018   \n",
       "..                                                ...   ...   ...       ...   \n",
       "89  Swan Valley Anglican Community School,Aveley,W...  2019    90      6069   \n",
       "90                   Boyup Brook District High School  2019    91      6244   \n",
       "91                Mater Dei College,Edgewater,WA,6027  2019    92      6027   \n",
       "92          Emmanuel Catholic College,Beeliar,WA,6164  2019    93      6164   \n",
       "93                Emmanuel Christian Community School  2019    94      6064   \n",
       "\n",
       "    State Overall Score  English  Maths  Total Enrolments  Trend / Compare  \\\n",
       "0                   100      NaN    NaN              1418  Trend / Compare   \n",
       "1                   100      NaN    NaN              1087  Trend / Compare   \n",
       "2                   100      NaN    NaN              1646  Trend / Compare   \n",
       "3                   100      NaN    NaN              2188  Trend / Compare   \n",
       "4                   100      NaN    NaN              1414  Trend / Compare   \n",
       "..                  ...      ...    ...               ...              ...   \n",
       "89                   90      NaN    NaN              1031  Trend / Compare   \n",
       "90                   90      NaN    NaN               162  Trend / Compare   \n",
       "91                   90      NaN    NaN               804  Trend / Compare   \n",
       "92                   90      NaN    NaN              1061  Trend / Compare   \n",
       "93                   90      NaN    NaN               552  Trend / Compare   \n",
       "\n",
       "            Sector   ICSEA  \n",
       "0       Government  1239.0  \n",
       "1   Non-government  1197.0  \n",
       "2   Non-government  1180.0  \n",
       "3       Government  1121.0  \n",
       "4   Non-government  1158.0  \n",
       "..             ...     ...  \n",
       "89  Non-government  1045.0  \n",
       "90      Government  1002.0  \n",
       "91  Non-government  1055.0  \n",
       "92  Non-government  1036.0  \n",
       "93  Non-government   980.0  \n",
       "\n",
       "[94 rows x 11 columns]"
      ],
      "text/html": "<div>\n<style scoped>\n    .dataframe tbody tr th:only-of-type {\n        vertical-align: middle;\n    }\n\n    .dataframe tbody tr th {\n        vertical-align: top;\n    }\n\n    .dataframe thead th {\n        text-align: right;\n    }\n</style>\n<table border=\"1\" class=\"dataframe\">\n  <thead>\n    <tr style=\"text-align: right;\">\n      <th></th>\n      <th>School</th>\n      <th>Year</th>\n      <th>Rank</th>\n      <th>Postcode</th>\n      <th>State Overall Score</th>\n      <th>English</th>\n      <th>Maths</th>\n      <th>Total Enrolments</th>\n      <th>Trend / Compare</th>\n      <th>Sector</th>\n      <th>ICSEA</th>\n    </tr>\n  </thead>\n  <tbody>\n    <tr>\n      <th>0</th>\n      <td>Perth Modern School</td>\n      <td>2019</td>\n      <td>1</td>\n      <td>6008</td>\n      <td>100</td>\n      <td>NaN</td>\n      <td>NaN</td>\n      <td>1418</td>\n      <td>Trend / Compare</td>\n      <td>Government</td>\n      <td>1239.0</td>\n    </tr>\n    <tr>\n      <th>1</th>\n      <td>St Hilda's Anglican School for Girls (Inc),Mos...</td>\n      <td>2019</td>\n      <td>2</td>\n      <td>6012</td>\n      <td>100</td>\n      <td>NaN</td>\n      <td>NaN</td>\n      <td>1087</td>\n      <td>Trend / Compare</td>\n      <td>Non-government</td>\n      <td>1197.0</td>\n    </tr>\n    <tr>\n      <th>2</th>\n      <td>Christ Church Grammar School</td>\n      <td>2019</td>\n      <td>3</td>\n      <td>6010</td>\n      <td>100</td>\n      <td>NaN</td>\n      <td>NaN</td>\n      <td>1646</td>\n      <td>Trend / Compare</td>\n      <td>Non-government</td>\n      <td>1180.0</td>\n    </tr>\n    <tr>\n      <th>3</th>\n      <td>Rossmoyne Senior High School</td>\n      <td>2019</td>\n      <td>4</td>\n      <td>6148</td>\n      <td>100</td>\n      <td>NaN</td>\n      <td>NaN</td>\n      <td>2188</td>\n      <td>Trend / Compare</td>\n      <td>Government</td>\n      <td>1121.0</td>\n    </tr>\n    <tr>\n      <th>4</th>\n      <td>St Mary's Anglican Girls' School (Inc),Karriny...</td>\n      <td>2019</td>\n      <td>5</td>\n      <td>6018</td>\n      <td>100</td>\n      <td>NaN</td>\n      <td>NaN</td>\n      <td>1414</td>\n      <td>Trend / Compare</td>\n      <td>Non-government</td>\n      <td>1158.0</td>\n    </tr>\n    <tr>\n      <th>...</th>\n      <td>...</td>\n      <td>...</td>\n      <td>...</td>\n      <td>...</td>\n      <td>...</td>\n      <td>...</td>\n      <td>...</td>\n      <td>...</td>\n      <td>...</td>\n      <td>...</td>\n      <td>...</td>\n    </tr>\n    <tr>\n      <th>89</th>\n      <td>Swan Valley Anglican Community School,Aveley,W...</td>\n      <td>2019</td>\n      <td>90</td>\n      <td>6069</td>\n      <td>90</td>\n      <td>NaN</td>\n      <td>NaN</td>\n      <td>1031</td>\n      <td>Trend / Compare</td>\n      <td>Non-government</td>\n      <td>1045.0</td>\n    </tr>\n    <tr>\n      <th>90</th>\n      <td>Boyup Brook District High School</td>\n      <td>2019</td>\n      <td>91</td>\n      <td>6244</td>\n      <td>90</td>\n      <td>NaN</td>\n      <td>NaN</td>\n      <td>162</td>\n      <td>Trend / Compare</td>\n      <td>Government</td>\n      <td>1002.0</td>\n    </tr>\n    <tr>\n      <th>91</th>\n      <td>Mater Dei College,Edgewater,WA,6027</td>\n      <td>2019</td>\n      <td>92</td>\n      <td>6027</td>\n      <td>90</td>\n      <td>NaN</td>\n      <td>NaN</td>\n      <td>804</td>\n      <td>Trend / Compare</td>\n      <td>Non-government</td>\n      <td>1055.0</td>\n    </tr>\n    <tr>\n      <th>92</th>\n      <td>Emmanuel Catholic College,Beeliar,WA,6164</td>\n      <td>2019</td>\n      <td>93</td>\n      <td>6164</td>\n      <td>90</td>\n      <td>NaN</td>\n      <td>NaN</td>\n      <td>1061</td>\n      <td>Trend / Compare</td>\n      <td>Non-government</td>\n      <td>1036.0</td>\n    </tr>\n    <tr>\n      <th>93</th>\n      <td>Emmanuel Christian Community School</td>\n      <td>2019</td>\n      <td>94</td>\n      <td>6064</td>\n      <td>90</td>\n      <td>NaN</td>\n      <td>NaN</td>\n      <td>552</td>\n      <td>Trend / Compare</td>\n      <td>Non-government</td>\n      <td>980.0</td>\n    </tr>\n  </tbody>\n</table>\n<p>94 rows × 11 columns</p>\n</div>"
     },
     "metadata": {},
     "execution_count": 206
    }
   ],
   "source": [
    "# get the 2019 ranking url WA school ranking which contains the ICSEA values\n",
    "wa_rank_2019 = \"https://bettereducation.com.au/school/secondary/wa/wa_top_secondary_schools.aspx?yr=2019\"\n",
    "\n",
    "# Use panda's `read_html` to parse the 2019 ranking url\n",
    "hs_wa_2019 = pd.read_html(wa_rank_2019, header=0)[0]\n",
    "\n",
    "# insert a column \"year\" with values of \"2019\" after the column \"School\"\n",
    "hs_wa_2019.insert(1, 'Year', 2019)\n",
    "\n",
    "# insert a column \"Rank\" with values of \"incremental values\" after the column \"Year\"\n",
    "hs_wa_2019.insert(2, 'Rank', range(1, 1 + len(hs_wa_2019)))\n",
    "hs_wa_2019"
   ]
  },
  {
   "cell_type": "code",
   "execution_count": 207,
   "metadata": {},
   "outputs": [],
   "source": [
    "# replace the values of \"Australian Islamic College\" to correct the spelling to prevent Null values when performing the merge with other Dataframes later on\n",
    "hs_wa_2019[\"School\"].replace({\"Australian Islamic College (Kewdale),Kewdale,WA,6105\": \"Australian Islamic College - Kewdale\",\n",
    "                              \"Australian Islamic College (Thornlie),Thornlie,WA,6108\": \"Australian Islamic College - Thornlie\"\n",
    "                                    }, inplace=True)"
   ]
  },
  {
   "cell_type": "code",
   "execution_count": 208,
   "metadata": {},
   "outputs": [
    {
     "output_type": "execute_result",
     "data": {
      "text/plain": [
       "                                               School  Year  Rank  Postcode  \\\n",
       "0                                 Perth Modern School  2019     1      6008   \n",
       "1   St Hilda's Anglican School for Girls (Inc),Mos...  2019     2      6012   \n",
       "2                        Christ Church Grammar School  2019     3      6010   \n",
       "3                        Rossmoyne Senior High School  2019     4      6148   \n",
       "4   St Mary's Anglican Girls' School (Inc),Karriny...  2019     5      6018   \n",
       "..                                                ...   ...   ...       ...   \n",
       "89  Swan Valley Anglican Community School,Aveley,W...  2019    90      6069   \n",
       "90                   Boyup Brook District High School  2019    91      6244   \n",
       "91                Mater Dei College,Edgewater,WA,6027  2019    92      6027   \n",
       "92          Emmanuel Catholic College,Beeliar,WA,6164  2019    93      6164   \n",
       "93                Emmanuel Christian Community School  2019    94      6064   \n",
       "\n",
       "    State Overall Score  English  Maths  Total Enrolments  Trend / Compare  \\\n",
       "0                   100      NaN    NaN              1418  Trend / Compare   \n",
       "1                   100      NaN    NaN              1087  Trend / Compare   \n",
       "2                   100      NaN    NaN              1646  Trend / Compare   \n",
       "3                   100      NaN    NaN              2188  Trend / Compare   \n",
       "4                   100      NaN    NaN              1414  Trend / Compare   \n",
       "..                  ...      ...    ...               ...              ...   \n",
       "89                   90      NaN    NaN              1031  Trend / Compare   \n",
       "90                   90      NaN    NaN               162  Trend / Compare   \n",
       "91                   90      NaN    NaN               804  Trend / Compare   \n",
       "92                   90      NaN    NaN              1061  Trend / Compare   \n",
       "93                   90      NaN    NaN               552  Trend / Compare   \n",
       "\n",
       "            Sector ICSEA  \n",
       "0       Government  1239  \n",
       "1   Non-government  1197  \n",
       "2   Non-government  1180  \n",
       "3       Government  1121  \n",
       "4   Non-government  1158  \n",
       "..             ...   ...  \n",
       "89  Non-government  1045  \n",
       "90      Government  1002  \n",
       "91  Non-government  1055  \n",
       "92  Non-government  1036  \n",
       "93  Non-government   980  \n",
       "\n",
       "[94 rows x 11 columns]"
      ],
      "text/html": "<div>\n<style scoped>\n    .dataframe tbody tr th:only-of-type {\n        vertical-align: middle;\n    }\n\n    .dataframe tbody tr th {\n        vertical-align: top;\n    }\n\n    .dataframe thead th {\n        text-align: right;\n    }\n</style>\n<table border=\"1\" class=\"dataframe\">\n  <thead>\n    <tr style=\"text-align: right;\">\n      <th></th>\n      <th>School</th>\n      <th>Year</th>\n      <th>Rank</th>\n      <th>Postcode</th>\n      <th>State Overall Score</th>\n      <th>English</th>\n      <th>Maths</th>\n      <th>Total Enrolments</th>\n      <th>Trend / Compare</th>\n      <th>Sector</th>\n      <th>ICSEA</th>\n    </tr>\n  </thead>\n  <tbody>\n    <tr>\n      <th>0</th>\n      <td>Perth Modern School</td>\n      <td>2019</td>\n      <td>1</td>\n      <td>6008</td>\n      <td>100</td>\n      <td>NaN</td>\n      <td>NaN</td>\n      <td>1418</td>\n      <td>Trend / Compare</td>\n      <td>Government</td>\n      <td>1239</td>\n    </tr>\n    <tr>\n      <th>1</th>\n      <td>St Hilda's Anglican School for Girls (Inc),Mos...</td>\n      <td>2019</td>\n      <td>2</td>\n      <td>6012</td>\n      <td>100</td>\n      <td>NaN</td>\n      <td>NaN</td>\n      <td>1087</td>\n      <td>Trend / Compare</td>\n      <td>Non-government</td>\n      <td>1197</td>\n    </tr>\n    <tr>\n      <th>2</th>\n      <td>Christ Church Grammar School</td>\n      <td>2019</td>\n      <td>3</td>\n      <td>6010</td>\n      <td>100</td>\n      <td>NaN</td>\n      <td>NaN</td>\n      <td>1646</td>\n      <td>Trend / Compare</td>\n      <td>Non-government</td>\n      <td>1180</td>\n    </tr>\n    <tr>\n      <th>3</th>\n      <td>Rossmoyne Senior High School</td>\n      <td>2019</td>\n      <td>4</td>\n      <td>6148</td>\n      <td>100</td>\n      <td>NaN</td>\n      <td>NaN</td>\n      <td>2188</td>\n      <td>Trend / Compare</td>\n      <td>Government</td>\n      <td>1121</td>\n    </tr>\n    <tr>\n      <th>4</th>\n      <td>St Mary's Anglican Girls' School (Inc),Karriny...</td>\n      <td>2019</td>\n      <td>5</td>\n      <td>6018</td>\n      <td>100</td>\n      <td>NaN</td>\n      <td>NaN</td>\n      <td>1414</td>\n      <td>Trend / Compare</td>\n      <td>Non-government</td>\n      <td>1158</td>\n    </tr>\n    <tr>\n      <th>...</th>\n      <td>...</td>\n      <td>...</td>\n      <td>...</td>\n      <td>...</td>\n      <td>...</td>\n      <td>...</td>\n      <td>...</td>\n      <td>...</td>\n      <td>...</td>\n      <td>...</td>\n      <td>...</td>\n    </tr>\n    <tr>\n      <th>89</th>\n      <td>Swan Valley Anglican Community School,Aveley,W...</td>\n      <td>2019</td>\n      <td>90</td>\n      <td>6069</td>\n      <td>90</td>\n      <td>NaN</td>\n      <td>NaN</td>\n      <td>1031</td>\n      <td>Trend / Compare</td>\n      <td>Non-government</td>\n      <td>1045</td>\n    </tr>\n    <tr>\n      <th>90</th>\n      <td>Boyup Brook District High School</td>\n      <td>2019</td>\n      <td>91</td>\n      <td>6244</td>\n      <td>90</td>\n      <td>NaN</td>\n      <td>NaN</td>\n      <td>162</td>\n      <td>Trend / Compare</td>\n      <td>Government</td>\n      <td>1002</td>\n    </tr>\n    <tr>\n      <th>91</th>\n      <td>Mater Dei College,Edgewater,WA,6027</td>\n      <td>2019</td>\n      <td>92</td>\n      <td>6027</td>\n      <td>90</td>\n      <td>NaN</td>\n      <td>NaN</td>\n      <td>804</td>\n      <td>Trend / Compare</td>\n      <td>Non-government</td>\n      <td>1055</td>\n    </tr>\n    <tr>\n      <th>92</th>\n      <td>Emmanuel Catholic College,Beeliar,WA,6164</td>\n      <td>2019</td>\n      <td>93</td>\n      <td>6164</td>\n      <td>90</td>\n      <td>NaN</td>\n      <td>NaN</td>\n      <td>1061</td>\n      <td>Trend / Compare</td>\n      <td>Non-government</td>\n      <td>1036</td>\n    </tr>\n    <tr>\n      <th>93</th>\n      <td>Emmanuel Christian Community School</td>\n      <td>2019</td>\n      <td>94</td>\n      <td>6064</td>\n      <td>90</td>\n      <td>NaN</td>\n      <td>NaN</td>\n      <td>552</td>\n      <td>Trend / Compare</td>\n      <td>Non-government</td>\n      <td>980</td>\n    </tr>\n  </tbody>\n</table>\n<p>94 rows × 11 columns</p>\n</div>"
     },
     "metadata": {},
     "execution_count": 208
    }
   ],
   "source": [
    "# Convert the values in the \"ICSEA\" column to a String\n",
    "hs_wa_2019[\"ICSEA\"] = hs_wa_2019[\"ICSEA\"].astype(str)\n",
    "\n",
    "# Remove other strings before \".\" to show only the ICSEA values\n",
    "hs_wa_2019[\"ICSEA\"] = hs_wa_2019[\"ICSEA\"].str.split('.', 1).str.get(0)\n",
    "hs_wa_2019"
   ]
  },
  {
   "cell_type": "code",
   "execution_count": 209,
   "metadata": {},
   "outputs": [
    {
     "output_type": "execute_result",
     "data": {
      "text/plain": [
       "                                        School  Year  Rank  Postcode  \\\n",
       "0                          Perth Modern School  2019     1      6008   \n",
       "1   St Hilda's Anglican School for Girls (Inc)  2019     2      6012   \n",
       "2                 Christ Church Grammar School  2019     3      6010   \n",
       "3                 Rossmoyne Senior High School  2019     4      6148   \n",
       "4       St Mary's Anglican Girls' School (Inc)  2019     5      6018   \n",
       "..                                         ...   ...   ...       ...   \n",
       "89       Swan Valley Anglican Community School  2019    90      6069   \n",
       "90            Boyup Brook District High School  2019    91      6244   \n",
       "91                           Mater Dei College  2019    92      6027   \n",
       "92                   Emmanuel Catholic College  2019    93      6164   \n",
       "93         Emmanuel Christian Community School  2019    94      6064   \n",
       "\n",
       "    State Overall Score  English  Maths  Total Enrolments  Trend / Compare  \\\n",
       "0                   100      NaN    NaN              1418  Trend / Compare   \n",
       "1                   100      NaN    NaN              1087  Trend / Compare   \n",
       "2                   100      NaN    NaN              1646  Trend / Compare   \n",
       "3                   100      NaN    NaN              2188  Trend / Compare   \n",
       "4                   100      NaN    NaN              1414  Trend / Compare   \n",
       "..                  ...      ...    ...               ...              ...   \n",
       "89                   90      NaN    NaN              1031  Trend / Compare   \n",
       "90                   90      NaN    NaN               162  Trend / Compare   \n",
       "91                   90      NaN    NaN               804  Trend / Compare   \n",
       "92                   90      NaN    NaN              1061  Trend / Compare   \n",
       "93                   90      NaN    NaN               552  Trend / Compare   \n",
       "\n",
       "            Sector ICSEA  \n",
       "0       Government  1239  \n",
       "1   Non-government  1197  \n",
       "2   Non-government  1180  \n",
       "3       Government  1121  \n",
       "4   Non-government  1158  \n",
       "..             ...   ...  \n",
       "89  Non-government  1045  \n",
       "90      Government  1002  \n",
       "91  Non-government  1055  \n",
       "92  Non-government  1036  \n",
       "93  Non-government   980  \n",
       "\n",
       "[94 rows x 11 columns]"
      ],
      "text/html": "<div>\n<style scoped>\n    .dataframe tbody tr th:only-of-type {\n        vertical-align: middle;\n    }\n\n    .dataframe tbody tr th {\n        vertical-align: top;\n    }\n\n    .dataframe thead th {\n        text-align: right;\n    }\n</style>\n<table border=\"1\" class=\"dataframe\">\n  <thead>\n    <tr style=\"text-align: right;\">\n      <th></th>\n      <th>School</th>\n      <th>Year</th>\n      <th>Rank</th>\n      <th>Postcode</th>\n      <th>State Overall Score</th>\n      <th>English</th>\n      <th>Maths</th>\n      <th>Total Enrolments</th>\n      <th>Trend / Compare</th>\n      <th>Sector</th>\n      <th>ICSEA</th>\n    </tr>\n  </thead>\n  <tbody>\n    <tr>\n      <th>0</th>\n      <td>Perth Modern School</td>\n      <td>2019</td>\n      <td>1</td>\n      <td>6008</td>\n      <td>100</td>\n      <td>NaN</td>\n      <td>NaN</td>\n      <td>1418</td>\n      <td>Trend / Compare</td>\n      <td>Government</td>\n      <td>1239</td>\n    </tr>\n    <tr>\n      <th>1</th>\n      <td>St Hilda's Anglican School for Girls (Inc)</td>\n      <td>2019</td>\n      <td>2</td>\n      <td>6012</td>\n      <td>100</td>\n      <td>NaN</td>\n      <td>NaN</td>\n      <td>1087</td>\n      <td>Trend / Compare</td>\n      <td>Non-government</td>\n      <td>1197</td>\n    </tr>\n    <tr>\n      <th>2</th>\n      <td>Christ Church Grammar School</td>\n      <td>2019</td>\n      <td>3</td>\n      <td>6010</td>\n      <td>100</td>\n      <td>NaN</td>\n      <td>NaN</td>\n      <td>1646</td>\n      <td>Trend / Compare</td>\n      <td>Non-government</td>\n      <td>1180</td>\n    </tr>\n    <tr>\n      <th>3</th>\n      <td>Rossmoyne Senior High School</td>\n      <td>2019</td>\n      <td>4</td>\n      <td>6148</td>\n      <td>100</td>\n      <td>NaN</td>\n      <td>NaN</td>\n      <td>2188</td>\n      <td>Trend / Compare</td>\n      <td>Government</td>\n      <td>1121</td>\n    </tr>\n    <tr>\n      <th>4</th>\n      <td>St Mary's Anglican Girls' School (Inc)</td>\n      <td>2019</td>\n      <td>5</td>\n      <td>6018</td>\n      <td>100</td>\n      <td>NaN</td>\n      <td>NaN</td>\n      <td>1414</td>\n      <td>Trend / Compare</td>\n      <td>Non-government</td>\n      <td>1158</td>\n    </tr>\n    <tr>\n      <th>...</th>\n      <td>...</td>\n      <td>...</td>\n      <td>...</td>\n      <td>...</td>\n      <td>...</td>\n      <td>...</td>\n      <td>...</td>\n      <td>...</td>\n      <td>...</td>\n      <td>...</td>\n      <td>...</td>\n    </tr>\n    <tr>\n      <th>89</th>\n      <td>Swan Valley Anglican Community School</td>\n      <td>2019</td>\n      <td>90</td>\n      <td>6069</td>\n      <td>90</td>\n      <td>NaN</td>\n      <td>NaN</td>\n      <td>1031</td>\n      <td>Trend / Compare</td>\n      <td>Non-government</td>\n      <td>1045</td>\n    </tr>\n    <tr>\n      <th>90</th>\n      <td>Boyup Brook District High School</td>\n      <td>2019</td>\n      <td>91</td>\n      <td>6244</td>\n      <td>90</td>\n      <td>NaN</td>\n      <td>NaN</td>\n      <td>162</td>\n      <td>Trend / Compare</td>\n      <td>Government</td>\n      <td>1002</td>\n    </tr>\n    <tr>\n      <th>91</th>\n      <td>Mater Dei College</td>\n      <td>2019</td>\n      <td>92</td>\n      <td>6027</td>\n      <td>90</td>\n      <td>NaN</td>\n      <td>NaN</td>\n      <td>804</td>\n      <td>Trend / Compare</td>\n      <td>Non-government</td>\n      <td>1055</td>\n    </tr>\n    <tr>\n      <th>92</th>\n      <td>Emmanuel Catholic College</td>\n      <td>2019</td>\n      <td>93</td>\n      <td>6164</td>\n      <td>90</td>\n      <td>NaN</td>\n      <td>NaN</td>\n      <td>1061</td>\n      <td>Trend / Compare</td>\n      <td>Non-government</td>\n      <td>1036</td>\n    </tr>\n    <tr>\n      <th>93</th>\n      <td>Emmanuel Christian Community School</td>\n      <td>2019</td>\n      <td>94</td>\n      <td>6064</td>\n      <td>90</td>\n      <td>NaN</td>\n      <td>NaN</td>\n      <td>552</td>\n      <td>Trend / Compare</td>\n      <td>Non-government</td>\n      <td>980</td>\n    </tr>\n  </tbody>\n</table>\n<p>94 rows × 11 columns</p>\n</div>"
     },
     "metadata": {},
     "execution_count": 209
    }
   ],
   "source": [
    "# Remove the strings after the \",\" to show only the school name\n",
    "hs_wa_2019[\"School\"] = hs_wa_2019[\"School\"].str.split(',', 1).str.get(0)\n",
    "hs_wa_2019"
   ]
  },
  {
   "cell_type": "code",
   "execution_count": 210,
   "metadata": {},
   "outputs": [
    {
     "output_type": "execute_result",
     "data": {
      "text/plain": [
       "                                   School  Year  Rank  Postcode  \\\n",
       "0                     Perth Modern School  2019     1      6008   \n",
       "1    St Hilda's Anglican School for Girls  2019     2      6012   \n",
       "2            Christ Church Grammar School  2019     3      6010   \n",
       "3            Rossmoyne Senior High School  2019     4      6148   \n",
       "4        St Mary's Anglican Girls' School  2019     5      6018   \n",
       "..                                    ...   ...   ...       ...   \n",
       "89  Swan Valley Anglican Community School  2019    90      6069   \n",
       "90       Boyup Brook District High School  2019    91      6244   \n",
       "91                      Mater Dei College  2019    92      6027   \n",
       "92              Emmanuel Catholic College  2019    93      6164   \n",
       "93    Emmanuel Christian Community School  2019    94      6064   \n",
       "\n",
       "    State Overall Score  English  Maths  Total Enrolments  Trend / Compare  \\\n",
       "0                   100      NaN    NaN              1418  Trend / Compare   \n",
       "1                   100      NaN    NaN              1087  Trend / Compare   \n",
       "2                   100      NaN    NaN              1646  Trend / Compare   \n",
       "3                   100      NaN    NaN              2188  Trend / Compare   \n",
       "4                   100      NaN    NaN              1414  Trend / Compare   \n",
       "..                  ...      ...    ...               ...              ...   \n",
       "89                   90      NaN    NaN              1031  Trend / Compare   \n",
       "90                   90      NaN    NaN               162  Trend / Compare   \n",
       "91                   90      NaN    NaN               804  Trend / Compare   \n",
       "92                   90      NaN    NaN              1061  Trend / Compare   \n",
       "93                   90      NaN    NaN               552  Trend / Compare   \n",
       "\n",
       "            Sector ICSEA  \n",
       "0       Government  1239  \n",
       "1   Non-government  1197  \n",
       "2   Non-government  1180  \n",
       "3       Government  1121  \n",
       "4   Non-government  1158  \n",
       "..             ...   ...  \n",
       "89  Non-government  1045  \n",
       "90      Government  1002  \n",
       "91  Non-government  1055  \n",
       "92  Non-government  1036  \n",
       "93  Non-government   980  \n",
       "\n",
       "[94 rows x 11 columns]"
      ],
      "text/html": "<div>\n<style scoped>\n    .dataframe tbody tr th:only-of-type {\n        vertical-align: middle;\n    }\n\n    .dataframe tbody tr th {\n        vertical-align: top;\n    }\n\n    .dataframe thead th {\n        text-align: right;\n    }\n</style>\n<table border=\"1\" class=\"dataframe\">\n  <thead>\n    <tr style=\"text-align: right;\">\n      <th></th>\n      <th>School</th>\n      <th>Year</th>\n      <th>Rank</th>\n      <th>Postcode</th>\n      <th>State Overall Score</th>\n      <th>English</th>\n      <th>Maths</th>\n      <th>Total Enrolments</th>\n      <th>Trend / Compare</th>\n      <th>Sector</th>\n      <th>ICSEA</th>\n    </tr>\n  </thead>\n  <tbody>\n    <tr>\n      <th>0</th>\n      <td>Perth Modern School</td>\n      <td>2019</td>\n      <td>1</td>\n      <td>6008</td>\n      <td>100</td>\n      <td>NaN</td>\n      <td>NaN</td>\n      <td>1418</td>\n      <td>Trend / Compare</td>\n      <td>Government</td>\n      <td>1239</td>\n    </tr>\n    <tr>\n      <th>1</th>\n      <td>St Hilda's Anglican School for Girls</td>\n      <td>2019</td>\n      <td>2</td>\n      <td>6012</td>\n      <td>100</td>\n      <td>NaN</td>\n      <td>NaN</td>\n      <td>1087</td>\n      <td>Trend / Compare</td>\n      <td>Non-government</td>\n      <td>1197</td>\n    </tr>\n    <tr>\n      <th>2</th>\n      <td>Christ Church Grammar School</td>\n      <td>2019</td>\n      <td>3</td>\n      <td>6010</td>\n      <td>100</td>\n      <td>NaN</td>\n      <td>NaN</td>\n      <td>1646</td>\n      <td>Trend / Compare</td>\n      <td>Non-government</td>\n      <td>1180</td>\n    </tr>\n    <tr>\n      <th>3</th>\n      <td>Rossmoyne Senior High School</td>\n      <td>2019</td>\n      <td>4</td>\n      <td>6148</td>\n      <td>100</td>\n      <td>NaN</td>\n      <td>NaN</td>\n      <td>2188</td>\n      <td>Trend / Compare</td>\n      <td>Government</td>\n      <td>1121</td>\n    </tr>\n    <tr>\n      <th>4</th>\n      <td>St Mary's Anglican Girls' School</td>\n      <td>2019</td>\n      <td>5</td>\n      <td>6018</td>\n      <td>100</td>\n      <td>NaN</td>\n      <td>NaN</td>\n      <td>1414</td>\n      <td>Trend / Compare</td>\n      <td>Non-government</td>\n      <td>1158</td>\n    </tr>\n    <tr>\n      <th>...</th>\n      <td>...</td>\n      <td>...</td>\n      <td>...</td>\n      <td>...</td>\n      <td>...</td>\n      <td>...</td>\n      <td>...</td>\n      <td>...</td>\n      <td>...</td>\n      <td>...</td>\n      <td>...</td>\n    </tr>\n    <tr>\n      <th>89</th>\n      <td>Swan Valley Anglican Community School</td>\n      <td>2019</td>\n      <td>90</td>\n      <td>6069</td>\n      <td>90</td>\n      <td>NaN</td>\n      <td>NaN</td>\n      <td>1031</td>\n      <td>Trend / Compare</td>\n      <td>Non-government</td>\n      <td>1045</td>\n    </tr>\n    <tr>\n      <th>90</th>\n      <td>Boyup Brook District High School</td>\n      <td>2019</td>\n      <td>91</td>\n      <td>6244</td>\n      <td>90</td>\n      <td>NaN</td>\n      <td>NaN</td>\n      <td>162</td>\n      <td>Trend / Compare</td>\n      <td>Government</td>\n      <td>1002</td>\n    </tr>\n    <tr>\n      <th>91</th>\n      <td>Mater Dei College</td>\n      <td>2019</td>\n      <td>92</td>\n      <td>6027</td>\n      <td>90</td>\n      <td>NaN</td>\n      <td>NaN</td>\n      <td>804</td>\n      <td>Trend / Compare</td>\n      <td>Non-government</td>\n      <td>1055</td>\n    </tr>\n    <tr>\n      <th>92</th>\n      <td>Emmanuel Catholic College</td>\n      <td>2019</td>\n      <td>93</td>\n      <td>6164</td>\n      <td>90</td>\n      <td>NaN</td>\n      <td>NaN</td>\n      <td>1061</td>\n      <td>Trend / Compare</td>\n      <td>Non-government</td>\n      <td>1036</td>\n    </tr>\n    <tr>\n      <th>93</th>\n      <td>Emmanuel Christian Community School</td>\n      <td>2019</td>\n      <td>94</td>\n      <td>6064</td>\n      <td>90</td>\n      <td>NaN</td>\n      <td>NaN</td>\n      <td>552</td>\n      <td>Trend / Compare</td>\n      <td>Non-government</td>\n      <td>980</td>\n    </tr>\n  </tbody>\n</table>\n<p>94 rows × 11 columns</p>\n</div>"
     },
     "metadata": {},
     "execution_count": 210
    }
   ],
   "source": [
    "# Remove the \"space\" and \"string inside parenthesis\" to show only the school name\n",
    "hs_wa_2019[\"School\"] = hs_wa_2019[\"School\"].str.split('\\s+\\(', 1).str.get(0)\n",
    "hs_wa_2019"
   ]
  },
  {
   "cell_type": "code",
   "execution_count": 211,
   "metadata": {},
   "outputs": [
    {
     "output_type": "execute_result",
     "data": {
      "text/plain": [
       "                                   School  Year  Rank  Postcode  \\\n",
       "0                     Perth Modern School  2019     1      6008   \n",
       "1    St Hilda's Anglican School for Girls  2019     2      6012   \n",
       "2            Christ Church Grammar School  2019     3      6010   \n",
       "3            Rossmoyne Senior High School  2019     4      6148   \n",
       "4        St Mary's Anglican Girls' School  2019     5      6018   \n",
       "..                                    ...   ...   ...       ...   \n",
       "89  Swan Valley Anglican Community School  2019    90      6069   \n",
       "90       Boyup Brook District High School  2019    91      6244   \n",
       "91                      Mater Dei College  2019    92      6027   \n",
       "92              Emmanuel Catholic College  2019    93      6164   \n",
       "93    Emmanuel Christian Community School  2019    94      6064   \n",
       "\n",
       "    State Overall Score  Total Enrolments ICSEA  \n",
       "0                   100              1418  1239  \n",
       "1                   100              1087  1197  \n",
       "2                   100              1646  1180  \n",
       "3                   100              2188  1121  \n",
       "4                   100              1414  1158  \n",
       "..                  ...               ...   ...  \n",
       "89                   90              1031  1045  \n",
       "90                   90               162  1002  \n",
       "91                   90               804  1055  \n",
       "92                   90              1061  1036  \n",
       "93                   90               552   980  \n",
       "\n",
       "[94 rows x 7 columns]"
      ],
      "text/html": "<div>\n<style scoped>\n    .dataframe tbody tr th:only-of-type {\n        vertical-align: middle;\n    }\n\n    .dataframe tbody tr th {\n        vertical-align: top;\n    }\n\n    .dataframe thead th {\n        text-align: right;\n    }\n</style>\n<table border=\"1\" class=\"dataframe\">\n  <thead>\n    <tr style=\"text-align: right;\">\n      <th></th>\n      <th>School</th>\n      <th>Year</th>\n      <th>Rank</th>\n      <th>Postcode</th>\n      <th>State Overall Score</th>\n      <th>Total Enrolments</th>\n      <th>ICSEA</th>\n    </tr>\n  </thead>\n  <tbody>\n    <tr>\n      <th>0</th>\n      <td>Perth Modern School</td>\n      <td>2019</td>\n      <td>1</td>\n      <td>6008</td>\n      <td>100</td>\n      <td>1418</td>\n      <td>1239</td>\n    </tr>\n    <tr>\n      <th>1</th>\n      <td>St Hilda's Anglican School for Girls</td>\n      <td>2019</td>\n      <td>2</td>\n      <td>6012</td>\n      <td>100</td>\n      <td>1087</td>\n      <td>1197</td>\n    </tr>\n    <tr>\n      <th>2</th>\n      <td>Christ Church Grammar School</td>\n      <td>2019</td>\n      <td>3</td>\n      <td>6010</td>\n      <td>100</td>\n      <td>1646</td>\n      <td>1180</td>\n    </tr>\n    <tr>\n      <th>3</th>\n      <td>Rossmoyne Senior High School</td>\n      <td>2019</td>\n      <td>4</td>\n      <td>6148</td>\n      <td>100</td>\n      <td>2188</td>\n      <td>1121</td>\n    </tr>\n    <tr>\n      <th>4</th>\n      <td>St Mary's Anglican Girls' School</td>\n      <td>2019</td>\n      <td>5</td>\n      <td>6018</td>\n      <td>100</td>\n      <td>1414</td>\n      <td>1158</td>\n    </tr>\n    <tr>\n      <th>...</th>\n      <td>...</td>\n      <td>...</td>\n      <td>...</td>\n      <td>...</td>\n      <td>...</td>\n      <td>...</td>\n      <td>...</td>\n    </tr>\n    <tr>\n      <th>89</th>\n      <td>Swan Valley Anglican Community School</td>\n      <td>2019</td>\n      <td>90</td>\n      <td>6069</td>\n      <td>90</td>\n      <td>1031</td>\n      <td>1045</td>\n    </tr>\n    <tr>\n      <th>90</th>\n      <td>Boyup Brook District High School</td>\n      <td>2019</td>\n      <td>91</td>\n      <td>6244</td>\n      <td>90</td>\n      <td>162</td>\n      <td>1002</td>\n    </tr>\n    <tr>\n      <th>91</th>\n      <td>Mater Dei College</td>\n      <td>2019</td>\n      <td>92</td>\n      <td>6027</td>\n      <td>90</td>\n      <td>804</td>\n      <td>1055</td>\n    </tr>\n    <tr>\n      <th>92</th>\n      <td>Emmanuel Catholic College</td>\n      <td>2019</td>\n      <td>93</td>\n      <td>6164</td>\n      <td>90</td>\n      <td>1061</td>\n      <td>1036</td>\n    </tr>\n    <tr>\n      <th>93</th>\n      <td>Emmanuel Christian Community School</td>\n      <td>2019</td>\n      <td>94</td>\n      <td>6064</td>\n      <td>90</td>\n      <td>552</td>\n      <td>980</td>\n    </tr>\n  </tbody>\n</table>\n<p>94 rows × 7 columns</p>\n</div>"
     },
     "metadata": {},
     "execution_count": 211
    }
   ],
   "source": [
    "# re-arrange the columns & remove other columns\n",
    "hs_wa_2019 = hs_wa_2019[['School', 'Year', 'Rank', 'Postcode','State Overall Score', 'Total Enrolments', 'ICSEA']]\n",
    "hs_wa_2019"
   ]
  },
  {
   "cell_type": "code",
   "execution_count": 212,
   "metadata": {},
   "outputs": [],
   "source": [
    "# replace some values to correct the spelling to prevent Null values when performing the merge with other Dataframes later on\n",
    "hs_wa_2019[\"School\"].replace({\"John Curtin College Of The Arts\": \"John Curtin College of the Arts\", \n",
    "                       \"Australian Christian College\": \"Australian Christian College - Southlands\",\n",
    "                       \"St Stephen's School\": \"St Stephen's School - Duncraig\",\n",
    "                       \"Schools Of Isolated & Distance Education\": \"School of Isolated and Distance Education\",\n",
    "                       \"St Mary MacKillop College\": \"St Mary Mackillop College\"\n",
    "                        }, inplace=True)"
   ]
  },
  {
   "cell_type": "code",
   "execution_count": 213,
   "metadata": {},
   "outputs": [
    {
     "output_type": "execute_result",
     "data": {
      "text/plain": [
       "                                   School  Year  Rank  Postcode  \\\n",
       "0                     Perth Modern School  2019     1      6008   \n",
       "1    St Hilda's Anglican School for Girls  2019     2      6012   \n",
       "2            Christ Church Grammar School  2019     3      6010   \n",
       "3            Rossmoyne Senior High School  2019     4      6148   \n",
       "4        St Mary's Anglican Girls' School  2019     5      6018   \n",
       "..                                    ...   ...   ...       ...   \n",
       "89  Swan Valley Anglican Community School  2019    90      6069   \n",
       "90       Boyup Brook District High School  2019    91      6244   \n",
       "91                      Mater Dei College  2019    92      6027   \n",
       "92              Emmanuel Catholic College  2019    93      6164   \n",
       "93    Emmanuel Christian Community School  2019    94      6064   \n",
       "\n",
       "    State Overall Score  Total Enrolments ICSEA       Suburb   Longitude  \\\n",
       "0                   100              1418  1239      Subiaco  115.836396   \n",
       "1                   100              1087  1197  Mosman Park  115.767812   \n",
       "2                   100              1646  1180    Claremont  115.776987   \n",
       "3                   100              2188  1121    Rossmoyne  115.870546   \n",
       "4                   100              1414  1158    Karrinyup  115.766244   \n",
       "..                  ...               ...   ...          ...         ...   \n",
       "89                   90              1031  1045       Aveley  115.985452   \n",
       "90                   90               162  1002  Boyup Brook  116.391338   \n",
       "91                   90               804  1055    Edgewater  115.776519   \n",
       "92                   90              1061  1036      Success  115.840070   \n",
       "93                   90               552   980   Girrawheen  115.848262   \n",
       "\n",
       "     Latitude  \n",
       "0  -31.945066  \n",
       "1  -32.005047  \n",
       "2  -31.985461  \n",
       "3  -32.046265  \n",
       "4  -31.876971  \n",
       "..        ...  \n",
       "89 -31.794345  \n",
       "90 -33.836347  \n",
       "91 -31.764660  \n",
       "92 -32.128578  \n",
       "93 -31.846204  \n",
       "\n",
       "[94 rows x 10 columns]"
      ],
      "text/html": "<div>\n<style scoped>\n    .dataframe tbody tr th:only-of-type {\n        vertical-align: middle;\n    }\n\n    .dataframe tbody tr th {\n        vertical-align: top;\n    }\n\n    .dataframe thead th {\n        text-align: right;\n    }\n</style>\n<table border=\"1\" class=\"dataframe\">\n  <thead>\n    <tr style=\"text-align: right;\">\n      <th></th>\n      <th>School</th>\n      <th>Year</th>\n      <th>Rank</th>\n      <th>Postcode</th>\n      <th>State Overall Score</th>\n      <th>Total Enrolments</th>\n      <th>ICSEA</th>\n      <th>Suburb</th>\n      <th>Longitude</th>\n      <th>Latitude</th>\n    </tr>\n  </thead>\n  <tbody>\n    <tr>\n      <th>0</th>\n      <td>Perth Modern School</td>\n      <td>2019</td>\n      <td>1</td>\n      <td>6008</td>\n      <td>100</td>\n      <td>1418</td>\n      <td>1239</td>\n      <td>Subiaco</td>\n      <td>115.836396</td>\n      <td>-31.945066</td>\n    </tr>\n    <tr>\n      <th>1</th>\n      <td>St Hilda's Anglican School for Girls</td>\n      <td>2019</td>\n      <td>2</td>\n      <td>6012</td>\n      <td>100</td>\n      <td>1087</td>\n      <td>1197</td>\n      <td>Mosman Park</td>\n      <td>115.767812</td>\n      <td>-32.005047</td>\n    </tr>\n    <tr>\n      <th>2</th>\n      <td>Christ Church Grammar School</td>\n      <td>2019</td>\n      <td>3</td>\n      <td>6010</td>\n      <td>100</td>\n      <td>1646</td>\n      <td>1180</td>\n      <td>Claremont</td>\n      <td>115.776987</td>\n      <td>-31.985461</td>\n    </tr>\n    <tr>\n      <th>3</th>\n      <td>Rossmoyne Senior High School</td>\n      <td>2019</td>\n      <td>4</td>\n      <td>6148</td>\n      <td>100</td>\n      <td>2188</td>\n      <td>1121</td>\n      <td>Rossmoyne</td>\n      <td>115.870546</td>\n      <td>-32.046265</td>\n    </tr>\n    <tr>\n      <th>4</th>\n      <td>St Mary's Anglican Girls' School</td>\n      <td>2019</td>\n      <td>5</td>\n      <td>6018</td>\n      <td>100</td>\n      <td>1414</td>\n      <td>1158</td>\n      <td>Karrinyup</td>\n      <td>115.766244</td>\n      <td>-31.876971</td>\n    </tr>\n    <tr>\n      <th>...</th>\n      <td>...</td>\n      <td>...</td>\n      <td>...</td>\n      <td>...</td>\n      <td>...</td>\n      <td>...</td>\n      <td>...</td>\n      <td>...</td>\n      <td>...</td>\n      <td>...</td>\n    </tr>\n    <tr>\n      <th>89</th>\n      <td>Swan Valley Anglican Community School</td>\n      <td>2019</td>\n      <td>90</td>\n      <td>6069</td>\n      <td>90</td>\n      <td>1031</td>\n      <td>1045</td>\n      <td>Aveley</td>\n      <td>115.985452</td>\n      <td>-31.794345</td>\n    </tr>\n    <tr>\n      <th>90</th>\n      <td>Boyup Brook District High School</td>\n      <td>2019</td>\n      <td>91</td>\n      <td>6244</td>\n      <td>90</td>\n      <td>162</td>\n      <td>1002</td>\n      <td>Boyup Brook</td>\n      <td>116.391338</td>\n      <td>-33.836347</td>\n    </tr>\n    <tr>\n      <th>91</th>\n      <td>Mater Dei College</td>\n      <td>2019</td>\n      <td>92</td>\n      <td>6027</td>\n      <td>90</td>\n      <td>804</td>\n      <td>1055</td>\n      <td>Edgewater</td>\n      <td>115.776519</td>\n      <td>-31.764660</td>\n    </tr>\n    <tr>\n      <th>92</th>\n      <td>Emmanuel Catholic College</td>\n      <td>2019</td>\n      <td>93</td>\n      <td>6164</td>\n      <td>90</td>\n      <td>1061</td>\n      <td>1036</td>\n      <td>Success</td>\n      <td>115.840070</td>\n      <td>-32.128578</td>\n    </tr>\n    <tr>\n      <th>93</th>\n      <td>Emmanuel Christian Community School</td>\n      <td>2019</td>\n      <td>94</td>\n      <td>6064</td>\n      <td>90</td>\n      <td>552</td>\n      <td>980</td>\n      <td>Girrawheen</td>\n      <td>115.848262</td>\n      <td>-31.846204</td>\n    </tr>\n  </tbody>\n</table>\n<p>94 rows × 10 columns</p>\n</div>"
     },
     "metadata": {},
     "execution_count": 213
    }
   ],
   "source": [
    "# merge \"hs_wa_2019\" with \"school_coord\" Dataframe\n",
    "hs_wa_2019_coord = pd.merge(hs_wa_2019, school_coordinates, on=['School'], how='left')\n",
    "hs_wa_2019_coord"
   ]
  },
  {
   "cell_type": "code",
   "execution_count": 214,
   "metadata": {},
   "outputs": [
    {
     "output_type": "execute_result",
     "data": {
      "text/plain": [
       "Empty DataFrame\n",
       "Columns: [School, Year, Rank, Postcode, State Overall Score, Total Enrolments, ICSEA, Suburb, Longitude, Latitude]\n",
       "Index: []"
      ],
      "text/html": "<div>\n<style scoped>\n    .dataframe tbody tr th:only-of-type {\n        vertical-align: middle;\n    }\n\n    .dataframe tbody tr th {\n        vertical-align: top;\n    }\n\n    .dataframe thead th {\n        text-align: right;\n    }\n</style>\n<table border=\"1\" class=\"dataframe\">\n  <thead>\n    <tr style=\"text-align: right;\">\n      <th></th>\n      <th>School</th>\n      <th>Year</th>\n      <th>Rank</th>\n      <th>Postcode</th>\n      <th>State Overall Score</th>\n      <th>Total Enrolments</th>\n      <th>ICSEA</th>\n      <th>Suburb</th>\n      <th>Longitude</th>\n      <th>Latitude</th>\n    </tr>\n  </thead>\n  <tbody>\n  </tbody>\n</table>\n</div>"
     },
     "metadata": {},
     "execution_count": 214
    }
   ],
   "source": [
    "# Check for NaN values\n",
    "# creating bool series True for NaN values  \n",
    "bool_series = pd.isnull(hs_wa_2019_coord[\"Longitude\"])  \n",
    "    \n",
    "# filtering data  \n",
    "# displaying data only with \"Longitude\" = NaN\n",
    "hs_wa_2019_coord[bool_series]"
   ]
  },
  {
   "cell_type": "code",
   "execution_count": 215,
   "metadata": {},
   "outputs": [
    {
     "output_type": "execute_result",
     "data": {
      "text/plain": [
       "                                   School  Year  Rank  Postcode  \\\n",
       "0                     Perth Modern School  2019     1      6008   \n",
       "1    St Hilda's Anglican School for Girls  2019     2      6012   \n",
       "2            Christ Church Grammar School  2019     3      6010   \n",
       "3            Rossmoyne Senior High School  2019     4      6148   \n",
       "4        St Mary's Anglican Girls' School  2019     5      6018   \n",
       "..                                    ...   ...   ...       ...   \n",
       "89  Swan Valley Anglican Community School  2019    90      6069   \n",
       "90       Boyup Brook District High School  2019    91      6244   \n",
       "91                      Mater Dei College  2019    92      6027   \n",
       "92              Emmanuel Catholic College  2019    93      6164   \n",
       "93    Emmanuel Christian Community School  2019    94      6064   \n",
       "\n",
       "    State Overall Score  Total Enrolments ICSEA       Suburb   Longitude  \\\n",
       "0                   100              1418  1239      Subiaco  115.836396   \n",
       "1                   100              1087  1197  Mosman Park  115.767812   \n",
       "2                   100              1646  1180    Claremont  115.776987   \n",
       "3                   100              2188  1121    Rossmoyne  115.870546   \n",
       "4                   100              1414  1158    Karrinyup  115.766244   \n",
       "..                  ...               ...   ...          ...         ...   \n",
       "89                   90              1031  1045       Aveley  115.985452   \n",
       "90                   90               162  1002  Boyup Brook  116.391338   \n",
       "91                   90               804  1055    Edgewater  115.776519   \n",
       "92                   90              1061  1036      Success  115.840070   \n",
       "93                   90               552   980   Girrawheen  115.848262   \n",
       "\n",
       "     Latitude          Sector Gender   Religion  \n",
       "0  -31.945066      Government  Co-ed    Secular  \n",
       "1  -32.005047  Non-government  Girls   Anglican  \n",
       "2  -31.985461  Non-government   Boys   Anglican  \n",
       "3  -32.046265      Government  Co-ed    Secular  \n",
       "4  -31.876971  Non-government  Girls   Anglican  \n",
       "..        ...             ...    ...        ...  \n",
       "89 -31.794345  Non-government  Co-ed   Anglican  \n",
       "90 -33.836347      Government  Co-ed    Secular  \n",
       "91 -31.764660  Non-government  Co-ed   Catholic  \n",
       "92 -32.128578  Non-government  Co-ed   Catholic  \n",
       "93 -31.846204  Non-government  Co-ed  Christian  \n",
       "\n",
       "[94 rows x 13 columns]"
      ],
      "text/html": "<div>\n<style scoped>\n    .dataframe tbody tr th:only-of-type {\n        vertical-align: middle;\n    }\n\n    .dataframe tbody tr th {\n        vertical-align: top;\n    }\n\n    .dataframe thead th {\n        text-align: right;\n    }\n</style>\n<table border=\"1\" class=\"dataframe\">\n  <thead>\n    <tr style=\"text-align: right;\">\n      <th></th>\n      <th>School</th>\n      <th>Year</th>\n      <th>Rank</th>\n      <th>Postcode</th>\n      <th>State Overall Score</th>\n      <th>Total Enrolments</th>\n      <th>ICSEA</th>\n      <th>Suburb</th>\n      <th>Longitude</th>\n      <th>Latitude</th>\n      <th>Sector</th>\n      <th>Gender</th>\n      <th>Religion</th>\n    </tr>\n  </thead>\n  <tbody>\n    <tr>\n      <th>0</th>\n      <td>Perth Modern School</td>\n      <td>2019</td>\n      <td>1</td>\n      <td>6008</td>\n      <td>100</td>\n      <td>1418</td>\n      <td>1239</td>\n      <td>Subiaco</td>\n      <td>115.836396</td>\n      <td>-31.945066</td>\n      <td>Government</td>\n      <td>Co-ed</td>\n      <td>Secular</td>\n    </tr>\n    <tr>\n      <th>1</th>\n      <td>St Hilda's Anglican School for Girls</td>\n      <td>2019</td>\n      <td>2</td>\n      <td>6012</td>\n      <td>100</td>\n      <td>1087</td>\n      <td>1197</td>\n      <td>Mosman Park</td>\n      <td>115.767812</td>\n      <td>-32.005047</td>\n      <td>Non-government</td>\n      <td>Girls</td>\n      <td>Anglican</td>\n    </tr>\n    <tr>\n      <th>2</th>\n      <td>Christ Church Grammar School</td>\n      <td>2019</td>\n      <td>3</td>\n      <td>6010</td>\n      <td>100</td>\n      <td>1646</td>\n      <td>1180</td>\n      <td>Claremont</td>\n      <td>115.776987</td>\n      <td>-31.985461</td>\n      <td>Non-government</td>\n      <td>Boys</td>\n      <td>Anglican</td>\n    </tr>\n    <tr>\n      <th>3</th>\n      <td>Rossmoyne Senior High School</td>\n      <td>2019</td>\n      <td>4</td>\n      <td>6148</td>\n      <td>100</td>\n      <td>2188</td>\n      <td>1121</td>\n      <td>Rossmoyne</td>\n      <td>115.870546</td>\n      <td>-32.046265</td>\n      <td>Government</td>\n      <td>Co-ed</td>\n      <td>Secular</td>\n    </tr>\n    <tr>\n      <th>4</th>\n      <td>St Mary's Anglican Girls' School</td>\n      <td>2019</td>\n      <td>5</td>\n      <td>6018</td>\n      <td>100</td>\n      <td>1414</td>\n      <td>1158</td>\n      <td>Karrinyup</td>\n      <td>115.766244</td>\n      <td>-31.876971</td>\n      <td>Non-government</td>\n      <td>Girls</td>\n      <td>Anglican</td>\n    </tr>\n    <tr>\n      <th>...</th>\n      <td>...</td>\n      <td>...</td>\n      <td>...</td>\n      <td>...</td>\n      <td>...</td>\n      <td>...</td>\n      <td>...</td>\n      <td>...</td>\n      <td>...</td>\n      <td>...</td>\n      <td>...</td>\n      <td>...</td>\n      <td>...</td>\n    </tr>\n    <tr>\n      <th>89</th>\n      <td>Swan Valley Anglican Community School</td>\n      <td>2019</td>\n      <td>90</td>\n      <td>6069</td>\n      <td>90</td>\n      <td>1031</td>\n      <td>1045</td>\n      <td>Aveley</td>\n      <td>115.985452</td>\n      <td>-31.794345</td>\n      <td>Non-government</td>\n      <td>Co-ed</td>\n      <td>Anglican</td>\n    </tr>\n    <tr>\n      <th>90</th>\n      <td>Boyup Brook District High School</td>\n      <td>2019</td>\n      <td>91</td>\n      <td>6244</td>\n      <td>90</td>\n      <td>162</td>\n      <td>1002</td>\n      <td>Boyup Brook</td>\n      <td>116.391338</td>\n      <td>-33.836347</td>\n      <td>Government</td>\n      <td>Co-ed</td>\n      <td>Secular</td>\n    </tr>\n    <tr>\n      <th>91</th>\n      <td>Mater Dei College</td>\n      <td>2019</td>\n      <td>92</td>\n      <td>6027</td>\n      <td>90</td>\n      <td>804</td>\n      <td>1055</td>\n      <td>Edgewater</td>\n      <td>115.776519</td>\n      <td>-31.764660</td>\n      <td>Non-government</td>\n      <td>Co-ed</td>\n      <td>Catholic</td>\n    </tr>\n    <tr>\n      <th>92</th>\n      <td>Emmanuel Catholic College</td>\n      <td>2019</td>\n      <td>93</td>\n      <td>6164</td>\n      <td>90</td>\n      <td>1061</td>\n      <td>1036</td>\n      <td>Success</td>\n      <td>115.840070</td>\n      <td>-32.128578</td>\n      <td>Non-government</td>\n      <td>Co-ed</td>\n      <td>Catholic</td>\n    </tr>\n    <tr>\n      <th>93</th>\n      <td>Emmanuel Christian Community School</td>\n      <td>2019</td>\n      <td>94</td>\n      <td>6064</td>\n      <td>90</td>\n      <td>552</td>\n      <td>980</td>\n      <td>Girrawheen</td>\n      <td>115.848262</td>\n      <td>-31.846204</td>\n      <td>Non-government</td>\n      <td>Co-ed</td>\n      <td>Christian</td>\n    </tr>\n  </tbody>\n</table>\n<p>94 rows × 13 columns</p>\n</div>"
     },
     "metadata": {},
     "execution_count": 215
    }
   ],
   "source": [
    "# merge \"hs_wa_2019_coord\" Dataframe with \"sectors\" Dataframe\n",
    "wa_hs_icsea_2019 = pd.merge(hs_wa_2019_coord, sectors , on=['School'], how='left')\n",
    "wa_hs_icsea_2019"
   ]
  },
  {
   "cell_type": "code",
   "execution_count": 216,
   "metadata": {},
   "outputs": [
    {
     "output_type": "execute_result",
     "data": {
      "text/plain": [
       "Empty DataFrame\n",
       "Columns: [School, Year, Rank, Postcode, State Overall Score, Total Enrolments, ICSEA, Suburb, Longitude, Latitude, Sector, Gender, Religion]\n",
       "Index: []"
      ],
      "text/html": "<div>\n<style scoped>\n    .dataframe tbody tr th:only-of-type {\n        vertical-align: middle;\n    }\n\n    .dataframe tbody tr th {\n        vertical-align: top;\n    }\n\n    .dataframe thead th {\n        text-align: right;\n    }\n</style>\n<table border=\"1\" class=\"dataframe\">\n  <thead>\n    <tr style=\"text-align: right;\">\n      <th></th>\n      <th>School</th>\n      <th>Year</th>\n      <th>Rank</th>\n      <th>Postcode</th>\n      <th>State Overall Score</th>\n      <th>Total Enrolments</th>\n      <th>ICSEA</th>\n      <th>Suburb</th>\n      <th>Longitude</th>\n      <th>Latitude</th>\n      <th>Sector</th>\n      <th>Gender</th>\n      <th>Religion</th>\n    </tr>\n  </thead>\n  <tbody>\n  </tbody>\n</table>\n</div>"
     },
     "metadata": {},
     "execution_count": 216
    }
   ],
   "source": [
    "# Check for NaN values\n",
    "# creating bool series True for NaN values  \n",
    "bool_series = pd.isnull(wa_hs_icsea_2019[\"Sector\"])  \n",
    "    \n",
    "# filtering data  \n",
    "# displaying data only with \"Sector\" = NaN \n",
    "wa_hs_icsea_2019[bool_series]"
   ]
  },
  {
   "cell_type": "code",
   "execution_count": 217,
   "metadata": {},
   "outputs": [
    {
     "output_type": "execute_result",
     "data": {
      "text/plain": [
       "               School  Year  Rank  Postcode  State Overall Score  \\\n",
       "34  Woodthorpe School  2019    35      6155                   96   \n",
       "\n",
       "    Total Enrolments ICSEA     Suburb  Longitude  Latitude          Sector  \\\n",
       "34               255   nan  Willetton  115.90172 -32.05654  Non-government   \n",
       "\n",
       "   Gender            Religion  \n",
       "34  Co-ed  Brethren Christian  "
      ],
      "text/html": "<div>\n<style scoped>\n    .dataframe tbody tr th:only-of-type {\n        vertical-align: middle;\n    }\n\n    .dataframe tbody tr th {\n        vertical-align: top;\n    }\n\n    .dataframe thead th {\n        text-align: right;\n    }\n</style>\n<table border=\"1\" class=\"dataframe\">\n  <thead>\n    <tr style=\"text-align: right;\">\n      <th></th>\n      <th>School</th>\n      <th>Year</th>\n      <th>Rank</th>\n      <th>Postcode</th>\n      <th>State Overall Score</th>\n      <th>Total Enrolments</th>\n      <th>ICSEA</th>\n      <th>Suburb</th>\n      <th>Longitude</th>\n      <th>Latitude</th>\n      <th>Sector</th>\n      <th>Gender</th>\n      <th>Religion</th>\n    </tr>\n  </thead>\n  <tbody>\n    <tr>\n      <th>34</th>\n      <td>Woodthorpe School</td>\n      <td>2019</td>\n      <td>35</td>\n      <td>6155</td>\n      <td>96</td>\n      <td>255</td>\n      <td>nan</td>\n      <td>Willetton</td>\n      <td>115.90172</td>\n      <td>-32.05654</td>\n      <td>Non-government</td>\n      <td>Co-ed</td>\n      <td>Brethren Christian</td>\n    </tr>\n  </tbody>\n</table>\n</div>"
     },
     "metadata": {},
     "execution_count": 217
    }
   ],
   "source": [
    "# check for \"nan\" values which is a known value in the 2019 rankings dataset for Woodthorpe School\n",
    "# \"nan\" values are not considered Null (as opposed to \"Nan\") so it has to be searched manually\n",
    "wa_hs_icsea_2019.loc[wa_hs_icsea_2019[\"ICSEA\"] == \"nan\", :]"
   ]
  },
  {
   "cell_type": "code",
   "execution_count": 218,
   "metadata": {},
   "outputs": [],
   "source": [
    "# replaced \"nan\" with 983 which is the ICSEA score for Woodthorpe School\n",
    "wa_hs_icsea_2019 = wa_hs_icsea_2019.replace('nan', 983)"
   ]
  },
  {
   "cell_type": "code",
   "execution_count": 219,
   "metadata": {},
   "outputs": [
    {
     "output_type": "execute_result",
     "data": {
      "text/plain": [
       "Empty DataFrame\n",
       "Columns: [School, Year, Rank, Postcode, State Overall Score, Total Enrolments, ICSEA, Suburb, Longitude, Latitude, Sector, Gender, Religion]\n",
       "Index: []"
      ],
      "text/html": "<div>\n<style scoped>\n    .dataframe tbody tr th:only-of-type {\n        vertical-align: middle;\n    }\n\n    .dataframe tbody tr th {\n        vertical-align: top;\n    }\n\n    .dataframe thead th {\n        text-align: right;\n    }\n</style>\n<table border=\"1\" class=\"dataframe\">\n  <thead>\n    <tr style=\"text-align: right;\">\n      <th></th>\n      <th>School</th>\n      <th>Year</th>\n      <th>Rank</th>\n      <th>Postcode</th>\n      <th>State Overall Score</th>\n      <th>Total Enrolments</th>\n      <th>ICSEA</th>\n      <th>Suburb</th>\n      <th>Longitude</th>\n      <th>Latitude</th>\n      <th>Sector</th>\n      <th>Gender</th>\n      <th>Religion</th>\n    </tr>\n  </thead>\n  <tbody>\n  </tbody>\n</table>\n</div>"
     },
     "metadata": {},
     "execution_count": 219
    }
   ],
   "source": [
    "# check for \"nan\" values after replacing the value to double check\n",
    "wa_hs_icsea_2019.loc[wa_hs_icsea_2019[\"ICSEA\"] == \"nan\", :]"
   ]
  },
  {
   "cell_type": "code",
   "execution_count": 220,
   "metadata": {},
   "outputs": [
    {
     "output_type": "execute_result",
     "data": {
      "text/plain": [
       "                                      School  Year  Rank  Postcode  \\\n",
       "0                        Perth Modern School  2018     1      6008   \n",
       "1               Christ Church Grammar School  2018     2      6010   \n",
       "2                                Hale School  2018     3      6019   \n",
       "3               Rossmoyne Senior High School  2018     4      6148   \n",
       "4       St Hilda's Anglican School for Girls  2018     5      6012   \n",
       "..                                       ...   ...   ...       ...   \n",
       "88                  Mandurah Baptist College  2018    89      6180   \n",
       "89                 Ashdale Secondary College  2018    90      6065   \n",
       "90                 St Mary MacKillop College  2018    91      6280   \n",
       "91  John Wollaston Anglican Community School  2018    92      6111   \n",
       "92                  Bunbury Catholic College  2018    93      6230   \n",
       "\n",
       "    State Overall Score  Total Enrolments  \n",
       "0                   100              1411  \n",
       "1                   100              1644  \n",
       "2                   100              1504  \n",
       "3                   100              2122  \n",
       "4                   100              1121  \n",
       "..                  ...               ...  \n",
       "88                   90              1174  \n",
       "89                   90              1597  \n",
       "90                   90              1326  \n",
       "91                   90               897  \n",
       "92                   90              1415  \n",
       "\n",
       "[93 rows x 6 columns]"
      ],
      "text/html": "<div>\n<style scoped>\n    .dataframe tbody tr th:only-of-type {\n        vertical-align: middle;\n    }\n\n    .dataframe tbody tr th {\n        vertical-align: top;\n    }\n\n    .dataframe thead th {\n        text-align: right;\n    }\n</style>\n<table border=\"1\" class=\"dataframe\">\n  <thead>\n    <tr style=\"text-align: right;\">\n      <th></th>\n      <th>School</th>\n      <th>Year</th>\n      <th>Rank</th>\n      <th>Postcode</th>\n      <th>State Overall Score</th>\n      <th>Total Enrolments</th>\n    </tr>\n  </thead>\n  <tbody>\n    <tr>\n      <th>0</th>\n      <td>Perth Modern School</td>\n      <td>2018</td>\n      <td>1</td>\n      <td>6008</td>\n      <td>100</td>\n      <td>1411</td>\n    </tr>\n    <tr>\n      <th>1</th>\n      <td>Christ Church Grammar School</td>\n      <td>2018</td>\n      <td>2</td>\n      <td>6010</td>\n      <td>100</td>\n      <td>1644</td>\n    </tr>\n    <tr>\n      <th>2</th>\n      <td>Hale School</td>\n      <td>2018</td>\n      <td>3</td>\n      <td>6019</td>\n      <td>100</td>\n      <td>1504</td>\n    </tr>\n    <tr>\n      <th>3</th>\n      <td>Rossmoyne Senior High School</td>\n      <td>2018</td>\n      <td>4</td>\n      <td>6148</td>\n      <td>100</td>\n      <td>2122</td>\n    </tr>\n    <tr>\n      <th>4</th>\n      <td>St Hilda's Anglican School for Girls</td>\n      <td>2018</td>\n      <td>5</td>\n      <td>6012</td>\n      <td>100</td>\n      <td>1121</td>\n    </tr>\n    <tr>\n      <th>...</th>\n      <td>...</td>\n      <td>...</td>\n      <td>...</td>\n      <td>...</td>\n      <td>...</td>\n      <td>...</td>\n    </tr>\n    <tr>\n      <th>88</th>\n      <td>Mandurah Baptist College</td>\n      <td>2018</td>\n      <td>89</td>\n      <td>6180</td>\n      <td>90</td>\n      <td>1174</td>\n    </tr>\n    <tr>\n      <th>89</th>\n      <td>Ashdale Secondary College</td>\n      <td>2018</td>\n      <td>90</td>\n      <td>6065</td>\n      <td>90</td>\n      <td>1597</td>\n    </tr>\n    <tr>\n      <th>90</th>\n      <td>St Mary MacKillop College</td>\n      <td>2018</td>\n      <td>91</td>\n      <td>6280</td>\n      <td>90</td>\n      <td>1326</td>\n    </tr>\n    <tr>\n      <th>91</th>\n      <td>John Wollaston Anglican Community School</td>\n      <td>2018</td>\n      <td>92</td>\n      <td>6111</td>\n      <td>90</td>\n      <td>897</td>\n    </tr>\n    <tr>\n      <th>92</th>\n      <td>Bunbury Catholic College</td>\n      <td>2018</td>\n      <td>93</td>\n      <td>6230</td>\n      <td>90</td>\n      <td>1415</td>\n    </tr>\n  </tbody>\n</table>\n<p>93 rows × 6 columns</p>\n</div>"
     },
     "metadata": {},
     "execution_count": 220
    }
   ],
   "source": [
    "# get the 2018 url WA school ranking\n",
    "rank_2018 = \"https://bettereducation.com.au/school/secondary/wa/wa_top_secondary_schools.aspx?yr=2018\"\n",
    "\n",
    "# Use panda's `read_html` to parse the 2018 ranking url\n",
    "hs_wa_2018 = pd.read_html(rank_2018, header=0)[0]\n",
    "\n",
    "# insert a column \"year\" with values of \"2018\" after the column \"Shool\"\n",
    "hs_wa_2018.insert(1, 'Year', 2018)\n",
    "\n",
    "# insert a column \"Rank\" with values of \"incremental values\" after the column \"Year\"\n",
    "hs_wa_2018.insert(2, 'Rank', range(1, 1 + len(hs_wa_2018)))\n",
    "\n",
    "# replace the values of \"Australian Islamic College\" to correct the spelling to prevent Null values when performing the merge with other Dataframes later on\n",
    "hs_wa_2018[\"School\"].replace({\"Australian Islamic College (Kewdale),Kewdale,WA,6105\": \"Australian Islamic College - Kewdale\"}, inplace=True)\n",
    "\n",
    "# remove the strings after the \",\" to show only the school name\n",
    "hs_wa_2018[\"School\"] = hs_wa_2018[\"School\"].str.split(',', 1).str.get(0)\n",
    "\n",
    "# remove the \"space\" and \"string inside parenthesis\" to show only the school name\n",
    "hs_wa_2018[\"School\"] = hs_wa_2018[\"School\"].str.split('\\s+\\(', 1).str.get(0)\n",
    "\n",
    "# re-arrange the columns & remove other columns\n",
    "hs_wa_2018 = hs_wa_2018[['School', 'Year', 'Rank', 'Postcode','State Overall Score', 'Total Enrolments']]\n",
    "hs_wa_2018"
   ]
  },
  {
   "cell_type": "code",
   "execution_count": 221,
   "metadata": {},
   "outputs": [],
   "source": [
    "# replace some values to correct the spelling to prevent Null values when performing the merge with other Dataframes later on\n",
    "hs_wa_2018[\"School\"].replace({\"John Curtin College Of The Arts\": \"John Curtin College of the Arts\", \n",
    "                       \"Australian Christian College\": \"Australian Christian College - Southlands\",\n",
    "                       \"St Stephen's School\": \"St Stephen's School - Duncraig\",\n",
    "                       \"Schools Of Isolated & Distance Education\": \"School of Isolated and Distance Education\",\n",
    "                       \"St Mary MacKillop College\": \"St Mary Mackillop College\"\n",
    "                        }, inplace=True)"
   ]
  },
  {
   "cell_type": "code",
   "execution_count": 222,
   "metadata": {},
   "outputs": [
    {
     "output_type": "execute_result",
     "data": {
      "text/plain": [
       "                                      School  Year  Rank  Postcode  \\\n",
       "0                        Perth Modern School  2018     1      6008   \n",
       "1               Christ Church Grammar School  2018     2      6010   \n",
       "2                                Hale School  2018     3      6019   \n",
       "3               Rossmoyne Senior High School  2018     4      6148   \n",
       "4       St Hilda's Anglican School for Girls  2018     5      6012   \n",
       "..                                       ...   ...   ...       ...   \n",
       "88                  Mandurah Baptist College  2018    89      6180   \n",
       "89                 Ashdale Secondary College  2018    90      6065   \n",
       "90                 St Mary Mackillop College  2018    91      6280   \n",
       "91  John Wollaston Anglican Community School  2018    92      6111   \n",
       "92                  Bunbury Catholic College  2018    93      6230   \n",
       "\n",
       "    State Overall Score  Total Enrolments ICSEA  \n",
       "0                   100              1411  1239  \n",
       "1                   100              1644  1180  \n",
       "2                   100              1504  1165  \n",
       "3                   100              2122  1121  \n",
       "4                   100              1121  1197  \n",
       "..                  ...               ...   ...  \n",
       "88                   90              1174  1051  \n",
       "89                   90              1597  1030  \n",
       "90                   90              1326  1045  \n",
       "91                   90               897  1054  \n",
       "92                   90              1415  1035  \n",
       "\n",
       "[93 rows x 7 columns]"
      ],
      "text/html": "<div>\n<style scoped>\n    .dataframe tbody tr th:only-of-type {\n        vertical-align: middle;\n    }\n\n    .dataframe tbody tr th {\n        vertical-align: top;\n    }\n\n    .dataframe thead th {\n        text-align: right;\n    }\n</style>\n<table border=\"1\" class=\"dataframe\">\n  <thead>\n    <tr style=\"text-align: right;\">\n      <th></th>\n      <th>School</th>\n      <th>Year</th>\n      <th>Rank</th>\n      <th>Postcode</th>\n      <th>State Overall Score</th>\n      <th>Total Enrolments</th>\n      <th>ICSEA</th>\n    </tr>\n  </thead>\n  <tbody>\n    <tr>\n      <th>0</th>\n      <td>Perth Modern School</td>\n      <td>2018</td>\n      <td>1</td>\n      <td>6008</td>\n      <td>100</td>\n      <td>1411</td>\n      <td>1239</td>\n    </tr>\n    <tr>\n      <th>1</th>\n      <td>Christ Church Grammar School</td>\n      <td>2018</td>\n      <td>2</td>\n      <td>6010</td>\n      <td>100</td>\n      <td>1644</td>\n      <td>1180</td>\n    </tr>\n    <tr>\n      <th>2</th>\n      <td>Hale School</td>\n      <td>2018</td>\n      <td>3</td>\n      <td>6019</td>\n      <td>100</td>\n      <td>1504</td>\n      <td>1165</td>\n    </tr>\n    <tr>\n      <th>3</th>\n      <td>Rossmoyne Senior High School</td>\n      <td>2018</td>\n      <td>4</td>\n      <td>6148</td>\n      <td>100</td>\n      <td>2122</td>\n      <td>1121</td>\n    </tr>\n    <tr>\n      <th>4</th>\n      <td>St Hilda's Anglican School for Girls</td>\n      <td>2018</td>\n      <td>5</td>\n      <td>6012</td>\n      <td>100</td>\n      <td>1121</td>\n      <td>1197</td>\n    </tr>\n    <tr>\n      <th>...</th>\n      <td>...</td>\n      <td>...</td>\n      <td>...</td>\n      <td>...</td>\n      <td>...</td>\n      <td>...</td>\n      <td>...</td>\n    </tr>\n    <tr>\n      <th>88</th>\n      <td>Mandurah Baptist College</td>\n      <td>2018</td>\n      <td>89</td>\n      <td>6180</td>\n      <td>90</td>\n      <td>1174</td>\n      <td>1051</td>\n    </tr>\n    <tr>\n      <th>89</th>\n      <td>Ashdale Secondary College</td>\n      <td>2018</td>\n      <td>90</td>\n      <td>6065</td>\n      <td>90</td>\n      <td>1597</td>\n      <td>1030</td>\n    </tr>\n    <tr>\n      <th>90</th>\n      <td>St Mary Mackillop College</td>\n      <td>2018</td>\n      <td>91</td>\n      <td>6280</td>\n      <td>90</td>\n      <td>1326</td>\n      <td>1045</td>\n    </tr>\n    <tr>\n      <th>91</th>\n      <td>John Wollaston Anglican Community School</td>\n      <td>2018</td>\n      <td>92</td>\n      <td>6111</td>\n      <td>90</td>\n      <td>897</td>\n      <td>1054</td>\n    </tr>\n    <tr>\n      <th>92</th>\n      <td>Bunbury Catholic College</td>\n      <td>2018</td>\n      <td>93</td>\n      <td>6230</td>\n      <td>90</td>\n      <td>1415</td>\n      <td>1035</td>\n    </tr>\n  </tbody>\n</table>\n<p>93 rows × 7 columns</p>\n</div>"
     },
     "metadata": {},
     "execution_count": 222
    }
   ],
   "source": [
    "# merge \"hs_wa_2018\" Dataframe with \"icsea_full\" Dataframe\n",
    "hs_wa_2018_merge = pd.merge(hs_wa_2018, icsea_full , on=['School'], how='left')\n",
    "hs_wa_2018_merge"
   ]
  },
  {
   "cell_type": "code",
   "execution_count": 223,
   "metadata": {},
   "outputs": [
    {
     "output_type": "execute_result",
     "data": {
      "text/plain": [
       "Empty DataFrame\n",
       "Columns: [School, Year, Rank, Postcode, State Overall Score, Total Enrolments, ICSEA]\n",
       "Index: []"
      ],
      "text/html": "<div>\n<style scoped>\n    .dataframe tbody tr th:only-of-type {\n        vertical-align: middle;\n    }\n\n    .dataframe tbody tr th {\n        vertical-align: top;\n    }\n\n    .dataframe thead th {\n        text-align: right;\n    }\n</style>\n<table border=\"1\" class=\"dataframe\">\n  <thead>\n    <tr style=\"text-align: right;\">\n      <th></th>\n      <th>School</th>\n      <th>Year</th>\n      <th>Rank</th>\n      <th>Postcode</th>\n      <th>State Overall Score</th>\n      <th>Total Enrolments</th>\n      <th>ICSEA</th>\n    </tr>\n  </thead>\n  <tbody>\n  </tbody>\n</table>\n</div>"
     },
     "metadata": {},
     "execution_count": 223
    }
   ],
   "source": [
    "# Check for NaN values\n",
    "# creating bool series True for NaN values  \n",
    "bool_series = pd.isnull(hs_wa_2018_merge[\"ICSEA\"])  \n",
    "    \n",
    "# filtering data  \n",
    "# displaying data only with \"ICSEA\" = NaN\n",
    "hs_wa_2018_merge[bool_series]"
   ]
  },
  {
   "cell_type": "code",
   "execution_count": 224,
   "metadata": {},
   "outputs": [
    {
     "output_type": "execute_result",
     "data": {
      "text/plain": [
       "                                      School  Year  Rank  Postcode  \\\n",
       "0                        Perth Modern School  2018     1      6008   \n",
       "1               Christ Church Grammar School  2018     2      6010   \n",
       "2                                Hale School  2018     3      6019   \n",
       "3               Rossmoyne Senior High School  2018     4      6148   \n",
       "4       St Hilda's Anglican School for Girls  2018     5      6012   \n",
       "..                                       ...   ...   ...       ...   \n",
       "88                  Mandurah Baptist College  2018    89      6180   \n",
       "89                 Ashdale Secondary College  2018    90      6065   \n",
       "90                 St Mary Mackillop College  2018    91      6280   \n",
       "91  John Wollaston Anglican Community School  2018    92      6111   \n",
       "92                  Bunbury Catholic College  2018    93      6230   \n",
       "\n",
       "    State Overall Score  Total Enrolments ICSEA         Suburb   Longitude  \\\n",
       "0                   100              1411  1239        Subiaco  115.836396   \n",
       "1                   100              1644  1180      Claremont  115.776987   \n",
       "2                   100              1504  1165  Wembley Downs  115.783783   \n",
       "3                   100              2122  1121      Rossmoyne  115.870546   \n",
       "4                   100              1121  1197    Mosman Park  115.767812   \n",
       "..                  ...               ...   ...            ...         ...   \n",
       "88                   90              1174  1051      Lakelands  115.760118   \n",
       "89                   90              1597  1030          Darch  115.841495   \n",
       "90                   90              1326  1045      Busselton  115.330251   \n",
       "91                   90               897  1054        Camillo  116.007834   \n",
       "92                   90              1415  1035        Bunbury  115.661424   \n",
       "\n",
       "     Latitude  \n",
       "0  -31.945066  \n",
       "1  -31.985461  \n",
       "2  -31.912322  \n",
       "3  -32.046265  \n",
       "4  -32.005047  \n",
       "..        ...  \n",
       "88 -32.478307  \n",
       "89 -31.811623  \n",
       "90 -33.662607  \n",
       "91 -32.104726  \n",
       "92 -33.343422  \n",
       "\n",
       "[93 rows x 10 columns]"
      ],
      "text/html": "<div>\n<style scoped>\n    .dataframe tbody tr th:only-of-type {\n        vertical-align: middle;\n    }\n\n    .dataframe tbody tr th {\n        vertical-align: top;\n    }\n\n    .dataframe thead th {\n        text-align: right;\n    }\n</style>\n<table border=\"1\" class=\"dataframe\">\n  <thead>\n    <tr style=\"text-align: right;\">\n      <th></th>\n      <th>School</th>\n      <th>Year</th>\n      <th>Rank</th>\n      <th>Postcode</th>\n      <th>State Overall Score</th>\n      <th>Total Enrolments</th>\n      <th>ICSEA</th>\n      <th>Suburb</th>\n      <th>Longitude</th>\n      <th>Latitude</th>\n    </tr>\n  </thead>\n  <tbody>\n    <tr>\n      <th>0</th>\n      <td>Perth Modern School</td>\n      <td>2018</td>\n      <td>1</td>\n      <td>6008</td>\n      <td>100</td>\n      <td>1411</td>\n      <td>1239</td>\n      <td>Subiaco</td>\n      <td>115.836396</td>\n      <td>-31.945066</td>\n    </tr>\n    <tr>\n      <th>1</th>\n      <td>Christ Church Grammar School</td>\n      <td>2018</td>\n      <td>2</td>\n      <td>6010</td>\n      <td>100</td>\n      <td>1644</td>\n      <td>1180</td>\n      <td>Claremont</td>\n      <td>115.776987</td>\n      <td>-31.985461</td>\n    </tr>\n    <tr>\n      <th>2</th>\n      <td>Hale School</td>\n      <td>2018</td>\n      <td>3</td>\n      <td>6019</td>\n      <td>100</td>\n      <td>1504</td>\n      <td>1165</td>\n      <td>Wembley Downs</td>\n      <td>115.783783</td>\n      <td>-31.912322</td>\n    </tr>\n    <tr>\n      <th>3</th>\n      <td>Rossmoyne Senior High School</td>\n      <td>2018</td>\n      <td>4</td>\n      <td>6148</td>\n      <td>100</td>\n      <td>2122</td>\n      <td>1121</td>\n      <td>Rossmoyne</td>\n      <td>115.870546</td>\n      <td>-32.046265</td>\n    </tr>\n    <tr>\n      <th>4</th>\n      <td>St Hilda's Anglican School for Girls</td>\n      <td>2018</td>\n      <td>5</td>\n      <td>6012</td>\n      <td>100</td>\n      <td>1121</td>\n      <td>1197</td>\n      <td>Mosman Park</td>\n      <td>115.767812</td>\n      <td>-32.005047</td>\n    </tr>\n    <tr>\n      <th>...</th>\n      <td>...</td>\n      <td>...</td>\n      <td>...</td>\n      <td>...</td>\n      <td>...</td>\n      <td>...</td>\n      <td>...</td>\n      <td>...</td>\n      <td>...</td>\n      <td>...</td>\n    </tr>\n    <tr>\n      <th>88</th>\n      <td>Mandurah Baptist College</td>\n      <td>2018</td>\n      <td>89</td>\n      <td>6180</td>\n      <td>90</td>\n      <td>1174</td>\n      <td>1051</td>\n      <td>Lakelands</td>\n      <td>115.760118</td>\n      <td>-32.478307</td>\n    </tr>\n    <tr>\n      <th>89</th>\n      <td>Ashdale Secondary College</td>\n      <td>2018</td>\n      <td>90</td>\n      <td>6065</td>\n      <td>90</td>\n      <td>1597</td>\n      <td>1030</td>\n      <td>Darch</td>\n      <td>115.841495</td>\n      <td>-31.811623</td>\n    </tr>\n    <tr>\n      <th>90</th>\n      <td>St Mary Mackillop College</td>\n      <td>2018</td>\n      <td>91</td>\n      <td>6280</td>\n      <td>90</td>\n      <td>1326</td>\n      <td>1045</td>\n      <td>Busselton</td>\n      <td>115.330251</td>\n      <td>-33.662607</td>\n    </tr>\n    <tr>\n      <th>91</th>\n      <td>John Wollaston Anglican Community School</td>\n      <td>2018</td>\n      <td>92</td>\n      <td>6111</td>\n      <td>90</td>\n      <td>897</td>\n      <td>1054</td>\n      <td>Camillo</td>\n      <td>116.007834</td>\n      <td>-32.104726</td>\n    </tr>\n    <tr>\n      <th>92</th>\n      <td>Bunbury Catholic College</td>\n      <td>2018</td>\n      <td>93</td>\n      <td>6230</td>\n      <td>90</td>\n      <td>1415</td>\n      <td>1035</td>\n      <td>Bunbury</td>\n      <td>115.661424</td>\n      <td>-33.343422</td>\n    </tr>\n  </tbody>\n</table>\n<p>93 rows × 10 columns</p>\n</div>"
     },
     "metadata": {},
     "execution_count": 224
    }
   ],
   "source": [
    "# merge \"hs_wa_2018_merge\" Dataframe with \"school_coord\" Dataframe\n",
    "hs_wa_2018_coord = pd.merge(hs_wa_2018_merge, school_coordinates , on=['School'], how='left')\n",
    "hs_wa_2018_coord"
   ]
  },
  {
   "cell_type": "code",
   "execution_count": 225,
   "metadata": {},
   "outputs": [
    {
     "output_type": "execute_result",
     "data": {
      "text/plain": [
       "Empty DataFrame\n",
       "Columns: [School, Year, Rank, Postcode, State Overall Score, Total Enrolments, ICSEA, Suburb, Longitude, Latitude]\n",
       "Index: []"
      ],
      "text/html": "<div>\n<style scoped>\n    .dataframe tbody tr th:only-of-type {\n        vertical-align: middle;\n    }\n\n    .dataframe tbody tr th {\n        vertical-align: top;\n    }\n\n    .dataframe thead th {\n        text-align: right;\n    }\n</style>\n<table border=\"1\" class=\"dataframe\">\n  <thead>\n    <tr style=\"text-align: right;\">\n      <th></th>\n      <th>School</th>\n      <th>Year</th>\n      <th>Rank</th>\n      <th>Postcode</th>\n      <th>State Overall Score</th>\n      <th>Total Enrolments</th>\n      <th>ICSEA</th>\n      <th>Suburb</th>\n      <th>Longitude</th>\n      <th>Latitude</th>\n    </tr>\n  </thead>\n  <tbody>\n  </tbody>\n</table>\n</div>"
     },
     "metadata": {},
     "execution_count": 225
    }
   ],
   "source": [
    "# Check for NaN values\n",
    "# creating bool series True for NaN values  \n",
    "bool_series = pd.isnull(hs_wa_2018_coord[\"Longitude\"])  \n",
    "    \n",
    "# filtering data  \n",
    "# displaying data only with \"Longitude\" = NaN  \n",
    "hs_wa_2018_coord[bool_series]"
   ]
  },
  {
   "cell_type": "code",
   "execution_count": 226,
   "metadata": {},
   "outputs": [
    {
     "output_type": "execute_result",
     "data": {
      "text/plain": [
       "                                      School  Year  Rank  Postcode  \\\n",
       "0                        Perth Modern School  2018     1      6008   \n",
       "1               Christ Church Grammar School  2018     2      6010   \n",
       "2                                Hale School  2018     3      6019   \n",
       "3               Rossmoyne Senior High School  2018     4      6148   \n",
       "4       St Hilda's Anglican School for Girls  2018     5      6012   \n",
       "..                                       ...   ...   ...       ...   \n",
       "88                  Mandurah Baptist College  2018    89      6180   \n",
       "89                 Ashdale Secondary College  2018    90      6065   \n",
       "90                 St Mary Mackillop College  2018    91      6280   \n",
       "91  John Wollaston Anglican Community School  2018    92      6111   \n",
       "92                  Bunbury Catholic College  2018    93      6230   \n",
       "\n",
       "    State Overall Score  Total Enrolments ICSEA         Suburb   Longitude  \\\n",
       "0                   100              1411  1239        Subiaco  115.836396   \n",
       "1                   100              1644  1180      Claremont  115.776987   \n",
       "2                   100              1504  1165  Wembley Downs  115.783783   \n",
       "3                   100              2122  1121      Rossmoyne  115.870546   \n",
       "4                   100              1121  1197    Mosman Park  115.767812   \n",
       "..                  ...               ...   ...            ...         ...   \n",
       "88                   90              1174  1051      Lakelands  115.760118   \n",
       "89                   90              1597  1030          Darch  115.841495   \n",
       "90                   90              1326  1045      Busselton  115.330251   \n",
       "91                   90               897  1054        Camillo  116.007834   \n",
       "92                   90              1415  1035        Bunbury  115.661424   \n",
       "\n",
       "     Latitude          Sector Gender  Religion  \n",
       "0  -31.945066      Government  Co-ed   Secular  \n",
       "1  -31.985461  Non-government   Boys  Anglican  \n",
       "2  -31.912322  Non-government   Boys  Anglican  \n",
       "3  -32.046265      Government  Co-ed   Secular  \n",
       "4  -32.005047  Non-government  Girls  Anglican  \n",
       "..        ...             ...    ...       ...  \n",
       "88 -32.478307  Non-government  Co-ed   Baptist  \n",
       "89 -31.811623      Government  Co-ed   Secular  \n",
       "90 -33.662607  Non-government  Co-ed  Catholic  \n",
       "91 -32.104726  Non-government  Co-ed  Anglican  \n",
       "92 -33.343422  Non-government  Co-ed  Catholic  \n",
       "\n",
       "[93 rows x 13 columns]"
      ],
      "text/html": "<div>\n<style scoped>\n    .dataframe tbody tr th:only-of-type {\n        vertical-align: middle;\n    }\n\n    .dataframe tbody tr th {\n        vertical-align: top;\n    }\n\n    .dataframe thead th {\n        text-align: right;\n    }\n</style>\n<table border=\"1\" class=\"dataframe\">\n  <thead>\n    <tr style=\"text-align: right;\">\n      <th></th>\n      <th>School</th>\n      <th>Year</th>\n      <th>Rank</th>\n      <th>Postcode</th>\n      <th>State Overall Score</th>\n      <th>Total Enrolments</th>\n      <th>ICSEA</th>\n      <th>Suburb</th>\n      <th>Longitude</th>\n      <th>Latitude</th>\n      <th>Sector</th>\n      <th>Gender</th>\n      <th>Religion</th>\n    </tr>\n  </thead>\n  <tbody>\n    <tr>\n      <th>0</th>\n      <td>Perth Modern School</td>\n      <td>2018</td>\n      <td>1</td>\n      <td>6008</td>\n      <td>100</td>\n      <td>1411</td>\n      <td>1239</td>\n      <td>Subiaco</td>\n      <td>115.836396</td>\n      <td>-31.945066</td>\n      <td>Government</td>\n      <td>Co-ed</td>\n      <td>Secular</td>\n    </tr>\n    <tr>\n      <th>1</th>\n      <td>Christ Church Grammar School</td>\n      <td>2018</td>\n      <td>2</td>\n      <td>6010</td>\n      <td>100</td>\n      <td>1644</td>\n      <td>1180</td>\n      <td>Claremont</td>\n      <td>115.776987</td>\n      <td>-31.985461</td>\n      <td>Non-government</td>\n      <td>Boys</td>\n      <td>Anglican</td>\n    </tr>\n    <tr>\n      <th>2</th>\n      <td>Hale School</td>\n      <td>2018</td>\n      <td>3</td>\n      <td>6019</td>\n      <td>100</td>\n      <td>1504</td>\n      <td>1165</td>\n      <td>Wembley Downs</td>\n      <td>115.783783</td>\n      <td>-31.912322</td>\n      <td>Non-government</td>\n      <td>Boys</td>\n      <td>Anglican</td>\n    </tr>\n    <tr>\n      <th>3</th>\n      <td>Rossmoyne Senior High School</td>\n      <td>2018</td>\n      <td>4</td>\n      <td>6148</td>\n      <td>100</td>\n      <td>2122</td>\n      <td>1121</td>\n      <td>Rossmoyne</td>\n      <td>115.870546</td>\n      <td>-32.046265</td>\n      <td>Government</td>\n      <td>Co-ed</td>\n      <td>Secular</td>\n    </tr>\n    <tr>\n      <th>4</th>\n      <td>St Hilda's Anglican School for Girls</td>\n      <td>2018</td>\n      <td>5</td>\n      <td>6012</td>\n      <td>100</td>\n      <td>1121</td>\n      <td>1197</td>\n      <td>Mosman Park</td>\n      <td>115.767812</td>\n      <td>-32.005047</td>\n      <td>Non-government</td>\n      <td>Girls</td>\n      <td>Anglican</td>\n    </tr>\n    <tr>\n      <th>...</th>\n      <td>...</td>\n      <td>...</td>\n      <td>...</td>\n      <td>...</td>\n      <td>...</td>\n      <td>...</td>\n      <td>...</td>\n      <td>...</td>\n      <td>...</td>\n      <td>...</td>\n      <td>...</td>\n      <td>...</td>\n      <td>...</td>\n    </tr>\n    <tr>\n      <th>88</th>\n      <td>Mandurah Baptist College</td>\n      <td>2018</td>\n      <td>89</td>\n      <td>6180</td>\n      <td>90</td>\n      <td>1174</td>\n      <td>1051</td>\n      <td>Lakelands</td>\n      <td>115.760118</td>\n      <td>-32.478307</td>\n      <td>Non-government</td>\n      <td>Co-ed</td>\n      <td>Baptist</td>\n    </tr>\n    <tr>\n      <th>89</th>\n      <td>Ashdale Secondary College</td>\n      <td>2018</td>\n      <td>90</td>\n      <td>6065</td>\n      <td>90</td>\n      <td>1597</td>\n      <td>1030</td>\n      <td>Darch</td>\n      <td>115.841495</td>\n      <td>-31.811623</td>\n      <td>Government</td>\n      <td>Co-ed</td>\n      <td>Secular</td>\n    </tr>\n    <tr>\n      <th>90</th>\n      <td>St Mary Mackillop College</td>\n      <td>2018</td>\n      <td>91</td>\n      <td>6280</td>\n      <td>90</td>\n      <td>1326</td>\n      <td>1045</td>\n      <td>Busselton</td>\n      <td>115.330251</td>\n      <td>-33.662607</td>\n      <td>Non-government</td>\n      <td>Co-ed</td>\n      <td>Catholic</td>\n    </tr>\n    <tr>\n      <th>91</th>\n      <td>John Wollaston Anglican Community School</td>\n      <td>2018</td>\n      <td>92</td>\n      <td>6111</td>\n      <td>90</td>\n      <td>897</td>\n      <td>1054</td>\n      <td>Camillo</td>\n      <td>116.007834</td>\n      <td>-32.104726</td>\n      <td>Non-government</td>\n      <td>Co-ed</td>\n      <td>Anglican</td>\n    </tr>\n    <tr>\n      <th>92</th>\n      <td>Bunbury Catholic College</td>\n      <td>2018</td>\n      <td>93</td>\n      <td>6230</td>\n      <td>90</td>\n      <td>1415</td>\n      <td>1035</td>\n      <td>Bunbury</td>\n      <td>115.661424</td>\n      <td>-33.343422</td>\n      <td>Non-government</td>\n      <td>Co-ed</td>\n      <td>Catholic</td>\n    </tr>\n  </tbody>\n</table>\n<p>93 rows × 13 columns</p>\n</div>"
     },
     "metadata": {},
     "execution_count": 226
    }
   ],
   "source": [
    "# merge \"hs_wa_2018_coord\" Dataframe with \"sectors\" Dataframe\n",
    "wa_hs_icsea_2018 = pd.merge(hs_wa_2018_coord, sectors , on=['School'], how='left')\n",
    "wa_hs_icsea_2018"
   ]
  },
  {
   "cell_type": "code",
   "execution_count": 227,
   "metadata": {},
   "outputs": [
    {
     "output_type": "execute_result",
     "data": {
      "text/plain": [
       "Empty DataFrame\n",
       "Columns: [School, Year, Rank, Postcode, State Overall Score, Total Enrolments, ICSEA, Suburb, Longitude, Latitude, Sector, Gender, Religion]\n",
       "Index: []"
      ],
      "text/html": "<div>\n<style scoped>\n    .dataframe tbody tr th:only-of-type {\n        vertical-align: middle;\n    }\n\n    .dataframe tbody tr th {\n        vertical-align: top;\n    }\n\n    .dataframe thead th {\n        text-align: right;\n    }\n</style>\n<table border=\"1\" class=\"dataframe\">\n  <thead>\n    <tr style=\"text-align: right;\">\n      <th></th>\n      <th>School</th>\n      <th>Year</th>\n      <th>Rank</th>\n      <th>Postcode</th>\n      <th>State Overall Score</th>\n      <th>Total Enrolments</th>\n      <th>ICSEA</th>\n      <th>Suburb</th>\n      <th>Longitude</th>\n      <th>Latitude</th>\n      <th>Sector</th>\n      <th>Gender</th>\n      <th>Religion</th>\n    </tr>\n  </thead>\n  <tbody>\n  </tbody>\n</table>\n</div>"
     },
     "metadata": {},
     "execution_count": 227
    }
   ],
   "source": [
    "# Check for NaN values\n",
    "# creating bool series True for NaN values  \n",
    "bool_series = pd.isnull(wa_hs_icsea_2018[\"Sector\"])  \n",
    "    \n",
    "# filtering data  \n",
    "# displaying data only with \"Sector\" = NaN\n",
    "wa_hs_icsea_2018[bool_series]"
   ]
  },
  {
   "cell_type": "code",
   "execution_count": 228,
   "metadata": {},
   "outputs": [
    {
     "output_type": "execute_result",
     "data": {
      "text/plain": [
       "                                       School  Year  Rank  Postcode  \\\n",
       "0                         Perth Modern School  2017     1      6008   \n",
       "1   International School of Western Australia  2017     2      6015   \n",
       "2                                 Hale School  2017     3      6019   \n",
       "3                   Methodist Ladies' College  2017     4      6010   \n",
       "4                Christ Church Grammar School  2017     5      6010   \n",
       "..                                        ...   ...   ...       ...   \n",
       "84            Bruce Rock District High School  2017    85      6418   \n",
       "85                  Ashdale Secondary College  2017    86      6065   \n",
       "86                  St Mary MacKillop College  2017    87      6280   \n",
       "87               Ellenbrook Christian College  2017    88      6069   \n",
       "88          Margaret River Senior High School  2017    89      6285   \n",
       "\n",
       "    State Overall Score  Total Enrolments  \n",
       "0                   100              1371  \n",
       "1                   100               270  \n",
       "2                   100              1489  \n",
       "3                   100              1151  \n",
       "4                   100              1651  \n",
       "..                  ...               ...  \n",
       "84                   90               142  \n",
       "85                   90              1536  \n",
       "86                   90              1252  \n",
       "87                   90               553  \n",
       "88                   90               991  \n",
       "\n",
       "[89 rows x 6 columns]"
      ],
      "text/html": "<div>\n<style scoped>\n    .dataframe tbody tr th:only-of-type {\n        vertical-align: middle;\n    }\n\n    .dataframe tbody tr th {\n        vertical-align: top;\n    }\n\n    .dataframe thead th {\n        text-align: right;\n    }\n</style>\n<table border=\"1\" class=\"dataframe\">\n  <thead>\n    <tr style=\"text-align: right;\">\n      <th></th>\n      <th>School</th>\n      <th>Year</th>\n      <th>Rank</th>\n      <th>Postcode</th>\n      <th>State Overall Score</th>\n      <th>Total Enrolments</th>\n    </tr>\n  </thead>\n  <tbody>\n    <tr>\n      <th>0</th>\n      <td>Perth Modern School</td>\n      <td>2017</td>\n      <td>1</td>\n      <td>6008</td>\n      <td>100</td>\n      <td>1371</td>\n    </tr>\n    <tr>\n      <th>1</th>\n      <td>International School of Western Australia</td>\n      <td>2017</td>\n      <td>2</td>\n      <td>6015</td>\n      <td>100</td>\n      <td>270</td>\n    </tr>\n    <tr>\n      <th>2</th>\n      <td>Hale School</td>\n      <td>2017</td>\n      <td>3</td>\n      <td>6019</td>\n      <td>100</td>\n      <td>1489</td>\n    </tr>\n    <tr>\n      <th>3</th>\n      <td>Methodist Ladies' College</td>\n      <td>2017</td>\n      <td>4</td>\n      <td>6010</td>\n      <td>100</td>\n      <td>1151</td>\n    </tr>\n    <tr>\n      <th>4</th>\n      <td>Christ Church Grammar School</td>\n      <td>2017</td>\n      <td>5</td>\n      <td>6010</td>\n      <td>100</td>\n      <td>1651</td>\n    </tr>\n    <tr>\n      <th>...</th>\n      <td>...</td>\n      <td>...</td>\n      <td>...</td>\n      <td>...</td>\n      <td>...</td>\n      <td>...</td>\n    </tr>\n    <tr>\n      <th>84</th>\n      <td>Bruce Rock District High School</td>\n      <td>2017</td>\n      <td>85</td>\n      <td>6418</td>\n      <td>90</td>\n      <td>142</td>\n    </tr>\n    <tr>\n      <th>85</th>\n      <td>Ashdale Secondary College</td>\n      <td>2017</td>\n      <td>86</td>\n      <td>6065</td>\n      <td>90</td>\n      <td>1536</td>\n    </tr>\n    <tr>\n      <th>86</th>\n      <td>St Mary MacKillop College</td>\n      <td>2017</td>\n      <td>87</td>\n      <td>6280</td>\n      <td>90</td>\n      <td>1252</td>\n    </tr>\n    <tr>\n      <th>87</th>\n      <td>Ellenbrook Christian College</td>\n      <td>2017</td>\n      <td>88</td>\n      <td>6069</td>\n      <td>90</td>\n      <td>553</td>\n    </tr>\n    <tr>\n      <th>88</th>\n      <td>Margaret River Senior High School</td>\n      <td>2017</td>\n      <td>89</td>\n      <td>6285</td>\n      <td>90</td>\n      <td>991</td>\n    </tr>\n  </tbody>\n</table>\n<p>89 rows × 6 columns</p>\n</div>"
     },
     "metadata": {},
     "execution_count": 228
    }
   ],
   "source": [
    "# get the 2017 url WA school ranking\n",
    "rank_2017 = \"https://bettereducation.com.au/school/secondary/wa/wa_top_secondary_schools.aspx?yr=2017\"\n",
    "\n",
    "# Use panda's `read_html` to parse the 2017 ranking url\n",
    "hs_wa_2017 = pd.read_html(rank_2017, header=0)[0]\n",
    "\n",
    "# insert a column \"year\" with values of \"2017\" after the column \"Shool\"\n",
    "hs_wa_2017.insert(1, 'Year', 2017)\n",
    "\n",
    "# insert a column \"Rank\" with values of \"incremental values\" after the column \"Year\"\n",
    "hs_wa_2017.insert(2, 'Rank', range(1, 1 + len(hs_wa_2017)))\n",
    "\n",
    "# replace the values of \"Australian Islamic College\" to correct the spelling to prevent Null values when performing the merge with other Dataframes later on\n",
    "hs_wa_2017[\"School\"].replace({\"Australian Islamic College,Dianella,WA,6059\": \"Australian Islamic College - Dianella\"}, inplace=True)\n",
    "\n",
    "# remove the strings after the \",\" to show only the school name\n",
    "hs_wa_2017[\"School\"] = hs_wa_2017[\"School\"].str.split(',', 1).str.get(0)\n",
    "\n",
    "# remove the \"space\" and \"string inside parenthesis\" to show only the school name\n",
    "hs_wa_2017[\"School\"] = hs_wa_2017[\"School\"].str.split('\\s+\\(', 1).str.get(0)\n",
    "\n",
    "# re-arrange the columns & remove other columns\n",
    "hs_wa_2017 = hs_wa_2017[['School', 'Year', 'Rank', 'Postcode','State Overall Score', 'Total Enrolments']]\n",
    "hs_wa_2017"
   ]
  },
  {
   "cell_type": "code",
   "execution_count": 229,
   "metadata": {},
   "outputs": [],
   "source": [
    "# replace some values to correct the spelling to prevent Null values when performing the merge with other Dataframes later on\n",
    "hs_wa_2017[\"School\"].replace({\"John Curtin College Of The Arts\": \"John Curtin College of the Arts\", \n",
    "                       \"Australian Christian College\": \"Australian Christian College - Southlands\",\n",
    "                       \"St Stephen's School\": \"St Stephen's School - Duncraig\",\n",
    "                       \"Schools Of Isolated & Distance Education\": \"School of Isolated and Distance Education\",\n",
    "                       \"St Mary MacKillop College\": \"St Mary Mackillop College\"\n",
    "                        }, inplace=True)"
   ]
  },
  {
   "cell_type": "code",
   "execution_count": 230,
   "metadata": {},
   "outputs": [
    {
     "output_type": "execute_result",
     "data": {
      "text/plain": [
       "                                       School  Year  Rank  Postcode  \\\n",
       "0                         Perth Modern School  2017     1      6008   \n",
       "1   International School of Western Australia  2017     2      6015   \n",
       "2                                 Hale School  2017     3      6019   \n",
       "3                   Methodist Ladies' College  2017     4      6010   \n",
       "4                Christ Church Grammar School  2017     5      6010   \n",
       "..                                        ...   ...   ...       ...   \n",
       "84            Bruce Rock District High School  2017    85      6418   \n",
       "85                  Ashdale Secondary College  2017    86      6065   \n",
       "86                  St Mary Mackillop College  2017    87      6280   \n",
       "87               Ellenbrook Christian College  2017    88      6069   \n",
       "88          Margaret River Senior High School  2017    89      6285   \n",
       "\n",
       "    State Overall Score  Total Enrolments ICSEA  \n",
       "0                   100              1371  1239  \n",
       "1                   100               270  1182  \n",
       "2                   100              1489  1165  \n",
       "3                   100              1151  1150  \n",
       "4                   100              1651  1180  \n",
       "..                  ...               ...   ...  \n",
       "84                   90               142   952  \n",
       "85                   90              1536  1030  \n",
       "86                   90              1252  1045  \n",
       "87                   90               553  1043  \n",
       "88                   90               991  1037  \n",
       "\n",
       "[89 rows x 7 columns]"
      ],
      "text/html": "<div>\n<style scoped>\n    .dataframe tbody tr th:only-of-type {\n        vertical-align: middle;\n    }\n\n    .dataframe tbody tr th {\n        vertical-align: top;\n    }\n\n    .dataframe thead th {\n        text-align: right;\n    }\n</style>\n<table border=\"1\" class=\"dataframe\">\n  <thead>\n    <tr style=\"text-align: right;\">\n      <th></th>\n      <th>School</th>\n      <th>Year</th>\n      <th>Rank</th>\n      <th>Postcode</th>\n      <th>State Overall Score</th>\n      <th>Total Enrolments</th>\n      <th>ICSEA</th>\n    </tr>\n  </thead>\n  <tbody>\n    <tr>\n      <th>0</th>\n      <td>Perth Modern School</td>\n      <td>2017</td>\n      <td>1</td>\n      <td>6008</td>\n      <td>100</td>\n      <td>1371</td>\n      <td>1239</td>\n    </tr>\n    <tr>\n      <th>1</th>\n      <td>International School of Western Australia</td>\n      <td>2017</td>\n      <td>2</td>\n      <td>6015</td>\n      <td>100</td>\n      <td>270</td>\n      <td>1182</td>\n    </tr>\n    <tr>\n      <th>2</th>\n      <td>Hale School</td>\n      <td>2017</td>\n      <td>3</td>\n      <td>6019</td>\n      <td>100</td>\n      <td>1489</td>\n      <td>1165</td>\n    </tr>\n    <tr>\n      <th>3</th>\n      <td>Methodist Ladies' College</td>\n      <td>2017</td>\n      <td>4</td>\n      <td>6010</td>\n      <td>100</td>\n      <td>1151</td>\n      <td>1150</td>\n    </tr>\n    <tr>\n      <th>4</th>\n      <td>Christ Church Grammar School</td>\n      <td>2017</td>\n      <td>5</td>\n      <td>6010</td>\n      <td>100</td>\n      <td>1651</td>\n      <td>1180</td>\n    </tr>\n    <tr>\n      <th>...</th>\n      <td>...</td>\n      <td>...</td>\n      <td>...</td>\n      <td>...</td>\n      <td>...</td>\n      <td>...</td>\n      <td>...</td>\n    </tr>\n    <tr>\n      <th>84</th>\n      <td>Bruce Rock District High School</td>\n      <td>2017</td>\n      <td>85</td>\n      <td>6418</td>\n      <td>90</td>\n      <td>142</td>\n      <td>952</td>\n    </tr>\n    <tr>\n      <th>85</th>\n      <td>Ashdale Secondary College</td>\n      <td>2017</td>\n      <td>86</td>\n      <td>6065</td>\n      <td>90</td>\n      <td>1536</td>\n      <td>1030</td>\n    </tr>\n    <tr>\n      <th>86</th>\n      <td>St Mary Mackillop College</td>\n      <td>2017</td>\n      <td>87</td>\n      <td>6280</td>\n      <td>90</td>\n      <td>1252</td>\n      <td>1045</td>\n    </tr>\n    <tr>\n      <th>87</th>\n      <td>Ellenbrook Christian College</td>\n      <td>2017</td>\n      <td>88</td>\n      <td>6069</td>\n      <td>90</td>\n      <td>553</td>\n      <td>1043</td>\n    </tr>\n    <tr>\n      <th>88</th>\n      <td>Margaret River Senior High School</td>\n      <td>2017</td>\n      <td>89</td>\n      <td>6285</td>\n      <td>90</td>\n      <td>991</td>\n      <td>1037</td>\n    </tr>\n  </tbody>\n</table>\n<p>89 rows × 7 columns</p>\n</div>"
     },
     "metadata": {},
     "execution_count": 230
    }
   ],
   "source": [
    "# merge \"hs_wa_2017\" Dataframe with \"icsea_full\" Dataframe\n",
    "hs_wa_2017_merge = pd.merge(hs_wa_2017, icsea_full , on=['School'], how='left')\n",
    "hs_wa_2017_merge"
   ]
  },
  {
   "cell_type": "code",
   "execution_count": 231,
   "metadata": {},
   "outputs": [
    {
     "output_type": "execute_result",
     "data": {
      "text/plain": [
       "Empty DataFrame\n",
       "Columns: [School, Year, Rank, Postcode, State Overall Score, Total Enrolments, ICSEA]\n",
       "Index: []"
      ],
      "text/html": "<div>\n<style scoped>\n    .dataframe tbody tr th:only-of-type {\n        vertical-align: middle;\n    }\n\n    .dataframe tbody tr th {\n        vertical-align: top;\n    }\n\n    .dataframe thead th {\n        text-align: right;\n    }\n</style>\n<table border=\"1\" class=\"dataframe\">\n  <thead>\n    <tr style=\"text-align: right;\">\n      <th></th>\n      <th>School</th>\n      <th>Year</th>\n      <th>Rank</th>\n      <th>Postcode</th>\n      <th>State Overall Score</th>\n      <th>Total Enrolments</th>\n      <th>ICSEA</th>\n    </tr>\n  </thead>\n  <tbody>\n  </tbody>\n</table>\n</div>"
     },
     "metadata": {},
     "execution_count": 231
    }
   ],
   "source": [
    "# Check for NaN values\n",
    "# creating bool series True for NaN values  \n",
    "bool_series = pd.isnull(hs_wa_2017_merge[\"ICSEA\"])  \n",
    "    \n",
    "# filtering data  \n",
    "# displaying data only with \"ICSEA\" = NaN\n",
    "hs_wa_2017_merge[bool_series]"
   ]
  },
  {
   "cell_type": "code",
   "execution_count": 232,
   "metadata": {},
   "outputs": [
    {
     "output_type": "execute_result",
     "data": {
      "text/plain": [
       "                                       School  Year  Rank  Postcode  \\\n",
       "0                         Perth Modern School  2017     1      6008   \n",
       "1   International School of Western Australia  2017     2      6015   \n",
       "2                                 Hale School  2017     3      6019   \n",
       "3                   Methodist Ladies' College  2017     4      6010   \n",
       "4                Christ Church Grammar School  2017     5      6010   \n",
       "..                                        ...   ...   ...       ...   \n",
       "84            Bruce Rock District High School  2017    85      6418   \n",
       "85                  Ashdale Secondary College  2017    86      6065   \n",
       "86                  St Mary Mackillop College  2017    87      6280   \n",
       "87               Ellenbrook Christian College  2017    88      6069   \n",
       "88          Margaret River Senior High School  2017    89      6285   \n",
       "\n",
       "    State Overall Score  Total Enrolments ICSEA          Suburb   Longitude  \\\n",
       "0                   100              1371  1239         Subiaco  115.836396   \n",
       "1                   100               270  1182      Doubleview  115.777620   \n",
       "2                   100              1489  1165   Wembley Downs  115.783783   \n",
       "3                   100              1151  1150       Claremont  115.775540   \n",
       "4                   100              1651  1180       Claremont  115.776987   \n",
       "..                  ...               ...   ...             ...         ...   \n",
       "84                   90               142   952      Bruce Rock  118.147663   \n",
       "85                   90              1536  1030           Darch  115.841495   \n",
       "86                   90              1252  1045       Busselton  115.330251   \n",
       "87                   90               553  1043      Ellenbrook  115.959178   \n",
       "88                   90               991  1037  Margaret River  115.074671   \n",
       "\n",
       "     Latitude  \n",
       "0  -31.945066  \n",
       "1  -31.898500  \n",
       "2  -31.912322  \n",
       "3  -31.987012  \n",
       "4  -31.985461  \n",
       "..        ...  \n",
       "84 -31.873635  \n",
       "85 -31.811623  \n",
       "86 -33.662607  \n",
       "87 -31.786783  \n",
       "88 -33.954318  \n",
       "\n",
       "[89 rows x 10 columns]"
      ],
      "text/html": "<div>\n<style scoped>\n    .dataframe tbody tr th:only-of-type {\n        vertical-align: middle;\n    }\n\n    .dataframe tbody tr th {\n        vertical-align: top;\n    }\n\n    .dataframe thead th {\n        text-align: right;\n    }\n</style>\n<table border=\"1\" class=\"dataframe\">\n  <thead>\n    <tr style=\"text-align: right;\">\n      <th></th>\n      <th>School</th>\n      <th>Year</th>\n      <th>Rank</th>\n      <th>Postcode</th>\n      <th>State Overall Score</th>\n      <th>Total Enrolments</th>\n      <th>ICSEA</th>\n      <th>Suburb</th>\n      <th>Longitude</th>\n      <th>Latitude</th>\n    </tr>\n  </thead>\n  <tbody>\n    <tr>\n      <th>0</th>\n      <td>Perth Modern School</td>\n      <td>2017</td>\n      <td>1</td>\n      <td>6008</td>\n      <td>100</td>\n      <td>1371</td>\n      <td>1239</td>\n      <td>Subiaco</td>\n      <td>115.836396</td>\n      <td>-31.945066</td>\n    </tr>\n    <tr>\n      <th>1</th>\n      <td>International School of Western Australia</td>\n      <td>2017</td>\n      <td>2</td>\n      <td>6015</td>\n      <td>100</td>\n      <td>270</td>\n      <td>1182</td>\n      <td>Doubleview</td>\n      <td>115.777620</td>\n      <td>-31.898500</td>\n    </tr>\n    <tr>\n      <th>2</th>\n      <td>Hale School</td>\n      <td>2017</td>\n      <td>3</td>\n      <td>6019</td>\n      <td>100</td>\n      <td>1489</td>\n      <td>1165</td>\n      <td>Wembley Downs</td>\n      <td>115.783783</td>\n      <td>-31.912322</td>\n    </tr>\n    <tr>\n      <th>3</th>\n      <td>Methodist Ladies' College</td>\n      <td>2017</td>\n      <td>4</td>\n      <td>6010</td>\n      <td>100</td>\n      <td>1151</td>\n      <td>1150</td>\n      <td>Claremont</td>\n      <td>115.775540</td>\n      <td>-31.987012</td>\n    </tr>\n    <tr>\n      <th>4</th>\n      <td>Christ Church Grammar School</td>\n      <td>2017</td>\n      <td>5</td>\n      <td>6010</td>\n      <td>100</td>\n      <td>1651</td>\n      <td>1180</td>\n      <td>Claremont</td>\n      <td>115.776987</td>\n      <td>-31.985461</td>\n    </tr>\n    <tr>\n      <th>...</th>\n      <td>...</td>\n      <td>...</td>\n      <td>...</td>\n      <td>...</td>\n      <td>...</td>\n      <td>...</td>\n      <td>...</td>\n      <td>...</td>\n      <td>...</td>\n      <td>...</td>\n    </tr>\n    <tr>\n      <th>84</th>\n      <td>Bruce Rock District High School</td>\n      <td>2017</td>\n      <td>85</td>\n      <td>6418</td>\n      <td>90</td>\n      <td>142</td>\n      <td>952</td>\n      <td>Bruce Rock</td>\n      <td>118.147663</td>\n      <td>-31.873635</td>\n    </tr>\n    <tr>\n      <th>85</th>\n      <td>Ashdale Secondary College</td>\n      <td>2017</td>\n      <td>86</td>\n      <td>6065</td>\n      <td>90</td>\n      <td>1536</td>\n      <td>1030</td>\n      <td>Darch</td>\n      <td>115.841495</td>\n      <td>-31.811623</td>\n    </tr>\n    <tr>\n      <th>86</th>\n      <td>St Mary Mackillop College</td>\n      <td>2017</td>\n      <td>87</td>\n      <td>6280</td>\n      <td>90</td>\n      <td>1252</td>\n      <td>1045</td>\n      <td>Busselton</td>\n      <td>115.330251</td>\n      <td>-33.662607</td>\n    </tr>\n    <tr>\n      <th>87</th>\n      <td>Ellenbrook Christian College</td>\n      <td>2017</td>\n      <td>88</td>\n      <td>6069</td>\n      <td>90</td>\n      <td>553</td>\n      <td>1043</td>\n      <td>Ellenbrook</td>\n      <td>115.959178</td>\n      <td>-31.786783</td>\n    </tr>\n    <tr>\n      <th>88</th>\n      <td>Margaret River Senior High School</td>\n      <td>2017</td>\n      <td>89</td>\n      <td>6285</td>\n      <td>90</td>\n      <td>991</td>\n      <td>1037</td>\n      <td>Margaret River</td>\n      <td>115.074671</td>\n      <td>-33.954318</td>\n    </tr>\n  </tbody>\n</table>\n<p>89 rows × 10 columns</p>\n</div>"
     },
     "metadata": {},
     "execution_count": 232
    }
   ],
   "source": [
    "# merge \"hs_wa_2017_merge\" Dataframe with \"school_coord\" Dataframe\n",
    "hs_wa_2017_coord = pd.merge(hs_wa_2017_merge, school_coordinates , on=['School'], how='left')\n",
    "hs_wa_2017_coord"
   ]
  },
  {
   "cell_type": "code",
   "execution_count": 233,
   "metadata": {},
   "outputs": [
    {
     "output_type": "execute_result",
     "data": {
      "text/plain": [
       "Empty DataFrame\n",
       "Columns: [School, Year, Rank, Postcode, State Overall Score, Total Enrolments, ICSEA, Suburb, Longitude, Latitude]\n",
       "Index: []"
      ],
      "text/html": "<div>\n<style scoped>\n    .dataframe tbody tr th:only-of-type {\n        vertical-align: middle;\n    }\n\n    .dataframe tbody tr th {\n        vertical-align: top;\n    }\n\n    .dataframe thead th {\n        text-align: right;\n    }\n</style>\n<table border=\"1\" class=\"dataframe\">\n  <thead>\n    <tr style=\"text-align: right;\">\n      <th></th>\n      <th>School</th>\n      <th>Year</th>\n      <th>Rank</th>\n      <th>Postcode</th>\n      <th>State Overall Score</th>\n      <th>Total Enrolments</th>\n      <th>ICSEA</th>\n      <th>Suburb</th>\n      <th>Longitude</th>\n      <th>Latitude</th>\n    </tr>\n  </thead>\n  <tbody>\n  </tbody>\n</table>\n</div>"
     },
     "metadata": {},
     "execution_count": 233
    }
   ],
   "source": [
    "# Check for NaN values\n",
    "# creating bool series True for NaN values  \n",
    "bool_series = pd.isnull(hs_wa_2017_coord[\"Longitude\"])  \n",
    "    \n",
    "# filtering data  \n",
    "# displaying data only with \"Longitude\" = NaN\n",
    "hs_wa_2017_coord[bool_series]"
   ]
  },
  {
   "cell_type": "code",
   "execution_count": 234,
   "metadata": {},
   "outputs": [
    {
     "output_type": "execute_result",
     "data": {
      "text/plain": [
       "                                       School  Year  Rank  Postcode  \\\n",
       "0                         Perth Modern School  2017     1      6008   \n",
       "1   International School of Western Australia  2017     2      6015   \n",
       "2                                 Hale School  2017     3      6019   \n",
       "3                   Methodist Ladies' College  2017     4      6010   \n",
       "4                Christ Church Grammar School  2017     5      6010   \n",
       "..                                        ...   ...   ...       ...   \n",
       "84            Bruce Rock District High School  2017    85      6418   \n",
       "85                  Ashdale Secondary College  2017    86      6065   \n",
       "86                  St Mary Mackillop College  2017    87      6280   \n",
       "87               Ellenbrook Christian College  2017    88      6069   \n",
       "88          Margaret River Senior High School  2017    89      6285   \n",
       "\n",
       "    State Overall Score  Total Enrolments ICSEA          Suburb   Longitude  \\\n",
       "0                   100              1371  1239         Subiaco  115.836396   \n",
       "1                   100               270  1182      Doubleview  115.777620   \n",
       "2                   100              1489  1165   Wembley Downs  115.783783   \n",
       "3                   100              1151  1150       Claremont  115.775540   \n",
       "4                   100              1651  1180       Claremont  115.776987   \n",
       "..                  ...               ...   ...             ...         ...   \n",
       "84                   90               142   952      Bruce Rock  118.147663   \n",
       "85                   90              1536  1030           Darch  115.841495   \n",
       "86                   90              1252  1045       Busselton  115.330251   \n",
       "87                   90               553  1043      Ellenbrook  115.959178   \n",
       "88                   90               991  1037  Margaret River  115.074671   \n",
       "\n",
       "     Latitude          Sector Gender   Religion  \n",
       "0  -31.945066      Government  Co-ed    Secular  \n",
       "1  -31.898500      Government  Co-ed    Secular  \n",
       "2  -31.912322  Non-government   Boys   Anglican  \n",
       "3  -31.987012  Non-government  Girls  Methodist  \n",
       "4  -31.985461  Non-government   Boys   Anglican  \n",
       "..        ...             ...    ...        ...  \n",
       "84 -31.873635      Government  Co-ed    Secular  \n",
       "85 -31.811623      Government  Co-ed    Secular  \n",
       "86 -33.662607  Non-government  Co-ed   Catholic  \n",
       "87 -31.786783  Non-government  Co-ed  Christian  \n",
       "88 -33.954318      Government  Co-ed    Secular  \n",
       "\n",
       "[89 rows x 13 columns]"
      ],
      "text/html": "<div>\n<style scoped>\n    .dataframe tbody tr th:only-of-type {\n        vertical-align: middle;\n    }\n\n    .dataframe tbody tr th {\n        vertical-align: top;\n    }\n\n    .dataframe thead th {\n        text-align: right;\n    }\n</style>\n<table border=\"1\" class=\"dataframe\">\n  <thead>\n    <tr style=\"text-align: right;\">\n      <th></th>\n      <th>School</th>\n      <th>Year</th>\n      <th>Rank</th>\n      <th>Postcode</th>\n      <th>State Overall Score</th>\n      <th>Total Enrolments</th>\n      <th>ICSEA</th>\n      <th>Suburb</th>\n      <th>Longitude</th>\n      <th>Latitude</th>\n      <th>Sector</th>\n      <th>Gender</th>\n      <th>Religion</th>\n    </tr>\n  </thead>\n  <tbody>\n    <tr>\n      <th>0</th>\n      <td>Perth Modern School</td>\n      <td>2017</td>\n      <td>1</td>\n      <td>6008</td>\n      <td>100</td>\n      <td>1371</td>\n      <td>1239</td>\n      <td>Subiaco</td>\n      <td>115.836396</td>\n      <td>-31.945066</td>\n      <td>Government</td>\n      <td>Co-ed</td>\n      <td>Secular</td>\n    </tr>\n    <tr>\n      <th>1</th>\n      <td>International School of Western Australia</td>\n      <td>2017</td>\n      <td>2</td>\n      <td>6015</td>\n      <td>100</td>\n      <td>270</td>\n      <td>1182</td>\n      <td>Doubleview</td>\n      <td>115.777620</td>\n      <td>-31.898500</td>\n      <td>Government</td>\n      <td>Co-ed</td>\n      <td>Secular</td>\n    </tr>\n    <tr>\n      <th>2</th>\n      <td>Hale School</td>\n      <td>2017</td>\n      <td>3</td>\n      <td>6019</td>\n      <td>100</td>\n      <td>1489</td>\n      <td>1165</td>\n      <td>Wembley Downs</td>\n      <td>115.783783</td>\n      <td>-31.912322</td>\n      <td>Non-government</td>\n      <td>Boys</td>\n      <td>Anglican</td>\n    </tr>\n    <tr>\n      <th>3</th>\n      <td>Methodist Ladies' College</td>\n      <td>2017</td>\n      <td>4</td>\n      <td>6010</td>\n      <td>100</td>\n      <td>1151</td>\n      <td>1150</td>\n      <td>Claremont</td>\n      <td>115.775540</td>\n      <td>-31.987012</td>\n      <td>Non-government</td>\n      <td>Girls</td>\n      <td>Methodist</td>\n    </tr>\n    <tr>\n      <th>4</th>\n      <td>Christ Church Grammar School</td>\n      <td>2017</td>\n      <td>5</td>\n      <td>6010</td>\n      <td>100</td>\n      <td>1651</td>\n      <td>1180</td>\n      <td>Claremont</td>\n      <td>115.776987</td>\n      <td>-31.985461</td>\n      <td>Non-government</td>\n      <td>Boys</td>\n      <td>Anglican</td>\n    </tr>\n    <tr>\n      <th>...</th>\n      <td>...</td>\n      <td>...</td>\n      <td>...</td>\n      <td>...</td>\n      <td>...</td>\n      <td>...</td>\n      <td>...</td>\n      <td>...</td>\n      <td>...</td>\n      <td>...</td>\n      <td>...</td>\n      <td>...</td>\n      <td>...</td>\n    </tr>\n    <tr>\n      <th>84</th>\n      <td>Bruce Rock District High School</td>\n      <td>2017</td>\n      <td>85</td>\n      <td>6418</td>\n      <td>90</td>\n      <td>142</td>\n      <td>952</td>\n      <td>Bruce Rock</td>\n      <td>118.147663</td>\n      <td>-31.873635</td>\n      <td>Government</td>\n      <td>Co-ed</td>\n      <td>Secular</td>\n    </tr>\n    <tr>\n      <th>85</th>\n      <td>Ashdale Secondary College</td>\n      <td>2017</td>\n      <td>86</td>\n      <td>6065</td>\n      <td>90</td>\n      <td>1536</td>\n      <td>1030</td>\n      <td>Darch</td>\n      <td>115.841495</td>\n      <td>-31.811623</td>\n      <td>Government</td>\n      <td>Co-ed</td>\n      <td>Secular</td>\n    </tr>\n    <tr>\n      <th>86</th>\n      <td>St Mary Mackillop College</td>\n      <td>2017</td>\n      <td>87</td>\n      <td>6280</td>\n      <td>90</td>\n      <td>1252</td>\n      <td>1045</td>\n      <td>Busselton</td>\n      <td>115.330251</td>\n      <td>-33.662607</td>\n      <td>Non-government</td>\n      <td>Co-ed</td>\n      <td>Catholic</td>\n    </tr>\n    <tr>\n      <th>87</th>\n      <td>Ellenbrook Christian College</td>\n      <td>2017</td>\n      <td>88</td>\n      <td>6069</td>\n      <td>90</td>\n      <td>553</td>\n      <td>1043</td>\n      <td>Ellenbrook</td>\n      <td>115.959178</td>\n      <td>-31.786783</td>\n      <td>Non-government</td>\n      <td>Co-ed</td>\n      <td>Christian</td>\n    </tr>\n    <tr>\n      <th>88</th>\n      <td>Margaret River Senior High School</td>\n      <td>2017</td>\n      <td>89</td>\n      <td>6285</td>\n      <td>90</td>\n      <td>991</td>\n      <td>1037</td>\n      <td>Margaret River</td>\n      <td>115.074671</td>\n      <td>-33.954318</td>\n      <td>Government</td>\n      <td>Co-ed</td>\n      <td>Secular</td>\n    </tr>\n  </tbody>\n</table>\n<p>89 rows × 13 columns</p>\n</div>"
     },
     "metadata": {},
     "execution_count": 234
    }
   ],
   "source": [
    "# merge \"hs_wa_2017_coord\" Dataframe with \"sectors\" Dataframe\n",
    "wa_hs_icsea_2017 = pd.merge(hs_wa_2017_coord, sectors , on=['School'], how='left')\n",
    "wa_hs_icsea_2017"
   ]
  },
  {
   "cell_type": "code",
   "execution_count": 235,
   "metadata": {},
   "outputs": [
    {
     "output_type": "execute_result",
     "data": {
      "text/plain": [
       "Empty DataFrame\n",
       "Columns: [School, Year, Rank, Postcode, State Overall Score, Total Enrolments, ICSEA, Suburb, Longitude, Latitude, Sector, Gender, Religion]\n",
       "Index: []"
      ],
      "text/html": "<div>\n<style scoped>\n    .dataframe tbody tr th:only-of-type {\n        vertical-align: middle;\n    }\n\n    .dataframe tbody tr th {\n        vertical-align: top;\n    }\n\n    .dataframe thead th {\n        text-align: right;\n    }\n</style>\n<table border=\"1\" class=\"dataframe\">\n  <thead>\n    <tr style=\"text-align: right;\">\n      <th></th>\n      <th>School</th>\n      <th>Year</th>\n      <th>Rank</th>\n      <th>Postcode</th>\n      <th>State Overall Score</th>\n      <th>Total Enrolments</th>\n      <th>ICSEA</th>\n      <th>Suburb</th>\n      <th>Longitude</th>\n      <th>Latitude</th>\n      <th>Sector</th>\n      <th>Gender</th>\n      <th>Religion</th>\n    </tr>\n  </thead>\n  <tbody>\n  </tbody>\n</table>\n</div>"
     },
     "metadata": {},
     "execution_count": 235
    }
   ],
   "source": [
    "# Check for NaN values\n",
    "# creating bool series True for NaN values  \n",
    "bool_series = pd.isnull(wa_hs_icsea_2017[\"Sector\"])  \n",
    "    \n",
    "# filtering data  \n",
    "# displaying data only with \"Sector\" = NaN\n",
    "wa_hs_icsea_2017[bool_series]"
   ]
  },
  {
   "cell_type": "code",
   "execution_count": 236,
   "metadata": {},
   "outputs": [
    {
     "output_type": "execute_result",
     "data": {
      "text/plain": [
       "                                       School  Year  Rank  Postcode  \\\n",
       "0                         Perth Modern School  2016     1      6008   \n",
       "1                Christ Church Grammar School  2016     2      6010   \n",
       "2   International School of Western Australia  2016     3      6015   \n",
       "3                                 Hale School  2016     4      6019   \n",
       "4            St Mary's Anglican Girls' School  2016     5      6018   \n",
       "..                                        ...   ...   ...       ...   \n",
       "67                   Bunbury Catholic College  2016    68      6230   \n",
       "68                         St Norbert College  2016    69      6107   \n",
       "69              Kalbarri District High School  2016    70      6536   \n",
       "70                             Tranby College  2016    71      6171   \n",
       "71                 Denmark Senior High School  2016    72      6333   \n",
       "\n",
       "    State Overall Score  Total Enrolments  \n",
       "0                   100              1336  \n",
       "1                   100              1663  \n",
       "2                   100               235  \n",
       "3                   100              1486  \n",
       "4                    99              1385  \n",
       "..                  ...               ...  \n",
       "67                   91              1370  \n",
       "68                   90               890  \n",
       "69                   90               220  \n",
       "70                   90               884  \n",
       "71                   90               401  \n",
       "\n",
       "[72 rows x 6 columns]"
      ],
      "text/html": "<div>\n<style scoped>\n    .dataframe tbody tr th:only-of-type {\n        vertical-align: middle;\n    }\n\n    .dataframe tbody tr th {\n        vertical-align: top;\n    }\n\n    .dataframe thead th {\n        text-align: right;\n    }\n</style>\n<table border=\"1\" class=\"dataframe\">\n  <thead>\n    <tr style=\"text-align: right;\">\n      <th></th>\n      <th>School</th>\n      <th>Year</th>\n      <th>Rank</th>\n      <th>Postcode</th>\n      <th>State Overall Score</th>\n      <th>Total Enrolments</th>\n    </tr>\n  </thead>\n  <tbody>\n    <tr>\n      <th>0</th>\n      <td>Perth Modern School</td>\n      <td>2016</td>\n      <td>1</td>\n      <td>6008</td>\n      <td>100</td>\n      <td>1336</td>\n    </tr>\n    <tr>\n      <th>1</th>\n      <td>Christ Church Grammar School</td>\n      <td>2016</td>\n      <td>2</td>\n      <td>6010</td>\n      <td>100</td>\n      <td>1663</td>\n    </tr>\n    <tr>\n      <th>2</th>\n      <td>International School of Western Australia</td>\n      <td>2016</td>\n      <td>3</td>\n      <td>6015</td>\n      <td>100</td>\n      <td>235</td>\n    </tr>\n    <tr>\n      <th>3</th>\n      <td>Hale School</td>\n      <td>2016</td>\n      <td>4</td>\n      <td>6019</td>\n      <td>100</td>\n      <td>1486</td>\n    </tr>\n    <tr>\n      <th>4</th>\n      <td>St Mary's Anglican Girls' School</td>\n      <td>2016</td>\n      <td>5</td>\n      <td>6018</td>\n      <td>99</td>\n      <td>1385</td>\n    </tr>\n    <tr>\n      <th>...</th>\n      <td>...</td>\n      <td>...</td>\n      <td>...</td>\n      <td>...</td>\n      <td>...</td>\n      <td>...</td>\n    </tr>\n    <tr>\n      <th>67</th>\n      <td>Bunbury Catholic College</td>\n      <td>2016</td>\n      <td>68</td>\n      <td>6230</td>\n      <td>91</td>\n      <td>1370</td>\n    </tr>\n    <tr>\n      <th>68</th>\n      <td>St Norbert College</td>\n      <td>2016</td>\n      <td>69</td>\n      <td>6107</td>\n      <td>90</td>\n      <td>890</td>\n    </tr>\n    <tr>\n      <th>69</th>\n      <td>Kalbarri District High School</td>\n      <td>2016</td>\n      <td>70</td>\n      <td>6536</td>\n      <td>90</td>\n      <td>220</td>\n    </tr>\n    <tr>\n      <th>70</th>\n      <td>Tranby College</td>\n      <td>2016</td>\n      <td>71</td>\n      <td>6171</td>\n      <td>90</td>\n      <td>884</td>\n    </tr>\n    <tr>\n      <th>71</th>\n      <td>Denmark Senior High School</td>\n      <td>2016</td>\n      <td>72</td>\n      <td>6333</td>\n      <td>90</td>\n      <td>401</td>\n    </tr>\n  </tbody>\n</table>\n<p>72 rows × 6 columns</p>\n</div>"
     },
     "metadata": {},
     "execution_count": 236
    }
   ],
   "source": [
    "# get the 2016 url WA school ranking\n",
    "rank_2016 = \"https://bettereducation.com.au/school/secondary/wa/wa_top_secondary_schools.aspx?yr=2016\"\n",
    "\n",
    "# Use panda's `read_html` to parse the 2016 ranking url\n",
    "hs_wa_2016 = pd.read_html(rank_2016, header=0)[0]\n",
    "\n",
    "# insert a column \"year\" with values of \"2016\" after the column \"Shool\"\n",
    "hs_wa_2016.insert(1, 'Year', 2016)\n",
    "\n",
    "# insert a column \"Rank\" with values of \"incremental values\" after the column \"Year\"\n",
    "hs_wa_2016.insert(2, 'Rank', range(1, 1 + len(hs_wa_2016)))\n",
    "\n",
    "# remove the strings after the \",\" to show only the school name\n",
    "hs_wa_2016[\"School\"] = hs_wa_2016[\"School\"].str.split(',', 1).str.get(0)\n",
    "\n",
    "# remove the \"space\" and \"string inside parenthesis\" to show only the school name\n",
    "hs_wa_2016[\"School\"] = hs_wa_2016[\"School\"].str.split('\\s+\\(', 1).str.get(0)\n",
    "\n",
    "# re-arrange the columns & remove other columns\n",
    "hs_wa_2016 = hs_wa_2016[['School', 'Year', 'Rank', 'Postcode','State Overall Score', 'Total Enrolments']]\n",
    "hs_wa_2016"
   ]
  },
  {
   "cell_type": "code",
   "execution_count": 237,
   "metadata": {},
   "outputs": [],
   "source": [
    "# replace some values to correct the spelling to prevent Null values when performing the merge with other Dataframes later on\n",
    "hs_wa_2016[\"School\"].replace({\"John Curtin College Of The Arts\": \"John Curtin College of the Arts\", \n",
    "                       \"Australian Christian College\": \"Australian Christian College - Southlands\",\n",
    "                       \"St Stephen's School\": \"St Stephen's School - Duncraig\",\n",
    "                       \"Schools Of Isolated & Distance Education\": \"School of Isolated and Distance Education\",\n",
    "                       \"St Mary MacKillop College\": \"St Mary Mackillop College\"\n",
    "                        }, inplace=True)"
   ]
  },
  {
   "cell_type": "code",
   "execution_count": 238,
   "metadata": {},
   "outputs": [
    {
     "output_type": "execute_result",
     "data": {
      "text/plain": [
       "                                       School  Year  Rank  Postcode  \\\n",
       "0                         Perth Modern School  2016     1      6008   \n",
       "1                Christ Church Grammar School  2016     2      6010   \n",
       "2   International School of Western Australia  2016     3      6015   \n",
       "3                                 Hale School  2016     4      6019   \n",
       "4            St Mary's Anglican Girls' School  2016     5      6018   \n",
       "..                                        ...   ...   ...       ...   \n",
       "67                   Bunbury Catholic College  2016    68      6230   \n",
       "68                         St Norbert College  2016    69      6107   \n",
       "69              Kalbarri District High School  2016    70      6536   \n",
       "70                             Tranby College  2016    71      6171   \n",
       "71                 Denmark Senior High School  2016    72      6333   \n",
       "\n",
       "    State Overall Score  Total Enrolments ICSEA  \n",
       "0                   100              1336  1239  \n",
       "1                   100              1663  1180  \n",
       "2                   100               235  1182  \n",
       "3                   100              1486  1165  \n",
       "4                    99              1385  1158  \n",
       "..                  ...               ...   ...  \n",
       "67                   91              1370  1035  \n",
       "68                   90               890  1044  \n",
       "69                   90               220   988  \n",
       "70                   90               884  1066  \n",
       "71                   90               401  1038  \n",
       "\n",
       "[72 rows x 7 columns]"
      ],
      "text/html": "<div>\n<style scoped>\n    .dataframe tbody tr th:only-of-type {\n        vertical-align: middle;\n    }\n\n    .dataframe tbody tr th {\n        vertical-align: top;\n    }\n\n    .dataframe thead th {\n        text-align: right;\n    }\n</style>\n<table border=\"1\" class=\"dataframe\">\n  <thead>\n    <tr style=\"text-align: right;\">\n      <th></th>\n      <th>School</th>\n      <th>Year</th>\n      <th>Rank</th>\n      <th>Postcode</th>\n      <th>State Overall Score</th>\n      <th>Total Enrolments</th>\n      <th>ICSEA</th>\n    </tr>\n  </thead>\n  <tbody>\n    <tr>\n      <th>0</th>\n      <td>Perth Modern School</td>\n      <td>2016</td>\n      <td>1</td>\n      <td>6008</td>\n      <td>100</td>\n      <td>1336</td>\n      <td>1239</td>\n    </tr>\n    <tr>\n      <th>1</th>\n      <td>Christ Church Grammar School</td>\n      <td>2016</td>\n      <td>2</td>\n      <td>6010</td>\n      <td>100</td>\n      <td>1663</td>\n      <td>1180</td>\n    </tr>\n    <tr>\n      <th>2</th>\n      <td>International School of Western Australia</td>\n      <td>2016</td>\n      <td>3</td>\n      <td>6015</td>\n      <td>100</td>\n      <td>235</td>\n      <td>1182</td>\n    </tr>\n    <tr>\n      <th>3</th>\n      <td>Hale School</td>\n      <td>2016</td>\n      <td>4</td>\n      <td>6019</td>\n      <td>100</td>\n      <td>1486</td>\n      <td>1165</td>\n    </tr>\n    <tr>\n      <th>4</th>\n      <td>St Mary's Anglican Girls' School</td>\n      <td>2016</td>\n      <td>5</td>\n      <td>6018</td>\n      <td>99</td>\n      <td>1385</td>\n      <td>1158</td>\n    </tr>\n    <tr>\n      <th>...</th>\n      <td>...</td>\n      <td>...</td>\n      <td>...</td>\n      <td>...</td>\n      <td>...</td>\n      <td>...</td>\n      <td>...</td>\n    </tr>\n    <tr>\n      <th>67</th>\n      <td>Bunbury Catholic College</td>\n      <td>2016</td>\n      <td>68</td>\n      <td>6230</td>\n      <td>91</td>\n      <td>1370</td>\n      <td>1035</td>\n    </tr>\n    <tr>\n      <th>68</th>\n      <td>St Norbert College</td>\n      <td>2016</td>\n      <td>69</td>\n      <td>6107</td>\n      <td>90</td>\n      <td>890</td>\n      <td>1044</td>\n    </tr>\n    <tr>\n      <th>69</th>\n      <td>Kalbarri District High School</td>\n      <td>2016</td>\n      <td>70</td>\n      <td>6536</td>\n      <td>90</td>\n      <td>220</td>\n      <td>988</td>\n    </tr>\n    <tr>\n      <th>70</th>\n      <td>Tranby College</td>\n      <td>2016</td>\n      <td>71</td>\n      <td>6171</td>\n      <td>90</td>\n      <td>884</td>\n      <td>1066</td>\n    </tr>\n    <tr>\n      <th>71</th>\n      <td>Denmark Senior High School</td>\n      <td>2016</td>\n      <td>72</td>\n      <td>6333</td>\n      <td>90</td>\n      <td>401</td>\n      <td>1038</td>\n    </tr>\n  </tbody>\n</table>\n<p>72 rows × 7 columns</p>\n</div>"
     },
     "metadata": {},
     "execution_count": 238
    }
   ],
   "source": [
    "# merge \"hs_wa_2016\" Dataframe with \"icsea_full\" Dataframe\n",
    "hs_wa_2016_merge = pd.merge(hs_wa_2016, icsea_full , on=['School'], how='left')\n",
    "hs_wa_2016_merge"
   ]
  },
  {
   "cell_type": "code",
   "execution_count": 239,
   "metadata": {},
   "outputs": [
    {
     "output_type": "execute_result",
     "data": {
      "text/plain": [
       "Empty DataFrame\n",
       "Columns: [School, Year, Rank, Postcode, State Overall Score, Total Enrolments, ICSEA]\n",
       "Index: []"
      ],
      "text/html": "<div>\n<style scoped>\n    .dataframe tbody tr th:only-of-type {\n        vertical-align: middle;\n    }\n\n    .dataframe tbody tr th {\n        vertical-align: top;\n    }\n\n    .dataframe thead th {\n        text-align: right;\n    }\n</style>\n<table border=\"1\" class=\"dataframe\">\n  <thead>\n    <tr style=\"text-align: right;\">\n      <th></th>\n      <th>School</th>\n      <th>Year</th>\n      <th>Rank</th>\n      <th>Postcode</th>\n      <th>State Overall Score</th>\n      <th>Total Enrolments</th>\n      <th>ICSEA</th>\n    </tr>\n  </thead>\n  <tbody>\n  </tbody>\n</table>\n</div>"
     },
     "metadata": {},
     "execution_count": 239
    }
   ],
   "source": [
    "# Check for NaN values\n",
    "# creating bool series True for NaN values  \n",
    "bool_series = pd.isnull(hs_wa_2016_merge[\"ICSEA\"])  \n",
    "    \n",
    "# filtering data  \n",
    "# displaying data only with \"ICSEA\" = NaN \n",
    "hs_wa_2016_merge[bool_series]"
   ]
  },
  {
   "cell_type": "code",
   "execution_count": 240,
   "metadata": {},
   "outputs": [
    {
     "output_type": "execute_result",
     "data": {
      "text/plain": [
       "                                       School  Year  Rank  Postcode  \\\n",
       "0                         Perth Modern School  2016     1      6008   \n",
       "1                Christ Church Grammar School  2016     2      6010   \n",
       "2   International School of Western Australia  2016     3      6015   \n",
       "3                                 Hale School  2016     4      6019   \n",
       "4            St Mary's Anglican Girls' School  2016     5      6018   \n",
       "..                                        ...   ...   ...       ...   \n",
       "67                   Bunbury Catholic College  2016    68      6230   \n",
       "68                         St Norbert College  2016    69      6107   \n",
       "69              Kalbarri District High School  2016    70      6536   \n",
       "70                             Tranby College  2016    71      6171   \n",
       "71                 Denmark Senior High School  2016    72      6333   \n",
       "\n",
       "    State Overall Score  Total Enrolments ICSEA         Suburb   Longitude  \\\n",
       "0                   100              1336  1239        Subiaco  115.836396   \n",
       "1                   100              1663  1180      Claremont  115.776987   \n",
       "2                   100               235  1182     Doubleview  115.777620   \n",
       "3                   100              1486  1165  Wembley Downs  115.783783   \n",
       "4                    99              1385  1158      Karrinyup  115.766244   \n",
       "..                  ...               ...   ...            ...         ...   \n",
       "67                   91              1370  1035        Bunbury  115.661424   \n",
       "68                   90               890  1044    Queens Park  115.940344   \n",
       "69                   90               220   988       Kalbarri  114.163881   \n",
       "70                   90               884  1066       Baldivis  115.800243   \n",
       "71                   90               401  1038        Denmark  117.364584   \n",
       "\n",
       "     Latitude  \n",
       "0  -31.945066  \n",
       "1  -31.985461  \n",
       "2  -31.898500  \n",
       "3  -31.912322  \n",
       "4  -31.876971  \n",
       "..        ...  \n",
       "67 -33.343422  \n",
       "68 -32.004364  \n",
       "69 -27.712788  \n",
       "70 -32.340570  \n",
       "71 -34.957414  \n",
       "\n",
       "[72 rows x 10 columns]"
      ],
      "text/html": "<div>\n<style scoped>\n    .dataframe tbody tr th:only-of-type {\n        vertical-align: middle;\n    }\n\n    .dataframe tbody tr th {\n        vertical-align: top;\n    }\n\n    .dataframe thead th {\n        text-align: right;\n    }\n</style>\n<table border=\"1\" class=\"dataframe\">\n  <thead>\n    <tr style=\"text-align: right;\">\n      <th></th>\n      <th>School</th>\n      <th>Year</th>\n      <th>Rank</th>\n      <th>Postcode</th>\n      <th>State Overall Score</th>\n      <th>Total Enrolments</th>\n      <th>ICSEA</th>\n      <th>Suburb</th>\n      <th>Longitude</th>\n      <th>Latitude</th>\n    </tr>\n  </thead>\n  <tbody>\n    <tr>\n      <th>0</th>\n      <td>Perth Modern School</td>\n      <td>2016</td>\n      <td>1</td>\n      <td>6008</td>\n      <td>100</td>\n      <td>1336</td>\n      <td>1239</td>\n      <td>Subiaco</td>\n      <td>115.836396</td>\n      <td>-31.945066</td>\n    </tr>\n    <tr>\n      <th>1</th>\n      <td>Christ Church Grammar School</td>\n      <td>2016</td>\n      <td>2</td>\n      <td>6010</td>\n      <td>100</td>\n      <td>1663</td>\n      <td>1180</td>\n      <td>Claremont</td>\n      <td>115.776987</td>\n      <td>-31.985461</td>\n    </tr>\n    <tr>\n      <th>2</th>\n      <td>International School of Western Australia</td>\n      <td>2016</td>\n      <td>3</td>\n      <td>6015</td>\n      <td>100</td>\n      <td>235</td>\n      <td>1182</td>\n      <td>Doubleview</td>\n      <td>115.777620</td>\n      <td>-31.898500</td>\n    </tr>\n    <tr>\n      <th>3</th>\n      <td>Hale School</td>\n      <td>2016</td>\n      <td>4</td>\n      <td>6019</td>\n      <td>100</td>\n      <td>1486</td>\n      <td>1165</td>\n      <td>Wembley Downs</td>\n      <td>115.783783</td>\n      <td>-31.912322</td>\n    </tr>\n    <tr>\n      <th>4</th>\n      <td>St Mary's Anglican Girls' School</td>\n      <td>2016</td>\n      <td>5</td>\n      <td>6018</td>\n      <td>99</td>\n      <td>1385</td>\n      <td>1158</td>\n      <td>Karrinyup</td>\n      <td>115.766244</td>\n      <td>-31.876971</td>\n    </tr>\n    <tr>\n      <th>...</th>\n      <td>...</td>\n      <td>...</td>\n      <td>...</td>\n      <td>...</td>\n      <td>...</td>\n      <td>...</td>\n      <td>...</td>\n      <td>...</td>\n      <td>...</td>\n      <td>...</td>\n    </tr>\n    <tr>\n      <th>67</th>\n      <td>Bunbury Catholic College</td>\n      <td>2016</td>\n      <td>68</td>\n      <td>6230</td>\n      <td>91</td>\n      <td>1370</td>\n      <td>1035</td>\n      <td>Bunbury</td>\n      <td>115.661424</td>\n      <td>-33.343422</td>\n    </tr>\n    <tr>\n      <th>68</th>\n      <td>St Norbert College</td>\n      <td>2016</td>\n      <td>69</td>\n      <td>6107</td>\n      <td>90</td>\n      <td>890</td>\n      <td>1044</td>\n      <td>Queens Park</td>\n      <td>115.940344</td>\n      <td>-32.004364</td>\n    </tr>\n    <tr>\n      <th>69</th>\n      <td>Kalbarri District High School</td>\n      <td>2016</td>\n      <td>70</td>\n      <td>6536</td>\n      <td>90</td>\n      <td>220</td>\n      <td>988</td>\n      <td>Kalbarri</td>\n      <td>114.163881</td>\n      <td>-27.712788</td>\n    </tr>\n    <tr>\n      <th>70</th>\n      <td>Tranby College</td>\n      <td>2016</td>\n      <td>71</td>\n      <td>6171</td>\n      <td>90</td>\n      <td>884</td>\n      <td>1066</td>\n      <td>Baldivis</td>\n      <td>115.800243</td>\n      <td>-32.340570</td>\n    </tr>\n    <tr>\n      <th>71</th>\n      <td>Denmark Senior High School</td>\n      <td>2016</td>\n      <td>72</td>\n      <td>6333</td>\n      <td>90</td>\n      <td>401</td>\n      <td>1038</td>\n      <td>Denmark</td>\n      <td>117.364584</td>\n      <td>-34.957414</td>\n    </tr>\n  </tbody>\n</table>\n<p>72 rows × 10 columns</p>\n</div>"
     },
     "metadata": {},
     "execution_count": 240
    }
   ],
   "source": [
    "# merge \"hs_wa_2016_merge\" Dataframe with \"school_coord\" Dataframe\n",
    "hs_wa_2016_coord = pd.merge(hs_wa_2016_merge, school_coordinates , on=['School'], how='left')\n",
    "hs_wa_2016_coord"
   ]
  },
  {
   "cell_type": "code",
   "execution_count": 241,
   "metadata": {},
   "outputs": [
    {
     "output_type": "execute_result",
     "data": {
      "text/plain": [
       "Empty DataFrame\n",
       "Columns: [School, Year, Rank, Postcode, State Overall Score, Total Enrolments, ICSEA, Suburb, Longitude, Latitude]\n",
       "Index: []"
      ],
      "text/html": "<div>\n<style scoped>\n    .dataframe tbody tr th:only-of-type {\n        vertical-align: middle;\n    }\n\n    .dataframe tbody tr th {\n        vertical-align: top;\n    }\n\n    .dataframe thead th {\n        text-align: right;\n    }\n</style>\n<table border=\"1\" class=\"dataframe\">\n  <thead>\n    <tr style=\"text-align: right;\">\n      <th></th>\n      <th>School</th>\n      <th>Year</th>\n      <th>Rank</th>\n      <th>Postcode</th>\n      <th>State Overall Score</th>\n      <th>Total Enrolments</th>\n      <th>ICSEA</th>\n      <th>Suburb</th>\n      <th>Longitude</th>\n      <th>Latitude</th>\n    </tr>\n  </thead>\n  <tbody>\n  </tbody>\n</table>\n</div>"
     },
     "metadata": {},
     "execution_count": 241
    }
   ],
   "source": [
    "# Check for NaN values\n",
    "# creating bool series True for NaN values  \n",
    "bool_series = pd.isnull(hs_wa_2016_coord[\"Longitude\"])  \n",
    "    \n",
    "# filtering data  \n",
    "# displaying data only with \"Longitude\" = NaN\n",
    "hs_wa_2016_coord[bool_series]"
   ]
  },
  {
   "cell_type": "code",
   "execution_count": 242,
   "metadata": {},
   "outputs": [
    {
     "output_type": "execute_result",
     "data": {
      "text/plain": [
       "                                       School  Year  Rank  Postcode  \\\n",
       "0                         Perth Modern School  2016     1      6008   \n",
       "1                Christ Church Grammar School  2016     2      6010   \n",
       "2   International School of Western Australia  2016     3      6015   \n",
       "3                                 Hale School  2016     4      6019   \n",
       "4            St Mary's Anglican Girls' School  2016     5      6018   \n",
       "..                                        ...   ...   ...       ...   \n",
       "67                   Bunbury Catholic College  2016    68      6230   \n",
       "68                         St Norbert College  2016    69      6107   \n",
       "69              Kalbarri District High School  2016    70      6536   \n",
       "70                             Tranby College  2016    71      6171   \n",
       "71                 Denmark Senior High School  2016    72      6333   \n",
       "\n",
       "    State Overall Score  Total Enrolments ICSEA         Suburb   Longitude  \\\n",
       "0                   100              1336  1239        Subiaco  115.836396   \n",
       "1                   100              1663  1180      Claremont  115.776987   \n",
       "2                   100               235  1182     Doubleview  115.777620   \n",
       "3                   100              1486  1165  Wembley Downs  115.783783   \n",
       "4                    99              1385  1158      Karrinyup  115.766244   \n",
       "..                  ...               ...   ...            ...         ...   \n",
       "67                   91              1370  1035        Bunbury  115.661424   \n",
       "68                   90               890  1044    Queens Park  115.940344   \n",
       "69                   90               220   988       Kalbarri  114.163881   \n",
       "70                   90               884  1066       Baldivis  115.800243   \n",
       "71                   90               401  1038        Denmark  117.364584   \n",
       "\n",
       "     Latitude          Sector Gender  Religion  \n",
       "0  -31.945066      Government  Co-ed   Secular  \n",
       "1  -31.985461  Non-government   Boys  Anglican  \n",
       "2  -31.898500      Government  Co-ed   Secular  \n",
       "3  -31.912322  Non-government   Boys  Anglican  \n",
       "4  -31.876971  Non-government  Girls  Anglican  \n",
       "..        ...             ...    ...       ...  \n",
       "67 -33.343422  Non-government  Co-ed  Catholic  \n",
       "68 -32.004364  Non-government  Co-ed  Catholic  \n",
       "69 -27.712788      Government  Co-ed   Secular  \n",
       "70 -32.340570  Non-government  Co-ed   Uniting  \n",
       "71 -34.957414      Government  Co-ed   Secular  \n",
       "\n",
       "[72 rows x 13 columns]"
      ],
      "text/html": "<div>\n<style scoped>\n    .dataframe tbody tr th:only-of-type {\n        vertical-align: middle;\n    }\n\n    .dataframe tbody tr th {\n        vertical-align: top;\n    }\n\n    .dataframe thead th {\n        text-align: right;\n    }\n</style>\n<table border=\"1\" class=\"dataframe\">\n  <thead>\n    <tr style=\"text-align: right;\">\n      <th></th>\n      <th>School</th>\n      <th>Year</th>\n      <th>Rank</th>\n      <th>Postcode</th>\n      <th>State Overall Score</th>\n      <th>Total Enrolments</th>\n      <th>ICSEA</th>\n      <th>Suburb</th>\n      <th>Longitude</th>\n      <th>Latitude</th>\n      <th>Sector</th>\n      <th>Gender</th>\n      <th>Religion</th>\n    </tr>\n  </thead>\n  <tbody>\n    <tr>\n      <th>0</th>\n      <td>Perth Modern School</td>\n      <td>2016</td>\n      <td>1</td>\n      <td>6008</td>\n      <td>100</td>\n      <td>1336</td>\n      <td>1239</td>\n      <td>Subiaco</td>\n      <td>115.836396</td>\n      <td>-31.945066</td>\n      <td>Government</td>\n      <td>Co-ed</td>\n      <td>Secular</td>\n    </tr>\n    <tr>\n      <th>1</th>\n      <td>Christ Church Grammar School</td>\n      <td>2016</td>\n      <td>2</td>\n      <td>6010</td>\n      <td>100</td>\n      <td>1663</td>\n      <td>1180</td>\n      <td>Claremont</td>\n      <td>115.776987</td>\n      <td>-31.985461</td>\n      <td>Non-government</td>\n      <td>Boys</td>\n      <td>Anglican</td>\n    </tr>\n    <tr>\n      <th>2</th>\n      <td>International School of Western Australia</td>\n      <td>2016</td>\n      <td>3</td>\n      <td>6015</td>\n      <td>100</td>\n      <td>235</td>\n      <td>1182</td>\n      <td>Doubleview</td>\n      <td>115.777620</td>\n      <td>-31.898500</td>\n      <td>Government</td>\n      <td>Co-ed</td>\n      <td>Secular</td>\n    </tr>\n    <tr>\n      <th>3</th>\n      <td>Hale School</td>\n      <td>2016</td>\n      <td>4</td>\n      <td>6019</td>\n      <td>100</td>\n      <td>1486</td>\n      <td>1165</td>\n      <td>Wembley Downs</td>\n      <td>115.783783</td>\n      <td>-31.912322</td>\n      <td>Non-government</td>\n      <td>Boys</td>\n      <td>Anglican</td>\n    </tr>\n    <tr>\n      <th>4</th>\n      <td>St Mary's Anglican Girls' School</td>\n      <td>2016</td>\n      <td>5</td>\n      <td>6018</td>\n      <td>99</td>\n      <td>1385</td>\n      <td>1158</td>\n      <td>Karrinyup</td>\n      <td>115.766244</td>\n      <td>-31.876971</td>\n      <td>Non-government</td>\n      <td>Girls</td>\n      <td>Anglican</td>\n    </tr>\n    <tr>\n      <th>...</th>\n      <td>...</td>\n      <td>...</td>\n      <td>...</td>\n      <td>...</td>\n      <td>...</td>\n      <td>...</td>\n      <td>...</td>\n      <td>...</td>\n      <td>...</td>\n      <td>...</td>\n      <td>...</td>\n      <td>...</td>\n      <td>...</td>\n    </tr>\n    <tr>\n      <th>67</th>\n      <td>Bunbury Catholic College</td>\n      <td>2016</td>\n      <td>68</td>\n      <td>6230</td>\n      <td>91</td>\n      <td>1370</td>\n      <td>1035</td>\n      <td>Bunbury</td>\n      <td>115.661424</td>\n      <td>-33.343422</td>\n      <td>Non-government</td>\n      <td>Co-ed</td>\n      <td>Catholic</td>\n    </tr>\n    <tr>\n      <th>68</th>\n      <td>St Norbert College</td>\n      <td>2016</td>\n      <td>69</td>\n      <td>6107</td>\n      <td>90</td>\n      <td>890</td>\n      <td>1044</td>\n      <td>Queens Park</td>\n      <td>115.940344</td>\n      <td>-32.004364</td>\n      <td>Non-government</td>\n      <td>Co-ed</td>\n      <td>Catholic</td>\n    </tr>\n    <tr>\n      <th>69</th>\n      <td>Kalbarri District High School</td>\n      <td>2016</td>\n      <td>70</td>\n      <td>6536</td>\n      <td>90</td>\n      <td>220</td>\n      <td>988</td>\n      <td>Kalbarri</td>\n      <td>114.163881</td>\n      <td>-27.712788</td>\n      <td>Government</td>\n      <td>Co-ed</td>\n      <td>Secular</td>\n    </tr>\n    <tr>\n      <th>70</th>\n      <td>Tranby College</td>\n      <td>2016</td>\n      <td>71</td>\n      <td>6171</td>\n      <td>90</td>\n      <td>884</td>\n      <td>1066</td>\n      <td>Baldivis</td>\n      <td>115.800243</td>\n      <td>-32.340570</td>\n      <td>Non-government</td>\n      <td>Co-ed</td>\n      <td>Uniting</td>\n    </tr>\n    <tr>\n      <th>71</th>\n      <td>Denmark Senior High School</td>\n      <td>2016</td>\n      <td>72</td>\n      <td>6333</td>\n      <td>90</td>\n      <td>401</td>\n      <td>1038</td>\n      <td>Denmark</td>\n      <td>117.364584</td>\n      <td>-34.957414</td>\n      <td>Government</td>\n      <td>Co-ed</td>\n      <td>Secular</td>\n    </tr>\n  </tbody>\n</table>\n<p>72 rows × 13 columns</p>\n</div>"
     },
     "metadata": {},
     "execution_count": 242
    }
   ],
   "source": [
    "# merge \"hs_wa_2016_coord\" Dataframe with \"sectors\" Dataframe\n",
    "wa_hs_icsea_2016 = pd.merge(hs_wa_2016_coord, sectors , on=['School'], how='left')\n",
    "wa_hs_icsea_2016"
   ]
  },
  {
   "cell_type": "code",
   "execution_count": 243,
   "metadata": {},
   "outputs": [
    {
     "output_type": "execute_result",
     "data": {
      "text/plain": [
       "Empty DataFrame\n",
       "Columns: [School, Year, Rank, Postcode, State Overall Score, Total Enrolments, ICSEA, Suburb, Longitude, Latitude, Sector, Gender, Religion]\n",
       "Index: []"
      ],
      "text/html": "<div>\n<style scoped>\n    .dataframe tbody tr th:only-of-type {\n        vertical-align: middle;\n    }\n\n    .dataframe tbody tr th {\n        vertical-align: top;\n    }\n\n    .dataframe thead th {\n        text-align: right;\n    }\n</style>\n<table border=\"1\" class=\"dataframe\">\n  <thead>\n    <tr style=\"text-align: right;\">\n      <th></th>\n      <th>School</th>\n      <th>Year</th>\n      <th>Rank</th>\n      <th>Postcode</th>\n      <th>State Overall Score</th>\n      <th>Total Enrolments</th>\n      <th>ICSEA</th>\n      <th>Suburb</th>\n      <th>Longitude</th>\n      <th>Latitude</th>\n      <th>Sector</th>\n      <th>Gender</th>\n      <th>Religion</th>\n    </tr>\n  </thead>\n  <tbody>\n  </tbody>\n</table>\n</div>"
     },
     "metadata": {},
     "execution_count": 243
    }
   ],
   "source": [
    "# Check for NaN values\n",
    "# creating bool series True for NaN values  \n",
    "bool_series = pd.isnull(wa_hs_icsea_2016[\"Sector\"])  \n",
    "    \n",
    "# filtering data  \n",
    "# displaying data only with \"Sector\" = NaN\n",
    "wa_hs_icsea_2016[bool_series]"
   ]
  },
  {
   "source": [
    "## Create the NAPLAN WA High School rankings for 2019 which is the only year with NAPLAN score available we could find & create the table which will be loaded to the SQL database later on"
   ],
   "cell_type": "markdown",
   "metadata": {}
  },
  {
   "cell_type": "code",
   "execution_count": 244,
   "metadata": {},
   "outputs": [
    {
     "output_type": "execute_result",
     "data": {
      "text/plain": [
       "                                                School  Year  Rank   Level  \\\n",
       "0                                  Perth Modern School  2019     1  Year 9   \n",
       "1                 St Hilda's Anglican School for Girls  2019     2  Year 9   \n",
       "2                         Presbyterian Ladies' College  2019     3  Year 9   \n",
       "3                     St Mary's Anglican Girls' School  2019     4  Year 9   \n",
       "4                           Rehoboth Christian College  2019     5  Year 9   \n",
       "..                                                 ...   ...   ...     ...   \n",
       "188                            Mindarie Senior College  2019   189  Year 9   \n",
       "189                          Our Lady of Mercy College  2019   190  Year 9   \n",
       "190                           Sevenoaks Senior College  2019   191  Year 9   \n",
       "191  Western Australian College Of Agriculture - Cu...  2019   192  Year 9   \n",
       "192                                  Woodthorpe School  2019   193  Year 9   \n",
       "\n",
       "     Reading  Writing  Spelling  Grammar  Numeracy  Average  \n",
       "0        694      667       695      704       729    697.8  \n",
       "1        649      636       631      644       652    642.4  \n",
       "2        641      633       636      637       658    641.0  \n",
       "3        640      631       634      637       657    639.8  \n",
       "4        633      605       637      641       654    634.0  \n",
       "..       ...      ...       ...      ...       ...      ...  \n",
       "188        0        0         0        0         0      0.0  \n",
       "189        0        0         0        0         0      0.0  \n",
       "190        0        0         0        0         0      0.0  \n",
       "191        0        0         0        0         0      0.0  \n",
       "192        0        0         0        0         0      0.0  \n",
       "\n",
       "[193 rows x 10 columns]"
      ],
      "text/html": "<div>\n<style scoped>\n    .dataframe tbody tr th:only-of-type {\n        vertical-align: middle;\n    }\n\n    .dataframe tbody tr th {\n        vertical-align: top;\n    }\n\n    .dataframe thead th {\n        text-align: right;\n    }\n</style>\n<table border=\"1\" class=\"dataframe\">\n  <thead>\n    <tr style=\"text-align: right;\">\n      <th></th>\n      <th>School</th>\n      <th>Year</th>\n      <th>Rank</th>\n      <th>Level</th>\n      <th>Reading</th>\n      <th>Writing</th>\n      <th>Spelling</th>\n      <th>Grammar</th>\n      <th>Numeracy</th>\n      <th>Average</th>\n    </tr>\n  </thead>\n  <tbody>\n    <tr>\n      <th>0</th>\n      <td>Perth Modern School</td>\n      <td>2019</td>\n      <td>1</td>\n      <td>Year 9</td>\n      <td>694</td>\n      <td>667</td>\n      <td>695</td>\n      <td>704</td>\n      <td>729</td>\n      <td>697.8</td>\n    </tr>\n    <tr>\n      <th>1</th>\n      <td>St Hilda's Anglican School for Girls</td>\n      <td>2019</td>\n      <td>2</td>\n      <td>Year 9</td>\n      <td>649</td>\n      <td>636</td>\n      <td>631</td>\n      <td>644</td>\n      <td>652</td>\n      <td>642.4</td>\n    </tr>\n    <tr>\n      <th>2</th>\n      <td>Presbyterian Ladies' College</td>\n      <td>2019</td>\n      <td>3</td>\n      <td>Year 9</td>\n      <td>641</td>\n      <td>633</td>\n      <td>636</td>\n      <td>637</td>\n      <td>658</td>\n      <td>641.0</td>\n    </tr>\n    <tr>\n      <th>3</th>\n      <td>St Mary's Anglican Girls' School</td>\n      <td>2019</td>\n      <td>4</td>\n      <td>Year 9</td>\n      <td>640</td>\n      <td>631</td>\n      <td>634</td>\n      <td>637</td>\n      <td>657</td>\n      <td>639.8</td>\n    </tr>\n    <tr>\n      <th>4</th>\n      <td>Rehoboth Christian College</td>\n      <td>2019</td>\n      <td>5</td>\n      <td>Year 9</td>\n      <td>633</td>\n      <td>605</td>\n      <td>637</td>\n      <td>641</td>\n      <td>654</td>\n      <td>634.0</td>\n    </tr>\n    <tr>\n      <th>...</th>\n      <td>...</td>\n      <td>...</td>\n      <td>...</td>\n      <td>...</td>\n      <td>...</td>\n      <td>...</td>\n      <td>...</td>\n      <td>...</td>\n      <td>...</td>\n      <td>...</td>\n    </tr>\n    <tr>\n      <th>188</th>\n      <td>Mindarie Senior College</td>\n      <td>2019</td>\n      <td>189</td>\n      <td>Year 9</td>\n      <td>0</td>\n      <td>0</td>\n      <td>0</td>\n      <td>0</td>\n      <td>0</td>\n      <td>0.0</td>\n    </tr>\n    <tr>\n      <th>189</th>\n      <td>Our Lady of Mercy College</td>\n      <td>2019</td>\n      <td>190</td>\n      <td>Year 9</td>\n      <td>0</td>\n      <td>0</td>\n      <td>0</td>\n      <td>0</td>\n      <td>0</td>\n      <td>0.0</td>\n    </tr>\n    <tr>\n      <th>190</th>\n      <td>Sevenoaks Senior College</td>\n      <td>2019</td>\n      <td>191</td>\n      <td>Year 9</td>\n      <td>0</td>\n      <td>0</td>\n      <td>0</td>\n      <td>0</td>\n      <td>0</td>\n      <td>0.0</td>\n    </tr>\n    <tr>\n      <th>191</th>\n      <td>Western Australian College Of Agriculture - Cu...</td>\n      <td>2019</td>\n      <td>192</td>\n      <td>Year 9</td>\n      <td>0</td>\n      <td>0</td>\n      <td>0</td>\n      <td>0</td>\n      <td>0</td>\n      <td>0.0</td>\n    </tr>\n    <tr>\n      <th>192</th>\n      <td>Woodthorpe School</td>\n      <td>2019</td>\n      <td>193</td>\n      <td>Year 9</td>\n      <td>0</td>\n      <td>0</td>\n      <td>0</td>\n      <td>0</td>\n      <td>0</td>\n      <td>0.0</td>\n    </tr>\n  </tbody>\n</table>\n<p>193 rows × 10 columns</p>\n</div>"
     },
     "metadata": {},
     "execution_count": 244
    }
   ],
   "source": [
    "# read \"naplan_hs_2019\" csv file\n",
    "naplan = pd.read_csv(\"../Resources/naplan_hs_2019.csv\")\n",
    "naplan"
   ]
  },
  {
   "cell_type": "code",
   "execution_count": 245,
   "metadata": {},
   "outputs": [
    {
     "output_type": "execute_result",
     "data": {
      "text/plain": [
       "                                                School  Year  Rank   Level  \\\n",
       "0                                  Perth Modern School  2019     1  Year 9   \n",
       "1                 St Hilda's Anglican School for Girls  2019     2  Year 9   \n",
       "2                         Presbyterian Ladies' College  2019     3  Year 9   \n",
       "3                     St Mary's Anglican Girls' School  2019     4  Year 9   \n",
       "4                           Rehoboth Christian College  2019     5  Year 9   \n",
       "..                                                 ...   ...   ...     ...   \n",
       "188                            Mindarie Senior College  2019   189  Year 9   \n",
       "189                          Our Lady of Mercy College  2019   190  Year 9   \n",
       "190                           Sevenoaks Senior College  2019   191  Year 9   \n",
       "191  Western Australian College Of Agriculture - Cu...  2019   192  Year 9   \n",
       "192                                  Woodthorpe School  2019   193  Year 9   \n",
       "\n",
       "     Reading  Writing  Spelling  Grammar  Numeracy  Average            Suburb  \\\n",
       "0        694      667       695      704       729    697.8           Subiaco   \n",
       "1        649      636       631      644       652    642.4       Mosman Park   \n",
       "2        641      633       636      637       658    641.0  Peppermint Grove   \n",
       "3        640      631       634      637       657    639.8         Karrinyup   \n",
       "4        633      605       637      641       654    634.0           Kenwick   \n",
       "..       ...      ...       ...      ...       ...      ...               ...   \n",
       "188        0        0         0        0         0      0.0          Mindarie   \n",
       "189        0        0         0        0         0      0.0        Australind   \n",
       "190        0        0         0        0         0      0.0        Cannington   \n",
       "191        0        0         0        0         0      0.0         Cunderdin   \n",
       "192        0        0         0        0         0      0.0         Willetton   \n",
       "\n",
       "      Longitude   Latitude  \n",
       "0    115.836396 -31.945066  \n",
       "1    115.767812 -32.005047  \n",
       "2    115.764906 -31.993592  \n",
       "3    115.766244 -31.876971  \n",
       "4    115.977924 -32.031619  \n",
       "..          ...        ...  \n",
       "188  115.706050 -31.676979  \n",
       "189  115.740064 -33.270941  \n",
       "190  115.942305 -32.012479  \n",
       "191  117.230704 -31.626847  \n",
       "192  115.901720 -32.056540  \n",
       "\n",
       "[193 rows x 13 columns]"
      ],
      "text/html": "<div>\n<style scoped>\n    .dataframe tbody tr th:only-of-type {\n        vertical-align: middle;\n    }\n\n    .dataframe tbody tr th {\n        vertical-align: top;\n    }\n\n    .dataframe thead th {\n        text-align: right;\n    }\n</style>\n<table border=\"1\" class=\"dataframe\">\n  <thead>\n    <tr style=\"text-align: right;\">\n      <th></th>\n      <th>School</th>\n      <th>Year</th>\n      <th>Rank</th>\n      <th>Level</th>\n      <th>Reading</th>\n      <th>Writing</th>\n      <th>Spelling</th>\n      <th>Grammar</th>\n      <th>Numeracy</th>\n      <th>Average</th>\n      <th>Suburb</th>\n      <th>Longitude</th>\n      <th>Latitude</th>\n    </tr>\n  </thead>\n  <tbody>\n    <tr>\n      <th>0</th>\n      <td>Perth Modern School</td>\n      <td>2019</td>\n      <td>1</td>\n      <td>Year 9</td>\n      <td>694</td>\n      <td>667</td>\n      <td>695</td>\n      <td>704</td>\n      <td>729</td>\n      <td>697.8</td>\n      <td>Subiaco</td>\n      <td>115.836396</td>\n      <td>-31.945066</td>\n    </tr>\n    <tr>\n      <th>1</th>\n      <td>St Hilda's Anglican School for Girls</td>\n      <td>2019</td>\n      <td>2</td>\n      <td>Year 9</td>\n      <td>649</td>\n      <td>636</td>\n      <td>631</td>\n      <td>644</td>\n      <td>652</td>\n      <td>642.4</td>\n      <td>Mosman Park</td>\n      <td>115.767812</td>\n      <td>-32.005047</td>\n    </tr>\n    <tr>\n      <th>2</th>\n      <td>Presbyterian Ladies' College</td>\n      <td>2019</td>\n      <td>3</td>\n      <td>Year 9</td>\n      <td>641</td>\n      <td>633</td>\n      <td>636</td>\n      <td>637</td>\n      <td>658</td>\n      <td>641.0</td>\n      <td>Peppermint Grove</td>\n      <td>115.764906</td>\n      <td>-31.993592</td>\n    </tr>\n    <tr>\n      <th>3</th>\n      <td>St Mary's Anglican Girls' School</td>\n      <td>2019</td>\n      <td>4</td>\n      <td>Year 9</td>\n      <td>640</td>\n      <td>631</td>\n      <td>634</td>\n      <td>637</td>\n      <td>657</td>\n      <td>639.8</td>\n      <td>Karrinyup</td>\n      <td>115.766244</td>\n      <td>-31.876971</td>\n    </tr>\n    <tr>\n      <th>4</th>\n      <td>Rehoboth Christian College</td>\n      <td>2019</td>\n      <td>5</td>\n      <td>Year 9</td>\n      <td>633</td>\n      <td>605</td>\n      <td>637</td>\n      <td>641</td>\n      <td>654</td>\n      <td>634.0</td>\n      <td>Kenwick</td>\n      <td>115.977924</td>\n      <td>-32.031619</td>\n    </tr>\n    <tr>\n      <th>...</th>\n      <td>...</td>\n      <td>...</td>\n      <td>...</td>\n      <td>...</td>\n      <td>...</td>\n      <td>...</td>\n      <td>...</td>\n      <td>...</td>\n      <td>...</td>\n      <td>...</td>\n      <td>...</td>\n      <td>...</td>\n      <td>...</td>\n    </tr>\n    <tr>\n      <th>188</th>\n      <td>Mindarie Senior College</td>\n      <td>2019</td>\n      <td>189</td>\n      <td>Year 9</td>\n      <td>0</td>\n      <td>0</td>\n      <td>0</td>\n      <td>0</td>\n      <td>0</td>\n      <td>0.0</td>\n      <td>Mindarie</td>\n      <td>115.706050</td>\n      <td>-31.676979</td>\n    </tr>\n    <tr>\n      <th>189</th>\n      <td>Our Lady of Mercy College</td>\n      <td>2019</td>\n      <td>190</td>\n      <td>Year 9</td>\n      <td>0</td>\n      <td>0</td>\n      <td>0</td>\n      <td>0</td>\n      <td>0</td>\n      <td>0.0</td>\n      <td>Australind</td>\n      <td>115.740064</td>\n      <td>-33.270941</td>\n    </tr>\n    <tr>\n      <th>190</th>\n      <td>Sevenoaks Senior College</td>\n      <td>2019</td>\n      <td>191</td>\n      <td>Year 9</td>\n      <td>0</td>\n      <td>0</td>\n      <td>0</td>\n      <td>0</td>\n      <td>0</td>\n      <td>0.0</td>\n      <td>Cannington</td>\n      <td>115.942305</td>\n      <td>-32.012479</td>\n    </tr>\n    <tr>\n      <th>191</th>\n      <td>Western Australian College Of Agriculture - Cu...</td>\n      <td>2019</td>\n      <td>192</td>\n      <td>Year 9</td>\n      <td>0</td>\n      <td>0</td>\n      <td>0</td>\n      <td>0</td>\n      <td>0</td>\n      <td>0.0</td>\n      <td>Cunderdin</td>\n      <td>117.230704</td>\n      <td>-31.626847</td>\n    </tr>\n    <tr>\n      <th>192</th>\n      <td>Woodthorpe School</td>\n      <td>2019</td>\n      <td>193</td>\n      <td>Year 9</td>\n      <td>0</td>\n      <td>0</td>\n      <td>0</td>\n      <td>0</td>\n      <td>0</td>\n      <td>0.0</td>\n      <td>Willetton</td>\n      <td>115.901720</td>\n      <td>-32.056540</td>\n    </tr>\n  </tbody>\n</table>\n<p>193 rows × 13 columns</p>\n</div>"
     },
     "metadata": {},
     "execution_count": 245
    }
   ],
   "source": [
    "# merge \"naplan\" Dataframe with \"coord\" Dataframe\n",
    "naplan_coord = pd.merge(naplan, school_coordinates, on='School', how='left')\n",
    "naplan_coord"
   ]
  },
  {
   "cell_type": "code",
   "execution_count": 246,
   "metadata": {},
   "outputs": [
    {
     "output_type": "execute_result",
     "data": {
      "text/plain": [
       "Empty DataFrame\n",
       "Columns: [School, Year, Rank, Level, Reading, Writing, Spelling, Grammar, Numeracy, Average, Suburb, Longitude, Latitude]\n",
       "Index: []"
      ],
      "text/html": "<div>\n<style scoped>\n    .dataframe tbody tr th:only-of-type {\n        vertical-align: middle;\n    }\n\n    .dataframe tbody tr th {\n        vertical-align: top;\n    }\n\n    .dataframe thead th {\n        text-align: right;\n    }\n</style>\n<table border=\"1\" class=\"dataframe\">\n  <thead>\n    <tr style=\"text-align: right;\">\n      <th></th>\n      <th>School</th>\n      <th>Year</th>\n      <th>Rank</th>\n      <th>Level</th>\n      <th>Reading</th>\n      <th>Writing</th>\n      <th>Spelling</th>\n      <th>Grammar</th>\n      <th>Numeracy</th>\n      <th>Average</th>\n      <th>Suburb</th>\n      <th>Longitude</th>\n      <th>Latitude</th>\n    </tr>\n  </thead>\n  <tbody>\n  </tbody>\n</table>\n</div>"
     },
     "metadata": {},
     "execution_count": 246
    }
   ],
   "source": [
    "# Check for NaN values\n",
    "# creating bool series True for NaN values  \n",
    "bool_series = pd.isnull(naplan_coord[\"Longitude\"])  \n",
    "    \n",
    "# filtering data  \n",
    "# displaying data only with \"Longitude\" = NaN\n",
    "naplan_coord[bool_series]"
   ]
  },
  {
   "cell_type": "code",
   "execution_count": 247,
   "metadata": {},
   "outputs": [
    {
     "output_type": "execute_result",
     "data": {
      "text/plain": [
       "                                                School  Year  Rank   Level  \\\n",
       "0                                  Perth Modern School  2019     1  Year 9   \n",
       "1                 St Hilda's Anglican School for Girls  2019     2  Year 9   \n",
       "2                         Presbyterian Ladies' College  2019     3  Year 9   \n",
       "3                     St Mary's Anglican Girls' School  2019     4  Year 9   \n",
       "4                           Rehoboth Christian College  2019     5  Year 9   \n",
       "..                                                 ...   ...   ...     ...   \n",
       "188                            Mindarie Senior College  2019   189  Year 9   \n",
       "189                          Our Lady of Mercy College  2019   190  Year 9   \n",
       "190                           Sevenoaks Senior College  2019   191  Year 9   \n",
       "191  Western Australian College Of Agriculture - Cu...  2019   192  Year 9   \n",
       "192                                  Woodthorpe School  2019   193  Year 9   \n",
       "\n",
       "     Reading  Writing  Spelling  Grammar  Numeracy  Average            Suburb  \\\n",
       "0        694      667       695      704       729    697.8           Subiaco   \n",
       "1        649      636       631      644       652    642.4       Mosman Park   \n",
       "2        641      633       636      637       658    641.0  Peppermint Grove   \n",
       "3        640      631       634      637       657    639.8         Karrinyup   \n",
       "4        633      605       637      641       654    634.0           Kenwick   \n",
       "..       ...      ...       ...      ...       ...      ...               ...   \n",
       "188        0        0         0        0         0      0.0          Mindarie   \n",
       "189        0        0         0        0         0      0.0        Australind   \n",
       "190        0        0         0        0         0      0.0        Cannington   \n",
       "191        0        0         0        0         0      0.0         Cunderdin   \n",
       "192        0        0         0        0         0      0.0         Willetton   \n",
       "\n",
       "      Longitude   Latitude          Sector Gender            Religion  \n",
       "0    115.836396 -31.945066      Government  Co-ed             Secular  \n",
       "1    115.767812 -32.005047  Non-government  Girls            Anglican  \n",
       "2    115.764906 -31.993592  Non-government  Girls             Uniting  \n",
       "3    115.766244 -31.876971  Non-government  Girls            Anglican  \n",
       "4    115.977924 -32.031619  Non-government  Co-ed           Christian  \n",
       "..          ...        ...             ...    ...                 ...  \n",
       "188  115.706050 -31.676979  Non-government  Co-ed            Catholic  \n",
       "189  115.740064 -33.270941  Non-government  Co-ed            Catholic  \n",
       "190  115.942305 -32.012479      Government  Co-ed             Secular  \n",
       "191  117.230704 -31.626847      Government  Co-ed             Secular  \n",
       "192  115.901720 -32.056540  Non-government  Co-ed  Brethren Christian  \n",
       "\n",
       "[193 rows x 16 columns]"
      ],
      "text/html": "<div>\n<style scoped>\n    .dataframe tbody tr th:only-of-type {\n        vertical-align: middle;\n    }\n\n    .dataframe tbody tr th {\n        vertical-align: top;\n    }\n\n    .dataframe thead th {\n        text-align: right;\n    }\n</style>\n<table border=\"1\" class=\"dataframe\">\n  <thead>\n    <tr style=\"text-align: right;\">\n      <th></th>\n      <th>School</th>\n      <th>Year</th>\n      <th>Rank</th>\n      <th>Level</th>\n      <th>Reading</th>\n      <th>Writing</th>\n      <th>Spelling</th>\n      <th>Grammar</th>\n      <th>Numeracy</th>\n      <th>Average</th>\n      <th>Suburb</th>\n      <th>Longitude</th>\n      <th>Latitude</th>\n      <th>Sector</th>\n      <th>Gender</th>\n      <th>Religion</th>\n    </tr>\n  </thead>\n  <tbody>\n    <tr>\n      <th>0</th>\n      <td>Perth Modern School</td>\n      <td>2019</td>\n      <td>1</td>\n      <td>Year 9</td>\n      <td>694</td>\n      <td>667</td>\n      <td>695</td>\n      <td>704</td>\n      <td>729</td>\n      <td>697.8</td>\n      <td>Subiaco</td>\n      <td>115.836396</td>\n      <td>-31.945066</td>\n      <td>Government</td>\n      <td>Co-ed</td>\n      <td>Secular</td>\n    </tr>\n    <tr>\n      <th>1</th>\n      <td>St Hilda's Anglican School for Girls</td>\n      <td>2019</td>\n      <td>2</td>\n      <td>Year 9</td>\n      <td>649</td>\n      <td>636</td>\n      <td>631</td>\n      <td>644</td>\n      <td>652</td>\n      <td>642.4</td>\n      <td>Mosman Park</td>\n      <td>115.767812</td>\n      <td>-32.005047</td>\n      <td>Non-government</td>\n      <td>Girls</td>\n      <td>Anglican</td>\n    </tr>\n    <tr>\n      <th>2</th>\n      <td>Presbyterian Ladies' College</td>\n      <td>2019</td>\n      <td>3</td>\n      <td>Year 9</td>\n      <td>641</td>\n      <td>633</td>\n      <td>636</td>\n      <td>637</td>\n      <td>658</td>\n      <td>641.0</td>\n      <td>Peppermint Grove</td>\n      <td>115.764906</td>\n      <td>-31.993592</td>\n      <td>Non-government</td>\n      <td>Girls</td>\n      <td>Uniting</td>\n    </tr>\n    <tr>\n      <th>3</th>\n      <td>St Mary's Anglican Girls' School</td>\n      <td>2019</td>\n      <td>4</td>\n      <td>Year 9</td>\n      <td>640</td>\n      <td>631</td>\n      <td>634</td>\n      <td>637</td>\n      <td>657</td>\n      <td>639.8</td>\n      <td>Karrinyup</td>\n      <td>115.766244</td>\n      <td>-31.876971</td>\n      <td>Non-government</td>\n      <td>Girls</td>\n      <td>Anglican</td>\n    </tr>\n    <tr>\n      <th>4</th>\n      <td>Rehoboth Christian College</td>\n      <td>2019</td>\n      <td>5</td>\n      <td>Year 9</td>\n      <td>633</td>\n      <td>605</td>\n      <td>637</td>\n      <td>641</td>\n      <td>654</td>\n      <td>634.0</td>\n      <td>Kenwick</td>\n      <td>115.977924</td>\n      <td>-32.031619</td>\n      <td>Non-government</td>\n      <td>Co-ed</td>\n      <td>Christian</td>\n    </tr>\n    <tr>\n      <th>...</th>\n      <td>...</td>\n      <td>...</td>\n      <td>...</td>\n      <td>...</td>\n      <td>...</td>\n      <td>...</td>\n      <td>...</td>\n      <td>...</td>\n      <td>...</td>\n      <td>...</td>\n      <td>...</td>\n      <td>...</td>\n      <td>...</td>\n      <td>...</td>\n      <td>...</td>\n      <td>...</td>\n    </tr>\n    <tr>\n      <th>188</th>\n      <td>Mindarie Senior College</td>\n      <td>2019</td>\n      <td>189</td>\n      <td>Year 9</td>\n      <td>0</td>\n      <td>0</td>\n      <td>0</td>\n      <td>0</td>\n      <td>0</td>\n      <td>0.0</td>\n      <td>Mindarie</td>\n      <td>115.706050</td>\n      <td>-31.676979</td>\n      <td>Non-government</td>\n      <td>Co-ed</td>\n      <td>Catholic</td>\n    </tr>\n    <tr>\n      <th>189</th>\n      <td>Our Lady of Mercy College</td>\n      <td>2019</td>\n      <td>190</td>\n      <td>Year 9</td>\n      <td>0</td>\n      <td>0</td>\n      <td>0</td>\n      <td>0</td>\n      <td>0</td>\n      <td>0.0</td>\n      <td>Australind</td>\n      <td>115.740064</td>\n      <td>-33.270941</td>\n      <td>Non-government</td>\n      <td>Co-ed</td>\n      <td>Catholic</td>\n    </tr>\n    <tr>\n      <th>190</th>\n      <td>Sevenoaks Senior College</td>\n      <td>2019</td>\n      <td>191</td>\n      <td>Year 9</td>\n      <td>0</td>\n      <td>0</td>\n      <td>0</td>\n      <td>0</td>\n      <td>0</td>\n      <td>0.0</td>\n      <td>Cannington</td>\n      <td>115.942305</td>\n      <td>-32.012479</td>\n      <td>Government</td>\n      <td>Co-ed</td>\n      <td>Secular</td>\n    </tr>\n    <tr>\n      <th>191</th>\n      <td>Western Australian College Of Agriculture - Cu...</td>\n      <td>2019</td>\n      <td>192</td>\n      <td>Year 9</td>\n      <td>0</td>\n      <td>0</td>\n      <td>0</td>\n      <td>0</td>\n      <td>0</td>\n      <td>0.0</td>\n      <td>Cunderdin</td>\n      <td>117.230704</td>\n      <td>-31.626847</td>\n      <td>Government</td>\n      <td>Co-ed</td>\n      <td>Secular</td>\n    </tr>\n    <tr>\n      <th>192</th>\n      <td>Woodthorpe School</td>\n      <td>2019</td>\n      <td>193</td>\n      <td>Year 9</td>\n      <td>0</td>\n      <td>0</td>\n      <td>0</td>\n      <td>0</td>\n      <td>0</td>\n      <td>0.0</td>\n      <td>Willetton</td>\n      <td>115.901720</td>\n      <td>-32.056540</td>\n      <td>Non-government</td>\n      <td>Co-ed</td>\n      <td>Brethren Christian</td>\n    </tr>\n  </tbody>\n</table>\n<p>193 rows × 16 columns</p>\n</div>"
     },
     "metadata": {},
     "execution_count": 247
    }
   ],
   "source": [
    "# merge \"naplan_coord\" Dataframe with \"sectors\" Dataframe\n",
    "wa_hs_naplan_ratings = pd.merge(naplan_coord, sectors, on='School', how='left')\n",
    "wa_hs_naplan_ratings"
   ]
  },
  {
   "cell_type": "code",
   "execution_count": 248,
   "metadata": {},
   "outputs": [
    {
     "output_type": "execute_result",
     "data": {
      "text/plain": [
       "Empty DataFrame\n",
       "Columns: [School, Year, Rank, Level, Reading, Writing, Spelling, Grammar, Numeracy, Average, Suburb, Longitude, Latitude, Sector, Gender, Religion]\n",
       "Index: []"
      ],
      "text/html": "<div>\n<style scoped>\n    .dataframe tbody tr th:only-of-type {\n        vertical-align: middle;\n    }\n\n    .dataframe tbody tr th {\n        vertical-align: top;\n    }\n\n    .dataframe thead th {\n        text-align: right;\n    }\n</style>\n<table border=\"1\" class=\"dataframe\">\n  <thead>\n    <tr style=\"text-align: right;\">\n      <th></th>\n      <th>School</th>\n      <th>Year</th>\n      <th>Rank</th>\n      <th>Level</th>\n      <th>Reading</th>\n      <th>Writing</th>\n      <th>Spelling</th>\n      <th>Grammar</th>\n      <th>Numeracy</th>\n      <th>Average</th>\n      <th>Suburb</th>\n      <th>Longitude</th>\n      <th>Latitude</th>\n      <th>Sector</th>\n      <th>Gender</th>\n      <th>Religion</th>\n    </tr>\n  </thead>\n  <tbody>\n  </tbody>\n</table>\n</div>"
     },
     "metadata": {},
     "execution_count": 248
    }
   ],
   "source": [
    "# Check for NaN values\n",
    "# creating bool series True for NaN values  \n",
    "bool_series = pd.isnull(wa_hs_naplan_ratings[\"Religion\"])  \n",
    "    \n",
    "# filtering data  \n",
    "# displaying data only with \"Religion\" = NaN  \n",
    "wa_hs_naplan_ratings[bool_series]"
   ]
  },
  {
   "cell_type": "code",
   "execution_count": 249,
   "metadata": {},
   "outputs": [
    {
     "output_type": "execute_result",
     "data": {
      "text/plain": [
       "                                                School  Year  Rank   Level  \\\n",
       "0                                  Perth Modern School  2019     1  Year 9   \n",
       "1                 St Hilda's Anglican School for Girls  2019     2  Year 9   \n",
       "2                         Presbyterian Ladies' College  2019     3  Year 9   \n",
       "3                     St Mary's Anglican Girls' School  2019     4  Year 9   \n",
       "4                           Rehoboth Christian College  2019     5  Year 9   \n",
       "..                                                 ...   ...   ...     ...   \n",
       "188                            Mindarie Senior College  2019   189  Year 9   \n",
       "189                          Our Lady of Mercy College  2019   190  Year 9   \n",
       "190                           Sevenoaks Senior College  2019   191  Year 9   \n",
       "191  Western Australian College Of Agriculture - Cu...  2019   192  Year 9   \n",
       "192                                  Woodthorpe School  2019   193  Year 9   \n",
       "\n",
       "     Reading  Writing  Spelling  Grammar  Numeracy  Average            Suburb  \\\n",
       "0        694      667       695      704       729    697.8           Subiaco   \n",
       "1        649      636       631      644       652    642.4       Mosman Park   \n",
       "2        641      633       636      637       658    641.0  Peppermint Grove   \n",
       "3        640      631       634      637       657    639.8         Karrinyup   \n",
       "4        633      605       637      641       654    634.0           Kenwick   \n",
       "..       ...      ...       ...      ...       ...      ...               ...   \n",
       "188        0        0         0        0         0      0.0          Mindarie   \n",
       "189        0        0         0        0         0      0.0        Australind   \n",
       "190        0        0         0        0         0      0.0        Cannington   \n",
       "191        0        0         0        0         0      0.0         Cunderdin   \n",
       "192        0        0         0        0         0      0.0         Willetton   \n",
       "\n",
       "      Longitude   Latitude          Sector Gender            Religion ICSEA  \n",
       "0    115.836396 -31.945066      Government  Co-ed             Secular  1239  \n",
       "1    115.767812 -32.005047  Non-government  Girls            Anglican  1197  \n",
       "2    115.764906 -31.993592  Non-government  Girls             Uniting  1111  \n",
       "3    115.766244 -31.876971  Non-government  Girls            Anglican  1158  \n",
       "4    115.977924 -32.031619  Non-government  Co-ed           Christian  1114  \n",
       "..          ...        ...             ...    ...                 ...   ...  \n",
       "188  115.706050 -31.676979  Non-government  Co-ed            Catholic  1034  \n",
       "189  115.740064 -33.270941  Non-government  Co-ed            Catholic  1035  \n",
       "190  115.942305 -32.012479      Government  Co-ed             Secular   976  \n",
       "191  117.230704 -31.626847      Government  Co-ed             Secular  1009  \n",
       "192  115.901720 -32.056540  Non-government  Co-ed  Brethren Christian   983  \n",
       "\n",
       "[193 rows x 17 columns]"
      ],
      "text/html": "<div>\n<style scoped>\n    .dataframe tbody tr th:only-of-type {\n        vertical-align: middle;\n    }\n\n    .dataframe tbody tr th {\n        vertical-align: top;\n    }\n\n    .dataframe thead th {\n        text-align: right;\n    }\n</style>\n<table border=\"1\" class=\"dataframe\">\n  <thead>\n    <tr style=\"text-align: right;\">\n      <th></th>\n      <th>School</th>\n      <th>Year</th>\n      <th>Rank</th>\n      <th>Level</th>\n      <th>Reading</th>\n      <th>Writing</th>\n      <th>Spelling</th>\n      <th>Grammar</th>\n      <th>Numeracy</th>\n      <th>Average</th>\n      <th>Suburb</th>\n      <th>Longitude</th>\n      <th>Latitude</th>\n      <th>Sector</th>\n      <th>Gender</th>\n      <th>Religion</th>\n      <th>ICSEA</th>\n    </tr>\n  </thead>\n  <tbody>\n    <tr>\n      <th>0</th>\n      <td>Perth Modern School</td>\n      <td>2019</td>\n      <td>1</td>\n      <td>Year 9</td>\n      <td>694</td>\n      <td>667</td>\n      <td>695</td>\n      <td>704</td>\n      <td>729</td>\n      <td>697.8</td>\n      <td>Subiaco</td>\n      <td>115.836396</td>\n      <td>-31.945066</td>\n      <td>Government</td>\n      <td>Co-ed</td>\n      <td>Secular</td>\n      <td>1239</td>\n    </tr>\n    <tr>\n      <th>1</th>\n      <td>St Hilda's Anglican School for Girls</td>\n      <td>2019</td>\n      <td>2</td>\n      <td>Year 9</td>\n      <td>649</td>\n      <td>636</td>\n      <td>631</td>\n      <td>644</td>\n      <td>652</td>\n      <td>642.4</td>\n      <td>Mosman Park</td>\n      <td>115.767812</td>\n      <td>-32.005047</td>\n      <td>Non-government</td>\n      <td>Girls</td>\n      <td>Anglican</td>\n      <td>1197</td>\n    </tr>\n    <tr>\n      <th>2</th>\n      <td>Presbyterian Ladies' College</td>\n      <td>2019</td>\n      <td>3</td>\n      <td>Year 9</td>\n      <td>641</td>\n      <td>633</td>\n      <td>636</td>\n      <td>637</td>\n      <td>658</td>\n      <td>641.0</td>\n      <td>Peppermint Grove</td>\n      <td>115.764906</td>\n      <td>-31.993592</td>\n      <td>Non-government</td>\n      <td>Girls</td>\n      <td>Uniting</td>\n      <td>1111</td>\n    </tr>\n    <tr>\n      <th>3</th>\n      <td>St Mary's Anglican Girls' School</td>\n      <td>2019</td>\n      <td>4</td>\n      <td>Year 9</td>\n      <td>640</td>\n      <td>631</td>\n      <td>634</td>\n      <td>637</td>\n      <td>657</td>\n      <td>639.8</td>\n      <td>Karrinyup</td>\n      <td>115.766244</td>\n      <td>-31.876971</td>\n      <td>Non-government</td>\n      <td>Girls</td>\n      <td>Anglican</td>\n      <td>1158</td>\n    </tr>\n    <tr>\n      <th>4</th>\n      <td>Rehoboth Christian College</td>\n      <td>2019</td>\n      <td>5</td>\n      <td>Year 9</td>\n      <td>633</td>\n      <td>605</td>\n      <td>637</td>\n      <td>641</td>\n      <td>654</td>\n      <td>634.0</td>\n      <td>Kenwick</td>\n      <td>115.977924</td>\n      <td>-32.031619</td>\n      <td>Non-government</td>\n      <td>Co-ed</td>\n      <td>Christian</td>\n      <td>1114</td>\n    </tr>\n    <tr>\n      <th>...</th>\n      <td>...</td>\n      <td>...</td>\n      <td>...</td>\n      <td>...</td>\n      <td>...</td>\n      <td>...</td>\n      <td>...</td>\n      <td>...</td>\n      <td>...</td>\n      <td>...</td>\n      <td>...</td>\n      <td>...</td>\n      <td>...</td>\n      <td>...</td>\n      <td>...</td>\n      <td>...</td>\n      <td>...</td>\n    </tr>\n    <tr>\n      <th>188</th>\n      <td>Mindarie Senior College</td>\n      <td>2019</td>\n      <td>189</td>\n      <td>Year 9</td>\n      <td>0</td>\n      <td>0</td>\n      <td>0</td>\n      <td>0</td>\n      <td>0</td>\n      <td>0.0</td>\n      <td>Mindarie</td>\n      <td>115.706050</td>\n      <td>-31.676979</td>\n      <td>Non-government</td>\n      <td>Co-ed</td>\n      <td>Catholic</td>\n      <td>1034</td>\n    </tr>\n    <tr>\n      <th>189</th>\n      <td>Our Lady of Mercy College</td>\n      <td>2019</td>\n      <td>190</td>\n      <td>Year 9</td>\n      <td>0</td>\n      <td>0</td>\n      <td>0</td>\n      <td>0</td>\n      <td>0</td>\n      <td>0.0</td>\n      <td>Australind</td>\n      <td>115.740064</td>\n      <td>-33.270941</td>\n      <td>Non-government</td>\n      <td>Co-ed</td>\n      <td>Catholic</td>\n      <td>1035</td>\n    </tr>\n    <tr>\n      <th>190</th>\n      <td>Sevenoaks Senior College</td>\n      <td>2019</td>\n      <td>191</td>\n      <td>Year 9</td>\n      <td>0</td>\n      <td>0</td>\n      <td>0</td>\n      <td>0</td>\n      <td>0</td>\n      <td>0.0</td>\n      <td>Cannington</td>\n      <td>115.942305</td>\n      <td>-32.012479</td>\n      <td>Government</td>\n      <td>Co-ed</td>\n      <td>Secular</td>\n      <td>976</td>\n    </tr>\n    <tr>\n      <th>191</th>\n      <td>Western Australian College Of Agriculture - Cu...</td>\n      <td>2019</td>\n      <td>192</td>\n      <td>Year 9</td>\n      <td>0</td>\n      <td>0</td>\n      <td>0</td>\n      <td>0</td>\n      <td>0</td>\n      <td>0.0</td>\n      <td>Cunderdin</td>\n      <td>117.230704</td>\n      <td>-31.626847</td>\n      <td>Government</td>\n      <td>Co-ed</td>\n      <td>Secular</td>\n      <td>1009</td>\n    </tr>\n    <tr>\n      <th>192</th>\n      <td>Woodthorpe School</td>\n      <td>2019</td>\n      <td>193</td>\n      <td>Year 9</td>\n      <td>0</td>\n      <td>0</td>\n      <td>0</td>\n      <td>0</td>\n      <td>0</td>\n      <td>0.0</td>\n      <td>Willetton</td>\n      <td>115.901720</td>\n      <td>-32.056540</td>\n      <td>Non-government</td>\n      <td>Co-ed</td>\n      <td>Brethren Christian</td>\n      <td>983</td>\n    </tr>\n  </tbody>\n</table>\n<p>193 rows × 17 columns</p>\n</div>"
     },
     "metadata": {},
     "execution_count": 249
    }
   ],
   "source": [
    "# merge \"wa_hs_naplan_ratings\" Dataframe with \"icsea\" Dataframe\n",
    "wa_hs_naplan_ratings_2019 = pd.merge(wa_hs_naplan_ratings, icsea_full, on='School', how='left')\n",
    "wa_hs_naplan_ratings_2019"
   ]
  },
  {
   "cell_type": "code",
   "execution_count": 250,
   "metadata": {},
   "outputs": [
    {
     "output_type": "execute_result",
     "data": {
      "text/plain": [
       "Empty DataFrame\n",
       "Columns: [School, Year, Rank, Level, Reading, Writing, Spelling, Grammar, Numeracy, Average, Suburb, Longitude, Latitude, Sector, Gender, Religion, ICSEA]\n",
       "Index: []"
      ],
      "text/html": "<div>\n<style scoped>\n    .dataframe tbody tr th:only-of-type {\n        vertical-align: middle;\n    }\n\n    .dataframe tbody tr th {\n        vertical-align: top;\n    }\n\n    .dataframe thead th {\n        text-align: right;\n    }\n</style>\n<table border=\"1\" class=\"dataframe\">\n  <thead>\n    <tr style=\"text-align: right;\">\n      <th></th>\n      <th>School</th>\n      <th>Year</th>\n      <th>Rank</th>\n      <th>Level</th>\n      <th>Reading</th>\n      <th>Writing</th>\n      <th>Spelling</th>\n      <th>Grammar</th>\n      <th>Numeracy</th>\n      <th>Average</th>\n      <th>Suburb</th>\n      <th>Longitude</th>\n      <th>Latitude</th>\n      <th>Sector</th>\n      <th>Gender</th>\n      <th>Religion</th>\n      <th>ICSEA</th>\n    </tr>\n  </thead>\n  <tbody>\n  </tbody>\n</table>\n</div>"
     },
     "metadata": {},
     "execution_count": 250
    }
   ],
   "source": [
    "# Check for NaN values\n",
    "# creating bool series True for NaN values  \n",
    "bool_series = pd.isnull(wa_hs_naplan_ratings_2019[\"ICSEA\"])  \n",
    "    \n",
    "# filtering data  \n",
    "# displaying data only with \"Religion\" = NaN  \n",
    "wa_hs_naplan_ratings_2019[bool_series]"
   ]
  },
  {
   "source": [
    "## Load all the created ATAR, ICSEA & NAPLAN Dataframes/tables to the PostgreSQL database"
   ],
   "cell_type": "markdown",
   "metadata": {}
  },
  {
   "cell_type": "code",
   "execution_count": 251,
   "metadata": {},
   "outputs": [
    {
     "output_type": "execute_result",
     "data": {
      "text/plain": [
       "                                                    Year  Rank   Level  \\\n",
       "School                                                                   \n",
       "Perth Modern School                                 2019     1  Year 9   \n",
       "St Hilda's Anglican School for Girls                2019     2  Year 9   \n",
       "Presbyterian Ladies' College                        2019     3  Year 9   \n",
       "St Mary's Anglican Girls' School                    2019     4  Year 9   \n",
       "Rehoboth Christian College                          2019     5  Year 9   \n",
       "...                                                  ...   ...     ...   \n",
       "Mindarie Senior College                             2019   189  Year 9   \n",
       "Our Lady of Mercy College                           2019   190  Year 9   \n",
       "Sevenoaks Senior College                            2019   191  Year 9   \n",
       "Western Australian College Of Agriculture - Cun...  2019   192  Year 9   \n",
       "Woodthorpe School                                   2019   193  Year 9   \n",
       "\n",
       "                                                    Reading  Writing  \\\n",
       "School                                                                 \n",
       "Perth Modern School                                     694      667   \n",
       "St Hilda's Anglican School for Girls                    649      636   \n",
       "Presbyterian Ladies' College                            641      633   \n",
       "St Mary's Anglican Girls' School                        640      631   \n",
       "Rehoboth Christian College                              633      605   \n",
       "...                                                     ...      ...   \n",
       "Mindarie Senior College                                   0        0   \n",
       "Our Lady of Mercy College                                 0        0   \n",
       "Sevenoaks Senior College                                  0        0   \n",
       "Western Australian College Of Agriculture - Cun...        0        0   \n",
       "Woodthorpe School                                         0        0   \n",
       "\n",
       "                                                    Spelling  Grammar  \\\n",
       "School                                                                  \n",
       "Perth Modern School                                      695      704   \n",
       "St Hilda's Anglican School for Girls                     631      644   \n",
       "Presbyterian Ladies' College                             636      637   \n",
       "St Mary's Anglican Girls' School                         634      637   \n",
       "Rehoboth Christian College                               637      641   \n",
       "...                                                      ...      ...   \n",
       "Mindarie Senior College                                    0        0   \n",
       "Our Lady of Mercy College                                  0        0   \n",
       "Sevenoaks Senior College                                   0        0   \n",
       "Western Australian College Of Agriculture - Cun...         0        0   \n",
       "Woodthorpe School                                          0        0   \n",
       "\n",
       "                                                    Numeracy  Average  \\\n",
       "School                                                                  \n",
       "Perth Modern School                                      729    697.8   \n",
       "St Hilda's Anglican School for Girls                     652    642.4   \n",
       "Presbyterian Ladies' College                             658    641.0   \n",
       "St Mary's Anglican Girls' School                         657    639.8   \n",
       "Rehoboth Christian College                               654    634.0   \n",
       "...                                                      ...      ...   \n",
       "Mindarie Senior College                                    0      0.0   \n",
       "Our Lady of Mercy College                                  0      0.0   \n",
       "Sevenoaks Senior College                                   0      0.0   \n",
       "Western Australian College Of Agriculture - Cun...         0      0.0   \n",
       "Woodthorpe School                                          0      0.0   \n",
       "\n",
       "                                                              Suburb  \\\n",
       "School                                                                 \n",
       "Perth Modern School                                          Subiaco   \n",
       "St Hilda's Anglican School for Girls                     Mosman Park   \n",
       "Presbyterian Ladies' College                        Peppermint Grove   \n",
       "St Mary's Anglican Girls' School                           Karrinyup   \n",
       "Rehoboth Christian College                                   Kenwick   \n",
       "...                                                              ...   \n",
       "Mindarie Senior College                                     Mindarie   \n",
       "Our Lady of Mercy College                                 Australind   \n",
       "Sevenoaks Senior College                                  Cannington   \n",
       "Western Australian College Of Agriculture - Cun...         Cunderdin   \n",
       "Woodthorpe School                                          Willetton   \n",
       "\n",
       "                                                     Longitude   Latitude  \\\n",
       "School                                                                      \n",
       "Perth Modern School                                 115.836396 -31.945066   \n",
       "St Hilda's Anglican School for Girls                115.767812 -32.005047   \n",
       "Presbyterian Ladies' College                        115.764906 -31.993592   \n",
       "St Mary's Anglican Girls' School                    115.766244 -31.876971   \n",
       "Rehoboth Christian College                          115.977924 -32.031619   \n",
       "...                                                        ...        ...   \n",
       "Mindarie Senior College                             115.706050 -31.676979   \n",
       "Our Lady of Mercy College                           115.740064 -33.270941   \n",
       "Sevenoaks Senior College                            115.942305 -32.012479   \n",
       "Western Australian College Of Agriculture - Cun...  117.230704 -31.626847   \n",
       "Woodthorpe School                                   115.901720 -32.056540   \n",
       "\n",
       "                                                            Sector Gender  \\\n",
       "School                                                                      \n",
       "Perth Modern School                                     Government  Co-ed   \n",
       "St Hilda's Anglican School for Girls                Non-government  Girls   \n",
       "Presbyterian Ladies' College                        Non-government  Girls   \n",
       "St Mary's Anglican Girls' School                    Non-government  Girls   \n",
       "Rehoboth Christian College                          Non-government  Co-ed   \n",
       "...                                                            ...    ...   \n",
       "Mindarie Senior College                             Non-government  Co-ed   \n",
       "Our Lady of Mercy College                           Non-government  Co-ed   \n",
       "Sevenoaks Senior College                                Government  Co-ed   \n",
       "Western Australian College Of Agriculture - Cun...      Government  Co-ed   \n",
       "Woodthorpe School                                   Non-government  Co-ed   \n",
       "\n",
       "                                                              Religion ICSEA  \n",
       "School                                                                        \n",
       "Perth Modern School                                            Secular  1239  \n",
       "St Hilda's Anglican School for Girls                          Anglican  1197  \n",
       "Presbyterian Ladies' College                                   Uniting  1111  \n",
       "St Mary's Anglican Girls' School                              Anglican  1158  \n",
       "Rehoboth Christian College                                   Christian  1114  \n",
       "...                                                                ...   ...  \n",
       "Mindarie Senior College                                       Catholic  1034  \n",
       "Our Lady of Mercy College                                     Catholic  1035  \n",
       "Sevenoaks Senior College                                       Secular   976  \n",
       "Western Australian College Of Agriculture - Cun...             Secular  1009  \n",
       "Woodthorpe School                                   Brethren Christian   983  \n",
       "\n",
       "[193 rows x 16 columns]"
      ],
      "text/html": "<div>\n<style scoped>\n    .dataframe tbody tr th:only-of-type {\n        vertical-align: middle;\n    }\n\n    .dataframe tbody tr th {\n        vertical-align: top;\n    }\n\n    .dataframe thead th {\n        text-align: right;\n    }\n</style>\n<table border=\"1\" class=\"dataframe\">\n  <thead>\n    <tr style=\"text-align: right;\">\n      <th></th>\n      <th>Year</th>\n      <th>Rank</th>\n      <th>Level</th>\n      <th>Reading</th>\n      <th>Writing</th>\n      <th>Spelling</th>\n      <th>Grammar</th>\n      <th>Numeracy</th>\n      <th>Average</th>\n      <th>Suburb</th>\n      <th>Longitude</th>\n      <th>Latitude</th>\n      <th>Sector</th>\n      <th>Gender</th>\n      <th>Religion</th>\n      <th>ICSEA</th>\n    </tr>\n    <tr>\n      <th>School</th>\n      <th></th>\n      <th></th>\n      <th></th>\n      <th></th>\n      <th></th>\n      <th></th>\n      <th></th>\n      <th></th>\n      <th></th>\n      <th></th>\n      <th></th>\n      <th></th>\n      <th></th>\n      <th></th>\n      <th></th>\n      <th></th>\n    </tr>\n  </thead>\n  <tbody>\n    <tr>\n      <th>Perth Modern School</th>\n      <td>2019</td>\n      <td>1</td>\n      <td>Year 9</td>\n      <td>694</td>\n      <td>667</td>\n      <td>695</td>\n      <td>704</td>\n      <td>729</td>\n      <td>697.8</td>\n      <td>Subiaco</td>\n      <td>115.836396</td>\n      <td>-31.945066</td>\n      <td>Government</td>\n      <td>Co-ed</td>\n      <td>Secular</td>\n      <td>1239</td>\n    </tr>\n    <tr>\n      <th>St Hilda's Anglican School for Girls</th>\n      <td>2019</td>\n      <td>2</td>\n      <td>Year 9</td>\n      <td>649</td>\n      <td>636</td>\n      <td>631</td>\n      <td>644</td>\n      <td>652</td>\n      <td>642.4</td>\n      <td>Mosman Park</td>\n      <td>115.767812</td>\n      <td>-32.005047</td>\n      <td>Non-government</td>\n      <td>Girls</td>\n      <td>Anglican</td>\n      <td>1197</td>\n    </tr>\n    <tr>\n      <th>Presbyterian Ladies' College</th>\n      <td>2019</td>\n      <td>3</td>\n      <td>Year 9</td>\n      <td>641</td>\n      <td>633</td>\n      <td>636</td>\n      <td>637</td>\n      <td>658</td>\n      <td>641.0</td>\n      <td>Peppermint Grove</td>\n      <td>115.764906</td>\n      <td>-31.993592</td>\n      <td>Non-government</td>\n      <td>Girls</td>\n      <td>Uniting</td>\n      <td>1111</td>\n    </tr>\n    <tr>\n      <th>St Mary's Anglican Girls' School</th>\n      <td>2019</td>\n      <td>4</td>\n      <td>Year 9</td>\n      <td>640</td>\n      <td>631</td>\n      <td>634</td>\n      <td>637</td>\n      <td>657</td>\n      <td>639.8</td>\n      <td>Karrinyup</td>\n      <td>115.766244</td>\n      <td>-31.876971</td>\n      <td>Non-government</td>\n      <td>Girls</td>\n      <td>Anglican</td>\n      <td>1158</td>\n    </tr>\n    <tr>\n      <th>Rehoboth Christian College</th>\n      <td>2019</td>\n      <td>5</td>\n      <td>Year 9</td>\n      <td>633</td>\n      <td>605</td>\n      <td>637</td>\n      <td>641</td>\n      <td>654</td>\n      <td>634.0</td>\n      <td>Kenwick</td>\n      <td>115.977924</td>\n      <td>-32.031619</td>\n      <td>Non-government</td>\n      <td>Co-ed</td>\n      <td>Christian</td>\n      <td>1114</td>\n    </tr>\n    <tr>\n      <th>...</th>\n      <td>...</td>\n      <td>...</td>\n      <td>...</td>\n      <td>...</td>\n      <td>...</td>\n      <td>...</td>\n      <td>...</td>\n      <td>...</td>\n      <td>...</td>\n      <td>...</td>\n      <td>...</td>\n      <td>...</td>\n      <td>...</td>\n      <td>...</td>\n      <td>...</td>\n      <td>...</td>\n    </tr>\n    <tr>\n      <th>Mindarie Senior College</th>\n      <td>2019</td>\n      <td>189</td>\n      <td>Year 9</td>\n      <td>0</td>\n      <td>0</td>\n      <td>0</td>\n      <td>0</td>\n      <td>0</td>\n      <td>0.0</td>\n      <td>Mindarie</td>\n      <td>115.706050</td>\n      <td>-31.676979</td>\n      <td>Non-government</td>\n      <td>Co-ed</td>\n      <td>Catholic</td>\n      <td>1034</td>\n    </tr>\n    <tr>\n      <th>Our Lady of Mercy College</th>\n      <td>2019</td>\n      <td>190</td>\n      <td>Year 9</td>\n      <td>0</td>\n      <td>0</td>\n      <td>0</td>\n      <td>0</td>\n      <td>0</td>\n      <td>0.0</td>\n      <td>Australind</td>\n      <td>115.740064</td>\n      <td>-33.270941</td>\n      <td>Non-government</td>\n      <td>Co-ed</td>\n      <td>Catholic</td>\n      <td>1035</td>\n    </tr>\n    <tr>\n      <th>Sevenoaks Senior College</th>\n      <td>2019</td>\n      <td>191</td>\n      <td>Year 9</td>\n      <td>0</td>\n      <td>0</td>\n      <td>0</td>\n      <td>0</td>\n      <td>0</td>\n      <td>0.0</td>\n      <td>Cannington</td>\n      <td>115.942305</td>\n      <td>-32.012479</td>\n      <td>Government</td>\n      <td>Co-ed</td>\n      <td>Secular</td>\n      <td>976</td>\n    </tr>\n    <tr>\n      <th>Western Australian College Of Agriculture - Cunderdin</th>\n      <td>2019</td>\n      <td>192</td>\n      <td>Year 9</td>\n      <td>0</td>\n      <td>0</td>\n      <td>0</td>\n      <td>0</td>\n      <td>0</td>\n      <td>0.0</td>\n      <td>Cunderdin</td>\n      <td>117.230704</td>\n      <td>-31.626847</td>\n      <td>Government</td>\n      <td>Co-ed</td>\n      <td>Secular</td>\n      <td>1009</td>\n    </tr>\n    <tr>\n      <th>Woodthorpe School</th>\n      <td>2019</td>\n      <td>193</td>\n      <td>Year 9</td>\n      <td>0</td>\n      <td>0</td>\n      <td>0</td>\n      <td>0</td>\n      <td>0</td>\n      <td>0.0</td>\n      <td>Willetton</td>\n      <td>115.901720</td>\n      <td>-32.056540</td>\n      <td>Non-government</td>\n      <td>Co-ed</td>\n      <td>Brethren Christian</td>\n      <td>983</td>\n    </tr>\n  </tbody>\n</table>\n<p>193 rows × 16 columns</p>\n</div>"
     },
     "metadata": {},
     "execution_count": 251
    }
   ],
   "source": [
    "# set the column \"School\" as the index for the \"wa_hs_naplan_ratings_2019\" Dataframe\n",
    "naplan_db = wa_hs_naplan_ratings_2019.set_index('School')\n",
    "naplan_db"
   ]
  },
  {
   "cell_type": "code",
   "execution_count": 252,
   "metadata": {},
   "outputs": [
    {
     "output_type": "execute_result",
     "data": {
      "text/plain": [
       "                                 Year  Rank  Median ATAR  \\\n",
       "School                                                     \n",
       "Perth Modern School              2016     1        95.55   \n",
       "Presbyterian Ladies' College     2016     2        92.90   \n",
       "Penrhos College                  2016     3        92.65   \n",
       "Christ Church Grammar School     2016     4        92.50   \n",
       "Santa Maria College              2016     5        91.85   \n",
       "...                               ...   ...          ...   \n",
       "Thornlie Senior High School      2016   139        58.45   \n",
       "Lakeland Senior High School      2016   140        57.70   \n",
       "Newton Moore Senior High School  2016   141        56.95   \n",
       "Foundation Christian College     2016   142        50.65   \n",
       "Warnbro Community High School    2016   143        45.30   \n",
       "\n",
       "                                 No. eligible Yr 12 students  \\\n",
       "School                                                         \n",
       "Perth Modern School                                      222   \n",
       "Presbyterian Ladies' College                             122   \n",
       "Penrhos College                                          145   \n",
       "Christ Church Grammar School                             188   \n",
       "Santa Maria College                                      189   \n",
       "...                                                      ...   \n",
       "Thornlie Senior High School                              125   \n",
       "Lakeland Senior High School                               89   \n",
       "Newton Moore Senior High School                           90   \n",
       "Foundation Christian College                              35   \n",
       "Warnbro Community High School                            171   \n",
       "\n",
       "                                 No. Students with an ATAR  \\\n",
       "School                                                       \n",
       "Perth Modern School                                    220   \n",
       "Presbyterian Ladies' College                           110   \n",
       "Penrhos College                                        123   \n",
       "Christ Church Grammar School                           171   \n",
       "Santa Maria College                                    151   \n",
       "...                                                    ...   \n",
       "Thornlie Senior High School                             35   \n",
       "Lakeland Senior High School                             27   \n",
       "Newton Moore Senior High School                         35   \n",
       "Foundation Christian College                            26   \n",
       "Warnbro Community High School                           48   \n",
       "\n",
       "                                 Percentage of students with an ATAR  \\\n",
       "School                                                                 \n",
       "Perth Modern School                                            99.10   \n",
       "Presbyterian Ladies' College                                   90.16   \n",
       "Penrhos College                                                84.83   \n",
       "Christ Church Grammar School                                   90.96   \n",
       "Santa Maria College                                            79.89   \n",
       "...                                                              ...   \n",
       "Thornlie Senior High School                                    28.00   \n",
       "Lakeland Senior High School                                    30.34   \n",
       "Newton Moore Senior High School                                38.89   \n",
       "Foundation Christian College                                   74.29   \n",
       "Warnbro Community High School                                  28.07   \n",
       "\n",
       "                                           Suburb   Longitude   Latitude  \\\n",
       "School                                                                     \n",
       "Perth Modern School                       Subiaco  115.836396 -31.945066   \n",
       "Presbyterian Ladies' College     Peppermint Grove  115.764906 -31.993592   \n",
       "Penrhos College                              Como  115.872539 -31.997431   \n",
       "Christ Church Grammar School            Claremont  115.776987 -31.985461   \n",
       "Santa Maria College                      Attadale  115.795823 -32.018614   \n",
       "...                                           ...         ...        ...   \n",
       "Thornlie Senior High School              Thornlie  115.959641 -32.066276   \n",
       "Lakeland Senior High School            South Lake  115.845914 -32.109055   \n",
       "Newton Moore Senior High School     South Bunbury  115.635421 -33.359211   \n",
       "Foundation Christian College          Greenfields  115.762289 -32.529316   \n",
       "Warnbro Community High School             Warnbro  115.759096 -32.345569   \n",
       "\n",
       "                                         Sector Gender   Religion  \n",
       "School                                                             \n",
       "Perth Modern School                  Government  Co-ed    Secular  \n",
       "Presbyterian Ladies' College     Non-government  Girls    Uniting  \n",
       "Penrhos College                  Non-government  Girls    Uniting  \n",
       "Christ Church Grammar School     Non-government   Boys   Anglican  \n",
       "Santa Maria College              Non-government  Girls   Catholic  \n",
       "...                                         ...    ...        ...  \n",
       "Thornlie Senior High School          Government  Co-ed    Secular  \n",
       "Lakeland Senior High School          Government  Co-ed    Secular  \n",
       "Newton Moore Senior High School      Government  Co-ed    Secular  \n",
       "Foundation Christian College     Non-government  Co-ed  Christian  \n",
       "Warnbro Community High School        Government  Co-ed    Secular  \n",
       "\n",
       "[143 rows x 12 columns]"
      ],
      "text/html": "<div>\n<style scoped>\n    .dataframe tbody tr th:only-of-type {\n        vertical-align: middle;\n    }\n\n    .dataframe tbody tr th {\n        vertical-align: top;\n    }\n\n    .dataframe thead th {\n        text-align: right;\n    }\n</style>\n<table border=\"1\" class=\"dataframe\">\n  <thead>\n    <tr style=\"text-align: right;\">\n      <th></th>\n      <th>Year</th>\n      <th>Rank</th>\n      <th>Median ATAR</th>\n      <th>No. eligible Yr 12 students</th>\n      <th>No. Students with an ATAR</th>\n      <th>Percentage of students with an ATAR</th>\n      <th>Suburb</th>\n      <th>Longitude</th>\n      <th>Latitude</th>\n      <th>Sector</th>\n      <th>Gender</th>\n      <th>Religion</th>\n    </tr>\n    <tr>\n      <th>School</th>\n      <th></th>\n      <th></th>\n      <th></th>\n      <th></th>\n      <th></th>\n      <th></th>\n      <th></th>\n      <th></th>\n      <th></th>\n      <th></th>\n      <th></th>\n      <th></th>\n    </tr>\n  </thead>\n  <tbody>\n    <tr>\n      <th>Perth Modern School</th>\n      <td>2016</td>\n      <td>1</td>\n      <td>95.55</td>\n      <td>222</td>\n      <td>220</td>\n      <td>99.10</td>\n      <td>Subiaco</td>\n      <td>115.836396</td>\n      <td>-31.945066</td>\n      <td>Government</td>\n      <td>Co-ed</td>\n      <td>Secular</td>\n    </tr>\n    <tr>\n      <th>Presbyterian Ladies' College</th>\n      <td>2016</td>\n      <td>2</td>\n      <td>92.90</td>\n      <td>122</td>\n      <td>110</td>\n      <td>90.16</td>\n      <td>Peppermint Grove</td>\n      <td>115.764906</td>\n      <td>-31.993592</td>\n      <td>Non-government</td>\n      <td>Girls</td>\n      <td>Uniting</td>\n    </tr>\n    <tr>\n      <th>Penrhos College</th>\n      <td>2016</td>\n      <td>3</td>\n      <td>92.65</td>\n      <td>145</td>\n      <td>123</td>\n      <td>84.83</td>\n      <td>Como</td>\n      <td>115.872539</td>\n      <td>-31.997431</td>\n      <td>Non-government</td>\n      <td>Girls</td>\n      <td>Uniting</td>\n    </tr>\n    <tr>\n      <th>Christ Church Grammar School</th>\n      <td>2016</td>\n      <td>4</td>\n      <td>92.50</td>\n      <td>188</td>\n      <td>171</td>\n      <td>90.96</td>\n      <td>Claremont</td>\n      <td>115.776987</td>\n      <td>-31.985461</td>\n      <td>Non-government</td>\n      <td>Boys</td>\n      <td>Anglican</td>\n    </tr>\n    <tr>\n      <th>Santa Maria College</th>\n      <td>2016</td>\n      <td>5</td>\n      <td>91.85</td>\n      <td>189</td>\n      <td>151</td>\n      <td>79.89</td>\n      <td>Attadale</td>\n      <td>115.795823</td>\n      <td>-32.018614</td>\n      <td>Non-government</td>\n      <td>Girls</td>\n      <td>Catholic</td>\n    </tr>\n    <tr>\n      <th>...</th>\n      <td>...</td>\n      <td>...</td>\n      <td>...</td>\n      <td>...</td>\n      <td>...</td>\n      <td>...</td>\n      <td>...</td>\n      <td>...</td>\n      <td>...</td>\n      <td>...</td>\n      <td>...</td>\n      <td>...</td>\n    </tr>\n    <tr>\n      <th>Thornlie Senior High School</th>\n      <td>2016</td>\n      <td>139</td>\n      <td>58.45</td>\n      <td>125</td>\n      <td>35</td>\n      <td>28.00</td>\n      <td>Thornlie</td>\n      <td>115.959641</td>\n      <td>-32.066276</td>\n      <td>Government</td>\n      <td>Co-ed</td>\n      <td>Secular</td>\n    </tr>\n    <tr>\n      <th>Lakeland Senior High School</th>\n      <td>2016</td>\n      <td>140</td>\n      <td>57.70</td>\n      <td>89</td>\n      <td>27</td>\n      <td>30.34</td>\n      <td>South Lake</td>\n      <td>115.845914</td>\n      <td>-32.109055</td>\n      <td>Government</td>\n      <td>Co-ed</td>\n      <td>Secular</td>\n    </tr>\n    <tr>\n      <th>Newton Moore Senior High School</th>\n      <td>2016</td>\n      <td>141</td>\n      <td>56.95</td>\n      <td>90</td>\n      <td>35</td>\n      <td>38.89</td>\n      <td>South Bunbury</td>\n      <td>115.635421</td>\n      <td>-33.359211</td>\n      <td>Government</td>\n      <td>Co-ed</td>\n      <td>Secular</td>\n    </tr>\n    <tr>\n      <th>Foundation Christian College</th>\n      <td>2016</td>\n      <td>142</td>\n      <td>50.65</td>\n      <td>35</td>\n      <td>26</td>\n      <td>74.29</td>\n      <td>Greenfields</td>\n      <td>115.762289</td>\n      <td>-32.529316</td>\n      <td>Non-government</td>\n      <td>Co-ed</td>\n      <td>Christian</td>\n    </tr>\n    <tr>\n      <th>Warnbro Community High School</th>\n      <td>2016</td>\n      <td>143</td>\n      <td>45.30</td>\n      <td>171</td>\n      <td>48</td>\n      <td>28.07</td>\n      <td>Warnbro</td>\n      <td>115.759096</td>\n      <td>-32.345569</td>\n      <td>Government</td>\n      <td>Co-ed</td>\n      <td>Secular</td>\n    </tr>\n  </tbody>\n</table>\n<p>143 rows × 12 columns</p>\n</div>"
     },
     "metadata": {},
     "execution_count": 252
    }
   ],
   "source": [
    "# set the column \"School\" as the index for the \"wa_hs_atar_2016\" Dataframe\n",
    "atar_2016_db = wa_hs_atar_2016.set_index('School')\n",
    "atar_2016_db"
   ]
  },
  {
   "cell_type": "code",
   "execution_count": 253,
   "metadata": {},
   "outputs": [
    {
     "output_type": "execute_result",
     "data": {
      "text/plain": [
       "                                      Year  Rank  Median ATAR  \\\n",
       "School                                                          \n",
       "Perth Modern School                   2017     1        95.90   \n",
       "St Hilda's Anglican School for Girls  2017     2        93.60   \n",
       "Christ Church Grammar School          2017     3        92.45   \n",
       "Penrhos College                       2017     4        91.20   \n",
       "St Mary's Anglican Girls' School      2017     5        90.95   \n",
       "...                                    ...   ...          ...   \n",
       "Butler College                        2017   142        57.25   \n",
       "Warnbro Community High School         2017   143        56.35   \n",
       "Safety Bay Senior High School         2017   144        56.05   \n",
       "Southern River College                2017   145        55.40   \n",
       "Hedland Senior High School            2017   146        52.45   \n",
       "\n",
       "                                      No. eligible Yr 12 students  \\\n",
       "School                                                              \n",
       "Perth Modern School                                           223   \n",
       "St Hilda's Anglican School for Girls                          142   \n",
       "Christ Church Grammar School                                  182   \n",
       "Penrhos College                                               139   \n",
       "St Mary's Anglican Girls' School                              174   \n",
       "...                                                           ...   \n",
       "Butler College                                                214   \n",
       "Warnbro Community High School                                  99   \n",
       "Safety Bay Senior High School                                 130   \n",
       "Southern River College                                         96   \n",
       "Hedland Senior High School                                     90   \n",
       "\n",
       "                                      No. Students with an ATAR  \\\n",
       "School                                                            \n",
       "Perth Modern School                                         222   \n",
       "St Hilda's Anglican School for Girls                        133   \n",
       "Christ Church Grammar School                                159   \n",
       "Penrhos College                                             119   \n",
       "St Mary's Anglican Girls' School                            157   \n",
       "...                                                         ...   \n",
       "Butler College                                               71   \n",
       "Warnbro Community High School                                21   \n",
       "Safety Bay Senior High School                                31   \n",
       "Southern River College                                       24   \n",
       "Hedland Senior High School                                   29   \n",
       "\n",
       "                                      Percentage of students with an ATAR  \\\n",
       "School                                                                      \n",
       "Perth Modern School                                                 99.55   \n",
       "St Hilda's Anglican School for Girls                                93.66   \n",
       "Christ Church Grammar School                                        87.36   \n",
       "Penrhos College                                                     85.61   \n",
       "St Mary's Anglican Girls' School                                    90.23   \n",
       "...                                                                   ...   \n",
       "Butler College                                                      33.18   \n",
       "Warnbro Community High School                                       21.21   \n",
       "Safety Bay Senior High School                                       23.85   \n",
       "Southern River College                                              25.00   \n",
       "Hedland Senior High School                                          32.22   \n",
       "\n",
       "                                             Suburb   Longitude   Latitude  \\\n",
       "School                                                                       \n",
       "Perth Modern School                         Subiaco  115.836396 -31.945066   \n",
       "St Hilda's Anglican School for Girls    Mosman Park  115.767812 -32.005047   \n",
       "Christ Church Grammar School              Claremont  115.776987 -31.985461   \n",
       "Penrhos College                                Como  115.872539 -31.997431   \n",
       "St Mary's Anglican Girls' School          Karrinyup  115.766244 -31.876971   \n",
       "...                                             ...         ...        ...   \n",
       "Butler College                               Butler  115.708701 -31.651664   \n",
       "Warnbro Community High School               Warnbro  115.759096 -32.345569   \n",
       "Safety Bay Senior High School            Safety Bay  115.740964 -32.303286   \n",
       "Southern River College                     Gosnells  115.979918 -32.085598   \n",
       "Hedland Senior High School            South Hedland  118.598616 -20.398789   \n",
       "\n",
       "                                              Sector Gender  Religion  \n",
       "School                                                                 \n",
       "Perth Modern School                       Government  Co-ed   Secular  \n",
       "St Hilda's Anglican School for Girls  Non-government  Girls  Anglican  \n",
       "Christ Church Grammar School          Non-government   Boys  Anglican  \n",
       "Penrhos College                       Non-government  Girls   Uniting  \n",
       "St Mary's Anglican Girls' School      Non-government  Girls  Anglican  \n",
       "...                                              ...    ...       ...  \n",
       "Butler College                            Government  Co-ed   Secular  \n",
       "Warnbro Community High School             Government  Co-ed   Secular  \n",
       "Safety Bay Senior High School             Government  Co-ed   Secular  \n",
       "Southern River College                    Government  Co-ed   Secular  \n",
       "Hedland Senior High School                Government  Co-ed   Secular  \n",
       "\n",
       "[146 rows x 12 columns]"
      ],
      "text/html": "<div>\n<style scoped>\n    .dataframe tbody tr th:only-of-type {\n        vertical-align: middle;\n    }\n\n    .dataframe tbody tr th {\n        vertical-align: top;\n    }\n\n    .dataframe thead th {\n        text-align: right;\n    }\n</style>\n<table border=\"1\" class=\"dataframe\">\n  <thead>\n    <tr style=\"text-align: right;\">\n      <th></th>\n      <th>Year</th>\n      <th>Rank</th>\n      <th>Median ATAR</th>\n      <th>No. eligible Yr 12 students</th>\n      <th>No. Students with an ATAR</th>\n      <th>Percentage of students with an ATAR</th>\n      <th>Suburb</th>\n      <th>Longitude</th>\n      <th>Latitude</th>\n      <th>Sector</th>\n      <th>Gender</th>\n      <th>Religion</th>\n    </tr>\n    <tr>\n      <th>School</th>\n      <th></th>\n      <th></th>\n      <th></th>\n      <th></th>\n      <th></th>\n      <th></th>\n      <th></th>\n      <th></th>\n      <th></th>\n      <th></th>\n      <th></th>\n      <th></th>\n    </tr>\n  </thead>\n  <tbody>\n    <tr>\n      <th>Perth Modern School</th>\n      <td>2017</td>\n      <td>1</td>\n      <td>95.90</td>\n      <td>223</td>\n      <td>222</td>\n      <td>99.55</td>\n      <td>Subiaco</td>\n      <td>115.836396</td>\n      <td>-31.945066</td>\n      <td>Government</td>\n      <td>Co-ed</td>\n      <td>Secular</td>\n    </tr>\n    <tr>\n      <th>St Hilda's Anglican School for Girls</th>\n      <td>2017</td>\n      <td>2</td>\n      <td>93.60</td>\n      <td>142</td>\n      <td>133</td>\n      <td>93.66</td>\n      <td>Mosman Park</td>\n      <td>115.767812</td>\n      <td>-32.005047</td>\n      <td>Non-government</td>\n      <td>Girls</td>\n      <td>Anglican</td>\n    </tr>\n    <tr>\n      <th>Christ Church Grammar School</th>\n      <td>2017</td>\n      <td>3</td>\n      <td>92.45</td>\n      <td>182</td>\n      <td>159</td>\n      <td>87.36</td>\n      <td>Claremont</td>\n      <td>115.776987</td>\n      <td>-31.985461</td>\n      <td>Non-government</td>\n      <td>Boys</td>\n      <td>Anglican</td>\n    </tr>\n    <tr>\n      <th>Penrhos College</th>\n      <td>2017</td>\n      <td>4</td>\n      <td>91.20</td>\n      <td>139</td>\n      <td>119</td>\n      <td>85.61</td>\n      <td>Como</td>\n      <td>115.872539</td>\n      <td>-31.997431</td>\n      <td>Non-government</td>\n      <td>Girls</td>\n      <td>Uniting</td>\n    </tr>\n    <tr>\n      <th>St Mary's Anglican Girls' School</th>\n      <td>2017</td>\n      <td>5</td>\n      <td>90.95</td>\n      <td>174</td>\n      <td>157</td>\n      <td>90.23</td>\n      <td>Karrinyup</td>\n      <td>115.766244</td>\n      <td>-31.876971</td>\n      <td>Non-government</td>\n      <td>Girls</td>\n      <td>Anglican</td>\n    </tr>\n    <tr>\n      <th>...</th>\n      <td>...</td>\n      <td>...</td>\n      <td>...</td>\n      <td>...</td>\n      <td>...</td>\n      <td>...</td>\n      <td>...</td>\n      <td>...</td>\n      <td>...</td>\n      <td>...</td>\n      <td>...</td>\n      <td>...</td>\n    </tr>\n    <tr>\n      <th>Butler College</th>\n      <td>2017</td>\n      <td>142</td>\n      <td>57.25</td>\n      <td>214</td>\n      <td>71</td>\n      <td>33.18</td>\n      <td>Butler</td>\n      <td>115.708701</td>\n      <td>-31.651664</td>\n      <td>Government</td>\n      <td>Co-ed</td>\n      <td>Secular</td>\n    </tr>\n    <tr>\n      <th>Warnbro Community High School</th>\n      <td>2017</td>\n      <td>143</td>\n      <td>56.35</td>\n      <td>99</td>\n      <td>21</td>\n      <td>21.21</td>\n      <td>Warnbro</td>\n      <td>115.759096</td>\n      <td>-32.345569</td>\n      <td>Government</td>\n      <td>Co-ed</td>\n      <td>Secular</td>\n    </tr>\n    <tr>\n      <th>Safety Bay Senior High School</th>\n      <td>2017</td>\n      <td>144</td>\n      <td>56.05</td>\n      <td>130</td>\n      <td>31</td>\n      <td>23.85</td>\n      <td>Safety Bay</td>\n      <td>115.740964</td>\n      <td>-32.303286</td>\n      <td>Government</td>\n      <td>Co-ed</td>\n      <td>Secular</td>\n    </tr>\n    <tr>\n      <th>Southern River College</th>\n      <td>2017</td>\n      <td>145</td>\n      <td>55.40</td>\n      <td>96</td>\n      <td>24</td>\n      <td>25.00</td>\n      <td>Gosnells</td>\n      <td>115.979918</td>\n      <td>-32.085598</td>\n      <td>Government</td>\n      <td>Co-ed</td>\n      <td>Secular</td>\n    </tr>\n    <tr>\n      <th>Hedland Senior High School</th>\n      <td>2017</td>\n      <td>146</td>\n      <td>52.45</td>\n      <td>90</td>\n      <td>29</td>\n      <td>32.22</td>\n      <td>South Hedland</td>\n      <td>118.598616</td>\n      <td>-20.398789</td>\n      <td>Government</td>\n      <td>Co-ed</td>\n      <td>Secular</td>\n    </tr>\n  </tbody>\n</table>\n<p>146 rows × 12 columns</p>\n</div>"
     },
     "metadata": {},
     "execution_count": 253
    }
   ],
   "source": [
    "# set the column \"School\" as the index for the \"wa_hs_atar_2017\" Dataframe\n",
    "atar_2017_db = wa_hs_atar_2017.set_index('School')\n",
    "atar_2017_db"
   ]
  },
  {
   "cell_type": "code",
   "execution_count": 254,
   "metadata": {},
   "outputs": [
    {
     "output_type": "execute_result",
     "data": {
      "text/plain": [
       "                                                    Year  Rank  Median ATAR  \\\n",
       "School                                                                        \n",
       "Perth Modern School                                 2018     1        97.00   \n",
       "Carmel School                                       2018     2        92.60   \n",
       "St Mary's Anglican Girls' School                    2018     3        92.10   \n",
       "Methodist Ladies' College                           2018     4        92.00   \n",
       "St Hilda's Anglican School for Girls                2018     5        91.65   \n",
       "...                                                  ...   ...          ...   \n",
       "Newton Moore Senior High School                     2018   144        55.55   \n",
       "Northam Senior High School                          2018   145        53.70   \n",
       "Dalyellup College                                   2018   146        51.90   \n",
       "Rockingham Senior High School                       2018   147        47.90   \n",
       "Western Australian College Of Agriculture - Cun...  2018   148        32.50   \n",
       "\n",
       "                                                    No. eligible Yr 12 students  \\\n",
       "School                                                                            \n",
       "Perth Modern School                                                         240   \n",
       "Carmel School                                                                33   \n",
       "St Mary's Anglican Girls' School                                            175   \n",
       "Methodist Ladies' College                                                   139   \n",
       "St Hilda's Anglican School for Girls                                        141   \n",
       "...                                                                         ...   \n",
       "Newton Moore Senior High School                                              81   \n",
       "Northam Senior High School                                                   88   \n",
       "Dalyellup College                                                            70   \n",
       "Rockingham Senior High School                                                98   \n",
       "Western Australian College Of Agriculture - Cun...                           61   \n",
       "\n",
       "                                                    No. Students with an ATAR  \\\n",
       "School                                                                          \n",
       "Perth Modern School                                                       236   \n",
       "Carmel School                                                              31   \n",
       "St Mary's Anglican Girls' School                                          150   \n",
       "Methodist Ladies' College                                                 133   \n",
       "St Hilda's Anglican School for Girls                                      135   \n",
       "...                                                                       ...   \n",
       "Newton Moore Senior High School                                            29   \n",
       "Northam Senior High School                                                 27   \n",
       "Dalyellup College                                                          29   \n",
       "Rockingham Senior High School                                              22   \n",
       "Western Australian College Of Agriculture - Cun...                         22   \n",
       "\n",
       "                                                    Percentage of students with an ATAR  \\\n",
       "School                                                                                    \n",
       "Perth Modern School                                                               98.33   \n",
       "Carmel School                                                                     93.94   \n",
       "St Mary's Anglican Girls' School                                                  85.71   \n",
       "Methodist Ladies' College                                                         95.68   \n",
       "St Hilda's Anglican School for Girls                                              95.74   \n",
       "...                                                                                 ...   \n",
       "Newton Moore Senior High School                                                   35.80   \n",
       "Northam Senior High School                                                        30.68   \n",
       "Dalyellup College                                                                 41.43   \n",
       "Rockingham Senior High School                                                     22.45   \n",
       "Western Australian College Of Agriculture - Cun...                                36.07   \n",
       "\n",
       "                                                           Suburb   Longitude  \\\n",
       "School                                                                          \n",
       "Perth Modern School                                       Subiaco  115.836396   \n",
       "Carmel School                                            Dianella  115.862075   \n",
       "St Mary's Anglican Girls' School                        Karrinyup  115.766244   \n",
       "Methodist Ladies' College                               Claremont  115.775540   \n",
       "St Hilda's Anglican School for Girls                  Mosman Park  115.767812   \n",
       "...                                                           ...         ...   \n",
       "Newton Moore Senior High School                     South Bunbury  115.635421   \n",
       "Northam Senior High School                                Northam  116.667649   \n",
       "Dalyellup College                                       Dalyellup  115.625767   \n",
       "Rockingham Senior High School                          Rockingham  115.735520   \n",
       "Western Australian College Of Agriculture - Cun...      Cunderdin  117.230704   \n",
       "\n",
       "                                                     Latitude          Sector  \\\n",
       "School                                                                          \n",
       "Perth Modern School                                -31.945066      Government   \n",
       "Carmel School                                      -31.899107  Non-government   \n",
       "St Mary's Anglican Girls' School                   -31.876971  Non-government   \n",
       "Methodist Ladies' College                          -31.987012  Non-government   \n",
       "St Hilda's Anglican School for Girls               -32.005047  Non-government   \n",
       "...                                                       ...             ...   \n",
       "Newton Moore Senior High School                    -33.359211      Government   \n",
       "Northam Senior High School                         -31.647256      Government   \n",
       "Dalyellup College                                  -33.403855      Government   \n",
       "Rockingham Senior High School                      -32.284952      Government   \n",
       "Western Australian College Of Agriculture - Cun... -31.626847      Government   \n",
       "\n",
       "                                                   Gender   Religion  \n",
       "School                                                                \n",
       "Perth Modern School                                 Co-ed    Secular  \n",
       "Carmel School                                       Co-ed     Jewish  \n",
       "St Mary's Anglican Girls' School                    Girls   Anglican  \n",
       "Methodist Ladies' College                           Girls  Methodist  \n",
       "St Hilda's Anglican School for Girls                Girls   Anglican  \n",
       "...                                                   ...        ...  \n",
       "Newton Moore Senior High School                     Co-ed    Secular  \n",
       "Northam Senior High School                          Co-ed    Secular  \n",
       "Dalyellup College                                   Co-ed    Secular  \n",
       "Rockingham Senior High School                       Co-ed    Secular  \n",
       "Western Australian College Of Agriculture - Cun...  Co-ed    Secular  \n",
       "\n",
       "[148 rows x 12 columns]"
      ],
      "text/html": "<div>\n<style scoped>\n    .dataframe tbody tr th:only-of-type {\n        vertical-align: middle;\n    }\n\n    .dataframe tbody tr th {\n        vertical-align: top;\n    }\n\n    .dataframe thead th {\n        text-align: right;\n    }\n</style>\n<table border=\"1\" class=\"dataframe\">\n  <thead>\n    <tr style=\"text-align: right;\">\n      <th></th>\n      <th>Year</th>\n      <th>Rank</th>\n      <th>Median ATAR</th>\n      <th>No. eligible Yr 12 students</th>\n      <th>No. Students with an ATAR</th>\n      <th>Percentage of students with an ATAR</th>\n      <th>Suburb</th>\n      <th>Longitude</th>\n      <th>Latitude</th>\n      <th>Sector</th>\n      <th>Gender</th>\n      <th>Religion</th>\n    </tr>\n    <tr>\n      <th>School</th>\n      <th></th>\n      <th></th>\n      <th></th>\n      <th></th>\n      <th></th>\n      <th></th>\n      <th></th>\n      <th></th>\n      <th></th>\n      <th></th>\n      <th></th>\n      <th></th>\n    </tr>\n  </thead>\n  <tbody>\n    <tr>\n      <th>Perth Modern School</th>\n      <td>2018</td>\n      <td>1</td>\n      <td>97.00</td>\n      <td>240</td>\n      <td>236</td>\n      <td>98.33</td>\n      <td>Subiaco</td>\n      <td>115.836396</td>\n      <td>-31.945066</td>\n      <td>Government</td>\n      <td>Co-ed</td>\n      <td>Secular</td>\n    </tr>\n    <tr>\n      <th>Carmel School</th>\n      <td>2018</td>\n      <td>2</td>\n      <td>92.60</td>\n      <td>33</td>\n      <td>31</td>\n      <td>93.94</td>\n      <td>Dianella</td>\n      <td>115.862075</td>\n      <td>-31.899107</td>\n      <td>Non-government</td>\n      <td>Co-ed</td>\n      <td>Jewish</td>\n    </tr>\n    <tr>\n      <th>St Mary's Anglican Girls' School</th>\n      <td>2018</td>\n      <td>3</td>\n      <td>92.10</td>\n      <td>175</td>\n      <td>150</td>\n      <td>85.71</td>\n      <td>Karrinyup</td>\n      <td>115.766244</td>\n      <td>-31.876971</td>\n      <td>Non-government</td>\n      <td>Girls</td>\n      <td>Anglican</td>\n    </tr>\n    <tr>\n      <th>Methodist Ladies' College</th>\n      <td>2018</td>\n      <td>4</td>\n      <td>92.00</td>\n      <td>139</td>\n      <td>133</td>\n      <td>95.68</td>\n      <td>Claremont</td>\n      <td>115.775540</td>\n      <td>-31.987012</td>\n      <td>Non-government</td>\n      <td>Girls</td>\n      <td>Methodist</td>\n    </tr>\n    <tr>\n      <th>St Hilda's Anglican School for Girls</th>\n      <td>2018</td>\n      <td>5</td>\n      <td>91.65</td>\n      <td>141</td>\n      <td>135</td>\n      <td>95.74</td>\n      <td>Mosman Park</td>\n      <td>115.767812</td>\n      <td>-32.005047</td>\n      <td>Non-government</td>\n      <td>Girls</td>\n      <td>Anglican</td>\n    </tr>\n    <tr>\n      <th>...</th>\n      <td>...</td>\n      <td>...</td>\n      <td>...</td>\n      <td>...</td>\n      <td>...</td>\n      <td>...</td>\n      <td>...</td>\n      <td>...</td>\n      <td>...</td>\n      <td>...</td>\n      <td>...</td>\n      <td>...</td>\n    </tr>\n    <tr>\n      <th>Newton Moore Senior High School</th>\n      <td>2018</td>\n      <td>144</td>\n      <td>55.55</td>\n      <td>81</td>\n      <td>29</td>\n      <td>35.80</td>\n      <td>South Bunbury</td>\n      <td>115.635421</td>\n      <td>-33.359211</td>\n      <td>Government</td>\n      <td>Co-ed</td>\n      <td>Secular</td>\n    </tr>\n    <tr>\n      <th>Northam Senior High School</th>\n      <td>2018</td>\n      <td>145</td>\n      <td>53.70</td>\n      <td>88</td>\n      <td>27</td>\n      <td>30.68</td>\n      <td>Northam</td>\n      <td>116.667649</td>\n      <td>-31.647256</td>\n      <td>Government</td>\n      <td>Co-ed</td>\n      <td>Secular</td>\n    </tr>\n    <tr>\n      <th>Dalyellup College</th>\n      <td>2018</td>\n      <td>146</td>\n      <td>51.90</td>\n      <td>70</td>\n      <td>29</td>\n      <td>41.43</td>\n      <td>Dalyellup</td>\n      <td>115.625767</td>\n      <td>-33.403855</td>\n      <td>Government</td>\n      <td>Co-ed</td>\n      <td>Secular</td>\n    </tr>\n    <tr>\n      <th>Rockingham Senior High School</th>\n      <td>2018</td>\n      <td>147</td>\n      <td>47.90</td>\n      <td>98</td>\n      <td>22</td>\n      <td>22.45</td>\n      <td>Rockingham</td>\n      <td>115.735520</td>\n      <td>-32.284952</td>\n      <td>Government</td>\n      <td>Co-ed</td>\n      <td>Secular</td>\n    </tr>\n    <tr>\n      <th>Western Australian College Of Agriculture - Cunderdin</th>\n      <td>2018</td>\n      <td>148</td>\n      <td>32.50</td>\n      <td>61</td>\n      <td>22</td>\n      <td>36.07</td>\n      <td>Cunderdin</td>\n      <td>117.230704</td>\n      <td>-31.626847</td>\n      <td>Government</td>\n      <td>Co-ed</td>\n      <td>Secular</td>\n    </tr>\n  </tbody>\n</table>\n<p>148 rows × 12 columns</p>\n</div>"
     },
     "metadata": {},
     "execution_count": 254
    }
   ],
   "source": [
    "# set the column \"School\" as the index for the \"wa_hs_atar_2018\" Dataframe\n",
    "atar_2018_db = wa_hs_atar_2018.set_index('School')\n",
    "atar_2018_db"
   ]
  },
  {
   "cell_type": "code",
   "execution_count": 255,
   "metadata": {},
   "outputs": [
    {
     "output_type": "execute_result",
     "data": {
      "text/plain": [
       "                                  Year  Rank  Median ATAR  \\\n",
       "School                                                      \n",
       "Perth Modern School               2019     1        96.75   \n",
       "Hale School                       2019     2        92.85   \n",
       "Christ Church Grammar School      2019     3        92.50   \n",
       "St Mary's Anglican Girls' School  2019     4        91.15   \n",
       "Presbyterian Ladies' College      2019     5        90.75   \n",
       "...                                ...   ...          ...   \n",
       "Warwick Senior High School        2019   138        60.80   \n",
       "Byford Secondary College          2019   139        60.00   \n",
       "Hedland Senior High School        2019   140        55.95   \n",
       "Merredin College                  2019   141        55.20   \n",
       "Joseph Banks Secondary College    2019   142        41.85   \n",
       "\n",
       "                                  No. eligible Yr 12 students  \\\n",
       "School                                                          \n",
       "Perth Modern School                                       241   \n",
       "Hale School                                               201   \n",
       "Christ Church Grammar School                              199   \n",
       "St Mary's Anglican Girls' School                          161   \n",
       "Presbyterian Ladies' College                              123   \n",
       "...                                                       ...   \n",
       "Warwick Senior High School                                 77   \n",
       "Byford Secondary College                                  134   \n",
       "Hedland Senior High School                                 80   \n",
       "Merredin College                                           54   \n",
       "Joseph Banks Secondary College                            171   \n",
       "\n",
       "                                  No. Students with an ATAR  \\\n",
       "School                                                        \n",
       "Perth Modern School                                     238   \n",
       "Hale School                                             177   \n",
       "Christ Church Grammar School                            178   \n",
       "St Mary's Anglican Girls' School                        137   \n",
       "Presbyterian Ladies' College                            116   \n",
       "...                                                     ...   \n",
       "Warwick Senior High School                               24   \n",
       "Byford Secondary College                                 45   \n",
       "Hedland Senior High School                               21   \n",
       "Merredin College                                         23   \n",
       "Joseph Banks Secondary College                           68   \n",
       "\n",
       "                                  Percentage of students with an ATAR  \\\n",
       "School                                                                  \n",
       "Perth Modern School                                             98.76   \n",
       "Hale School                                                     88.06   \n",
       "Christ Church Grammar School                                    89.45   \n",
       "St Mary's Anglican Girls' School                                85.09   \n",
       "Presbyterian Ladies' College                                    94.31   \n",
       "...                                                               ...   \n",
       "Warwick Senior High School                                      31.17   \n",
       "Byford Secondary College                                        33.58   \n",
       "Hedland Senior High School                                      26.25   \n",
       "Merredin College                                                42.59   \n",
       "Joseph Banks Secondary College                                  39.77   \n",
       "\n",
       "                                            Suburb   Longitude   Latitude  \\\n",
       "School                                                                      \n",
       "Perth Modern School                        Subiaco  115.836396 -31.945066   \n",
       "Hale School                          Wembley Downs  115.783783 -31.912322   \n",
       "Christ Church Grammar School             Claremont  115.776987 -31.985461   \n",
       "St Mary's Anglican Girls' School         Karrinyup  115.766244 -31.876971   \n",
       "Presbyterian Ladies' College      Peppermint Grove  115.764906 -31.993592   \n",
       "...                                            ...         ...        ...   \n",
       "Warwick Senior High School                 Warwick  115.815429 -31.838675   \n",
       "Byford Secondary College                    Byford  116.001879 -32.223432   \n",
       "Hedland Senior High School           South Hedland  118.598616 -20.398789   \n",
       "Merredin College                          Merredin  118.284982 -31.488090   \n",
       "Joseph Banks Secondary College       Banksia Grove  115.796591 -31.698674   \n",
       "\n",
       "                                          Sector Gender  Religion  \n",
       "School                                                             \n",
       "Perth Modern School                   Government  Co-ed   Secular  \n",
       "Hale School                       Non-government   Boys  Anglican  \n",
       "Christ Church Grammar School      Non-government   Boys  Anglican  \n",
       "St Mary's Anglican Girls' School  Non-government  Girls  Anglican  \n",
       "Presbyterian Ladies' College      Non-government  Girls   Uniting  \n",
       "...                                          ...    ...       ...  \n",
       "Warwick Senior High School            Government  Co-ed   Secular  \n",
       "Byford Secondary College              Government  Co-ed   Secular  \n",
       "Hedland Senior High School            Government  Co-ed   Secular  \n",
       "Merredin College                      Government  Co-ed   Secular  \n",
       "Joseph Banks Secondary College        Government  Co-ed   Secular  \n",
       "\n",
       "[142 rows x 12 columns]"
      ],
      "text/html": "<div>\n<style scoped>\n    .dataframe tbody tr th:only-of-type {\n        vertical-align: middle;\n    }\n\n    .dataframe tbody tr th {\n        vertical-align: top;\n    }\n\n    .dataframe thead th {\n        text-align: right;\n    }\n</style>\n<table border=\"1\" class=\"dataframe\">\n  <thead>\n    <tr style=\"text-align: right;\">\n      <th></th>\n      <th>Year</th>\n      <th>Rank</th>\n      <th>Median ATAR</th>\n      <th>No. eligible Yr 12 students</th>\n      <th>No. Students with an ATAR</th>\n      <th>Percentage of students with an ATAR</th>\n      <th>Suburb</th>\n      <th>Longitude</th>\n      <th>Latitude</th>\n      <th>Sector</th>\n      <th>Gender</th>\n      <th>Religion</th>\n    </tr>\n    <tr>\n      <th>School</th>\n      <th></th>\n      <th></th>\n      <th></th>\n      <th></th>\n      <th></th>\n      <th></th>\n      <th></th>\n      <th></th>\n      <th></th>\n      <th></th>\n      <th></th>\n      <th></th>\n    </tr>\n  </thead>\n  <tbody>\n    <tr>\n      <th>Perth Modern School</th>\n      <td>2019</td>\n      <td>1</td>\n      <td>96.75</td>\n      <td>241</td>\n      <td>238</td>\n      <td>98.76</td>\n      <td>Subiaco</td>\n      <td>115.836396</td>\n      <td>-31.945066</td>\n      <td>Government</td>\n      <td>Co-ed</td>\n      <td>Secular</td>\n    </tr>\n    <tr>\n      <th>Hale School</th>\n      <td>2019</td>\n      <td>2</td>\n      <td>92.85</td>\n      <td>201</td>\n      <td>177</td>\n      <td>88.06</td>\n      <td>Wembley Downs</td>\n      <td>115.783783</td>\n      <td>-31.912322</td>\n      <td>Non-government</td>\n      <td>Boys</td>\n      <td>Anglican</td>\n    </tr>\n    <tr>\n      <th>Christ Church Grammar School</th>\n      <td>2019</td>\n      <td>3</td>\n      <td>92.50</td>\n      <td>199</td>\n      <td>178</td>\n      <td>89.45</td>\n      <td>Claremont</td>\n      <td>115.776987</td>\n      <td>-31.985461</td>\n      <td>Non-government</td>\n      <td>Boys</td>\n      <td>Anglican</td>\n    </tr>\n    <tr>\n      <th>St Mary's Anglican Girls' School</th>\n      <td>2019</td>\n      <td>4</td>\n      <td>91.15</td>\n      <td>161</td>\n      <td>137</td>\n      <td>85.09</td>\n      <td>Karrinyup</td>\n      <td>115.766244</td>\n      <td>-31.876971</td>\n      <td>Non-government</td>\n      <td>Girls</td>\n      <td>Anglican</td>\n    </tr>\n    <tr>\n      <th>Presbyterian Ladies' College</th>\n      <td>2019</td>\n      <td>5</td>\n      <td>90.75</td>\n      <td>123</td>\n      <td>116</td>\n      <td>94.31</td>\n      <td>Peppermint Grove</td>\n      <td>115.764906</td>\n      <td>-31.993592</td>\n      <td>Non-government</td>\n      <td>Girls</td>\n      <td>Uniting</td>\n    </tr>\n    <tr>\n      <th>...</th>\n      <td>...</td>\n      <td>...</td>\n      <td>...</td>\n      <td>...</td>\n      <td>...</td>\n      <td>...</td>\n      <td>...</td>\n      <td>...</td>\n      <td>...</td>\n      <td>...</td>\n      <td>...</td>\n      <td>...</td>\n    </tr>\n    <tr>\n      <th>Warwick Senior High School</th>\n      <td>2019</td>\n      <td>138</td>\n      <td>60.80</td>\n      <td>77</td>\n      <td>24</td>\n      <td>31.17</td>\n      <td>Warwick</td>\n      <td>115.815429</td>\n      <td>-31.838675</td>\n      <td>Government</td>\n      <td>Co-ed</td>\n      <td>Secular</td>\n    </tr>\n    <tr>\n      <th>Byford Secondary College</th>\n      <td>2019</td>\n      <td>139</td>\n      <td>60.00</td>\n      <td>134</td>\n      <td>45</td>\n      <td>33.58</td>\n      <td>Byford</td>\n      <td>116.001879</td>\n      <td>-32.223432</td>\n      <td>Government</td>\n      <td>Co-ed</td>\n      <td>Secular</td>\n    </tr>\n    <tr>\n      <th>Hedland Senior High School</th>\n      <td>2019</td>\n      <td>140</td>\n      <td>55.95</td>\n      <td>80</td>\n      <td>21</td>\n      <td>26.25</td>\n      <td>South Hedland</td>\n      <td>118.598616</td>\n      <td>-20.398789</td>\n      <td>Government</td>\n      <td>Co-ed</td>\n      <td>Secular</td>\n    </tr>\n    <tr>\n      <th>Merredin College</th>\n      <td>2019</td>\n      <td>141</td>\n      <td>55.20</td>\n      <td>54</td>\n      <td>23</td>\n      <td>42.59</td>\n      <td>Merredin</td>\n      <td>118.284982</td>\n      <td>-31.488090</td>\n      <td>Government</td>\n      <td>Co-ed</td>\n      <td>Secular</td>\n    </tr>\n    <tr>\n      <th>Joseph Banks Secondary College</th>\n      <td>2019</td>\n      <td>142</td>\n      <td>41.85</td>\n      <td>171</td>\n      <td>68</td>\n      <td>39.77</td>\n      <td>Banksia Grove</td>\n      <td>115.796591</td>\n      <td>-31.698674</td>\n      <td>Government</td>\n      <td>Co-ed</td>\n      <td>Secular</td>\n    </tr>\n  </tbody>\n</table>\n<p>142 rows × 12 columns</p>\n</div>"
     },
     "metadata": {},
     "execution_count": 255
    }
   ],
   "source": [
    "# set the column \"School\" as the index for the \"wa_hs_atar_2019\" Dataframe\n",
    "atar_2019_db = wa_hs_atar_2019.set_index('School')\n",
    "atar_2019_db"
   ]
  },
  {
   "cell_type": "code",
   "execution_count": 256,
   "metadata": {},
   "outputs": [
    {
     "output_type": "execute_result",
     "data": {
      "text/plain": [
       "                                      Year  Rank  Median ATAR  \\\n",
       "School                                                          \n",
       "Perth Modern School                   2020     1        97.55   \n",
       "St Hilda's Anglican School for Girls  2020     2        92.70   \n",
       "Christ Church Grammar School          2020     3        92.50   \n",
       "Penrhos College                       2020     4        90.65   \n",
       "Methodist Ladies' College             2020     5        90.55   \n",
       "...                                    ...   ...          ...   \n",
       "Balcatta Senior High School           2020   135        60.40   \n",
       "Safety Bay Senior High School         2020   136        58.75   \n",
       "Darling Range Sports College          2020   137        52.40   \n",
       "Gilmore College                       2020   138        52.25   \n",
       "Cecil Andrews College                 2020   139        49.85   \n",
       "\n",
       "                                      No. eligible Yr 12 students  \\\n",
       "School                                                              \n",
       "Perth Modern School                                           242   \n",
       "St Hilda's Anglican School for Girls                          147   \n",
       "Christ Church Grammar School                                  190   \n",
       "Penrhos College                                               135   \n",
       "Methodist Ladies' College                                     126   \n",
       "...                                                           ...   \n",
       "Balcatta Senior High School                                    76   \n",
       "Safety Bay Senior High School                                 115   \n",
       "Darling Range Sports College                                  129   \n",
       "Gilmore College                                               141   \n",
       "Cecil Andrews College                                          77   \n",
       "\n",
       "                                      No. Students with an ATAR  \\\n",
       "School                                                            \n",
       "Perth Modern School                                         242   \n",
       "St Hilda's Anglican School for Girls                        134   \n",
       "Christ Church Grammar School                                175   \n",
       "Penrhos College                                             116   \n",
       "Methodist Ladies' College                                   112   \n",
       "...                                                         ...   \n",
       "Balcatta Senior High School                                  20   \n",
       "Safety Bay Senior High School                                23   \n",
       "Darling Range Sports College                                 44   \n",
       "Gilmore College                                              23   \n",
       "Cecil Andrews College                                        20   \n",
       "\n",
       "                                      Percentage of students with an ATAR  \\\n",
       "School                                                                      \n",
       "Perth Modern School                                                100.00   \n",
       "St Hilda's Anglican School for Girls                                91.16   \n",
       "Christ Church Grammar School                                        92.11   \n",
       "Penrhos College                                                     85.93   \n",
       "Methodist Ladies' College                                           88.89   \n",
       "...                                                                   ...   \n",
       "Balcatta Senior High School                                         26.32   \n",
       "Safety Bay Senior High School                                       20.00   \n",
       "Darling Range Sports College                                        34.11   \n",
       "Gilmore College                                                     16.31   \n",
       "Cecil Andrews College                                               25.97   \n",
       "\n",
       "                                            Suburb   Longitude   Latitude  \\\n",
       "School                                                                      \n",
       "Perth Modern School                        Subiaco  115.836396 -31.945066   \n",
       "St Hilda's Anglican School for Girls   Mosman Park  115.767812 -32.005047   \n",
       "Christ Church Grammar School             Claremont  115.776987 -31.985461   \n",
       "Penrhos College                               Como  115.872539 -31.997431   \n",
       "Methodist Ladies' College                Claremont  115.775540 -31.987012   \n",
       "...                                            ...         ...        ...   \n",
       "Balcatta Senior High School               Balcatta  115.812243 -31.875517   \n",
       "Safety Bay Senior High School           Safety Bay  115.740964 -32.303286   \n",
       "Darling Range Sports College          Forrestfield  116.010860 -31.975661   \n",
       "Gilmore College                             Orelia  115.814803 -32.238266   \n",
       "Cecil Andrews College                     Armadale  115.991883 -32.141187   \n",
       "\n",
       "                                              Sector Gender   Religion  \n",
       "School                                                                  \n",
       "Perth Modern School                       Government  Co-ed    Secular  \n",
       "St Hilda's Anglican School for Girls  Non-government  Girls   Anglican  \n",
       "Christ Church Grammar School          Non-government   Boys   Anglican  \n",
       "Penrhos College                       Non-government  Girls    Uniting  \n",
       "Methodist Ladies' College             Non-government  Girls  Methodist  \n",
       "...                                              ...    ...        ...  \n",
       "Balcatta Senior High School               Government  Co-ed    Secular  \n",
       "Safety Bay Senior High School             Government  Co-ed    Secular  \n",
       "Darling Range Sports College              Government  Co-ed    Secular  \n",
       "Gilmore College                           Government  Co-ed    Secular  \n",
       "Cecil Andrews College                     Government  Co-ed    Secular  \n",
       "\n",
       "[139 rows x 12 columns]"
      ],
      "text/html": "<div>\n<style scoped>\n    .dataframe tbody tr th:only-of-type {\n        vertical-align: middle;\n    }\n\n    .dataframe tbody tr th {\n        vertical-align: top;\n    }\n\n    .dataframe thead th {\n        text-align: right;\n    }\n</style>\n<table border=\"1\" class=\"dataframe\">\n  <thead>\n    <tr style=\"text-align: right;\">\n      <th></th>\n      <th>Year</th>\n      <th>Rank</th>\n      <th>Median ATAR</th>\n      <th>No. eligible Yr 12 students</th>\n      <th>No. Students with an ATAR</th>\n      <th>Percentage of students with an ATAR</th>\n      <th>Suburb</th>\n      <th>Longitude</th>\n      <th>Latitude</th>\n      <th>Sector</th>\n      <th>Gender</th>\n      <th>Religion</th>\n    </tr>\n    <tr>\n      <th>School</th>\n      <th></th>\n      <th></th>\n      <th></th>\n      <th></th>\n      <th></th>\n      <th></th>\n      <th></th>\n      <th></th>\n      <th></th>\n      <th></th>\n      <th></th>\n      <th></th>\n    </tr>\n  </thead>\n  <tbody>\n    <tr>\n      <th>Perth Modern School</th>\n      <td>2020</td>\n      <td>1</td>\n      <td>97.55</td>\n      <td>242</td>\n      <td>242</td>\n      <td>100.00</td>\n      <td>Subiaco</td>\n      <td>115.836396</td>\n      <td>-31.945066</td>\n      <td>Government</td>\n      <td>Co-ed</td>\n      <td>Secular</td>\n    </tr>\n    <tr>\n      <th>St Hilda's Anglican School for Girls</th>\n      <td>2020</td>\n      <td>2</td>\n      <td>92.70</td>\n      <td>147</td>\n      <td>134</td>\n      <td>91.16</td>\n      <td>Mosman Park</td>\n      <td>115.767812</td>\n      <td>-32.005047</td>\n      <td>Non-government</td>\n      <td>Girls</td>\n      <td>Anglican</td>\n    </tr>\n    <tr>\n      <th>Christ Church Grammar School</th>\n      <td>2020</td>\n      <td>3</td>\n      <td>92.50</td>\n      <td>190</td>\n      <td>175</td>\n      <td>92.11</td>\n      <td>Claremont</td>\n      <td>115.776987</td>\n      <td>-31.985461</td>\n      <td>Non-government</td>\n      <td>Boys</td>\n      <td>Anglican</td>\n    </tr>\n    <tr>\n      <th>Penrhos College</th>\n      <td>2020</td>\n      <td>4</td>\n      <td>90.65</td>\n      <td>135</td>\n      <td>116</td>\n      <td>85.93</td>\n      <td>Como</td>\n      <td>115.872539</td>\n      <td>-31.997431</td>\n      <td>Non-government</td>\n      <td>Girls</td>\n      <td>Uniting</td>\n    </tr>\n    <tr>\n      <th>Methodist Ladies' College</th>\n      <td>2020</td>\n      <td>5</td>\n      <td>90.55</td>\n      <td>126</td>\n      <td>112</td>\n      <td>88.89</td>\n      <td>Claremont</td>\n      <td>115.775540</td>\n      <td>-31.987012</td>\n      <td>Non-government</td>\n      <td>Girls</td>\n      <td>Methodist</td>\n    </tr>\n    <tr>\n      <th>...</th>\n      <td>...</td>\n      <td>...</td>\n      <td>...</td>\n      <td>...</td>\n      <td>...</td>\n      <td>...</td>\n      <td>...</td>\n      <td>...</td>\n      <td>...</td>\n      <td>...</td>\n      <td>...</td>\n      <td>...</td>\n    </tr>\n    <tr>\n      <th>Balcatta Senior High School</th>\n      <td>2020</td>\n      <td>135</td>\n      <td>60.40</td>\n      <td>76</td>\n      <td>20</td>\n      <td>26.32</td>\n      <td>Balcatta</td>\n      <td>115.812243</td>\n      <td>-31.875517</td>\n      <td>Government</td>\n      <td>Co-ed</td>\n      <td>Secular</td>\n    </tr>\n    <tr>\n      <th>Safety Bay Senior High School</th>\n      <td>2020</td>\n      <td>136</td>\n      <td>58.75</td>\n      <td>115</td>\n      <td>23</td>\n      <td>20.00</td>\n      <td>Safety Bay</td>\n      <td>115.740964</td>\n      <td>-32.303286</td>\n      <td>Government</td>\n      <td>Co-ed</td>\n      <td>Secular</td>\n    </tr>\n    <tr>\n      <th>Darling Range Sports College</th>\n      <td>2020</td>\n      <td>137</td>\n      <td>52.40</td>\n      <td>129</td>\n      <td>44</td>\n      <td>34.11</td>\n      <td>Forrestfield</td>\n      <td>116.010860</td>\n      <td>-31.975661</td>\n      <td>Government</td>\n      <td>Co-ed</td>\n      <td>Secular</td>\n    </tr>\n    <tr>\n      <th>Gilmore College</th>\n      <td>2020</td>\n      <td>138</td>\n      <td>52.25</td>\n      <td>141</td>\n      <td>23</td>\n      <td>16.31</td>\n      <td>Orelia</td>\n      <td>115.814803</td>\n      <td>-32.238266</td>\n      <td>Government</td>\n      <td>Co-ed</td>\n      <td>Secular</td>\n    </tr>\n    <tr>\n      <th>Cecil Andrews College</th>\n      <td>2020</td>\n      <td>139</td>\n      <td>49.85</td>\n      <td>77</td>\n      <td>20</td>\n      <td>25.97</td>\n      <td>Armadale</td>\n      <td>115.991883</td>\n      <td>-32.141187</td>\n      <td>Government</td>\n      <td>Co-ed</td>\n      <td>Secular</td>\n    </tr>\n  </tbody>\n</table>\n<p>139 rows × 12 columns</p>\n</div>"
     },
     "metadata": {},
     "execution_count": 256
    }
   ],
   "source": [
    "# set the column \"School\" as the index for the \"wa_hs_atar_2020\" Dataframe\n",
    "atar_2020_db = wa_hs_atar_2020.set_index('School')\n",
    "atar_2020_db"
   ]
  },
  {
   "cell_type": "code",
   "execution_count": 257,
   "metadata": {},
   "outputs": [
    {
     "output_type": "execute_result",
     "data": {
      "text/plain": [
       "                                           Year  Rank  Postcode  \\\n",
       "School                                                            \n",
       "Perth Modern School                        2016     1      6008   \n",
       "Christ Church Grammar School               2016     2      6010   \n",
       "International School of Western Australia  2016     3      6015   \n",
       "Hale School                                2016     4      6019   \n",
       "St Mary's Anglican Girls' School           2016     5      6018   \n",
       "...                                         ...   ...       ...   \n",
       "Bunbury Catholic College                   2016    68      6230   \n",
       "St Norbert College                         2016    69      6107   \n",
       "Kalbarri District High School              2016    70      6536   \n",
       "Tranby College                             2016    71      6171   \n",
       "Denmark Senior High School                 2016    72      6333   \n",
       "\n",
       "                                           State Overall Score  \\\n",
       "School                                                           \n",
       "Perth Modern School                                        100   \n",
       "Christ Church Grammar School                               100   \n",
       "International School of Western Australia                  100   \n",
       "Hale School                                                100   \n",
       "St Mary's Anglican Girls' School                            99   \n",
       "...                                                        ...   \n",
       "Bunbury Catholic College                                    91   \n",
       "St Norbert College                                          90   \n",
       "Kalbarri District High School                               90   \n",
       "Tranby College                                              90   \n",
       "Denmark Senior High School                                  90   \n",
       "\n",
       "                                           Total Enrolments ICSEA  \\\n",
       "School                                                              \n",
       "Perth Modern School                                    1336  1239   \n",
       "Christ Church Grammar School                           1663  1180   \n",
       "International School of Western Australia               235  1182   \n",
       "Hale School                                            1486  1165   \n",
       "St Mary's Anglican Girls' School                       1385  1158   \n",
       "...                                                     ...   ...   \n",
       "Bunbury Catholic College                               1370  1035   \n",
       "St Norbert College                                      890  1044   \n",
       "Kalbarri District High School                           220   988   \n",
       "Tranby College                                          884  1066   \n",
       "Denmark Senior High School                              401  1038   \n",
       "\n",
       "                                                  Suburb   Longitude  \\\n",
       "School                                                                 \n",
       "Perth Modern School                              Subiaco  115.836396   \n",
       "Christ Church Grammar School                   Claremont  115.776987   \n",
       "International School of Western Australia     Doubleview  115.777620   \n",
       "Hale School                                Wembley Downs  115.783783   \n",
       "St Mary's Anglican Girls' School               Karrinyup  115.766244   \n",
       "...                                                  ...         ...   \n",
       "Bunbury Catholic College                         Bunbury  115.661424   \n",
       "St Norbert College                           Queens Park  115.940344   \n",
       "Kalbarri District High School                   Kalbarri  114.163881   \n",
       "Tranby College                                  Baldivis  115.800243   \n",
       "Denmark Senior High School                       Denmark  117.364584   \n",
       "\n",
       "                                            Latitude          Sector Gender  \\\n",
       "School                                                                        \n",
       "Perth Modern School                       -31.945066      Government  Co-ed   \n",
       "Christ Church Grammar School              -31.985461  Non-government   Boys   \n",
       "International School of Western Australia -31.898500      Government  Co-ed   \n",
       "Hale School                               -31.912322  Non-government   Boys   \n",
       "St Mary's Anglican Girls' School          -31.876971  Non-government  Girls   \n",
       "...                                              ...             ...    ...   \n",
       "Bunbury Catholic College                  -33.343422  Non-government  Co-ed   \n",
       "St Norbert College                        -32.004364  Non-government  Co-ed   \n",
       "Kalbarri District High School             -27.712788      Government  Co-ed   \n",
       "Tranby College                            -32.340570  Non-government  Co-ed   \n",
       "Denmark Senior High School                -34.957414      Government  Co-ed   \n",
       "\n",
       "                                           Religion  \n",
       "School                                               \n",
       "Perth Modern School                         Secular  \n",
       "Christ Church Grammar School               Anglican  \n",
       "International School of Western Australia   Secular  \n",
       "Hale School                                Anglican  \n",
       "St Mary's Anglican Girls' School           Anglican  \n",
       "...                                             ...  \n",
       "Bunbury Catholic College                   Catholic  \n",
       "St Norbert College                         Catholic  \n",
       "Kalbarri District High School               Secular  \n",
       "Tranby College                              Uniting  \n",
       "Denmark Senior High School                  Secular  \n",
       "\n",
       "[72 rows x 12 columns]"
      ],
      "text/html": "<div>\n<style scoped>\n    .dataframe tbody tr th:only-of-type {\n        vertical-align: middle;\n    }\n\n    .dataframe tbody tr th {\n        vertical-align: top;\n    }\n\n    .dataframe thead th {\n        text-align: right;\n    }\n</style>\n<table border=\"1\" class=\"dataframe\">\n  <thead>\n    <tr style=\"text-align: right;\">\n      <th></th>\n      <th>Year</th>\n      <th>Rank</th>\n      <th>Postcode</th>\n      <th>State Overall Score</th>\n      <th>Total Enrolments</th>\n      <th>ICSEA</th>\n      <th>Suburb</th>\n      <th>Longitude</th>\n      <th>Latitude</th>\n      <th>Sector</th>\n      <th>Gender</th>\n      <th>Religion</th>\n    </tr>\n    <tr>\n      <th>School</th>\n      <th></th>\n      <th></th>\n      <th></th>\n      <th></th>\n      <th></th>\n      <th></th>\n      <th></th>\n      <th></th>\n      <th></th>\n      <th></th>\n      <th></th>\n      <th></th>\n    </tr>\n  </thead>\n  <tbody>\n    <tr>\n      <th>Perth Modern School</th>\n      <td>2016</td>\n      <td>1</td>\n      <td>6008</td>\n      <td>100</td>\n      <td>1336</td>\n      <td>1239</td>\n      <td>Subiaco</td>\n      <td>115.836396</td>\n      <td>-31.945066</td>\n      <td>Government</td>\n      <td>Co-ed</td>\n      <td>Secular</td>\n    </tr>\n    <tr>\n      <th>Christ Church Grammar School</th>\n      <td>2016</td>\n      <td>2</td>\n      <td>6010</td>\n      <td>100</td>\n      <td>1663</td>\n      <td>1180</td>\n      <td>Claremont</td>\n      <td>115.776987</td>\n      <td>-31.985461</td>\n      <td>Non-government</td>\n      <td>Boys</td>\n      <td>Anglican</td>\n    </tr>\n    <tr>\n      <th>International School of Western Australia</th>\n      <td>2016</td>\n      <td>3</td>\n      <td>6015</td>\n      <td>100</td>\n      <td>235</td>\n      <td>1182</td>\n      <td>Doubleview</td>\n      <td>115.777620</td>\n      <td>-31.898500</td>\n      <td>Government</td>\n      <td>Co-ed</td>\n      <td>Secular</td>\n    </tr>\n    <tr>\n      <th>Hale School</th>\n      <td>2016</td>\n      <td>4</td>\n      <td>6019</td>\n      <td>100</td>\n      <td>1486</td>\n      <td>1165</td>\n      <td>Wembley Downs</td>\n      <td>115.783783</td>\n      <td>-31.912322</td>\n      <td>Non-government</td>\n      <td>Boys</td>\n      <td>Anglican</td>\n    </tr>\n    <tr>\n      <th>St Mary's Anglican Girls' School</th>\n      <td>2016</td>\n      <td>5</td>\n      <td>6018</td>\n      <td>99</td>\n      <td>1385</td>\n      <td>1158</td>\n      <td>Karrinyup</td>\n      <td>115.766244</td>\n      <td>-31.876971</td>\n      <td>Non-government</td>\n      <td>Girls</td>\n      <td>Anglican</td>\n    </tr>\n    <tr>\n      <th>...</th>\n      <td>...</td>\n      <td>...</td>\n      <td>...</td>\n      <td>...</td>\n      <td>...</td>\n      <td>...</td>\n      <td>...</td>\n      <td>...</td>\n      <td>...</td>\n      <td>...</td>\n      <td>...</td>\n      <td>...</td>\n    </tr>\n    <tr>\n      <th>Bunbury Catholic College</th>\n      <td>2016</td>\n      <td>68</td>\n      <td>6230</td>\n      <td>91</td>\n      <td>1370</td>\n      <td>1035</td>\n      <td>Bunbury</td>\n      <td>115.661424</td>\n      <td>-33.343422</td>\n      <td>Non-government</td>\n      <td>Co-ed</td>\n      <td>Catholic</td>\n    </tr>\n    <tr>\n      <th>St Norbert College</th>\n      <td>2016</td>\n      <td>69</td>\n      <td>6107</td>\n      <td>90</td>\n      <td>890</td>\n      <td>1044</td>\n      <td>Queens Park</td>\n      <td>115.940344</td>\n      <td>-32.004364</td>\n      <td>Non-government</td>\n      <td>Co-ed</td>\n      <td>Catholic</td>\n    </tr>\n    <tr>\n      <th>Kalbarri District High School</th>\n      <td>2016</td>\n      <td>70</td>\n      <td>6536</td>\n      <td>90</td>\n      <td>220</td>\n      <td>988</td>\n      <td>Kalbarri</td>\n      <td>114.163881</td>\n      <td>-27.712788</td>\n      <td>Government</td>\n      <td>Co-ed</td>\n      <td>Secular</td>\n    </tr>\n    <tr>\n      <th>Tranby College</th>\n      <td>2016</td>\n      <td>71</td>\n      <td>6171</td>\n      <td>90</td>\n      <td>884</td>\n      <td>1066</td>\n      <td>Baldivis</td>\n      <td>115.800243</td>\n      <td>-32.340570</td>\n      <td>Non-government</td>\n      <td>Co-ed</td>\n      <td>Uniting</td>\n    </tr>\n    <tr>\n      <th>Denmark Senior High School</th>\n      <td>2016</td>\n      <td>72</td>\n      <td>6333</td>\n      <td>90</td>\n      <td>401</td>\n      <td>1038</td>\n      <td>Denmark</td>\n      <td>117.364584</td>\n      <td>-34.957414</td>\n      <td>Government</td>\n      <td>Co-ed</td>\n      <td>Secular</td>\n    </tr>\n  </tbody>\n</table>\n<p>72 rows × 12 columns</p>\n</div>"
     },
     "metadata": {},
     "execution_count": 257
    }
   ],
   "source": [
    "# set the column \"School\" as the index for the \"wa_hs_icsea_2016\" Dataframe\n",
    "icsea_2016_db = wa_hs_icsea_2016.set_index('School')\n",
    "icsea_2016_db"
   ]
  },
  {
   "cell_type": "code",
   "execution_count": 258,
   "metadata": {},
   "outputs": [
    {
     "output_type": "execute_result",
     "data": {
      "text/plain": [
       "                                           Year  Rank  Postcode  \\\n",
       "School                                                            \n",
       "Perth Modern School                        2017     1      6008   \n",
       "International School of Western Australia  2017     2      6015   \n",
       "Hale School                                2017     3      6019   \n",
       "Methodist Ladies' College                  2017     4      6010   \n",
       "Christ Church Grammar School               2017     5      6010   \n",
       "...                                         ...   ...       ...   \n",
       "Bruce Rock District High School            2017    85      6418   \n",
       "Ashdale Secondary College                  2017    86      6065   \n",
       "St Mary Mackillop College                  2017    87      6280   \n",
       "Ellenbrook Christian College               2017    88      6069   \n",
       "Margaret River Senior High School          2017    89      6285   \n",
       "\n",
       "                                           State Overall Score  \\\n",
       "School                                                           \n",
       "Perth Modern School                                        100   \n",
       "International School of Western Australia                  100   \n",
       "Hale School                                                100   \n",
       "Methodist Ladies' College                                  100   \n",
       "Christ Church Grammar School                               100   \n",
       "...                                                        ...   \n",
       "Bruce Rock District High School                             90   \n",
       "Ashdale Secondary College                                   90   \n",
       "St Mary Mackillop College                                   90   \n",
       "Ellenbrook Christian College                                90   \n",
       "Margaret River Senior High School                           90   \n",
       "\n",
       "                                           Total Enrolments ICSEA  \\\n",
       "School                                                              \n",
       "Perth Modern School                                    1371  1239   \n",
       "International School of Western Australia               270  1182   \n",
       "Hale School                                            1489  1165   \n",
       "Methodist Ladies' College                              1151  1150   \n",
       "Christ Church Grammar School                           1651  1180   \n",
       "...                                                     ...   ...   \n",
       "Bruce Rock District High School                         142   952   \n",
       "Ashdale Secondary College                              1536  1030   \n",
       "St Mary Mackillop College                              1252  1045   \n",
       "Ellenbrook Christian College                            553  1043   \n",
       "Margaret River Senior High School                       991  1037   \n",
       "\n",
       "                                                   Suburb   Longitude  \\\n",
       "School                                                                  \n",
       "Perth Modern School                               Subiaco  115.836396   \n",
       "International School of Western Australia      Doubleview  115.777620   \n",
       "Hale School                                 Wembley Downs  115.783783   \n",
       "Methodist Ladies' College                       Claremont  115.775540   \n",
       "Christ Church Grammar School                    Claremont  115.776987   \n",
       "...                                                   ...         ...   \n",
       "Bruce Rock District High School                Bruce Rock  118.147663   \n",
       "Ashdale Secondary College                           Darch  115.841495   \n",
       "St Mary Mackillop College                       Busselton  115.330251   \n",
       "Ellenbrook Christian College                   Ellenbrook  115.959178   \n",
       "Margaret River Senior High School          Margaret River  115.074671   \n",
       "\n",
       "                                            Latitude          Sector Gender  \\\n",
       "School                                                                        \n",
       "Perth Modern School                       -31.945066      Government  Co-ed   \n",
       "International School of Western Australia -31.898500      Government  Co-ed   \n",
       "Hale School                               -31.912322  Non-government   Boys   \n",
       "Methodist Ladies' College                 -31.987012  Non-government  Girls   \n",
       "Christ Church Grammar School              -31.985461  Non-government   Boys   \n",
       "...                                              ...             ...    ...   \n",
       "Bruce Rock District High School           -31.873635      Government  Co-ed   \n",
       "Ashdale Secondary College                 -31.811623      Government  Co-ed   \n",
       "St Mary Mackillop College                 -33.662607  Non-government  Co-ed   \n",
       "Ellenbrook Christian College              -31.786783  Non-government  Co-ed   \n",
       "Margaret River Senior High School         -33.954318      Government  Co-ed   \n",
       "\n",
       "                                            Religion  \n",
       "School                                                \n",
       "Perth Modern School                          Secular  \n",
       "International School of Western Australia    Secular  \n",
       "Hale School                                 Anglican  \n",
       "Methodist Ladies' College                  Methodist  \n",
       "Christ Church Grammar School                Anglican  \n",
       "...                                              ...  \n",
       "Bruce Rock District High School              Secular  \n",
       "Ashdale Secondary College                    Secular  \n",
       "St Mary Mackillop College                   Catholic  \n",
       "Ellenbrook Christian College               Christian  \n",
       "Margaret River Senior High School            Secular  \n",
       "\n",
       "[89 rows x 12 columns]"
      ],
      "text/html": "<div>\n<style scoped>\n    .dataframe tbody tr th:only-of-type {\n        vertical-align: middle;\n    }\n\n    .dataframe tbody tr th {\n        vertical-align: top;\n    }\n\n    .dataframe thead th {\n        text-align: right;\n    }\n</style>\n<table border=\"1\" class=\"dataframe\">\n  <thead>\n    <tr style=\"text-align: right;\">\n      <th></th>\n      <th>Year</th>\n      <th>Rank</th>\n      <th>Postcode</th>\n      <th>State Overall Score</th>\n      <th>Total Enrolments</th>\n      <th>ICSEA</th>\n      <th>Suburb</th>\n      <th>Longitude</th>\n      <th>Latitude</th>\n      <th>Sector</th>\n      <th>Gender</th>\n      <th>Religion</th>\n    </tr>\n    <tr>\n      <th>School</th>\n      <th></th>\n      <th></th>\n      <th></th>\n      <th></th>\n      <th></th>\n      <th></th>\n      <th></th>\n      <th></th>\n      <th></th>\n      <th></th>\n      <th></th>\n      <th></th>\n    </tr>\n  </thead>\n  <tbody>\n    <tr>\n      <th>Perth Modern School</th>\n      <td>2017</td>\n      <td>1</td>\n      <td>6008</td>\n      <td>100</td>\n      <td>1371</td>\n      <td>1239</td>\n      <td>Subiaco</td>\n      <td>115.836396</td>\n      <td>-31.945066</td>\n      <td>Government</td>\n      <td>Co-ed</td>\n      <td>Secular</td>\n    </tr>\n    <tr>\n      <th>International School of Western Australia</th>\n      <td>2017</td>\n      <td>2</td>\n      <td>6015</td>\n      <td>100</td>\n      <td>270</td>\n      <td>1182</td>\n      <td>Doubleview</td>\n      <td>115.777620</td>\n      <td>-31.898500</td>\n      <td>Government</td>\n      <td>Co-ed</td>\n      <td>Secular</td>\n    </tr>\n    <tr>\n      <th>Hale School</th>\n      <td>2017</td>\n      <td>3</td>\n      <td>6019</td>\n      <td>100</td>\n      <td>1489</td>\n      <td>1165</td>\n      <td>Wembley Downs</td>\n      <td>115.783783</td>\n      <td>-31.912322</td>\n      <td>Non-government</td>\n      <td>Boys</td>\n      <td>Anglican</td>\n    </tr>\n    <tr>\n      <th>Methodist Ladies' College</th>\n      <td>2017</td>\n      <td>4</td>\n      <td>6010</td>\n      <td>100</td>\n      <td>1151</td>\n      <td>1150</td>\n      <td>Claremont</td>\n      <td>115.775540</td>\n      <td>-31.987012</td>\n      <td>Non-government</td>\n      <td>Girls</td>\n      <td>Methodist</td>\n    </tr>\n    <tr>\n      <th>Christ Church Grammar School</th>\n      <td>2017</td>\n      <td>5</td>\n      <td>6010</td>\n      <td>100</td>\n      <td>1651</td>\n      <td>1180</td>\n      <td>Claremont</td>\n      <td>115.776987</td>\n      <td>-31.985461</td>\n      <td>Non-government</td>\n      <td>Boys</td>\n      <td>Anglican</td>\n    </tr>\n    <tr>\n      <th>...</th>\n      <td>...</td>\n      <td>...</td>\n      <td>...</td>\n      <td>...</td>\n      <td>...</td>\n      <td>...</td>\n      <td>...</td>\n      <td>...</td>\n      <td>...</td>\n      <td>...</td>\n      <td>...</td>\n      <td>...</td>\n    </tr>\n    <tr>\n      <th>Bruce Rock District High School</th>\n      <td>2017</td>\n      <td>85</td>\n      <td>6418</td>\n      <td>90</td>\n      <td>142</td>\n      <td>952</td>\n      <td>Bruce Rock</td>\n      <td>118.147663</td>\n      <td>-31.873635</td>\n      <td>Government</td>\n      <td>Co-ed</td>\n      <td>Secular</td>\n    </tr>\n    <tr>\n      <th>Ashdale Secondary College</th>\n      <td>2017</td>\n      <td>86</td>\n      <td>6065</td>\n      <td>90</td>\n      <td>1536</td>\n      <td>1030</td>\n      <td>Darch</td>\n      <td>115.841495</td>\n      <td>-31.811623</td>\n      <td>Government</td>\n      <td>Co-ed</td>\n      <td>Secular</td>\n    </tr>\n    <tr>\n      <th>St Mary Mackillop College</th>\n      <td>2017</td>\n      <td>87</td>\n      <td>6280</td>\n      <td>90</td>\n      <td>1252</td>\n      <td>1045</td>\n      <td>Busselton</td>\n      <td>115.330251</td>\n      <td>-33.662607</td>\n      <td>Non-government</td>\n      <td>Co-ed</td>\n      <td>Catholic</td>\n    </tr>\n    <tr>\n      <th>Ellenbrook Christian College</th>\n      <td>2017</td>\n      <td>88</td>\n      <td>6069</td>\n      <td>90</td>\n      <td>553</td>\n      <td>1043</td>\n      <td>Ellenbrook</td>\n      <td>115.959178</td>\n      <td>-31.786783</td>\n      <td>Non-government</td>\n      <td>Co-ed</td>\n      <td>Christian</td>\n    </tr>\n    <tr>\n      <th>Margaret River Senior High School</th>\n      <td>2017</td>\n      <td>89</td>\n      <td>6285</td>\n      <td>90</td>\n      <td>991</td>\n      <td>1037</td>\n      <td>Margaret River</td>\n      <td>115.074671</td>\n      <td>-33.954318</td>\n      <td>Government</td>\n      <td>Co-ed</td>\n      <td>Secular</td>\n    </tr>\n  </tbody>\n</table>\n<p>89 rows × 12 columns</p>\n</div>"
     },
     "metadata": {},
     "execution_count": 258
    }
   ],
   "source": [
    "# set the column \"School\" as the index for the \"wa_hs_icsea_2017\" Dataframe\n",
    "icsea_2017_db = wa_hs_icsea_2017.set_index('School')\n",
    "icsea_2017_db"
   ]
  },
  {
   "cell_type": "code",
   "execution_count": 259,
   "metadata": {},
   "outputs": [
    {
     "output_type": "execute_result",
     "data": {
      "text/plain": [
       "                                          Year  Rank  Postcode  \\\n",
       "School                                                           \n",
       "Perth Modern School                       2018     1      6008   \n",
       "Christ Church Grammar School              2018     2      6010   \n",
       "Hale School                               2018     3      6019   \n",
       "Rossmoyne Senior High School              2018     4      6148   \n",
       "St Hilda's Anglican School for Girls      2018     5      6012   \n",
       "...                                        ...   ...       ...   \n",
       "Mandurah Baptist College                  2018    89      6180   \n",
       "Ashdale Secondary College                 2018    90      6065   \n",
       "St Mary Mackillop College                 2018    91      6280   \n",
       "John Wollaston Anglican Community School  2018    92      6111   \n",
       "Bunbury Catholic College                  2018    93      6230   \n",
       "\n",
       "                                          State Overall Score  \\\n",
       "School                                                          \n",
       "Perth Modern School                                       100   \n",
       "Christ Church Grammar School                              100   \n",
       "Hale School                                               100   \n",
       "Rossmoyne Senior High School                              100   \n",
       "St Hilda's Anglican School for Girls                      100   \n",
       "...                                                       ...   \n",
       "Mandurah Baptist College                                   90   \n",
       "Ashdale Secondary College                                  90   \n",
       "St Mary Mackillop College                                  90   \n",
       "John Wollaston Anglican Community School                   90   \n",
       "Bunbury Catholic College                                   90   \n",
       "\n",
       "                                          Total Enrolments ICSEA  \\\n",
       "School                                                             \n",
       "Perth Modern School                                   1411  1239   \n",
       "Christ Church Grammar School                          1644  1180   \n",
       "Hale School                                           1504  1165   \n",
       "Rossmoyne Senior High School                          2122  1121   \n",
       "St Hilda's Anglican School for Girls                  1121  1197   \n",
       "...                                                    ...   ...   \n",
       "Mandurah Baptist College                              1174  1051   \n",
       "Ashdale Secondary College                             1597  1030   \n",
       "St Mary Mackillop College                             1326  1045   \n",
       "John Wollaston Anglican Community School               897  1054   \n",
       "Bunbury Catholic College                              1415  1035   \n",
       "\n",
       "                                                 Suburb   Longitude  \\\n",
       "School                                                                \n",
       "Perth Modern School                             Subiaco  115.836396   \n",
       "Christ Church Grammar School                  Claremont  115.776987   \n",
       "Hale School                               Wembley Downs  115.783783   \n",
       "Rossmoyne Senior High School                  Rossmoyne  115.870546   \n",
       "St Hilda's Anglican School for Girls        Mosman Park  115.767812   \n",
       "...                                                 ...         ...   \n",
       "Mandurah Baptist College                      Lakelands  115.760118   \n",
       "Ashdale Secondary College                         Darch  115.841495   \n",
       "St Mary Mackillop College                     Busselton  115.330251   \n",
       "John Wollaston Anglican Community School        Camillo  116.007834   \n",
       "Bunbury Catholic College                        Bunbury  115.661424   \n",
       "\n",
       "                                           Latitude          Sector Gender  \\\n",
       "School                                                                       \n",
       "Perth Modern School                      -31.945066      Government  Co-ed   \n",
       "Christ Church Grammar School             -31.985461  Non-government   Boys   \n",
       "Hale School                              -31.912322  Non-government   Boys   \n",
       "Rossmoyne Senior High School             -32.046265      Government  Co-ed   \n",
       "St Hilda's Anglican School for Girls     -32.005047  Non-government  Girls   \n",
       "...                                             ...             ...    ...   \n",
       "Mandurah Baptist College                 -32.478307  Non-government  Co-ed   \n",
       "Ashdale Secondary College                -31.811623      Government  Co-ed   \n",
       "St Mary Mackillop College                -33.662607  Non-government  Co-ed   \n",
       "John Wollaston Anglican Community School -32.104726  Non-government  Co-ed   \n",
       "Bunbury Catholic College                 -33.343422  Non-government  Co-ed   \n",
       "\n",
       "                                          Religion  \n",
       "School                                              \n",
       "Perth Modern School                        Secular  \n",
       "Christ Church Grammar School              Anglican  \n",
       "Hale School                               Anglican  \n",
       "Rossmoyne Senior High School               Secular  \n",
       "St Hilda's Anglican School for Girls      Anglican  \n",
       "...                                            ...  \n",
       "Mandurah Baptist College                   Baptist  \n",
       "Ashdale Secondary College                  Secular  \n",
       "St Mary Mackillop College                 Catholic  \n",
       "John Wollaston Anglican Community School  Anglican  \n",
       "Bunbury Catholic College                  Catholic  \n",
       "\n",
       "[93 rows x 12 columns]"
      ],
      "text/html": "<div>\n<style scoped>\n    .dataframe tbody tr th:only-of-type {\n        vertical-align: middle;\n    }\n\n    .dataframe tbody tr th {\n        vertical-align: top;\n    }\n\n    .dataframe thead th {\n        text-align: right;\n    }\n</style>\n<table border=\"1\" class=\"dataframe\">\n  <thead>\n    <tr style=\"text-align: right;\">\n      <th></th>\n      <th>Year</th>\n      <th>Rank</th>\n      <th>Postcode</th>\n      <th>State Overall Score</th>\n      <th>Total Enrolments</th>\n      <th>ICSEA</th>\n      <th>Suburb</th>\n      <th>Longitude</th>\n      <th>Latitude</th>\n      <th>Sector</th>\n      <th>Gender</th>\n      <th>Religion</th>\n    </tr>\n    <tr>\n      <th>School</th>\n      <th></th>\n      <th></th>\n      <th></th>\n      <th></th>\n      <th></th>\n      <th></th>\n      <th></th>\n      <th></th>\n      <th></th>\n      <th></th>\n      <th></th>\n      <th></th>\n    </tr>\n  </thead>\n  <tbody>\n    <tr>\n      <th>Perth Modern School</th>\n      <td>2018</td>\n      <td>1</td>\n      <td>6008</td>\n      <td>100</td>\n      <td>1411</td>\n      <td>1239</td>\n      <td>Subiaco</td>\n      <td>115.836396</td>\n      <td>-31.945066</td>\n      <td>Government</td>\n      <td>Co-ed</td>\n      <td>Secular</td>\n    </tr>\n    <tr>\n      <th>Christ Church Grammar School</th>\n      <td>2018</td>\n      <td>2</td>\n      <td>6010</td>\n      <td>100</td>\n      <td>1644</td>\n      <td>1180</td>\n      <td>Claremont</td>\n      <td>115.776987</td>\n      <td>-31.985461</td>\n      <td>Non-government</td>\n      <td>Boys</td>\n      <td>Anglican</td>\n    </tr>\n    <tr>\n      <th>Hale School</th>\n      <td>2018</td>\n      <td>3</td>\n      <td>6019</td>\n      <td>100</td>\n      <td>1504</td>\n      <td>1165</td>\n      <td>Wembley Downs</td>\n      <td>115.783783</td>\n      <td>-31.912322</td>\n      <td>Non-government</td>\n      <td>Boys</td>\n      <td>Anglican</td>\n    </tr>\n    <tr>\n      <th>Rossmoyne Senior High School</th>\n      <td>2018</td>\n      <td>4</td>\n      <td>6148</td>\n      <td>100</td>\n      <td>2122</td>\n      <td>1121</td>\n      <td>Rossmoyne</td>\n      <td>115.870546</td>\n      <td>-32.046265</td>\n      <td>Government</td>\n      <td>Co-ed</td>\n      <td>Secular</td>\n    </tr>\n    <tr>\n      <th>St Hilda's Anglican School for Girls</th>\n      <td>2018</td>\n      <td>5</td>\n      <td>6012</td>\n      <td>100</td>\n      <td>1121</td>\n      <td>1197</td>\n      <td>Mosman Park</td>\n      <td>115.767812</td>\n      <td>-32.005047</td>\n      <td>Non-government</td>\n      <td>Girls</td>\n      <td>Anglican</td>\n    </tr>\n    <tr>\n      <th>...</th>\n      <td>...</td>\n      <td>...</td>\n      <td>...</td>\n      <td>...</td>\n      <td>...</td>\n      <td>...</td>\n      <td>...</td>\n      <td>...</td>\n      <td>...</td>\n      <td>...</td>\n      <td>...</td>\n      <td>...</td>\n    </tr>\n    <tr>\n      <th>Mandurah Baptist College</th>\n      <td>2018</td>\n      <td>89</td>\n      <td>6180</td>\n      <td>90</td>\n      <td>1174</td>\n      <td>1051</td>\n      <td>Lakelands</td>\n      <td>115.760118</td>\n      <td>-32.478307</td>\n      <td>Non-government</td>\n      <td>Co-ed</td>\n      <td>Baptist</td>\n    </tr>\n    <tr>\n      <th>Ashdale Secondary College</th>\n      <td>2018</td>\n      <td>90</td>\n      <td>6065</td>\n      <td>90</td>\n      <td>1597</td>\n      <td>1030</td>\n      <td>Darch</td>\n      <td>115.841495</td>\n      <td>-31.811623</td>\n      <td>Government</td>\n      <td>Co-ed</td>\n      <td>Secular</td>\n    </tr>\n    <tr>\n      <th>St Mary Mackillop College</th>\n      <td>2018</td>\n      <td>91</td>\n      <td>6280</td>\n      <td>90</td>\n      <td>1326</td>\n      <td>1045</td>\n      <td>Busselton</td>\n      <td>115.330251</td>\n      <td>-33.662607</td>\n      <td>Non-government</td>\n      <td>Co-ed</td>\n      <td>Catholic</td>\n    </tr>\n    <tr>\n      <th>John Wollaston Anglican Community School</th>\n      <td>2018</td>\n      <td>92</td>\n      <td>6111</td>\n      <td>90</td>\n      <td>897</td>\n      <td>1054</td>\n      <td>Camillo</td>\n      <td>116.007834</td>\n      <td>-32.104726</td>\n      <td>Non-government</td>\n      <td>Co-ed</td>\n      <td>Anglican</td>\n    </tr>\n    <tr>\n      <th>Bunbury Catholic College</th>\n      <td>2018</td>\n      <td>93</td>\n      <td>6230</td>\n      <td>90</td>\n      <td>1415</td>\n      <td>1035</td>\n      <td>Bunbury</td>\n      <td>115.661424</td>\n      <td>-33.343422</td>\n      <td>Non-government</td>\n      <td>Co-ed</td>\n      <td>Catholic</td>\n    </tr>\n  </tbody>\n</table>\n<p>93 rows × 12 columns</p>\n</div>"
     },
     "metadata": {},
     "execution_count": 259
    }
   ],
   "source": [
    "# set the column \"School\" as the index for the \"wa_hs_icsea_2018\" Dataframe\n",
    "icsea_2018_db = wa_hs_icsea_2018.set_index('School')\n",
    "icsea_2018_db"
   ]
  },
  {
   "cell_type": "code",
   "execution_count": 260,
   "metadata": {},
   "outputs": [
    {
     "output_type": "execute_result",
     "data": {
      "text/plain": [
       "                                       Year  Rank  Postcode  \\\n",
       "School                                                        \n",
       "Perth Modern School                    2019     1      6008   \n",
       "St Hilda's Anglican School for Girls   2019     2      6012   \n",
       "Christ Church Grammar School           2019     3      6010   \n",
       "Rossmoyne Senior High School           2019     4      6148   \n",
       "St Mary's Anglican Girls' School       2019     5      6018   \n",
       "...                                     ...   ...       ...   \n",
       "Swan Valley Anglican Community School  2019    90      6069   \n",
       "Boyup Brook District High School       2019    91      6244   \n",
       "Mater Dei College                      2019    92      6027   \n",
       "Emmanuel Catholic College              2019    93      6164   \n",
       "Emmanuel Christian Community School    2019    94      6064   \n",
       "\n",
       "                                       State Overall Score  Total Enrolments  \\\n",
       "School                                                                         \n",
       "Perth Modern School                                    100              1418   \n",
       "St Hilda's Anglican School for Girls                   100              1087   \n",
       "Christ Church Grammar School                           100              1646   \n",
       "Rossmoyne Senior High School                           100              2188   \n",
       "St Mary's Anglican Girls' School                       100              1414   \n",
       "...                                                    ...               ...   \n",
       "Swan Valley Anglican Community School                   90              1031   \n",
       "Boyup Brook District High School                        90               162   \n",
       "Mater Dei College                                       90               804   \n",
       "Emmanuel Catholic College                               90              1061   \n",
       "Emmanuel Christian Community School                     90               552   \n",
       "\n",
       "                                      ICSEA       Suburb   Longitude  \\\n",
       "School                                                                 \n",
       "Perth Modern School                    1239      Subiaco  115.836396   \n",
       "St Hilda's Anglican School for Girls   1197  Mosman Park  115.767812   \n",
       "Christ Church Grammar School           1180    Claremont  115.776987   \n",
       "Rossmoyne Senior High School           1121    Rossmoyne  115.870546   \n",
       "St Mary's Anglican Girls' School       1158    Karrinyup  115.766244   \n",
       "...                                     ...          ...         ...   \n",
       "Swan Valley Anglican Community School  1045       Aveley  115.985452   \n",
       "Boyup Brook District High School       1002  Boyup Brook  116.391338   \n",
       "Mater Dei College                      1055    Edgewater  115.776519   \n",
       "Emmanuel Catholic College              1036      Success  115.840070   \n",
       "Emmanuel Christian Community School     980   Girrawheen  115.848262   \n",
       "\n",
       "                                        Latitude          Sector Gender  \\\n",
       "School                                                                    \n",
       "Perth Modern School                   -31.945066      Government  Co-ed   \n",
       "St Hilda's Anglican School for Girls  -32.005047  Non-government  Girls   \n",
       "Christ Church Grammar School          -31.985461  Non-government   Boys   \n",
       "Rossmoyne Senior High School          -32.046265      Government  Co-ed   \n",
       "St Mary's Anglican Girls' School      -31.876971  Non-government  Girls   \n",
       "...                                          ...             ...    ...   \n",
       "Swan Valley Anglican Community School -31.794345  Non-government  Co-ed   \n",
       "Boyup Brook District High School      -33.836347      Government  Co-ed   \n",
       "Mater Dei College                     -31.764660  Non-government  Co-ed   \n",
       "Emmanuel Catholic College             -32.128578  Non-government  Co-ed   \n",
       "Emmanuel Christian Community School   -31.846204  Non-government  Co-ed   \n",
       "\n",
       "                                        Religion  \n",
       "School                                            \n",
       "Perth Modern School                      Secular  \n",
       "St Hilda's Anglican School for Girls    Anglican  \n",
       "Christ Church Grammar School            Anglican  \n",
       "Rossmoyne Senior High School             Secular  \n",
       "St Mary's Anglican Girls' School        Anglican  \n",
       "...                                          ...  \n",
       "Swan Valley Anglican Community School   Anglican  \n",
       "Boyup Brook District High School         Secular  \n",
       "Mater Dei College                       Catholic  \n",
       "Emmanuel Catholic College               Catholic  \n",
       "Emmanuel Christian Community School    Christian  \n",
       "\n",
       "[94 rows x 12 columns]"
      ],
      "text/html": "<div>\n<style scoped>\n    .dataframe tbody tr th:only-of-type {\n        vertical-align: middle;\n    }\n\n    .dataframe tbody tr th {\n        vertical-align: top;\n    }\n\n    .dataframe thead th {\n        text-align: right;\n    }\n</style>\n<table border=\"1\" class=\"dataframe\">\n  <thead>\n    <tr style=\"text-align: right;\">\n      <th></th>\n      <th>Year</th>\n      <th>Rank</th>\n      <th>Postcode</th>\n      <th>State Overall Score</th>\n      <th>Total Enrolments</th>\n      <th>ICSEA</th>\n      <th>Suburb</th>\n      <th>Longitude</th>\n      <th>Latitude</th>\n      <th>Sector</th>\n      <th>Gender</th>\n      <th>Religion</th>\n    </tr>\n    <tr>\n      <th>School</th>\n      <th></th>\n      <th></th>\n      <th></th>\n      <th></th>\n      <th></th>\n      <th></th>\n      <th></th>\n      <th></th>\n      <th></th>\n      <th></th>\n      <th></th>\n      <th></th>\n    </tr>\n  </thead>\n  <tbody>\n    <tr>\n      <th>Perth Modern School</th>\n      <td>2019</td>\n      <td>1</td>\n      <td>6008</td>\n      <td>100</td>\n      <td>1418</td>\n      <td>1239</td>\n      <td>Subiaco</td>\n      <td>115.836396</td>\n      <td>-31.945066</td>\n      <td>Government</td>\n      <td>Co-ed</td>\n      <td>Secular</td>\n    </tr>\n    <tr>\n      <th>St Hilda's Anglican School for Girls</th>\n      <td>2019</td>\n      <td>2</td>\n      <td>6012</td>\n      <td>100</td>\n      <td>1087</td>\n      <td>1197</td>\n      <td>Mosman Park</td>\n      <td>115.767812</td>\n      <td>-32.005047</td>\n      <td>Non-government</td>\n      <td>Girls</td>\n      <td>Anglican</td>\n    </tr>\n    <tr>\n      <th>Christ Church Grammar School</th>\n      <td>2019</td>\n      <td>3</td>\n      <td>6010</td>\n      <td>100</td>\n      <td>1646</td>\n      <td>1180</td>\n      <td>Claremont</td>\n      <td>115.776987</td>\n      <td>-31.985461</td>\n      <td>Non-government</td>\n      <td>Boys</td>\n      <td>Anglican</td>\n    </tr>\n    <tr>\n      <th>Rossmoyne Senior High School</th>\n      <td>2019</td>\n      <td>4</td>\n      <td>6148</td>\n      <td>100</td>\n      <td>2188</td>\n      <td>1121</td>\n      <td>Rossmoyne</td>\n      <td>115.870546</td>\n      <td>-32.046265</td>\n      <td>Government</td>\n      <td>Co-ed</td>\n      <td>Secular</td>\n    </tr>\n    <tr>\n      <th>St Mary's Anglican Girls' School</th>\n      <td>2019</td>\n      <td>5</td>\n      <td>6018</td>\n      <td>100</td>\n      <td>1414</td>\n      <td>1158</td>\n      <td>Karrinyup</td>\n      <td>115.766244</td>\n      <td>-31.876971</td>\n      <td>Non-government</td>\n      <td>Girls</td>\n      <td>Anglican</td>\n    </tr>\n    <tr>\n      <th>...</th>\n      <td>...</td>\n      <td>...</td>\n      <td>...</td>\n      <td>...</td>\n      <td>...</td>\n      <td>...</td>\n      <td>...</td>\n      <td>...</td>\n      <td>...</td>\n      <td>...</td>\n      <td>...</td>\n      <td>...</td>\n    </tr>\n    <tr>\n      <th>Swan Valley Anglican Community School</th>\n      <td>2019</td>\n      <td>90</td>\n      <td>6069</td>\n      <td>90</td>\n      <td>1031</td>\n      <td>1045</td>\n      <td>Aveley</td>\n      <td>115.985452</td>\n      <td>-31.794345</td>\n      <td>Non-government</td>\n      <td>Co-ed</td>\n      <td>Anglican</td>\n    </tr>\n    <tr>\n      <th>Boyup Brook District High School</th>\n      <td>2019</td>\n      <td>91</td>\n      <td>6244</td>\n      <td>90</td>\n      <td>162</td>\n      <td>1002</td>\n      <td>Boyup Brook</td>\n      <td>116.391338</td>\n      <td>-33.836347</td>\n      <td>Government</td>\n      <td>Co-ed</td>\n      <td>Secular</td>\n    </tr>\n    <tr>\n      <th>Mater Dei College</th>\n      <td>2019</td>\n      <td>92</td>\n      <td>6027</td>\n      <td>90</td>\n      <td>804</td>\n      <td>1055</td>\n      <td>Edgewater</td>\n      <td>115.776519</td>\n      <td>-31.764660</td>\n      <td>Non-government</td>\n      <td>Co-ed</td>\n      <td>Catholic</td>\n    </tr>\n    <tr>\n      <th>Emmanuel Catholic College</th>\n      <td>2019</td>\n      <td>93</td>\n      <td>6164</td>\n      <td>90</td>\n      <td>1061</td>\n      <td>1036</td>\n      <td>Success</td>\n      <td>115.840070</td>\n      <td>-32.128578</td>\n      <td>Non-government</td>\n      <td>Co-ed</td>\n      <td>Catholic</td>\n    </tr>\n    <tr>\n      <th>Emmanuel Christian Community School</th>\n      <td>2019</td>\n      <td>94</td>\n      <td>6064</td>\n      <td>90</td>\n      <td>552</td>\n      <td>980</td>\n      <td>Girrawheen</td>\n      <td>115.848262</td>\n      <td>-31.846204</td>\n      <td>Non-government</td>\n      <td>Co-ed</td>\n      <td>Christian</td>\n    </tr>\n  </tbody>\n</table>\n<p>94 rows × 12 columns</p>\n</div>"
     },
     "metadata": {},
     "execution_count": 260
    }
   ],
   "source": [
    "# set the column \"School\" as the index for the \"wa_hs_icsea_2019\" Dataframe\n",
    "icsea_2019_db = wa_hs_icsea_2019.set_index('School')\n",
    "icsea_2019_db"
   ]
  },
  {
   "cell_type": "code",
   "execution_count": 261,
   "metadata": {},
   "outputs": [],
   "source": [
    "# create a connection with PostgreSQL with the database \"schools\"\n",
    "connection_string = f\"{username}:{password}@localhost:5432/schools\"\n",
    "engine = create_engine(f'postgresql://{connection_string}')"
   ]
  },
  {
   "cell_type": "code",
   "execution_count": 262,
   "metadata": {},
   "outputs": [
    {
     "output_type": "execute_result",
     "data": {
      "text/plain": [
       "['atar_ratings',\n",
       " 'naplan_ratings',\n",
       " 'atar_2016_ratings',\n",
       " 'atar_2017_ratings',\n",
       " 'atar_2018_ratings',\n",
       " 'atar_2019_ratings',\n",
       " 'atar_2020_ratings',\n",
       " 'icsea_2016_ratings',\n",
       " 'icsea_2017_ratings',\n",
       " 'icsea_2018_ratings',\n",
       " 'icsea_2019_ratings',\n",
       " 'ml_first_model',\n",
       " 'ml_second_model',\n",
       " 'ml_third_model']"
      ]
     },
     "metadata": {},
     "execution_count": 262
    }
   ],
   "source": [
    "# check the table name/s in the database \"schools\"\n",
    "engine.table_names()"
   ]
  },
  {
   "cell_type": "code",
   "execution_count": 263,
   "metadata": {},
   "outputs": [
    {
     "output_type": "stream",
     "name": "stdout",
     "text": [
      "{'name': 'School', 'type': VARCHAR(), 'nullable': False, 'default': None, 'autoincrement': False, 'comment': None}\n{'name': 'Year', 'type': INTEGER(), 'nullable': False, 'default': None, 'autoincrement': False, 'comment': None}\n{'name': 'Rank', 'type': INTEGER(), 'nullable': False, 'default': None, 'autoincrement': False, 'comment': None}\n{'name': 'Level', 'type': VARCHAR(), 'nullable': False, 'default': None, 'autoincrement': False, 'comment': None}\n{'name': 'Reading', 'type': INTEGER(), 'nullable': False, 'default': None, 'autoincrement': False, 'comment': None}\n{'name': 'Writing', 'type': INTEGER(), 'nullable': False, 'default': None, 'autoincrement': False, 'comment': None}\n{'name': 'Spelling', 'type': INTEGER(), 'nullable': False, 'default': None, 'autoincrement': False, 'comment': None}\n{'name': 'Grammar', 'type': INTEGER(), 'nullable': False, 'default': None, 'autoincrement': False, 'comment': None}\n{'name': 'Numeracy', 'type': INTEGER(), 'nullable': False, 'default': None, 'autoincrement': False, 'comment': None}\n{'name': 'Average', 'type': NUMERIC(), 'nullable': False, 'default': None, 'autoincrement': False, 'comment': None}\n{'name': 'Suburb', 'type': VARCHAR(), 'nullable': False, 'default': None, 'autoincrement': False, 'comment': None}\n{'name': 'Longitude', 'type': NUMERIC(precision=10, scale=7), 'nullable': False, 'default': None, 'autoincrement': False, 'comment': None}\n{'name': 'Latitude', 'type': NUMERIC(precision=10, scale=8), 'nullable': False, 'default': None, 'autoincrement': False, 'comment': None}\n{'name': 'Sector', 'type': VARCHAR(), 'nullable': False, 'default': None, 'autoincrement': False, 'comment': None}\n{'name': 'Gender', 'type': VARCHAR(), 'nullable': False, 'default': None, 'autoincrement': False, 'comment': None}\n{'name': 'Religion', 'type': VARCHAR(), 'nullable': False, 'default': None, 'autoincrement': False, 'comment': None}\n{'name': 'ICSEA', 'type': INTEGER(), 'nullable': False, 'default': None, 'autoincrement': False, 'comment': None}\n"
     ]
    }
   ],
   "source": [
    "# check the column names in the table \"naplan_ratings\"\n",
    "inspector=inspect(engine)\n",
    "columns=inspector.get_columns('naplan_ratings')\n",
    "for column in columns:\n",
    "    print(column)"
   ]
  },
  {
   "cell_type": "code",
   "execution_count": 264,
   "metadata": {},
   "outputs": [
    {
     "output_type": "stream",
     "name": "stdout",
     "text": [
      "{'name': 'School', 'type': VARCHAR(), 'nullable': False, 'default': None, 'autoincrement': False, 'comment': None}\n{'name': 'Year', 'type': INTEGER(), 'nullable': False, 'default': None, 'autoincrement': False, 'comment': None}\n{'name': 'Rank', 'type': INTEGER(), 'nullable': False, 'default': None, 'autoincrement': False, 'comment': None}\n{'name': 'Median ATAR', 'type': NUMERIC(), 'nullable': False, 'default': None, 'autoincrement': False, 'comment': None}\n{'name': 'No. eligible Yr 12 students', 'type': INTEGER(), 'nullable': False, 'default': None, 'autoincrement': False, 'comment': None}\n{'name': 'No. Students with an ATAR', 'type': INTEGER(), 'nullable': False, 'default': None, 'autoincrement': False, 'comment': None}\n{'name': 'Percentage of students with an ATAR', 'type': NUMERIC(), 'nullable': False, 'default': None, 'autoincrement': False, 'comment': None}\n{'name': 'Suburb', 'type': VARCHAR(), 'nullable': False, 'default': None, 'autoincrement': False, 'comment': None}\n{'name': 'Longitude', 'type': NUMERIC(precision=10, scale=7), 'nullable': False, 'default': None, 'autoincrement': False, 'comment': None}\n{'name': 'Latitude', 'type': NUMERIC(precision=10, scale=8), 'nullable': False, 'default': None, 'autoincrement': False, 'comment': None}\n{'name': 'Sector', 'type': VARCHAR(), 'nullable': False, 'default': None, 'autoincrement': False, 'comment': None}\n{'name': 'Gender', 'type': VARCHAR(), 'nullable': False, 'default': None, 'autoincrement': False, 'comment': None}\n{'name': 'Religion', 'type': VARCHAR(), 'nullable': False, 'default': None, 'autoincrement': False, 'comment': None}\n"
     ]
    }
   ],
   "source": [
    "# check the column names in the table \"atar_ratings\"\n",
    "inspector=inspect(engine)\n",
    "columns=inspector.get_columns('atar_2016_ratings')\n",
    "for column in columns:\n",
    "    print(column)"
   ]
  },
  {
   "cell_type": "code",
   "execution_count": 265,
   "metadata": {},
   "outputs": [
    {
     "output_type": "stream",
     "name": "stdout",
     "text": [
      "{'name': 'School', 'type': VARCHAR(), 'nullable': False, 'default': None, 'autoincrement': False, 'comment': None}\n{'name': 'Year', 'type': INTEGER(), 'nullable': False, 'default': None, 'autoincrement': False, 'comment': None}\n{'name': 'Rank', 'type': INTEGER(), 'nullable': False, 'default': None, 'autoincrement': False, 'comment': None}\n{'name': 'Median ATAR', 'type': NUMERIC(), 'nullable': False, 'default': None, 'autoincrement': False, 'comment': None}\n{'name': 'No. eligible Yr 12 students', 'type': INTEGER(), 'nullable': False, 'default': None, 'autoincrement': False, 'comment': None}\n{'name': 'No. Students with an ATAR', 'type': INTEGER(), 'nullable': False, 'default': None, 'autoincrement': False, 'comment': None}\n{'name': 'Percentage of students with an ATAR', 'type': NUMERIC(), 'nullable': False, 'default': None, 'autoincrement': False, 'comment': None}\n{'name': 'Suburb', 'type': VARCHAR(), 'nullable': False, 'default': None, 'autoincrement': False, 'comment': None}\n{'name': 'Longitude', 'type': NUMERIC(precision=10, scale=7), 'nullable': False, 'default': None, 'autoincrement': False, 'comment': None}\n{'name': 'Latitude', 'type': NUMERIC(precision=10, scale=8), 'nullable': False, 'default': None, 'autoincrement': False, 'comment': None}\n{'name': 'Sector', 'type': VARCHAR(), 'nullable': False, 'default': None, 'autoincrement': False, 'comment': None}\n{'name': 'Gender', 'type': VARCHAR(), 'nullable': False, 'default': None, 'autoincrement': False, 'comment': None}\n{'name': 'Religion', 'type': VARCHAR(), 'nullable': False, 'default': None, 'autoincrement': False, 'comment': None}\n"
     ]
    }
   ],
   "source": [
    "# check the column names in the table \"atar_ratings\"\n",
    "inspector=inspect(engine)\n",
    "columns=inspector.get_columns('atar_2017_ratings')\n",
    "for column in columns:\n",
    "    print(column)"
   ]
  },
  {
   "cell_type": "code",
   "execution_count": 266,
   "metadata": {},
   "outputs": [
    {
     "output_type": "stream",
     "name": "stdout",
     "text": [
      "{'name': 'School', 'type': VARCHAR(), 'nullable': False, 'default': None, 'autoincrement': False, 'comment': None}\n{'name': 'Year', 'type': INTEGER(), 'nullable': False, 'default': None, 'autoincrement': False, 'comment': None}\n{'name': 'Rank', 'type': INTEGER(), 'nullable': False, 'default': None, 'autoincrement': False, 'comment': None}\n{'name': 'Median ATAR', 'type': NUMERIC(), 'nullable': False, 'default': None, 'autoincrement': False, 'comment': None}\n{'name': 'No. eligible Yr 12 students', 'type': INTEGER(), 'nullable': False, 'default': None, 'autoincrement': False, 'comment': None}\n{'name': 'No. Students with an ATAR', 'type': INTEGER(), 'nullable': False, 'default': None, 'autoincrement': False, 'comment': None}\n{'name': 'Percentage of students with an ATAR', 'type': NUMERIC(), 'nullable': False, 'default': None, 'autoincrement': False, 'comment': None}\n{'name': 'Suburb', 'type': VARCHAR(), 'nullable': False, 'default': None, 'autoincrement': False, 'comment': None}\n{'name': 'Longitude', 'type': NUMERIC(precision=10, scale=7), 'nullable': False, 'default': None, 'autoincrement': False, 'comment': None}\n{'name': 'Latitude', 'type': NUMERIC(precision=10, scale=8), 'nullable': False, 'default': None, 'autoincrement': False, 'comment': None}\n{'name': 'Sector', 'type': VARCHAR(), 'nullable': False, 'default': None, 'autoincrement': False, 'comment': None}\n{'name': 'Gender', 'type': VARCHAR(), 'nullable': False, 'default': None, 'autoincrement': False, 'comment': None}\n{'name': 'Religion', 'type': VARCHAR(), 'nullable': False, 'default': None, 'autoincrement': False, 'comment': None}\n"
     ]
    }
   ],
   "source": [
    "# check the column names in the table \"atar_ratings\"\n",
    "inspector=inspect(engine)\n",
    "columns=inspector.get_columns('atar_2018_ratings')\n",
    "for column in columns:\n",
    "    print(column)"
   ]
  },
  {
   "cell_type": "code",
   "execution_count": 267,
   "metadata": {},
   "outputs": [
    {
     "output_type": "stream",
     "name": "stdout",
     "text": [
      "{'name': 'School', 'type': VARCHAR(), 'nullable': False, 'default': None, 'autoincrement': False, 'comment': None}\n{'name': 'Year', 'type': INTEGER(), 'nullable': False, 'default': None, 'autoincrement': False, 'comment': None}\n{'name': 'Rank', 'type': INTEGER(), 'nullable': False, 'default': None, 'autoincrement': False, 'comment': None}\n{'name': 'Median ATAR', 'type': NUMERIC(), 'nullable': False, 'default': None, 'autoincrement': False, 'comment': None}\n{'name': 'No. eligible Yr 12 students', 'type': INTEGER(), 'nullable': False, 'default': None, 'autoincrement': False, 'comment': None}\n{'name': 'No. Students with an ATAR', 'type': INTEGER(), 'nullable': False, 'default': None, 'autoincrement': False, 'comment': None}\n{'name': 'Percentage of students with an ATAR', 'type': NUMERIC(), 'nullable': False, 'default': None, 'autoincrement': False, 'comment': None}\n{'name': 'Suburb', 'type': VARCHAR(), 'nullable': False, 'default': None, 'autoincrement': False, 'comment': None}\n{'name': 'Longitude', 'type': NUMERIC(precision=10, scale=7), 'nullable': False, 'default': None, 'autoincrement': False, 'comment': None}\n{'name': 'Latitude', 'type': NUMERIC(precision=10, scale=8), 'nullable': False, 'default': None, 'autoincrement': False, 'comment': None}\n{'name': 'Sector', 'type': VARCHAR(), 'nullable': False, 'default': None, 'autoincrement': False, 'comment': None}\n{'name': 'Gender', 'type': VARCHAR(), 'nullable': False, 'default': None, 'autoincrement': False, 'comment': None}\n{'name': 'Religion', 'type': VARCHAR(), 'nullable': False, 'default': None, 'autoincrement': False, 'comment': None}\n"
     ]
    }
   ],
   "source": [
    "# check the column names in the table \"atar_ratings\"\n",
    "inspector=inspect(engine)\n",
    "columns=inspector.get_columns('atar_2019_ratings')\n",
    "for column in columns:\n",
    "    print(column)"
   ]
  },
  {
   "cell_type": "code",
   "execution_count": 268,
   "metadata": {},
   "outputs": [
    {
     "output_type": "stream",
     "name": "stdout",
     "text": [
      "{'name': 'School', 'type': VARCHAR(), 'nullable': False, 'default': None, 'autoincrement': False, 'comment': None}\n{'name': 'Year', 'type': INTEGER(), 'nullable': False, 'default': None, 'autoincrement': False, 'comment': None}\n{'name': 'Rank', 'type': INTEGER(), 'nullable': False, 'default': None, 'autoincrement': False, 'comment': None}\n{'name': 'Median ATAR', 'type': NUMERIC(), 'nullable': False, 'default': None, 'autoincrement': False, 'comment': None}\n{'name': 'No. eligible Yr 12 students', 'type': INTEGER(), 'nullable': False, 'default': None, 'autoincrement': False, 'comment': None}\n{'name': 'No. Students with an ATAR', 'type': INTEGER(), 'nullable': False, 'default': None, 'autoincrement': False, 'comment': None}\n{'name': 'Percentage of students with an ATAR', 'type': NUMERIC(), 'nullable': False, 'default': None, 'autoincrement': False, 'comment': None}\n{'name': 'Suburb', 'type': VARCHAR(), 'nullable': False, 'default': None, 'autoincrement': False, 'comment': None}\n{'name': 'Longitude', 'type': NUMERIC(precision=10, scale=7), 'nullable': False, 'default': None, 'autoincrement': False, 'comment': None}\n{'name': 'Latitude', 'type': NUMERIC(precision=10, scale=8), 'nullable': False, 'default': None, 'autoincrement': False, 'comment': None}\n{'name': 'Sector', 'type': VARCHAR(), 'nullable': False, 'default': None, 'autoincrement': False, 'comment': None}\n{'name': 'Gender', 'type': VARCHAR(), 'nullable': False, 'default': None, 'autoincrement': False, 'comment': None}\n{'name': 'Religion', 'type': VARCHAR(), 'nullable': False, 'default': None, 'autoincrement': False, 'comment': None}\n"
     ]
    }
   ],
   "source": [
    "# check the column names in the table \"atar_ratings\"\n",
    "inspector=inspect(engine)\n",
    "columns=inspector.get_columns('atar_2020_ratings')\n",
    "for column in columns:\n",
    "    print(column)"
   ]
  },
  {
   "cell_type": "code",
   "execution_count": 269,
   "metadata": {},
   "outputs": [
    {
     "output_type": "stream",
     "name": "stdout",
     "text": [
      "{'name': 'School', 'type': VARCHAR(), 'nullable': False, 'default': None, 'autoincrement': False, 'comment': None}\n{'name': 'Year', 'type': INTEGER(), 'nullable': False, 'default': None, 'autoincrement': False, 'comment': None}\n{'name': 'Rank', 'type': INTEGER(), 'nullable': False, 'default': None, 'autoincrement': False, 'comment': None}\n{'name': 'Median ATAR', 'type': NUMERIC(), 'nullable': False, 'default': None, 'autoincrement': False, 'comment': None}\n{'name': 'No. eligible Yr 12 students', 'type': INTEGER(), 'nullable': False, 'default': None, 'autoincrement': False, 'comment': None}\n{'name': 'No. Students with an ATAR', 'type': INTEGER(), 'nullable': False, 'default': None, 'autoincrement': False, 'comment': None}\n{'name': 'Percentage of students with an ATAR', 'type': NUMERIC(), 'nullable': False, 'default': None, 'autoincrement': False, 'comment': None}\n{'name': 'Suburb', 'type': VARCHAR(), 'nullable': False, 'default': None, 'autoincrement': False, 'comment': None}\n{'name': 'Longitude', 'type': NUMERIC(precision=10, scale=7), 'nullable': False, 'default': None, 'autoincrement': False, 'comment': None}\n{'name': 'Latitude', 'type': NUMERIC(precision=10, scale=8), 'nullable': False, 'default': None, 'autoincrement': False, 'comment': None}\n{'name': 'Sector', 'type': VARCHAR(), 'nullable': False, 'default': None, 'autoincrement': False, 'comment': None}\n{'name': 'Gender', 'type': VARCHAR(), 'nullable': False, 'default': None, 'autoincrement': False, 'comment': None}\n{'name': 'Religion', 'type': VARCHAR(), 'nullable': False, 'default': None, 'autoincrement': False, 'comment': None}\n"
     ]
    }
   ],
   "source": [
    "# check the column names in the table \"icsea_ratings\"\n",
    "inspector=inspect(engine)\n",
    "columns=inspector.get_columns('atar_2016_ratings')\n",
    "for column in columns:\n",
    "    print(column)"
   ]
  },
  {
   "cell_type": "code",
   "execution_count": 270,
   "metadata": {},
   "outputs": [
    {
     "output_type": "stream",
     "name": "stdout",
     "text": [
      "{'name': 'School', 'type': VARCHAR(), 'nullable': False, 'default': None, 'autoincrement': False, 'comment': None}\n{'name': 'Year', 'type': INTEGER(), 'nullable': False, 'default': None, 'autoincrement': False, 'comment': None}\n{'name': 'Rank', 'type': INTEGER(), 'nullable': False, 'default': None, 'autoincrement': False, 'comment': None}\n{'name': 'Median ATAR', 'type': NUMERIC(), 'nullable': False, 'default': None, 'autoincrement': False, 'comment': None}\n{'name': 'No. eligible Yr 12 students', 'type': INTEGER(), 'nullable': False, 'default': None, 'autoincrement': False, 'comment': None}\n{'name': 'No. Students with an ATAR', 'type': INTEGER(), 'nullable': False, 'default': None, 'autoincrement': False, 'comment': None}\n{'name': 'Percentage of students with an ATAR', 'type': NUMERIC(), 'nullable': False, 'default': None, 'autoincrement': False, 'comment': None}\n{'name': 'Suburb', 'type': VARCHAR(), 'nullable': False, 'default': None, 'autoincrement': False, 'comment': None}\n{'name': 'Longitude', 'type': NUMERIC(precision=10, scale=7), 'nullable': False, 'default': None, 'autoincrement': False, 'comment': None}\n{'name': 'Latitude', 'type': NUMERIC(precision=10, scale=8), 'nullable': False, 'default': None, 'autoincrement': False, 'comment': None}\n{'name': 'Sector', 'type': VARCHAR(), 'nullable': False, 'default': None, 'autoincrement': False, 'comment': None}\n{'name': 'Gender', 'type': VARCHAR(), 'nullable': False, 'default': None, 'autoincrement': False, 'comment': None}\n{'name': 'Religion', 'type': VARCHAR(), 'nullable': False, 'default': None, 'autoincrement': False, 'comment': None}\n"
     ]
    }
   ],
   "source": [
    "# check the column names in the table \"icsea_ratings\"\n",
    "inspector=inspect(engine)\n",
    "columns=inspector.get_columns('atar_2017_ratings')\n",
    "for column in columns:\n",
    "    print(column)"
   ]
  },
  {
   "cell_type": "code",
   "execution_count": 271,
   "metadata": {},
   "outputs": [
    {
     "output_type": "stream",
     "name": "stdout",
     "text": [
      "{'name': 'School', 'type': VARCHAR(), 'nullable': False, 'default': None, 'autoincrement': False, 'comment': None}\n{'name': 'Year', 'type': INTEGER(), 'nullable': False, 'default': None, 'autoincrement': False, 'comment': None}\n{'name': 'Rank', 'type': INTEGER(), 'nullable': False, 'default': None, 'autoincrement': False, 'comment': None}\n{'name': 'Median ATAR', 'type': NUMERIC(), 'nullable': False, 'default': None, 'autoincrement': False, 'comment': None}\n{'name': 'No. eligible Yr 12 students', 'type': INTEGER(), 'nullable': False, 'default': None, 'autoincrement': False, 'comment': None}\n{'name': 'No. Students with an ATAR', 'type': INTEGER(), 'nullable': False, 'default': None, 'autoincrement': False, 'comment': None}\n{'name': 'Percentage of students with an ATAR', 'type': NUMERIC(), 'nullable': False, 'default': None, 'autoincrement': False, 'comment': None}\n{'name': 'Suburb', 'type': VARCHAR(), 'nullable': False, 'default': None, 'autoincrement': False, 'comment': None}\n{'name': 'Longitude', 'type': NUMERIC(precision=10, scale=7), 'nullable': False, 'default': None, 'autoincrement': False, 'comment': None}\n{'name': 'Latitude', 'type': NUMERIC(precision=10, scale=8), 'nullable': False, 'default': None, 'autoincrement': False, 'comment': None}\n{'name': 'Sector', 'type': VARCHAR(), 'nullable': False, 'default': None, 'autoincrement': False, 'comment': None}\n{'name': 'Gender', 'type': VARCHAR(), 'nullable': False, 'default': None, 'autoincrement': False, 'comment': None}\n{'name': 'Religion', 'type': VARCHAR(), 'nullable': False, 'default': None, 'autoincrement': False, 'comment': None}\n"
     ]
    }
   ],
   "source": [
    "# check the column names in the table \"icsea_ratings\"\n",
    "inspector=inspect(engine)\n",
    "columns=inspector.get_columns('atar_2018_ratings')\n",
    "for column in columns:\n",
    "    print(column)"
   ]
  },
  {
   "cell_type": "code",
   "execution_count": 272,
   "metadata": {},
   "outputs": [
    {
     "output_type": "stream",
     "name": "stdout",
     "text": [
      "{'name': 'School', 'type': VARCHAR(), 'nullable': False, 'default': None, 'autoincrement': False, 'comment': None}\n{'name': 'Year', 'type': INTEGER(), 'nullable': False, 'default': None, 'autoincrement': False, 'comment': None}\n{'name': 'Rank', 'type': INTEGER(), 'nullable': False, 'default': None, 'autoincrement': False, 'comment': None}\n{'name': 'Median ATAR', 'type': NUMERIC(), 'nullable': False, 'default': None, 'autoincrement': False, 'comment': None}\n{'name': 'No. eligible Yr 12 students', 'type': INTEGER(), 'nullable': False, 'default': None, 'autoincrement': False, 'comment': None}\n{'name': 'No. Students with an ATAR', 'type': INTEGER(), 'nullable': False, 'default': None, 'autoincrement': False, 'comment': None}\n{'name': 'Percentage of students with an ATAR', 'type': NUMERIC(), 'nullable': False, 'default': None, 'autoincrement': False, 'comment': None}\n{'name': 'Suburb', 'type': VARCHAR(), 'nullable': False, 'default': None, 'autoincrement': False, 'comment': None}\n{'name': 'Longitude', 'type': NUMERIC(precision=10, scale=7), 'nullable': False, 'default': None, 'autoincrement': False, 'comment': None}\n{'name': 'Latitude', 'type': NUMERIC(precision=10, scale=8), 'nullable': False, 'default': None, 'autoincrement': False, 'comment': None}\n{'name': 'Sector', 'type': VARCHAR(), 'nullable': False, 'default': None, 'autoincrement': False, 'comment': None}\n{'name': 'Gender', 'type': VARCHAR(), 'nullable': False, 'default': None, 'autoincrement': False, 'comment': None}\n{'name': 'Religion', 'type': VARCHAR(), 'nullable': False, 'default': None, 'autoincrement': False, 'comment': None}\n"
     ]
    }
   ],
   "source": [
    "# check the column names in the table \"icsea_ratings\"\n",
    "inspector=inspect(engine)\n",
    "columns=inspector.get_columns('atar_2019_ratings')\n",
    "for column in columns:\n",
    "    print(column)"
   ]
  },
  {
   "cell_type": "code",
   "execution_count": 273,
   "metadata": {},
   "outputs": [
    {
     "output_type": "execute_result",
     "data": {
      "text/plain": [
       "<sqlalchemy.engine.result.ResultProxy at 0x24d3885c370>"
      ]
     },
     "metadata": {},
     "execution_count": 273
    }
   ],
   "source": [
    "# delete the contents of all tables\n",
    "engine.execute(\"DELETE FROM atar_2016_ratings\")\n",
    "engine.execute(\"DELETE FROM atar_2017_ratings\")\n",
    "engine.execute(\"DELETE FROM atar_2018_ratings\")\n",
    "engine.execute(\"DELETE FROM atar_2019_ratings\")\n",
    "engine.execute(\"DELETE FROM atar_2020_ratings\")\n",
    "engine.execute(\"DELETE FROM icsea_2016_ratings\")\n",
    "engine.execute(\"DELETE FROM icsea_2017_ratings\")\n",
    "engine.execute(\"DELETE FROM icsea_2018_ratings\")\n",
    "engine.execute(\"DELETE FROM icsea_2019_ratings\")\n",
    "engine.execute(\"DELETE FROM ml_first_model\")\n",
    "engine.execute(\"DELETE FROM ml_second_model\")\n",
    "engine.execute(\"DELETE FROM ml_third_model\")\n",
    "engine.execute(\"DELETE FROM naplan_ratings\")"
   ]
  },
  {
   "cell_type": "code",
   "execution_count": 274,
   "metadata": {},
   "outputs": [],
   "source": [
    "# export the \"naplan_db\" data to the table \"naplan_ratings\"\n",
    "naplan_db.to_sql(name='naplan_ratings', con=engine, if_exists='append', index=True)"
   ]
  },
  {
   "cell_type": "code",
   "execution_count": 275,
   "metadata": {},
   "outputs": [],
   "source": [
    "# export the \"atar_2016_db\" data to the table \"atar_2016_ratings\"\n",
    "atar_2016_db.to_sql(name='atar_2016_ratings', con=engine, if_exists='append', index=True)"
   ]
  },
  {
   "cell_type": "code",
   "execution_count": 276,
   "metadata": {},
   "outputs": [],
   "source": [
    "# export the \"atar_2017_db\" data to the table \"atar_2017_ratings\"\n",
    "atar_2017_db.to_sql(name='atar_2017_ratings', con=engine, if_exists='append', index=True)"
   ]
  },
  {
   "cell_type": "code",
   "execution_count": 277,
   "metadata": {},
   "outputs": [],
   "source": [
    "# export the \"atar_2018_db\" data to the table \"atar_2018_ratings\"\n",
    "atar_2018_db.to_sql(name='atar_2018_ratings', con=engine, if_exists='append', index=True)"
   ]
  },
  {
   "cell_type": "code",
   "execution_count": 278,
   "metadata": {},
   "outputs": [],
   "source": [
    "# export the \"atar_2019_db\" data to the table \"atar_2019_ratings\"\n",
    "atar_2019_db.to_sql(name='atar_2019_ratings', con=engine, if_exists='append', index=True)"
   ]
  },
  {
   "cell_type": "code",
   "execution_count": 279,
   "metadata": {},
   "outputs": [],
   "source": [
    "# export the \"atar_2020_db\" data to the table \"atar_2020_ratings\"\n",
    "atar_2020_db.to_sql(name='atar_2020_ratings', con=engine, if_exists='append', index=True)"
   ]
  },
  {
   "cell_type": "code",
   "execution_count": 280,
   "metadata": {},
   "outputs": [],
   "source": [
    "# export the \"icsea_2016_db\" data to the table \"icsea_2016_ratings\"\n",
    "icsea_2016_db.to_sql(name='icsea_2016_ratings', con=engine, if_exists='append', index=True)"
   ]
  },
  {
   "cell_type": "code",
   "execution_count": 281,
   "metadata": {},
   "outputs": [],
   "source": [
    "# export the \"icsea_2017_db\" data to the table \"icsea_2017_ratings\"\n",
    "icsea_2017_db.to_sql(name='icsea_2017_ratings', con=engine, if_exists='append', index=True)"
   ]
  },
  {
   "cell_type": "code",
   "execution_count": 282,
   "metadata": {},
   "outputs": [],
   "source": [
    "# export the \"icsea_2018_db\" data to the table \"icsea_2018_ratings\"\n",
    "icsea_2018_db.to_sql(name='icsea_2018_ratings', con=engine, if_exists='append', index=True)"
   ]
  },
  {
   "cell_type": "code",
   "execution_count": 283,
   "metadata": {},
   "outputs": [],
   "source": [
    "# export the \"icsea_2019_db\" data to the table \"icsea_2019_ratings\"\n",
    "icsea_2019_db.to_sql(name='icsea_2019_ratings', con=engine, if_exists='append', index=True)"
   ]
  },
  {
   "source": [
    "## This is for the Machine Learning Process using a Time Series Data"
   ],
   "cell_type": "markdown",
   "metadata": {}
  },
  {
   "cell_type": "code",
   "execution_count": 284,
   "metadata": {},
   "outputs": [],
   "source": [
    "# import the required libraries\n",
    "import numpy as np\n",
    "import matplotlib.pyplot as plt\n",
    "import scipy.stats as st \n",
    "from sklearn import metrics\n",
    "from sklearn.linear_model import LinearRegression\n",
    "%matplotlib inline"
   ]
  },
  {
   "cell_type": "code",
   "execution_count": 285,
   "metadata": {},
   "outputs": [],
   "source": [
    "# Our data is small for Machine Learning to use a random train & test model so we will manually input the train & test model/s"
   ]
  },
  {
   "cell_type": "code",
   "execution_count": 286,
   "metadata": {},
   "outputs": [],
   "source": [
    "# Create a copy of all the ATAR rankings Dataframe\n",
    "ml_2016 = wa_hs_atar_2016.copy()\n",
    "ml_2016 = ml_2016[['School','Year','Median ATAR']]\n",
    "ml_2017 = wa_hs_atar_2017.copy()\n",
    "ml_2017 = ml_2017[['School','Year','Median ATAR']]\n",
    "ml_2018 = wa_hs_atar_2018.copy()\n",
    "ml_2018 = ml_2018[['School','Year','Median ATAR']]\n",
    "ml_2019 = wa_hs_atar_2019.copy()\n",
    "ml_2019 = ml_2019[['School','Year','Median ATAR']]\n",
    "ml_2020 = wa_hs_atar_2020.copy()\n",
    "ml_2020 = ml_2020[['School','Year','Median ATAR']]"
   ]
  },
  {
   "cell_type": "code",
   "execution_count": 287,
   "metadata": {},
   "outputs": [
    {
     "output_type": "execute_result",
     "data": {
      "text/plain": [
       "                           School  Year_16  ATAR_16  Year_17  ATAR_17  \\\n",
       "0             Perth Modern School     2016    95.55     2017    95.90   \n",
       "1    Presbyterian Ladies' College     2016    92.90     2017    89.60   \n",
       "2                 Penrhos College     2016    92.65     2017    91.20   \n",
       "3    Christ Church Grammar School     2016    92.50     2017    92.45   \n",
       "4             Santa Maria College     2016    91.85     2017    89.90   \n",
       "..                            ...      ...      ...      ...      ...   \n",
       "116        Quinns Baptist College     2016    63.65     2017    66.60   \n",
       "117                Atwell College     2016    62.90     2017    72.75   \n",
       "118            Halls Head College     2016    62.30     2017    61.15   \n",
       "119  Ellenbrook Christian College     2016    60.75     2017    72.20   \n",
       "120   Thornlie Senior High School     2016    58.45     2017    59.70   \n",
       "\n",
       "     Year_18  ATAR_18  Year_19  ATAR_19  Year_20  ATAR_20  \n",
       "0       2018    97.00     2019    96.75     2020    97.55  \n",
       "1       2018    86.90     2019    90.75     2020    89.20  \n",
       "2       2018    88.15     2019    88.30     2020    90.65  \n",
       "3       2018    91.60     2019    92.50     2020    92.50  \n",
       "4       2018    90.10     2019    87.45     2020    89.35  \n",
       "..       ...      ...      ...      ...      ...      ...  \n",
       "116     2018    76.45     2019    73.15     2020    66.90  \n",
       "117     2018    64.90     2019    70.85     2020    64.05  \n",
       "118     2018    61.20     2019    61.20     2020    69.95  \n",
       "119     2018    63.75     2019    72.50     2020    75.65  \n",
       "120     2018    65.60     2019    67.30     2020    65.35  \n",
       "\n",
       "[121 rows x 11 columns]"
      ],
      "text/html": "<div>\n<style scoped>\n    .dataframe tbody tr th:only-of-type {\n        vertical-align: middle;\n    }\n\n    .dataframe tbody tr th {\n        vertical-align: top;\n    }\n\n    .dataframe thead th {\n        text-align: right;\n    }\n</style>\n<table border=\"1\" class=\"dataframe\">\n  <thead>\n    <tr style=\"text-align: right;\">\n      <th></th>\n      <th>School</th>\n      <th>Year_16</th>\n      <th>ATAR_16</th>\n      <th>Year_17</th>\n      <th>ATAR_17</th>\n      <th>Year_18</th>\n      <th>ATAR_18</th>\n      <th>Year_19</th>\n      <th>ATAR_19</th>\n      <th>Year_20</th>\n      <th>ATAR_20</th>\n    </tr>\n  </thead>\n  <tbody>\n    <tr>\n      <th>0</th>\n      <td>Perth Modern School</td>\n      <td>2016</td>\n      <td>95.55</td>\n      <td>2017</td>\n      <td>95.90</td>\n      <td>2018</td>\n      <td>97.00</td>\n      <td>2019</td>\n      <td>96.75</td>\n      <td>2020</td>\n      <td>97.55</td>\n    </tr>\n    <tr>\n      <th>1</th>\n      <td>Presbyterian Ladies' College</td>\n      <td>2016</td>\n      <td>92.90</td>\n      <td>2017</td>\n      <td>89.60</td>\n      <td>2018</td>\n      <td>86.90</td>\n      <td>2019</td>\n      <td>90.75</td>\n      <td>2020</td>\n      <td>89.20</td>\n    </tr>\n    <tr>\n      <th>2</th>\n      <td>Penrhos College</td>\n      <td>2016</td>\n      <td>92.65</td>\n      <td>2017</td>\n      <td>91.20</td>\n      <td>2018</td>\n      <td>88.15</td>\n      <td>2019</td>\n      <td>88.30</td>\n      <td>2020</td>\n      <td>90.65</td>\n    </tr>\n    <tr>\n      <th>3</th>\n      <td>Christ Church Grammar School</td>\n      <td>2016</td>\n      <td>92.50</td>\n      <td>2017</td>\n      <td>92.45</td>\n      <td>2018</td>\n      <td>91.60</td>\n      <td>2019</td>\n      <td>92.50</td>\n      <td>2020</td>\n      <td>92.50</td>\n    </tr>\n    <tr>\n      <th>4</th>\n      <td>Santa Maria College</td>\n      <td>2016</td>\n      <td>91.85</td>\n      <td>2017</td>\n      <td>89.90</td>\n      <td>2018</td>\n      <td>90.10</td>\n      <td>2019</td>\n      <td>87.45</td>\n      <td>2020</td>\n      <td>89.35</td>\n    </tr>\n    <tr>\n      <th>...</th>\n      <td>...</td>\n      <td>...</td>\n      <td>...</td>\n      <td>...</td>\n      <td>...</td>\n      <td>...</td>\n      <td>...</td>\n      <td>...</td>\n      <td>...</td>\n      <td>...</td>\n      <td>...</td>\n    </tr>\n    <tr>\n      <th>116</th>\n      <td>Quinns Baptist College</td>\n      <td>2016</td>\n      <td>63.65</td>\n      <td>2017</td>\n      <td>66.60</td>\n      <td>2018</td>\n      <td>76.45</td>\n      <td>2019</td>\n      <td>73.15</td>\n      <td>2020</td>\n      <td>66.90</td>\n    </tr>\n    <tr>\n      <th>117</th>\n      <td>Atwell College</td>\n      <td>2016</td>\n      <td>62.90</td>\n      <td>2017</td>\n      <td>72.75</td>\n      <td>2018</td>\n      <td>64.90</td>\n      <td>2019</td>\n      <td>70.85</td>\n      <td>2020</td>\n      <td>64.05</td>\n    </tr>\n    <tr>\n      <th>118</th>\n      <td>Halls Head College</td>\n      <td>2016</td>\n      <td>62.30</td>\n      <td>2017</td>\n      <td>61.15</td>\n      <td>2018</td>\n      <td>61.20</td>\n      <td>2019</td>\n      <td>61.20</td>\n      <td>2020</td>\n      <td>69.95</td>\n    </tr>\n    <tr>\n      <th>119</th>\n      <td>Ellenbrook Christian College</td>\n      <td>2016</td>\n      <td>60.75</td>\n      <td>2017</td>\n      <td>72.20</td>\n      <td>2018</td>\n      <td>63.75</td>\n      <td>2019</td>\n      <td>72.50</td>\n      <td>2020</td>\n      <td>75.65</td>\n    </tr>\n    <tr>\n      <th>120</th>\n      <td>Thornlie Senior High School</td>\n      <td>2016</td>\n      <td>58.45</td>\n      <td>2017</td>\n      <td>59.70</td>\n      <td>2018</td>\n      <td>65.60</td>\n      <td>2019</td>\n      <td>67.30</td>\n      <td>2020</td>\n      <td>65.35</td>\n    </tr>\n  </tbody>\n</table>\n<p>121 rows × 11 columns</p>\n</div>"
     },
     "metadata": {},
     "execution_count": 287
    }
   ],
   "source": [
    "# merge \"ml_2016\" DataFrame with \"ml_2017\" DataFrame\n",
    "merged_df = ml_2016.merge(ml_2017, on='School')\n",
    "merged_df = merged_df.rename(columns={\"Year_x\": \"Year_16\", \"Median ATAR_x\":\"ATAR_16\",\n",
    "\"Year_y\": \"Year_17\", \"Median ATAR_y\":\"ATAR_17\"})\n",
    "\n",
    "# merge \"ml_2018\" DataFrame with \"ml_2019\" DataFrame\n",
    "merge_df1 = ml_2018.merge(ml_2019, on='School')\n",
    "merge_df1 = merge_df1.rename(columns={\"Year_x\": \"Year_18\", \"Median ATAR_x\":\"ATAR_18\",\n",
    "\"Year_y\": \"Year_19\", \"Median ATAR_y\":\"ATAR_19\"})\n",
    "\n",
    "# merge \"merged_df\" DataFrame with \"merged_df1\" DataFrame\n",
    "merge_df2 = merged_df.merge(merge_df1, on='School')\n",
    "\n",
    "# merge all DataFrame into a single DataFrame called \"ml_atar_df\"\n",
    "merge_df3 = merge_df2.merge(ml_2020, on='School')\n",
    "ml_atar_df = merge_df3.rename(columns={\"Year_x_x\": \"Year_16\", \"Median ATAR_x_x\":\"ATAR_16\",\n",
    "\"Year_y_x\": \"Year_17\", \"Median ATAR_y_x\":\"ATAR_17\",\"Year_x_y\": \"Year_18\", \"Median ATAR_x_y\":\"ATAR_18\",\"Year_y_y\": \"Year_19\", \"Median ATAR_y_y\":\"ATAR_19\",\"Year\": \"Year_20\", \"Median ATAR\":\"ATAR_20\"})\n",
    "ml_atar_df"
   ]
  },
  {
   "source": [
    "## Creating the First Model - Train/Test to predict the year 2020 ATAR score to compare the actual score with a predicted score\n",
    "### Train models - Year 2016-2019\n",
    "### Test model - Year 2020\n",
    "### Filter the top 10 high schools from 2016-2020 (17 schools)"
   ],
   "cell_type": "markdown",
   "metadata": {}
  },
  {
   "cell_type": "code",
   "execution_count": 288,
   "metadata": {},
   "outputs": [
    {
     "output_type": "execute_result",
     "data": {
      "text/plain": [
       "                           School  Year_16  ATAR_16  Year_17  ATAR_17  \\\n",
       "0             Perth Modern School     2016    95.55     2017    95.90   \n",
       "1    Presbyterian Ladies' College     2016    92.90     2017    89.60   \n",
       "2                 Penrhos College     2016    92.65     2017    91.20   \n",
       "3    Christ Church Grammar School     2016    92.50     2017    92.45   \n",
       "4             Santa Maria College     2016    91.85     2017    89.90   \n",
       "..                            ...      ...      ...      ...      ...   \n",
       "116        Quinns Baptist College     2016    63.65     2017    66.60   \n",
       "117                Atwell College     2016    62.90     2017    72.75   \n",
       "118            Halls Head College     2016    62.30     2017    61.15   \n",
       "119  Ellenbrook Christian College     2016    60.75     2017    72.20   \n",
       "120   Thornlie Senior High School     2016    58.45     2017    59.70   \n",
       "\n",
       "     Year_18  ATAR_18  Year_19  ATAR_19  Year_20  ATAR_20  \n",
       "0       2018    97.00     2019    96.75     2020    97.55  \n",
       "1       2018    86.90     2019    90.75     2020    89.20  \n",
       "2       2018    88.15     2019    88.30     2020    90.65  \n",
       "3       2018    91.60     2019    92.50     2020    92.50  \n",
       "4       2018    90.10     2019    87.45     2020    89.35  \n",
       "..       ...      ...      ...      ...      ...      ...  \n",
       "116     2018    76.45     2019    73.15     2020    66.90  \n",
       "117     2018    64.90     2019    70.85     2020    64.05  \n",
       "118     2018    61.20     2019    61.20     2020    69.95  \n",
       "119     2018    63.75     2019    72.50     2020    75.65  \n",
       "120     2018    65.60     2019    67.30     2020    65.35  \n",
       "\n",
       "[121 rows x 11 columns]"
      ],
      "text/html": "<div>\n<style scoped>\n    .dataframe tbody tr th:only-of-type {\n        vertical-align: middle;\n    }\n\n    .dataframe tbody tr th {\n        vertical-align: top;\n    }\n\n    .dataframe thead th {\n        text-align: right;\n    }\n</style>\n<table border=\"1\" class=\"dataframe\">\n  <thead>\n    <tr style=\"text-align: right;\">\n      <th></th>\n      <th>School</th>\n      <th>Year_16</th>\n      <th>ATAR_16</th>\n      <th>Year_17</th>\n      <th>ATAR_17</th>\n      <th>Year_18</th>\n      <th>ATAR_18</th>\n      <th>Year_19</th>\n      <th>ATAR_19</th>\n      <th>Year_20</th>\n      <th>ATAR_20</th>\n    </tr>\n  </thead>\n  <tbody>\n    <tr>\n      <th>0</th>\n      <td>Perth Modern School</td>\n      <td>2016</td>\n      <td>95.55</td>\n      <td>2017</td>\n      <td>95.90</td>\n      <td>2018</td>\n      <td>97.00</td>\n      <td>2019</td>\n      <td>96.75</td>\n      <td>2020</td>\n      <td>97.55</td>\n    </tr>\n    <tr>\n      <th>1</th>\n      <td>Presbyterian Ladies' College</td>\n      <td>2016</td>\n      <td>92.90</td>\n      <td>2017</td>\n      <td>89.60</td>\n      <td>2018</td>\n      <td>86.90</td>\n      <td>2019</td>\n      <td>90.75</td>\n      <td>2020</td>\n      <td>89.20</td>\n    </tr>\n    <tr>\n      <th>2</th>\n      <td>Penrhos College</td>\n      <td>2016</td>\n      <td>92.65</td>\n      <td>2017</td>\n      <td>91.20</td>\n      <td>2018</td>\n      <td>88.15</td>\n      <td>2019</td>\n      <td>88.30</td>\n      <td>2020</td>\n      <td>90.65</td>\n    </tr>\n    <tr>\n      <th>3</th>\n      <td>Christ Church Grammar School</td>\n      <td>2016</td>\n      <td>92.50</td>\n      <td>2017</td>\n      <td>92.45</td>\n      <td>2018</td>\n      <td>91.60</td>\n      <td>2019</td>\n      <td>92.50</td>\n      <td>2020</td>\n      <td>92.50</td>\n    </tr>\n    <tr>\n      <th>4</th>\n      <td>Santa Maria College</td>\n      <td>2016</td>\n      <td>91.85</td>\n      <td>2017</td>\n      <td>89.90</td>\n      <td>2018</td>\n      <td>90.10</td>\n      <td>2019</td>\n      <td>87.45</td>\n      <td>2020</td>\n      <td>89.35</td>\n    </tr>\n    <tr>\n      <th>...</th>\n      <td>...</td>\n      <td>...</td>\n      <td>...</td>\n      <td>...</td>\n      <td>...</td>\n      <td>...</td>\n      <td>...</td>\n      <td>...</td>\n      <td>...</td>\n      <td>...</td>\n      <td>...</td>\n    </tr>\n    <tr>\n      <th>116</th>\n      <td>Quinns Baptist College</td>\n      <td>2016</td>\n      <td>63.65</td>\n      <td>2017</td>\n      <td>66.60</td>\n      <td>2018</td>\n      <td>76.45</td>\n      <td>2019</td>\n      <td>73.15</td>\n      <td>2020</td>\n      <td>66.90</td>\n    </tr>\n    <tr>\n      <th>117</th>\n      <td>Atwell College</td>\n      <td>2016</td>\n      <td>62.90</td>\n      <td>2017</td>\n      <td>72.75</td>\n      <td>2018</td>\n      <td>64.90</td>\n      <td>2019</td>\n      <td>70.85</td>\n      <td>2020</td>\n      <td>64.05</td>\n    </tr>\n    <tr>\n      <th>118</th>\n      <td>Halls Head College</td>\n      <td>2016</td>\n      <td>62.30</td>\n      <td>2017</td>\n      <td>61.15</td>\n      <td>2018</td>\n      <td>61.20</td>\n      <td>2019</td>\n      <td>61.20</td>\n      <td>2020</td>\n      <td>69.95</td>\n    </tr>\n    <tr>\n      <th>119</th>\n      <td>Ellenbrook Christian College</td>\n      <td>2016</td>\n      <td>60.75</td>\n      <td>2017</td>\n      <td>72.20</td>\n      <td>2018</td>\n      <td>63.75</td>\n      <td>2019</td>\n      <td>72.50</td>\n      <td>2020</td>\n      <td>75.65</td>\n    </tr>\n    <tr>\n      <th>120</th>\n      <td>Thornlie Senior High School</td>\n      <td>2016</td>\n      <td>58.45</td>\n      <td>2017</td>\n      <td>59.70</td>\n      <td>2018</td>\n      <td>65.60</td>\n      <td>2019</td>\n      <td>67.30</td>\n      <td>2020</td>\n      <td>65.35</td>\n    </tr>\n  </tbody>\n</table>\n<p>121 rows × 11 columns</p>\n</div>"
     },
     "metadata": {},
     "execution_count": 288
    }
   ],
   "source": [
    "# Create a copy of the \"ml_atar_df\" DataFrame to be used as our first model DataFrame\n",
    "first_model_df = ml_atar_df.copy()\n",
    "first_model_df"
   ]
  },
  {
   "cell_type": "code",
   "execution_count": 289,
   "metadata": {},
   "outputs": [
    {
     "output_type": "execute_result",
     "data": {
      "text/plain": [
       "                           School  Actual_2020  Predicted_2020     MAE  \\\n",
       "0             Perth Modern School        97.55          97.475   0.075   \n",
       "1    Presbyterian Ladies' College        89.20          87.750   1.450   \n",
       "2                 Penrhos College        90.65          86.050   4.600   \n",
       "3    Christ Church Grammar School        92.50          92.050   0.450   \n",
       "4             Santa Maria College        89.35          86.575   2.775   \n",
       "..                            ...          ...             ...     ...   \n",
       "116        Quinns Baptist College        66.90          79.550  12.650   \n",
       "117                Atwell College        64.05          71.850   7.800   \n",
       "118            Halls Head College        69.95          60.650   9.300   \n",
       "119  Ellenbrook Christian College        75.65          74.000   1.650   \n",
       "120   Thornlie Senior High School        65.35          70.875   5.525   \n",
       "\n",
       "            MSE    RMSE  \n",
       "0      0.005625   0.075  \n",
       "1      2.102500   1.450  \n",
       "2     21.160000   4.600  \n",
       "3      0.202500   0.450  \n",
       "4      7.700625   2.775  \n",
       "..          ...     ...  \n",
       "116  160.022500  12.650  \n",
       "117   60.840000   7.800  \n",
       "118   86.490000   9.300  \n",
       "119    2.722500   1.650  \n",
       "120   30.525625   5.525  \n",
       "\n",
       "[121 rows x 6 columns]"
      ],
      "text/html": "<div>\n<style scoped>\n    .dataframe tbody tr th:only-of-type {\n        vertical-align: middle;\n    }\n\n    .dataframe tbody tr th {\n        vertical-align: top;\n    }\n\n    .dataframe thead th {\n        text-align: right;\n    }\n</style>\n<table border=\"1\" class=\"dataframe\">\n  <thead>\n    <tr style=\"text-align: right;\">\n      <th></th>\n      <th>School</th>\n      <th>Actual_2020</th>\n      <th>Predicted_2020</th>\n      <th>MAE</th>\n      <th>MSE</th>\n      <th>RMSE</th>\n    </tr>\n  </thead>\n  <tbody>\n    <tr>\n      <th>0</th>\n      <td>Perth Modern School</td>\n      <td>97.55</td>\n      <td>97.475</td>\n      <td>0.075</td>\n      <td>0.005625</td>\n      <td>0.075</td>\n    </tr>\n    <tr>\n      <th>1</th>\n      <td>Presbyterian Ladies' College</td>\n      <td>89.20</td>\n      <td>87.750</td>\n      <td>1.450</td>\n      <td>2.102500</td>\n      <td>1.450</td>\n    </tr>\n    <tr>\n      <th>2</th>\n      <td>Penrhos College</td>\n      <td>90.65</td>\n      <td>86.050</td>\n      <td>4.600</td>\n      <td>21.160000</td>\n      <td>4.600</td>\n    </tr>\n    <tr>\n      <th>3</th>\n      <td>Christ Church Grammar School</td>\n      <td>92.50</td>\n      <td>92.050</td>\n      <td>0.450</td>\n      <td>0.202500</td>\n      <td>0.450</td>\n    </tr>\n    <tr>\n      <th>4</th>\n      <td>Santa Maria College</td>\n      <td>89.35</td>\n      <td>86.575</td>\n      <td>2.775</td>\n      <td>7.700625</td>\n      <td>2.775</td>\n    </tr>\n    <tr>\n      <th>...</th>\n      <td>...</td>\n      <td>...</td>\n      <td>...</td>\n      <td>...</td>\n      <td>...</td>\n      <td>...</td>\n    </tr>\n    <tr>\n      <th>116</th>\n      <td>Quinns Baptist College</td>\n      <td>66.90</td>\n      <td>79.550</td>\n      <td>12.650</td>\n      <td>160.022500</td>\n      <td>12.650</td>\n    </tr>\n    <tr>\n      <th>117</th>\n      <td>Atwell College</td>\n      <td>64.05</td>\n      <td>71.850</td>\n      <td>7.800</td>\n      <td>60.840000</td>\n      <td>7.800</td>\n    </tr>\n    <tr>\n      <th>118</th>\n      <td>Halls Head College</td>\n      <td>69.95</td>\n      <td>60.650</td>\n      <td>9.300</td>\n      <td>86.490000</td>\n      <td>9.300</td>\n    </tr>\n    <tr>\n      <th>119</th>\n      <td>Ellenbrook Christian College</td>\n      <td>75.65</td>\n      <td>74.000</td>\n      <td>1.650</td>\n      <td>2.722500</td>\n      <td>1.650</td>\n    </tr>\n    <tr>\n      <th>120</th>\n      <td>Thornlie Senior High School</td>\n      <td>65.35</td>\n      <td>70.875</td>\n      <td>5.525</td>\n      <td>30.525625</td>\n      <td>5.525</td>\n    </tr>\n  </tbody>\n</table>\n<p>121 rows × 6 columns</p>\n</div>"
     },
     "metadata": {},
     "execution_count": 289
    }
   ],
   "source": [
    "# Create an empty list for each array to be used for the 1st model which will be collected from the merged DataFrame\n",
    "first_school_name_array = []\n",
    "first_y_pred_array = []  \n",
    "y_test_array = []               # y_test array for first model only (ATAR scores of 2020)\n",
    "mae_array = []                  # Mean Absolute Error for first model only\n",
    "mse_array = []                  # Mean Squared Error for first model only\n",
    "rmse_array = []                 # Root Mean Squared Error for first model only\n",
    "\n",
    "# Use for loop to search thru each year to collect the years & scores to be used for train & test \n",
    "for i in first_model_df.index : \n",
    "    X_train = first_model_df['Year_16'][i], first_model_df['Year_17'][i], first_model_df['Year_18'][i], first_model_df['Year_19'][i]\n",
    "    X_train = list(X_train)\n",
    "    X_train=[[j] for j in X_train]\n",
    "    X_train = np.array(X_train) \n",
    "    X_test = [first_model_df['Year_20'][i]]\n",
    "    y_train = (first_model_df['ATAR_16'][i], first_model_df['ATAR_17'][i], first_model_df['ATAR_18'][i], first_model_df['ATAR_19'][i])\n",
    "    y_train = list(y_train)\n",
    "    y_train=[[j] for j in y_train]\n",
    "    y_train = np.array(y_train) \n",
    "    y_test = (first_model_df['ATAR_20'][i])\n",
    "\n",
    "    regressor = LinearRegression()\n",
    "    reg = regressor.fit(X_train, y_train)       # train schoool using Years 2016-2019\n",
    "    # print(regressor.intercept_)\n",
    "    # print(regressor.coef_)\n",
    "    X_2020 = np.array(X_test)\n",
    "    X_2020 = X_2020.reshape(-1, 1)\n",
    "    y_pred = reg.predict(X_2020)                # predict the ATAR score of 2020 \n",
    "    # print(y_pred)\n",
    "    y_pred = y_pred[0] \n",
    "    predict = pd.DataFrame({'Actual': y_test, 'Predicted': y_pred})         # compare the 2020 ATAR actual scores vs predicted scores \n",
    "    first_school_name_array.append(first_model_df.iloc[i][\"School\"])\n",
    "    y_test_array.append(y_test)\n",
    "    first_y_pred_array.append(y_pred[0])\n",
    "    mae_array.append(metrics.mean_absolute_error([y_test], y_pred))\n",
    "    mse_array.append(metrics.mean_squared_error([y_test], y_pred)) \n",
    "    rmse_array.append(np.sqrt(metrics.mean_squared_error([y_test], y_pred)))\n",
    "\n",
    "# Create a DataFrame with the actual & predicted scores along with MAE, MSE, RMSE\n",
    "first_predicted_df = pd.DataFrame({'School': first_school_name_array, 'Actual_2020': y_test_array, 'Predicted_2020': first_y_pred_array, 'MAE': mae_array, 'MSE': mse_array, 'RMSE': rmse_array})\n",
    "\n",
    "# Display the DataFrame\n",
    "first_predicted_df"
   ]
  },
  {
   "cell_type": "code",
   "execution_count": 290,
   "metadata": {},
   "outputs": [
    {
     "output_type": "execute_result",
     "data": {
      "text/plain": [
       "                                  School  Actual_2020  Predicted_2020    MAE  \\\n",
       "0                    Perth Modern School        97.55          97.475  0.075   \n",
       "1           Presbyterian Ladies' College        89.20          87.750  1.450   \n",
       "2                        Penrhos College        90.65          86.050  4.600   \n",
       "3           Christ Church Grammar School        92.50          92.050  0.450   \n",
       "4                    Santa Maria College        89.35          86.575  2.775   \n",
       "5   St Hilda's Anglican School for Girls        92.70          89.825  2.875   \n",
       "6                          Perth College        89.40          88.625  0.775   \n",
       "7       St Mary's Anglican Girls' School        90.30          92.000  1.700   \n",
       "8              Methodist Ladies' College        90.55          90.800  0.250   \n",
       "9                        Shenton College        88.60          87.600  1.000   \n",
       "10                           Hale School        90.35          92.650  2.300   \n",
       "11                         Carmel School        88.85          83.975  4.875   \n",
       "12                    John XXIII College        89.50          85.975  3.525   \n",
       "14          Rossmoyne Senior High School        88.40          89.100  0.700   \n",
       "31        Ursula Frayne Catholic College        83.15          90.575  7.425   \n",
       "46                        Wesley College        83.90          90.925  7.025   \n",
       "58           Manjimup Senior High School        80.05          76.850  3.200   \n",
       "\n",
       "          MSE   RMSE  \n",
       "0    0.005625  0.075  \n",
       "1    2.102500  1.450  \n",
       "2   21.160000  4.600  \n",
       "3    0.202500  0.450  \n",
       "4    7.700625  2.775  \n",
       "5    8.265625  2.875  \n",
       "6    0.600625  0.775  \n",
       "7    2.890000  1.700  \n",
       "8    0.062500  0.250  \n",
       "9    1.000000  1.000  \n",
       "10   5.290000  2.300  \n",
       "11  23.765625  4.875  \n",
       "12  12.425625  3.525  \n",
       "14   0.490000  0.700  \n",
       "31  55.130625  7.425  \n",
       "46  49.350625  7.025  \n",
       "58  10.240000  3.200  "
      ],
      "text/html": "<div>\n<style scoped>\n    .dataframe tbody tr th:only-of-type {\n        vertical-align: middle;\n    }\n\n    .dataframe tbody tr th {\n        vertical-align: top;\n    }\n\n    .dataframe thead th {\n        text-align: right;\n    }\n</style>\n<table border=\"1\" class=\"dataframe\">\n  <thead>\n    <tr style=\"text-align: right;\">\n      <th></th>\n      <th>School</th>\n      <th>Actual_2020</th>\n      <th>Predicted_2020</th>\n      <th>MAE</th>\n      <th>MSE</th>\n      <th>RMSE</th>\n    </tr>\n  </thead>\n  <tbody>\n    <tr>\n      <th>0</th>\n      <td>Perth Modern School</td>\n      <td>97.55</td>\n      <td>97.475</td>\n      <td>0.075</td>\n      <td>0.005625</td>\n      <td>0.075</td>\n    </tr>\n    <tr>\n      <th>1</th>\n      <td>Presbyterian Ladies' College</td>\n      <td>89.20</td>\n      <td>87.750</td>\n      <td>1.450</td>\n      <td>2.102500</td>\n      <td>1.450</td>\n    </tr>\n    <tr>\n      <th>2</th>\n      <td>Penrhos College</td>\n      <td>90.65</td>\n      <td>86.050</td>\n      <td>4.600</td>\n      <td>21.160000</td>\n      <td>4.600</td>\n    </tr>\n    <tr>\n      <th>3</th>\n      <td>Christ Church Grammar School</td>\n      <td>92.50</td>\n      <td>92.050</td>\n      <td>0.450</td>\n      <td>0.202500</td>\n      <td>0.450</td>\n    </tr>\n    <tr>\n      <th>4</th>\n      <td>Santa Maria College</td>\n      <td>89.35</td>\n      <td>86.575</td>\n      <td>2.775</td>\n      <td>7.700625</td>\n      <td>2.775</td>\n    </tr>\n    <tr>\n      <th>5</th>\n      <td>St Hilda's Anglican School for Girls</td>\n      <td>92.70</td>\n      <td>89.825</td>\n      <td>2.875</td>\n      <td>8.265625</td>\n      <td>2.875</td>\n    </tr>\n    <tr>\n      <th>6</th>\n      <td>Perth College</td>\n      <td>89.40</td>\n      <td>88.625</td>\n      <td>0.775</td>\n      <td>0.600625</td>\n      <td>0.775</td>\n    </tr>\n    <tr>\n      <th>7</th>\n      <td>St Mary's Anglican Girls' School</td>\n      <td>90.30</td>\n      <td>92.000</td>\n      <td>1.700</td>\n      <td>2.890000</td>\n      <td>1.700</td>\n    </tr>\n    <tr>\n      <th>8</th>\n      <td>Methodist Ladies' College</td>\n      <td>90.55</td>\n      <td>90.800</td>\n      <td>0.250</td>\n      <td>0.062500</td>\n      <td>0.250</td>\n    </tr>\n    <tr>\n      <th>9</th>\n      <td>Shenton College</td>\n      <td>88.60</td>\n      <td>87.600</td>\n      <td>1.000</td>\n      <td>1.000000</td>\n      <td>1.000</td>\n    </tr>\n    <tr>\n      <th>10</th>\n      <td>Hale School</td>\n      <td>90.35</td>\n      <td>92.650</td>\n      <td>2.300</td>\n      <td>5.290000</td>\n      <td>2.300</td>\n    </tr>\n    <tr>\n      <th>11</th>\n      <td>Carmel School</td>\n      <td>88.85</td>\n      <td>83.975</td>\n      <td>4.875</td>\n      <td>23.765625</td>\n      <td>4.875</td>\n    </tr>\n    <tr>\n      <th>12</th>\n      <td>John XXIII College</td>\n      <td>89.50</td>\n      <td>85.975</td>\n      <td>3.525</td>\n      <td>12.425625</td>\n      <td>3.525</td>\n    </tr>\n    <tr>\n      <th>14</th>\n      <td>Rossmoyne Senior High School</td>\n      <td>88.40</td>\n      <td>89.100</td>\n      <td>0.700</td>\n      <td>0.490000</td>\n      <td>0.700</td>\n    </tr>\n    <tr>\n      <th>31</th>\n      <td>Ursula Frayne Catholic College</td>\n      <td>83.15</td>\n      <td>90.575</td>\n      <td>7.425</td>\n      <td>55.130625</td>\n      <td>7.425</td>\n    </tr>\n    <tr>\n      <th>46</th>\n      <td>Wesley College</td>\n      <td>83.90</td>\n      <td>90.925</td>\n      <td>7.025</td>\n      <td>49.350625</td>\n      <td>7.025</td>\n    </tr>\n    <tr>\n      <th>58</th>\n      <td>Manjimup Senior High School</td>\n      <td>80.05</td>\n      <td>76.850</td>\n      <td>3.200</td>\n      <td>10.240000</td>\n      <td>3.200</td>\n    </tr>\n  </tbody>\n</table>\n</div>"
     },
     "metadata": {},
     "execution_count": 290
    }
   ],
   "source": [
    "# Filter the top 17 schools from 2016-2020\n",
    "first_predicted_df = first_predicted_df.loc[(first_predicted_df['School'] == 'Perth Modern School') | (first_predicted_df['School'] == \"Presbyterian Ladies' College\") |\n",
    "                                (first_predicted_df['School'] == 'Penrhos College') | (first_predicted_df['School'] == 'Christ Church Grammar School') |\n",
    "                                (first_predicted_df['School'] == 'Santa Maria College') | (first_predicted_df['School'] == \"St Hilda's Anglican School for Girls\") |\n",
    "                                (first_predicted_df['School'] == 'Perth College') | (first_predicted_df['School'] == \"St Mary's Anglican Girls' School\") |\n",
    "                                (first_predicted_df['School'] == \"Methodist Ladies' College\") | (first_predicted_df['School'] == 'Shenton College') |\n",
    "                                (first_predicted_df['School'] == \"Hale School\") | (first_predicted_df['School'] == \"Carmel School\") |\n",
    "                                (first_predicted_df['School'] == \"John XXIII College\") | (first_predicted_df['School'] == \"Rossmoyne Senior High School\") |\n",
    "                                (first_predicted_df['School'] == \"Ursula Frayne Catholic College\") | (first_predicted_df['School'] == \"Wesley College\") |\n",
    "                                (first_predicted_df['School'] == \"Manjimup Senior High School\"), :]\n",
    "first_predicted_df"
   ]
  },
  {
   "source": [
    "## Creating the Second Model - Predict the year 2021 ATAR scores by \"not\" including the year 2020 ATAR scores\n",
    "### This is to compare the result of our Second Model predictions with our Third Model predictions"
   ],
   "cell_type": "markdown",
   "metadata": {}
  },
  {
   "cell_type": "code",
   "execution_count": 291,
   "metadata": {},
   "outputs": [
    {
     "output_type": "execute_result",
     "data": {
      "text/plain": [
       "                           School  Year_16  ATAR_16  Year_17  ATAR_17  \\\n",
       "0             Perth Modern School     2016    95.55     2017    95.90   \n",
       "1    Presbyterian Ladies' College     2016    92.90     2017    89.60   \n",
       "2                 Penrhos College     2016    92.65     2017    91.20   \n",
       "3    Christ Church Grammar School     2016    92.50     2017    92.45   \n",
       "4             Santa Maria College     2016    91.85     2017    89.90   \n",
       "..                            ...      ...      ...      ...      ...   \n",
       "116        Quinns Baptist College     2016    63.65     2017    66.60   \n",
       "117                Atwell College     2016    62.90     2017    72.75   \n",
       "118            Halls Head College     2016    62.30     2017    61.15   \n",
       "119  Ellenbrook Christian College     2016    60.75     2017    72.20   \n",
       "120   Thornlie Senior High School     2016    58.45     2017    59.70   \n",
       "\n",
       "     Year_18  ATAR_18  Year_19  ATAR_19  Year_20  ATAR_20  \n",
       "0       2018    97.00     2019    96.75     2020    97.55  \n",
       "1       2018    86.90     2019    90.75     2020    89.20  \n",
       "2       2018    88.15     2019    88.30     2020    90.65  \n",
       "3       2018    91.60     2019    92.50     2020    92.50  \n",
       "4       2018    90.10     2019    87.45     2020    89.35  \n",
       "..       ...      ...      ...      ...      ...      ...  \n",
       "116     2018    76.45     2019    73.15     2020    66.90  \n",
       "117     2018    64.90     2019    70.85     2020    64.05  \n",
       "118     2018    61.20     2019    61.20     2020    69.95  \n",
       "119     2018    63.75     2019    72.50     2020    75.65  \n",
       "120     2018    65.60     2019    67.30     2020    65.35  \n",
       "\n",
       "[121 rows x 11 columns]"
      ],
      "text/html": "<div>\n<style scoped>\n    .dataframe tbody tr th:only-of-type {\n        vertical-align: middle;\n    }\n\n    .dataframe tbody tr th {\n        vertical-align: top;\n    }\n\n    .dataframe thead th {\n        text-align: right;\n    }\n</style>\n<table border=\"1\" class=\"dataframe\">\n  <thead>\n    <tr style=\"text-align: right;\">\n      <th></th>\n      <th>School</th>\n      <th>Year_16</th>\n      <th>ATAR_16</th>\n      <th>Year_17</th>\n      <th>ATAR_17</th>\n      <th>Year_18</th>\n      <th>ATAR_18</th>\n      <th>Year_19</th>\n      <th>ATAR_19</th>\n      <th>Year_20</th>\n      <th>ATAR_20</th>\n    </tr>\n  </thead>\n  <tbody>\n    <tr>\n      <th>0</th>\n      <td>Perth Modern School</td>\n      <td>2016</td>\n      <td>95.55</td>\n      <td>2017</td>\n      <td>95.90</td>\n      <td>2018</td>\n      <td>97.00</td>\n      <td>2019</td>\n      <td>96.75</td>\n      <td>2020</td>\n      <td>97.55</td>\n    </tr>\n    <tr>\n      <th>1</th>\n      <td>Presbyterian Ladies' College</td>\n      <td>2016</td>\n      <td>92.90</td>\n      <td>2017</td>\n      <td>89.60</td>\n      <td>2018</td>\n      <td>86.90</td>\n      <td>2019</td>\n      <td>90.75</td>\n      <td>2020</td>\n      <td>89.20</td>\n    </tr>\n    <tr>\n      <th>2</th>\n      <td>Penrhos College</td>\n      <td>2016</td>\n      <td>92.65</td>\n      <td>2017</td>\n      <td>91.20</td>\n      <td>2018</td>\n      <td>88.15</td>\n      <td>2019</td>\n      <td>88.30</td>\n      <td>2020</td>\n      <td>90.65</td>\n    </tr>\n    <tr>\n      <th>3</th>\n      <td>Christ Church Grammar School</td>\n      <td>2016</td>\n      <td>92.50</td>\n      <td>2017</td>\n      <td>92.45</td>\n      <td>2018</td>\n      <td>91.60</td>\n      <td>2019</td>\n      <td>92.50</td>\n      <td>2020</td>\n      <td>92.50</td>\n    </tr>\n    <tr>\n      <th>4</th>\n      <td>Santa Maria College</td>\n      <td>2016</td>\n      <td>91.85</td>\n      <td>2017</td>\n      <td>89.90</td>\n      <td>2018</td>\n      <td>90.10</td>\n      <td>2019</td>\n      <td>87.45</td>\n      <td>2020</td>\n      <td>89.35</td>\n    </tr>\n    <tr>\n      <th>...</th>\n      <td>...</td>\n      <td>...</td>\n      <td>...</td>\n      <td>...</td>\n      <td>...</td>\n      <td>...</td>\n      <td>...</td>\n      <td>...</td>\n      <td>...</td>\n      <td>...</td>\n      <td>...</td>\n    </tr>\n    <tr>\n      <th>116</th>\n      <td>Quinns Baptist College</td>\n      <td>2016</td>\n      <td>63.65</td>\n      <td>2017</td>\n      <td>66.60</td>\n      <td>2018</td>\n      <td>76.45</td>\n      <td>2019</td>\n      <td>73.15</td>\n      <td>2020</td>\n      <td>66.90</td>\n    </tr>\n    <tr>\n      <th>117</th>\n      <td>Atwell College</td>\n      <td>2016</td>\n      <td>62.90</td>\n      <td>2017</td>\n      <td>72.75</td>\n      <td>2018</td>\n      <td>64.90</td>\n      <td>2019</td>\n      <td>70.85</td>\n      <td>2020</td>\n      <td>64.05</td>\n    </tr>\n    <tr>\n      <th>118</th>\n      <td>Halls Head College</td>\n      <td>2016</td>\n      <td>62.30</td>\n      <td>2017</td>\n      <td>61.15</td>\n      <td>2018</td>\n      <td>61.20</td>\n      <td>2019</td>\n      <td>61.20</td>\n      <td>2020</td>\n      <td>69.95</td>\n    </tr>\n    <tr>\n      <th>119</th>\n      <td>Ellenbrook Christian College</td>\n      <td>2016</td>\n      <td>60.75</td>\n      <td>2017</td>\n      <td>72.20</td>\n      <td>2018</td>\n      <td>63.75</td>\n      <td>2019</td>\n      <td>72.50</td>\n      <td>2020</td>\n      <td>75.65</td>\n    </tr>\n    <tr>\n      <th>120</th>\n      <td>Thornlie Senior High School</td>\n      <td>2016</td>\n      <td>58.45</td>\n      <td>2017</td>\n      <td>59.70</td>\n      <td>2018</td>\n      <td>65.60</td>\n      <td>2019</td>\n      <td>67.30</td>\n      <td>2020</td>\n      <td>65.35</td>\n    </tr>\n  </tbody>\n</table>\n<p>121 rows × 11 columns</p>\n</div>"
     },
     "metadata": {},
     "execution_count": 291
    }
   ],
   "source": [
    "# Create a copy of the \"ml_atar_df\" DataFrame to be used as our Second model DataFrame\n",
    "second_model_df = ml_atar_df.copy()\n",
    "second_model_df"
   ]
  },
  {
   "cell_type": "code",
   "execution_count": 292,
   "metadata": {},
   "outputs": [
    {
     "output_type": "execute_result",
     "data": {
      "text/plain": [
       "                           School  Year_16  ATAR_16  Year_17  ATAR_17  \\\n",
       "0             Perth Modern School     2016    95.55     2017    95.90   \n",
       "1    Presbyterian Ladies' College     2016    92.90     2017    89.60   \n",
       "2                 Penrhos College     2016    92.65     2017    91.20   \n",
       "3    Christ Church Grammar School     2016    92.50     2017    92.45   \n",
       "4             Santa Maria College     2016    91.85     2017    89.90   \n",
       "..                            ...      ...      ...      ...      ...   \n",
       "116        Quinns Baptist College     2016    63.65     2017    66.60   \n",
       "117                Atwell College     2016    62.90     2017    72.75   \n",
       "118            Halls Head College     2016    62.30     2017    61.15   \n",
       "119  Ellenbrook Christian College     2016    60.75     2017    72.20   \n",
       "120   Thornlie Senior High School     2016    58.45     2017    59.70   \n",
       "\n",
       "     Year_18  ATAR_18  Year_19  ATAR_19  Year_21  \n",
       "0       2018    97.00     2019    96.75     2021  \n",
       "1       2018    86.90     2019    90.75     2021  \n",
       "2       2018    88.15     2019    88.30     2021  \n",
       "3       2018    91.60     2019    92.50     2021  \n",
       "4       2018    90.10     2019    87.45     2021  \n",
       "..       ...      ...      ...      ...      ...  \n",
       "116     2018    76.45     2019    73.15     2021  \n",
       "117     2018    64.90     2019    70.85     2021  \n",
       "118     2018    61.20     2019    61.20     2021  \n",
       "119     2018    63.75     2019    72.50     2021  \n",
       "120     2018    65.60     2019    67.30     2021  \n",
       "\n",
       "[121 rows x 10 columns]"
      ],
      "text/html": "<div>\n<style scoped>\n    .dataframe tbody tr th:only-of-type {\n        vertical-align: middle;\n    }\n\n    .dataframe tbody tr th {\n        vertical-align: top;\n    }\n\n    .dataframe thead th {\n        text-align: right;\n    }\n</style>\n<table border=\"1\" class=\"dataframe\">\n  <thead>\n    <tr style=\"text-align: right;\">\n      <th></th>\n      <th>School</th>\n      <th>Year_16</th>\n      <th>ATAR_16</th>\n      <th>Year_17</th>\n      <th>ATAR_17</th>\n      <th>Year_18</th>\n      <th>ATAR_18</th>\n      <th>Year_19</th>\n      <th>ATAR_19</th>\n      <th>Year_21</th>\n    </tr>\n  </thead>\n  <tbody>\n    <tr>\n      <th>0</th>\n      <td>Perth Modern School</td>\n      <td>2016</td>\n      <td>95.55</td>\n      <td>2017</td>\n      <td>95.90</td>\n      <td>2018</td>\n      <td>97.00</td>\n      <td>2019</td>\n      <td>96.75</td>\n      <td>2021</td>\n    </tr>\n    <tr>\n      <th>1</th>\n      <td>Presbyterian Ladies' College</td>\n      <td>2016</td>\n      <td>92.90</td>\n      <td>2017</td>\n      <td>89.60</td>\n      <td>2018</td>\n      <td>86.90</td>\n      <td>2019</td>\n      <td>90.75</td>\n      <td>2021</td>\n    </tr>\n    <tr>\n      <th>2</th>\n      <td>Penrhos College</td>\n      <td>2016</td>\n      <td>92.65</td>\n      <td>2017</td>\n      <td>91.20</td>\n      <td>2018</td>\n      <td>88.15</td>\n      <td>2019</td>\n      <td>88.30</td>\n      <td>2021</td>\n    </tr>\n    <tr>\n      <th>3</th>\n      <td>Christ Church Grammar School</td>\n      <td>2016</td>\n      <td>92.50</td>\n      <td>2017</td>\n      <td>92.45</td>\n      <td>2018</td>\n      <td>91.60</td>\n      <td>2019</td>\n      <td>92.50</td>\n      <td>2021</td>\n    </tr>\n    <tr>\n      <th>4</th>\n      <td>Santa Maria College</td>\n      <td>2016</td>\n      <td>91.85</td>\n      <td>2017</td>\n      <td>89.90</td>\n      <td>2018</td>\n      <td>90.10</td>\n      <td>2019</td>\n      <td>87.45</td>\n      <td>2021</td>\n    </tr>\n    <tr>\n      <th>...</th>\n      <td>...</td>\n      <td>...</td>\n      <td>...</td>\n      <td>...</td>\n      <td>...</td>\n      <td>...</td>\n      <td>...</td>\n      <td>...</td>\n      <td>...</td>\n      <td>...</td>\n    </tr>\n    <tr>\n      <th>116</th>\n      <td>Quinns Baptist College</td>\n      <td>2016</td>\n      <td>63.65</td>\n      <td>2017</td>\n      <td>66.60</td>\n      <td>2018</td>\n      <td>76.45</td>\n      <td>2019</td>\n      <td>73.15</td>\n      <td>2021</td>\n    </tr>\n    <tr>\n      <th>117</th>\n      <td>Atwell College</td>\n      <td>2016</td>\n      <td>62.90</td>\n      <td>2017</td>\n      <td>72.75</td>\n      <td>2018</td>\n      <td>64.90</td>\n      <td>2019</td>\n      <td>70.85</td>\n      <td>2021</td>\n    </tr>\n    <tr>\n      <th>118</th>\n      <td>Halls Head College</td>\n      <td>2016</td>\n      <td>62.30</td>\n      <td>2017</td>\n      <td>61.15</td>\n      <td>2018</td>\n      <td>61.20</td>\n      <td>2019</td>\n      <td>61.20</td>\n      <td>2021</td>\n    </tr>\n    <tr>\n      <th>119</th>\n      <td>Ellenbrook Christian College</td>\n      <td>2016</td>\n      <td>60.75</td>\n      <td>2017</td>\n      <td>72.20</td>\n      <td>2018</td>\n      <td>63.75</td>\n      <td>2019</td>\n      <td>72.50</td>\n      <td>2021</td>\n    </tr>\n    <tr>\n      <th>120</th>\n      <td>Thornlie Senior High School</td>\n      <td>2016</td>\n      <td>58.45</td>\n      <td>2017</td>\n      <td>59.70</td>\n      <td>2018</td>\n      <td>65.60</td>\n      <td>2019</td>\n      <td>67.30</td>\n      <td>2021</td>\n    </tr>\n  </tbody>\n</table>\n<p>121 rows × 10 columns</p>\n</div>"
     },
     "metadata": {},
     "execution_count": 292
    }
   ],
   "source": [
    "# Add a column \"Year_21\" with values of \"2021\" which will be used for the predictions\n",
    "second_model_df['Year_21'] = 2021\n",
    "\n",
    "# Remove the columns \"Year_20\" & \"ATAR_20\" since these will not be used for this model\n",
    "second_model_df = second_model_df.drop(columns = ['Year_20' , 'ATAR_20'])\n",
    "\n",
    "second_model_df"
   ]
  },
  {
   "cell_type": "code",
   "execution_count": 293,
   "metadata": {},
   "outputs": [
    {
     "output_type": "execute_result",
     "data": {
      "text/plain": [
       "                           School  Predicted_2021\n",
       "0             Perth Modern School          97.945\n",
       "1    Presbyterian Ladies' College          86.835\n",
       "2                 Penrhos College          84.440\n",
       "3    Christ Church Grammar School          91.965\n",
       "4             Santa Maria College          85.275\n",
       "..                            ...             ...\n",
       "116        Quinns Baptist College          83.385\n",
       "117                Atwell College          73.450\n",
       "118            Halls Head College          60.325\n",
       "119  Ellenbrook Christian College          76.680\n",
       "120   Thornlie Senior High School          74.120\n",
       "\n",
       "[121 rows x 2 columns]"
      ],
      "text/html": "<div>\n<style scoped>\n    .dataframe tbody tr th:only-of-type {\n        vertical-align: middle;\n    }\n\n    .dataframe tbody tr th {\n        vertical-align: top;\n    }\n\n    .dataframe thead th {\n        text-align: right;\n    }\n</style>\n<table border=\"1\" class=\"dataframe\">\n  <thead>\n    <tr style=\"text-align: right;\">\n      <th></th>\n      <th>School</th>\n      <th>Predicted_2021</th>\n    </tr>\n  </thead>\n  <tbody>\n    <tr>\n      <th>0</th>\n      <td>Perth Modern School</td>\n      <td>97.945</td>\n    </tr>\n    <tr>\n      <th>1</th>\n      <td>Presbyterian Ladies' College</td>\n      <td>86.835</td>\n    </tr>\n    <tr>\n      <th>2</th>\n      <td>Penrhos College</td>\n      <td>84.440</td>\n    </tr>\n    <tr>\n      <th>3</th>\n      <td>Christ Church Grammar School</td>\n      <td>91.965</td>\n    </tr>\n    <tr>\n      <th>4</th>\n      <td>Santa Maria College</td>\n      <td>85.275</td>\n    </tr>\n    <tr>\n      <th>...</th>\n      <td>...</td>\n      <td>...</td>\n    </tr>\n    <tr>\n      <th>116</th>\n      <td>Quinns Baptist College</td>\n      <td>83.385</td>\n    </tr>\n    <tr>\n      <th>117</th>\n      <td>Atwell College</td>\n      <td>73.450</td>\n    </tr>\n    <tr>\n      <th>118</th>\n      <td>Halls Head College</td>\n      <td>60.325</td>\n    </tr>\n    <tr>\n      <th>119</th>\n      <td>Ellenbrook Christian College</td>\n      <td>76.680</td>\n    </tr>\n    <tr>\n      <th>120</th>\n      <td>Thornlie Senior High School</td>\n      <td>74.120</td>\n    </tr>\n  </tbody>\n</table>\n<p>121 rows × 2 columns</p>\n</div>"
     },
     "metadata": {},
     "execution_count": 293
    }
   ],
   "source": [
    "# Create an empty list for each array to be used for the second model which will be collected from the merged DataFrame\n",
    "second_school_name_array = [] \n",
    "second_y_pred_array = [] \n",
    "\n",
    "# Use for loop to search thru each year to collect the years & scores to be used for train & test \n",
    "for i in second_model_df.index : \n",
    "    X_train = second_model_df['Year_16'][i], second_model_df['Year_17'][i], second_model_df['Year_18'][i], second_model_df['Year_19'][i]\n",
    "    X_train = list(X_train)\n",
    "    X_train=[[j] for j in X_train]\n",
    "    X_train = np.array(X_train) \n",
    "    X_test = second_model_df['Year_21'][i]\n",
    "    y_train = (second_model_df['ATAR_16'][i], second_model_df['ATAR_17'][i], second_model_df['ATAR_18'][i], second_model_df['ATAR_19'][i])\n",
    "    y_train = list(y_train)\n",
    "    y_train=[[j] for j in y_train]\n",
    "    y_train = np.array(y_train) \n",
    "    \n",
    "    regressor = LinearRegression()\n",
    "    reg = regressor.fit(X_train, y_train)       # train schoool using Years 2016-2019 \n",
    "    # print(regressor.intercept_)\n",
    "    # print(regressor.coef_)\n",
    "\n",
    "    X_test = X_test.reshape(-1, 1)\n",
    "    y_pred = reg.predict(X_test)                # predict the ATAR score of 2021  \n",
    "    # print(y_pred)\n",
    "    y_pred = y_pred[0]\n",
    "         \n",
    "    second_school_name_array.append(second_model_df.iloc[i][\"School\"])\n",
    "    second_y_pred_array.append(y_pred[0])\n",
    "\n",
    "# Create a DataFrame with the predicted scores for 2021\n",
    "second_predicted_df = pd.DataFrame({'School': second_school_name_array, 'Predicted_2021': second_y_pred_array})\n",
    "second_predicted_df"
   ]
  },
  {
   "cell_type": "code",
   "execution_count": 294,
   "metadata": {},
   "outputs": [
    {
     "output_type": "execute_result",
     "data": {
      "text/plain": [
       "                                  School  Predicted_2021\n",
       "0                    Perth Modern School          97.945\n",
       "1           Presbyterian Ladies' College          86.835\n",
       "2                        Penrhos College          84.440\n",
       "3           Christ Church Grammar School          91.965\n",
       "4                    Santa Maria College          85.275\n",
       "5   St Hilda's Anglican School for Girls          89.120\n",
       "6                          Perth College          88.280\n",
       "7       St Mary's Anglican Girls' School          92.340\n",
       "8              Methodist Ladies' College          91.145\n",
       "9                        Shenton College          87.095\n",
       "10                           Hale School          93.575\n",
       "11                         Carmel School          82.180\n",
       "12                    John XXIII College          85.125\n",
       "14          Rossmoyne Senior High School          89.360\n",
       "31        Ursula Frayne Catholic College          91.990\n",
       "46                        Wesley College          93.150\n",
       "58           Manjimup Senior High School          75.020"
      ],
      "text/html": "<div>\n<style scoped>\n    .dataframe tbody tr th:only-of-type {\n        vertical-align: middle;\n    }\n\n    .dataframe tbody tr th {\n        vertical-align: top;\n    }\n\n    .dataframe thead th {\n        text-align: right;\n    }\n</style>\n<table border=\"1\" class=\"dataframe\">\n  <thead>\n    <tr style=\"text-align: right;\">\n      <th></th>\n      <th>School</th>\n      <th>Predicted_2021</th>\n    </tr>\n  </thead>\n  <tbody>\n    <tr>\n      <th>0</th>\n      <td>Perth Modern School</td>\n      <td>97.945</td>\n    </tr>\n    <tr>\n      <th>1</th>\n      <td>Presbyterian Ladies' College</td>\n      <td>86.835</td>\n    </tr>\n    <tr>\n      <th>2</th>\n      <td>Penrhos College</td>\n      <td>84.440</td>\n    </tr>\n    <tr>\n      <th>3</th>\n      <td>Christ Church Grammar School</td>\n      <td>91.965</td>\n    </tr>\n    <tr>\n      <th>4</th>\n      <td>Santa Maria College</td>\n      <td>85.275</td>\n    </tr>\n    <tr>\n      <th>5</th>\n      <td>St Hilda's Anglican School for Girls</td>\n      <td>89.120</td>\n    </tr>\n    <tr>\n      <th>6</th>\n      <td>Perth College</td>\n      <td>88.280</td>\n    </tr>\n    <tr>\n      <th>7</th>\n      <td>St Mary's Anglican Girls' School</td>\n      <td>92.340</td>\n    </tr>\n    <tr>\n      <th>8</th>\n      <td>Methodist Ladies' College</td>\n      <td>91.145</td>\n    </tr>\n    <tr>\n      <th>9</th>\n      <td>Shenton College</td>\n      <td>87.095</td>\n    </tr>\n    <tr>\n      <th>10</th>\n      <td>Hale School</td>\n      <td>93.575</td>\n    </tr>\n    <tr>\n      <th>11</th>\n      <td>Carmel School</td>\n      <td>82.180</td>\n    </tr>\n    <tr>\n      <th>12</th>\n      <td>John XXIII College</td>\n      <td>85.125</td>\n    </tr>\n    <tr>\n      <th>14</th>\n      <td>Rossmoyne Senior High School</td>\n      <td>89.360</td>\n    </tr>\n    <tr>\n      <th>31</th>\n      <td>Ursula Frayne Catholic College</td>\n      <td>91.990</td>\n    </tr>\n    <tr>\n      <th>46</th>\n      <td>Wesley College</td>\n      <td>93.150</td>\n    </tr>\n    <tr>\n      <th>58</th>\n      <td>Manjimup Senior High School</td>\n      <td>75.020</td>\n    </tr>\n  </tbody>\n</table>\n</div>"
     },
     "metadata": {},
     "execution_count": 294
    }
   ],
   "source": [
    "# Filter the top 17 schools from 2016-2020\n",
    "second_predicted_df = second_predicted_df.loc[(second_predicted_df['School'] == 'Perth Modern School') | (second_predicted_df['School'] == \"Presbyterian Ladies' College\") |\n",
    "                                (second_predicted_df['School'] == 'Penrhos College') | (second_predicted_df['School'] == 'Christ Church Grammar School') |\n",
    "                                (second_predicted_df['School'] == 'Santa Maria College') | (second_predicted_df['School'] == \"St Hilda's Anglican School for Girls\") |\n",
    "                                (second_predicted_df['School'] == 'Perth College') | (second_predicted_df['School'] == \"St Mary's Anglican Girls' School\") |\n",
    "                                (second_predicted_df['School'] == \"Methodist Ladies' College\") | (second_predicted_df['School'] == 'Shenton College') |\n",
    "                                (second_predicted_df['School'] == \"Hale School\") | (second_predicted_df['School'] == \"Carmel School\") |\n",
    "                                (second_predicted_df['School'] == \"John XXIII College\") | (second_predicted_df['School'] == \"Rossmoyne Senior High School\") |\n",
    "                                (second_predicted_df['School'] == \"Ursula Frayne Catholic College\") | (second_predicted_df['School'] == \"Wesley College\") |\n",
    "                                (second_predicted_df['School'] == \"Manjimup Senior High School\"), :]\n",
    "second_predicted_df"
   ]
  },
  {
   "source": [
    "## Creating the Third Model - Predict the year 2021 ATAR scores by \"including\" the year 2020 ATAR scores\n",
    "### This is to compare the result of our Second Model predictions with our Third Model predictions"
   ],
   "cell_type": "markdown",
   "metadata": {}
  },
  {
   "cell_type": "code",
   "execution_count": 295,
   "metadata": {},
   "outputs": [
    {
     "output_type": "execute_result",
     "data": {
      "text/plain": [
       "                           School  Year_16  ATAR_16  Year_17  ATAR_17  \\\n",
       "0             Perth Modern School     2016    95.55     2017    95.90   \n",
       "1    Presbyterian Ladies' College     2016    92.90     2017    89.60   \n",
       "2                 Penrhos College     2016    92.65     2017    91.20   \n",
       "3    Christ Church Grammar School     2016    92.50     2017    92.45   \n",
       "4             Santa Maria College     2016    91.85     2017    89.90   \n",
       "..                            ...      ...      ...      ...      ...   \n",
       "116        Quinns Baptist College     2016    63.65     2017    66.60   \n",
       "117                Atwell College     2016    62.90     2017    72.75   \n",
       "118            Halls Head College     2016    62.30     2017    61.15   \n",
       "119  Ellenbrook Christian College     2016    60.75     2017    72.20   \n",
       "120   Thornlie Senior High School     2016    58.45     2017    59.70   \n",
       "\n",
       "     Year_18  ATAR_18  Year_19  ATAR_19  Year_20  ATAR_20  \n",
       "0       2018    97.00     2019    96.75     2020    97.55  \n",
       "1       2018    86.90     2019    90.75     2020    89.20  \n",
       "2       2018    88.15     2019    88.30     2020    90.65  \n",
       "3       2018    91.60     2019    92.50     2020    92.50  \n",
       "4       2018    90.10     2019    87.45     2020    89.35  \n",
       "..       ...      ...      ...      ...      ...      ...  \n",
       "116     2018    76.45     2019    73.15     2020    66.90  \n",
       "117     2018    64.90     2019    70.85     2020    64.05  \n",
       "118     2018    61.20     2019    61.20     2020    69.95  \n",
       "119     2018    63.75     2019    72.50     2020    75.65  \n",
       "120     2018    65.60     2019    67.30     2020    65.35  \n",
       "\n",
       "[121 rows x 11 columns]"
      ],
      "text/html": "<div>\n<style scoped>\n    .dataframe tbody tr th:only-of-type {\n        vertical-align: middle;\n    }\n\n    .dataframe tbody tr th {\n        vertical-align: top;\n    }\n\n    .dataframe thead th {\n        text-align: right;\n    }\n</style>\n<table border=\"1\" class=\"dataframe\">\n  <thead>\n    <tr style=\"text-align: right;\">\n      <th></th>\n      <th>School</th>\n      <th>Year_16</th>\n      <th>ATAR_16</th>\n      <th>Year_17</th>\n      <th>ATAR_17</th>\n      <th>Year_18</th>\n      <th>ATAR_18</th>\n      <th>Year_19</th>\n      <th>ATAR_19</th>\n      <th>Year_20</th>\n      <th>ATAR_20</th>\n    </tr>\n  </thead>\n  <tbody>\n    <tr>\n      <th>0</th>\n      <td>Perth Modern School</td>\n      <td>2016</td>\n      <td>95.55</td>\n      <td>2017</td>\n      <td>95.90</td>\n      <td>2018</td>\n      <td>97.00</td>\n      <td>2019</td>\n      <td>96.75</td>\n      <td>2020</td>\n      <td>97.55</td>\n    </tr>\n    <tr>\n      <th>1</th>\n      <td>Presbyterian Ladies' College</td>\n      <td>2016</td>\n      <td>92.90</td>\n      <td>2017</td>\n      <td>89.60</td>\n      <td>2018</td>\n      <td>86.90</td>\n      <td>2019</td>\n      <td>90.75</td>\n      <td>2020</td>\n      <td>89.20</td>\n    </tr>\n    <tr>\n      <th>2</th>\n      <td>Penrhos College</td>\n      <td>2016</td>\n      <td>92.65</td>\n      <td>2017</td>\n      <td>91.20</td>\n      <td>2018</td>\n      <td>88.15</td>\n      <td>2019</td>\n      <td>88.30</td>\n      <td>2020</td>\n      <td>90.65</td>\n    </tr>\n    <tr>\n      <th>3</th>\n      <td>Christ Church Grammar School</td>\n      <td>2016</td>\n      <td>92.50</td>\n      <td>2017</td>\n      <td>92.45</td>\n      <td>2018</td>\n      <td>91.60</td>\n      <td>2019</td>\n      <td>92.50</td>\n      <td>2020</td>\n      <td>92.50</td>\n    </tr>\n    <tr>\n      <th>4</th>\n      <td>Santa Maria College</td>\n      <td>2016</td>\n      <td>91.85</td>\n      <td>2017</td>\n      <td>89.90</td>\n      <td>2018</td>\n      <td>90.10</td>\n      <td>2019</td>\n      <td>87.45</td>\n      <td>2020</td>\n      <td>89.35</td>\n    </tr>\n    <tr>\n      <th>...</th>\n      <td>...</td>\n      <td>...</td>\n      <td>...</td>\n      <td>...</td>\n      <td>...</td>\n      <td>...</td>\n      <td>...</td>\n      <td>...</td>\n      <td>...</td>\n      <td>...</td>\n      <td>...</td>\n    </tr>\n    <tr>\n      <th>116</th>\n      <td>Quinns Baptist College</td>\n      <td>2016</td>\n      <td>63.65</td>\n      <td>2017</td>\n      <td>66.60</td>\n      <td>2018</td>\n      <td>76.45</td>\n      <td>2019</td>\n      <td>73.15</td>\n      <td>2020</td>\n      <td>66.90</td>\n    </tr>\n    <tr>\n      <th>117</th>\n      <td>Atwell College</td>\n      <td>2016</td>\n      <td>62.90</td>\n      <td>2017</td>\n      <td>72.75</td>\n      <td>2018</td>\n      <td>64.90</td>\n      <td>2019</td>\n      <td>70.85</td>\n      <td>2020</td>\n      <td>64.05</td>\n    </tr>\n    <tr>\n      <th>118</th>\n      <td>Halls Head College</td>\n      <td>2016</td>\n      <td>62.30</td>\n      <td>2017</td>\n      <td>61.15</td>\n      <td>2018</td>\n      <td>61.20</td>\n      <td>2019</td>\n      <td>61.20</td>\n      <td>2020</td>\n      <td>69.95</td>\n    </tr>\n    <tr>\n      <th>119</th>\n      <td>Ellenbrook Christian College</td>\n      <td>2016</td>\n      <td>60.75</td>\n      <td>2017</td>\n      <td>72.20</td>\n      <td>2018</td>\n      <td>63.75</td>\n      <td>2019</td>\n      <td>72.50</td>\n      <td>2020</td>\n      <td>75.65</td>\n    </tr>\n    <tr>\n      <th>120</th>\n      <td>Thornlie Senior High School</td>\n      <td>2016</td>\n      <td>58.45</td>\n      <td>2017</td>\n      <td>59.70</td>\n      <td>2018</td>\n      <td>65.60</td>\n      <td>2019</td>\n      <td>67.30</td>\n      <td>2020</td>\n      <td>65.35</td>\n    </tr>\n  </tbody>\n</table>\n<p>121 rows × 11 columns</p>\n</div>"
     },
     "metadata": {},
     "execution_count": 295
    }
   ],
   "source": [
    "# Create a copy of the \"ml_atar_df\" DataFrame to be used as our Third model DataFrame\n",
    "third_model_df = ml_atar_df.copy()\n",
    "third_model_df"
   ]
  },
  {
   "cell_type": "code",
   "execution_count": 296,
   "metadata": {},
   "outputs": [
    {
     "output_type": "execute_result",
     "data": {
      "text/plain": [
       "                           School  Year_16  ATAR_16  Year_17  ATAR_17  \\\n",
       "0             Perth Modern School     2016    95.55     2017    95.90   \n",
       "1    Presbyterian Ladies' College     2016    92.90     2017    89.60   \n",
       "2                 Penrhos College     2016    92.65     2017    91.20   \n",
       "3    Christ Church Grammar School     2016    92.50     2017    92.45   \n",
       "4             Santa Maria College     2016    91.85     2017    89.90   \n",
       "..                            ...      ...      ...      ...      ...   \n",
       "116        Quinns Baptist College     2016    63.65     2017    66.60   \n",
       "117                Atwell College     2016    62.90     2017    72.75   \n",
       "118            Halls Head College     2016    62.30     2017    61.15   \n",
       "119  Ellenbrook Christian College     2016    60.75     2017    72.20   \n",
       "120   Thornlie Senior High School     2016    58.45     2017    59.70   \n",
       "\n",
       "     Year_18  ATAR_18  Year_19  ATAR_19  Year_20  ATAR_20  Year_21  \n",
       "0       2018    97.00     2019    96.75     2020    97.55     2021  \n",
       "1       2018    86.90     2019    90.75     2020    89.20     2021  \n",
       "2       2018    88.15     2019    88.30     2020    90.65     2021  \n",
       "3       2018    91.60     2019    92.50     2020    92.50     2021  \n",
       "4       2018    90.10     2019    87.45     2020    89.35     2021  \n",
       "..       ...      ...      ...      ...      ...      ...      ...  \n",
       "116     2018    76.45     2019    73.15     2020    66.90     2021  \n",
       "117     2018    64.90     2019    70.85     2020    64.05     2021  \n",
       "118     2018    61.20     2019    61.20     2020    69.95     2021  \n",
       "119     2018    63.75     2019    72.50     2020    75.65     2021  \n",
       "120     2018    65.60     2019    67.30     2020    65.35     2021  \n",
       "\n",
       "[121 rows x 12 columns]"
      ],
      "text/html": "<div>\n<style scoped>\n    .dataframe tbody tr th:only-of-type {\n        vertical-align: middle;\n    }\n\n    .dataframe tbody tr th {\n        vertical-align: top;\n    }\n\n    .dataframe thead th {\n        text-align: right;\n    }\n</style>\n<table border=\"1\" class=\"dataframe\">\n  <thead>\n    <tr style=\"text-align: right;\">\n      <th></th>\n      <th>School</th>\n      <th>Year_16</th>\n      <th>ATAR_16</th>\n      <th>Year_17</th>\n      <th>ATAR_17</th>\n      <th>Year_18</th>\n      <th>ATAR_18</th>\n      <th>Year_19</th>\n      <th>ATAR_19</th>\n      <th>Year_20</th>\n      <th>ATAR_20</th>\n      <th>Year_21</th>\n    </tr>\n  </thead>\n  <tbody>\n    <tr>\n      <th>0</th>\n      <td>Perth Modern School</td>\n      <td>2016</td>\n      <td>95.55</td>\n      <td>2017</td>\n      <td>95.90</td>\n      <td>2018</td>\n      <td>97.00</td>\n      <td>2019</td>\n      <td>96.75</td>\n      <td>2020</td>\n      <td>97.55</td>\n      <td>2021</td>\n    </tr>\n    <tr>\n      <th>1</th>\n      <td>Presbyterian Ladies' College</td>\n      <td>2016</td>\n      <td>92.90</td>\n      <td>2017</td>\n      <td>89.60</td>\n      <td>2018</td>\n      <td>86.90</td>\n      <td>2019</td>\n      <td>90.75</td>\n      <td>2020</td>\n      <td>89.20</td>\n      <td>2021</td>\n    </tr>\n    <tr>\n      <th>2</th>\n      <td>Penrhos College</td>\n      <td>2016</td>\n      <td>92.65</td>\n      <td>2017</td>\n      <td>91.20</td>\n      <td>2018</td>\n      <td>88.15</td>\n      <td>2019</td>\n      <td>88.30</td>\n      <td>2020</td>\n      <td>90.65</td>\n      <td>2021</td>\n    </tr>\n    <tr>\n      <th>3</th>\n      <td>Christ Church Grammar School</td>\n      <td>2016</td>\n      <td>92.50</td>\n      <td>2017</td>\n      <td>92.45</td>\n      <td>2018</td>\n      <td>91.60</td>\n      <td>2019</td>\n      <td>92.50</td>\n      <td>2020</td>\n      <td>92.50</td>\n      <td>2021</td>\n    </tr>\n    <tr>\n      <th>4</th>\n      <td>Santa Maria College</td>\n      <td>2016</td>\n      <td>91.85</td>\n      <td>2017</td>\n      <td>89.90</td>\n      <td>2018</td>\n      <td>90.10</td>\n      <td>2019</td>\n      <td>87.45</td>\n      <td>2020</td>\n      <td>89.35</td>\n      <td>2021</td>\n    </tr>\n    <tr>\n      <th>...</th>\n      <td>...</td>\n      <td>...</td>\n      <td>...</td>\n      <td>...</td>\n      <td>...</td>\n      <td>...</td>\n      <td>...</td>\n      <td>...</td>\n      <td>...</td>\n      <td>...</td>\n      <td>...</td>\n      <td>...</td>\n    </tr>\n    <tr>\n      <th>116</th>\n      <td>Quinns Baptist College</td>\n      <td>2016</td>\n      <td>63.65</td>\n      <td>2017</td>\n      <td>66.60</td>\n      <td>2018</td>\n      <td>76.45</td>\n      <td>2019</td>\n      <td>73.15</td>\n      <td>2020</td>\n      <td>66.90</td>\n      <td>2021</td>\n    </tr>\n    <tr>\n      <th>117</th>\n      <td>Atwell College</td>\n      <td>2016</td>\n      <td>62.90</td>\n      <td>2017</td>\n      <td>72.75</td>\n      <td>2018</td>\n      <td>64.90</td>\n      <td>2019</td>\n      <td>70.85</td>\n      <td>2020</td>\n      <td>64.05</td>\n      <td>2021</td>\n    </tr>\n    <tr>\n      <th>118</th>\n      <td>Halls Head College</td>\n      <td>2016</td>\n      <td>62.30</td>\n      <td>2017</td>\n      <td>61.15</td>\n      <td>2018</td>\n      <td>61.20</td>\n      <td>2019</td>\n      <td>61.20</td>\n      <td>2020</td>\n      <td>69.95</td>\n      <td>2021</td>\n    </tr>\n    <tr>\n      <th>119</th>\n      <td>Ellenbrook Christian College</td>\n      <td>2016</td>\n      <td>60.75</td>\n      <td>2017</td>\n      <td>72.20</td>\n      <td>2018</td>\n      <td>63.75</td>\n      <td>2019</td>\n      <td>72.50</td>\n      <td>2020</td>\n      <td>75.65</td>\n      <td>2021</td>\n    </tr>\n    <tr>\n      <th>120</th>\n      <td>Thornlie Senior High School</td>\n      <td>2016</td>\n      <td>58.45</td>\n      <td>2017</td>\n      <td>59.70</td>\n      <td>2018</td>\n      <td>65.60</td>\n      <td>2019</td>\n      <td>67.30</td>\n      <td>2020</td>\n      <td>65.35</td>\n      <td>2021</td>\n    </tr>\n  </tbody>\n</table>\n<p>121 rows × 12 columns</p>\n</div>"
     },
     "metadata": {},
     "execution_count": 296
    }
   ],
   "source": [
    "# Add a column \"Year_21\" with values of \"2021\" which will be used for the predictions\n",
    "third_model_df['Year_21'] = 2021\n",
    "third_model_df"
   ]
  },
  {
   "cell_type": "code",
   "execution_count": 297,
   "metadata": {},
   "outputs": [
    {
     "output_type": "execute_result",
     "data": {
      "text/plain": [
       "                           School  Predicted_2021\n",
       "0             Perth Modern School          98.005\n",
       "1    Presbyterian Ladies' College          87.995\n",
       "2                 Penrhos College          88.120\n",
       "3    Christ Church Grammar School          92.325\n",
       "4             Santa Maria College          87.495\n",
       "..                            ...             ...\n",
       "116        Quinns Baptist College          73.265\n",
       "117                Atwell College          67.210\n",
       "118            Halls Head College          67.765\n",
       "119  Ellenbrook Christian College          78.000\n",
       "120   Thornlie Senior High School          69.700\n",
       "\n",
       "[121 rows x 2 columns]"
      ],
      "text/html": "<div>\n<style scoped>\n    .dataframe tbody tr th:only-of-type {\n        vertical-align: middle;\n    }\n\n    .dataframe tbody tr th {\n        vertical-align: top;\n    }\n\n    .dataframe thead th {\n        text-align: right;\n    }\n</style>\n<table border=\"1\" class=\"dataframe\">\n  <thead>\n    <tr style=\"text-align: right;\">\n      <th></th>\n      <th>School</th>\n      <th>Predicted_2021</th>\n    </tr>\n  </thead>\n  <tbody>\n    <tr>\n      <th>0</th>\n      <td>Perth Modern School</td>\n      <td>98.005</td>\n    </tr>\n    <tr>\n      <th>1</th>\n      <td>Presbyterian Ladies' College</td>\n      <td>87.995</td>\n    </tr>\n    <tr>\n      <th>2</th>\n      <td>Penrhos College</td>\n      <td>88.120</td>\n    </tr>\n    <tr>\n      <th>3</th>\n      <td>Christ Church Grammar School</td>\n      <td>92.325</td>\n    </tr>\n    <tr>\n      <th>4</th>\n      <td>Santa Maria College</td>\n      <td>87.495</td>\n    </tr>\n    <tr>\n      <th>...</th>\n      <td>...</td>\n      <td>...</td>\n    </tr>\n    <tr>\n      <th>116</th>\n      <td>Quinns Baptist College</td>\n      <td>73.265</td>\n    </tr>\n    <tr>\n      <th>117</th>\n      <td>Atwell College</td>\n      <td>67.210</td>\n    </tr>\n    <tr>\n      <th>118</th>\n      <td>Halls Head College</td>\n      <td>67.765</td>\n    </tr>\n    <tr>\n      <th>119</th>\n      <td>Ellenbrook Christian College</td>\n      <td>78.000</td>\n    </tr>\n    <tr>\n      <th>120</th>\n      <td>Thornlie Senior High School</td>\n      <td>69.700</td>\n    </tr>\n  </tbody>\n</table>\n<p>121 rows × 2 columns</p>\n</div>"
     },
     "metadata": {},
     "execution_count": 297
    }
   ],
   "source": [
    "# Create an empty list for each array to be used for the 1st model which will be collected from the merged DataFrame\n",
    "third_school_name_array = [] \n",
    "third_y_pred_array = [] \n",
    "\n",
    "# Use for loop to search thru each year to collect the years & scores to be used for train & test \n",
    "for i in third_model_df.index : \n",
    "    X_train = third_model_df['Year_16'][i], third_model_df['Year_17'][i], third_model_df['Year_18'][i], third_model_df['Year_19'][i], third_model_df['Year_20'][i]\n",
    "    X_train = list(X_train)\n",
    "    X_train=[[j] for j in X_train]\n",
    "    X_train = np.array(X_train) \n",
    "    X_test = third_model_df['Year_21'][i]\n",
    "    y_train = (third_model_df['ATAR_16'][i], third_model_df['ATAR_17'][i], third_model_df['ATAR_18'][i], third_model_df['ATAR_19'][i], third_model_df['ATAR_20'][i])\n",
    "    y_train = list(y_train)\n",
    "    y_train=[[j] for j in y_train]\n",
    "    y_train = np.array(y_train) \n",
    "   \n",
    "    regressor = LinearRegression()\n",
    "    reg = regressor.fit(X_train, y_train)       # train schoool using Years 2016-2020  \n",
    "\n",
    "    X_test = X_test.reshape(-1, 1)\n",
    "    y_pred = reg.predict(X_test)                # predict the ATAR score of 2021 \n",
    "    y_pred = y_pred[0] \n",
    "    third_school_name_array.append(third_model_df.iloc[i][\"School\"])\n",
    "    third_y_pred_array.append(y_pred[0])\n",
    "\n",
    "# Create a DataFrame with the predicted scores for 2021\n",
    "third_predicted_df = pd.DataFrame({'School': third_school_name_array, 'Predicted_2021': third_y_pred_array})\n",
    "third_predicted_df"
   ]
  },
  {
   "cell_type": "code",
   "execution_count": 298,
   "metadata": {},
   "outputs": [
    {
     "output_type": "execute_result",
     "data": {
      "text/plain": [
       "                                  School  Predicted_2021\n",
       "0                    Perth Modern School          98.005\n",
       "1           Presbyterian Ladies' College          87.995\n",
       "2                        Penrhos College          88.120\n",
       "3           Christ Church Grammar School          92.325\n",
       "4                    Santa Maria College          87.495\n",
       "5   St Hilda's Anglican School for Girls          91.420\n",
       "6                          Perth College          88.900\n",
       "7       St Mary's Anglican Girls' School          90.980\n",
       "8              Methodist Ladies' College          90.945\n",
       "9                        Shenton College          87.895\n",
       "10                           Hale School          91.735\n",
       "11                         Carmel School          86.080\n",
       "12                    John XXIII College          87.945\n",
       "14          Rossmoyne Senior High School          88.800\n",
       "31        Ursula Frayne Catholic College          86.050\n",
       "46                        Wesley College          87.530\n",
       "58           Manjimup Senior High School          77.580"
      ],
      "text/html": "<div>\n<style scoped>\n    .dataframe tbody tr th:only-of-type {\n        vertical-align: middle;\n    }\n\n    .dataframe tbody tr th {\n        vertical-align: top;\n    }\n\n    .dataframe thead th {\n        text-align: right;\n    }\n</style>\n<table border=\"1\" class=\"dataframe\">\n  <thead>\n    <tr style=\"text-align: right;\">\n      <th></th>\n      <th>School</th>\n      <th>Predicted_2021</th>\n    </tr>\n  </thead>\n  <tbody>\n    <tr>\n      <th>0</th>\n      <td>Perth Modern School</td>\n      <td>98.005</td>\n    </tr>\n    <tr>\n      <th>1</th>\n      <td>Presbyterian Ladies' College</td>\n      <td>87.995</td>\n    </tr>\n    <tr>\n      <th>2</th>\n      <td>Penrhos College</td>\n      <td>88.120</td>\n    </tr>\n    <tr>\n      <th>3</th>\n      <td>Christ Church Grammar School</td>\n      <td>92.325</td>\n    </tr>\n    <tr>\n      <th>4</th>\n      <td>Santa Maria College</td>\n      <td>87.495</td>\n    </tr>\n    <tr>\n      <th>5</th>\n      <td>St Hilda's Anglican School for Girls</td>\n      <td>91.420</td>\n    </tr>\n    <tr>\n      <th>6</th>\n      <td>Perth College</td>\n      <td>88.900</td>\n    </tr>\n    <tr>\n      <th>7</th>\n      <td>St Mary's Anglican Girls' School</td>\n      <td>90.980</td>\n    </tr>\n    <tr>\n      <th>8</th>\n      <td>Methodist Ladies' College</td>\n      <td>90.945</td>\n    </tr>\n    <tr>\n      <th>9</th>\n      <td>Shenton College</td>\n      <td>87.895</td>\n    </tr>\n    <tr>\n      <th>10</th>\n      <td>Hale School</td>\n      <td>91.735</td>\n    </tr>\n    <tr>\n      <th>11</th>\n      <td>Carmel School</td>\n      <td>86.080</td>\n    </tr>\n    <tr>\n      <th>12</th>\n      <td>John XXIII College</td>\n      <td>87.945</td>\n    </tr>\n    <tr>\n      <th>14</th>\n      <td>Rossmoyne Senior High School</td>\n      <td>88.800</td>\n    </tr>\n    <tr>\n      <th>31</th>\n      <td>Ursula Frayne Catholic College</td>\n      <td>86.050</td>\n    </tr>\n    <tr>\n      <th>46</th>\n      <td>Wesley College</td>\n      <td>87.530</td>\n    </tr>\n    <tr>\n      <th>58</th>\n      <td>Manjimup Senior High School</td>\n      <td>77.580</td>\n    </tr>\n  </tbody>\n</table>\n</div>"
     },
     "metadata": {},
     "execution_count": 298
    }
   ],
   "source": [
    "# Filter the top 17 schools from 2016-2020\n",
    "third_predicted_df = third_predicted_df.loc[(third_predicted_df['School'] == 'Perth Modern School') | (third_predicted_df['School'] == \"Presbyterian Ladies' College\") |\n",
    "                                (third_predicted_df['School'] == 'Penrhos College') | (third_predicted_df['School'] == 'Christ Church Grammar School') |\n",
    "                                (third_predicted_df['School'] == 'Santa Maria College') | (third_predicted_df['School'] == \"St Hilda's Anglican School for Girls\") |\n",
    "                                (third_predicted_df['School'] == 'Perth College') | (third_predicted_df['School'] == \"St Mary's Anglican Girls' School\") |\n",
    "                                (third_predicted_df['School'] == \"Methodist Ladies' College\") | (third_predicted_df['School'] == 'Shenton College') |\n",
    "                                (third_predicted_df['School'] == \"Hale School\") | (third_predicted_df['School'] == \"Carmel School\") |\n",
    "                                (third_predicted_df['School'] == \"John XXIII College\") | (third_predicted_df['School'] == \"Rossmoyne Senior High School\") |\n",
    "                                (third_predicted_df['School'] == \"Ursula Frayne Catholic College\") | (third_predicted_df['School'] == \"Wesley College\") |\n",
    "                                (third_predicted_df['School'] == \"Manjimup Senior High School\"), :]\n",
    "third_predicted_df"
   ]
  },
  {
   "source": [
    "## Load all the 3 models of Machine Learning to the PostgreSQL database"
   ],
   "cell_type": "markdown",
   "metadata": {}
  },
  {
   "cell_type": "code",
   "execution_count": 299,
   "metadata": {},
   "outputs": [
    {
     "output_type": "execute_result",
     "data": {
      "text/plain": [
       "                                      Actual_2020  Predicted_2020    MAE  \\\n",
       "School                                                                     \n",
       "Perth Modern School                         97.55          97.475  0.075   \n",
       "Presbyterian Ladies' College                89.20          87.750  1.450   \n",
       "Penrhos College                             90.65          86.050  4.600   \n",
       "Christ Church Grammar School                92.50          92.050  0.450   \n",
       "Santa Maria College                         89.35          86.575  2.775   \n",
       "St Hilda's Anglican School for Girls        92.70          89.825  2.875   \n",
       "Perth College                               89.40          88.625  0.775   \n",
       "St Mary's Anglican Girls' School            90.30          92.000  1.700   \n",
       "Methodist Ladies' College                   90.55          90.800  0.250   \n",
       "Shenton College                             88.60          87.600  1.000   \n",
       "Hale School                                 90.35          92.650  2.300   \n",
       "Carmel School                               88.85          83.975  4.875   \n",
       "John XXIII College                          89.50          85.975  3.525   \n",
       "Rossmoyne Senior High School                88.40          89.100  0.700   \n",
       "Ursula Frayne Catholic College              83.15          90.575  7.425   \n",
       "Wesley College                              83.90          90.925  7.025   \n",
       "Manjimup Senior High School                 80.05          76.850  3.200   \n",
       "\n",
       "                                            MSE   RMSE  \n",
       "School                                                  \n",
       "Perth Modern School                    0.005625  0.075  \n",
       "Presbyterian Ladies' College           2.102500  1.450  \n",
       "Penrhos College                       21.160000  4.600  \n",
       "Christ Church Grammar School           0.202500  0.450  \n",
       "Santa Maria College                    7.700625  2.775  \n",
       "St Hilda's Anglican School for Girls   8.265625  2.875  \n",
       "Perth College                          0.600625  0.775  \n",
       "St Mary's Anglican Girls' School       2.890000  1.700  \n",
       "Methodist Ladies' College              0.062500  0.250  \n",
       "Shenton College                        1.000000  1.000  \n",
       "Hale School                            5.290000  2.300  \n",
       "Carmel School                         23.765625  4.875  \n",
       "John XXIII College                    12.425625  3.525  \n",
       "Rossmoyne Senior High School           0.490000  0.700  \n",
       "Ursula Frayne Catholic College        55.130625  7.425  \n",
       "Wesley College                        49.350625  7.025  \n",
       "Manjimup Senior High School           10.240000  3.200  "
      ],
      "text/html": "<div>\n<style scoped>\n    .dataframe tbody tr th:only-of-type {\n        vertical-align: middle;\n    }\n\n    .dataframe tbody tr th {\n        vertical-align: top;\n    }\n\n    .dataframe thead th {\n        text-align: right;\n    }\n</style>\n<table border=\"1\" class=\"dataframe\">\n  <thead>\n    <tr style=\"text-align: right;\">\n      <th></th>\n      <th>Actual_2020</th>\n      <th>Predicted_2020</th>\n      <th>MAE</th>\n      <th>MSE</th>\n      <th>RMSE</th>\n    </tr>\n    <tr>\n      <th>School</th>\n      <th></th>\n      <th></th>\n      <th></th>\n      <th></th>\n      <th></th>\n    </tr>\n  </thead>\n  <tbody>\n    <tr>\n      <th>Perth Modern School</th>\n      <td>97.55</td>\n      <td>97.475</td>\n      <td>0.075</td>\n      <td>0.005625</td>\n      <td>0.075</td>\n    </tr>\n    <tr>\n      <th>Presbyterian Ladies' College</th>\n      <td>89.20</td>\n      <td>87.750</td>\n      <td>1.450</td>\n      <td>2.102500</td>\n      <td>1.450</td>\n    </tr>\n    <tr>\n      <th>Penrhos College</th>\n      <td>90.65</td>\n      <td>86.050</td>\n      <td>4.600</td>\n      <td>21.160000</td>\n      <td>4.600</td>\n    </tr>\n    <tr>\n      <th>Christ Church Grammar School</th>\n      <td>92.50</td>\n      <td>92.050</td>\n      <td>0.450</td>\n      <td>0.202500</td>\n      <td>0.450</td>\n    </tr>\n    <tr>\n      <th>Santa Maria College</th>\n      <td>89.35</td>\n      <td>86.575</td>\n      <td>2.775</td>\n      <td>7.700625</td>\n      <td>2.775</td>\n    </tr>\n    <tr>\n      <th>St Hilda's Anglican School for Girls</th>\n      <td>92.70</td>\n      <td>89.825</td>\n      <td>2.875</td>\n      <td>8.265625</td>\n      <td>2.875</td>\n    </tr>\n    <tr>\n      <th>Perth College</th>\n      <td>89.40</td>\n      <td>88.625</td>\n      <td>0.775</td>\n      <td>0.600625</td>\n      <td>0.775</td>\n    </tr>\n    <tr>\n      <th>St Mary's Anglican Girls' School</th>\n      <td>90.30</td>\n      <td>92.000</td>\n      <td>1.700</td>\n      <td>2.890000</td>\n      <td>1.700</td>\n    </tr>\n    <tr>\n      <th>Methodist Ladies' College</th>\n      <td>90.55</td>\n      <td>90.800</td>\n      <td>0.250</td>\n      <td>0.062500</td>\n      <td>0.250</td>\n    </tr>\n    <tr>\n      <th>Shenton College</th>\n      <td>88.60</td>\n      <td>87.600</td>\n      <td>1.000</td>\n      <td>1.000000</td>\n      <td>1.000</td>\n    </tr>\n    <tr>\n      <th>Hale School</th>\n      <td>90.35</td>\n      <td>92.650</td>\n      <td>2.300</td>\n      <td>5.290000</td>\n      <td>2.300</td>\n    </tr>\n    <tr>\n      <th>Carmel School</th>\n      <td>88.85</td>\n      <td>83.975</td>\n      <td>4.875</td>\n      <td>23.765625</td>\n      <td>4.875</td>\n    </tr>\n    <tr>\n      <th>John XXIII College</th>\n      <td>89.50</td>\n      <td>85.975</td>\n      <td>3.525</td>\n      <td>12.425625</td>\n      <td>3.525</td>\n    </tr>\n    <tr>\n      <th>Rossmoyne Senior High School</th>\n      <td>88.40</td>\n      <td>89.100</td>\n      <td>0.700</td>\n      <td>0.490000</td>\n      <td>0.700</td>\n    </tr>\n    <tr>\n      <th>Ursula Frayne Catholic College</th>\n      <td>83.15</td>\n      <td>90.575</td>\n      <td>7.425</td>\n      <td>55.130625</td>\n      <td>7.425</td>\n    </tr>\n    <tr>\n      <th>Wesley College</th>\n      <td>83.90</td>\n      <td>90.925</td>\n      <td>7.025</td>\n      <td>49.350625</td>\n      <td>7.025</td>\n    </tr>\n    <tr>\n      <th>Manjimup Senior High School</th>\n      <td>80.05</td>\n      <td>76.850</td>\n      <td>3.200</td>\n      <td>10.240000</td>\n      <td>3.200</td>\n    </tr>\n  </tbody>\n</table>\n</div>"
     },
     "metadata": {},
     "execution_count": 299
    }
   ],
   "source": [
    "# set the column \"School\" as the index for the \"first_predicted_df\" Dataframe\n",
    "first_model_db = first_predicted_df.set_index('School')\n",
    "first_model_db"
   ]
  },
  {
   "cell_type": "code",
   "execution_count": 300,
   "metadata": {},
   "outputs": [
    {
     "output_type": "execute_result",
     "data": {
      "text/plain": [
       "                                      Predicted_2021\n",
       "School                                              \n",
       "Perth Modern School                           97.945\n",
       "Presbyterian Ladies' College                  86.835\n",
       "Penrhos College                               84.440\n",
       "Christ Church Grammar School                  91.965\n",
       "Santa Maria College                           85.275\n",
       "St Hilda's Anglican School for Girls          89.120\n",
       "Perth College                                 88.280\n",
       "St Mary's Anglican Girls' School              92.340\n",
       "Methodist Ladies' College                     91.145\n",
       "Shenton College                               87.095\n",
       "Hale School                                   93.575\n",
       "Carmel School                                 82.180\n",
       "John XXIII College                            85.125\n",
       "Rossmoyne Senior High School                  89.360\n",
       "Ursula Frayne Catholic College                91.990\n",
       "Wesley College                                93.150\n",
       "Manjimup Senior High School                   75.020"
      ],
      "text/html": "<div>\n<style scoped>\n    .dataframe tbody tr th:only-of-type {\n        vertical-align: middle;\n    }\n\n    .dataframe tbody tr th {\n        vertical-align: top;\n    }\n\n    .dataframe thead th {\n        text-align: right;\n    }\n</style>\n<table border=\"1\" class=\"dataframe\">\n  <thead>\n    <tr style=\"text-align: right;\">\n      <th></th>\n      <th>Predicted_2021</th>\n    </tr>\n    <tr>\n      <th>School</th>\n      <th></th>\n    </tr>\n  </thead>\n  <tbody>\n    <tr>\n      <th>Perth Modern School</th>\n      <td>97.945</td>\n    </tr>\n    <tr>\n      <th>Presbyterian Ladies' College</th>\n      <td>86.835</td>\n    </tr>\n    <tr>\n      <th>Penrhos College</th>\n      <td>84.440</td>\n    </tr>\n    <tr>\n      <th>Christ Church Grammar School</th>\n      <td>91.965</td>\n    </tr>\n    <tr>\n      <th>Santa Maria College</th>\n      <td>85.275</td>\n    </tr>\n    <tr>\n      <th>St Hilda's Anglican School for Girls</th>\n      <td>89.120</td>\n    </tr>\n    <tr>\n      <th>Perth College</th>\n      <td>88.280</td>\n    </tr>\n    <tr>\n      <th>St Mary's Anglican Girls' School</th>\n      <td>92.340</td>\n    </tr>\n    <tr>\n      <th>Methodist Ladies' College</th>\n      <td>91.145</td>\n    </tr>\n    <tr>\n      <th>Shenton College</th>\n      <td>87.095</td>\n    </tr>\n    <tr>\n      <th>Hale School</th>\n      <td>93.575</td>\n    </tr>\n    <tr>\n      <th>Carmel School</th>\n      <td>82.180</td>\n    </tr>\n    <tr>\n      <th>John XXIII College</th>\n      <td>85.125</td>\n    </tr>\n    <tr>\n      <th>Rossmoyne Senior High School</th>\n      <td>89.360</td>\n    </tr>\n    <tr>\n      <th>Ursula Frayne Catholic College</th>\n      <td>91.990</td>\n    </tr>\n    <tr>\n      <th>Wesley College</th>\n      <td>93.150</td>\n    </tr>\n    <tr>\n      <th>Manjimup Senior High School</th>\n      <td>75.020</td>\n    </tr>\n  </tbody>\n</table>\n</div>"
     },
     "metadata": {},
     "execution_count": 300
    }
   ],
   "source": [
    "# set the column \"School\" as the index for the \"second_predicted_df\" Dataframe\n",
    "second_model_db = second_predicted_df.set_index('School')\n",
    "second_model_db"
   ]
  },
  {
   "cell_type": "code",
   "execution_count": 301,
   "metadata": {},
   "outputs": [
    {
     "output_type": "execute_result",
     "data": {
      "text/plain": [
       "                                      Predicted_2021\n",
       "School                                              \n",
       "Perth Modern School                           98.005\n",
       "Presbyterian Ladies' College                  87.995\n",
       "Penrhos College                               88.120\n",
       "Christ Church Grammar School                  92.325\n",
       "Santa Maria College                           87.495\n",
       "St Hilda's Anglican School for Girls          91.420\n",
       "Perth College                                 88.900\n",
       "St Mary's Anglican Girls' School              90.980\n",
       "Methodist Ladies' College                     90.945\n",
       "Shenton College                               87.895\n",
       "Hale School                                   91.735\n",
       "Carmel School                                 86.080\n",
       "John XXIII College                            87.945\n",
       "Rossmoyne Senior High School                  88.800\n",
       "Ursula Frayne Catholic College                86.050\n",
       "Wesley College                                87.530\n",
       "Manjimup Senior High School                   77.580"
      ],
      "text/html": "<div>\n<style scoped>\n    .dataframe tbody tr th:only-of-type {\n        vertical-align: middle;\n    }\n\n    .dataframe tbody tr th {\n        vertical-align: top;\n    }\n\n    .dataframe thead th {\n        text-align: right;\n    }\n</style>\n<table border=\"1\" class=\"dataframe\">\n  <thead>\n    <tr style=\"text-align: right;\">\n      <th></th>\n      <th>Predicted_2021</th>\n    </tr>\n    <tr>\n      <th>School</th>\n      <th></th>\n    </tr>\n  </thead>\n  <tbody>\n    <tr>\n      <th>Perth Modern School</th>\n      <td>98.005</td>\n    </tr>\n    <tr>\n      <th>Presbyterian Ladies' College</th>\n      <td>87.995</td>\n    </tr>\n    <tr>\n      <th>Penrhos College</th>\n      <td>88.120</td>\n    </tr>\n    <tr>\n      <th>Christ Church Grammar School</th>\n      <td>92.325</td>\n    </tr>\n    <tr>\n      <th>Santa Maria College</th>\n      <td>87.495</td>\n    </tr>\n    <tr>\n      <th>St Hilda's Anglican School for Girls</th>\n      <td>91.420</td>\n    </tr>\n    <tr>\n      <th>Perth College</th>\n      <td>88.900</td>\n    </tr>\n    <tr>\n      <th>St Mary's Anglican Girls' School</th>\n      <td>90.980</td>\n    </tr>\n    <tr>\n      <th>Methodist Ladies' College</th>\n      <td>90.945</td>\n    </tr>\n    <tr>\n      <th>Shenton College</th>\n      <td>87.895</td>\n    </tr>\n    <tr>\n      <th>Hale School</th>\n      <td>91.735</td>\n    </tr>\n    <tr>\n      <th>Carmel School</th>\n      <td>86.080</td>\n    </tr>\n    <tr>\n      <th>John XXIII College</th>\n      <td>87.945</td>\n    </tr>\n    <tr>\n      <th>Rossmoyne Senior High School</th>\n      <td>88.800</td>\n    </tr>\n    <tr>\n      <th>Ursula Frayne Catholic College</th>\n      <td>86.050</td>\n    </tr>\n    <tr>\n      <th>Wesley College</th>\n      <td>87.530</td>\n    </tr>\n    <tr>\n      <th>Manjimup Senior High School</th>\n      <td>77.580</td>\n    </tr>\n  </tbody>\n</table>\n</div>"
     },
     "metadata": {},
     "execution_count": 301
    }
   ],
   "source": [
    "# set the column \"School\" as the index for the \"third_predicted_df\" Dataframe\n",
    "third_model_db = third_predicted_df.set_index('School')\n",
    "third_model_db"
   ]
  },
  {
   "cell_type": "code",
   "execution_count": 302,
   "metadata": {},
   "outputs": [
    {
     "output_type": "stream",
     "name": "stdout",
     "text": [
      "{'name': 'School', 'type': VARCHAR(), 'nullable': False, 'default': None, 'autoincrement': False, 'comment': None}\n{'name': 'Actual_2020', 'type': NUMERIC(precision=4, scale=2), 'nullable': False, 'default': None, 'autoincrement': False, 'comment': None}\n{'name': 'Predicted_2020', 'type': NUMERIC(precision=5, scale=3), 'nullable': False, 'default': None, 'autoincrement': False, 'comment': None}\n{'name': 'MAE', 'type': NUMERIC(precision=4, scale=3), 'nullable': False, 'default': None, 'autoincrement': False, 'comment': None}\n{'name': 'MSE', 'type': NUMERIC(precision=8, scale=6), 'nullable': False, 'default': None, 'autoincrement': False, 'comment': None}\n{'name': 'RMSE', 'type': NUMERIC(precision=4, scale=3), 'nullable': False, 'default': None, 'autoincrement': False, 'comment': None}\n"
     ]
    }
   ],
   "source": [
    "# check the column names in the table \"ml_first_model\"\n",
    "inspector=inspect(engine)\n",
    "columns=inspector.get_columns('ml_first_model')\n",
    "for column in columns:\n",
    "    print(column)"
   ]
  },
  {
   "cell_type": "code",
   "execution_count": 303,
   "metadata": {},
   "outputs": [
    {
     "output_type": "stream",
     "name": "stdout",
     "text": [
      "{'name': 'School', 'type': VARCHAR(), 'nullable': False, 'default': None, 'autoincrement': False, 'comment': None}\n{'name': 'Predicted_2021', 'type': NUMERIC(precision=5, scale=3), 'nullable': False, 'default': None, 'autoincrement': False, 'comment': None}\n"
     ]
    }
   ],
   "source": [
    "# check the column names in the table \"ml_second_model\"\n",
    "inspector=inspect(engine)\n",
    "columns=inspector.get_columns('ml_second_model')\n",
    "for column in columns:\n",
    "    print(column)"
   ]
  },
  {
   "cell_type": "code",
   "execution_count": 304,
   "metadata": {},
   "outputs": [
    {
     "output_type": "stream",
     "name": "stdout",
     "text": [
      "{'name': 'School', 'type': VARCHAR(), 'nullable': False, 'default': None, 'autoincrement': False, 'comment': None}\n{'name': 'Predicted_2021', 'type': NUMERIC(precision=5, scale=3), 'nullable': False, 'default': None, 'autoincrement': False, 'comment': None}\n"
     ]
    }
   ],
   "source": [
    "# check the column names in the table \"ml_third_model\"\n",
    "inspector=inspect(engine)\n",
    "columns=inspector.get_columns('ml_third_model')\n",
    "for column in columns:\n",
    "    print(column)"
   ]
  },
  {
   "cell_type": "code",
   "execution_count": 305,
   "metadata": {},
   "outputs": [],
   "source": [
    "# export the \"first_model_db\" data to the table \"ml_first_model\"\n",
    "first_model_db.to_sql(name='ml_first_model', con=engine, if_exists='append', index=True)"
   ]
  },
  {
   "cell_type": "code",
   "execution_count": 306,
   "metadata": {},
   "outputs": [],
   "source": [
    "# export the \"second_model_db\" data to the table \"ml_second_model\"\n",
    "second_model_db.to_sql(name='ml_second_model', con=engine, if_exists='append', index=True)"
   ]
  },
  {
   "cell_type": "code",
   "execution_count": 307,
   "metadata": {},
   "outputs": [],
   "source": [
    "# export the \"third_model_db\" data to the table \"ml_third_model\"\n",
    "third_model_db.to_sql(name='ml_third_model', con=engine, if_exists='append', index=True)"
   ]
  }
 ]
}