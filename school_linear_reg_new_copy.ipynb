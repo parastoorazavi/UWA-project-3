{
 "metadata": {
  "language_info": {
   "codemirror_mode": {
    "name": "ipython",
    "version": 3
   },
   "file_extension": ".py",
   "mimetype": "text/x-python",
   "name": "python",
   "nbconvert_exporter": "python",
   "pygments_lexer": "ipython3",
   "version": "3.8.3-final"
  },
  "orig_nbformat": 2,
  "kernelspec": {
   "name": "python3",
   "display_name": "Python 3",
   "language": "python"
  }
 },
 "nbformat": 4,
 "nbformat_minor": 2,
 "cells": [
  {
   "cell_type": "code",
   "execution_count": 46,
   "metadata": {},
   "outputs": [],
   "source": [
    "# import the required libraries\n",
    "import pandas as pd\n",
    "import numpy as np\n",
    "import matplotlib.pyplot as plt\n",
    "import scipy.stats as st \n",
    "%matplotlib inline"
   ]
  },
  {
   "cell_type": "code",
   "execution_count": 47,
   "metadata": {},
   "outputs": [],
   "source": [
    "df1 = pd.read_csv('../UWA-Project_3/Resources/wa_hs_atar_2016.csv')\n",
    "df1 = df1[['School','Year','Median ATAR']]\n",
    "df2 = pd.read_csv('../UWA-Project_3/Resources/wa_hs_atar_2017.csv')\n",
    "df2 = df2[['School','Year','Median ATAR']]\n",
    "df3 = pd.read_csv('../UWA-Project_3/Resources/wa_hs_atar_2018.csv')\n",
    "df3 = df3[['School','Year','Median ATAR']]\n",
    "df4 = pd.read_csv('../UWA-Project_3/Resources/wa_hs_atar_2019.csv')\n",
    "df4 = df4[['School','Year','Median ATAR']]\n",
    "df5 = pd.read_csv('../UWA-Project_3/Resources/wa_hs_atar_2020.csv')\n",
    "df5 = df5[['School','Year','Median ATAR']]"
   ]
  },
  {
   "cell_type": "code",
   "execution_count": 48,
   "metadata": {},
   "outputs": [],
   "source": [
    "mergedDf = df1.merge(df2, on='School')\n",
    "mergedDf=mergedDf.rename(columns={\"Year_x\": \"Year_16\", \"Median ATAR_x\":\"ATAR_16\",\n",
    "\"Year_y\": \"Year_17\", \"Median ATAR_y\":\"ATAR_17\"})"
   ]
  },
  {
   "cell_type": "code",
   "execution_count": 49,
   "metadata": {},
   "outputs": [],
   "source": [
    "mergedDf1 = df3.merge(df4, on='School')\n",
    "mergedDf1=mergedDf1.rename(columns={\"Year_x\": \"Year_18\", \"Median ATAR_x\":\"ATAR_18\",\n",
    "\"Year_y\": \"Year_19\", \"Median ATAR_y\":\"ATAR_19\"})"
   ]
  },
  {
   "cell_type": "code",
   "execution_count": 50,
   "metadata": {},
   "outputs": [],
   "source": [
    "mergedDf2 = mergedDf.merge(mergedDf1, on='School')"
   ]
  },
  {
   "cell_type": "code",
   "execution_count": 51,
   "metadata": {},
   "outputs": [
    {
     "output_type": "execute_result",
     "data": {
      "text/plain": [
       "                           School  Year_16  ATAR_16  Year_17  ATAR_17  \\\n",
       "0             Perth Modern School     2016    95.55     2017    95.90   \n",
       "1    Presbyterian Ladies' College     2016    92.90     2017    89.60   \n",
       "2                 Penrhos College     2016    92.65     2017    91.20   \n",
       "3    Christ Church Grammar School     2016    92.50     2017    92.45   \n",
       "4             Santa Maria College     2016    91.85     2017    89.90   \n",
       "..                            ...      ...      ...      ...      ...   \n",
       "116        Quinns Baptist College     2016    63.65     2017    66.60   \n",
       "117                Atwell College     2016    62.90     2017    72.75   \n",
       "118            Halls Head College     2016    62.30     2017    61.15   \n",
       "119  Ellenbrook Christian College     2016    60.75     2017    72.20   \n",
       "120   Thornlie Senior High School     2016    58.45     2017    59.70   \n",
       "\n",
       "     Year_18  ATAR_18  Year_19  ATAR_19  Year_20  ATAR_20  \n",
       "0       2018    97.00     2019    96.75     2020    97.55  \n",
       "1       2018    86.90     2019    90.75     2020    89.20  \n",
       "2       2018    88.15     2019    88.30     2020    90.65  \n",
       "3       2018    91.60     2019    92.50     2020    92.50  \n",
       "4       2018    90.10     2019    87.45     2020    89.35  \n",
       "..       ...      ...      ...      ...      ...      ...  \n",
       "116     2018    76.45     2019    73.15     2020    66.90  \n",
       "117     2018    64.90     2019    70.85     2020    64.05  \n",
       "118     2018    61.20     2019    61.20     2020    69.95  \n",
       "119     2018    63.75     2019    72.50     2020    75.65  \n",
       "120     2018    65.60     2019    67.30     2020    65.35  \n",
       "\n",
       "[121 rows x 11 columns]"
      ],
      "text/html": "<div>\n<style scoped>\n    .dataframe tbody tr th:only-of-type {\n        vertical-align: middle;\n    }\n\n    .dataframe tbody tr th {\n        vertical-align: top;\n    }\n\n    .dataframe thead th {\n        text-align: right;\n    }\n</style>\n<table border=\"1\" class=\"dataframe\">\n  <thead>\n    <tr style=\"text-align: right;\">\n      <th></th>\n      <th>School</th>\n      <th>Year_16</th>\n      <th>ATAR_16</th>\n      <th>Year_17</th>\n      <th>ATAR_17</th>\n      <th>Year_18</th>\n      <th>ATAR_18</th>\n      <th>Year_19</th>\n      <th>ATAR_19</th>\n      <th>Year_20</th>\n      <th>ATAR_20</th>\n    </tr>\n  </thead>\n  <tbody>\n    <tr>\n      <th>0</th>\n      <td>Perth Modern School</td>\n      <td>2016</td>\n      <td>95.55</td>\n      <td>2017</td>\n      <td>95.90</td>\n      <td>2018</td>\n      <td>97.00</td>\n      <td>2019</td>\n      <td>96.75</td>\n      <td>2020</td>\n      <td>97.55</td>\n    </tr>\n    <tr>\n      <th>1</th>\n      <td>Presbyterian Ladies' College</td>\n      <td>2016</td>\n      <td>92.90</td>\n      <td>2017</td>\n      <td>89.60</td>\n      <td>2018</td>\n      <td>86.90</td>\n      <td>2019</td>\n      <td>90.75</td>\n      <td>2020</td>\n      <td>89.20</td>\n    </tr>\n    <tr>\n      <th>2</th>\n      <td>Penrhos College</td>\n      <td>2016</td>\n      <td>92.65</td>\n      <td>2017</td>\n      <td>91.20</td>\n      <td>2018</td>\n      <td>88.15</td>\n      <td>2019</td>\n      <td>88.30</td>\n      <td>2020</td>\n      <td>90.65</td>\n    </tr>\n    <tr>\n      <th>3</th>\n      <td>Christ Church Grammar School</td>\n      <td>2016</td>\n      <td>92.50</td>\n      <td>2017</td>\n      <td>92.45</td>\n      <td>2018</td>\n      <td>91.60</td>\n      <td>2019</td>\n      <td>92.50</td>\n      <td>2020</td>\n      <td>92.50</td>\n    </tr>\n    <tr>\n      <th>4</th>\n      <td>Santa Maria College</td>\n      <td>2016</td>\n      <td>91.85</td>\n      <td>2017</td>\n      <td>89.90</td>\n      <td>2018</td>\n      <td>90.10</td>\n      <td>2019</td>\n      <td>87.45</td>\n      <td>2020</td>\n      <td>89.35</td>\n    </tr>\n    <tr>\n      <th>...</th>\n      <td>...</td>\n      <td>...</td>\n      <td>...</td>\n      <td>...</td>\n      <td>...</td>\n      <td>...</td>\n      <td>...</td>\n      <td>...</td>\n      <td>...</td>\n      <td>...</td>\n      <td>...</td>\n    </tr>\n    <tr>\n      <th>116</th>\n      <td>Quinns Baptist College</td>\n      <td>2016</td>\n      <td>63.65</td>\n      <td>2017</td>\n      <td>66.60</td>\n      <td>2018</td>\n      <td>76.45</td>\n      <td>2019</td>\n      <td>73.15</td>\n      <td>2020</td>\n      <td>66.90</td>\n    </tr>\n    <tr>\n      <th>117</th>\n      <td>Atwell College</td>\n      <td>2016</td>\n      <td>62.90</td>\n      <td>2017</td>\n      <td>72.75</td>\n      <td>2018</td>\n      <td>64.90</td>\n      <td>2019</td>\n      <td>70.85</td>\n      <td>2020</td>\n      <td>64.05</td>\n    </tr>\n    <tr>\n      <th>118</th>\n      <td>Halls Head College</td>\n      <td>2016</td>\n      <td>62.30</td>\n      <td>2017</td>\n      <td>61.15</td>\n      <td>2018</td>\n      <td>61.20</td>\n      <td>2019</td>\n      <td>61.20</td>\n      <td>2020</td>\n      <td>69.95</td>\n    </tr>\n    <tr>\n      <th>119</th>\n      <td>Ellenbrook Christian College</td>\n      <td>2016</td>\n      <td>60.75</td>\n      <td>2017</td>\n      <td>72.20</td>\n      <td>2018</td>\n      <td>63.75</td>\n      <td>2019</td>\n      <td>72.50</td>\n      <td>2020</td>\n      <td>75.65</td>\n    </tr>\n    <tr>\n      <th>120</th>\n      <td>Thornlie Senior High School</td>\n      <td>2016</td>\n      <td>58.45</td>\n      <td>2017</td>\n      <td>59.70</td>\n      <td>2018</td>\n      <td>65.60</td>\n      <td>2019</td>\n      <td>67.30</td>\n      <td>2020</td>\n      <td>65.35</td>\n    </tr>\n  </tbody>\n</table>\n<p>121 rows × 11 columns</p>\n</div>"
     },
     "metadata": {},
     "execution_count": 51
    }
   ],
   "source": [
    "mergedDf3 = mergedDf2.merge(df5, on='School')\n",
    "df = mergedDf3.rename(columns={\"Year_x_x\": \"Year_16\", \"Median ATAR_x_x\":\"ATAR_16\",\n",
    "\"Year_y_x\": \"Year_17\", \"Median ATAR_y_x\":\"ATAR_17\",\"Year_x_y\": \"Year_18\", \"Median ATAR_x_y\":\"ATAR_18\",\"Year_y_y\": \"Year_19\", \"Median ATAR_y_y\":\"ATAR_19\",\"Year\": \"Year_20\", \"Median ATAR\":\"ATAR_20\"})\n",
    "df"
   ]
  },
  {
   "cell_type": "code",
   "execution_count": 52,
   "metadata": {},
   "outputs": [],
   "source": [
    "# for date, row in df.T.iteritems():\n",
    "#    print (row['Year_16'], row['Year_17'], row['Year_18'], row['Year_19'], row['Year_20'])\n",
    "#    X_train = row['Year_16'], row['Year_17'], row['Year_18'], row['Year_19']\n",
    "    # X_train = list(X_train)\n",
    "    # X_train=[[j] for j in X_train]\n",
    "    # X_train = np.array(X_train) \n",
    "    # X_test = [df['Year_20'][i]]\n",
    "    # y_train = (df['ATAR_16'][i], df['ATAR_17'][i], df['ATAR_18'][i], df['ATAR_19'][i])\n",
    "    # y_train = list(y_train)\n",
    "    # y_train=[[j] for j in y_train]\n",
    "    # y_train = np.array(y_train) \n",
    "    # y_test = (df['ATAR_20'][i])\n",
    "    # from sklearn.linear_model import LinearRegression\n",
    "    # regressor = LinearRegression()\n",
    "    # reg = regressor.fit(X_train, y_train)\n",
    "    # print(regressor.intercept_)\n",
    "    # print(regressor.coef_)\n",
    "    # X_2020 = np.array(X_test)\n",
    "    # X_2020 = X_2020.reshape(-1, 1)\n",
    "    # y_pred = reg.predict(X_2020)\n",
    "    # print(y_pred)\n",
    "    # y_pred = y_pred[0]\n",
    "    # predict = pd.DataFrame({'Actual': y_test, 'Predicted': y_pred})\n",
    "    # from sklearn import metrics\n",
    "    # print('Mean Absolute Error:', metrics.mean_absolute_error(y_test, y_pred))\n",
    "    # print('Mean Squared Error:', metrics.mean_squared_error(y_test, y_pred))\n",
    "    # print('Root Mean Squared Error:', np.sqrt(metrics.mean_squared_error(y_test, y_pred)))"
   ]
  },
  {
   "cell_type": "code",
   "execution_count": 53,
   "metadata": {},
   "outputs": [
    {
     "output_type": "stream",
     "name": "stdout",
     "text": [
      "[-851.925]\n",
      "[[0.47]]\n",
      "[[97.475]]\n",
      "[1936.05]\n",
      "[[-0.915]]\n",
      "[[87.75]]\n",
      "[3338.25]\n",
      "[[-1.61]]\n",
      "[[86.05]]\n",
      "[263.75]\n",
      "[[-0.085]]\n",
      "[[92.05]]\n",
      "[2712.575]\n",
      "[[-1.3]]\n",
      "[[86.575]]\n",
      "[1513.925]\n",
      "[[-0.705]]\n",
      "[[89.825]]\n",
      "[785.525]\n",
      "[[-0.345]]\n",
      "[[88.625]]\n",
      "[-594.8]\n",
      "[[0.34]]\n",
      "[[92.]]\n",
      "[-606.1]\n",
      "[[0.345]]\n",
      "[[90.8]]\n",
      "[1107.7]\n",
      "[[-0.505]]\n",
      "[[87.6]]\n",
      "[-1775.85]\n",
      "[[0.925]]\n",
      "[[92.65]]\n",
      "[3709.875]\n",
      "[[-1.795]]\n",
      "[[83.975]]\n",
      "[1802.975]\n",
      "[[-0.85]]\n",
      "[[85.975]]\n",
      "[663.125]\n",
      "[[-0.285]]\n",
      "[[87.425]]\n",
      "[-436.1]\n",
      "[[0.26]]\n",
      "[[89.1]]\n",
      "[127.25]\n",
      "[[-0.02]]\n",
      "[[86.85]]\n",
      "[138.]\n",
      "[[-0.025]]\n",
      "[[87.5]]\n",
      "[5034.775]\n",
      "[[-2.455]]\n",
      "[[75.675]]\n",
      "[2736.525]\n",
      "[[-1.315]]\n",
      "[[80.225]]\n",
      "[-407.825]\n",
      "[[0.245]]\n",
      "[[87.075]]\n",
      "[1023.9]\n",
      "[[-0.465]]\n",
      "[[84.6]]\n",
      "[3714.05]\n",
      "[[-1.8]]\n",
      "[[78.05]]\n",
      "[326.775]\n",
      "[[-0.12]]\n",
      "[[84.375]]\n",
      "[135.95]\n",
      "[[-0.025]]\n",
      "[[85.45]]\n",
      "[657.7]\n",
      "[[-0.285]]\n",
      "[[82.]]\n",
      "[-578.875]\n",
      "[[0.33]]\n",
      "[[87.725]]\n",
      "[3531.65]\n",
      "[[-1.71]]\n",
      "[[77.45]]\n",
      "[307.225]\n",
      "[[-0.11]]\n",
      "[[85.025]]\n",
      "[443.8]\n",
      "[[-0.18]]\n",
      "[[80.2]]\n",
      "[1708.725]\n",
      "[[-0.805]]\n",
      "[[82.625]]\n",
      "[899.4]\n",
      "[[-0.405]]\n",
      "[[81.3]]\n",
      "[-2767.725]\n",
      "[[1.415]]\n",
      "[[90.575]]\n",
      "[3029.25]\n",
      "[[-1.46]]\n",
      "[[80.05]]\n",
      "[-147.2]\n",
      "[[0.115]]\n",
      "[[85.1]]\n",
      "[4979.85]\n",
      "[[-2.43]]\n",
      "[[71.25]]\n",
      "[-773.375]\n",
      "[[0.425]]\n",
      "[[85.125]]\n",
      "[52.275]\n",
      "[[0.015]]\n",
      "[[82.575]]\n",
      "[4235.1]\n",
      "[[-2.06]]\n",
      "[[73.9]]\n",
      "[-219.675]\n",
      "[[0.15]]\n",
      "[[83.325]]\n",
      "[4932.975]\n",
      "[[-2.405]]\n",
      "[[74.875]]\n",
      "[4424.025]\n",
      "[[-2.155]]\n",
      "[[70.925]]\n",
      "[-2963.7]\n",
      "[[1.51]]\n",
      "[[86.5]]\n",
      "[2178.125]\n",
      "[[-1.04]]\n",
      "[[77.325]]\n",
      "[4428.225]\n",
      "[[-2.155]]\n",
      "[[75.125]]\n",
      "[2431.4]\n",
      "[[-1.165]]\n",
      "[[78.1]]\n",
      "[-937.675]\n",
      "[[0.505]]\n",
      "[[82.425]]\n",
      "[-4403.575]\n",
      "[[2.225]]\n",
      "[[90.925]]\n",
      "[-826.125]\n",
      "[[0.45]]\n",
      "[[82.875]]\n",
      "[4594.95]\n",
      "[[-2.24]]\n",
      "[[70.15]]\n",
      "[252.575]\n",
      "[[-0.085]]\n",
      "[[80.875]]\n",
      "[4996.325]\n",
      "[[-2.44]]\n",
      "[[67.525]]\n",
      "[3226.375]\n",
      "[[-1.56]]\n",
      "[[75.175]]\n",
      "[6190.]\n",
      "[[-3.03]]\n",
      "[[69.4]]\n",
      "[5241.65]\n",
      "[[-2.56]]\n",
      "[[70.45]]\n",
      "[5303.65]\n",
      "[[-2.59]]\n",
      "[[71.85]]\n",
      "[-3478.325]\n",
      "[[1.765]]\n",
      "[[86.975]]\n",
      "[1100.225]\n",
      "[[-0.505]]\n",
      "[[80.125]]\n",
      "[4878.65]\n",
      "[[-2.38]]\n",
      "[[71.05]]\n",
      "[3773.45]\n",
      "[[-1.83]]\n",
      "[[76.85]]\n",
      "[-445.225]\n",
      "[[0.26]]\n",
      "[[79.975]]\n",
      "[-1955.75]\n",
      "[[1.01]]\n",
      "[[84.45]]\n",
      "[-2098.675]\n",
      "[[1.08]]\n",
      "[[82.925]]\n",
      "[241.25]\n",
      "[[-0.08]]\n",
      "[[79.65]]\n",
      "[-1179.675]\n",
      "[[0.625]]\n",
      "[[82.825]]\n",
      "[120.875]\n",
      "[[-0.02]]\n",
      "[[80.475]]\n",
      "[-3209.2]\n",
      "[[1.63]]\n",
      "[[83.4]]\n",
      "[3966.85]\n",
      "[[-1.93]]\n",
      "[[68.25]]\n",
      "[-1424.875]\n",
      "[[0.745]]\n",
      "[[80.025]]\n",
      "[3526.025]\n",
      "[[-1.71]]\n",
      "[[71.825]]\n",
      "[-164.9]\n",
      "[[0.12]]\n",
      "[[77.5]]\n",
      "[129.95]\n",
      "[[-0.025]]\n",
      "[[79.45]]\n",
      "[-839.65]\n",
      "[[0.455]]\n",
      "[[79.45]]\n",
      "[4934.725]\n",
      "[[-2.41]]\n",
      "[[66.525]]\n",
      "[-1202.2]\n",
      "[[0.635]]\n",
      "[[80.5]]\n",
      "[-2301.45]\n",
      "[[1.18]]\n",
      "[[82.15]]\n",
      "[967.225]\n",
      "[[-0.44]]\n",
      "[[78.425]]\n",
      "[10253.65]\n",
      "[[-5.05]]\n",
      "[[52.65]]\n",
      "[-2874.625]\n",
      "[[1.465]]\n",
      "[[84.675]]\n",
      "[-3501.475]\n",
      "[[1.775]]\n",
      "[[84.025]]\n",
      "[-491.025]\n",
      "[[0.28]]\n",
      "[[74.575]]\n",
      "[-1707.875]\n",
      "[[0.885]]\n",
      "[[79.825]]\n",
      "[703.825]\n",
      "[[-0.31]]\n",
      "[[77.625]]\n",
      "[803.125]\n",
      "[[-0.36]]\n",
      "[[75.925]]\n",
      "[-1112.45]\n",
      "[[0.59]]\n",
      "[[79.35]]\n",
      "[-1579.725]\n",
      "[[0.82]]\n",
      "[[76.675]]\n",
      "[-2971.15]\n",
      "[[1.51]]\n",
      "[[79.05]]\n",
      "[-2747.375]\n",
      "[[1.4]]\n",
      "[[80.625]]\n",
      "[-4308.9]\n",
      "[[2.175]]\n",
      "[[84.6]]\n",
      "[-1459.45]\n",
      "[[0.76]]\n",
      "[[75.75]]\n",
      "[-3624.425]\n",
      "[[1.835]]\n",
      "[[82.275]]\n",
      "[387.2]\n",
      "[[-0.155]]\n",
      "[[74.1]]\n",
      "[-5772.35]\n",
      "[[2.9]]\n",
      "[[85.65]]\n",
      "[-984.775]\n",
      "[[0.525]]\n",
      "[[75.725]]\n",
      "[-5440.7]\n",
      "[[2.735]]\n",
      "[[84.]]\n",
      "[346.975]\n",
      "[[-0.135]]\n",
      "[[74.275]]\n",
      "[-2605.7]\n",
      "[[1.33]]\n",
      "[[80.9]]\n",
      "[-3966.9]\n",
      "[[2.005]]\n",
      "[[83.2]]\n",
      "[8311.775]\n",
      "[[-4.085]]\n",
      "[[60.075]]\n",
      "[1426.35]\n",
      "[[-0.67]]\n",
      "[[72.95]]\n",
      "[-4047.95]\n",
      "[[2.045]]\n",
      "[[82.95]]\n",
      "[3126.35]\n",
      "[[-1.515]]\n",
      "[[66.05]]\n",
      "[-6865.]\n",
      "[[3.44]]\n",
      "[[83.8]]\n",
      "[-6442.75]\n",
      "[[3.23]]\n",
      "[[81.85]]\n",
      "[4372.4]\n",
      "[[-2.135]]\n",
      "[[59.7]]\n",
      "[72.95]\n",
      "[[-1.36302066e-15]]\n",
      "[[72.95]]\n",
      "[-4463.95]\n",
      "[[2.25]]\n",
      "[[81.05]]\n",
      "[-2834.425]\n",
      "[[1.44]]\n",
      "[[74.375]]\n",
      "[-750.5]\n",
      "[[0.405]]\n",
      "[[67.6]]\n",
      "[1177.25]\n",
      "[[-0.55]]\n",
      "[[66.25]]\n",
      "[3542.85]\n",
      "[[-1.725]]\n",
      "[[58.35]]\n",
      "[-785.975]\n",
      "[[0.425]]\n",
      "[[72.525]]\n",
      "[-3670.85]\n",
      "[[1.855]]\n",
      "[[76.25]]\n",
      "[-3564.175]\n",
      "[[1.8]]\n",
      "[[71.825]]\n",
      "[-161.2]\n",
      "[[0.115]]\n",
      "[[71.1]]\n",
      "[677.5]\n",
      "[[-0.305]]\n",
      "[[61.4]]\n",
      "[-2667.025]\n",
      "[[1.355]]\n",
      "[[70.075]]\n",
      "[-7667.15]\n",
      "[[3.835]]\n",
      "[[79.55]]\n",
      "[-3160.15]\n",
      "[[1.6]]\n",
      "[[71.85]]\n",
      "[717.15]\n",
      "[[-0.325]]\n",
      "[[60.65]]\n",
      "[-5339.6]\n",
      "[[2.68]]\n",
      "[[74.]]\n",
      "[-6484.025]\n",
      "[[3.245]]\n",
      "[[70.875]]\n"
     ]
    }
   ],
   "source": [
    "# for each school \n",
    "school_name_array = [] \n",
    "y_test_array = [] \n",
    "y_pred_array = [] \n",
    "\n",
    "\n",
    "for i in df.index : \n",
    "    X_train = df['Year_16'][i], df['Year_17'][i], df['Year_18'][i], df['Year_19'][i]\n",
    "    X_train = list(X_train)\n",
    "    X_train=[[j] for j in X_train]\n",
    "    X_train = np.array(X_train) \n",
    "    X_test = [df['Year_20'][i]]\n",
    "    y_train = (df['ATAR_16'][i], df['ATAR_17'][i], df['ATAR_18'][i], df['ATAR_19'][i])\n",
    "    y_train = list(y_train)\n",
    "    y_train=[[j] for j in y_train]\n",
    "    y_train = np.array(y_train) \n",
    "    y_test = (df['ATAR_20'][i])\n",
    "    from sklearn.linear_model import LinearRegression\n",
    "    regressor = LinearRegression()\n",
    "    reg = regressor.fit(X_train, y_train) # train schoool using 16-19. \n",
    "    print(regressor.intercept_)\n",
    "    print(regressor.coef_)\n",
    "    X_2020 = np.array(X_test)\n",
    "    X_2020 = X_2020.reshape(-1, 1)\n",
    "    y_pred = reg.predict(X_2020) # predict 2020 \n",
    "    print(y_pred)\n",
    "    y_pred = y_pred[0] \n",
    "    predict = pd.DataFrame({'Actual': y_test, 'Predicted': y_pred}) # compare 2020 pred vs actual \n",
    "    school_name_array.append(df.iloc[i][\"School\"])\n",
    "    y_test_array.append(y_test)\n",
    "    y_pred_array.append(y_pred[0])\n",
    "    # from sklearn import metrics\n",
    "    # print('Mean Absolute Error:', metrics.mean_absolute_error(y_test, y_pred))\n",
    "    # print('Mean Squared Error:', metrics.mean_squared_error(y_test, y_pred))\n",
    "    # print('Root Mean Squared Error:', np.sqrt(metrics.mean_squared_error(y_test, y_pred)))\n",
    "predicted_df = pd.DataFrame({'School': school_name_array, 'Actual': y_test_array, 'Predicted': y_pred_array})"
   ]
  },
  {
   "cell_type": "code",
   "execution_count": 54,
   "metadata": {},
   "outputs": [
    {
     "output_type": "execute_result",
     "data": {
      "text/plain": [
       "array([[2016],\n",
       "       [2017],\n",
       "       [2018],\n",
       "       [2019]], dtype=int64)"
      ]
     },
     "metadata": {},
     "execution_count": 54
    }
   ],
   "source": [
    "X_train"
   ]
  },
  {
   "cell_type": "code",
   "execution_count": 55,
   "metadata": {},
   "outputs": [
    {
     "output_type": "execute_result",
     "data": {
      "text/plain": [
       "array([70.875])"
      ]
     },
     "metadata": {},
     "execution_count": 55
    }
   ],
   "source": [
    "y_pred"
   ]
  },
  {
   "cell_type": "code",
   "execution_count": 56,
   "metadata": {},
   "outputs": [
    {
     "output_type": "execute_result",
     "data": {
      "text/plain": [
       "                           School  Actual  Predicted\n",
       "0             Perth Modern School   97.55     97.475\n",
       "1    Presbyterian Ladies' College   89.20     87.750\n",
       "2                 Penrhos College   90.65     86.050\n",
       "3    Christ Church Grammar School   92.50     92.050\n",
       "4             Santa Maria College   89.35     86.575\n",
       "..                            ...     ...        ...\n",
       "116        Quinns Baptist College   66.90     79.550\n",
       "117                Atwell College   64.05     71.850\n",
       "118            Halls Head College   69.95     60.650\n",
       "119  Ellenbrook Christian College   75.65     74.000\n",
       "120   Thornlie Senior High School   65.35     70.875\n",
       "\n",
       "[121 rows x 3 columns]"
      ],
      "text/html": "<div>\n<style scoped>\n    .dataframe tbody tr th:only-of-type {\n        vertical-align: middle;\n    }\n\n    .dataframe tbody tr th {\n        vertical-align: top;\n    }\n\n    .dataframe thead th {\n        text-align: right;\n    }\n</style>\n<table border=\"1\" class=\"dataframe\">\n  <thead>\n    <tr style=\"text-align: right;\">\n      <th></th>\n      <th>School</th>\n      <th>Actual</th>\n      <th>Predicted</th>\n    </tr>\n  </thead>\n  <tbody>\n    <tr>\n      <th>0</th>\n      <td>Perth Modern School</td>\n      <td>97.55</td>\n      <td>97.475</td>\n    </tr>\n    <tr>\n      <th>1</th>\n      <td>Presbyterian Ladies' College</td>\n      <td>89.20</td>\n      <td>87.750</td>\n    </tr>\n    <tr>\n      <th>2</th>\n      <td>Penrhos College</td>\n      <td>90.65</td>\n      <td>86.050</td>\n    </tr>\n    <tr>\n      <th>3</th>\n      <td>Christ Church Grammar School</td>\n      <td>92.50</td>\n      <td>92.050</td>\n    </tr>\n    <tr>\n      <th>4</th>\n      <td>Santa Maria College</td>\n      <td>89.35</td>\n      <td>86.575</td>\n    </tr>\n    <tr>\n      <th>...</th>\n      <td>...</td>\n      <td>...</td>\n      <td>...</td>\n    </tr>\n    <tr>\n      <th>116</th>\n      <td>Quinns Baptist College</td>\n      <td>66.90</td>\n      <td>79.550</td>\n    </tr>\n    <tr>\n      <th>117</th>\n      <td>Atwell College</td>\n      <td>64.05</td>\n      <td>71.850</td>\n    </tr>\n    <tr>\n      <th>118</th>\n      <td>Halls Head College</td>\n      <td>69.95</td>\n      <td>60.650</td>\n    </tr>\n    <tr>\n      <th>119</th>\n      <td>Ellenbrook Christian College</td>\n      <td>75.65</td>\n      <td>74.000</td>\n    </tr>\n    <tr>\n      <th>120</th>\n      <td>Thornlie Senior High School</td>\n      <td>65.35</td>\n      <td>70.875</td>\n    </tr>\n  </tbody>\n</table>\n<p>121 rows × 3 columns</p>\n</div>"
     },
     "metadata": {},
     "execution_count": 56
    }
   ],
   "source": [
    "predicted_df"
   ]
  },
  {
   "source": [
    "## jonathan's updated code"
   ],
   "cell_type": "markdown",
   "metadata": {}
  },
  {
   "cell_type": "code",
   "execution_count": 57,
   "metadata": {},
   "outputs": [
    {
     "output_type": "execute_result",
     "data": {
      "text/plain": [
       "                           School  Actual  Predicted     MAE         MSE  \\\n",
       "0             Perth Modern School   97.55     97.475   0.075    0.005625   \n",
       "1    Presbyterian Ladies' College   89.20     87.750   1.450    2.102500   \n",
       "2                 Penrhos College   90.65     86.050   4.600   21.160000   \n",
       "3    Christ Church Grammar School   92.50     92.050   0.450    0.202500   \n",
       "4             Santa Maria College   89.35     86.575   2.775    7.700625   \n",
       "..                            ...     ...        ...     ...         ...   \n",
       "116        Quinns Baptist College   66.90     79.550  12.650  160.022500   \n",
       "117                Atwell College   64.05     71.850   7.800   60.840000   \n",
       "118            Halls Head College   69.95     60.650   9.300   86.490000   \n",
       "119  Ellenbrook Christian College   75.65     74.000   1.650    2.722500   \n",
       "120   Thornlie Senior High School   65.35     70.875   5.525   30.525625   \n",
       "\n",
       "       RMSE  \n",
       "0     0.075  \n",
       "1     1.450  \n",
       "2     4.600  \n",
       "3     0.450  \n",
       "4     2.775  \n",
       "..      ...  \n",
       "116  12.650  \n",
       "117   7.800  \n",
       "118   9.300  \n",
       "119   1.650  \n",
       "120   5.525  \n",
       "\n",
       "[121 rows x 6 columns]"
      ],
      "text/html": "<div>\n<style scoped>\n    .dataframe tbody tr th:only-of-type {\n        vertical-align: middle;\n    }\n\n    .dataframe tbody tr th {\n        vertical-align: top;\n    }\n\n    .dataframe thead th {\n        text-align: right;\n    }\n</style>\n<table border=\"1\" class=\"dataframe\">\n  <thead>\n    <tr style=\"text-align: right;\">\n      <th></th>\n      <th>School</th>\n      <th>Actual</th>\n      <th>Predicted</th>\n      <th>MAE</th>\n      <th>MSE</th>\n      <th>RMSE</th>\n    </tr>\n  </thead>\n  <tbody>\n    <tr>\n      <th>0</th>\n      <td>Perth Modern School</td>\n      <td>97.55</td>\n      <td>97.475</td>\n      <td>0.075</td>\n      <td>0.005625</td>\n      <td>0.075</td>\n    </tr>\n    <tr>\n      <th>1</th>\n      <td>Presbyterian Ladies' College</td>\n      <td>89.20</td>\n      <td>87.750</td>\n      <td>1.450</td>\n      <td>2.102500</td>\n      <td>1.450</td>\n    </tr>\n    <tr>\n      <th>2</th>\n      <td>Penrhos College</td>\n      <td>90.65</td>\n      <td>86.050</td>\n      <td>4.600</td>\n      <td>21.160000</td>\n      <td>4.600</td>\n    </tr>\n    <tr>\n      <th>3</th>\n      <td>Christ Church Grammar School</td>\n      <td>92.50</td>\n      <td>92.050</td>\n      <td>0.450</td>\n      <td>0.202500</td>\n      <td>0.450</td>\n    </tr>\n    <tr>\n      <th>4</th>\n      <td>Santa Maria College</td>\n      <td>89.35</td>\n      <td>86.575</td>\n      <td>2.775</td>\n      <td>7.700625</td>\n      <td>2.775</td>\n    </tr>\n    <tr>\n      <th>...</th>\n      <td>...</td>\n      <td>...</td>\n      <td>...</td>\n      <td>...</td>\n      <td>...</td>\n      <td>...</td>\n    </tr>\n    <tr>\n      <th>116</th>\n      <td>Quinns Baptist College</td>\n      <td>66.90</td>\n      <td>79.550</td>\n      <td>12.650</td>\n      <td>160.022500</td>\n      <td>12.650</td>\n    </tr>\n    <tr>\n      <th>117</th>\n      <td>Atwell College</td>\n      <td>64.05</td>\n      <td>71.850</td>\n      <td>7.800</td>\n      <td>60.840000</td>\n      <td>7.800</td>\n    </tr>\n    <tr>\n      <th>118</th>\n      <td>Halls Head College</td>\n      <td>69.95</td>\n      <td>60.650</td>\n      <td>9.300</td>\n      <td>86.490000</td>\n      <td>9.300</td>\n    </tr>\n    <tr>\n      <th>119</th>\n      <td>Ellenbrook Christian College</td>\n      <td>75.65</td>\n      <td>74.000</td>\n      <td>1.650</td>\n      <td>2.722500</td>\n      <td>1.650</td>\n    </tr>\n    <tr>\n      <th>120</th>\n      <td>Thornlie Senior High School</td>\n      <td>65.35</td>\n      <td>70.875</td>\n      <td>5.525</td>\n      <td>30.525625</td>\n      <td>5.525</td>\n    </tr>\n  </tbody>\n</table>\n<p>121 rows × 6 columns</p>\n</div>"
     },
     "metadata": {},
     "execution_count": 57
    }
   ],
   "source": [
    "# for each school \n",
    "school_name_array = [] \n",
    "y_test_array = [] \n",
    "y_pred_array = [] \n",
    "mae_array = [] \n",
    "mse_array = [] \n",
    "rmse_array = [] \n",
    "from sklearn import metrics\n",
    "for i in df.index : \n",
    "    X_train = df['Year_16'][i], df['Year_17'][i], df['Year_18'][i], df['Year_19'][i]\n",
    "    X_train = list(X_train)\n",
    "    X_train=[[j] for j in X_train]\n",
    "    X_train = np.array(X_train) \n",
    "    X_test = [df['Year_20'][i]]\n",
    "    y_train = (df['ATAR_16'][i], df['ATAR_17'][i], df['ATAR_18'][i], df['ATAR_19'][i])\n",
    "    y_train = list(y_train)\n",
    "    y_train=[[j] for j in y_train]\n",
    "    y_train = np.array(y_train) \n",
    "    y_test = (df['ATAR_20'][i])\n",
    "    from sklearn.linear_model import LinearRegression\n",
    "    regressor = LinearRegression()\n",
    "    reg = regressor.fit(X_train, y_train) # train schoool using 16-19. \n",
    "    # print(regressor.intercept_)\n",
    "    # print(regressor.coef_)\n",
    "    X_2020 = np.array(X_test)\n",
    "    X_2020 = X_2020.reshape(-1, 1)\n",
    "    y_pred = reg.predict(X_2020) # predict 2020 \n",
    "    # print(y_pred)\n",
    "    y_pred = y_pred[0] \n",
    "    predict = pd.DataFrame({'Actual': y_test, 'Predicted': y_pred}) # compare 2020 pred vs actual \n",
    "    school_name_array.append(df.iloc[i][\"School\"])\n",
    "    y_test_array.append(y_test)\n",
    "    y_pred_array.append(y_pred[0])\n",
    "    mae_array.append(metrics.mean_absolute_error([y_test], y_pred))\n",
    "    mse_array.append(metrics.mean_squared_error([y_test], y_pred)) \n",
    "    rmse_array.append(np.sqrt(metrics.mean_squared_error([y_test], y_pred))) \n",
    "    # print('Mean Absolute Error:', metrics.mean_absolute_error([y_test], y_pred))\n",
    "    # print('Mean Squared Error:', metrics.mean_squared_error([y_test], y_pred))\n",
    "    # print('Root Mean Squared Error:', np.sqrt(metrics.mean_squared_error([y_test], y_pred)))\n",
    "predicted_df = pd.DataFrame({'School': school_name_array, 'Actual': y_test_array, 'Predicted': y_pred_array, 'MAE': mae_array, 'MSE': mse_array, 'RMSE': rmse_array})\n",
    "predicted_df"
   ]
  },
  {
   "cell_type": "code",
   "execution_count": null,
   "metadata": {},
   "outputs": [],
   "source": []
  },
  {
   "cell_type": "code",
   "execution_count": 93,
   "metadata": {},
   "outputs": [
    {
     "output_type": "execute_result",
     "data": {
      "text/plain": [
       "                                  School  Actual  Predicted    MAE        MSE  \\\n",
       "0                    Perth Modern School   97.55     97.475  0.075   0.005625   \n",
       "1           Presbyterian Ladies' College   89.20     87.750  1.450   2.102500   \n",
       "2                        Penrhos College   90.65     86.050  4.600  21.160000   \n",
       "3           Christ Church Grammar School   92.50     92.050  0.450   0.202500   \n",
       "4                    Santa Maria College   89.35     86.575  2.775   7.700625   \n",
       "5   St Hilda's Anglican School for Girls   92.70     89.825  2.875   8.265625   \n",
       "6                          Perth College   89.40     88.625  0.775   0.600625   \n",
       "7       St Mary's Anglican Girls' School   90.30     92.000  1.700   2.890000   \n",
       "8              Methodist Ladies' College   90.55     90.800  0.250   0.062500   \n",
       "9                        Shenton College   88.60     87.600  1.000   1.000000   \n",
       "10                           Hale School   90.35     92.650  2.300   5.290000   \n",
       "11                         Carmel School   88.85     83.975  4.875  23.765625   \n",
       "12                    John XXIII College   89.50     85.975  3.525  12.425625   \n",
       "14          Rossmoyne Senior High School   88.40     89.100  0.700   0.490000   \n",
       "31        Ursula Frayne Catholic College   83.15     90.575  7.425  55.130625   \n",
       "46                        Wesley College   83.90     90.925  7.025  49.350625   \n",
       "58           Manjimup Senior High School   80.05     76.850  3.200  10.240000   \n",
       "\n",
       "     RMSE  \n",
       "0   0.075  \n",
       "1   1.450  \n",
       "2   4.600  \n",
       "3   0.450  \n",
       "4   2.775  \n",
       "5   2.875  \n",
       "6   0.775  \n",
       "7   1.700  \n",
       "8   0.250  \n",
       "9   1.000  \n",
       "10  2.300  \n",
       "11  4.875  \n",
       "12  3.525  \n",
       "14  0.700  \n",
       "31  7.425  \n",
       "46  7.025  \n",
       "58  3.200  "
      ],
      "text/html": "<div>\n<style scoped>\n    .dataframe tbody tr th:only-of-type {\n        vertical-align: middle;\n    }\n\n    .dataframe tbody tr th {\n        vertical-align: top;\n    }\n\n    .dataframe thead th {\n        text-align: right;\n    }\n</style>\n<table border=\"1\" class=\"dataframe\">\n  <thead>\n    <tr style=\"text-align: right;\">\n      <th></th>\n      <th>School</th>\n      <th>Actual</th>\n      <th>Predicted</th>\n      <th>MAE</th>\n      <th>MSE</th>\n      <th>RMSE</th>\n    </tr>\n  </thead>\n  <tbody>\n    <tr>\n      <th>0</th>\n      <td>Perth Modern School</td>\n      <td>97.55</td>\n      <td>97.475</td>\n      <td>0.075</td>\n      <td>0.005625</td>\n      <td>0.075</td>\n    </tr>\n    <tr>\n      <th>1</th>\n      <td>Presbyterian Ladies' College</td>\n      <td>89.20</td>\n      <td>87.750</td>\n      <td>1.450</td>\n      <td>2.102500</td>\n      <td>1.450</td>\n    </tr>\n    <tr>\n      <th>2</th>\n      <td>Penrhos College</td>\n      <td>90.65</td>\n      <td>86.050</td>\n      <td>4.600</td>\n      <td>21.160000</td>\n      <td>4.600</td>\n    </tr>\n    <tr>\n      <th>3</th>\n      <td>Christ Church Grammar School</td>\n      <td>92.50</td>\n      <td>92.050</td>\n      <td>0.450</td>\n      <td>0.202500</td>\n      <td>0.450</td>\n    </tr>\n    <tr>\n      <th>4</th>\n      <td>Santa Maria College</td>\n      <td>89.35</td>\n      <td>86.575</td>\n      <td>2.775</td>\n      <td>7.700625</td>\n      <td>2.775</td>\n    </tr>\n    <tr>\n      <th>5</th>\n      <td>St Hilda's Anglican School for Girls</td>\n      <td>92.70</td>\n      <td>89.825</td>\n      <td>2.875</td>\n      <td>8.265625</td>\n      <td>2.875</td>\n    </tr>\n    <tr>\n      <th>6</th>\n      <td>Perth College</td>\n      <td>89.40</td>\n      <td>88.625</td>\n      <td>0.775</td>\n      <td>0.600625</td>\n      <td>0.775</td>\n    </tr>\n    <tr>\n      <th>7</th>\n      <td>St Mary's Anglican Girls' School</td>\n      <td>90.30</td>\n      <td>92.000</td>\n      <td>1.700</td>\n      <td>2.890000</td>\n      <td>1.700</td>\n    </tr>\n    <tr>\n      <th>8</th>\n      <td>Methodist Ladies' College</td>\n      <td>90.55</td>\n      <td>90.800</td>\n      <td>0.250</td>\n      <td>0.062500</td>\n      <td>0.250</td>\n    </tr>\n    <tr>\n      <th>9</th>\n      <td>Shenton College</td>\n      <td>88.60</td>\n      <td>87.600</td>\n      <td>1.000</td>\n      <td>1.000000</td>\n      <td>1.000</td>\n    </tr>\n    <tr>\n      <th>10</th>\n      <td>Hale School</td>\n      <td>90.35</td>\n      <td>92.650</td>\n      <td>2.300</td>\n      <td>5.290000</td>\n      <td>2.300</td>\n    </tr>\n    <tr>\n      <th>11</th>\n      <td>Carmel School</td>\n      <td>88.85</td>\n      <td>83.975</td>\n      <td>4.875</td>\n      <td>23.765625</td>\n      <td>4.875</td>\n    </tr>\n    <tr>\n      <th>12</th>\n      <td>John XXIII College</td>\n      <td>89.50</td>\n      <td>85.975</td>\n      <td>3.525</td>\n      <td>12.425625</td>\n      <td>3.525</td>\n    </tr>\n    <tr>\n      <th>14</th>\n      <td>Rossmoyne Senior High School</td>\n      <td>88.40</td>\n      <td>89.100</td>\n      <td>0.700</td>\n      <td>0.490000</td>\n      <td>0.700</td>\n    </tr>\n    <tr>\n      <th>31</th>\n      <td>Ursula Frayne Catholic College</td>\n      <td>83.15</td>\n      <td>90.575</td>\n      <td>7.425</td>\n      <td>55.130625</td>\n      <td>7.425</td>\n    </tr>\n    <tr>\n      <th>46</th>\n      <td>Wesley College</td>\n      <td>83.90</td>\n      <td>90.925</td>\n      <td>7.025</td>\n      <td>49.350625</td>\n      <td>7.025</td>\n    </tr>\n    <tr>\n      <th>58</th>\n      <td>Manjimup Senior High School</td>\n      <td>80.05</td>\n      <td>76.850</td>\n      <td>3.200</td>\n      <td>10.240000</td>\n      <td>3.200</td>\n    </tr>\n  </tbody>\n</table>\n</div>"
     },
     "metadata": {},
     "execution_count": 93
    }
   ],
   "source": [
    "# Filter the top 17 schools from 2016-2019\n",
    "predicted_17 = predicted_df.loc[(predicted_df['School'] == 'Perth Modern School') | (predicted_df['School'] == \"Presbyterian Ladies' College\") |\n",
    "                                (predicted_df['School'] == 'Penrhos College') | (predicted_df['School'] == 'Christ Church Grammar School') |\n",
    "                                (predicted_df['School'] == 'Santa Maria College') | (predicted_df['School'] == \"St Hilda's Anglican School for Girls\") |\n",
    "                                (predicted_df['School'] == 'Perth College') | (predicted_df['School'] == \"St Mary's Anglican Girls' School\") |\n",
    "                                (predicted_df['School'] == \"Methodist Ladies' College\") | (predicted_df['School'] == 'Shenton College') |\n",
    "                                (predicted_df['School'] == \"Hale School\") | (predicted_df['School'] == \"Carmel School\") |\n",
    "                                (predicted_df['School'] == \"John XXIII College\") | (predicted_df['School'] == \"Rossmoyne Senior High School\") |\n",
    "                                (predicted_df['School'] == \"Ursula Frayne Catholic College\") | (predicted_df['School'] == \"Wesley College\") |\n",
    "                                (predicted_df['School'] == \"Manjimup Senior High School\"), :]\n",
    "predicted_17"
   ]
  },
  {
   "cell_type": "code",
   "execution_count": null,
   "metadata": {},
   "outputs": [],
   "source": []
  },
  {
   "cell_type": "code",
   "execution_count": null,
   "metadata": {},
   "outputs": [],
   "source": []
  },
  {
   "cell_type": "code",
   "execution_count": null,
   "metadata": {},
   "outputs": [],
   "source": []
  },
  {
   "cell_type": "code",
   "execution_count": null,
   "metadata": {},
   "outputs": [],
   "source": []
  },
  {
   "cell_type": "code",
   "execution_count": null,
   "metadata": {},
   "outputs": [],
   "source": []
  },
  {
   "cell_type": "code",
   "execution_count": null,
   "metadata": {},
   "outputs": [],
   "source": []
  },
  {
   "cell_type": "code",
   "execution_count": null,
   "metadata": {},
   "outputs": [],
   "source": []
  },
  {
   "cell_type": "code",
   "execution_count": null,
   "metadata": {},
   "outputs": [],
   "source": []
  },
  {
   "cell_type": "code",
   "execution_count": 59,
   "metadata": {},
   "outputs": [
    {
     "output_type": "execute_result",
     "data": {
      "text/plain": [
       "     Year  Rank                         School  Median ATAR  \\\n",
       "0    2016     1            Perth Modern School        95.55   \n",
       "1    2016     2   Presbyterian Ladies' College        92.90   \n",
       "2    2016     3                Penrhos College        92.65   \n",
       "3    2016     4   Christ Church Grammar School        92.50   \n",
       "4    2016     5            Santa Maria College        91.85   \n",
       "..    ...   ...                            ...          ...   \n",
       "713  2020   135    Balcatta Senior High School        60.40   \n",
       "714  2020   136  Safety Bay Senior High School        58.75   \n",
       "715  2020   137   Darling Range Sports College        52.40   \n",
       "716  2020   138                Gilmore College        52.25   \n",
       "717  2020   139          Cecil Andrews College        49.85   \n",
       "\n",
       "     No. eligible Yr 12 students  No. Students with an ATAR  \\\n",
       "0                            222                        220   \n",
       "1                            122                        110   \n",
       "2                            145                        123   \n",
       "3                            188                        171   \n",
       "4                            189                        151   \n",
       "..                           ...                        ...   \n",
       "713                           76                         20   \n",
       "714                          115                         23   \n",
       "715                          129                         44   \n",
       "716                          141                         23   \n",
       "717                           77                         20   \n",
       "\n",
       "     Percentage of students with an ATAR   Longitude   Latitude  \\\n",
       "0                                  99.10  115.836396 -31.945066   \n",
       "1                                  90.16  115.764906 -31.993592   \n",
       "2                                  84.83  115.872539 -31.997431   \n",
       "3                                  90.96  115.776987 -31.985461   \n",
       "4                                  79.89  115.795823 -32.018614   \n",
       "..                                   ...         ...        ...   \n",
       "713                                26.32  115.812243 -31.875517   \n",
       "714                                20.00  115.740964 -32.303286   \n",
       "715                                34.11  116.010860 -31.975661   \n",
       "716                                16.31  115.814803 -32.238266   \n",
       "717                                25.97  115.991883 -32.141187   \n",
       "\n",
       "             Sector Gender  Religion  \n",
       "0        Government  Co-ed   Secular  \n",
       "1    Non-government  Girls   Uniting  \n",
       "2    Non-government  Girls   Uniting  \n",
       "3    Non-government   Boys  Anglican  \n",
       "4    Non-government  Girls  Catholic  \n",
       "..              ...    ...       ...  \n",
       "713      Government  Co-ed   Secular  \n",
       "714      Government  Co-ed   Secular  \n",
       "715      Government  Co-ed   Secular  \n",
       "716      Government  Co-ed   Secular  \n",
       "717      Government  Co-ed   Secular  \n",
       "\n",
       "[718 rows x 12 columns]"
      ],
      "text/html": "<div>\n<style scoped>\n    .dataframe tbody tr th:only-of-type {\n        vertical-align: middle;\n    }\n\n    .dataframe tbody tr th {\n        vertical-align: top;\n    }\n\n    .dataframe thead th {\n        text-align: right;\n    }\n</style>\n<table border=\"1\" class=\"dataframe\">\n  <thead>\n    <tr style=\"text-align: right;\">\n      <th></th>\n      <th>Year</th>\n      <th>Rank</th>\n      <th>School</th>\n      <th>Median ATAR</th>\n      <th>No. eligible Yr 12 students</th>\n      <th>No. Students with an ATAR</th>\n      <th>Percentage of students with an ATAR</th>\n      <th>Longitude</th>\n      <th>Latitude</th>\n      <th>Sector</th>\n      <th>Gender</th>\n      <th>Religion</th>\n    </tr>\n  </thead>\n  <tbody>\n    <tr>\n      <th>0</th>\n      <td>2016</td>\n      <td>1</td>\n      <td>Perth Modern School</td>\n      <td>95.55</td>\n      <td>222</td>\n      <td>220</td>\n      <td>99.10</td>\n      <td>115.836396</td>\n      <td>-31.945066</td>\n      <td>Government</td>\n      <td>Co-ed</td>\n      <td>Secular</td>\n    </tr>\n    <tr>\n      <th>1</th>\n      <td>2016</td>\n      <td>2</td>\n      <td>Presbyterian Ladies' College</td>\n      <td>92.90</td>\n      <td>122</td>\n      <td>110</td>\n      <td>90.16</td>\n      <td>115.764906</td>\n      <td>-31.993592</td>\n      <td>Non-government</td>\n      <td>Girls</td>\n      <td>Uniting</td>\n    </tr>\n    <tr>\n      <th>2</th>\n      <td>2016</td>\n      <td>3</td>\n      <td>Penrhos College</td>\n      <td>92.65</td>\n      <td>145</td>\n      <td>123</td>\n      <td>84.83</td>\n      <td>115.872539</td>\n      <td>-31.997431</td>\n      <td>Non-government</td>\n      <td>Girls</td>\n      <td>Uniting</td>\n    </tr>\n    <tr>\n      <th>3</th>\n      <td>2016</td>\n      <td>4</td>\n      <td>Christ Church Grammar School</td>\n      <td>92.50</td>\n      <td>188</td>\n      <td>171</td>\n      <td>90.96</td>\n      <td>115.776987</td>\n      <td>-31.985461</td>\n      <td>Non-government</td>\n      <td>Boys</td>\n      <td>Anglican</td>\n    </tr>\n    <tr>\n      <th>4</th>\n      <td>2016</td>\n      <td>5</td>\n      <td>Santa Maria College</td>\n      <td>91.85</td>\n      <td>189</td>\n      <td>151</td>\n      <td>79.89</td>\n      <td>115.795823</td>\n      <td>-32.018614</td>\n      <td>Non-government</td>\n      <td>Girls</td>\n      <td>Catholic</td>\n    </tr>\n    <tr>\n      <th>...</th>\n      <td>...</td>\n      <td>...</td>\n      <td>...</td>\n      <td>...</td>\n      <td>...</td>\n      <td>...</td>\n      <td>...</td>\n      <td>...</td>\n      <td>...</td>\n      <td>...</td>\n      <td>...</td>\n      <td>...</td>\n    </tr>\n    <tr>\n      <th>713</th>\n      <td>2020</td>\n      <td>135</td>\n      <td>Balcatta Senior High School</td>\n      <td>60.40</td>\n      <td>76</td>\n      <td>20</td>\n      <td>26.32</td>\n      <td>115.812243</td>\n      <td>-31.875517</td>\n      <td>Government</td>\n      <td>Co-ed</td>\n      <td>Secular</td>\n    </tr>\n    <tr>\n      <th>714</th>\n      <td>2020</td>\n      <td>136</td>\n      <td>Safety Bay Senior High School</td>\n      <td>58.75</td>\n      <td>115</td>\n      <td>23</td>\n      <td>20.00</td>\n      <td>115.740964</td>\n      <td>-32.303286</td>\n      <td>Government</td>\n      <td>Co-ed</td>\n      <td>Secular</td>\n    </tr>\n    <tr>\n      <th>715</th>\n      <td>2020</td>\n      <td>137</td>\n      <td>Darling Range Sports College</td>\n      <td>52.40</td>\n      <td>129</td>\n      <td>44</td>\n      <td>34.11</td>\n      <td>116.010860</td>\n      <td>-31.975661</td>\n      <td>Government</td>\n      <td>Co-ed</td>\n      <td>Secular</td>\n    </tr>\n    <tr>\n      <th>716</th>\n      <td>2020</td>\n      <td>138</td>\n      <td>Gilmore College</td>\n      <td>52.25</td>\n      <td>141</td>\n      <td>23</td>\n      <td>16.31</td>\n      <td>115.814803</td>\n      <td>-32.238266</td>\n      <td>Government</td>\n      <td>Co-ed</td>\n      <td>Secular</td>\n    </tr>\n    <tr>\n      <th>717</th>\n      <td>2020</td>\n      <td>139</td>\n      <td>Cecil Andrews College</td>\n      <td>49.85</td>\n      <td>77</td>\n      <td>20</td>\n      <td>25.97</td>\n      <td>115.991883</td>\n      <td>-32.141187</td>\n      <td>Government</td>\n      <td>Co-ed</td>\n      <td>Secular</td>\n    </tr>\n  </tbody>\n</table>\n<p>718 rows × 12 columns</p>\n</div>"
     },
     "metadata": {},
     "execution_count": 59
    }
   ],
   "source": [
    "# read the union(ed) table\n",
    "df_union = pd.read_csv(\"../UWA-Project_3/Resources/wa_hs_atar_ratings_full.csv\")\n",
    "df_union"
   ]
  },
  {
   "cell_type": "code",
   "execution_count": null,
   "metadata": {},
   "outputs": [],
   "source": []
  },
  {
   "cell_type": "code",
   "execution_count": null,
   "metadata": {},
   "outputs": [],
   "source": []
  },
  {
   "cell_type": "code",
   "execution_count": null,
   "metadata": {},
   "outputs": [],
   "source": []
  },
  {
   "cell_type": "code",
   "execution_count": null,
   "metadata": {},
   "outputs": [],
   "source": []
  },
  {
   "cell_type": "code",
   "execution_count": null,
   "metadata": {},
   "outputs": [],
   "source": []
  },
  {
   "cell_type": "code",
   "execution_count": null,
   "metadata": {},
   "outputs": [],
   "source": []
  },
  {
   "cell_type": "code",
   "execution_count": null,
   "metadata": {},
   "outputs": [],
   "source": []
  },
  {
   "cell_type": "code",
   "execution_count": null,
   "metadata": {},
   "outputs": [],
   "source": []
  },
  {
   "cell_type": "code",
   "execution_count": null,
   "metadata": {},
   "outputs": [],
   "source": []
  },
  {
   "cell_type": "code",
   "execution_count": null,
   "metadata": {},
   "outputs": [],
   "source": []
  },
  {
   "cell_type": "code",
   "execution_count": 60,
   "metadata": {},
   "outputs": [
    {
     "output_type": "execute_result",
     "data": {
      "text/plain": [
       "   Year  Score\n",
       "0  2016  95.55\n",
       "1  2017  95.90\n",
       "2  2018  97.00\n",
       "3  2019  96.75"
      ],
      "text/html": "<div>\n<style scoped>\n    .dataframe tbody tr th:only-of-type {\n        vertical-align: middle;\n    }\n\n    .dataframe tbody tr th {\n        vertical-align: top;\n    }\n\n    .dataframe thead th {\n        text-align: right;\n    }\n</style>\n<table border=\"1\" class=\"dataframe\">\n  <thead>\n    <tr style=\"text-align: right;\">\n      <th></th>\n      <th>Year</th>\n      <th>Score</th>\n    </tr>\n  </thead>\n  <tbody>\n    <tr>\n      <th>0</th>\n      <td>2016</td>\n      <td>95.55</td>\n    </tr>\n    <tr>\n      <th>1</th>\n      <td>2017</td>\n      <td>95.90</td>\n    </tr>\n    <tr>\n      <th>2</th>\n      <td>2018</td>\n      <td>97.00</td>\n    </tr>\n    <tr>\n      <th>3</th>\n      <td>2019</td>\n      <td>96.75</td>\n    </tr>\n  </tbody>\n</table>\n</div>"
     },
     "metadata": {},
     "execution_count": 60
    }
   ],
   "source": [
    "# Create a dataframe for Perth Modern School 2016-2019\n",
    "df = pd.DataFrame({\"Year\": [2016, 2017, 2018, 2019],\n",
    "                   \"Score\": [95.55, 95.9, 97, 96.75]})\n",
    "df"
   ]
  },
  {
   "cell_type": "code",
   "execution_count": 61,
   "metadata": {},
   "outputs": [
    {
     "output_type": "display_data",
     "data": {
      "text/plain": "<Figure size 432x288 with 1 Axes>",
      "image/svg+xml": "<?xml version=\"1.0\" encoding=\"utf-8\" standalone=\"no\"?>\r\n<!DOCTYPE svg PUBLIC \"-//W3C//DTD SVG 1.1//EN\"\r\n  \"http://www.w3.org/Graphics/SVG/1.1/DTD/svg11.dtd\">\r\n<!-- Created with matplotlib (https://matplotlib.org/) -->\r\n<svg height=\"281.529531pt\" version=\"1.1\" viewBox=\"0 0 394.079375 281.529531\" width=\"394.079375pt\" xmlns=\"http://www.w3.org/2000/svg\" xmlns:xlink=\"http://www.w3.org/1999/xlink\">\r\n <defs>\r\n  <style type=\"text/css\">\r\n*{stroke-linecap:butt;stroke-linejoin:round;}\r\n  </style>\r\n </defs>\r\n <g id=\"figure_1\">\r\n  <g id=\"patch_1\">\r\n   <path d=\"M 0 281.529531 \r\nL 394.079375 281.529531 \r\nL 394.079375 0 \r\nL 0 0 \r\nz\r\n\" style=\"fill:none;\"/>\r\n  </g>\r\n  <g id=\"axes_1\">\r\n   <g id=\"patch_2\">\r\n    <path d=\"M 52.079375 242.037656 \r\nL 386.879375 242.037656 \r\nL 386.879375 24.597656 \r\nL 52.079375 24.597656 \r\nz\r\n\" style=\"fill:#ffffff;\"/>\r\n   </g>\r\n   <g id=\"PathCollection_1\">\r\n    <defs>\r\n     <path d=\"M 0 3 \r\nC 0.795609 3 1.55874 2.683901 2.12132 2.12132 \r\nC 2.683901 1.55874 3 0.795609 3 0 \r\nC 3 -0.795609 2.683901 -1.55874 2.12132 -2.12132 \r\nC 1.55874 -2.683901 0.795609 -3 0 -3 \r\nC -0.795609 -3 -1.55874 -2.683901 -2.12132 -2.12132 \r\nC -2.683901 -1.55874 -3 -0.795609 -3 0 \r\nC -3 0.795609 -2.683901 1.55874 -2.12132 2.12132 \r\nC -1.55874 2.683901 -0.795609 3 0 3 \r\nz\r\n\" id=\"mb6c40234b5\" style=\"stroke:#1f77b4;\"/>\r\n    </defs>\r\n    <g clip-path=\"url(#pf347b761e2)\">\r\n     <use style=\"fill:#1f77b4;stroke:#1f77b4;\" x=\"67.297557\" xlink:href=\"#mb6c40234b5\" y=\"232.15402\"/>\r\n     <use style=\"fill:#1f77b4;stroke:#1f77b4;\" x=\"168.752102\" xlink:href=\"#mb6c40234b5\" y=\"184.603879\"/>\r\n     <use style=\"fill:#1f77b4;stroke:#1f77b4;\" x=\"270.206648\" xlink:href=\"#mb6c40234b5\" y=\"35.16058\"/>\r\n     <use style=\"fill:#1f77b4;stroke:#1f77b4;\" x=\"371.661193\" xlink:href=\"#mb6c40234b5\" y=\"69.124966\"/>\r\n    </g>\r\n   </g>\r\n   <g id=\"matplotlib.axis_1\">\r\n    <g id=\"xtick_1\">\r\n     <g id=\"line2d_1\">\r\n      <defs>\r\n       <path d=\"M 0 0 \r\nL 0 3.5 \r\n\" id=\"m82aea0a099\" style=\"stroke:#000000;stroke-width:0.8;\"/>\r\n      </defs>\r\n      <g>\r\n       <use style=\"stroke:#000000;stroke-width:0.8;\" x=\"67.297557\" xlink:href=\"#m82aea0a099\" y=\"242.037656\"/>\r\n      </g>\r\n     </g>\r\n     <g id=\"text_1\">\r\n      <!-- 2016 -->\r\n      <defs>\r\n       <path d=\"M 19.1875 8.296875 \r\nL 53.609375 8.296875 \r\nL 53.609375 0 \r\nL 7.328125 0 \r\nL 7.328125 8.296875 \r\nQ 12.9375 14.109375 22.625 23.890625 \r\nQ 32.328125 33.6875 34.8125 36.53125 \r\nQ 39.546875 41.84375 41.421875 45.53125 \r\nQ 43.3125 49.21875 43.3125 52.78125 \r\nQ 43.3125 58.59375 39.234375 62.25 \r\nQ 35.15625 65.921875 28.609375 65.921875 \r\nQ 23.96875 65.921875 18.8125 64.3125 \r\nQ 13.671875 62.703125 7.8125 59.421875 \r\nL 7.8125 69.390625 \r\nQ 13.765625 71.78125 18.9375 73 \r\nQ 24.125 74.21875 28.421875 74.21875 \r\nQ 39.75 74.21875 46.484375 68.546875 \r\nQ 53.21875 62.890625 53.21875 53.421875 \r\nQ 53.21875 48.921875 51.53125 44.890625 \r\nQ 49.859375 40.875 45.40625 35.40625 \r\nQ 44.1875 33.984375 37.640625 27.21875 \r\nQ 31.109375 20.453125 19.1875 8.296875 \r\nz\r\n\" id=\"DejaVuSans-50\"/>\r\n       <path d=\"M 31.78125 66.40625 \r\nQ 24.171875 66.40625 20.328125 58.90625 \r\nQ 16.5 51.421875 16.5 36.375 \r\nQ 16.5 21.390625 20.328125 13.890625 \r\nQ 24.171875 6.390625 31.78125 6.390625 \r\nQ 39.453125 6.390625 43.28125 13.890625 \r\nQ 47.125 21.390625 47.125 36.375 \r\nQ 47.125 51.421875 43.28125 58.90625 \r\nQ 39.453125 66.40625 31.78125 66.40625 \r\nz\r\nM 31.78125 74.21875 \r\nQ 44.046875 74.21875 50.515625 64.515625 \r\nQ 56.984375 54.828125 56.984375 36.375 \r\nQ 56.984375 17.96875 50.515625 8.265625 \r\nQ 44.046875 -1.421875 31.78125 -1.421875 \r\nQ 19.53125 -1.421875 13.0625 8.265625 \r\nQ 6.59375 17.96875 6.59375 36.375 \r\nQ 6.59375 54.828125 13.0625 64.515625 \r\nQ 19.53125 74.21875 31.78125 74.21875 \r\nz\r\n\" id=\"DejaVuSans-48\"/>\r\n       <path d=\"M 12.40625 8.296875 \r\nL 28.515625 8.296875 \r\nL 28.515625 63.921875 \r\nL 10.984375 60.40625 \r\nL 10.984375 69.390625 \r\nL 28.421875 72.90625 \r\nL 38.28125 72.90625 \r\nL 38.28125 8.296875 \r\nL 54.390625 8.296875 \r\nL 54.390625 0 \r\nL 12.40625 0 \r\nz\r\n\" id=\"DejaVuSans-49\"/>\r\n       <path d=\"M 33.015625 40.375 \r\nQ 26.375 40.375 22.484375 35.828125 \r\nQ 18.609375 31.296875 18.609375 23.390625 \r\nQ 18.609375 15.53125 22.484375 10.953125 \r\nQ 26.375 6.390625 33.015625 6.390625 \r\nQ 39.65625 6.390625 43.53125 10.953125 \r\nQ 47.40625 15.53125 47.40625 23.390625 \r\nQ 47.40625 31.296875 43.53125 35.828125 \r\nQ 39.65625 40.375 33.015625 40.375 \r\nz\r\nM 52.59375 71.296875 \r\nL 52.59375 62.3125 \r\nQ 48.875 64.0625 45.09375 64.984375 \r\nQ 41.3125 65.921875 37.59375 65.921875 \r\nQ 27.828125 65.921875 22.671875 59.328125 \r\nQ 17.53125 52.734375 16.796875 39.40625 \r\nQ 19.671875 43.65625 24.015625 45.921875 \r\nQ 28.375 48.1875 33.59375 48.1875 \r\nQ 44.578125 48.1875 50.953125 41.515625 \r\nQ 57.328125 34.859375 57.328125 23.390625 \r\nQ 57.328125 12.15625 50.6875 5.359375 \r\nQ 44.046875 -1.421875 33.015625 -1.421875 \r\nQ 20.359375 -1.421875 13.671875 8.265625 \r\nQ 6.984375 17.96875 6.984375 36.375 \r\nQ 6.984375 53.65625 15.1875 63.9375 \r\nQ 23.390625 74.21875 37.203125 74.21875 \r\nQ 40.921875 74.21875 44.703125 73.484375 \r\nQ 48.484375 72.75 52.59375 71.296875 \r\nz\r\n\" id=\"DejaVuSans-54\"/>\r\n      </defs>\r\n      <g transform=\"translate(54.572557 256.636094)scale(0.1 -0.1)\">\r\n       <use xlink:href=\"#DejaVuSans-50\"/>\r\n       <use x=\"63.623047\" xlink:href=\"#DejaVuSans-48\"/>\r\n       <use x=\"127.246094\" xlink:href=\"#DejaVuSans-49\"/>\r\n       <use x=\"190.869141\" xlink:href=\"#DejaVuSans-54\"/>\r\n      </g>\r\n     </g>\r\n    </g>\r\n    <g id=\"xtick_2\">\r\n     <g id=\"line2d_2\">\r\n      <g>\r\n       <use style=\"stroke:#000000;stroke-width:0.8;\" x=\"168.752102\" xlink:href=\"#m82aea0a099\" y=\"242.037656\"/>\r\n      </g>\r\n     </g>\r\n     <g id=\"text_2\">\r\n      <!-- 2017 -->\r\n      <defs>\r\n       <path d=\"M 8.203125 72.90625 \r\nL 55.078125 72.90625 \r\nL 55.078125 68.703125 \r\nL 28.609375 0 \r\nL 18.3125 0 \r\nL 43.21875 64.59375 \r\nL 8.203125 64.59375 \r\nz\r\n\" id=\"DejaVuSans-55\"/>\r\n      </defs>\r\n      <g transform=\"translate(156.027102 256.636094)scale(0.1 -0.1)\">\r\n       <use xlink:href=\"#DejaVuSans-50\"/>\r\n       <use x=\"63.623047\" xlink:href=\"#DejaVuSans-48\"/>\r\n       <use x=\"127.246094\" xlink:href=\"#DejaVuSans-49\"/>\r\n       <use x=\"190.869141\" xlink:href=\"#DejaVuSans-55\"/>\r\n      </g>\r\n     </g>\r\n    </g>\r\n    <g id=\"xtick_3\">\r\n     <g id=\"line2d_3\">\r\n      <g>\r\n       <use style=\"stroke:#000000;stroke-width:0.8;\" x=\"270.206648\" xlink:href=\"#m82aea0a099\" y=\"242.037656\"/>\r\n      </g>\r\n     </g>\r\n     <g id=\"text_3\">\r\n      <!-- 2018 -->\r\n      <defs>\r\n       <path d=\"M 31.78125 34.625 \r\nQ 24.75 34.625 20.71875 30.859375 \r\nQ 16.703125 27.09375 16.703125 20.515625 \r\nQ 16.703125 13.921875 20.71875 10.15625 \r\nQ 24.75 6.390625 31.78125 6.390625 \r\nQ 38.8125 6.390625 42.859375 10.171875 \r\nQ 46.921875 13.96875 46.921875 20.515625 \r\nQ 46.921875 27.09375 42.890625 30.859375 \r\nQ 38.875 34.625 31.78125 34.625 \r\nz\r\nM 21.921875 38.8125 \r\nQ 15.578125 40.375 12.03125 44.71875 \r\nQ 8.5 49.078125 8.5 55.328125 \r\nQ 8.5 64.0625 14.71875 69.140625 \r\nQ 20.953125 74.21875 31.78125 74.21875 \r\nQ 42.671875 74.21875 48.875 69.140625 \r\nQ 55.078125 64.0625 55.078125 55.328125 \r\nQ 55.078125 49.078125 51.53125 44.71875 \r\nQ 48 40.375 41.703125 38.8125 \r\nQ 48.828125 37.15625 52.796875 32.3125 \r\nQ 56.78125 27.484375 56.78125 20.515625 \r\nQ 56.78125 9.90625 50.3125 4.234375 \r\nQ 43.84375 -1.421875 31.78125 -1.421875 \r\nQ 19.734375 -1.421875 13.25 4.234375 \r\nQ 6.78125 9.90625 6.78125 20.515625 \r\nQ 6.78125 27.484375 10.78125 32.3125 \r\nQ 14.796875 37.15625 21.921875 38.8125 \r\nz\r\nM 18.3125 54.390625 \r\nQ 18.3125 48.734375 21.84375 45.5625 \r\nQ 25.390625 42.390625 31.78125 42.390625 \r\nQ 38.140625 42.390625 41.71875 45.5625 \r\nQ 45.3125 48.734375 45.3125 54.390625 \r\nQ 45.3125 60.0625 41.71875 63.234375 \r\nQ 38.140625 66.40625 31.78125 66.40625 \r\nQ 25.390625 66.40625 21.84375 63.234375 \r\nQ 18.3125 60.0625 18.3125 54.390625 \r\nz\r\n\" id=\"DejaVuSans-56\"/>\r\n      </defs>\r\n      <g transform=\"translate(257.481648 256.636094)scale(0.1 -0.1)\">\r\n       <use xlink:href=\"#DejaVuSans-50\"/>\r\n       <use x=\"63.623047\" xlink:href=\"#DejaVuSans-48\"/>\r\n       <use x=\"127.246094\" xlink:href=\"#DejaVuSans-49\"/>\r\n       <use x=\"190.869141\" xlink:href=\"#DejaVuSans-56\"/>\r\n      </g>\r\n     </g>\r\n    </g>\r\n    <g id=\"xtick_4\">\r\n     <g id=\"line2d_4\">\r\n      <g>\r\n       <use style=\"stroke:#000000;stroke-width:0.8;\" x=\"371.661193\" xlink:href=\"#m82aea0a099\" y=\"242.037656\"/>\r\n      </g>\r\n     </g>\r\n     <g id=\"text_4\">\r\n      <!-- 2019 -->\r\n      <defs>\r\n       <path d=\"M 10.984375 1.515625 \r\nL 10.984375 10.5 \r\nQ 14.703125 8.734375 18.5 7.8125 \r\nQ 22.3125 6.890625 25.984375 6.890625 \r\nQ 35.75 6.890625 40.890625 13.453125 \r\nQ 46.046875 20.015625 46.78125 33.40625 \r\nQ 43.953125 29.203125 39.59375 26.953125 \r\nQ 35.25 24.703125 29.984375 24.703125 \r\nQ 19.046875 24.703125 12.671875 31.3125 \r\nQ 6.296875 37.9375 6.296875 49.421875 \r\nQ 6.296875 60.640625 12.9375 67.421875 \r\nQ 19.578125 74.21875 30.609375 74.21875 \r\nQ 43.265625 74.21875 49.921875 64.515625 \r\nQ 56.59375 54.828125 56.59375 36.375 \r\nQ 56.59375 19.140625 48.40625 8.859375 \r\nQ 40.234375 -1.421875 26.421875 -1.421875 \r\nQ 22.703125 -1.421875 18.890625 -0.6875 \r\nQ 15.09375 0.046875 10.984375 1.515625 \r\nz\r\nM 30.609375 32.421875 \r\nQ 37.25 32.421875 41.125 36.953125 \r\nQ 45.015625 41.5 45.015625 49.421875 \r\nQ 45.015625 57.28125 41.125 61.84375 \r\nQ 37.25 66.40625 30.609375 66.40625 \r\nQ 23.96875 66.40625 20.09375 61.84375 \r\nQ 16.21875 57.28125 16.21875 49.421875 \r\nQ 16.21875 41.5 20.09375 36.953125 \r\nQ 23.96875 32.421875 30.609375 32.421875 \r\nz\r\n\" id=\"DejaVuSans-57\"/>\r\n      </defs>\r\n      <g transform=\"translate(358.936193 256.636094)scale(0.1 -0.1)\">\r\n       <use xlink:href=\"#DejaVuSans-50\"/>\r\n       <use x=\"63.623047\" xlink:href=\"#DejaVuSans-48\"/>\r\n       <use x=\"127.246094\" xlink:href=\"#DejaVuSans-49\"/>\r\n       <use x=\"190.869141\" xlink:href=\"#DejaVuSans-57\"/>\r\n      </g>\r\n     </g>\r\n    </g>\r\n    <g id=\"text_5\">\r\n     <!-- Years -->\r\n     <defs>\r\n      <path d=\"M -0.203125 72.90625 \r\nL 10.40625 72.90625 \r\nL 30.609375 42.921875 \r\nL 50.6875 72.90625 \r\nL 61.28125 72.90625 \r\nL 35.5 34.71875 \r\nL 35.5 0 \r\nL 25.59375 0 \r\nL 25.59375 34.71875 \r\nz\r\n\" id=\"DejaVuSans-89\"/>\r\n      <path d=\"M 56.203125 29.59375 \r\nL 56.203125 25.203125 \r\nL 14.890625 25.203125 \r\nQ 15.484375 15.921875 20.484375 11.0625 \r\nQ 25.484375 6.203125 34.421875 6.203125 \r\nQ 39.59375 6.203125 44.453125 7.46875 \r\nQ 49.3125 8.734375 54.109375 11.28125 \r\nL 54.109375 2.78125 \r\nQ 49.265625 0.734375 44.1875 -0.34375 \r\nQ 39.109375 -1.421875 33.890625 -1.421875 \r\nQ 20.796875 -1.421875 13.15625 6.1875 \r\nQ 5.515625 13.8125 5.515625 26.8125 \r\nQ 5.515625 40.234375 12.765625 48.109375 \r\nQ 20.015625 56 32.328125 56 \r\nQ 43.359375 56 49.78125 48.890625 \r\nQ 56.203125 41.796875 56.203125 29.59375 \r\nz\r\nM 47.21875 32.234375 \r\nQ 47.125 39.59375 43.09375 43.984375 \r\nQ 39.0625 48.390625 32.421875 48.390625 \r\nQ 24.90625 48.390625 20.390625 44.140625 \r\nQ 15.875 39.890625 15.1875 32.171875 \r\nz\r\n\" id=\"DejaVuSans-101\"/>\r\n      <path d=\"M 34.28125 27.484375 \r\nQ 23.390625 27.484375 19.1875 25 \r\nQ 14.984375 22.515625 14.984375 16.5 \r\nQ 14.984375 11.71875 18.140625 8.90625 \r\nQ 21.296875 6.109375 26.703125 6.109375 \r\nQ 34.1875 6.109375 38.703125 11.40625 \r\nQ 43.21875 16.703125 43.21875 25.484375 \r\nL 43.21875 27.484375 \r\nz\r\nM 52.203125 31.203125 \r\nL 52.203125 0 \r\nL 43.21875 0 \r\nL 43.21875 8.296875 \r\nQ 40.140625 3.328125 35.546875 0.953125 \r\nQ 30.953125 -1.421875 24.3125 -1.421875 \r\nQ 15.921875 -1.421875 10.953125 3.296875 \r\nQ 6 8.015625 6 15.921875 \r\nQ 6 25.140625 12.171875 29.828125 \r\nQ 18.359375 34.515625 30.609375 34.515625 \r\nL 43.21875 34.515625 \r\nL 43.21875 35.40625 \r\nQ 43.21875 41.609375 39.140625 45 \r\nQ 35.0625 48.390625 27.6875 48.390625 \r\nQ 23 48.390625 18.546875 47.265625 \r\nQ 14.109375 46.140625 10.015625 43.890625 \r\nL 10.015625 52.203125 \r\nQ 14.9375 54.109375 19.578125 55.046875 \r\nQ 24.21875 56 28.609375 56 \r\nQ 40.484375 56 46.34375 49.84375 \r\nQ 52.203125 43.703125 52.203125 31.203125 \r\nz\r\n\" id=\"DejaVuSans-97\"/>\r\n      <path d=\"M 41.109375 46.296875 \r\nQ 39.59375 47.171875 37.8125 47.578125 \r\nQ 36.03125 48 33.890625 48 \r\nQ 26.265625 48 22.1875 43.046875 \r\nQ 18.109375 38.09375 18.109375 28.8125 \r\nL 18.109375 0 \r\nL 9.078125 0 \r\nL 9.078125 54.6875 \r\nL 18.109375 54.6875 \r\nL 18.109375 46.1875 \r\nQ 20.953125 51.171875 25.484375 53.578125 \r\nQ 30.03125 56 36.53125 56 \r\nQ 37.453125 56 38.578125 55.875 \r\nQ 39.703125 55.765625 41.0625 55.515625 \r\nz\r\n\" id=\"DejaVuSans-114\"/>\r\n      <path d=\"M 44.28125 53.078125 \r\nL 44.28125 44.578125 \r\nQ 40.484375 46.53125 36.375 47.5 \r\nQ 32.28125 48.484375 27.875 48.484375 \r\nQ 21.1875 48.484375 17.84375 46.4375 \r\nQ 14.5 44.390625 14.5 40.28125 \r\nQ 14.5 37.15625 16.890625 35.375 \r\nQ 19.28125 33.59375 26.515625 31.984375 \r\nL 29.59375 31.296875 \r\nQ 39.15625 29.25 43.1875 25.515625 \r\nQ 47.21875 21.78125 47.21875 15.09375 \r\nQ 47.21875 7.46875 41.1875 3.015625 \r\nQ 35.15625 -1.421875 24.609375 -1.421875 \r\nQ 20.21875 -1.421875 15.453125 -0.5625 \r\nQ 10.6875 0.296875 5.421875 2 \r\nL 5.421875 11.28125 \r\nQ 10.40625 8.6875 15.234375 7.390625 \r\nQ 20.0625 6.109375 24.8125 6.109375 \r\nQ 31.15625 6.109375 34.5625 8.28125 \r\nQ 37.984375 10.453125 37.984375 14.40625 \r\nQ 37.984375 18.0625 35.515625 20.015625 \r\nQ 33.0625 21.96875 24.703125 23.78125 \r\nL 21.578125 24.515625 \r\nQ 13.234375 26.265625 9.515625 29.90625 \r\nQ 5.8125 33.546875 5.8125 39.890625 \r\nQ 5.8125 47.609375 11.28125 51.796875 \r\nQ 16.75 56 26.8125 56 \r\nQ 31.78125 56 36.171875 55.265625 \r\nQ 40.578125 54.546875 44.28125 53.078125 \r\nz\r\n\" id=\"DejaVuSans-115\"/>\r\n     </defs>\r\n     <g transform=\"translate(203.64875 271.833906)scale(0.12 -0.12)\">\r\n      <use xlink:href=\"#DejaVuSans-89\"/>\r\n      <use x=\"47.833984\" xlink:href=\"#DejaVuSans-101\"/>\r\n      <use x=\"109.357422\" xlink:href=\"#DejaVuSans-97\"/>\r\n      <use x=\"170.636719\" xlink:href=\"#DejaVuSans-114\"/>\r\n      <use x=\"211.75\" xlink:href=\"#DejaVuSans-115\"/>\r\n     </g>\r\n    </g>\r\n   </g>\r\n   <g id=\"matplotlib.axis_2\">\r\n    <g id=\"ytick_1\">\r\n     <g id=\"line2d_5\">\r\n      <defs>\r\n       <path d=\"M 0 0 \r\nL -3.5 0 \r\n\" id=\"mc44259a660\" style=\"stroke:#000000;stroke-width:0.8;\"/>\r\n      </defs>\r\n      <g>\r\n       <use style=\"stroke:#000000;stroke-width:0.8;\" x=\"52.079375\" xlink:href=\"#mc44259a660\" y=\"225.361143\"/>\r\n      </g>\r\n     </g>\r\n     <g id=\"text_6\">\r\n      <!-- 95.6 -->\r\n      <defs>\r\n       <path d=\"M 10.796875 72.90625 \r\nL 49.515625 72.90625 \r\nL 49.515625 64.59375 \r\nL 19.828125 64.59375 \r\nL 19.828125 46.734375 \r\nQ 21.96875 47.46875 24.109375 47.828125 \r\nQ 26.265625 48.1875 28.421875 48.1875 \r\nQ 40.625 48.1875 47.75 41.5 \r\nQ 54.890625 34.8125 54.890625 23.390625 \r\nQ 54.890625 11.625 47.5625 5.09375 \r\nQ 40.234375 -1.421875 26.90625 -1.421875 \r\nQ 22.3125 -1.421875 17.546875 -0.640625 \r\nQ 12.796875 0.140625 7.71875 1.703125 \r\nL 7.71875 11.625 \r\nQ 12.109375 9.234375 16.796875 8.0625 \r\nQ 21.484375 6.890625 26.703125 6.890625 \r\nQ 35.15625 6.890625 40.078125 11.328125 \r\nQ 45.015625 15.765625 45.015625 23.390625 \r\nQ 45.015625 31 40.078125 35.4375 \r\nQ 35.15625 39.890625 26.703125 39.890625 \r\nQ 22.75 39.890625 18.8125 39.015625 \r\nQ 14.890625 38.140625 10.796875 36.28125 \r\nz\r\n\" id=\"DejaVuSans-53\"/>\r\n       <path d=\"M 10.6875 12.40625 \r\nL 21 12.40625 \r\nL 21 0 \r\nL 10.6875 0 \r\nz\r\n\" id=\"DejaVuSans-46\"/>\r\n      </defs>\r\n      <g transform=\"translate(22.81375 229.160361)scale(0.1 -0.1)\">\r\n       <use xlink:href=\"#DejaVuSans-57\"/>\r\n       <use x=\"63.623047\" xlink:href=\"#DejaVuSans-53\"/>\r\n       <use x=\"127.246094\" xlink:href=\"#DejaVuSans-46\"/>\r\n       <use x=\"159.033203\" xlink:href=\"#DejaVuSans-54\"/>\r\n      </g>\r\n     </g>\r\n    </g>\r\n    <g id=\"ytick_2\">\r\n     <g id=\"line2d_6\">\r\n      <g>\r\n       <use style=\"stroke:#000000;stroke-width:0.8;\" x=\"52.079375\" xlink:href=\"#mc44259a660\" y=\"198.189634\"/>\r\n      </g>\r\n     </g>\r\n     <g id=\"text_7\">\r\n      <!-- 95.8 -->\r\n      <g transform=\"translate(22.81375 201.988853)scale(0.1 -0.1)\">\r\n       <use xlink:href=\"#DejaVuSans-57\"/>\r\n       <use x=\"63.623047\" xlink:href=\"#DejaVuSans-53\"/>\r\n       <use x=\"127.246094\" xlink:href=\"#DejaVuSans-46\"/>\r\n       <use x=\"159.033203\" xlink:href=\"#DejaVuSans-56\"/>\r\n      </g>\r\n     </g>\r\n    </g>\r\n    <g id=\"ytick_3\">\r\n     <g id=\"line2d_7\">\r\n      <g>\r\n       <use style=\"stroke:#000000;stroke-width:0.8;\" x=\"52.079375\" xlink:href=\"#mc44259a660\" y=\"171.018125\"/>\r\n      </g>\r\n     </g>\r\n     <g id=\"text_8\">\r\n      <!-- 96.0 -->\r\n      <g transform=\"translate(22.81375 174.817344)scale(0.1 -0.1)\">\r\n       <use xlink:href=\"#DejaVuSans-57\"/>\r\n       <use x=\"63.623047\" xlink:href=\"#DejaVuSans-54\"/>\r\n       <use x=\"127.246094\" xlink:href=\"#DejaVuSans-46\"/>\r\n       <use x=\"159.033203\" xlink:href=\"#DejaVuSans-48\"/>\r\n      </g>\r\n     </g>\r\n    </g>\r\n    <g id=\"ytick_4\">\r\n     <g id=\"line2d_8\">\r\n      <g>\r\n       <use style=\"stroke:#000000;stroke-width:0.8;\" x=\"52.079375\" xlink:href=\"#mc44259a660\" y=\"143.846616\"/>\r\n      </g>\r\n     </g>\r\n     <g id=\"text_9\">\r\n      <!-- 96.2 -->\r\n      <g transform=\"translate(22.81375 147.645835)scale(0.1 -0.1)\">\r\n       <use xlink:href=\"#DejaVuSans-57\"/>\r\n       <use x=\"63.623047\" xlink:href=\"#DejaVuSans-54\"/>\r\n       <use x=\"127.246094\" xlink:href=\"#DejaVuSans-46\"/>\r\n       <use x=\"159.033203\" xlink:href=\"#DejaVuSans-50\"/>\r\n      </g>\r\n     </g>\r\n    </g>\r\n    <g id=\"ytick_5\">\r\n     <g id=\"line2d_9\">\r\n      <g>\r\n       <use style=\"stroke:#000000;stroke-width:0.8;\" x=\"52.079375\" xlink:href=\"#mc44259a660\" y=\"116.675107\"/>\r\n      </g>\r\n     </g>\r\n     <g id=\"text_10\">\r\n      <!-- 96.4 -->\r\n      <defs>\r\n       <path d=\"M 37.796875 64.3125 \r\nL 12.890625 25.390625 \r\nL 37.796875 25.390625 \r\nz\r\nM 35.203125 72.90625 \r\nL 47.609375 72.90625 \r\nL 47.609375 25.390625 \r\nL 58.015625 25.390625 \r\nL 58.015625 17.1875 \r\nL 47.609375 17.1875 \r\nL 47.609375 0 \r\nL 37.796875 0 \r\nL 37.796875 17.1875 \r\nL 4.890625 17.1875 \r\nL 4.890625 26.703125 \r\nz\r\n\" id=\"DejaVuSans-52\"/>\r\n      </defs>\r\n      <g transform=\"translate(22.81375 120.474326)scale(0.1 -0.1)\">\r\n       <use xlink:href=\"#DejaVuSans-57\"/>\r\n       <use x=\"63.623047\" xlink:href=\"#DejaVuSans-54\"/>\r\n       <use x=\"127.246094\" xlink:href=\"#DejaVuSans-46\"/>\r\n       <use x=\"159.033203\" xlink:href=\"#DejaVuSans-52\"/>\r\n      </g>\r\n     </g>\r\n    </g>\r\n    <g id=\"ytick_6\">\r\n     <g id=\"line2d_10\">\r\n      <g>\r\n       <use style=\"stroke:#000000;stroke-width:0.8;\" x=\"52.079375\" xlink:href=\"#mc44259a660\" y=\"89.503598\"/>\r\n      </g>\r\n     </g>\r\n     <g id=\"text_11\">\r\n      <!-- 96.6 -->\r\n      <g transform=\"translate(22.81375 93.302817)scale(0.1 -0.1)\">\r\n       <use xlink:href=\"#DejaVuSans-57\"/>\r\n       <use x=\"63.623047\" xlink:href=\"#DejaVuSans-54\"/>\r\n       <use x=\"127.246094\" xlink:href=\"#DejaVuSans-46\"/>\r\n       <use x=\"159.033203\" xlink:href=\"#DejaVuSans-54\"/>\r\n      </g>\r\n     </g>\r\n    </g>\r\n    <g id=\"ytick_7\">\r\n     <g id=\"line2d_11\">\r\n      <g>\r\n       <use style=\"stroke:#000000;stroke-width:0.8;\" x=\"52.079375\" xlink:href=\"#mc44259a660\" y=\"62.332089\"/>\r\n      </g>\r\n     </g>\r\n     <g id=\"text_12\">\r\n      <!-- 96.8 -->\r\n      <g transform=\"translate(22.81375 66.131308)scale(0.1 -0.1)\">\r\n       <use xlink:href=\"#DejaVuSans-57\"/>\r\n       <use x=\"63.623047\" xlink:href=\"#DejaVuSans-54\"/>\r\n       <use x=\"127.246094\" xlink:href=\"#DejaVuSans-46\"/>\r\n       <use x=\"159.033203\" xlink:href=\"#DejaVuSans-56\"/>\r\n      </g>\r\n     </g>\r\n    </g>\r\n    <g id=\"ytick_8\">\r\n     <g id=\"line2d_12\">\r\n      <g>\r\n       <use style=\"stroke:#000000;stroke-width:0.8;\" x=\"52.079375\" xlink:href=\"#mc44259a660\" y=\"35.16058\"/>\r\n      </g>\r\n     </g>\r\n     <g id=\"text_13\">\r\n      <!-- 97.0 -->\r\n      <g transform=\"translate(22.81375 38.959799)scale(0.1 -0.1)\">\r\n       <use xlink:href=\"#DejaVuSans-57\"/>\r\n       <use x=\"63.623047\" xlink:href=\"#DejaVuSans-55\"/>\r\n       <use x=\"127.246094\" xlink:href=\"#DejaVuSans-46\"/>\r\n       <use x=\"159.033203\" xlink:href=\"#DejaVuSans-48\"/>\r\n      </g>\r\n     </g>\r\n    </g>\r\n    <g id=\"text_14\">\r\n     <!-- ATAR score -->\r\n     <defs>\r\n      <path d=\"M 34.1875 63.1875 \r\nL 20.796875 26.90625 \r\nL 47.609375 26.90625 \r\nz\r\nM 28.609375 72.90625 \r\nL 39.796875 72.90625 \r\nL 67.578125 0 \r\nL 57.328125 0 \r\nL 50.6875 18.703125 \r\nL 17.828125 18.703125 \r\nL 11.1875 0 \r\nL 0.78125 0 \r\nz\r\n\" id=\"DejaVuSans-65\"/>\r\n      <path d=\"M -0.296875 72.90625 \r\nL 61.375 72.90625 \r\nL 61.375 64.59375 \r\nL 35.5 64.59375 \r\nL 35.5 0 \r\nL 25.59375 0 \r\nL 25.59375 64.59375 \r\nL -0.296875 64.59375 \r\nz\r\n\" id=\"DejaVuSans-84\"/>\r\n      <path d=\"M 44.390625 34.1875 \r\nQ 47.5625 33.109375 50.5625 29.59375 \r\nQ 53.5625 26.078125 56.59375 19.921875 \r\nL 66.609375 0 \r\nL 56 0 \r\nL 46.6875 18.703125 \r\nQ 43.0625 26.03125 39.671875 28.421875 \r\nQ 36.28125 30.8125 30.421875 30.8125 \r\nL 19.671875 30.8125 \r\nL 19.671875 0 \r\nL 9.8125 0 \r\nL 9.8125 72.90625 \r\nL 32.078125 72.90625 \r\nQ 44.578125 72.90625 50.734375 67.671875 \r\nQ 56.890625 62.453125 56.890625 51.90625 \r\nQ 56.890625 45.015625 53.6875 40.46875 \r\nQ 50.484375 35.9375 44.390625 34.1875 \r\nz\r\nM 19.671875 64.796875 \r\nL 19.671875 38.921875 \r\nL 32.078125 38.921875 \r\nQ 39.203125 38.921875 42.84375 42.21875 \r\nQ 46.484375 45.515625 46.484375 51.90625 \r\nQ 46.484375 58.296875 42.84375 61.546875 \r\nQ 39.203125 64.796875 32.078125 64.796875 \r\nz\r\n\" id=\"DejaVuSans-82\"/>\r\n      <path id=\"DejaVuSans-32\"/>\r\n      <path d=\"M 48.78125 52.59375 \r\nL 48.78125 44.1875 \r\nQ 44.96875 46.296875 41.140625 47.34375 \r\nQ 37.3125 48.390625 33.40625 48.390625 \r\nQ 24.65625 48.390625 19.8125 42.84375 \r\nQ 14.984375 37.3125 14.984375 27.296875 \r\nQ 14.984375 17.28125 19.8125 11.734375 \r\nQ 24.65625 6.203125 33.40625 6.203125 \r\nQ 37.3125 6.203125 41.140625 7.25 \r\nQ 44.96875 8.296875 48.78125 10.40625 \r\nL 48.78125 2.09375 \r\nQ 45.015625 0.34375 40.984375 -0.53125 \r\nQ 36.96875 -1.421875 32.421875 -1.421875 \r\nQ 20.0625 -1.421875 12.78125 6.34375 \r\nQ 5.515625 14.109375 5.515625 27.296875 \r\nQ 5.515625 40.671875 12.859375 48.328125 \r\nQ 20.21875 56 33.015625 56 \r\nQ 37.15625 56 41.109375 55.140625 \r\nQ 45.0625 54.296875 48.78125 52.59375 \r\nz\r\n\" id=\"DejaVuSans-99\"/>\r\n      <path d=\"M 30.609375 48.390625 \r\nQ 23.390625 48.390625 19.1875 42.75 \r\nQ 14.984375 37.109375 14.984375 27.296875 \r\nQ 14.984375 17.484375 19.15625 11.84375 \r\nQ 23.34375 6.203125 30.609375 6.203125 \r\nQ 37.796875 6.203125 41.984375 11.859375 \r\nQ 46.1875 17.53125 46.1875 27.296875 \r\nQ 46.1875 37.015625 41.984375 42.703125 \r\nQ 37.796875 48.390625 30.609375 48.390625 \r\nz\r\nM 30.609375 56 \r\nQ 42.328125 56 49.015625 48.375 \r\nQ 55.71875 40.765625 55.71875 27.296875 \r\nQ 55.71875 13.875 49.015625 6.21875 \r\nQ 42.328125 -1.421875 30.609375 -1.421875 \r\nQ 18.84375 -1.421875 12.171875 6.21875 \r\nQ 5.515625 13.875 5.515625 27.296875 \r\nQ 5.515625 40.765625 12.171875 48.375 \r\nQ 18.84375 56 30.609375 56 \r\nz\r\n\" id=\"DejaVuSans-111\"/>\r\n     </defs>\r\n     <g transform=\"translate(16.318125 166.456406)rotate(-90)scale(0.12 -0.12)\">\r\n      <use xlink:href=\"#DejaVuSans-65\"/>\r\n      <use x=\"60.658203\" xlink:href=\"#DejaVuSans-84\"/>\r\n      <use x=\"113.992188\" xlink:href=\"#DejaVuSans-65\"/>\r\n      <use x=\"182.400391\" xlink:href=\"#DejaVuSans-82\"/>\r\n      <use x=\"251.882812\" xlink:href=\"#DejaVuSans-32\"/>\r\n      <use x=\"283.669922\" xlink:href=\"#DejaVuSans-115\"/>\r\n      <use x=\"335.769531\" xlink:href=\"#DejaVuSans-99\"/>\r\n      <use x=\"390.75\" xlink:href=\"#DejaVuSans-111\"/>\r\n      <use x=\"451.931641\" xlink:href=\"#DejaVuSans-114\"/>\r\n      <use x=\"490.794922\" xlink:href=\"#DejaVuSans-101\"/>\r\n     </g>\r\n    </g>\r\n   </g>\r\n   <g id=\"line2d_13\">\r\n    <path clip-path=\"url(#pf347b761e2)\" d=\"M 67.297557 226.04043 \r\nL 168.752102 162.187384 \r\nL 270.206648 98.334339 \r\nL 371.661193 34.481293 \r\n\" style=\"fill:none;stroke:#ff0000;stroke-linecap:square;stroke-width:1.5;\"/>\r\n   </g>\r\n   <g id=\"patch_3\">\r\n    <path d=\"M 52.079375 242.037656 \r\nL 52.079375 24.597656 \r\n\" style=\"fill:none;stroke:#000000;stroke-linecap:square;stroke-linejoin:miter;stroke-width:0.8;\"/>\r\n   </g>\r\n   <g id=\"patch_4\">\r\n    <path d=\"M 386.879375 242.037656 \r\nL 386.879375 24.597656 \r\n\" style=\"fill:none;stroke:#000000;stroke-linecap:square;stroke-linejoin:miter;stroke-width:0.8;\"/>\r\n   </g>\r\n   <g id=\"patch_5\">\r\n    <path d=\"M 52.079375 242.037656 \r\nL 386.879375 242.037656 \r\n\" style=\"fill:none;stroke:#000000;stroke-linecap:square;stroke-linejoin:miter;stroke-width:0.8;\"/>\r\n   </g>\r\n   <g id=\"patch_6\">\r\n    <path d=\"M 52.079375 24.597656 \r\nL 386.879375 24.597656 \r\n\" style=\"fill:none;stroke:#000000;stroke-linecap:square;stroke-linejoin:miter;stroke-width:0.8;\"/>\r\n   </g>\r\n   <g id=\"text_15\">\r\n    <!-- y = 0.47x + -851.93 -->\r\n    <defs>\r\n     <path d=\"M 32.171875 -5.078125 \r\nQ 28.375 -14.84375 24.75 -17.8125 \r\nQ 21.140625 -20.796875 15.09375 -20.796875 \r\nL 7.90625 -20.796875 \r\nL 7.90625 -13.28125 \r\nL 13.1875 -13.28125 \r\nQ 16.890625 -13.28125 18.9375 -11.515625 \r\nQ 21 -9.765625 23.484375 -3.21875 \r\nL 25.09375 0.875 \r\nL 2.984375 54.6875 \r\nL 12.5 54.6875 \r\nL 29.59375 11.921875 \r\nL 46.6875 54.6875 \r\nL 56.203125 54.6875 \r\nz\r\n\" id=\"DejaVuSans-121\"/>\r\n     <path d=\"M 10.59375 45.40625 \r\nL 73.1875 45.40625 \r\nL 73.1875 37.203125 \r\nL 10.59375 37.203125 \r\nz\r\nM 10.59375 25.484375 \r\nL 73.1875 25.484375 \r\nL 73.1875 17.1875 \r\nL 10.59375 17.1875 \r\nz\r\n\" id=\"DejaVuSans-61\"/>\r\n     <path d=\"M 54.890625 54.6875 \r\nL 35.109375 28.078125 \r\nL 55.90625 0 \r\nL 45.3125 0 \r\nL 29.390625 21.484375 \r\nL 13.484375 0 \r\nL 2.875 0 \r\nL 24.125 28.609375 \r\nL 4.6875 54.6875 \r\nL 15.28125 54.6875 \r\nL 29.78125 35.203125 \r\nL 44.28125 54.6875 \r\nz\r\n\" id=\"DejaVuSans-120\"/>\r\n     <path d=\"M 46 62.703125 \r\nL 46 35.5 \r\nL 73.1875 35.5 \r\nL 73.1875 27.203125 \r\nL 46 27.203125 \r\nL 46 0 \r\nL 37.796875 0 \r\nL 37.796875 27.203125 \r\nL 10.59375 27.203125 \r\nL 10.59375 35.5 \r\nL 37.796875 35.5 \r\nL 37.796875 62.703125 \r\nz\r\n\" id=\"DejaVuSans-43\"/>\r\n     <path d=\"M 4.890625 31.390625 \r\nL 31.203125 31.390625 \r\nL 31.203125 23.390625 \r\nL 4.890625 23.390625 \r\nz\r\n\" id=\"DejaVuSans-45\"/>\r\n     <path d=\"M 40.578125 39.3125 \r\nQ 47.65625 37.796875 51.625 33 \r\nQ 55.609375 28.21875 55.609375 21.1875 \r\nQ 55.609375 10.40625 48.1875 4.484375 \r\nQ 40.765625 -1.421875 27.09375 -1.421875 \r\nQ 22.515625 -1.421875 17.65625 -0.515625 \r\nQ 12.796875 0.390625 7.625 2.203125 \r\nL 7.625 11.71875 \r\nQ 11.71875 9.328125 16.59375 8.109375 \r\nQ 21.484375 6.890625 26.8125 6.890625 \r\nQ 36.078125 6.890625 40.9375 10.546875 \r\nQ 45.796875 14.203125 45.796875 21.1875 \r\nQ 45.796875 27.640625 41.28125 31.265625 \r\nQ 36.765625 34.90625 28.71875 34.90625 \r\nL 20.21875 34.90625 \r\nL 20.21875 43.015625 \r\nL 29.109375 43.015625 \r\nQ 36.375 43.015625 40.234375 45.921875 \r\nQ 44.09375 48.828125 44.09375 54.296875 \r\nQ 44.09375 59.90625 40.109375 62.90625 \r\nQ 36.140625 65.921875 28.71875 65.921875 \r\nQ 24.65625 65.921875 20.015625 65.03125 \r\nQ 15.375 64.15625 9.8125 62.3125 \r\nL 9.8125 71.09375 \r\nQ 15.4375 72.65625 20.34375 73.4375 \r\nQ 25.25 74.21875 29.59375 74.21875 \r\nQ 40.828125 74.21875 47.359375 69.109375 \r\nQ 53.90625 64.015625 53.90625 55.328125 \r\nQ 53.90625 49.265625 50.4375 45.09375 \r\nQ 46.96875 40.921875 40.578125 39.3125 \r\nz\r\n\" id=\"DejaVuSans-51\"/>\r\n    </defs>\r\n    <g style=\"fill:#ff0000;\" transform=\"translate(67.297557 35.16058)scale(0.1 -0.1)\">\r\n     <use xlink:href=\"#DejaVuSans-121\"/>\r\n     <use x=\"59.179688\" xlink:href=\"#DejaVuSans-32\"/>\r\n     <use x=\"90.966797\" xlink:href=\"#DejaVuSans-61\"/>\r\n     <use x=\"174.755859\" xlink:href=\"#DejaVuSans-32\"/>\r\n     <use x=\"206.542969\" xlink:href=\"#DejaVuSans-48\"/>\r\n     <use x=\"270.166016\" xlink:href=\"#DejaVuSans-46\"/>\r\n     <use x=\"301.953125\" xlink:href=\"#DejaVuSans-52\"/>\r\n     <use x=\"365.576172\" xlink:href=\"#DejaVuSans-55\"/>\r\n     <use x=\"429.199219\" xlink:href=\"#DejaVuSans-120\"/>\r\n     <use x=\"488.378906\" xlink:href=\"#DejaVuSans-32\"/>\r\n     <use x=\"520.166016\" xlink:href=\"#DejaVuSans-43\"/>\r\n     <use x=\"603.955078\" xlink:href=\"#DejaVuSans-32\"/>\r\n     <use x=\"635.742188\" xlink:href=\"#DejaVuSans-45\"/>\r\n     <use x=\"671.826172\" xlink:href=\"#DejaVuSans-56\"/>\r\n     <use x=\"735.449219\" xlink:href=\"#DejaVuSans-53\"/>\r\n     <use x=\"799.072266\" xlink:href=\"#DejaVuSans-49\"/>\r\n     <use x=\"862.695312\" xlink:href=\"#DejaVuSans-46\"/>\r\n     <use x=\"894.482422\" xlink:href=\"#DejaVuSans-57\"/>\r\n     <use x=\"958.105469\" xlink:href=\"#DejaVuSans-51\"/>\r\n    </g>\r\n   </g>\r\n   <g id=\"text_16\">\r\n    <!-- Perth Modern School -->\r\n    <defs>\r\n     <path d=\"M 19.671875 64.796875 \r\nL 19.671875 37.40625 \r\nL 32.078125 37.40625 \r\nQ 38.96875 37.40625 42.71875 40.96875 \r\nQ 46.484375 44.53125 46.484375 51.125 \r\nQ 46.484375 57.671875 42.71875 61.234375 \r\nQ 38.96875 64.796875 32.078125 64.796875 \r\nz\r\nM 9.8125 72.90625 \r\nL 32.078125 72.90625 \r\nQ 44.34375 72.90625 50.609375 67.359375 \r\nQ 56.890625 61.8125 56.890625 51.125 \r\nQ 56.890625 40.328125 50.609375 34.8125 \r\nQ 44.34375 29.296875 32.078125 29.296875 \r\nL 19.671875 29.296875 \r\nL 19.671875 0 \r\nL 9.8125 0 \r\nz\r\n\" id=\"DejaVuSans-80\"/>\r\n     <path d=\"M 18.3125 70.21875 \r\nL 18.3125 54.6875 \r\nL 36.8125 54.6875 \r\nL 36.8125 47.703125 \r\nL 18.3125 47.703125 \r\nL 18.3125 18.015625 \r\nQ 18.3125 11.328125 20.140625 9.421875 \r\nQ 21.96875 7.515625 27.59375 7.515625 \r\nL 36.8125 7.515625 \r\nL 36.8125 0 \r\nL 27.59375 0 \r\nQ 17.1875 0 13.234375 3.875 \r\nQ 9.28125 7.765625 9.28125 18.015625 \r\nL 9.28125 47.703125 \r\nL 2.6875 47.703125 \r\nL 2.6875 54.6875 \r\nL 9.28125 54.6875 \r\nL 9.28125 70.21875 \r\nz\r\n\" id=\"DejaVuSans-116\"/>\r\n     <path d=\"M 54.890625 33.015625 \r\nL 54.890625 0 \r\nL 45.90625 0 \r\nL 45.90625 32.71875 \r\nQ 45.90625 40.484375 42.875 44.328125 \r\nQ 39.84375 48.1875 33.796875 48.1875 \r\nQ 26.515625 48.1875 22.3125 43.546875 \r\nQ 18.109375 38.921875 18.109375 30.90625 \r\nL 18.109375 0 \r\nL 9.078125 0 \r\nL 9.078125 75.984375 \r\nL 18.109375 75.984375 \r\nL 18.109375 46.1875 \r\nQ 21.34375 51.125 25.703125 53.5625 \r\nQ 30.078125 56 35.796875 56 \r\nQ 45.21875 56 50.046875 50.171875 \r\nQ 54.890625 44.34375 54.890625 33.015625 \r\nz\r\n\" id=\"DejaVuSans-104\"/>\r\n     <path d=\"M 9.8125 72.90625 \r\nL 24.515625 72.90625 \r\nL 43.109375 23.296875 \r\nL 61.8125 72.90625 \r\nL 76.515625 72.90625 \r\nL 76.515625 0 \r\nL 66.890625 0 \r\nL 66.890625 64.015625 \r\nL 48.09375 14.015625 \r\nL 38.1875 14.015625 \r\nL 19.390625 64.015625 \r\nL 19.390625 0 \r\nL 9.8125 0 \r\nz\r\n\" id=\"DejaVuSans-77\"/>\r\n     <path d=\"M 45.40625 46.390625 \r\nL 45.40625 75.984375 \r\nL 54.390625 75.984375 \r\nL 54.390625 0 \r\nL 45.40625 0 \r\nL 45.40625 8.203125 \r\nQ 42.578125 3.328125 38.25 0.953125 \r\nQ 33.9375 -1.421875 27.875 -1.421875 \r\nQ 17.96875 -1.421875 11.734375 6.484375 \r\nQ 5.515625 14.40625 5.515625 27.296875 \r\nQ 5.515625 40.1875 11.734375 48.09375 \r\nQ 17.96875 56 27.875 56 \r\nQ 33.9375 56 38.25 53.625 \r\nQ 42.578125 51.265625 45.40625 46.390625 \r\nz\r\nM 14.796875 27.296875 \r\nQ 14.796875 17.390625 18.875 11.75 \r\nQ 22.953125 6.109375 30.078125 6.109375 \r\nQ 37.203125 6.109375 41.296875 11.75 \r\nQ 45.40625 17.390625 45.40625 27.296875 \r\nQ 45.40625 37.203125 41.296875 42.84375 \r\nQ 37.203125 48.484375 30.078125 48.484375 \r\nQ 22.953125 48.484375 18.875 42.84375 \r\nQ 14.796875 37.203125 14.796875 27.296875 \r\nz\r\n\" id=\"DejaVuSans-100\"/>\r\n     <path d=\"M 54.890625 33.015625 \r\nL 54.890625 0 \r\nL 45.90625 0 \r\nL 45.90625 32.71875 \r\nQ 45.90625 40.484375 42.875 44.328125 \r\nQ 39.84375 48.1875 33.796875 48.1875 \r\nQ 26.515625 48.1875 22.3125 43.546875 \r\nQ 18.109375 38.921875 18.109375 30.90625 \r\nL 18.109375 0 \r\nL 9.078125 0 \r\nL 9.078125 54.6875 \r\nL 18.109375 54.6875 \r\nL 18.109375 46.1875 \r\nQ 21.34375 51.125 25.703125 53.5625 \r\nQ 30.078125 56 35.796875 56 \r\nQ 45.21875 56 50.046875 50.171875 \r\nQ 54.890625 44.34375 54.890625 33.015625 \r\nz\r\n\" id=\"DejaVuSans-110\"/>\r\n     <path d=\"M 53.515625 70.515625 \r\nL 53.515625 60.890625 \r\nQ 47.90625 63.578125 42.921875 64.890625 \r\nQ 37.9375 66.21875 33.296875 66.21875 \r\nQ 25.25 66.21875 20.875 63.09375 \r\nQ 16.5 59.96875 16.5 54.203125 \r\nQ 16.5 49.359375 19.40625 46.890625 \r\nQ 22.3125 44.4375 30.421875 42.921875 \r\nL 36.375 41.703125 \r\nQ 47.40625 39.59375 52.65625 34.296875 \r\nQ 57.90625 29 57.90625 20.125 \r\nQ 57.90625 9.515625 50.796875 4.046875 \r\nQ 43.703125 -1.421875 29.984375 -1.421875 \r\nQ 24.8125 -1.421875 18.96875 -0.25 \r\nQ 13.140625 0.921875 6.890625 3.21875 \r\nL 6.890625 13.375 \r\nQ 12.890625 10.015625 18.65625 8.296875 \r\nQ 24.421875 6.59375 29.984375 6.59375 \r\nQ 38.421875 6.59375 43.015625 9.90625 \r\nQ 47.609375 13.234375 47.609375 19.390625 \r\nQ 47.609375 24.75 44.3125 27.78125 \r\nQ 41.015625 30.8125 33.5 32.328125 \r\nL 27.484375 33.5 \r\nQ 16.453125 35.6875 11.515625 40.375 \r\nQ 6.59375 45.0625 6.59375 53.421875 \r\nQ 6.59375 63.09375 13.40625 68.65625 \r\nQ 20.21875 74.21875 32.171875 74.21875 \r\nQ 37.3125 74.21875 42.625 73.28125 \r\nQ 47.953125 72.359375 53.515625 70.515625 \r\nz\r\n\" id=\"DejaVuSans-83\"/>\r\n     <path d=\"M 9.421875 75.984375 \r\nL 18.40625 75.984375 \r\nL 18.40625 0 \r\nL 9.421875 0 \r\nz\r\n\" id=\"DejaVuSans-108\"/>\r\n    </defs>\r\n    <g transform=\"translate(142.028984 18.597656)scale(0.15 -0.15)\">\r\n     <use xlink:href=\"#DejaVuSans-80\"/>\r\n     <use x=\"56.677734\" xlink:href=\"#DejaVuSans-101\"/>\r\n     <use x=\"118.201172\" xlink:href=\"#DejaVuSans-114\"/>\r\n     <use x=\"159.314453\" xlink:href=\"#DejaVuSans-116\"/>\r\n     <use x=\"198.523438\" xlink:href=\"#DejaVuSans-104\"/>\r\n     <use x=\"261.902344\" xlink:href=\"#DejaVuSans-32\"/>\r\n     <use x=\"293.689453\" xlink:href=\"#DejaVuSans-77\"/>\r\n     <use x=\"379.96875\" xlink:href=\"#DejaVuSans-111\"/>\r\n     <use x=\"441.150391\" xlink:href=\"#DejaVuSans-100\"/>\r\n     <use x=\"504.626953\" xlink:href=\"#DejaVuSans-101\"/>\r\n     <use x=\"566.150391\" xlink:href=\"#DejaVuSans-114\"/>\r\n     <use x=\"605.513672\" xlink:href=\"#DejaVuSans-110\"/>\r\n     <use x=\"668.892578\" xlink:href=\"#DejaVuSans-32\"/>\r\n     <use x=\"700.679688\" xlink:href=\"#DejaVuSans-83\"/>\r\n     <use x=\"764.15625\" xlink:href=\"#DejaVuSans-99\"/>\r\n     <use x=\"819.136719\" xlink:href=\"#DejaVuSans-104\"/>\r\n     <use x=\"882.515625\" xlink:href=\"#DejaVuSans-111\"/>\r\n     <use x=\"943.697266\" xlink:href=\"#DejaVuSans-111\"/>\r\n     <use x=\"1004.878906\" xlink:href=\"#DejaVuSans-108\"/>\r\n    </g>\r\n   </g>\r\n  </g>\r\n </g>\r\n <defs>\r\n  <clipPath id=\"pf347b761e2\">\r\n   <rect height=\"217.44\" width=\"334.8\" x=\"52.079375\" y=\"24.597656\"/>\r\n  </clipPath>\r\n </defs>\r\n</svg>\r\n",
      "image/png": "[encoded data removed]"
     },
     "metadata": {
      "needs_background": "light"
     }
    }
   ],
   "source": [
    "# Check the relationship between the data\n",
    "x_values = df[\"Year\"]\n",
    "y_values = df[\"Score\"]\n",
    "year_count = df[\"Year\"]\n",
    "plt.scatter(x_values, y_values)\n",
    "plt.xticks(year_count)\n",
    "slope, intercept, r_value, p_value, std_err = st.linregress(x_values, y_values)\n",
    "regress_values = x_values * slope + intercept\n",
    "line_eq = \"y = \" + str(round(slope,2)) + \"x + \" + str(round(intercept,2))\n",
    "plt.plot(x_values, regress_values, \"r-\")\n",
    "plt.annotate(line_eq,(2016, 97),fontsize=10,color=\"red\")  \n",
    "plt.xlabel(\"Years\", fontsize = 12)\n",
    "plt.ylabel(\"ATAR score\", fontsize = 12)\n",
    "plt.title(\"Perth Modern School\", fontsize = 15)\n",
    "plt.show()"
   ]
  },
  {
   "cell_type": "code",
   "execution_count": 62,
   "metadata": {},
   "outputs": [],
   "source": [
    "# split the data into training and test sets. \n",
    "# Script below splits 80% of the data to training set while 20% of the data to test set.\n",
    "# from sklearn.model_selection import train_test_split\n",
    "# X_train, X_test, y_train, y_test = train_test_split(X, y, test_size=0.2, random_state=0)"
   ]
  },
  {
   "cell_type": "code",
   "execution_count": 63,
   "metadata": {},
   "outputs": [],
   "source": [
    "X_train = df[\"Year\"].values.reshape(-1, 1)\n",
    "X_test = [2020]\n",
    "y_train = df[\"Score\"].values.reshape(-1, 1)\n",
    "y_test = [97.55]"
   ]
  },
  {
   "cell_type": "code",
   "execution_count": 64,
   "metadata": {},
   "outputs": [
    {
     "output_type": "execute_result",
     "data": {
      "text/plain": [
       "array([[2016],\n",
       "       [2017],\n",
       "       [2018],\n",
       "       [2019]], dtype=int64)"
      ]
     },
     "metadata": {},
     "execution_count": 64
    }
   ],
   "source": [
    "X_train"
   ]
  },
  {
   "cell_type": "code",
   "execution_count": 65,
   "metadata": {},
   "outputs": [
    {
     "output_type": "execute_result",
     "data": {
      "text/plain": [
       "array([[95.55],\n",
       "       [95.9 ],\n",
       "       [97.  ],\n",
       "       [96.75]])"
      ]
     },
     "metadata": {},
     "execution_count": 65
    }
   ],
   "source": [
    "y_train"
   ]
  },
  {
   "cell_type": "code",
   "execution_count": 66,
   "metadata": {},
   "outputs": [],
   "source": [
    "# Training the Algorithm\n",
    "from sklearn.linear_model import LinearRegression\n",
    "regressor = LinearRegression()\n",
    "reg = regressor.fit(X_train, y_train)"
   ]
  },
  {
   "cell_type": "code",
   "execution_count": 67,
   "metadata": {},
   "outputs": [
    {
     "output_type": "stream",
     "name": "stdout",
     "text": [
      "[-851.925]\n"
     ]
    }
   ],
   "source": [
    "# To retrieve the intercept:\n",
    "print(regressor.intercept_)"
   ]
  },
  {
   "cell_type": "code",
   "execution_count": 68,
   "metadata": {},
   "outputs": [
    {
     "output_type": "stream",
     "name": "stdout",
     "text": [
      "[[0.47]]\n"
     ]
    }
   ],
   "source": [
    "# For retrieving the slope (coefficient of x):\n",
    "print(regressor.coef_)"
   ]
  },
  {
   "cell_type": "code",
   "execution_count": 69,
   "metadata": {},
   "outputs": [],
   "source": [
    "X_2020 = np.array(X_test)"
   ]
  },
  {
   "cell_type": "code",
   "execution_count": 70,
   "metadata": {},
   "outputs": [
    {
     "output_type": "execute_result",
     "data": {
      "text/plain": [
       "array([2020])"
      ]
     },
     "metadata": {},
     "execution_count": 70
    }
   ],
   "source": [
    "X_2020"
   ]
  },
  {
   "cell_type": "code",
   "execution_count": 71,
   "metadata": {},
   "outputs": [],
   "source": [
    "X_2020 = X_2020.reshape(-1, 1)"
   ]
  },
  {
   "cell_type": "code",
   "execution_count": 72,
   "metadata": {},
   "outputs": [
    {
     "output_type": "execute_result",
     "data": {
      "text/plain": [
       "array([[2020]])"
      ]
     },
     "metadata": {},
     "execution_count": 72
    }
   ],
   "source": [
    "X_2020"
   ]
  },
  {
   "cell_type": "code",
   "execution_count": 73,
   "metadata": {},
   "outputs": [
    {
     "output_type": "execute_result",
     "data": {
      "text/plain": [
       "array([[97.475]])"
      ]
     },
     "metadata": {},
     "execution_count": 73
    }
   ],
   "source": [
    "# Making Predictions\n",
    "y_pred = reg.predict(X_2020)\n",
    "y_pred"
   ]
  },
  {
   "cell_type": "code",
   "execution_count": 74,
   "metadata": {},
   "outputs": [
    {
     "output_type": "execute_result",
     "data": {
      "text/plain": [
       "array([97.475])"
      ]
     },
     "metadata": {},
     "execution_count": 74
    }
   ],
   "source": [
    "y_pred = y_pred[0]\n",
    "y_pred"
   ]
  },
  {
   "cell_type": "code",
   "execution_count": 75,
   "metadata": {},
   "outputs": [
    {
     "output_type": "execute_result",
     "data": {
      "text/plain": [
       "   Actual  Predicted\n",
       "0   97.55     97.475"
      ],
      "text/html": "<div>\n<style scoped>\n    .dataframe tbody tr th:only-of-type {\n        vertical-align: middle;\n    }\n\n    .dataframe tbody tr th {\n        vertical-align: top;\n    }\n\n    .dataframe thead th {\n        text-align: right;\n    }\n</style>\n<table border=\"1\" class=\"dataframe\">\n  <thead>\n    <tr style=\"text-align: right;\">\n      <th></th>\n      <th>Actual</th>\n      <th>Predicted</th>\n    </tr>\n  </thead>\n  <tbody>\n    <tr>\n      <th>0</th>\n      <td>97.55</td>\n      <td>97.475</td>\n    </tr>\n  </tbody>\n</table>\n</div>"
     },
     "metadata": {},
     "execution_count": 75
    }
   ],
   "source": [
    "# To compare the actual output values for x_test with the predicted values\n",
    "predict = pd.DataFrame({'Actual': y_test, 'Predicted': y_pred})\n",
    "predict"
   ]
  },
  {
   "cell_type": "code",
   "execution_count": 76,
   "metadata": {},
   "outputs": [
    {
     "output_type": "stream",
     "name": "stdout",
     "text": [
      "Mean Absolute Error: 0.07499999999997442\nMean Squared Error: 0.0056249999999961635\nRoot Mean Squared Error: 0.07499999999997442\n"
     ]
    }
   ],
   "source": [
    "# Evaluating the Algorithm\n",
    "from sklearn import metrics\n",
    "print('Mean Absolute Error:', metrics.mean_absolute_error(y_test, y_pred))\n",
    "print('Mean Squared Error:', metrics.mean_squared_error(y_test, y_pred))\n",
    "print('Root Mean Squared Error:', np.sqrt(metrics.mean_squared_error(y_test, y_pred)))"
   ]
  },
  {
   "source": [
    "## Making prediction for 2021"
   ],
   "cell_type": "markdown",
   "metadata": {}
  },
  {
   "cell_type": "code",
   "execution_count": 77,
   "metadata": {},
   "outputs": [
    {
     "output_type": "execute_result",
     "data": {
      "text/plain": [
       "array([2021])"
      ]
     },
     "metadata": {},
     "execution_count": 77
    }
   ],
   "source": [
    "predict_2021 = [2021]\n",
    "X_2021 = np.array(predict_2021)\n",
    "X_2021"
   ]
  },
  {
   "cell_type": "code",
   "execution_count": 78,
   "metadata": {},
   "outputs": [],
   "source": [
    "# reshape the data\n",
    "X_2021 = X_2021.reshape(-1, 1)"
   ]
  },
  {
   "cell_type": "code",
   "execution_count": 79,
   "metadata": {},
   "outputs": [
    {
     "output_type": "execute_result",
     "data": {
      "text/plain": [
       "array([[97.945]])"
      ]
     },
     "metadata": {},
     "execution_count": 79
    }
   ],
   "source": [
    "# Making Predictions for 2021\n",
    "y_pred_2021 = reg.predict(X_2021)\n",
    "y_pred_2021"
   ]
  },
  {
   "source": [
    "## Create second model for Perth Modern School 2016-2020"
   ],
   "cell_type": "markdown",
   "metadata": {}
  },
  {
   "cell_type": "code",
   "execution_count": 80,
   "metadata": {},
   "outputs": [
    {
     "output_type": "execute_result",
     "data": {
      "text/plain": [
       "   Year  Score\n",
       "0  2016  95.55\n",
       "1  2017  95.90\n",
       "2  2018  97.00\n",
       "3  2019  96.75\n",
       "4  2020  97.55"
      ],
      "text/html": "<div>\n<style scoped>\n    .dataframe tbody tr th:only-of-type {\n        vertical-align: middle;\n    }\n\n    .dataframe tbody tr th {\n        vertical-align: top;\n    }\n\n    .dataframe thead th {\n        text-align: right;\n    }\n</style>\n<table border=\"1\" class=\"dataframe\">\n  <thead>\n    <tr style=\"text-align: right;\">\n      <th></th>\n      <th>Year</th>\n      <th>Score</th>\n    </tr>\n  </thead>\n  <tbody>\n    <tr>\n      <th>0</th>\n      <td>2016</td>\n      <td>95.55</td>\n    </tr>\n    <tr>\n      <th>1</th>\n      <td>2017</td>\n      <td>95.90</td>\n    </tr>\n    <tr>\n      <th>2</th>\n      <td>2018</td>\n      <td>97.00</td>\n    </tr>\n    <tr>\n      <th>3</th>\n      <td>2019</td>\n      <td>96.75</td>\n    </tr>\n    <tr>\n      <th>4</th>\n      <td>2020</td>\n      <td>97.55</td>\n    </tr>\n  </tbody>\n</table>\n</div>"
     },
     "metadata": {},
     "execution_count": 80
    }
   ],
   "source": [
    "# Create a dataframe for Perth Modern School 2016-2020\n",
    "df_2020 = pd.DataFrame({\"Year\": [2016, 2017, 2018, 2019, 2020],\n",
    "                   \"Score\": [95.55, 95.9, 97, 96.75, 97.55]})\n",
    "df_2020"
   ]
  },
  {
   "cell_type": "code",
   "execution_count": 81,
   "metadata": {},
   "outputs": [],
   "source": [
    "X_train_2021 = df_2020[\"Year\"].values.reshape(-1, 1)\n",
    "X_test_2021 = [2021]\n",
    "y_train_2021 = df_2020[\"Score\"].values.reshape(-1, 1)"
   ]
  },
  {
   "cell_type": "code",
   "execution_count": 82,
   "metadata": {},
   "outputs": [
    {
     "output_type": "execute_result",
     "data": {
      "text/plain": [
       "array([[2016],\n",
       "       [2017],\n",
       "       [2018],\n",
       "       [2019],\n",
       "       [2020]], dtype=int64)"
      ]
     },
     "metadata": {},
     "execution_count": 82
    }
   ],
   "source": [
    "X_train_2021"
   ]
  },
  {
   "cell_type": "code",
   "execution_count": 83,
   "metadata": {},
   "outputs": [
    {
     "output_type": "execute_result",
     "data": {
      "text/plain": [
       "array([[95.55],\n",
       "       [95.9 ],\n",
       "       [97.  ],\n",
       "       [96.75],\n",
       "       [97.55]])"
      ]
     },
     "metadata": {},
     "execution_count": 83
    }
   ],
   "source": [
    "y_train_2021"
   ]
  },
  {
   "cell_type": "code",
   "execution_count": 84,
   "metadata": {},
   "outputs": [],
   "source": [
    "# Training the Algorithm\n",
    "from sklearn.linear_model import LinearRegression\n",
    "regressor = LinearRegression()\n",
    "reg = regressor.fit(X_train_2021, y_train_2021)"
   ]
  },
  {
   "cell_type": "code",
   "execution_count": 85,
   "metadata": {},
   "outputs": [
    {
     "output_type": "stream",
     "name": "stdout",
     "text": [
      "[-882.18]\n"
     ]
    }
   ],
   "source": [
    "# To retrieve the intercept:\n",
    "print(regressor.intercept_)"
   ]
  },
  {
   "cell_type": "code",
   "execution_count": 86,
   "metadata": {},
   "outputs": [
    {
     "output_type": "stream",
     "name": "stdout",
     "text": [
      "[[0.485]]\n"
     ]
    }
   ],
   "source": [
    "# For retrieving the slope (coefficient of x):\n",
    "print(regressor.coef_)"
   ]
  },
  {
   "cell_type": "code",
   "execution_count": 87,
   "metadata": {},
   "outputs": [],
   "source": [
    "X_2021_v2 = np.array(X_test_2021)"
   ]
  },
  {
   "cell_type": "code",
   "execution_count": 88,
   "metadata": {},
   "outputs": [
    {
     "output_type": "execute_result",
     "data": {
      "text/plain": [
       "array([2021])"
      ]
     },
     "metadata": {},
     "execution_count": 88
    }
   ],
   "source": [
    "X_2021_v2"
   ]
  },
  {
   "cell_type": "code",
   "execution_count": 89,
   "metadata": {},
   "outputs": [],
   "source": [
    "X_2021_v2 = X_2021_v2.reshape(-1, 1)"
   ]
  },
  {
   "cell_type": "code",
   "execution_count": 90,
   "metadata": {},
   "outputs": [
    {
     "output_type": "execute_result",
     "data": {
      "text/plain": [
       "array([[2021]])"
      ]
     },
     "metadata": {},
     "execution_count": 90
    }
   ],
   "source": [
    "X_2021_v2"
   ]
  },
  {
   "cell_type": "code",
   "execution_count": 91,
   "metadata": {},
   "outputs": [
    {
     "output_type": "execute_result",
     "data": {
      "text/plain": [
       "array([[98.005]])"
      ]
     },
     "metadata": {},
     "execution_count": 91
    }
   ],
   "source": [
    "# Making Predictions for 2021\n",
    "y_pred_2021_v2 = reg.predict(X_2021_v2)\n",
    "y_pred_2021_v2"
   ]
  },
  {
   "cell_type": "code",
   "execution_count": null,
   "metadata": {},
   "outputs": [],
   "source": []
  },
  {
   "cell_type": "code",
   "execution_count": 92,
   "metadata": {},
   "outputs": [
    {
     "output_type": "display_data",
     "data": {
      "text/plain": "<Figure size 432x288 with 1 Axes>",
      "image/svg+xml": "<?xml version=\"1.0\" encoding=\"utf-8\" standalone=\"no\"?>\r\n<!DOCTYPE svg PUBLIC \"-//W3C//DTD SVG 1.1//EN\"\r\n  \"http://www.w3.org/Graphics/SVG/1.1/DTD/svg11.dtd\">\r\n<!-- Created with matplotlib (https://matplotlib.org/) -->\r\n<svg height=\"281.529531pt\" version=\"1.1\" viewBox=\"0 0 400.441875 281.529531\" width=\"400.441875pt\" xmlns=\"http://www.w3.org/2000/svg\" xmlns:xlink=\"http://www.w3.org/1999/xlink\">\r\n <defs>\r\n  <style type=\"text/css\">\r\n*{stroke-linecap:butt;stroke-linejoin:round;}\r\n  </style>\r\n </defs>\r\n <g id=\"figure_1\">\r\n  <g id=\"patch_1\">\r\n   <path d=\"M 0 281.529531 \r\nL 400.441875 281.529531 \r\nL 400.441875 0 \r\nL 0 0 \r\nz\r\n\" style=\"fill:none;\"/>\r\n  </g>\r\n  <g id=\"axes_1\">\r\n   <g id=\"patch_2\">\r\n    <path d=\"M 58.441875 242.037656 \r\nL 393.241875 242.037656 \r\nL 393.241875 24.597656 \r\nL 58.441875 24.597656 \r\nz\r\n\" style=\"fill:#ffffff;\"/>\r\n   </g>\r\n   <g id=\"PathCollection_1\">\r\n    <defs>\r\n     <path d=\"M 0 3 \r\nC 0.795609 3 1.55874 2.683901 2.12132 2.12132 \r\nC 2.683901 1.55874 3 0.795609 3 0 \r\nC 3 -0.795609 2.683901 -1.55874 2.12132 -2.12132 \r\nC 1.55874 -2.683901 0.795609 -3 0 -3 \r\nC -0.795609 -3 -1.55874 -2.683901 -2.12132 -2.12132 \r\nC -2.683901 -1.55874 -3 -0.795609 -3 0 \r\nC -3 0.795609 -2.683901 1.55874 -2.12132 2.12132 \r\nC -1.55874 2.683901 -0.795609 3 0 3 \r\nz\r\n\" id=\"me5b9f21841\" style=\"stroke:#1f77b4;\"/>\r\n    </defs>\r\n    <g clip-path=\"url(#pa49233066b)\">\r\n     <use style=\"fill:#1f77b4;stroke:#1f77b4;\" x=\"73.660057\" xlink:href=\"#me5b9f21841\" y=\"232.15402\"/>\r\n     <use style=\"fill:#1f77b4;stroke:#1f77b4;\" x=\"149.750966\" xlink:href=\"#me5b9f21841\" y=\"197.561293\"/>\r\n     <use style=\"fill:#1f77b4;stroke:#1f77b4;\" x=\"225.841875\" xlink:href=\"#me5b9f21841\" y=\"88.841293\"/>\r\n     <use style=\"fill:#1f77b4;stroke:#1f77b4;\" x=\"301.932784\" xlink:href=\"#me5b9f21841\" y=\"113.550384\"/>\r\n     <use style=\"fill:#1f77b4;stroke:#1f77b4;\" x=\"378.023693\" xlink:href=\"#me5b9f21841\" y=\"34.481293\"/>\r\n    </g>\r\n   </g>\r\n   <g id=\"matplotlib.axis_1\">\r\n    <g id=\"xtick_1\">\r\n     <g id=\"line2d_1\">\r\n      <defs>\r\n       <path d=\"M 0 0 \r\nL 0 3.5 \r\n\" id=\"mfea9e0595c\" style=\"stroke:#000000;stroke-width:0.8;\"/>\r\n      </defs>\r\n      <g>\r\n       <use style=\"stroke:#000000;stroke-width:0.8;\" x=\"73.660057\" xlink:href=\"#mfea9e0595c\" y=\"242.037656\"/>\r\n      </g>\r\n     </g>\r\n     <g id=\"text_1\">\r\n      <!-- 2016 -->\r\n      <defs>\r\n       <path d=\"M 19.1875 8.296875 \r\nL 53.609375 8.296875 \r\nL 53.609375 0 \r\nL 7.328125 0 \r\nL 7.328125 8.296875 \r\nQ 12.9375 14.109375 22.625 23.890625 \r\nQ 32.328125 33.6875 34.8125 36.53125 \r\nQ 39.546875 41.84375 41.421875 45.53125 \r\nQ 43.3125 49.21875 43.3125 52.78125 \r\nQ 43.3125 58.59375 39.234375 62.25 \r\nQ 35.15625 65.921875 28.609375 65.921875 \r\nQ 23.96875 65.921875 18.8125 64.3125 \r\nQ 13.671875 62.703125 7.8125 59.421875 \r\nL 7.8125 69.390625 \r\nQ 13.765625 71.78125 18.9375 73 \r\nQ 24.125 74.21875 28.421875 74.21875 \r\nQ 39.75 74.21875 46.484375 68.546875 \r\nQ 53.21875 62.890625 53.21875 53.421875 \r\nQ 53.21875 48.921875 51.53125 44.890625 \r\nQ 49.859375 40.875 45.40625 35.40625 \r\nQ 44.1875 33.984375 37.640625 27.21875 \r\nQ 31.109375 20.453125 19.1875 8.296875 \r\nz\r\n\" id=\"DejaVuSans-50\"/>\r\n       <path d=\"M 31.78125 66.40625 \r\nQ 24.171875 66.40625 20.328125 58.90625 \r\nQ 16.5 51.421875 16.5 36.375 \r\nQ 16.5 21.390625 20.328125 13.890625 \r\nQ 24.171875 6.390625 31.78125 6.390625 \r\nQ 39.453125 6.390625 43.28125 13.890625 \r\nQ 47.125 21.390625 47.125 36.375 \r\nQ 47.125 51.421875 43.28125 58.90625 \r\nQ 39.453125 66.40625 31.78125 66.40625 \r\nz\r\nM 31.78125 74.21875 \r\nQ 44.046875 74.21875 50.515625 64.515625 \r\nQ 56.984375 54.828125 56.984375 36.375 \r\nQ 56.984375 17.96875 50.515625 8.265625 \r\nQ 44.046875 -1.421875 31.78125 -1.421875 \r\nQ 19.53125 -1.421875 13.0625 8.265625 \r\nQ 6.59375 17.96875 6.59375 36.375 \r\nQ 6.59375 54.828125 13.0625 64.515625 \r\nQ 19.53125 74.21875 31.78125 74.21875 \r\nz\r\n\" id=\"DejaVuSans-48\"/>\r\n       <path d=\"M 12.40625 8.296875 \r\nL 28.515625 8.296875 \r\nL 28.515625 63.921875 \r\nL 10.984375 60.40625 \r\nL 10.984375 69.390625 \r\nL 28.421875 72.90625 \r\nL 38.28125 72.90625 \r\nL 38.28125 8.296875 \r\nL 54.390625 8.296875 \r\nL 54.390625 0 \r\nL 12.40625 0 \r\nz\r\n\" id=\"DejaVuSans-49\"/>\r\n       <path d=\"M 33.015625 40.375 \r\nQ 26.375 40.375 22.484375 35.828125 \r\nQ 18.609375 31.296875 18.609375 23.390625 \r\nQ 18.609375 15.53125 22.484375 10.953125 \r\nQ 26.375 6.390625 33.015625 6.390625 \r\nQ 39.65625 6.390625 43.53125 10.953125 \r\nQ 47.40625 15.53125 47.40625 23.390625 \r\nQ 47.40625 31.296875 43.53125 35.828125 \r\nQ 39.65625 40.375 33.015625 40.375 \r\nz\r\nM 52.59375 71.296875 \r\nL 52.59375 62.3125 \r\nQ 48.875 64.0625 45.09375 64.984375 \r\nQ 41.3125 65.921875 37.59375 65.921875 \r\nQ 27.828125 65.921875 22.671875 59.328125 \r\nQ 17.53125 52.734375 16.796875 39.40625 \r\nQ 19.671875 43.65625 24.015625 45.921875 \r\nQ 28.375 48.1875 33.59375 48.1875 \r\nQ 44.578125 48.1875 50.953125 41.515625 \r\nQ 57.328125 34.859375 57.328125 23.390625 \r\nQ 57.328125 12.15625 50.6875 5.359375 \r\nQ 44.046875 -1.421875 33.015625 -1.421875 \r\nQ 20.359375 -1.421875 13.671875 8.265625 \r\nQ 6.984375 17.96875 6.984375 36.375 \r\nQ 6.984375 53.65625 15.1875 63.9375 \r\nQ 23.390625 74.21875 37.203125 74.21875 \r\nQ 40.921875 74.21875 44.703125 73.484375 \r\nQ 48.484375 72.75 52.59375 71.296875 \r\nz\r\n\" id=\"DejaVuSans-54\"/>\r\n      </defs>\r\n      <g transform=\"translate(60.935057 256.636094)scale(0.1 -0.1)\">\r\n       <use xlink:href=\"#DejaVuSans-50\"/>\r\n       <use x=\"63.623047\" xlink:href=\"#DejaVuSans-48\"/>\r\n       <use x=\"127.246094\" xlink:href=\"#DejaVuSans-49\"/>\r\n       <use x=\"190.869141\" xlink:href=\"#DejaVuSans-54\"/>\r\n      </g>\r\n     </g>\r\n    </g>\r\n    <g id=\"xtick_2\">\r\n     <g id=\"line2d_2\">\r\n      <g>\r\n       <use style=\"stroke:#000000;stroke-width:0.8;\" x=\"149.750966\" xlink:href=\"#mfea9e0595c\" y=\"242.037656\"/>\r\n      </g>\r\n     </g>\r\n     <g id=\"text_2\">\r\n      <!-- 2017 -->\r\n      <defs>\r\n       <path d=\"M 8.203125 72.90625 \r\nL 55.078125 72.90625 \r\nL 55.078125 68.703125 \r\nL 28.609375 0 \r\nL 18.3125 0 \r\nL 43.21875 64.59375 \r\nL 8.203125 64.59375 \r\nz\r\n\" id=\"DejaVuSans-55\"/>\r\n      </defs>\r\n      <g transform=\"translate(137.025966 256.636094)scale(0.1 -0.1)\">\r\n       <use xlink:href=\"#DejaVuSans-50\"/>\r\n       <use x=\"63.623047\" xlink:href=\"#DejaVuSans-48\"/>\r\n       <use x=\"127.246094\" xlink:href=\"#DejaVuSans-49\"/>\r\n       <use x=\"190.869141\" xlink:href=\"#DejaVuSans-55\"/>\r\n      </g>\r\n     </g>\r\n    </g>\r\n    <g id=\"xtick_3\">\r\n     <g id=\"line2d_3\">\r\n      <g>\r\n       <use style=\"stroke:#000000;stroke-width:0.8;\" x=\"225.841875\" xlink:href=\"#mfea9e0595c\" y=\"242.037656\"/>\r\n      </g>\r\n     </g>\r\n     <g id=\"text_3\">\r\n      <!-- 2018 -->\r\n      <defs>\r\n       <path d=\"M 31.78125 34.625 \r\nQ 24.75 34.625 20.71875 30.859375 \r\nQ 16.703125 27.09375 16.703125 20.515625 \r\nQ 16.703125 13.921875 20.71875 10.15625 \r\nQ 24.75 6.390625 31.78125 6.390625 \r\nQ 38.8125 6.390625 42.859375 10.171875 \r\nQ 46.921875 13.96875 46.921875 20.515625 \r\nQ 46.921875 27.09375 42.890625 30.859375 \r\nQ 38.875 34.625 31.78125 34.625 \r\nz\r\nM 21.921875 38.8125 \r\nQ 15.578125 40.375 12.03125 44.71875 \r\nQ 8.5 49.078125 8.5 55.328125 \r\nQ 8.5 64.0625 14.71875 69.140625 \r\nQ 20.953125 74.21875 31.78125 74.21875 \r\nQ 42.671875 74.21875 48.875 69.140625 \r\nQ 55.078125 64.0625 55.078125 55.328125 \r\nQ 55.078125 49.078125 51.53125 44.71875 \r\nQ 48 40.375 41.703125 38.8125 \r\nQ 48.828125 37.15625 52.796875 32.3125 \r\nQ 56.78125 27.484375 56.78125 20.515625 \r\nQ 56.78125 9.90625 50.3125 4.234375 \r\nQ 43.84375 -1.421875 31.78125 -1.421875 \r\nQ 19.734375 -1.421875 13.25 4.234375 \r\nQ 6.78125 9.90625 6.78125 20.515625 \r\nQ 6.78125 27.484375 10.78125 32.3125 \r\nQ 14.796875 37.15625 21.921875 38.8125 \r\nz\r\nM 18.3125 54.390625 \r\nQ 18.3125 48.734375 21.84375 45.5625 \r\nQ 25.390625 42.390625 31.78125 42.390625 \r\nQ 38.140625 42.390625 41.71875 45.5625 \r\nQ 45.3125 48.734375 45.3125 54.390625 \r\nQ 45.3125 60.0625 41.71875 63.234375 \r\nQ 38.140625 66.40625 31.78125 66.40625 \r\nQ 25.390625 66.40625 21.84375 63.234375 \r\nQ 18.3125 60.0625 18.3125 54.390625 \r\nz\r\n\" id=\"DejaVuSans-56\"/>\r\n      </defs>\r\n      <g transform=\"translate(213.116875 256.636094)scale(0.1 -0.1)\">\r\n       <use xlink:href=\"#DejaVuSans-50\"/>\r\n       <use x=\"63.623047\" xlink:href=\"#DejaVuSans-48\"/>\r\n       <use x=\"127.246094\" xlink:href=\"#DejaVuSans-49\"/>\r\n       <use x=\"190.869141\" xlink:href=\"#DejaVuSans-56\"/>\r\n      </g>\r\n     </g>\r\n    </g>\r\n    <g id=\"xtick_4\">\r\n     <g id=\"line2d_4\">\r\n      <g>\r\n       <use style=\"stroke:#000000;stroke-width:0.8;\" x=\"301.932784\" xlink:href=\"#mfea9e0595c\" y=\"242.037656\"/>\r\n      </g>\r\n     </g>\r\n     <g id=\"text_4\">\r\n      <!-- 2019 -->\r\n      <defs>\r\n       <path d=\"M 10.984375 1.515625 \r\nL 10.984375 10.5 \r\nQ 14.703125 8.734375 18.5 7.8125 \r\nQ 22.3125 6.890625 25.984375 6.890625 \r\nQ 35.75 6.890625 40.890625 13.453125 \r\nQ 46.046875 20.015625 46.78125 33.40625 \r\nQ 43.953125 29.203125 39.59375 26.953125 \r\nQ 35.25 24.703125 29.984375 24.703125 \r\nQ 19.046875 24.703125 12.671875 31.3125 \r\nQ 6.296875 37.9375 6.296875 49.421875 \r\nQ 6.296875 60.640625 12.9375 67.421875 \r\nQ 19.578125 74.21875 30.609375 74.21875 \r\nQ 43.265625 74.21875 49.921875 64.515625 \r\nQ 56.59375 54.828125 56.59375 36.375 \r\nQ 56.59375 19.140625 48.40625 8.859375 \r\nQ 40.234375 -1.421875 26.421875 -1.421875 \r\nQ 22.703125 -1.421875 18.890625 -0.6875 \r\nQ 15.09375 0.046875 10.984375 1.515625 \r\nz\r\nM 30.609375 32.421875 \r\nQ 37.25 32.421875 41.125 36.953125 \r\nQ 45.015625 41.5 45.015625 49.421875 \r\nQ 45.015625 57.28125 41.125 61.84375 \r\nQ 37.25 66.40625 30.609375 66.40625 \r\nQ 23.96875 66.40625 20.09375 61.84375 \r\nQ 16.21875 57.28125 16.21875 49.421875 \r\nQ 16.21875 41.5 20.09375 36.953125 \r\nQ 23.96875 32.421875 30.609375 32.421875 \r\nz\r\n\" id=\"DejaVuSans-57\"/>\r\n      </defs>\r\n      <g transform=\"translate(289.207784 256.636094)scale(0.1 -0.1)\">\r\n       <use xlink:href=\"#DejaVuSans-50\"/>\r\n       <use x=\"63.623047\" xlink:href=\"#DejaVuSans-48\"/>\r\n       <use x=\"127.246094\" xlink:href=\"#DejaVuSans-49\"/>\r\n       <use x=\"190.869141\" xlink:href=\"#DejaVuSans-57\"/>\r\n      </g>\r\n     </g>\r\n    </g>\r\n    <g id=\"xtick_5\">\r\n     <g id=\"line2d_5\">\r\n      <g>\r\n       <use style=\"stroke:#000000;stroke-width:0.8;\" x=\"378.023693\" xlink:href=\"#mfea9e0595c\" y=\"242.037656\"/>\r\n      </g>\r\n     </g>\r\n     <g id=\"text_5\">\r\n      <!-- 2020 -->\r\n      <g transform=\"translate(365.298693 256.636094)scale(0.1 -0.1)\">\r\n       <use xlink:href=\"#DejaVuSans-50\"/>\r\n       <use x=\"63.623047\" xlink:href=\"#DejaVuSans-48\"/>\r\n       <use x=\"127.246094\" xlink:href=\"#DejaVuSans-50\"/>\r\n       <use x=\"190.869141\" xlink:href=\"#DejaVuSans-48\"/>\r\n      </g>\r\n     </g>\r\n    </g>\r\n    <g id=\"text_6\">\r\n     <!-- Years -->\r\n     <defs>\r\n      <path d=\"M -0.203125 72.90625 \r\nL 10.40625 72.90625 \r\nL 30.609375 42.921875 \r\nL 50.6875 72.90625 \r\nL 61.28125 72.90625 \r\nL 35.5 34.71875 \r\nL 35.5 0 \r\nL 25.59375 0 \r\nL 25.59375 34.71875 \r\nz\r\n\" id=\"DejaVuSans-89\"/>\r\n      <path d=\"M 56.203125 29.59375 \r\nL 56.203125 25.203125 \r\nL 14.890625 25.203125 \r\nQ 15.484375 15.921875 20.484375 11.0625 \r\nQ 25.484375 6.203125 34.421875 6.203125 \r\nQ 39.59375 6.203125 44.453125 7.46875 \r\nQ 49.3125 8.734375 54.109375 11.28125 \r\nL 54.109375 2.78125 \r\nQ 49.265625 0.734375 44.1875 -0.34375 \r\nQ 39.109375 -1.421875 33.890625 -1.421875 \r\nQ 20.796875 -1.421875 13.15625 6.1875 \r\nQ 5.515625 13.8125 5.515625 26.8125 \r\nQ 5.515625 40.234375 12.765625 48.109375 \r\nQ 20.015625 56 32.328125 56 \r\nQ 43.359375 56 49.78125 48.890625 \r\nQ 56.203125 41.796875 56.203125 29.59375 \r\nz\r\nM 47.21875 32.234375 \r\nQ 47.125 39.59375 43.09375 43.984375 \r\nQ 39.0625 48.390625 32.421875 48.390625 \r\nQ 24.90625 48.390625 20.390625 44.140625 \r\nQ 15.875 39.890625 15.1875 32.171875 \r\nz\r\n\" id=\"DejaVuSans-101\"/>\r\n      <path d=\"M 34.28125 27.484375 \r\nQ 23.390625 27.484375 19.1875 25 \r\nQ 14.984375 22.515625 14.984375 16.5 \r\nQ 14.984375 11.71875 18.140625 8.90625 \r\nQ 21.296875 6.109375 26.703125 6.109375 \r\nQ 34.1875 6.109375 38.703125 11.40625 \r\nQ 43.21875 16.703125 43.21875 25.484375 \r\nL 43.21875 27.484375 \r\nz\r\nM 52.203125 31.203125 \r\nL 52.203125 0 \r\nL 43.21875 0 \r\nL 43.21875 8.296875 \r\nQ 40.140625 3.328125 35.546875 0.953125 \r\nQ 30.953125 -1.421875 24.3125 -1.421875 \r\nQ 15.921875 -1.421875 10.953125 3.296875 \r\nQ 6 8.015625 6 15.921875 \r\nQ 6 25.140625 12.171875 29.828125 \r\nQ 18.359375 34.515625 30.609375 34.515625 \r\nL 43.21875 34.515625 \r\nL 43.21875 35.40625 \r\nQ 43.21875 41.609375 39.140625 45 \r\nQ 35.0625 48.390625 27.6875 48.390625 \r\nQ 23 48.390625 18.546875 47.265625 \r\nQ 14.109375 46.140625 10.015625 43.890625 \r\nL 10.015625 52.203125 \r\nQ 14.9375 54.109375 19.578125 55.046875 \r\nQ 24.21875 56 28.609375 56 \r\nQ 40.484375 56 46.34375 49.84375 \r\nQ 52.203125 43.703125 52.203125 31.203125 \r\nz\r\n\" id=\"DejaVuSans-97\"/>\r\n      <path d=\"M 41.109375 46.296875 \r\nQ 39.59375 47.171875 37.8125 47.578125 \r\nQ 36.03125 48 33.890625 48 \r\nQ 26.265625 48 22.1875 43.046875 \r\nQ 18.109375 38.09375 18.109375 28.8125 \r\nL 18.109375 0 \r\nL 9.078125 0 \r\nL 9.078125 54.6875 \r\nL 18.109375 54.6875 \r\nL 18.109375 46.1875 \r\nQ 20.953125 51.171875 25.484375 53.578125 \r\nQ 30.03125 56 36.53125 56 \r\nQ 37.453125 56 38.578125 55.875 \r\nQ 39.703125 55.765625 41.0625 55.515625 \r\nz\r\n\" id=\"DejaVuSans-114\"/>\r\n      <path d=\"M 44.28125 53.078125 \r\nL 44.28125 44.578125 \r\nQ 40.484375 46.53125 36.375 47.5 \r\nQ 32.28125 48.484375 27.875 48.484375 \r\nQ 21.1875 48.484375 17.84375 46.4375 \r\nQ 14.5 44.390625 14.5 40.28125 \r\nQ 14.5 37.15625 16.890625 35.375 \r\nQ 19.28125 33.59375 26.515625 31.984375 \r\nL 29.59375 31.296875 \r\nQ 39.15625 29.25 43.1875 25.515625 \r\nQ 47.21875 21.78125 47.21875 15.09375 \r\nQ 47.21875 7.46875 41.1875 3.015625 \r\nQ 35.15625 -1.421875 24.609375 -1.421875 \r\nQ 20.21875 -1.421875 15.453125 -0.5625 \r\nQ 10.6875 0.296875 5.421875 2 \r\nL 5.421875 11.28125 \r\nQ 10.40625 8.6875 15.234375 7.390625 \r\nQ 20.0625 6.109375 24.8125 6.109375 \r\nQ 31.15625 6.109375 34.5625 8.28125 \r\nQ 37.984375 10.453125 37.984375 14.40625 \r\nQ 37.984375 18.0625 35.515625 20.015625 \r\nQ 33.0625 21.96875 24.703125 23.78125 \r\nL 21.578125 24.515625 \r\nQ 13.234375 26.265625 9.515625 29.90625 \r\nQ 5.8125 33.546875 5.8125 39.890625 \r\nQ 5.8125 47.609375 11.28125 51.796875 \r\nQ 16.75 56 26.8125 56 \r\nQ 31.78125 56 36.171875 55.265625 \r\nQ 40.578125 54.546875 44.28125 53.078125 \r\nz\r\n\" id=\"DejaVuSans-115\"/>\r\n     </defs>\r\n     <g transform=\"translate(210.01125 271.833906)scale(0.12 -0.12)\">\r\n      <use xlink:href=\"#DejaVuSans-89\"/>\r\n      <use x=\"47.833984\" xlink:href=\"#DejaVuSans-101\"/>\r\n      <use x=\"109.357422\" xlink:href=\"#DejaVuSans-97\"/>\r\n      <use x=\"170.636719\" xlink:href=\"#DejaVuSans-114\"/>\r\n      <use x=\"211.75\" xlink:href=\"#DejaVuSans-115\"/>\r\n     </g>\r\n    </g>\r\n   </g>\r\n   <g id=\"matplotlib.axis_2\">\r\n    <g id=\"ytick_1\">\r\n     <g id=\"line2d_6\">\r\n      <defs>\r\n       <path d=\"M 0 0 \r\nL -3.5 0 \r\n\" id=\"m952a174557\" style=\"stroke:#000000;stroke-width:0.8;\"/>\r\n      </defs>\r\n      <g>\r\n       <use style=\"stroke:#000000;stroke-width:0.8;\" x=\"58.441875\" xlink:href=\"#m952a174557\" y=\"237.095838\"/>\r\n      </g>\r\n     </g>\r\n     <g id=\"text_7\">\r\n      <!-- 95.50 -->\r\n      <defs>\r\n       <path d=\"M 10.796875 72.90625 \r\nL 49.515625 72.90625 \r\nL 49.515625 64.59375 \r\nL 19.828125 64.59375 \r\nL 19.828125 46.734375 \r\nQ 21.96875 47.46875 24.109375 47.828125 \r\nQ 26.265625 48.1875 28.421875 48.1875 \r\nQ 40.625 48.1875 47.75 41.5 \r\nQ 54.890625 34.8125 54.890625 23.390625 \r\nQ 54.890625 11.625 47.5625 5.09375 \r\nQ 40.234375 -1.421875 26.90625 -1.421875 \r\nQ 22.3125 -1.421875 17.546875 -0.640625 \r\nQ 12.796875 0.140625 7.71875 1.703125 \r\nL 7.71875 11.625 \r\nQ 12.109375 9.234375 16.796875 8.0625 \r\nQ 21.484375 6.890625 26.703125 6.890625 \r\nQ 35.15625 6.890625 40.078125 11.328125 \r\nQ 45.015625 15.765625 45.015625 23.390625 \r\nQ 45.015625 31 40.078125 35.4375 \r\nQ 35.15625 39.890625 26.703125 39.890625 \r\nQ 22.75 39.890625 18.8125 39.015625 \r\nQ 14.890625 38.140625 10.796875 36.28125 \r\nz\r\n\" id=\"DejaVuSans-53\"/>\r\n       <path d=\"M 10.6875 12.40625 \r\nL 21 12.40625 \r\nL 21 0 \r\nL 10.6875 0 \r\nz\r\n\" id=\"DejaVuSans-46\"/>\r\n      </defs>\r\n      <g transform=\"translate(22.81375 240.895057)scale(0.1 -0.1)\">\r\n       <use xlink:href=\"#DejaVuSans-57\"/>\r\n       <use x=\"63.623047\" xlink:href=\"#DejaVuSans-53\"/>\r\n       <use x=\"127.246094\" xlink:href=\"#DejaVuSans-46\"/>\r\n       <use x=\"159.033203\" xlink:href=\"#DejaVuSans-53\"/>\r\n       <use x=\"222.65625\" xlink:href=\"#DejaVuSans-48\"/>\r\n      </g>\r\n     </g>\r\n    </g>\r\n    <g id=\"ytick_2\">\r\n     <g id=\"line2d_7\">\r\n      <g>\r\n       <use style=\"stroke:#000000;stroke-width:0.8;\" x=\"58.441875\" xlink:href=\"#m952a174557\" y=\"212.386747\"/>\r\n      </g>\r\n     </g>\r\n     <g id=\"text_8\">\r\n      <!-- 95.75 -->\r\n      <g transform=\"translate(22.81375 216.185966)scale(0.1 -0.1)\">\r\n       <use xlink:href=\"#DejaVuSans-57\"/>\r\n       <use x=\"63.623047\" xlink:href=\"#DejaVuSans-53\"/>\r\n       <use x=\"127.246094\" xlink:href=\"#DejaVuSans-46\"/>\r\n       <use x=\"159.033203\" xlink:href=\"#DejaVuSans-55\"/>\r\n       <use x=\"222.65625\" xlink:href=\"#DejaVuSans-53\"/>\r\n      </g>\r\n     </g>\r\n    </g>\r\n    <g id=\"ytick_3\">\r\n     <g id=\"line2d_8\">\r\n      <g>\r\n       <use style=\"stroke:#000000;stroke-width:0.8;\" x=\"58.441875\" xlink:href=\"#m952a174557\" y=\"187.677656\"/>\r\n      </g>\r\n     </g>\r\n     <g id=\"text_9\">\r\n      <!-- 96.00 -->\r\n      <g transform=\"translate(22.81375 191.476875)scale(0.1 -0.1)\">\r\n       <use xlink:href=\"#DejaVuSans-57\"/>\r\n       <use x=\"63.623047\" xlink:href=\"#DejaVuSans-54\"/>\r\n       <use x=\"127.246094\" xlink:href=\"#DejaVuSans-46\"/>\r\n       <use x=\"159.033203\" xlink:href=\"#DejaVuSans-48\"/>\r\n       <use x=\"222.65625\" xlink:href=\"#DejaVuSans-48\"/>\r\n      </g>\r\n     </g>\r\n    </g>\r\n    <g id=\"ytick_4\">\r\n     <g id=\"line2d_9\">\r\n      <g>\r\n       <use style=\"stroke:#000000;stroke-width:0.8;\" x=\"58.441875\" xlink:href=\"#m952a174557\" y=\"162.968565\"/>\r\n      </g>\r\n     </g>\r\n     <g id=\"text_10\">\r\n      <!-- 96.25 -->\r\n      <g transform=\"translate(22.81375 166.767784)scale(0.1 -0.1)\">\r\n       <use xlink:href=\"#DejaVuSans-57\"/>\r\n       <use x=\"63.623047\" xlink:href=\"#DejaVuSans-54\"/>\r\n       <use x=\"127.246094\" xlink:href=\"#DejaVuSans-46\"/>\r\n       <use x=\"159.033203\" xlink:href=\"#DejaVuSans-50\"/>\r\n       <use x=\"222.65625\" xlink:href=\"#DejaVuSans-53\"/>\r\n      </g>\r\n     </g>\r\n    </g>\r\n    <g id=\"ytick_5\">\r\n     <g id=\"line2d_10\">\r\n      <g>\r\n       <use style=\"stroke:#000000;stroke-width:0.8;\" x=\"58.441875\" xlink:href=\"#m952a174557\" y=\"138.259474\"/>\r\n      </g>\r\n     </g>\r\n     <g id=\"text_11\">\r\n      <!-- 96.50 -->\r\n      <g transform=\"translate(22.81375 142.058693)scale(0.1 -0.1)\">\r\n       <use xlink:href=\"#DejaVuSans-57\"/>\r\n       <use x=\"63.623047\" xlink:href=\"#DejaVuSans-54\"/>\r\n       <use x=\"127.246094\" xlink:href=\"#DejaVuSans-46\"/>\r\n       <use x=\"159.033203\" xlink:href=\"#DejaVuSans-53\"/>\r\n       <use x=\"222.65625\" xlink:href=\"#DejaVuSans-48\"/>\r\n      </g>\r\n     </g>\r\n    </g>\r\n    <g id=\"ytick_6\">\r\n     <g id=\"line2d_11\">\r\n      <g>\r\n       <use style=\"stroke:#000000;stroke-width:0.8;\" x=\"58.441875\" xlink:href=\"#m952a174557\" y=\"113.550384\"/>\r\n      </g>\r\n     </g>\r\n     <g id=\"text_12\">\r\n      <!-- 96.75 -->\r\n      <g transform=\"translate(22.81375 117.349602)scale(0.1 -0.1)\">\r\n       <use xlink:href=\"#DejaVuSans-57\"/>\r\n       <use x=\"63.623047\" xlink:href=\"#DejaVuSans-54\"/>\r\n       <use x=\"127.246094\" xlink:href=\"#DejaVuSans-46\"/>\r\n       <use x=\"159.033203\" xlink:href=\"#DejaVuSans-55\"/>\r\n       <use x=\"222.65625\" xlink:href=\"#DejaVuSans-53\"/>\r\n      </g>\r\n     </g>\r\n    </g>\r\n    <g id=\"ytick_7\">\r\n     <g id=\"line2d_12\">\r\n      <g>\r\n       <use style=\"stroke:#000000;stroke-width:0.8;\" x=\"58.441875\" xlink:href=\"#m952a174557\" y=\"88.841293\"/>\r\n      </g>\r\n     </g>\r\n     <g id=\"text_13\">\r\n      <!-- 97.00 -->\r\n      <g transform=\"translate(22.81375 92.640511)scale(0.1 -0.1)\">\r\n       <use xlink:href=\"#DejaVuSans-57\"/>\r\n       <use x=\"63.623047\" xlink:href=\"#DejaVuSans-55\"/>\r\n       <use x=\"127.246094\" xlink:href=\"#DejaVuSans-46\"/>\r\n       <use x=\"159.033203\" xlink:href=\"#DejaVuSans-48\"/>\r\n       <use x=\"222.65625\" xlink:href=\"#DejaVuSans-48\"/>\r\n      </g>\r\n     </g>\r\n    </g>\r\n    <g id=\"ytick_8\">\r\n     <g id=\"line2d_13\">\r\n      <g>\r\n       <use style=\"stroke:#000000;stroke-width:0.8;\" x=\"58.441875\" xlink:href=\"#m952a174557\" y=\"64.132202\"/>\r\n      </g>\r\n     </g>\r\n     <g id=\"text_14\">\r\n      <!-- 97.25 -->\r\n      <g transform=\"translate(22.81375 67.93142)scale(0.1 -0.1)\">\r\n       <use xlink:href=\"#DejaVuSans-57\"/>\r\n       <use x=\"63.623047\" xlink:href=\"#DejaVuSans-55\"/>\r\n       <use x=\"127.246094\" xlink:href=\"#DejaVuSans-46\"/>\r\n       <use x=\"159.033203\" xlink:href=\"#DejaVuSans-50\"/>\r\n       <use x=\"222.65625\" xlink:href=\"#DejaVuSans-53\"/>\r\n      </g>\r\n     </g>\r\n    </g>\r\n    <g id=\"ytick_9\">\r\n     <g id=\"line2d_14\">\r\n      <g>\r\n       <use style=\"stroke:#000000;stroke-width:0.8;\" x=\"58.441875\" xlink:href=\"#m952a174557\" y=\"39.423111\"/>\r\n      </g>\r\n     </g>\r\n     <g id=\"text_15\">\r\n      <!-- 97.50 -->\r\n      <g transform=\"translate(22.81375 43.22233)scale(0.1 -0.1)\">\r\n       <use xlink:href=\"#DejaVuSans-57\"/>\r\n       <use x=\"63.623047\" xlink:href=\"#DejaVuSans-55\"/>\r\n       <use x=\"127.246094\" xlink:href=\"#DejaVuSans-46\"/>\r\n       <use x=\"159.033203\" xlink:href=\"#DejaVuSans-53\"/>\r\n       <use x=\"222.65625\" xlink:href=\"#DejaVuSans-48\"/>\r\n      </g>\r\n     </g>\r\n    </g>\r\n    <g id=\"text_16\">\r\n     <!-- ATAR score -->\r\n     <defs>\r\n      <path d=\"M 34.1875 63.1875 \r\nL 20.796875 26.90625 \r\nL 47.609375 26.90625 \r\nz\r\nM 28.609375 72.90625 \r\nL 39.796875 72.90625 \r\nL 67.578125 0 \r\nL 57.328125 0 \r\nL 50.6875 18.703125 \r\nL 17.828125 18.703125 \r\nL 11.1875 0 \r\nL 0.78125 0 \r\nz\r\n\" id=\"DejaVuSans-65\"/>\r\n      <path d=\"M -0.296875 72.90625 \r\nL 61.375 72.90625 \r\nL 61.375 64.59375 \r\nL 35.5 64.59375 \r\nL 35.5 0 \r\nL 25.59375 0 \r\nL 25.59375 64.59375 \r\nL -0.296875 64.59375 \r\nz\r\n\" id=\"DejaVuSans-84\"/>\r\n      <path d=\"M 44.390625 34.1875 \r\nQ 47.5625 33.109375 50.5625 29.59375 \r\nQ 53.5625 26.078125 56.59375 19.921875 \r\nL 66.609375 0 \r\nL 56 0 \r\nL 46.6875 18.703125 \r\nQ 43.0625 26.03125 39.671875 28.421875 \r\nQ 36.28125 30.8125 30.421875 30.8125 \r\nL 19.671875 30.8125 \r\nL 19.671875 0 \r\nL 9.8125 0 \r\nL 9.8125 72.90625 \r\nL 32.078125 72.90625 \r\nQ 44.578125 72.90625 50.734375 67.671875 \r\nQ 56.890625 62.453125 56.890625 51.90625 \r\nQ 56.890625 45.015625 53.6875 40.46875 \r\nQ 50.484375 35.9375 44.390625 34.1875 \r\nz\r\nM 19.671875 64.796875 \r\nL 19.671875 38.921875 \r\nL 32.078125 38.921875 \r\nQ 39.203125 38.921875 42.84375 42.21875 \r\nQ 46.484375 45.515625 46.484375 51.90625 \r\nQ 46.484375 58.296875 42.84375 61.546875 \r\nQ 39.203125 64.796875 32.078125 64.796875 \r\nz\r\n\" id=\"DejaVuSans-82\"/>\r\n      <path id=\"DejaVuSans-32\"/>\r\n      <path d=\"M 48.78125 52.59375 \r\nL 48.78125 44.1875 \r\nQ 44.96875 46.296875 41.140625 47.34375 \r\nQ 37.3125 48.390625 33.40625 48.390625 \r\nQ 24.65625 48.390625 19.8125 42.84375 \r\nQ 14.984375 37.3125 14.984375 27.296875 \r\nQ 14.984375 17.28125 19.8125 11.734375 \r\nQ 24.65625 6.203125 33.40625 6.203125 \r\nQ 37.3125 6.203125 41.140625 7.25 \r\nQ 44.96875 8.296875 48.78125 10.40625 \r\nL 48.78125 2.09375 \r\nQ 45.015625 0.34375 40.984375 -0.53125 \r\nQ 36.96875 -1.421875 32.421875 -1.421875 \r\nQ 20.0625 -1.421875 12.78125 6.34375 \r\nQ 5.515625 14.109375 5.515625 27.296875 \r\nQ 5.515625 40.671875 12.859375 48.328125 \r\nQ 20.21875 56 33.015625 56 \r\nQ 37.15625 56 41.109375 55.140625 \r\nQ 45.0625 54.296875 48.78125 52.59375 \r\nz\r\n\" id=\"DejaVuSans-99\"/>\r\n      <path d=\"M 30.609375 48.390625 \r\nQ 23.390625 48.390625 19.1875 42.75 \r\nQ 14.984375 37.109375 14.984375 27.296875 \r\nQ 14.984375 17.484375 19.15625 11.84375 \r\nQ 23.34375 6.203125 30.609375 6.203125 \r\nQ 37.796875 6.203125 41.984375 11.859375 \r\nQ 46.1875 17.53125 46.1875 27.296875 \r\nQ 46.1875 37.015625 41.984375 42.703125 \r\nQ 37.796875 48.390625 30.609375 48.390625 \r\nz\r\nM 30.609375 56 \r\nQ 42.328125 56 49.015625 48.375 \r\nQ 55.71875 40.765625 55.71875 27.296875 \r\nQ 55.71875 13.875 49.015625 6.21875 \r\nQ 42.328125 -1.421875 30.609375 -1.421875 \r\nQ 18.84375 -1.421875 12.171875 6.21875 \r\nQ 5.515625 13.875 5.515625 27.296875 \r\nQ 5.515625 40.765625 12.171875 48.375 \r\nQ 18.84375 56 30.609375 56 \r\nz\r\n\" id=\"DejaVuSans-111\"/>\r\n     </defs>\r\n     <g transform=\"translate(16.318125 166.456406)rotate(-90)scale(0.12 -0.12)\">\r\n      <use xlink:href=\"#DejaVuSans-65\"/>\r\n      <use x=\"60.658203\" xlink:href=\"#DejaVuSans-84\"/>\r\n      <use x=\"113.992188\" xlink:href=\"#DejaVuSans-65\"/>\r\n      <use x=\"182.400391\" xlink:href=\"#DejaVuSans-82\"/>\r\n      <use x=\"251.882812\" xlink:href=\"#DejaVuSans-32\"/>\r\n      <use x=\"283.669922\" xlink:href=\"#DejaVuSans-115\"/>\r\n      <use x=\"335.769531\" xlink:href=\"#DejaVuSans-99\"/>\r\n      <use x=\"390.75\" xlink:href=\"#DejaVuSans-111\"/>\r\n      <use x=\"451.931641\" xlink:href=\"#DejaVuSans-114\"/>\r\n      <use x=\"490.794922\" xlink:href=\"#DejaVuSans-101\"/>\r\n     </g>\r\n    </g>\r\n   </g>\r\n   <g id=\"line2d_15\">\r\n    <path clip-path=\"url(#pa49233066b)\" d=\"M 73.660057 229.188929 \r\nL 149.750966 181.253293 \r\nL 225.841875 133.317656 \r\nL 301.932784 85.38202 \r\nL 378.023693 37.446384 \r\n\" style=\"fill:none;stroke:#ff0000;stroke-linecap:square;stroke-width:1.5;\"/>\r\n   </g>\r\n   <g id=\"patch_3\">\r\n    <path d=\"M 58.441875 242.037656 \r\nL 58.441875 24.597656 \r\n\" style=\"fill:none;stroke:#000000;stroke-linecap:square;stroke-linejoin:miter;stroke-width:0.8;\"/>\r\n   </g>\r\n   <g id=\"patch_4\">\r\n    <path d=\"M 393.241875 242.037656 \r\nL 393.241875 24.597656 \r\n\" style=\"fill:none;stroke:#000000;stroke-linecap:square;stroke-linejoin:miter;stroke-width:0.8;\"/>\r\n   </g>\r\n   <g id=\"patch_5\">\r\n    <path d=\"M 58.441875 242.037656 \r\nL 393.241875 242.037656 \r\n\" style=\"fill:none;stroke:#000000;stroke-linecap:square;stroke-linejoin:miter;stroke-width:0.8;\"/>\r\n   </g>\r\n   <g id=\"patch_6\">\r\n    <path d=\"M 58.441875 24.597656 \r\nL 393.241875 24.597656 \r\n\" style=\"fill:none;stroke:#000000;stroke-linecap:square;stroke-linejoin:miter;stroke-width:0.8;\"/>\r\n   </g>\r\n   <g id=\"text_17\">\r\n    <!-- y = 0.48x + -882.18 -->\r\n    <defs>\r\n     <path d=\"M 32.171875 -5.078125 \r\nQ 28.375 -14.84375 24.75 -17.8125 \r\nQ 21.140625 -20.796875 15.09375 -20.796875 \r\nL 7.90625 -20.796875 \r\nL 7.90625 -13.28125 \r\nL 13.1875 -13.28125 \r\nQ 16.890625 -13.28125 18.9375 -11.515625 \r\nQ 21 -9.765625 23.484375 -3.21875 \r\nL 25.09375 0.875 \r\nL 2.984375 54.6875 \r\nL 12.5 54.6875 \r\nL 29.59375 11.921875 \r\nL 46.6875 54.6875 \r\nL 56.203125 54.6875 \r\nz\r\n\" id=\"DejaVuSans-121\"/>\r\n     <path d=\"M 10.59375 45.40625 \r\nL 73.1875 45.40625 \r\nL 73.1875 37.203125 \r\nL 10.59375 37.203125 \r\nz\r\nM 10.59375 25.484375 \r\nL 73.1875 25.484375 \r\nL 73.1875 17.1875 \r\nL 10.59375 17.1875 \r\nz\r\n\" id=\"DejaVuSans-61\"/>\r\n     <path d=\"M 37.796875 64.3125 \r\nL 12.890625 25.390625 \r\nL 37.796875 25.390625 \r\nz\r\nM 35.203125 72.90625 \r\nL 47.609375 72.90625 \r\nL 47.609375 25.390625 \r\nL 58.015625 25.390625 \r\nL 58.015625 17.1875 \r\nL 47.609375 17.1875 \r\nL 47.609375 0 \r\nL 37.796875 0 \r\nL 37.796875 17.1875 \r\nL 4.890625 17.1875 \r\nL 4.890625 26.703125 \r\nz\r\n\" id=\"DejaVuSans-52\"/>\r\n     <path d=\"M 54.890625 54.6875 \r\nL 35.109375 28.078125 \r\nL 55.90625 0 \r\nL 45.3125 0 \r\nL 29.390625 21.484375 \r\nL 13.484375 0 \r\nL 2.875 0 \r\nL 24.125 28.609375 \r\nL 4.6875 54.6875 \r\nL 15.28125 54.6875 \r\nL 29.78125 35.203125 \r\nL 44.28125 54.6875 \r\nz\r\n\" id=\"DejaVuSans-120\"/>\r\n     <path d=\"M 46 62.703125 \r\nL 46 35.5 \r\nL 73.1875 35.5 \r\nL 73.1875 27.203125 \r\nL 46 27.203125 \r\nL 46 0 \r\nL 37.796875 0 \r\nL 37.796875 27.203125 \r\nL 10.59375 27.203125 \r\nL 10.59375 35.5 \r\nL 37.796875 35.5 \r\nL 37.796875 62.703125 \r\nz\r\n\" id=\"DejaVuSans-43\"/>\r\n     <path d=\"M 4.890625 31.390625 \r\nL 31.203125 31.390625 \r\nL 31.203125 23.390625 \r\nL 4.890625 23.390625 \r\nz\r\n\" id=\"DejaVuSans-45\"/>\r\n    </defs>\r\n    <g style=\"fill:#ff0000;\" transform=\"translate(73.660057 88.841293)scale(0.1 -0.1)\">\r\n     <use xlink:href=\"#DejaVuSans-121\"/>\r\n     <use x=\"59.179688\" xlink:href=\"#DejaVuSans-32\"/>\r\n     <use x=\"90.966797\" xlink:href=\"#DejaVuSans-61\"/>\r\n     <use x=\"174.755859\" xlink:href=\"#DejaVuSans-32\"/>\r\n     <use x=\"206.542969\" xlink:href=\"#DejaVuSans-48\"/>\r\n     <use x=\"270.166016\" xlink:href=\"#DejaVuSans-46\"/>\r\n     <use x=\"301.953125\" xlink:href=\"#DejaVuSans-52\"/>\r\n     <use x=\"365.576172\" xlink:href=\"#DejaVuSans-56\"/>\r\n     <use x=\"429.199219\" xlink:href=\"#DejaVuSans-120\"/>\r\n     <use x=\"488.378906\" xlink:href=\"#DejaVuSans-32\"/>\r\n     <use x=\"520.166016\" xlink:href=\"#DejaVuSans-43\"/>\r\n     <use x=\"603.955078\" xlink:href=\"#DejaVuSans-32\"/>\r\n     <use x=\"635.742188\" xlink:href=\"#DejaVuSans-45\"/>\r\n     <use x=\"671.826172\" xlink:href=\"#DejaVuSans-56\"/>\r\n     <use x=\"735.449219\" xlink:href=\"#DejaVuSans-56\"/>\r\n     <use x=\"799.072266\" xlink:href=\"#DejaVuSans-50\"/>\r\n     <use x=\"862.695312\" xlink:href=\"#DejaVuSans-46\"/>\r\n     <use x=\"894.482422\" xlink:href=\"#DejaVuSans-49\"/>\r\n     <use x=\"958.105469\" xlink:href=\"#DejaVuSans-56\"/>\r\n    </g>\r\n   </g>\r\n   <g id=\"text_18\">\r\n    <!-- Predicted score in 2021: 98.0 -->\r\n    <defs>\r\n     <path d=\"M 19.671875 64.796875 \r\nL 19.671875 37.40625 \r\nL 32.078125 37.40625 \r\nQ 38.96875 37.40625 42.71875 40.96875 \r\nQ 46.484375 44.53125 46.484375 51.125 \r\nQ 46.484375 57.671875 42.71875 61.234375 \r\nQ 38.96875 64.796875 32.078125 64.796875 \r\nz\r\nM 9.8125 72.90625 \r\nL 32.078125 72.90625 \r\nQ 44.34375 72.90625 50.609375 67.359375 \r\nQ 56.890625 61.8125 56.890625 51.125 \r\nQ 56.890625 40.328125 50.609375 34.8125 \r\nQ 44.34375 29.296875 32.078125 29.296875 \r\nL 19.671875 29.296875 \r\nL 19.671875 0 \r\nL 9.8125 0 \r\nz\r\n\" id=\"DejaVuSans-80\"/>\r\n     <path d=\"M 45.40625 46.390625 \r\nL 45.40625 75.984375 \r\nL 54.390625 75.984375 \r\nL 54.390625 0 \r\nL 45.40625 0 \r\nL 45.40625 8.203125 \r\nQ 42.578125 3.328125 38.25 0.953125 \r\nQ 33.9375 -1.421875 27.875 -1.421875 \r\nQ 17.96875 -1.421875 11.734375 6.484375 \r\nQ 5.515625 14.40625 5.515625 27.296875 \r\nQ 5.515625 40.1875 11.734375 48.09375 \r\nQ 17.96875 56 27.875 56 \r\nQ 33.9375 56 38.25 53.625 \r\nQ 42.578125 51.265625 45.40625 46.390625 \r\nz\r\nM 14.796875 27.296875 \r\nQ 14.796875 17.390625 18.875 11.75 \r\nQ 22.953125 6.109375 30.078125 6.109375 \r\nQ 37.203125 6.109375 41.296875 11.75 \r\nQ 45.40625 17.390625 45.40625 27.296875 \r\nQ 45.40625 37.203125 41.296875 42.84375 \r\nQ 37.203125 48.484375 30.078125 48.484375 \r\nQ 22.953125 48.484375 18.875 42.84375 \r\nQ 14.796875 37.203125 14.796875 27.296875 \r\nz\r\n\" id=\"DejaVuSans-100\"/>\r\n     <path d=\"M 9.421875 54.6875 \r\nL 18.40625 54.6875 \r\nL 18.40625 0 \r\nL 9.421875 0 \r\nz\r\nM 9.421875 75.984375 \r\nL 18.40625 75.984375 \r\nL 18.40625 64.59375 \r\nL 9.421875 64.59375 \r\nz\r\n\" id=\"DejaVuSans-105\"/>\r\n     <path d=\"M 18.3125 70.21875 \r\nL 18.3125 54.6875 \r\nL 36.8125 54.6875 \r\nL 36.8125 47.703125 \r\nL 18.3125 47.703125 \r\nL 18.3125 18.015625 \r\nQ 18.3125 11.328125 20.140625 9.421875 \r\nQ 21.96875 7.515625 27.59375 7.515625 \r\nL 36.8125 7.515625 \r\nL 36.8125 0 \r\nL 27.59375 0 \r\nQ 17.1875 0 13.234375 3.875 \r\nQ 9.28125 7.765625 9.28125 18.015625 \r\nL 9.28125 47.703125 \r\nL 2.6875 47.703125 \r\nL 2.6875 54.6875 \r\nL 9.28125 54.6875 \r\nL 9.28125 70.21875 \r\nz\r\n\" id=\"DejaVuSans-116\"/>\r\n     <path d=\"M 54.890625 33.015625 \r\nL 54.890625 0 \r\nL 45.90625 0 \r\nL 45.90625 32.71875 \r\nQ 45.90625 40.484375 42.875 44.328125 \r\nQ 39.84375 48.1875 33.796875 48.1875 \r\nQ 26.515625 48.1875 22.3125 43.546875 \r\nQ 18.109375 38.921875 18.109375 30.90625 \r\nL 18.109375 0 \r\nL 9.078125 0 \r\nL 9.078125 54.6875 \r\nL 18.109375 54.6875 \r\nL 18.109375 46.1875 \r\nQ 21.34375 51.125 25.703125 53.5625 \r\nQ 30.078125 56 35.796875 56 \r\nQ 45.21875 56 50.046875 50.171875 \r\nQ 54.890625 44.34375 54.890625 33.015625 \r\nz\r\n\" id=\"DejaVuSans-110\"/>\r\n     <path d=\"M 11.71875 12.40625 \r\nL 22.015625 12.40625 \r\nL 22.015625 0 \r\nL 11.71875 0 \r\nz\r\nM 11.71875 51.703125 \r\nL 22.015625 51.703125 \r\nL 22.015625 39.3125 \r\nL 11.71875 39.3125 \r\nz\r\n\" id=\"DejaVuSans-58\"/>\r\n    </defs>\r\n    <g style=\"fill:#0000ff;\" transform=\"translate(73.660057 64.132202)scale(0.12 -0.12)\">\r\n     <use xlink:href=\"#DejaVuSans-80\"/>\r\n     <use x=\"58.552734\" xlink:href=\"#DejaVuSans-114\"/>\r\n     <use x=\"97.416016\" xlink:href=\"#DejaVuSans-101\"/>\r\n     <use x=\"158.939453\" xlink:href=\"#DejaVuSans-100\"/>\r\n     <use x=\"222.416016\" xlink:href=\"#DejaVuSans-105\"/>\r\n     <use x=\"250.199219\" xlink:href=\"#DejaVuSans-99\"/>\r\n     <use x=\"305.179688\" xlink:href=\"#DejaVuSans-116\"/>\r\n     <use x=\"344.388672\" xlink:href=\"#DejaVuSans-101\"/>\r\n     <use x=\"405.912109\" xlink:href=\"#DejaVuSans-100\"/>\r\n     <use x=\"469.388672\" xlink:href=\"#DejaVuSans-32\"/>\r\n     <use x=\"501.175781\" xlink:href=\"#DejaVuSans-115\"/>\r\n     <use x=\"553.275391\" xlink:href=\"#DejaVuSans-99\"/>\r\n     <use x=\"608.255859\" xlink:href=\"#DejaVuSans-111\"/>\r\n     <use x=\"669.4375\" xlink:href=\"#DejaVuSans-114\"/>\r\n     <use x=\"708.300781\" xlink:href=\"#DejaVuSans-101\"/>\r\n     <use x=\"769.824219\" xlink:href=\"#DejaVuSans-32\"/>\r\n     <use x=\"801.611328\" xlink:href=\"#DejaVuSans-105\"/>\r\n     <use x=\"829.394531\" xlink:href=\"#DejaVuSans-110\"/>\r\n     <use x=\"892.773438\" xlink:href=\"#DejaVuSans-32\"/>\r\n     <use x=\"924.560547\" xlink:href=\"#DejaVuSans-50\"/>\r\n     <use x=\"988.183594\" xlink:href=\"#DejaVuSans-48\"/>\r\n     <use x=\"1051.806641\" xlink:href=\"#DejaVuSans-50\"/>\r\n     <use x=\"1115.429688\" xlink:href=\"#DejaVuSans-49\"/>\r\n     <use x=\"1179.052734\" xlink:href=\"#DejaVuSans-58\"/>\r\n     <use x=\"1212.744141\" xlink:href=\"#DejaVuSans-32\"/>\r\n     <use x=\"1244.53125\" xlink:href=\"#DejaVuSans-57\"/>\r\n     <use x=\"1308.154297\" xlink:href=\"#DejaVuSans-56\"/>\r\n     <use x=\"1371.777344\" xlink:href=\"#DejaVuSans-46\"/>\r\n     <use x=\"1403.564453\" xlink:href=\"#DejaVuSans-48\"/>\r\n    </g>\r\n   </g>\r\n   <g id=\"text_19\">\r\n    <!-- Perth Modern School -->\r\n    <defs>\r\n     <path d=\"M 54.890625 33.015625 \r\nL 54.890625 0 \r\nL 45.90625 0 \r\nL 45.90625 32.71875 \r\nQ 45.90625 40.484375 42.875 44.328125 \r\nQ 39.84375 48.1875 33.796875 48.1875 \r\nQ 26.515625 48.1875 22.3125 43.546875 \r\nQ 18.109375 38.921875 18.109375 30.90625 \r\nL 18.109375 0 \r\nL 9.078125 0 \r\nL 9.078125 75.984375 \r\nL 18.109375 75.984375 \r\nL 18.109375 46.1875 \r\nQ 21.34375 51.125 25.703125 53.5625 \r\nQ 30.078125 56 35.796875 56 \r\nQ 45.21875 56 50.046875 50.171875 \r\nQ 54.890625 44.34375 54.890625 33.015625 \r\nz\r\n\" id=\"DejaVuSans-104\"/>\r\n     <path d=\"M 9.8125 72.90625 \r\nL 24.515625 72.90625 \r\nL 43.109375 23.296875 \r\nL 61.8125 72.90625 \r\nL 76.515625 72.90625 \r\nL 76.515625 0 \r\nL 66.890625 0 \r\nL 66.890625 64.015625 \r\nL 48.09375 14.015625 \r\nL 38.1875 14.015625 \r\nL 19.390625 64.015625 \r\nL 19.390625 0 \r\nL 9.8125 0 \r\nz\r\n\" id=\"DejaVuSans-77\"/>\r\n     <path d=\"M 53.515625 70.515625 \r\nL 53.515625 60.890625 \r\nQ 47.90625 63.578125 42.921875 64.890625 \r\nQ 37.9375 66.21875 33.296875 66.21875 \r\nQ 25.25 66.21875 20.875 63.09375 \r\nQ 16.5 59.96875 16.5 54.203125 \r\nQ 16.5 49.359375 19.40625 46.890625 \r\nQ 22.3125 44.4375 30.421875 42.921875 \r\nL 36.375 41.703125 \r\nQ 47.40625 39.59375 52.65625 34.296875 \r\nQ 57.90625 29 57.90625 20.125 \r\nQ 57.90625 9.515625 50.796875 4.046875 \r\nQ 43.703125 -1.421875 29.984375 -1.421875 \r\nQ 24.8125 -1.421875 18.96875 -0.25 \r\nQ 13.140625 0.921875 6.890625 3.21875 \r\nL 6.890625 13.375 \r\nQ 12.890625 10.015625 18.65625 8.296875 \r\nQ 24.421875 6.59375 29.984375 6.59375 \r\nQ 38.421875 6.59375 43.015625 9.90625 \r\nQ 47.609375 13.234375 47.609375 19.390625 \r\nQ 47.609375 24.75 44.3125 27.78125 \r\nQ 41.015625 30.8125 33.5 32.328125 \r\nL 27.484375 33.5 \r\nQ 16.453125 35.6875 11.515625 40.375 \r\nQ 6.59375 45.0625 6.59375 53.421875 \r\nQ 6.59375 63.09375 13.40625 68.65625 \r\nQ 20.21875 74.21875 32.171875 74.21875 \r\nQ 37.3125 74.21875 42.625 73.28125 \r\nQ 47.953125 72.359375 53.515625 70.515625 \r\nz\r\n\" id=\"DejaVuSans-83\"/>\r\n     <path d=\"M 9.421875 75.984375 \r\nL 18.40625 75.984375 \r\nL 18.40625 0 \r\nL 9.421875 0 \r\nz\r\n\" id=\"DejaVuSans-108\"/>\r\n    </defs>\r\n    <g transform=\"translate(148.391484 18.597656)scale(0.15 -0.15)\">\r\n     <use xlink:href=\"#DejaVuSans-80\"/>\r\n     <use x=\"56.677734\" xlink:href=\"#DejaVuSans-101\"/>\r\n     <use x=\"118.201172\" xlink:href=\"#DejaVuSans-114\"/>\r\n     <use x=\"159.314453\" xlink:href=\"#DejaVuSans-116\"/>\r\n     <use x=\"198.523438\" xlink:href=\"#DejaVuSans-104\"/>\r\n     <use x=\"261.902344\" xlink:href=\"#DejaVuSans-32\"/>\r\n     <use x=\"293.689453\" xlink:href=\"#DejaVuSans-77\"/>\r\n     <use x=\"379.96875\" xlink:href=\"#DejaVuSans-111\"/>\r\n     <use x=\"441.150391\" xlink:href=\"#DejaVuSans-100\"/>\r\n     <use x=\"504.626953\" xlink:href=\"#DejaVuSans-101\"/>\r\n     <use x=\"566.150391\" xlink:href=\"#DejaVuSans-114\"/>\r\n     <use x=\"605.513672\" xlink:href=\"#DejaVuSans-110\"/>\r\n     <use x=\"668.892578\" xlink:href=\"#DejaVuSans-32\"/>\r\n     <use x=\"700.679688\" xlink:href=\"#DejaVuSans-83\"/>\r\n     <use x=\"764.15625\" xlink:href=\"#DejaVuSans-99\"/>\r\n     <use x=\"819.136719\" xlink:href=\"#DejaVuSans-104\"/>\r\n     <use x=\"882.515625\" xlink:href=\"#DejaVuSans-111\"/>\r\n     <use x=\"943.697266\" xlink:href=\"#DejaVuSans-111\"/>\r\n     <use x=\"1004.878906\" xlink:href=\"#DejaVuSans-108\"/>\r\n    </g>\r\n   </g>\r\n  </g>\r\n </g>\r\n <defs>\r\n  <clipPath id=\"pa49233066b\">\r\n   <rect height=\"217.44\" width=\"334.8\" x=\"58.441875\" y=\"24.597656\"/>\r\n  </clipPath>\r\n </defs>\r\n</svg>\r\n",
      "image/png": "[encoded data removed]"
     },
     "metadata": {
      "needs_background": "light"
     }
    }
   ],
   "source": [
    "# Perth Modern School linear regression & prediction score in 2021\n",
    "x_values = df_2020[\"Year\"]\n",
    "y_values = df_2020[\"Score\"]\n",
    "year_count = df_2020[\"Year\"]\n",
    "predict_year = 2021\n",
    "plt.scatter(x_values, y_values)\n",
    "plt.xticks(year_count)\n",
    "slope, intercept, r_value, p_value, std_err = st.linregress(x_values, y_values)\n",
    "regress_values = x_values * slope + intercept\n",
    "line_eq = \"y = \" + str(round(slope,2)) + \"x + \" + str(round(intercept,2))\n",
    "plt.plot(x_values, regress_values, \"r-\")\n",
    "predicted_2021 = round(slope * predict_year + intercept,2)\n",
    "plt.annotate(line_eq,(2016, 97),fontsize=10,color=\"red\")  \n",
    "plt.annotate(f\"Predicted score in 2021: {predicted_2021}\", (2016, 97.25), fontsize=12, color=\"blue\")\n",
    "plt.xlabel(\"Years\", fontsize = 12)\n",
    "plt.ylabel(\"ATAR score\", fontsize = 12)\n",
    "plt.title(\"Perth Modern School\", fontsize = 15)\n",
    "plt.show()"
   ]
  }
 ]
}